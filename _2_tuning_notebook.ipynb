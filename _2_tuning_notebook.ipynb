{
 "cells": [
  {
   "cell_type": "markdown",
   "metadata": {},
   "source": [
    "##### Imports"
   ]
  },
  {
   "cell_type": "code",
   "execution_count": null,
   "metadata": {},
   "outputs": [],
   "source": [
    "import sys\n",
    "from pathlib import Path\n",
    "import warnings\n",
    "\n",
    "import warnings\n",
    "import pandas as pd\n",
    "warnings.filterwarnings('ignore')\n",
    "\n",
    "pd.set_option('display.max_columns', 1000)\n",
    "pd.set_option('display.max_rows', 1000)\n",
    "\n",
    "import sys\n",
    "# Custom library paths\n",
    "sys.path.extend(['../', './scr'])\n",
    "\n",
    "from scr.utils import set_seed\n",
    "from scr.utils import read_words\n",
    "from pathlib import Path\n",
    "import random\n",
    "from collections import Counter, defaultdict\n",
    "import pickle\n",
    "from tqdm import tqdm\n",
    "from torch.utils.data import Dataset\n",
    "\n",
    "from scr.utils import read_words, save_words_to_file\n",
    "\n",
    "import pickle\n",
    "from pathlib import Path\n",
    "from scr.dataset import *\n",
    "from scr.utils import *\n",
    "# # For inference\n",
    "from scr.feature_engineering import *\n",
    "from scr.encoder import *\n",
    "from scr.trainer_ import *\n",
    "from scr.decoder import SimpleLSTM\n",
    "\n",
    "import gc\n",
    "\n",
    "set_seed(42)\n",
    "\n",
    "import torch\n",
    "import torch.nn as nn\n",
    "from pathlib import Path\n",
    "import random\n",
    "\n",
    "from scr.utils import print_scenarios\n",
    "torch.set_float32_matmul_precision('medium')\n",
    "from pathlib import Path\n",
    "\n",
    "# Device configuration\n",
    "device = torch.device(\"cuda\" if torch.cuda.is_available() else \"cpu\")\n",
    "\n",
    "# # Read and Shuffle Word List\n",
    "word_list = read_words('data/words_250000_train.txt') # , limit=10000)\n",
    "# word_list = read_words('data/250k.txt', limit=10000)\n",
    "\n",
    "random.shuffle(word_list)\n",
    "\n",
    "# Calculate Frequencies and Max Word Length\n",
    "word_frequencies = calculate_word_frequencies(word_list)\n",
    "char_frequency = calculate_char_frequencies(word_list)\n",
    "max_word_length = max(len(word) for word in word_list)"
   ]
  },
  {
   "cell_type": "markdown",
   "metadata": {},
   "source": [
    "##### Data Dir"
   ]
  },
  {
   "cell_type": "code",
   "execution_count": null,
   "metadata": {},
   "outputs": [],
   "source": [
    "NUM_STRATIFIED_SAMPLES = 5_000 # This will be overwritten by Papermill\n",
    "\n",
    "NUM_WORD_SAMPLE = 1_000 # words for testing\n",
    "\n",
    "FAST_DEV_RUN = False\n",
    "\n",
    "MAX_EPOCH = 250"
   ]
  },
  {
   "cell_type": "code",
   "execution_count": null,
   "metadata": {},
   "outputs": [],
   "source": [
    "from pathlib import Path\n",
    "from scr.custom_sampler import *\n",
    "\n",
    "# Define the base directory and the paths for training and validation parquet files\n",
    "base_dataset_dir = Path(\"/media/sayem/510B93E12554BBD1/dataset/\")\n",
    "stratified_samples_dir = base_dataset_dir / str(NUM_STRATIFIED_SAMPLES)\n",
    "parquet_path = stratified_samples_dir / 'parquets'\n",
    "\n",
    "# Create directories for train and validation parquets if they don't exist\n",
    "parquet_path.mkdir(parents=True, exist_ok=True)\n",
    "# parquet_valid_path.mkdir(parents=True, exist_ok=True)\n",
    "\n",
    "# Define and create the directory for models\n",
    "models_dir = Path(\"/home/sayem/Desktop/Hangman/models\")\n",
    "models_dir.mkdir(parents=True, exist_ok=True)\n",
    "\n",
    "# Define your output directory\n",
    "# Define your output directory and logger directory\n",
    "output_dir = Path(\"/home/sayem/Desktop/Hangman/training_outputs\")\n",
    "logger_dir = output_dir / \"lightning_logs\"\n",
    "\n",
    "# Create the output and logger directories if they don't exist\n",
    "output_dir.mkdir(parents=True, exist_ok=True)\n",
    "logger_dir.mkdir(parents=True, exist_ok=True)\n",
    "\n",
    "# Define the file path for saving the testing words\n",
    "testing_words_file_path = stratified_samples_dir / \"testing_words.txt\"\n",
    "\n",
    "try:\n",
    "    testing_word_list = read_words(testing_words_file_path)\n",
    "    print(f\"Length of the testing word list: {len(testing_word_list)}\")\n",
    "    sampled_test_words = stratified_sample_by_length_and_uniqueness(testing_word_list, NUM_WORD_SAMPLE)\n",
    "    print(f\"Sampled {len(sampled_test_words)} unique words for testing.\")\n",
    "except FileNotFoundError:\n",
    "    print(f\"File not found: {testing_words_file_path}\")\n",
    "\n",
    "print(len(sampled_test_words))"
   ]
  },
  {
   "cell_type": "markdown",
   "metadata": {},
   "source": [
    "##### Dataset Loading and train test split"
   ]
  },
  {
   "cell_type": "code",
   "execution_count": null,
   "metadata": {},
   "outputs": [],
   "source": [
    "# Create datasets directly from the saved parquet files\n",
    "hangman_dataset = HangmanDataset(parquet_path)\n",
    "# valid_dataset = HangmanDataset(parquet_valid_path)\n",
    "\n",
    "from scr.utils import *\n",
    "\n",
    "# Split the dataset into training and validation sets\n",
    "train_dataset, valid_dataset = hangman_dataset.split(test_size=0.2)"
   ]
  },
  {
   "cell_type": "code",
   "execution_count": null,
   "metadata": {},
   "outputs": [],
   "source": [
    "def check_seq_len_distribution(dataset):\n",
    "    distribution = {}\n",
    "    for seq_len, indices in dataset.seq_len_index.items():\n",
    "        distribution[seq_len] = len(indices)\n",
    "    return distribution\n",
    "\n",
    "def check_seq_len_distribution(dataset):\n",
    "    distribution = {}\n",
    "    for seq_len, indices in dataset.seq_len_index.items():\n",
    "        distribution[seq_len] = len(indices)\n",
    "    return distribution\n",
    "\n",
    "# Check proportions\n",
    "print(f\"Total samples in original dataset: {len(hangman_dataset)}\")\n",
    "print(f\"Samples in training dataset: {len(train_dataset)}\")\n",
    "print(f\"Samples in validation dataset: {len(valid_dataset)}\")\n",
    "\n",
    "# Verify that the sum of train and validation samples equals the total samples\n",
    "assert len(train_dataset) + len(valid_dataset) == len(hangman_dataset), \"Mismatch in total sample count\"\n",
    "\n",
    "# Check sequence length distribution in each dataset\n",
    "train_distribution = check_seq_len_distribution(train_dataset)\n",
    "valid_distribution = check_seq_len_distribution(valid_dataset)\n",
    "\n",
    "print(\"Training dataset sequence length distribution:\", train_distribution)\n",
    "print(\"Validation dataset sequence length distribution:\", valid_distribution)\n",
    "\n",
    "# Ensure each sequence length is represented in both datasets\n",
    "assert set(train_distribution.keys()) == set(valid_distribution.keys()), \"Mismatch in sequence length representation\""
   ]
  },
  {
   "cell_type": "code",
   "execution_count": null,
   "metadata": {},
   "outputs": [],
   "source": [
    "def count_unique_seq_lens(dataset):\n",
    "    # Count the unique sequence lengths in the dataset\n",
    "    unique_seq_lens = len(dataset.seq_len_index)\n",
    "    return unique_seq_lens\n",
    "\n",
    "train_unique_seq_lens = count_unique_seq_lens(train_dataset)\n",
    "valid_unique_seq_lens = count_unique_seq_lens(valid_dataset)\n",
    "\n",
    "print(f\"Unique sequence lengths in training dataset: {train_unique_seq_lens}\")\n",
    "print(f\"Unique sequence lengths in validation dataset: {valid_unique_seq_lens}\")"
   ]
  },
  {
   "cell_type": "markdown",
   "metadata": {},
   "source": [
    "##### Model Initialization"
   ]
  },
  {
   "cell_type": "code",
   "execution_count": null,
   "metadata": {},
   "outputs": [],
   "source": [
    "# Fixed parameters\n",
    "max_word_length = 29  # Maximum word length\n",
    "num_embeddings = 28   # Vocabulary size (fixed, based on unique characters in the game)\n",
    "num_features = 159     # Number of features per character\n",
    "missed_char_dim = 28  # Additional dimension for missed characters\n",
    "output_dim = 28       # Output dimension for the model\n",
    "char_feature_dim = 5  # Features per character\n",
    "additional_state_features = num_features \\\n",
    "    - max_word_length * char_feature_dim   # Additional features per state\n",
    "\n",
    "\n",
    "# Tunable hyperparameters\n",
    "LEARNING_RATE = 0.0009279463391755308\n",
    "HIDDEN_DIM = 32 ### 32\n",
    "NUM_LAYERS = 1\n",
    "EMBEDDING_DIM = 50\n",
    "DROPOUT_PROB = 0.33\n",
    "\n",
    "L1_FACTOR = 0.0005236754641745983\n",
    "L2_FACTOR = 0.004375162823431166\n",
    "\n",
    "OPTIMIZER = 'RMSprop'\n",
    "\n",
    "print(f\"Addition state fetatures: {additional_state_features}\")\n",
    "# Initialize the Encoder\n",
    "\n",
    "encoder = Encoder(num_embeddings, EMBEDDING_DIM, max_word_length, \\\n",
    "    char_feature_dim, additional_state_features)\n",
    "\n",
    "input_dim = max_word_length * EMBEDDING_DIM + additional_state_features\n",
    "# Initialize the SimpleLSTM decoder\n",
    "decoder = SimpleLSTM(input_dim=input_dim, \n",
    "                     hidden_dim=HIDDEN_DIM, \n",
    "                     output_dim=output_dim, \n",
    "                     num_layers=NUM_LAYERS,\n",
    "                     missed_char_dim=missed_char_dim,\n",
    "                     dropout_prob=DROPOUT_PROB)\n",
    "\n",
    "\n",
    "# Initialize the HangmanModel\n",
    "lightning_model = HangmanModel(encoder, decoder, \n",
    "                LEARNING_RATE, char_frequency, \n",
    "                max_word_length, optimizer_type=OPTIMIZER, \\\n",
    "                l1_factor=L1_FACTOR,\n",
    "                l2_factor=L2_FACTOR, test_words=sampled_test_words)\n",
    "\n",
    "# Save the model's state dictionary\n",
    "untrained_model_file = models_dir / f\"{NUM_STRATIFIED_SAMPLES}_untrained_model.pth\"\n",
    "torch.save(lightning_model, untrained_model_file)\n",
    "print(f\"Model saved at {untrained_model_file}\")"
   ]
  },
  {
   "cell_type": "markdown",
   "metadata": {},
   "source": [
    "##### Data Module"
   ]
  },
  {
   "cell_type": "code",
   "execution_count": null,
   "metadata": {},
   "outputs": [],
   "source": [
    "from scr.data_module import *\n",
    "\n",
    "# Initialize Data Module\n",
    "initial_batch_size = 128 # Set your initial batch size\n",
    "\n",
    "# Initialize Data Module with the required arguments\n",
    "data_module = HangmanDataModule(train_dataset, valid_dataset, \n",
    "                                initial_batch_size, \n",
    "                                custom_collate_fn)\n",
    "                                # performance_metrics=None)"
   ]
  },
  {
   "cell_type": "markdown",
   "metadata": {},
   "source": [
    "##### Tuning the Model"
   ]
  },
  {
   "cell_type": "code",
   "execution_count": null,
   "metadata": {},
   "outputs": [],
   "source": [
    "## callbacks\n",
    "from pytorch_lightning.callbacks import Callback, EarlyStopping\n",
    "from scr.custom_callbacks import *\n",
    "\n",
    "# Setup EarlyStopping to monitor the test_win_rate\n",
    "early_stop_callback = EarlyStopping(\n",
    "    monitor='win_rate',\n",
    "    min_delta=0.00,\n",
    "    patience=15,\n",
    "    verbose=True,\n",
    "    mode='max'  # Maximize the win rate\n",
    ")\n",
    "\n",
    "step_level_early_stopping = StepLevelEarlyStopping(\n",
    "    monitor='val_miss_penalty', # Metric to monitor\n",
    "    min_delta=0.0,              # Minimum change to qualify as an improvement\n",
    "    patience=5                  # Number of steps with no improvement after which training will be stopped\n",
    ")"
   ]
  },
  {
   "cell_type": "code",
   "execution_count": 10,
   "metadata": {},
   "outputs": [
    {
     "data": {
      "application/vnd.jupyter.widget-view+json": {
       "model_id": "2a79753755d14042b6bde699541d3509",
       "version_major": 2,
       "version_minor": 0
      },
      "text/plain": [
       "Validation: |          | 0/? [00:00<?, ?it/s]"
      ]
     },
     "metadata": {},
     "output_type": "display_data"
    },
    {
     "data": {
      "application/vnd.jupyter.widget-view+json": {
       "model_id": "0db70d73a77c46af941f54426bd06f5d",
       "version_major": 2,
       "version_minor": 0
      },
      "text/plain": [
       "Processing words:   0%|          | 0/1085 [00:00<?, ?word/s]"
      ]
     },
     "metadata": {},
     "output_type": "display_data"
    },
    {
     "name": "stderr",
     "output_type": "stream",
     "text": [
      "Monitored metric win_rate did not improve in the last 156 records. Best score: 16.774. Signaling Trainer to stop.\n"
     ]
    },
    {
     "name": "stdout",
     "output_type": "stream",
     "text": [
      "Plot saved to /home/sayem/Desktop/Hangman/plots/win_rates_plot_epoch_0_2024-02-02_06-32-05.png\n"
     ]
    },
    {
     "name": "stderr",
     "output_type": "stream",
     "text": [
      "[I 2024-02-02 06:32:06,214] Trial 141 finished with value: 16.774192810058594 and parameters: {'learning_rate': 0.006961665862633315, 'batch_size': 1024, 'hidden_dim': 128, 'num_layers': 1, 'embedding_dim': 20, 'optimizer_type': 'RMSprop', 'dropout_prob': 0.13256795857046738, 'l1_factor': 2.518264388598221e-05, 'l2_factor': 4.93459768183141e-05}. Best is trial 0 with value: 16.774192810058594.\n",
      "GPU available: True (cuda), used: True\n",
      "TPU available: False, using: 0 TPU cores\n",
      "IPU available: False, using: 0 IPUs\n",
      "HPU available: False, using: 0 HPUs\n",
      "LOCAL_RANK: 0 - CUDA_VISIBLE_DEVICES: [0]\n",
      "\n",
      "  | Name    | Type       | Params\n",
      "---------------------------------------\n",
      "0 | encoder | Encoder    | 560   \n",
      "1 | decoder | SimpleLSTM | 1.6 M \n",
      "---------------------------------------\n",
      "1.6 M     Trainable params\n",
      "0         Non-trainable params\n",
      "1.6 M     Total params\n",
      "6.216     Total estimated model params size (MB)\n"
     ]
    },
    {
     "name": "stdout",
     "output_type": "stream",
     "text": [
      "Trial 141 finished with value: 16.774192810058594 and parameters: {'learning_rate': 0.006961665862633315, 'batch_size': 1024, 'hidden_dim': 128, 'num_layers': 1, 'embedding_dim': 20, 'optimizer_type': 'RMSprop', 'dropout_prob': 0.13256795857046738, 'l1_factor': 2.518264388598221e-05, 'l2_factor': 4.93459768183141e-05}.\n",
      " Best trial so far: Trial 0\n",
      " Best win rate so far: 16.774192810058594\n",
      "Starting trial with parameters:\n",
      "  Learning Rate: 0.009861870777627738\n",
      "  Batch Size: 1024\n",
      "  Hidden Dim: 128\n",
      "  Num Layers: 3\n",
      "  Embedding Dim: 20\n",
      "  Optimizer Type: RMSprop\n",
      "  Dropout Prob: 0.11606118560956237\n",
      "  L1 Factor: 4.444968331262646e-05\n",
      "  L2 Factor: 1.9395885665362768e-05\n"
     ]
    },
    {
     "data": {
      "application/vnd.jupyter.widget-view+json": {
       "model_id": "bb181c05e7744b6da2a0541f6ca697f3",
       "version_major": 2,
       "version_minor": 0
      },
      "text/plain": [
       "Training: |          | 0/? [00:00<?, ?it/s]"
      ]
     },
     "metadata": {},
     "output_type": "display_data"
    },
    {
     "data": {
      "application/vnd.jupyter.widget-view+json": {
       "model_id": "56c10bacff88423a8eab12412f138820",
       "version_major": 2,
       "version_minor": 0
      },
      "text/plain": [
       "Validation: |          | 0/? [00:00<?, ?it/s]"
      ]
     },
     "metadata": {},
     "output_type": "display_data"
    },
    {
     "data": {
      "application/vnd.jupyter.widget-view+json": {
       "model_id": "020cde16a655494a85cfec7337508c51",
       "version_major": 2,
       "version_minor": 0
      },
      "text/plain": [
       "Processing words:   0%|          | 0/1085 [00:00<?, ?word/s]"
      ]
     },
     "metadata": {},
     "output_type": "display_data"
    },
    {
     "name": "stderr",
     "output_type": "stream",
     "text": [
      "Monitored metric win_rate did not improve in the last 157 records. Best score: 16.774. Signaling Trainer to stop.\n"
     ]
    },
    {
     "name": "stdout",
     "output_type": "stream",
     "text": [
      "Plot saved to /home/sayem/Desktop/Hangman/plots/win_rates_plot_epoch_0_2024-02-02_06-34-40.png\n"
     ]
    },
    {
     "name": "stderr",
     "output_type": "stream",
     "text": [
      "[I 2024-02-02 06:34:40,915] Trial 142 finished with value: 16.774192810058594 and parameters: {'learning_rate': 0.009861870777627738, 'batch_size': 1024, 'hidden_dim': 128, 'num_layers': 3, 'embedding_dim': 20, 'optimizer_type': 'RMSprop', 'dropout_prob': 0.11606118560956237, 'l1_factor': 4.444968331262646e-05, 'l2_factor': 1.9395885665362768e-05}. Best is trial 0 with value: 16.774192810058594.\n",
      "GPU available: True (cuda), used: True\n",
      "TPU available: False, using: 0 TPU cores\n",
      "IPU available: False, using: 0 IPUs\n",
      "HPU available: False, using: 0 HPUs\n",
      "LOCAL_RANK: 0 - CUDA_VISIBLE_DEVICES: [0]\n",
      "\n",
      "  | Name    | Type       | Params\n",
      "---------------------------------------\n",
      "0 | encoder | Encoder    | 560   \n",
      "1 | decoder | SimpleLSTM | 763 K \n",
      "---------------------------------------\n",
      "763 K     Trainable params\n",
      "0         Non-trainable params\n",
      "763 K     Total params\n",
      "3.054     Total estimated model params size (MB)\n"
     ]
    },
    {
     "name": "stdout",
     "output_type": "stream",
     "text": [
      "Trial 142 finished with value: 16.774192810058594 and parameters: {'learning_rate': 0.009861870777627738, 'batch_size': 1024, 'hidden_dim': 128, 'num_layers': 3, 'embedding_dim': 20, 'optimizer_type': 'RMSprop', 'dropout_prob': 0.11606118560956237, 'l1_factor': 4.444968331262646e-05, 'l2_factor': 1.9395885665362768e-05}.\n",
      " Best trial so far: Trial 0\n",
      " Best win rate so far: 16.774192810058594\n",
      "Starting trial with parameters:\n",
      "  Learning Rate: 0.016433788579504584\n",
      "  Batch Size: 1024\n",
      "  Hidden Dim: 128\n",
      "  Num Layers: 1\n",
      "  Embedding Dim: 20\n",
      "  Optimizer Type: RMSprop\n",
      "  Dropout Prob: 0.09650337803453213\n",
      "  L1 Factor: 3.8544596680492025e-05\n",
      "  L2 Factor: 8.996839502384515e-05\n"
     ]
    },
    {
     "data": {
      "application/vnd.jupyter.widget-view+json": {
       "model_id": "fdbc8999756f4fd682b925c3faa835b9",
       "version_major": 2,
       "version_minor": 0
      },
      "text/plain": [
       "Training: |          | 0/? [00:00<?, ?it/s]"
      ]
     },
     "metadata": {},
     "output_type": "display_data"
    },
    {
     "data": {
      "application/vnd.jupyter.widget-view+json": {
       "model_id": "f4ad9ffec501475188d482a1215c87f6",
       "version_major": 2,
       "version_minor": 0
      },
      "text/plain": [
       "Validation: |          | 0/? [00:00<?, ?it/s]"
      ]
     },
     "metadata": {},
     "output_type": "display_data"
    },
    {
     "data": {
      "application/vnd.jupyter.widget-view+json": {
       "model_id": "f4dda2e5ad664198bdc22ff46c62fc6c",
       "version_major": 2,
       "version_minor": 0
      },
      "text/plain": [
       "Processing words:   0%|          | 0/1085 [00:00<?, ?word/s]"
      ]
     },
     "metadata": {},
     "output_type": "display_data"
    },
    {
     "name": "stderr",
     "output_type": "stream",
     "text": [
      "Monitored metric win_rate did not improve in the last 158 records. Best score: 16.774. Signaling Trainer to stop.\n"
     ]
    },
    {
     "name": "stdout",
     "output_type": "stream",
     "text": [
      "Plot saved to /home/sayem/Desktop/Hangman/plots/win_rates_plot_epoch_0_2024-02-02_06-37-16.png\n"
     ]
    },
    {
     "name": "stderr",
     "output_type": "stream",
     "text": [
      "[I 2024-02-02 06:37:16,404] Trial 143 finished with value: 16.774192810058594 and parameters: {'learning_rate': 0.016433788579504584, 'batch_size': 1024, 'hidden_dim': 128, 'num_layers': 1, 'embedding_dim': 20, 'optimizer_type': 'RMSprop', 'dropout_prob': 0.09650337803453213, 'l1_factor': 3.8544596680492025e-05, 'l2_factor': 8.996839502384515e-05}. Best is trial 0 with value: 16.774192810058594.\n",
      "GPU available: True (cuda), used: True\n",
      "TPU available: False, using: 0 TPU cores\n",
      "IPU available: False, using: 0 IPUs\n",
      "HPU available: False, using: 0 HPUs\n",
      "LOCAL_RANK: 0 - CUDA_VISIBLE_DEVICES: [0]\n",
      "\n",
      "  | Name    | Type       | Params\n",
      "---------------------------------------\n",
      "0 | encoder | Encoder    | 560   \n",
      "1 | decoder | SimpleLSTM | 763 K \n",
      "---------------------------------------\n",
      "763 K     Trainable params\n",
      "0         Non-trainable params\n",
      "763 K     Total params\n",
      "3.054     Total estimated model params size (MB)\n"
     ]
    },
    {
     "name": "stdout",
     "output_type": "stream",
     "text": [
      "Trial 143 finished with value: 16.774192810058594 and parameters: {'learning_rate': 0.016433788579504584, 'batch_size': 1024, 'hidden_dim': 128, 'num_layers': 1, 'embedding_dim': 20, 'optimizer_type': 'RMSprop', 'dropout_prob': 0.09650337803453213, 'l1_factor': 3.8544596680492025e-05, 'l2_factor': 8.996839502384515e-05}.\n",
      " Best trial so far: Trial 0\n",
      " Best win rate so far: 16.774192810058594\n",
      "Starting trial with parameters:\n",
      "  Learning Rate: 0.002243884800599902\n",
      "  Batch Size: 1024\n",
      "  Hidden Dim: 128\n",
      "  Num Layers: 1\n",
      "  Embedding Dim: 20\n",
      "  Optimizer Type: RMSprop\n",
      "  Dropout Prob: 0.15136252557107513\n",
      "  L1 Factor: 2.9418741020350796e-05\n",
      "  L2 Factor: 6.1126158639485e-05\n"
     ]
    },
    {
     "data": {
      "application/vnd.jupyter.widget-view+json": {
       "model_id": "c27fadb97ad84788a691161900571f9c",
       "version_major": 2,
       "version_minor": 0
      },
      "text/plain": [
       "Training: |          | 0/? [00:00<?, ?it/s]"
      ]
     },
     "metadata": {},
     "output_type": "display_data"
    },
    {
     "data": {
      "application/vnd.jupyter.widget-view+json": {
       "model_id": "bb8d7f0a1af347d9b33bcad51822d8b0",
       "version_major": 2,
       "version_minor": 0
      },
      "text/plain": [
       "Validation: |          | 0/? [00:00<?, ?it/s]"
      ]
     },
     "metadata": {},
     "output_type": "display_data"
    },
    {
     "data": {
      "application/vnd.jupyter.widget-view+json": {
       "model_id": "6154755b08d248e8bffc8adba42382e5",
       "version_major": 2,
       "version_minor": 0
      },
      "text/plain": [
       "Processing words:   0%|          | 0/1085 [00:00<?, ?word/s]"
      ]
     },
     "metadata": {},
     "output_type": "display_data"
    },
    {
     "name": "stderr",
     "output_type": "stream",
     "text": [
      "Monitored metric win_rate did not improve in the last 159 records. Best score: 16.774. Signaling Trainer to stop.\n"
     ]
    },
    {
     "name": "stdout",
     "output_type": "stream",
     "text": [
      "Plot saved to /home/sayem/Desktop/Hangman/plots/win_rates_plot_epoch_0_2024-02-02_06-39-50.png\n"
     ]
    },
    {
     "name": "stderr",
     "output_type": "stream",
     "text": [
      "[I 2024-02-02 06:39:50,835] Trial 144 finished with value: 16.774192810058594 and parameters: {'learning_rate': 0.002243884800599902, 'batch_size': 1024, 'hidden_dim': 128, 'num_layers': 1, 'embedding_dim': 20, 'optimizer_type': 'RMSprop', 'dropout_prob': 0.15136252557107513, 'l1_factor': 2.9418741020350796e-05, 'l2_factor': 6.1126158639485e-05}. Best is trial 0 with value: 16.774192810058594.\n",
      "GPU available: True (cuda), used: True\n",
      "TPU available: False, using: 0 TPU cores\n",
      "IPU available: False, using: 0 IPUs\n",
      "HPU available: False, using: 0 HPUs\n",
      "LOCAL_RANK: 0 - CUDA_VISIBLE_DEVICES: [0]\n",
      "\n",
      "  | Name    | Type       | Params\n",
      "---------------------------------------\n",
      "0 | encoder | Encoder    | 1.4 K \n",
      "1 | decoder | SimpleLSTM | 2.4 M \n",
      "---------------------------------------\n",
      "2.4 M     Trainable params\n",
      "0         Non-trainable params\n",
      "2.4 M     Total params\n",
      "9.783     Total estimated model params size (MB)\n"
     ]
    },
    {
     "name": "stdout",
     "output_type": "stream",
     "text": [
      "Trial 144 finished with value: 16.774192810058594 and parameters: {'learning_rate': 0.002243884800599902, 'batch_size': 1024, 'hidden_dim': 128, 'num_layers': 1, 'embedding_dim': 20, 'optimizer_type': 'RMSprop', 'dropout_prob': 0.15136252557107513, 'l1_factor': 2.9418741020350796e-05, 'l2_factor': 6.1126158639485e-05}.\n",
      " Best trial so far: Trial 0\n",
      " Best win rate so far: 16.774192810058594\n",
      "Starting trial with parameters:\n",
      "  Learning Rate: 0.013496819460804391\n",
      "  Batch Size: 1024\n",
      "  Hidden Dim: 128\n",
      "  Num Layers: 3\n",
      "  Embedding Dim: 50\n",
      "  Optimizer Type: RMSprop\n",
      "  Dropout Prob: 0.43162515637414445\n",
      "  L1 Factor: 1.73905666322033e-05\n",
      "  L2 Factor: 0.00018467231429204943\n"
     ]
    },
    {
     "data": {
      "application/vnd.jupyter.widget-view+json": {
       "model_id": "91a82d7469644e6ca3e86efd754574ea",
       "version_major": 2,
       "version_minor": 0
      },
      "text/plain": [
       "Training: |          | 0/? [00:00<?, ?it/s]"
      ]
     },
     "metadata": {},
     "output_type": "display_data"
    },
    {
     "data": {
      "application/vnd.jupyter.widget-view+json": {
       "model_id": "6851c254adda47ada6f21e8bb8f082df",
       "version_major": 2,
       "version_minor": 0
      },
      "text/plain": [
       "Validation: |          | 0/? [00:00<?, ?it/s]"
      ]
     },
     "metadata": {},
     "output_type": "display_data"
    },
    {
     "data": {
      "application/vnd.jupyter.widget-view+json": {
       "model_id": "b09e88b05ae04a6486185bc6712a65d3",
       "version_major": 2,
       "version_minor": 0
      },
      "text/plain": [
       "Processing words:   0%|          | 0/1085 [00:00<?, ?word/s]"
      ]
     },
     "metadata": {},
     "output_type": "display_data"
    },
    {
     "name": "stderr",
     "output_type": "stream",
     "text": [
      "Monitored metric win_rate did not improve in the last 160 records. Best score: 16.774. Signaling Trainer to stop.\n"
     ]
    },
    {
     "name": "stdout",
     "output_type": "stream",
     "text": [
      "Plot saved to /home/sayem/Desktop/Hangman/plots/win_rates_plot_epoch_0_2024-02-02_06-42-28.png\n"
     ]
    },
    {
     "name": "stderr",
     "output_type": "stream",
     "text": [
      "[I 2024-02-02 06:42:28,737] Trial 145 finished with value: 16.774192810058594 and parameters: {'learning_rate': 0.013496819460804391, 'batch_size': 1024, 'hidden_dim': 128, 'num_layers': 3, 'embedding_dim': 50, 'optimizer_type': 'RMSprop', 'dropout_prob': 0.43162515637414445, 'l1_factor': 1.73905666322033e-05, 'l2_factor': 0.00018467231429204943}. Best is trial 0 with value: 16.774192810058594.\n",
      "GPU available: True (cuda), used: True\n",
      "TPU available: False, using: 0 TPU cores\n",
      "IPU available: False, using: 0 IPUs\n",
      "HPU available: False, using: 0 HPUs\n",
      "LOCAL_RANK: 0 - CUDA_VISIBLE_DEVICES: [0]\n",
      "\n",
      "  | Name    | Type       | Params\n",
      "---------------------------------------\n",
      "0 | encoder | Encoder    | 1.1 K \n",
      "1 | decoder | SimpleLSTM | 645 K \n",
      "---------------------------------------\n",
      "646 K     Trainable params\n",
      "0         Non-trainable params\n",
      "646 K     Total params\n",
      "2.587     Total estimated model params size (MB)\n"
     ]
    },
    {
     "name": "stdout",
     "output_type": "stream",
     "text": [
      "Trial 145 finished with value: 16.774192810058594 and parameters: {'learning_rate': 0.013496819460804391, 'batch_size': 1024, 'hidden_dim': 128, 'num_layers': 3, 'embedding_dim': 50, 'optimizer_type': 'RMSprop', 'dropout_prob': 0.43162515637414445, 'l1_factor': 1.73905666322033e-05, 'l2_factor': 0.00018467231429204943}.\n",
      " Best trial so far: Trial 0\n",
      " Best win rate so far: 16.774192810058594\n",
      "Starting trial with parameters:\n",
      "  Learning Rate: 0.00813777659610658\n",
      "  Batch Size: 256\n",
      "  Hidden Dim: 64\n",
      "  Num Layers: 1\n",
      "  Embedding Dim: 40\n",
      "  Optimizer Type: RMSprop\n",
      "  Dropout Prob: 0.3526467562686977\n",
      "  L1 Factor: 8.196313363213585e-05\n",
      "  L2 Factor: 0.00024212342805287248\n"
     ]
    },
    {
     "data": {
      "application/vnd.jupyter.widget-view+json": {
       "model_id": "dc786a7d074f4457a6570642f485648d",
       "version_major": 2,
       "version_minor": 0
      },
      "text/plain": [
       "Training: |          | 0/? [00:00<?, ?it/s]"
      ]
     },
     "metadata": {},
     "output_type": "display_data"
    },
    {
     "data": {
      "application/vnd.jupyter.widget-view+json": {
       "model_id": "a9ddff2422c0414e872e02354726759b",
       "version_major": 2,
       "version_minor": 0
      },
      "text/plain": [
       "Validation: |          | 0/? [00:00<?, ?it/s]"
      ]
     },
     "metadata": {},
     "output_type": "display_data"
    },
    {
     "data": {
      "application/vnd.jupyter.widget-view+json": {
       "model_id": "4d9b949205f54390a1872b0d19c27328",
       "version_major": 2,
       "version_minor": 0
      },
      "text/plain": [
       "Processing words:   0%|          | 0/1085 [00:00<?, ?word/s]"
      ]
     },
     "metadata": {},
     "output_type": "display_data"
    },
    {
     "name": "stderr",
     "output_type": "stream",
     "text": [
      "Monitored metric win_rate did not improve in the last 161 records. Best score: 16.774. Signaling Trainer to stop.\n"
     ]
    },
    {
     "name": "stdout",
     "output_type": "stream",
     "text": [
      "Plot saved to /home/sayem/Desktop/Hangman/plots/win_rates_plot_epoch_0_2024-02-02_06-44-56.png\n"
     ]
    },
    {
     "name": "stderr",
     "output_type": "stream",
     "text": [
      "[I 2024-02-02 06:44:56,448] Trial 146 finished with value: 16.774192810058594 and parameters: {'learning_rate': 0.00813777659610658, 'batch_size': 256, 'hidden_dim': 64, 'num_layers': 1, 'embedding_dim': 40, 'optimizer_type': 'RMSprop', 'dropout_prob': 0.3526467562686977, 'l1_factor': 8.196313363213585e-05, 'l2_factor': 0.00024212342805287248}. Best is trial 0 with value: 16.774192810058594.\n",
      "GPU available: True (cuda), used: True\n",
      "TPU available: False, using: 0 TPU cores\n",
      "IPU available: False, using: 0 IPUs\n",
      "HPU available: False, using: 0 HPUs\n",
      "LOCAL_RANK: 0 - CUDA_VISIBLE_DEVICES: [0]\n",
      "\n",
      "  | Name    | Type       | Params\n",
      "---------------------------------------\n",
      "0 | encoder | Encoder    | 560   \n",
      "1 | decoder | SimpleLSTM | 1.6 M \n",
      "---------------------------------------\n",
      "1.6 M     Trainable params\n",
      "0         Non-trainable params\n",
      "1.6 M     Total params\n",
      "6.216     Total estimated model params size (MB)\n"
     ]
    },
    {
     "name": "stdout",
     "output_type": "stream",
     "text": [
      "Trial 146 finished with value: 16.774192810058594 and parameters: {'learning_rate': 0.00813777659610658, 'batch_size': 256, 'hidden_dim': 64, 'num_layers': 1, 'embedding_dim': 40, 'optimizer_type': 'RMSprop', 'dropout_prob': 0.3526467562686977, 'l1_factor': 8.196313363213585e-05, 'l2_factor': 0.00024212342805287248}.\n",
      " Best trial so far: Trial 0\n",
      " Best win rate so far: 16.774192810058594\n",
      "Starting trial with parameters:\n",
      "  Learning Rate: 0.005727872353789356\n",
      "  Batch Size: 128\n",
      "  Hidden Dim: 128\n",
      "  Num Layers: 3\n",
      "  Embedding Dim: 20\n",
      "  Optimizer Type: SGD\n",
      "  Dropout Prob: 0.3908173510998916\n",
      "  L1 Factor: 4.997095303930643e-05\n",
      "  L2 Factor: 0.0006949562898050915\n"
     ]
    },
    {
     "data": {
      "application/vnd.jupyter.widget-view+json": {
       "model_id": "a5e735bc92374d46a61176d179829384",
       "version_major": 2,
       "version_minor": 0
      },
      "text/plain": [
       "Training: |          | 0/? [00:00<?, ?it/s]"
      ]
     },
     "metadata": {},
     "output_type": "display_data"
    },
    {
     "data": {
      "application/vnd.jupyter.widget-view+json": {
       "model_id": "5725f3bc8d844dbd97b19776a1dec690",
       "version_major": 2,
       "version_minor": 0
      },
      "text/plain": [
       "Validation: |          | 0/? [00:00<?, ?it/s]"
      ]
     },
     "metadata": {},
     "output_type": "display_data"
    },
    {
     "data": {
      "application/vnd.jupyter.widget-view+json": {
       "model_id": "93845fbdd37c4669933b6283645fe739",
       "version_major": 2,
       "version_minor": 0
      },
      "text/plain": [
       "Processing words:   0%|          | 0/1085 [00:00<?, ?word/s]"
      ]
     },
     "metadata": {},
     "output_type": "display_data"
    },
    {
     "name": "stderr",
     "output_type": "stream",
     "text": [
      "Monitored metric win_rate did not improve in the last 162 records. Best score: 16.774. Signaling Trainer to stop.\n"
     ]
    },
    {
     "name": "stdout",
     "output_type": "stream",
     "text": [
      "Plot saved to /home/sayem/Desktop/Hangman/plots/win_rates_plot_epoch_0_2024-02-02_06-47-25.png\n"
     ]
    },
    {
     "name": "stderr",
     "output_type": "stream",
     "text": [
      "[I 2024-02-02 06:47:26,282] Trial 147 finished with value: 0.8294931054115295 and parameters: {'learning_rate': 0.005727872353789356, 'batch_size': 128, 'hidden_dim': 128, 'num_layers': 3, 'embedding_dim': 20, 'optimizer_type': 'SGD', 'dropout_prob': 0.3908173510998916, 'l1_factor': 4.997095303930643e-05, 'l2_factor': 0.0006949562898050915}. Best is trial 0 with value: 16.774192810058594.\n",
      "GPU available: True (cuda), used: True\n",
      "TPU available: False, using: 0 TPU cores\n",
      "IPU available: False, using: 0 IPUs\n",
      "HPU available: False, using: 0 HPUs\n",
      "LOCAL_RANK: 0 - CUDA_VISIBLE_DEVICES: [0]\n",
      "\n",
      "  | Name    | Type       | Params\n",
      "---------------------------------------\n",
      "0 | encoder | Encoder    | 1.4 K \n",
      "1 | decoder | SimpleLSTM | 439 K \n",
      "---------------------------------------\n",
      "440 K     Trainable params\n",
      "0         Non-trainable params\n",
      "440 K     Total params\n",
      "1.762     Total estimated model params size (MB)\n"
     ]
    },
    {
     "name": "stdout",
     "output_type": "stream",
     "text": [
      "Trial 147 finished with value: 0.8294931054115295 and parameters: {'learning_rate': 0.005727872353789356, 'batch_size': 128, 'hidden_dim': 128, 'num_layers': 3, 'embedding_dim': 20, 'optimizer_type': 'SGD', 'dropout_prob': 0.3908173510998916, 'l1_factor': 4.997095303930643e-05, 'l2_factor': 0.0006949562898050915}.\n",
      " Best trial so far: Trial 0\n",
      " Best win rate so far: 16.774192810058594\n",
      "Starting trial with parameters:\n",
      "  Learning Rate: 0.0029038128093195927\n",
      "  Batch Size: 256\n",
      "  Hidden Dim: 32\n",
      "  Num Layers: 3\n",
      "  Embedding Dim: 50\n",
      "  Optimizer Type: Adam\n",
      "  Dropout Prob: 0.07798726822833671\n",
      "  L1 Factor: 1.2142904689905577e-05\n",
      "  L2 Factor: 3.828907906429955e-05\n"
     ]
    },
    {
     "data": {
      "application/vnd.jupyter.widget-view+json": {
       "model_id": "dab515fdb753478ba4dd7d3284f43f1e",
       "version_major": 2,
       "version_minor": 0
      },
      "text/plain": [
       "Training: |          | 0/? [00:00<?, ?it/s]"
      ]
     },
     "metadata": {},
     "output_type": "display_data"
    },
    {
     "data": {
      "application/vnd.jupyter.widget-view+json": {
       "model_id": "7c3c8422b9ac47b0a08605966001211a",
       "version_major": 2,
       "version_minor": 0
      },
      "text/plain": [
       "Validation: |          | 0/? [00:00<?, ?it/s]"
      ]
     },
     "metadata": {},
     "output_type": "display_data"
    },
    {
     "data": {
      "application/vnd.jupyter.widget-view+json": {
       "model_id": "22f8b153395442abafd50e78c733e427",
       "version_major": 2,
       "version_minor": 0
      },
      "text/plain": [
       "Processing words:   0%|          | 0/1085 [00:00<?, ?word/s]"
      ]
     },
     "metadata": {},
     "output_type": "display_data"
    },
    {
     "name": "stderr",
     "output_type": "stream",
     "text": [
      "Monitored metric win_rate did not improve in the last 163 records. Best score: 16.774. Signaling Trainer to stop.\n"
     ]
    },
    {
     "name": "stdout",
     "output_type": "stream",
     "text": [
      "Plot saved to /home/sayem/Desktop/Hangman/plots/win_rates_plot_epoch_0_2024-02-02_06-50-00.png\n"
     ]
    },
    {
     "name": "stderr",
     "output_type": "stream",
     "text": [
      "[I 2024-02-02 06:50:00,385] Trial 148 finished with value: 16.774192810058594 and parameters: {'learning_rate': 0.0029038128093195927, 'batch_size': 256, 'hidden_dim': 32, 'num_layers': 3, 'embedding_dim': 50, 'optimizer_type': 'Adam', 'dropout_prob': 0.07798726822833671, 'l1_factor': 1.2142904689905577e-05, 'l2_factor': 3.828907906429955e-05}. Best is trial 0 with value: 16.774192810058594.\n",
      "GPU available: True (cuda), used: True\n",
      "TPU available: False, using: 0 TPU cores\n",
      "IPU available: False, using: 0 IPUs\n",
      "HPU available: False, using: 0 HPUs\n",
      "LOCAL_RANK: 0 - CUDA_VISIBLE_DEVICES: [0]\n",
      "\n",
      "  | Name    | Type       | Params\n",
      "---------------------------------------\n",
      "0 | encoder | Encoder    | 1.1 K \n",
      "1 | decoder | SimpleLSTM | 168 K \n",
      "---------------------------------------\n",
      "169 K     Trainable params\n",
      "0         Non-trainable params\n",
      "169 K     Total params\n",
      "0.677     Total estimated model params size (MB)\n"
     ]
    },
    {
     "name": "stdout",
     "output_type": "stream",
     "text": [
      "Trial 148 finished with value: 16.774192810058594 and parameters: {'learning_rate': 0.0029038128093195927, 'batch_size': 256, 'hidden_dim': 32, 'num_layers': 3, 'embedding_dim': 50, 'optimizer_type': 'Adam', 'dropout_prob': 0.07798726822833671, 'l1_factor': 1.2142904689905577e-05, 'l2_factor': 3.828907906429955e-05}.\n",
      " Best trial so far: Trial 0\n",
      " Best win rate so far: 16.774192810058594\n",
      "Starting trial with parameters:\n",
      "  Learning Rate: 0.012120767613563633\n",
      "  Batch Size: 256\n",
      "  Hidden Dim: 16\n",
      "  Num Layers: 3\n",
      "  Embedding Dim: 40\n",
      "  Optimizer Type: RMSprop\n",
      "  Dropout Prob: 0.10538622870274797\n",
      "  L1 Factor: 2.07135930628135e-05\n",
      "  L2 Factor: 0.0003711937797578068\n"
     ]
    },
    {
     "data": {
      "application/vnd.jupyter.widget-view+json": {
       "model_id": "ddc77f00dde442cb8da70564d1257bd1",
       "version_major": 2,
       "version_minor": 0
      },
      "text/plain": [
       "Training: |          | 0/? [00:00<?, ?it/s]"
      ]
     },
     "metadata": {},
     "output_type": "display_data"
    },
    {
     "data": {
      "application/vnd.jupyter.widget-view+json": {
       "model_id": "59d253ef4d4a413ab46aafc407316920",
       "version_major": 2,
       "version_minor": 0
      },
      "text/plain": [
       "Validation: |          | 0/? [00:00<?, ?it/s]"
      ]
     },
     "metadata": {},
     "output_type": "display_data"
    },
    {
     "data": {
      "application/vnd.jupyter.widget-view+json": {
       "model_id": "9652ed8d665f4bdd8ed785be2f5ffebd",
       "version_major": 2,
       "version_minor": 0
      },
      "text/plain": [
       "Processing words:   0%|          | 0/1085 [00:00<?, ?word/s]"
      ]
     },
     "metadata": {},
     "output_type": "display_data"
    },
    {
     "name": "stderr",
     "output_type": "stream",
     "text": [
      "Monitored metric win_rate did not improve in the last 164 records. Best score: 16.774. Signaling Trainer to stop.\n"
     ]
    },
    {
     "name": "stdout",
     "output_type": "stream",
     "text": [
      "Plot saved to /home/sayem/Desktop/Hangman/plots/win_rates_plot_epoch_0_2024-02-02_06-54-02.png\n"
     ]
    },
    {
     "name": "stderr",
     "output_type": "stream",
     "text": [
      "[I 2024-02-02 06:54:02,769] Trial 149 finished with value: 16.774192810058594 and parameters: {'learning_rate': 0.012120767613563633, 'batch_size': 256, 'hidden_dim': 16, 'num_layers': 3, 'embedding_dim': 40, 'optimizer_type': 'RMSprop', 'dropout_prob': 0.10538622870274797, 'l1_factor': 2.07135930628135e-05, 'l2_factor': 0.0003711937797578068}. Best is trial 0 with value: 16.774192810058594.\n",
      "GPU available: True (cuda), used: True\n",
      "TPU available: False, using: 0 TPU cores\n",
      "IPU available: False, using: 0 IPUs\n",
      "HPU available: False, using: 0 HPUs\n",
      "LOCAL_RANK: 0 - CUDA_VISIBLE_DEVICES: [0]\n",
      "\n",
      "  | Name    | Type       | Params\n",
      "---------------------------------------\n",
      "0 | encoder | Encoder    | 560   \n",
      "1 | decoder | SimpleLSTM | 348 K \n",
      "---------------------------------------\n",
      "349 K     Trainable params\n",
      "0         Non-trainable params\n",
      "349 K     Total params\n",
      "1.397     Total estimated model params size (MB)\n"
     ]
    },
    {
     "name": "stdout",
     "output_type": "stream",
     "text": [
      "Trial 149 finished with value: 16.774192810058594 and parameters: {'learning_rate': 0.012120767613563633, 'batch_size': 256, 'hidden_dim': 16, 'num_layers': 3, 'embedding_dim': 40, 'optimizer_type': 'RMSprop', 'dropout_prob': 0.10538622870274797, 'l1_factor': 2.07135930628135e-05, 'l2_factor': 0.0003711937797578068}.\n",
      " Best trial so far: Trial 0\n",
      " Best win rate so far: 16.774192810058594\n",
      "Starting trial with parameters:\n",
      "  Learning Rate: 0.023967637614203337\n",
      "  Batch Size: 1024\n",
      "  Hidden Dim: 64\n",
      "  Num Layers: 1\n",
      "  Embedding Dim: 20\n",
      "  Optimizer Type: AdamW\n",
      "  Dropout Prob: 0.12435262540885553\n",
      "  L1 Factor: 6.603664641188004e-05\n",
      "  L2 Factor: 0.00011200492593637298\n"
     ]
    },
    {
     "data": {
      "application/vnd.jupyter.widget-view+json": {
       "model_id": "293a84b0c0f24605b93fca4ca2654082",
       "version_major": 2,
       "version_minor": 0
      },
      "text/plain": [
       "Training: |          | 0/? [00:00<?, ?it/s]"
      ]
     },
     "metadata": {},
     "output_type": "display_data"
    },
    {
     "data": {
      "application/vnd.jupyter.widget-view+json": {
       "model_id": "59002ce9342146d0ac7df25048c983b0",
       "version_major": 2,
       "version_minor": 0
      },
      "text/plain": [
       "Validation: |          | 0/? [00:00<?, ?it/s]"
      ]
     },
     "metadata": {},
     "output_type": "display_data"
    },
    {
     "data": {
      "application/vnd.jupyter.widget-view+json": {
       "model_id": "d83ab26329fc4184a3c10ed751390855",
       "version_major": 2,
       "version_minor": 0
      },
      "text/plain": [
       "Processing words:   0%|          | 0/1085 [00:00<?, ?word/s]"
      ]
     },
     "metadata": {},
     "output_type": "display_data"
    },
    {
     "name": "stderr",
     "output_type": "stream",
     "text": [
      "Monitored metric win_rate did not improve in the last 165 records. Best score: 16.774. Signaling Trainer to stop.\n"
     ]
    },
    {
     "name": "stdout",
     "output_type": "stream",
     "text": [
      "Plot saved to /home/sayem/Desktop/Hangman/plots/win_rates_plot_epoch_0_2024-02-02_06-57-56.png\n"
     ]
    },
    {
     "name": "stderr",
     "output_type": "stream",
     "text": [
      "[I 2024-02-02 06:57:57,129] Trial 150 finished with value: 0.921658992767334 and parameters: {'learning_rate': 0.023967637614203337, 'batch_size': 1024, 'hidden_dim': 64, 'num_layers': 1, 'embedding_dim': 20, 'optimizer_type': 'AdamW', 'dropout_prob': 0.12435262540885553, 'l1_factor': 6.603664641188004e-05, 'l2_factor': 0.00011200492593637298}. Best is trial 0 with value: 16.774192810058594.\n",
      "GPU available: True (cuda), used: True\n",
      "TPU available: False, using: 0 TPU cores\n",
      "IPU available: False, using: 0 IPUs\n",
      "HPU available: False, using: 0 HPUs\n",
      "LOCAL_RANK: 0 - CUDA_VISIBLE_DEVICES: [0]\n",
      "\n",
      "  | Name    | Type       | Params\n",
      "---------------------------------------\n",
      "0 | encoder | Encoder    | 1.4 K \n",
      "1 | decoder | SimpleLSTM | 2.4 M \n",
      "---------------------------------------\n",
      "2.4 M     Trainable params\n",
      "0         Non-trainable params\n",
      "2.4 M     Total params\n",
      "9.783     Total estimated model params size (MB)\n"
     ]
    },
    {
     "name": "stdout",
     "output_type": "stream",
     "text": [
      "Trial 150 finished with value: 0.921658992767334 and parameters: {'learning_rate': 0.023967637614203337, 'batch_size': 1024, 'hidden_dim': 64, 'num_layers': 1, 'embedding_dim': 20, 'optimizer_type': 'AdamW', 'dropout_prob': 0.12435262540885553, 'l1_factor': 6.603664641188004e-05, 'l2_factor': 0.00011200492593637298}.\n",
      " Best trial so far: Trial 0\n",
      " Best win rate so far: 16.774192810058594\n",
      "Starting trial with parameters:\n",
      "  Learning Rate: 0.002514129320410215\n",
      "  Batch Size: 256\n",
      "  Hidden Dim: 128\n",
      "  Num Layers: 3\n",
      "  Embedding Dim: 50\n",
      "  Optimizer Type: Adam\n",
      "  Dropout Prob: 0.4100768937629882\n",
      "  L1 Factor: 1.580519424157579e-05\n",
      "  L2 Factor: 1.6503427150818986e-05\n"
     ]
    },
    {
     "data": {
      "application/vnd.jupyter.widget-view+json": {
       "model_id": "f56470d4f2cb4bf3933cc44e668ca026",
       "version_major": 2,
       "version_minor": 0
      },
      "text/plain": [
       "Training: |          | 0/? [00:00<?, ?it/s]"
      ]
     },
     "metadata": {},
     "output_type": "display_data"
    },
    {
     "data": {
      "application/vnd.jupyter.widget-view+json": {
       "model_id": "0df3f46e91c34c9a88c6b1f6db19fda0",
       "version_major": 2,
       "version_minor": 0
      },
      "text/plain": [
       "Validation: |          | 0/? [00:00<?, ?it/s]"
      ]
     },
     "metadata": {},
     "output_type": "display_data"
    },
    {
     "data": {
      "application/vnd.jupyter.widget-view+json": {
       "model_id": "a2a0d2a9cb43471894213f7666b9c0ae",
       "version_major": 2,
       "version_minor": 0
      },
      "text/plain": [
       "Processing words:   0%|          | 0/1085 [00:00<?, ?word/s]"
      ]
     },
     "metadata": {},
     "output_type": "display_data"
    },
    {
     "name": "stderr",
     "output_type": "stream",
     "text": [
      "Monitored metric win_rate did not improve in the last 166 records. Best score: 16.774. Signaling Trainer to stop.\n"
     ]
    },
    {
     "name": "stdout",
     "output_type": "stream",
     "text": [
      "Plot saved to /home/sayem/Desktop/Hangman/plots/win_rates_plot_epoch_0_2024-02-02_07-00-25.png\n"
     ]
    },
    {
     "name": "stderr",
     "output_type": "stream",
     "text": [
      "[I 2024-02-02 07:00:26,337] Trial 151 finished with value: 16.774192810058594 and parameters: {'learning_rate': 0.002514129320410215, 'batch_size': 256, 'hidden_dim': 128, 'num_layers': 3, 'embedding_dim': 50, 'optimizer_type': 'Adam', 'dropout_prob': 0.4100768937629882, 'l1_factor': 1.580519424157579e-05, 'l2_factor': 1.6503427150818986e-05}. Best is trial 0 with value: 16.774192810058594.\n",
      "GPU available: True (cuda), used: True\n",
      "TPU available: False, using: 0 TPU cores\n",
      "IPU available: False, using: 0 IPUs\n",
      "HPU available: False, using: 0 HPUs\n",
      "LOCAL_RANK: 0 - CUDA_VISIBLE_DEVICES: [0]\n",
      "\n",
      "  | Name    | Type       | Params\n",
      "---------------------------------------\n",
      "0 | encoder | Encoder    | 1.4 K \n",
      "1 | decoder | SimpleLSTM | 2.4 M \n",
      "---------------------------------------\n",
      "2.4 M     Trainable params\n",
      "0         Non-trainable params\n",
      "2.4 M     Total params\n",
      "9.783     Total estimated model params size (MB)\n"
     ]
    },
    {
     "name": "stdout",
     "output_type": "stream",
     "text": [
      "Trial 151 finished with value: 16.774192810058594 and parameters: {'learning_rate': 0.002514129320410215, 'batch_size': 256, 'hidden_dim': 128, 'num_layers': 3, 'embedding_dim': 50, 'optimizer_type': 'Adam', 'dropout_prob': 0.4100768937629882, 'l1_factor': 1.580519424157579e-05, 'l2_factor': 1.6503427150818986e-05}.\n",
      " Best trial so far: Trial 0\n",
      " Best win rate so far: 16.774192810058594\n",
      "Starting trial with parameters:\n",
      "  Learning Rate: 0.0014305257429964551\n",
      "  Batch Size: 256\n",
      "  Hidden Dim: 128\n",
      "  Num Layers: 3\n",
      "  Embedding Dim: 50\n",
      "  Optimizer Type: Adam\n",
      "  Dropout Prob: 0.1591596742151849\n",
      "  L1 Factor: 2.1246305294430046e-05\n",
      "  L2 Factor: 3.21089830578222e-05\n"
     ]
    },
    {
     "data": {
      "application/vnd.jupyter.widget-view+json": {
       "model_id": "fbb32930341545a2bfaf1156445ad6df",
       "version_major": 2,
       "version_minor": 0
      },
      "text/plain": [
       "Training: |          | 0/? [00:00<?, ?it/s]"
      ]
     },
     "metadata": {},
     "output_type": "display_data"
    },
    {
     "data": {
      "application/vnd.jupyter.widget-view+json": {
       "model_id": "2c456dbbca12406388ee6d176651f5da",
       "version_major": 2,
       "version_minor": 0
      },
      "text/plain": [
       "Validation: |          | 0/? [00:00<?, ?it/s]"
      ]
     },
     "metadata": {},
     "output_type": "display_data"
    },
    {
     "data": {
      "application/vnd.jupyter.widget-view+json": {
       "model_id": "bcb1ab3b3fda4b18b5bbde8f2da8c451",
       "version_major": 2,
       "version_minor": 0
      },
      "text/plain": [
       "Processing words:   0%|          | 0/1085 [00:00<?, ?word/s]"
      ]
     },
     "metadata": {},
     "output_type": "display_data"
    },
    {
     "name": "stderr",
     "output_type": "stream",
     "text": [
      "Monitored metric win_rate did not improve in the last 167 records. Best score: 16.774. Signaling Trainer to stop.\n"
     ]
    },
    {
     "name": "stdout",
     "output_type": "stream",
     "text": [
      "Plot saved to /home/sayem/Desktop/Hangman/plots/win_rates_plot_epoch_0_2024-02-02_07-02-54.png\n"
     ]
    },
    {
     "name": "stderr",
     "output_type": "stream",
     "text": [
      "[I 2024-02-02 07:02:54,811] Trial 152 finished with value: 16.774192810058594 and parameters: {'learning_rate': 0.0014305257429964551, 'batch_size': 256, 'hidden_dim': 128, 'num_layers': 3, 'embedding_dim': 50, 'optimizer_type': 'Adam', 'dropout_prob': 0.1591596742151849, 'l1_factor': 2.1246305294430046e-05, 'l2_factor': 3.21089830578222e-05}. Best is trial 0 with value: 16.774192810058594.\n",
      "GPU available: True (cuda), used: True\n",
      "TPU available: False, using: 0 TPU cores\n",
      "IPU available: False, using: 0 IPUs\n",
      "HPU available: False, using: 0 HPUs\n",
      "LOCAL_RANK: 0 - CUDA_VISIBLE_DEVICES: [0]\n",
      "\n",
      "  | Name    | Type       | Params\n",
      "---------------------------------------\n",
      "0 | encoder | Encoder    | 1.4 K \n",
      "1 | decoder | SimpleLSTM | 2.4 M \n",
      "---------------------------------------\n",
      "2.4 M     Trainable params\n",
      "0         Non-trainable params\n",
      "2.4 M     Total params\n",
      "9.783     Total estimated model params size (MB)\n"
     ]
    },
    {
     "name": "stdout",
     "output_type": "stream",
     "text": [
      "Trial 152 finished with value: 16.774192810058594 and parameters: {'learning_rate': 0.0014305257429964551, 'batch_size': 256, 'hidden_dim': 128, 'num_layers': 3, 'embedding_dim': 50, 'optimizer_type': 'Adam', 'dropout_prob': 0.1591596742151849, 'l1_factor': 2.1246305294430046e-05, 'l2_factor': 3.21089830578222e-05}.\n",
      " Best trial so far: Trial 0\n",
      " Best win rate so far: 16.774192810058594\n",
      "Starting trial with parameters:\n",
      "  Learning Rate: 0.00354626128196008\n",
      "  Batch Size: 256\n",
      "  Hidden Dim: 128\n",
      "  Num Layers: 3\n",
      "  Embedding Dim: 50\n",
      "  Optimizer Type: Adam\n",
      "  Dropout Prob: 0.37633392594915166\n",
      "  L1 Factor: 2.784984110143471e-05\n",
      "  L2 Factor: 4.2956830825391964e-05\n"
     ]
    },
    {
     "data": {
      "application/vnd.jupyter.widget-view+json": {
       "model_id": "130da966393f4774844feb29e0fa6aad",
       "version_major": 2,
       "version_minor": 0
      },
      "text/plain": [
       "Training: |          | 0/? [00:00<?, ?it/s]"
      ]
     },
     "metadata": {},
     "output_type": "display_data"
    },
    {
     "data": {
      "application/vnd.jupyter.widget-view+json": {
       "model_id": "d0b19a27333c4e05b0714d7a3b0ea72d",
       "version_major": 2,
       "version_minor": 0
      },
      "text/plain": [
       "Validation: |          | 0/? [00:00<?, ?it/s]"
      ]
     },
     "metadata": {},
     "output_type": "display_data"
    },
    {
     "data": {
      "application/vnd.jupyter.widget-view+json": {
       "model_id": "3968584fd8bc471a8b58355944fa81fd",
       "version_major": 2,
       "version_minor": 0
      },
      "text/plain": [
       "Processing words:   0%|          | 0/1085 [00:00<?, ?word/s]"
      ]
     },
     "metadata": {},
     "output_type": "display_data"
    },
    {
     "name": "stderr",
     "output_type": "stream",
     "text": [
      "Monitored metric win_rate did not improve in the last 168 records. Best score: 16.774. Signaling Trainer to stop.\n"
     ]
    },
    {
     "name": "stdout",
     "output_type": "stream",
     "text": [
      "Plot saved to /home/sayem/Desktop/Hangman/plots/win_rates_plot_epoch_0_2024-02-02_07-05-22.png\n"
     ]
    },
    {
     "name": "stderr",
     "output_type": "stream",
     "text": [
      "[I 2024-02-02 07:05:23,228] Trial 153 finished with value: 16.774192810058594 and parameters: {'learning_rate': 0.00354626128196008, 'batch_size': 256, 'hidden_dim': 128, 'num_layers': 3, 'embedding_dim': 50, 'optimizer_type': 'Adam', 'dropout_prob': 0.37633392594915166, 'l1_factor': 2.784984110143471e-05, 'l2_factor': 4.2956830825391964e-05}. Best is trial 0 with value: 16.774192810058594.\n",
      "GPU available: True (cuda), used: True\n",
      "TPU available: False, using: 0 TPU cores\n",
      "IPU available: False, using: 0 IPUs\n",
      "HPU available: False, using: 0 HPUs\n",
      "LOCAL_RANK: 0 - CUDA_VISIBLE_DEVICES: [0]\n",
      "\n",
      "  | Name    | Type       | Params\n",
      "---------------------------------------\n",
      "0 | encoder | Encoder    | 1.4 K \n",
      "1 | decoder | SimpleLSTM | 2.4 M \n",
      "---------------------------------------\n",
      "2.4 M     Trainable params\n",
      "0         Non-trainable params\n",
      "2.4 M     Total params\n",
      "9.783     Total estimated model params size (MB)\n"
     ]
    },
    {
     "name": "stdout",
     "output_type": "stream",
     "text": [
      "Trial 153 finished with value: 16.774192810058594 and parameters: {'learning_rate': 0.00354626128196008, 'batch_size': 256, 'hidden_dim': 128, 'num_layers': 3, 'embedding_dim': 50, 'optimizer_type': 'Adam', 'dropout_prob': 0.37633392594915166, 'l1_factor': 2.784984110143471e-05, 'l2_factor': 4.2956830825391964e-05}.\n",
      " Best trial so far: Trial 0\n",
      " Best win rate so far: 16.774192810058594\n",
      "Starting trial with parameters:\n",
      "  Learning Rate: 0.004678119915923383\n",
      "  Batch Size: 256\n",
      "  Hidden Dim: 128\n",
      "  Num Layers: 3\n",
      "  Embedding Dim: 50\n",
      "  Optimizer Type: Adam\n",
      "  Dropout Prob: 0.14882522088090702\n",
      "  L1 Factor: 3.309097748209895e-05\n",
      "  L2 Factor: 2.970936233245522e-05\n"
     ]
    },
    {
     "data": {
      "application/vnd.jupyter.widget-view+json": {
       "model_id": "707f5a33ecd44ca2b3a860aad2e999d8",
       "version_major": 2,
       "version_minor": 0
      },
      "text/plain": [
       "Training: |          | 0/? [00:00<?, ?it/s]"
      ]
     },
     "metadata": {},
     "output_type": "display_data"
    },
    {
     "data": {
      "application/vnd.jupyter.widget-view+json": {
       "model_id": "a3a6456c2c0b4a3285cc792e628d4a6a",
       "version_major": 2,
       "version_minor": 0
      },
      "text/plain": [
       "Validation: |          | 0/? [00:00<?, ?it/s]"
      ]
     },
     "metadata": {},
     "output_type": "display_data"
    },
    {
     "data": {
      "application/vnd.jupyter.widget-view+json": {
       "model_id": "15e05b71a7ca4791b20ed29201ec8451",
       "version_major": 2,
       "version_minor": 0
      },
      "text/plain": [
       "Processing words:   0%|          | 0/1085 [00:00<?, ?word/s]"
      ]
     },
     "metadata": {},
     "output_type": "display_data"
    },
    {
     "name": "stderr",
     "output_type": "stream",
     "text": [
      "Monitored metric win_rate did not improve in the last 169 records. Best score: 16.774. Signaling Trainer to stop.\n"
     ]
    },
    {
     "name": "stdout",
     "output_type": "stream",
     "text": [
      "Plot saved to /home/sayem/Desktop/Hangman/plots/win_rates_plot_epoch_0_2024-02-02_07-07-52.png\n"
     ]
    },
    {
     "name": "stderr",
     "output_type": "stream",
     "text": [
      "[I 2024-02-02 07:07:53,647] Trial 154 finished with value: 16.774192810058594 and parameters: {'learning_rate': 0.004678119915923383, 'batch_size': 256, 'hidden_dim': 128, 'num_layers': 3, 'embedding_dim': 50, 'optimizer_type': 'Adam', 'dropout_prob': 0.14882522088090702, 'l1_factor': 3.309097748209895e-05, 'l2_factor': 2.970936233245522e-05}. Best is trial 0 with value: 16.774192810058594.\n",
      "GPU available: True (cuda), used: True\n",
      "TPU available: False, using: 0 TPU cores\n",
      "IPU available: False, using: 0 IPUs\n",
      "HPU available: False, using: 0 HPUs\n",
      "LOCAL_RANK: 0 - CUDA_VISIBLE_DEVICES: [0]\n",
      "\n",
      "  | Name    | Type       | Params\n",
      "---------------------------------------\n",
      "0 | encoder | Encoder    | 1.4 K \n",
      "1 | decoder | SimpleLSTM | 2.4 M \n",
      "---------------------------------------\n",
      "2.4 M     Trainable params\n",
      "0         Non-trainable params\n",
      "2.4 M     Total params\n",
      "9.783     Total estimated model params size (MB)\n"
     ]
    },
    {
     "name": "stdout",
     "output_type": "stream",
     "text": [
      "Trial 154 finished with value: 16.774192810058594 and parameters: {'learning_rate': 0.004678119915923383, 'batch_size': 256, 'hidden_dim': 128, 'num_layers': 3, 'embedding_dim': 50, 'optimizer_type': 'Adam', 'dropout_prob': 0.14882522088090702, 'l1_factor': 3.309097748209895e-05, 'l2_factor': 2.970936233245522e-05}.\n",
      " Best trial so far: Trial 0\n",
      " Best win rate so far: 16.774192810058594\n",
      "Starting trial with parameters:\n",
      "  Learning Rate: 0.001969731500073775\n",
      "  Batch Size: 256\n",
      "  Hidden Dim: 128\n",
      "  Num Layers: 3\n",
      "  Embedding Dim: 50\n",
      "  Optimizer Type: RMSprop\n",
      "  Dropout Prob: 0.1774886555971204\n",
      "  L1 Factor: 9.512580518373897e-05\n",
      "  L2 Factor: 0.0001559182182350699\n"
     ]
    },
    {
     "data": {
      "application/vnd.jupyter.widget-view+json": {
       "model_id": "3e67dbf8736748e1ac6e48f4d8975c1e",
       "version_major": 2,
       "version_minor": 0
      },
      "text/plain": [
       "Training: |          | 0/? [00:00<?, ?it/s]"
      ]
     },
     "metadata": {},
     "output_type": "display_data"
    },
    {
     "data": {
      "application/vnd.jupyter.widget-view+json": {
       "model_id": "8584af44e1dd432d9e2a308efba03bc2",
       "version_major": 2,
       "version_minor": 0
      },
      "text/plain": [
       "Validation: |          | 0/? [00:00<?, ?it/s]"
      ]
     },
     "metadata": {},
     "output_type": "display_data"
    },
    {
     "data": {
      "application/vnd.jupyter.widget-view+json": {
       "model_id": "a0874771aca64e68baebdea1b9c39431",
       "version_major": 2,
       "version_minor": 0
      },
      "text/plain": [
       "Processing words:   0%|          | 0/1085 [00:00<?, ?word/s]"
      ]
     },
     "metadata": {},
     "output_type": "display_data"
    },
    {
     "name": "stderr",
     "output_type": "stream",
     "text": [
      "Monitored metric win_rate did not improve in the last 170 records. Best score: 16.774. Signaling Trainer to stop.\n"
     ]
    },
    {
     "name": "stdout",
     "output_type": "stream",
     "text": [
      "Plot saved to /home/sayem/Desktop/Hangman/plots/win_rates_plot_epoch_0_2024-02-02_07-10-25.png\n"
     ]
    },
    {
     "name": "stderr",
     "output_type": "stream",
     "text": [
      "[I 2024-02-02 07:10:26,264] Trial 155 finished with value: 16.774192810058594 and parameters: {'learning_rate': 0.001969731500073775, 'batch_size': 256, 'hidden_dim': 128, 'num_layers': 3, 'embedding_dim': 50, 'optimizer_type': 'RMSprop', 'dropout_prob': 0.1774886555971204, 'l1_factor': 9.512580518373897e-05, 'l2_factor': 0.0001559182182350699}. Best is trial 0 with value: 16.774192810058594.\n",
      "GPU available: True (cuda), used: True\n",
      "TPU available: False, using: 0 TPU cores\n",
      "IPU available: False, using: 0 IPUs\n",
      "HPU available: False, using: 0 HPUs\n",
      "LOCAL_RANK: 0 - CUDA_VISIBLE_DEVICES: [0]\n",
      "\n",
      "  | Name    | Type       | Params\n",
      "---------------------------------------\n",
      "0 | encoder | Encoder    | 1.1 K \n",
      "1 | decoder | SimpleLSTM | 389 K \n",
      "---------------------------------------\n",
      "391 K     Trainable params\n",
      "0         Non-trainable params\n",
      "391 K     Total params\n",
      "1.564     Total estimated model params size (MB)\n"
     ]
    },
    {
     "name": "stdout",
     "output_type": "stream",
     "text": [
      "Trial 155 finished with value: 16.774192810058594 and parameters: {'learning_rate': 0.001969731500073775, 'batch_size': 256, 'hidden_dim': 128, 'num_layers': 3, 'embedding_dim': 50, 'optimizer_type': 'RMSprop', 'dropout_prob': 0.1774886555971204, 'l1_factor': 9.512580518373897e-05, 'l2_factor': 0.0001559182182350699}.\n",
      " Best trial so far: Trial 0\n",
      " Best win rate so far: 16.774192810058594\n",
      "Starting trial with parameters:\n",
      "  Learning Rate: 0.003172585540835048\n",
      "  Batch Size: 128\n",
      "  Hidden Dim: 32\n",
      "  Num Layers: 4\n",
      "  Embedding Dim: 40\n",
      "  Optimizer Type: Adam\n",
      "  Dropout Prob: 0.13693105273458522\n",
      "  L1 Factor: 5.617854515264804e-05\n",
      "  L2 Factor: 2.1644183461633463e-05\n"
     ]
    },
    {
     "data": {
      "application/vnd.jupyter.widget-view+json": {
       "model_id": "7471fa1328ac4c81a6c80be61efa7e71",
       "version_major": 2,
       "version_minor": 0
      },
      "text/plain": [
       "Training: |          | 0/? [00:00<?, ?it/s]"
      ]
     },
     "metadata": {},
     "output_type": "display_data"
    },
    {
     "data": {
      "application/vnd.jupyter.widget-view+json": {
       "model_id": "e8776dbcaa5142a398c1670b4f4922ae",
       "version_major": 2,
       "version_minor": 0
      },
      "text/plain": [
       "Validation: |          | 0/? [00:00<?, ?it/s]"
      ]
     },
     "metadata": {},
     "output_type": "display_data"
    },
    {
     "data": {
      "application/vnd.jupyter.widget-view+json": {
       "model_id": "a02462a34c824e75988de3e5f4b009ee",
       "version_major": 2,
       "version_minor": 0
      },
      "text/plain": [
       "Processing words:   0%|          | 0/1085 [00:00<?, ?word/s]"
      ]
     },
     "metadata": {},
     "output_type": "display_data"
    },
    {
     "name": "stderr",
     "output_type": "stream",
     "text": [
      "Monitored metric win_rate did not improve in the last 171 records. Best score: 16.774. Signaling Trainer to stop.\n"
     ]
    },
    {
     "name": "stdout",
     "output_type": "stream",
     "text": [
      "Plot saved to /home/sayem/Desktop/Hangman/plots/win_rates_plot_epoch_0_2024-02-02_07-12-56.png\n"
     ]
    },
    {
     "name": "stderr",
     "output_type": "stream",
     "text": [
      "[I 2024-02-02 07:12:57,171] Trial 156 finished with value: 16.774192810058594 and parameters: {'learning_rate': 0.003172585540835048, 'batch_size': 128, 'hidden_dim': 32, 'num_layers': 4, 'embedding_dim': 40, 'optimizer_type': 'Adam', 'dropout_prob': 0.13693105273458522, 'l1_factor': 5.617854515264804e-05, 'l2_factor': 2.1644183461633463e-05}. Best is trial 0 with value: 16.774192810058594.\n",
      "GPU available: True (cuda), used: True\n",
      "TPU available: False, using: 0 TPU cores\n",
      "IPU available: False, using: 0 IPUs\n",
      "HPU available: False, using: 0 HPUs\n",
      "LOCAL_RANK: 0 - CUDA_VISIBLE_DEVICES: [0]\n",
      "\n",
      "  | Name    | Type       | Params\n",
      "---------------------------------------\n",
      "0 | encoder | Encoder    | 1.4 K \n",
      "1 | decoder | SimpleLSTM | 1.1 M \n",
      "---------------------------------------\n",
      "1.1 M     Trainable params\n",
      "0         Non-trainable params\n",
      "1.1 M     Total params\n",
      "4.374     Total estimated model params size (MB)\n"
     ]
    },
    {
     "name": "stdout",
     "output_type": "stream",
     "text": [
      "Trial 156 finished with value: 16.774192810058594 and parameters: {'learning_rate': 0.003172585540835048, 'batch_size': 128, 'hidden_dim': 32, 'num_layers': 4, 'embedding_dim': 40, 'optimizer_type': 'Adam', 'dropout_prob': 0.13693105273458522, 'l1_factor': 5.617854515264804e-05, 'l2_factor': 2.1644183461633463e-05}.\n",
      " Best trial so far: Trial 0\n",
      " Best win rate so far: 16.774192810058594\n",
      "Starting trial with parameters:\n",
      "  Learning Rate: 0.006308802996640763\n",
      "  Batch Size: 512\n",
      "  Hidden Dim: 64\n",
      "  Num Layers: 4\n",
      "  Embedding Dim: 50\n",
      "  Optimizer Type: RMSprop\n",
      "  Dropout Prob: 0.45496297036116434\n",
      "  L1 Factor: 3.6743857646055286e-05\n",
      "  L2 Factor: 1.0811148898415757e-05\n"
     ]
    },
    {
     "data": {
      "application/vnd.jupyter.widget-view+json": {
       "model_id": "6add31c8e24342f5b4054db018dfbb02",
       "version_major": 2,
       "version_minor": 0
      },
      "text/plain": [
       "Training: |          | 0/? [00:00<?, ?it/s]"
      ]
     },
     "metadata": {},
     "output_type": "display_data"
    },
    {
     "data": {
      "application/vnd.jupyter.widget-view+json": {
       "model_id": "3f6bd680148d475386a97d1507aa8291",
       "version_major": 2,
       "version_minor": 0
      },
      "text/plain": [
       "Validation: |          | 0/? [00:00<?, ?it/s]"
      ]
     },
     "metadata": {},
     "output_type": "display_data"
    },
    {
     "data": {
      "application/vnd.jupyter.widget-view+json": {
       "model_id": "4c95f78bde404757820f9f4c524d5e7d",
       "version_major": 2,
       "version_minor": 0
      },
      "text/plain": [
       "Processing words:   0%|          | 0/1085 [00:00<?, ?word/s]"
      ]
     },
     "metadata": {},
     "output_type": "display_data"
    },
    {
     "name": "stderr",
     "output_type": "stream",
     "text": [
      "Monitored metric win_rate did not improve in the last 172 records. Best score: 16.774. Signaling Trainer to stop.\n"
     ]
    },
    {
     "name": "stdout",
     "output_type": "stream",
     "text": [
      "Plot saved to /home/sayem/Desktop/Hangman/plots/win_rates_plot_epoch_0_2024-02-02_07-15-31.png\n"
     ]
    },
    {
     "name": "stderr",
     "output_type": "stream",
     "text": [
      "[I 2024-02-02 07:15:31,780] Trial 157 finished with value: 16.774192810058594 and parameters: {'learning_rate': 0.006308802996640763, 'batch_size': 512, 'hidden_dim': 64, 'num_layers': 4, 'embedding_dim': 50, 'optimizer_type': 'RMSprop', 'dropout_prob': 0.45496297036116434, 'l1_factor': 3.6743857646055286e-05, 'l2_factor': 1.0811148898415757e-05}. Best is trial 0 with value: 16.774192810058594.\n",
      "GPU available: True (cuda), used: True\n",
      "TPU available: False, using: 0 TPU cores\n",
      "IPU available: False, using: 0 IPUs\n",
      "HPU available: False, using: 0 HPUs\n",
      "LOCAL_RANK: 0 - CUDA_VISIBLE_DEVICES: [0]\n",
      "\n",
      "  | Name    | Type       | Params\n",
      "---------------------------------------\n",
      "0 | encoder | Encoder    | 1.1 K \n",
      "1 | decoder | SimpleLSTM | 2.1 M \n",
      "---------------------------------------\n",
      "2.1 M     Trainable params\n",
      "0         Non-trainable params\n",
      "2.1 M     Total params\n",
      "8.594     Total estimated model params size (MB)\n"
     ]
    },
    {
     "name": "stdout",
     "output_type": "stream",
     "text": [
      "Trial 157 finished with value: 16.774192810058594 and parameters: {'learning_rate': 0.006308802996640763, 'batch_size': 512, 'hidden_dim': 64, 'num_layers': 4, 'embedding_dim': 50, 'optimizer_type': 'RMSprop', 'dropout_prob': 0.45496297036116434, 'l1_factor': 3.6743857646055286e-05, 'l2_factor': 1.0811148898415757e-05}.\n",
      " Best trial so far: Trial 0\n",
      " Best win rate so far: 16.774192810058594\n",
      "Starting trial with parameters:\n",
      "  Learning Rate: 0.004009330376139733\n",
      "  Batch Size: 256\n",
      "  Hidden Dim: 128\n",
      "  Num Layers: 3\n",
      "  Embedding Dim: 40\n",
      "  Optimizer Type: RMSprop\n",
      "  Dropout Prob: 0.1878832959645087\n",
      "  L1 Factor: 1.0181800909269853e-05\n",
      "  L2 Factor: 0.00021203628596276004\n"
     ]
    },
    {
     "data": {
      "application/vnd.jupyter.widget-view+json": {
       "model_id": "f86e35500ea048baaa8e050428fc2344",
       "version_major": 2,
       "version_minor": 0
      },
      "text/plain": [
       "Training: |          | 0/? [00:00<?, ?it/s]"
      ]
     },
     "metadata": {},
     "output_type": "display_data"
    },
    {
     "data": {
      "application/vnd.jupyter.widget-view+json": {
       "model_id": "d036e3287b7b4c8d907b56b147b37aba",
       "version_major": 2,
       "version_minor": 0
      },
      "text/plain": [
       "Validation: |          | 0/? [00:00<?, ?it/s]"
      ]
     },
     "metadata": {},
     "output_type": "display_data"
    },
    {
     "data": {
      "application/vnd.jupyter.widget-view+json": {
       "model_id": "b4e0273ebd834bcc960f558fc959c6d9",
       "version_major": 2,
       "version_minor": 0
      },
      "text/plain": [
       "Processing words:   0%|          | 0/1085 [00:00<?, ?word/s]"
      ]
     },
     "metadata": {},
     "output_type": "display_data"
    },
    {
     "name": "stderr",
     "output_type": "stream",
     "text": [
      "Monitored metric win_rate did not improve in the last 173 records. Best score: 16.774. Signaling Trainer to stop.\n"
     ]
    },
    {
     "name": "stdout",
     "output_type": "stream",
     "text": [
      "Plot saved to /home/sayem/Desktop/Hangman/plots/win_rates_plot_epoch_0_2024-02-02_07-18-01.png\n"
     ]
    },
    {
     "name": "stderr",
     "output_type": "stream",
     "text": [
      "[I 2024-02-02 07:18:02,162] Trial 158 finished with value: 16.774192810058594 and parameters: {'learning_rate': 0.004009330376139733, 'batch_size': 256, 'hidden_dim': 128, 'num_layers': 3, 'embedding_dim': 40, 'optimizer_type': 'RMSprop', 'dropout_prob': 0.1878832959645087, 'l1_factor': 1.0181800909269853e-05, 'l2_factor': 0.00021203628596276004}. Best is trial 0 with value: 16.774192810058594.\n",
      "GPU available: True (cuda), used: True\n",
      "TPU available: False, using: 0 TPU cores\n",
      "IPU available: False, using: 0 IPUs\n",
      "HPU available: False, using: 0 HPUs\n",
      "LOCAL_RANK: 0 - CUDA_VISIBLE_DEVICES: [0]\n",
      "\n",
      "  | Name    | Type       | Params\n",
      "---------------------------------------\n",
      "0 | encoder | Encoder    | 840   \n",
      "1 | decoder | SimpleLSTM | 1.9 M \n",
      "---------------------------------------\n",
      "1.9 M     Trainable params\n",
      "0         Non-trainable params\n",
      "1.9 M     Total params\n",
      "7.405     Total estimated model params size (MB)\n"
     ]
    },
    {
     "name": "stdout",
     "output_type": "stream",
     "text": [
      "Trial 158 finished with value: 16.774192810058594 and parameters: {'learning_rate': 0.004009330376139733, 'batch_size': 256, 'hidden_dim': 128, 'num_layers': 3, 'embedding_dim': 40, 'optimizer_type': 'RMSprop', 'dropout_prob': 0.1878832959645087, 'l1_factor': 1.0181800909269853e-05, 'l2_factor': 0.00021203628596276004}.\n",
      " Best trial so far: Trial 0\n",
      " Best win rate so far: 16.774192810058594\n",
      "Starting trial with parameters:\n",
      "  Learning Rate: 0.019865407341374063\n",
      "  Batch Size: 1024\n",
      "  Hidden Dim: 128\n",
      "  Num Layers: 3\n",
      "  Embedding Dim: 30\n",
      "  Optimizer Type: Adam\n",
      "  Dropout Prob: 0.3212800524717899\n",
      "  L1 Factor: 7.899445155744692e-05\n",
      "  L2 Factor: 1.4133709403945858e-05\n"
     ]
    },
    {
     "data": {
      "application/vnd.jupyter.widget-view+json": {
       "model_id": "6842346c253f4a8e9464c97e55a87ec1",
       "version_major": 2,
       "version_minor": 0
      },
      "text/plain": [
       "Training: |          | 0/? [00:00<?, ?it/s]"
      ]
     },
     "metadata": {},
     "output_type": "display_data"
    },
    {
     "data": {
      "application/vnd.jupyter.widget-view+json": {
       "model_id": "adde0e69d92848ef9a28e604db559b7f",
       "version_major": 2,
       "version_minor": 0
      },
      "text/plain": [
       "Validation: |          | 0/? [00:00<?, ?it/s]"
      ]
     },
     "metadata": {},
     "output_type": "display_data"
    },
    {
     "data": {
      "application/vnd.jupyter.widget-view+json": {
       "model_id": "a6120dc19044464eab6b71bf0893fb50",
       "version_major": 2,
       "version_minor": 0
      },
      "text/plain": [
       "Processing words:   0%|          | 0/1085 [00:00<?, ?word/s]"
      ]
     },
     "metadata": {},
     "output_type": "display_data"
    },
    {
     "name": "stderr",
     "output_type": "stream",
     "text": [
      "Monitored metric win_rate did not improve in the last 174 records. Best score: 16.774. Signaling Trainer to stop.\n"
     ]
    },
    {
     "name": "stdout",
     "output_type": "stream",
     "text": [
      "Plot saved to /home/sayem/Desktop/Hangman/plots/win_rates_plot_epoch_0_2024-02-02_07-20-35.png\n"
     ]
    },
    {
     "name": "stderr",
     "output_type": "stream",
     "text": [
      "[I 2024-02-02 07:20:36,432] Trial 159 finished with value: 16.774192810058594 and parameters: {'learning_rate': 0.019865407341374063, 'batch_size': 1024, 'hidden_dim': 128, 'num_layers': 3, 'embedding_dim': 30, 'optimizer_type': 'Adam', 'dropout_prob': 0.3212800524717899, 'l1_factor': 7.899445155744692e-05, 'l2_factor': 1.4133709403945858e-05}. Best is trial 0 with value: 16.774192810058594.\n",
      "GPU available: True (cuda), used: True\n",
      "TPU available: False, using: 0 TPU cores\n",
      "IPU available: False, using: 0 IPUs\n",
      "HPU available: False, using: 0 HPUs\n",
      "LOCAL_RANK: 0 - CUDA_VISIBLE_DEVICES: [0]\n",
      "\n",
      "  | Name    | Type       | Params\n",
      "---------------------------------------\n",
      "0 | encoder | Encoder    | 560   \n",
      "1 | decoder | SimpleLSTM | 746 K \n",
      "---------------------------------------\n",
      "746 K     Trainable params\n",
      "0         Non-trainable params\n",
      "746 K     Total params\n",
      "2.987     Total estimated model params size (MB)\n"
     ]
    },
    {
     "name": "stdout",
     "output_type": "stream",
     "text": [
      "Trial 159 finished with value: 16.774192810058594 and parameters: {'learning_rate': 0.019865407341374063, 'batch_size': 1024, 'hidden_dim': 128, 'num_layers': 3, 'embedding_dim': 30, 'optimizer_type': 'Adam', 'dropout_prob': 0.3212800524717899, 'l1_factor': 7.899445155744692e-05, 'l2_factor': 1.4133709403945858e-05}.\n",
      " Best trial so far: Trial 0\n",
      " Best win rate so far: 16.774192810058594\n",
      "Starting trial with parameters:\n",
      "  Learning Rate: 0.008868173101356784\n",
      "  Batch Size: 256\n",
      "  Hidden Dim: 64\n",
      "  Num Layers: 5\n",
      "  Embedding Dim: 20\n",
      "  Optimizer Type: RMSprop\n",
      "  Dropout Prob: 0.3930979177879184\n",
      "  L1 Factor: 4.590635769329991e-05\n",
      "  L2 Factor: 2.6975362858689393e-05\n"
     ]
    },
    {
     "data": {
      "application/vnd.jupyter.widget-view+json": {
       "model_id": "bca9b55323f34e15b990eb38c85047e0",
       "version_major": 2,
       "version_minor": 0
      },
      "text/plain": [
       "Training: |          | 0/? [00:00<?, ?it/s]"
      ]
     },
     "metadata": {},
     "output_type": "display_data"
    },
    {
     "data": {
      "application/vnd.jupyter.widget-view+json": {
       "model_id": "ab856d4a8a944259bfd6de514cc20275",
       "version_major": 2,
       "version_minor": 0
      },
      "text/plain": [
       "Validation: |          | 0/? [00:00<?, ?it/s]"
      ]
     },
     "metadata": {},
     "output_type": "display_data"
    },
    {
     "data": {
      "application/vnd.jupyter.widget-view+json": {
       "model_id": "149c605eb4044836b413cec20e0cc8cd",
       "version_major": 2,
       "version_minor": 0
      },
      "text/plain": [
       "Processing words:   0%|          | 0/1085 [00:00<?, ?word/s]"
      ]
     },
     "metadata": {},
     "output_type": "display_data"
    },
    {
     "name": "stderr",
     "output_type": "stream",
     "text": [
      "Monitored metric win_rate did not improve in the last 175 records. Best score: 16.774. Signaling Trainer to stop.\n"
     ]
    },
    {
     "name": "stdout",
     "output_type": "stream",
     "text": [
      "Plot saved to /home/sayem/Desktop/Hangman/plots/win_rates_plot_epoch_0_2024-02-02_07-23-08.png\n"
     ]
    },
    {
     "name": "stderr",
     "output_type": "stream",
     "text": [
      "[I 2024-02-02 07:23:08,716] Trial 160 finished with value: 16.774192810058594 and parameters: {'learning_rate': 0.008868173101356784, 'batch_size': 256, 'hidden_dim': 64, 'num_layers': 5, 'embedding_dim': 20, 'optimizer_type': 'RMSprop', 'dropout_prob': 0.3930979177879184, 'l1_factor': 4.590635769329991e-05, 'l2_factor': 2.6975362858689393e-05}. Best is trial 0 with value: 16.774192810058594.\n",
      "GPU available: True (cuda), used: True\n",
      "TPU available: False, using: 0 TPU cores\n",
      "IPU available: False, using: 0 IPUs\n",
      "HPU available: False, using: 0 HPUs\n",
      "LOCAL_RANK: 0 - CUDA_VISIBLE_DEVICES: [0]\n",
      "\n",
      "  | Name    | Type       | Params\n",
      "---------------------------------------\n",
      "0 | encoder | Encoder    | 560   \n",
      "1 | decoder | SimpleLSTM | 348 K \n",
      "---------------------------------------\n",
      "349 K     Trainable params\n",
      "0         Non-trainable params\n",
      "349 K     Total params\n",
      "1.397     Total estimated model params size (MB)\n"
     ]
    },
    {
     "name": "stdout",
     "output_type": "stream",
     "text": [
      "Trial 160 finished with value: 16.774192810058594 and parameters: {'learning_rate': 0.008868173101356784, 'batch_size': 256, 'hidden_dim': 64, 'num_layers': 5, 'embedding_dim': 20, 'optimizer_type': 'RMSprop', 'dropout_prob': 0.3930979177879184, 'l1_factor': 4.590635769329991e-05, 'l2_factor': 2.6975362858689393e-05}.\n",
      " Best trial so far: Trial 0\n",
      " Best win rate so far: 16.774192810058594\n",
      "Starting trial with parameters:\n",
      "  Learning Rate: 0.08544684954294562\n",
      "  Batch Size: 1024\n",
      "  Hidden Dim: 64\n",
      "  Num Layers: 1\n",
      "  Embedding Dim: 20\n",
      "  Optimizer Type: RMSprop\n",
      "  Dropout Prob: 0.04702646986418184\n",
      "  L1 Factor: 2.4462965514827083e-05\n",
      "  L2 Factor: 1.9355622975918024e-05\n"
     ]
    },
    {
     "data": {
      "application/vnd.jupyter.widget-view+json": {
       "model_id": "74ec7549eac8418c97c020accba13d8f",
       "version_major": 2,
       "version_minor": 0
      },
      "text/plain": [
       "Training: |          | 0/? [00:00<?, ?it/s]"
      ]
     },
     "metadata": {},
     "output_type": "display_data"
    }
   ],
   "source": [
    "import optuna\n",
    "import pytorch_lightning as pl\n",
    "from pytorch_lightning.callbacks import EarlyStopping, ModelCheckpoint\n",
    "from pytorch_lightning.loggers import TensorBoardLogger\n",
    "from pathlib import Path\n",
    "import shutil  # For directory cleanup\n",
    "\n",
    "# Assuming necessary imports from your custom modules and PyTorch Lightning are done here\n",
    "\n",
    "# Clear previous runs\n",
    "base_dir = Path(\"/home/sayem/Desktop/Hangman\")\n",
    "checkpoints_dir = base_dir / \"checkpoints\"\n",
    "\n",
    "# Clear out the old checkpoints and logs before starting a new run\n",
    "if checkpoints_dir.exists():\n",
    "    shutil.rmtree(checkpoints_dir)  # Remove the directory and all its contents\n",
    "\n",
    "# Recreate the checkpoints directory after clearing it\n",
    "checkpoints_dir.mkdir(parents=True, exist_ok=True)\n",
    "\n",
    "# Now, create the tb_logs_dir inside the newly created checkpoints_dir\n",
    "tb_logs_dir = checkpoints_dir / \"tb_logs\" / \"HangmanModel\"\n",
    "tb_logs_dir.mkdir(parents=True, exist_ok=True)  # Ensure this directory is created after the checkpoints_dir\n",
    "\n",
    "\n",
    "# Define a callback function for Optuna\n",
    "def trial_callback(study, trial):\n",
    "    # This function will be called at the end of each trial\n",
    "    print(f\"Trial {trial.number} finished with value: {trial.value} and parameters: {trial.params}.\")\n",
    "    print(f\" Best trial so far: Trial {study.best_trial.number}\")\n",
    "    print(f\" Best win rate so far: {study.best_trial.value}\")\n",
    "\n",
    "def objective(trial):\n",
    "    # Hyperparameters to be tuned by Optuna\n",
    "    learning_rate = trial.suggest_loguniform('learning_rate', 1e-5, 1e-1)\n",
    "    batch_size = trial.suggest_categorical('batch_size', [128, 256, 512, 1024])\n",
    "    hidden_dim = trial.suggest_categorical('hidden_dim', [16, 32, 64, 128])\n",
    "    num_layers = trial.suggest_int('num_layers', 1, 5)\n",
    "    embedding_dim = trial.suggest_categorical('embedding_dim', [20, 30, 40, 50])\n",
    "    optimizer_type = trial.suggest_categorical('optimizer_type', ['Adam', 'AdamW', 'SGD', 'RMSprop'])\n",
    "    dropout_prob = trial.suggest_float('dropout_prob', 0.0, 0.5)  # Suggesting dropout probability\n",
    "    l1_factor = trial.suggest_float('l1_factor', 1e-5, 1e-1, log=True)  # Suggesting L1 regularization factor\n",
    "    l2_factor = trial.suggest_float('l2_factor', 1e-5, 1e-1, log=True)  # Suggesting L2 regularization factor\n",
    "\n",
    "    print(f\"Starting trial with parameters:\\n\"\n",
    "          f\"  Learning Rate: {learning_rate}\\n\"\n",
    "          f\"  Batch Size: {batch_size}\\n\"\n",
    "          f\"  Hidden Dim: {hidden_dim}\\n\"\n",
    "          f\"  Num Layers: {num_layers}\\n\"\n",
    "          f\"  Embedding Dim: {embedding_dim}\\n\"\n",
    "          f\"  Optimizer Type: {optimizer_type}\\n\"\n",
    "          f\"  Dropout Prob: {dropout_prob}\\n\"\n",
    "          f\"  L1 Factor: {l1_factor}\\n\"\n",
    "          f\"  L2 Factor: {l2_factor}\")  # Printing all tuned parameters\n",
    "\n",
    "    # Update the batch size in the data module\n",
    "    data_module.batch_size = batch_size\n",
    "\n",
    "    # Re-instantiate the encoder and decoder with the new hyperparameters\n",
    "    encoder = Encoder(num_embeddings, embedding_dim, max_word_length, char_feature_dim, additional_state_features)\n",
    "    \n",
    "    input_dim = max_word_length * embedding_dim + additional_state_features\n",
    "    \n",
    "    decoder = SimpleLSTM(input_dim=input_dim, hidden_dim=hidden_dim, output_dim=output_dim,\n",
    "                        num_layers=num_layers, missed_char_dim=missed_char_dim, \\\n",
    "                        dropout_prob=dropout_prob)  # Using the dropout probability\n",
    "\n",
    "    # Re-instantiate the model with the new encoder, decoder, learning rate, optimizer type, and regularization factors\n",
    "    model = HangmanModel(encoder, decoder, learning_rate, char_frequency, max_word_length, \n",
    "                         optimizer_type=optimizer_type, l1_factor=l1_factor, l2_factor=l2_factor, \n",
    "                         test_words=sampled_test_words)\n",
    "\n",
    "    # Set up PyTorch Lightning Trainer with Optuna integration\n",
    "    logger = TensorBoardLogger(checkpoints_dir / \"tb_logs\", name=\"HangmanModel\")\n",
    "    \n",
    "    checkpoint_callback = ModelCheckpoint(dirpath=checkpoints_dir, filename=\"best-checkpoint\", \n",
    "                                          monitor=\"win_rate\", mode=\"max\", save_top_k=1)\n",
    "\n",
    "    trainer = pl.Trainer(\n",
    "        default_root_dir=checkpoints_dir,\n",
    "        logger=logger,\n",
    "        callbacks=[checkpoint_callback, early_stop_callback],\n",
    "        max_epochs=MAX_EPOCH,\n",
    "        log_every_n_steps=10,\n",
    "        enable_progress_bar=True,\n",
    "        fast_dev_run=False,\n",
    "        num_sanity_val_steps=0,\n",
    "        reload_dataloaders_every_n_epochs=1\n",
    "    )\n",
    "\n",
    "    # Fit the model\n",
    "    trainer.fit(model, datamodule=data_module)\n",
    "\n",
    "    # Return the best win rate recorded during training\n",
    "    best_win_rate = checkpoint_callback.best_model_score.item() \\\n",
    "        if checkpoint_callback.best_model_score is not None else 0\n",
    "\n",
    "    return best_win_rate\n",
    "   \n",
    "# Create an Optuna study with a name and optimize the objective function\n",
    "study_name = f\"NUM_STRATIFIED_SAMPLES_{NUM_STRATIFIED_SAMPLES}_HangmanModelTuning\"\n",
    "\n",
    "study = optuna.create_study(direction='maximize', study_name=study_name)\n",
    "study.optimize(objective, n_trials=200, callbacks=[trial_callback])\n",
    "\n",
    "# Output the best trial\n",
    "best_trial = study.best_trial\n",
    "print(f\"Best trial: LR={best_trial.params['learning_rate']}, Batch Size={best_trial.params['batch_size']}\")\n",
    "print(f\"Best win rate: {best_trial.value}\")\n",
    "\n",
    "# Save the study results for further analysis\n",
    "# Construct the filename with the NUM_STRATIFIED_SAMPLES prefix\n",
    "filename = f\"NUM_STRATIFIED_SAMPLES_{NUM_STRATIFIED_SAMPLES}_optuna_study_results.csv\"\n",
    "\n",
    "# Save the study results to the specified file\n",
    "study.trials_dataframe().to_csv(checkpoints_dir / filename)\n",
    "\n",
    "# # Load the best model - This needs to be done after the study has concluded\n",
    "# best_model_path = checkpoint_callback.best_model_path\n",
    "# best_model = HangmanModel.load_from_checkpoint(checkpoint_path=best_model_path)"
   ]
  },
  {
   "cell_type": "code",
   "execution_count": null,
   "metadata": {},
   "outputs": [],
   "source": [
    "STOP"
   ]
  },
  {
   "cell_type": "code",
   "execution_count": null,
   "metadata": {},
   "outputs": [],
   "source": [
    "from pytorch_lightning.profilers import SimpleProfiler\n",
    "import pytorch_lightning as pl\n",
    "from scr.custom_callbacks import *\n",
    "from scr.dataset import *\n",
    "from scr.data_module import *\n",
    "from scr.trainer_ import *\n",
    "\n",
    "torch.cuda.empty_cache()\n",
    "\n",
    "# # Create Callbacks\n",
    "# loss_logging_callback = LossLoggingCallback()\n",
    "\n",
    "# , SchedulerSetupCallback()] # , loss_logging_callback]\n",
    "callbacks = [early_stop_callback, step_level_early_stopping] \n",
    "FAST_DEV_RUN = False\n",
    "# # Calculate the minimum percentage of validation batches\n",
    "# min_val_batches = 1 / len(data_module.val_dataloader())\n",
    "\n",
    "# # Create Trainer with Callbacks\n",
    "trainer = pl.Trainer(\n",
    "    default_root_dir=output_dir,\n",
    "    fast_dev_run=FAST_DEV_RUN, \n",
    "    max_epochs=MAX_EPOCH, \n",
    "    callbacks=callbacks,\n",
    "    num_sanity_val_steps=0,\n",
    "    reload_dataloaders_every_n_epochs=1,\n",
    "    enable_progress_bar=True \n",
    "    # val_check_interval=0.5\n",
    "    # limit_train_batches=2,  # Limit the number of training batches to 2\n",
    "    # limit_val_batches=2     # Limit the number of validation batches to 2\n",
    ")\n",
    "\n",
    "# # # # # print(f\"Running for {NUM_STRATIFIED_SAMPLES} samples...\")\n",
    "# # # print()\n",
    "# # # # # # # Assuming combined_eval_metrics is a list of dictionaries\n",
    "# combined_eval_metrics = trainer.validate(model=lightning_model, datamodule=data_module)\n",
    "\n",
    "# # performance_metrics_dict = {k: v for d in combined_eval_metrics for k, v in d.items()}\n",
    "\n",
    "# # # # # # print(\"Converted Performance Metrics Dictb ionary:\", performance_metrics_dict)\n",
    "\n",
    "# # trainer.datamodule.update_performance_metrics(combined_eval_metrics)\n",
    "\n",
    "# data_module.update_performance_metrics(performance_metrics_dict)\n",
    "\n",
    "\n",
    "# # Define the objective function for Optuna\n",
    "# def objective(trial):\n",
    "#     # Hyperparameters to be tuned by Optuna\n",
    "#     learning_rate = trial.suggest_loguniform('learning_rate', 1e-5, 1e-1)\n",
    "#     batch_size = trial.suggest_categorical('batch_size', [128, 256, 512, 1024])\n",
    "#     hidden_dim = trial.suggest_categorical('hidden_dim', [16, 32, 64, 128])\n",
    "#     num_layers = trial.suggest_int('num_layers', 1, 5)\n",
    "#     embedding_dim = trial.suggest_categorical('embedding_dim', [20, 30, 40, 50])\n",
    "\n",
    "#     print(f\"Starting trial with parameters:\\n\"\n",
    "#         f\"  Learning Rate: {learning_rate}\\n\"\n",
    "#         f\"  Batch Size: {batch_size}\\n\"\n",
    "#         f\"  Hidden Dim: {hidden_dim}\\n\"\n",
    "#         f\"  Num Layers: {num_layers}\\n\"\n",
    "#         f\"  Embedding Dim: {embedding_dim}\")\n",
    "\n",
    "#     # Update the batch size in the data module\n",
    "#     data_module.batch_size = batch_size\n",
    "\n",
    "#     # Re-instantiate the encoder and decoder with the new hyperparameters\n",
    "#     encoder = Encoder(num_embeddings, embedding_dim, \\\n",
    "#         max_word_length, char_feature_dim, additional_state_features)\n",
    "\n",
    "#     input_dim = max_word_length * embedding_dim + additional_state_features\n",
    "\n",
    "#     decoder = SimpleLSTM(input_dim=input_dim, hidden_dim=hidden_dim, \\\n",
    "#             output_dim=output_dim, num_layers=num_layers, \\\n",
    "#             missed_char_dim=missed_char_dim)\n",
    "\n",
    "#     # Re-instantiate the model with the new encoder, decoder, and learning rate\n",
    "#     model = HangmanModel(encoder, decoder, learning_rate, char_frequency, \\\n",
    "#         max_word_length, test_words=sampled_test_words)\n",
    "\n",
    "#     # Set up PyTorch Lightning Trainer with Optuna integration\n",
    "#     logger = TensorBoardLogger(checkpoints_dir / \"tb_logs\", name=\"HangmanModel\")\n",
    "#     checkpoint_callback = ModelCheckpoint(dirpath=checkpoints_dir, \\\n",
    "#         filename=\"best-checkpoint\", monitor=\"win_rate\", mode=\"max\", save_top_k=1)\n",
    "\n",
    "#     trainer = pl.Trainer(\n",
    "#         default_root_dir=checkpoints_dir,\n",
    "#         logger=logger,\n",
    "#         callbacks=[checkpoint_callback],\n",
    "#         max_epochs=MAX_EPOCH,\n",
    "#         log_every_n_steps=10,\n",
    "#         enable_progress_bar=True,\n",
    "#         fast_dev_run=False,\n",
    "#         num_sanity_val_steps=0,\n",
    "#         reload_dataloaders_every_n_epochs=1\n",
    "#     )\n",
    "\n",
    "#     # Fit the model\n",
    "#     trainer.fit(model, datamodule=data_module)\n",
    "\n",
    "#     # Return the best win rate recorded during training\n",
    "#     best_win_rate = checkpoint_callback.best_model_score.item() \\\n",
    "#         if checkpoint_callback.best_model_score is not None else 0\n",
    "\n",
    "#     return best_win_rate\n"
   ]
  },
  {
   "cell_type": "markdown",
   "metadata": {},
   "source": [
    "##### Tuning: lr"
   ]
  },
  {
   "cell_type": "code",
   "execution_count": null,
   "metadata": {},
   "outputs": [],
   "source": [
    "# from pytorch_lightning.tuner.tuning import Tuner\n",
    "\n",
    "# # Assuming lightning_model, train_loader, and val_loader are already defined\n",
    "# # Initialize the tuner with your trainer\n",
    "# tuner = Tuner(trainer)\n",
    "\n",
    "# # Run the learning rate finder using the data module\n",
    "# lr_finder = tuner.lr_find(model=lightning_model, \n",
    "#                         datamodule=data_module)\n",
    "\n",
    "# # Plot the learning rate finder results\n",
    "# fig = lr_finder.plot(suggest=True)\n",
    "# fig.show()\n",
    "\n",
    "# # Get the suggested learning rate\n",
    "# new_lr = lr_finder.suggestion()\n",
    "# print(f\"Suggested Learning Rate: {new_lr}\")\n",
    "\n",
    "# # Update model's learning rate\n",
    "# lightning_model.learning_rate = 0.017378008287493765 # new_lr\n",
    "\n",
    "# # Optionally, you can view the results of the LR finder\n",
    "# print(lr_finder.results)"
   ]
  },
  {
   "cell_type": "code",
   "execution_count": null,
   "metadata": {},
   "outputs": [],
   "source": [
    "# Update model's learning rate\n",
    "lightning_model.learning_rate = 0.017378008287493765 # new_lr"
   ]
  },
  {
   "cell_type": "markdown",
   "metadata": {},
   "source": [
    "##### Tuning: Batch"
   ]
  },
  {
   "cell_type": "code",
   "execution_count": null,
   "metadata": {},
   "outputs": [],
   "source": [
    "# # Assuming lightning_model is already defined\n",
    "# new_batch_size = tuner.scale_batch_size(\n",
    "#     model=lightning_model,\n",
    "#     datamodule=data_module,\n",
    "#     mode='power',  # or 'binsearch'\n",
    "#     steps_per_trial=10,\n",
    "#     init_val=64,\n",
    "#     max_trials=4\n",
    "# )\n",
    "\n",
    "# Update the batch size in the data module\n",
    "data_module.batch_size = 1024 # new_batch_size\n",
    "\n",
    "# print(f\"Tune Batch size: \", new_batch_size)"
   ]
  },
  {
   "cell_type": "markdown",
   "metadata": {},
   "source": [
    "##### Training"
   ]
  },
  {
   "cell_type": "code",
   "execution_count": null,
   "metadata": {},
   "outputs": [],
   "source": [
    "# # # # # Validate the model (if needed)\n",
    "# trainer.validate(model=lightning_model, datamodule=data_module)\n",
    "print(f\"Training Begin for {NUM_STRATIFIED_SAMPLES} words: {len(train_dataset)} Games\")\n",
    "# # # # # # Fit the model\n",
    "trainer.fit(lightning_model, data_module)\n",
    "\n",
    "# # Optionally print the profiler summary\n",
    "# # print(profiler.summary())\n",
    "\n",
    "# # Save the entire model\n",
    "# trained_model_file = models_dir / f\"{NUM_STRATIFIED_SAMPLES}_trained_model.pth\"\n",
    "# torch.save(lightning_model, trained_model_file)\n",
    "# print(f\"Model saved at {trained_model_file}\")"
   ]
  },
  {
   "cell_type": "code",
   "execution_count": null,
   "metadata": {},
   "outputs": [],
   "source": [
    "# Save the entire model\n",
    "trained_model_file = models_dir / f\"{NUM_STRATIFIED_SAMPLES}_trained_model.pth\"\n",
    "torch.save(lightning_model, trained_model_file)\n",
    "print(f\"Model saved at {trained_model_file}\")"
   ]
  },
  {
   "cell_type": "markdown",
   "metadata": {},
   "source": [
    "##### Testing"
   ]
  },
  {
   "cell_type": "code",
   "execution_count": null,
   "metadata": {},
   "outputs": [],
   "source": [
    "# Finding the maximum word length in the list\n",
    "max_word_length_in_list = max(len(word) for word in sampled_test_words)\n",
    "\n",
    "max_word_length_in_list"
   ]
  },
  {
   "cell_type": "code",
   "execution_count": null,
   "metadata": {},
   "outputs": [],
   "source": [
    "# # Load the entire LSTM model object\n",
    "# untrained_model_file_path = models_dir / f\"{NUM_STRATIFIED_SAMPLES}_trained_model.pth\"\n",
    "\n",
    "untrained_model = torch.load(untrained_model_file)\n",
    "\n",
    "# Example usage\n",
    "result = play_games_and_calculate_stats(untrained_model, \\\n",
    "    sampled_test_words, char_frequency, max_word_length)\n",
    "\n",
    "print(f\"Untrained model performence: {result['overall_win_rate']} % win rate\")\n",
    "\n",
    "performance_metrics = result['length_wise_stats']\n",
    "\n",
    "# print(performance_metrics)\n",
    "\n",
    "from scr.utils import *\n",
    "\n",
    "plot_hangman_stats(performance_metrics)\n",
    "\n",
    "for length, data in result[\"length_wise_stats\"].items():\n",
    "    print(f\"Length {length}: Win Rate: {data['win_rate']}%, Average Attempts: {data['average_attempts_used']}\")"
   ]
  },
  {
   "cell_type": "code",
   "execution_count": null,
   "metadata": {},
   "outputs": [],
   "source": [
    "# trained_model_file_path = models_dir / f\"{NUM_STRATIFIED_SAMPLES}_trained_model.pth\"\n",
    "# trained_model = torch.load(trained_model_file_path)\n",
    "# print(type(trained_model))"
   ]
  },
  {
   "cell_type": "code",
   "execution_count": null,
   "metadata": {},
   "outputs": [],
   "source": [
    "# # Load the entire LSTM model object\n",
    "\n",
    "# trained_model_file_path = models_dir / f\"{NUM_STRATIFIED_SAMPLES}_trained_model.pth\"\n",
    "# trained_model = torch.load(trained_model_file_path)\n",
    "\n",
    "# # # If you want to use the model for inference\n",
    "# # trained_model.eval()  # Set the model to evaluation mode\n",
    "\n",
    "# from scr.game import *\n",
    "\n",
    "# word = 'may'\n",
    "\n",
    "# play_game_with_a_word(trained_model, \\\n",
    "#     word, char_frequency, max_word_length)"
   ]
  },
  {
   "cell_type": "code",
   "execution_count": null,
   "metadata": {},
   "outputs": [],
   "source": [
    "# # Example usage\n",
    "# result = play_games_and_calculate_stats(trained_model, \\\n",
    "#     sampled_test_words, char_frequency, max_word_length)\n",
    "\n",
    "# print(f\"Overall Win Rate: {result['overall_win_rate']}%, Overall Average Attempts: {result['overall_avg_attempts']}\")\n",
    "\n",
    "# # for length, data in result[\"length_wise_stats\"].items():\n",
    "# #     print(f\"Length {length}: Win Rate: {data['win_rate']}%, Average Attempts: {data['average_attempts_used']}\")"
   ]
  },
  {
   "cell_type": "code",
   "execution_count": null,
   "metadata": {},
   "outputs": [],
   "source": [
    "performance_metrics = result['length_wise_stats']\n",
    "\n",
    "plot_hangman_stats(performance_metrics)"
   ]
  },
  {
   "cell_type": "code",
   "execution_count": null,
   "metadata": {},
   "outputs": [],
   "source": [
    "performance_metrics"
   ]
  }
 ],
 "metadata": {
  "kernelspec": {
   "display_name": "optiver",
   "language": "python",
   "name": "python3"
  },
  "language_info": {
   "codemirror_mode": {
    "name": "ipython",
    "version": 3
   },
   "file_extension": ".py",
   "mimetype": "text/x-python",
   "name": "python",
   "nbconvert_exporter": "python",
   "pygments_lexer": "ipython3",
   "version": "3.10.13"
  }
 },
 "nbformat": 4,
 "nbformat_minor": 2
}
