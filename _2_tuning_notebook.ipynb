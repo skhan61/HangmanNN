{
 "cells": [
  {
   "cell_type": "markdown",
   "metadata": {},
   "source": [
    "##### Imports"
   ]
  },
  {
   "cell_type": "code",
   "execution_count": 1,
   "metadata": {},
   "outputs": [],
   "source": [
    "import sys\n",
    "from pathlib import Path\n",
    "import warnings\n",
    "\n",
    "import warnings\n",
    "import pandas as pd\n",
    "warnings.filterwarnings('ignore')\n",
    "\n",
    "pd.set_option('display.max_columns', 1000)\n",
    "pd.set_option('display.max_rows', 1000)\n",
    "\n",
    "import sys\n",
    "# Custom library paths\n",
    "sys.path.extend(['../', './scr'])\n",
    "\n",
    "from scr.utils import set_seed\n",
    "from scr.utils import read_words\n",
    "from pathlib import Path\n",
    "import random\n",
    "from collections import Counter, defaultdict\n",
    "import pickle\n",
    "from tqdm import tqdm\n",
    "from torch.utils.data import Dataset\n",
    "\n",
    "from scr.utils import read_words, save_words_to_file\n",
    "\n",
    "import pickle\n",
    "from pathlib import Path\n",
    "from scr.dataset import *\n",
    "from scr.utils import *\n",
    "# # For inference\n",
    "from scr.feature_engineering import *\n",
    "from scr.encoder import *\n",
    "from scr.trainer_ import *\n",
    "from scr.decoder import SimpleLSTM\n",
    "\n",
    "import gc\n",
    "\n",
    "set_seed(42)\n",
    "\n",
    "import torch\n",
    "import torch.nn as nn\n",
    "from pathlib import Path\n",
    "import random\n",
    "\n",
    "from scr.utils import print_scenarios\n",
    "torch.set_float32_matmul_precision('medium')\n",
    "from pathlib import Path\n",
    "\n",
    "# Device configuration\n",
    "device = torch.device(\"cuda\" if torch.cuda.is_available() else \"cpu\")\n",
    "\n",
    "# # Read and Shuffle Word List\n",
    "word_list = read_words('data/words_250000_train.txt') # , limit=10000)\n",
    "# word_list = read_words('data/250k.txt', limit=10000)\n",
    "\n",
    "random.shuffle(word_list)\n",
    "\n",
    "# Calculate Frequencies and Max Word Length\n",
    "word_frequencies = calculate_word_frequencies(word_list)\n",
    "char_frequency = calculate_char_frequencies(word_list)\n",
    "max_word_length = max(len(word) for word in word_list)"
   ]
  },
  {
   "cell_type": "markdown",
   "metadata": {},
   "source": [
    "##### Data Dir"
   ]
  },
  {
   "cell_type": "code",
   "execution_count": 2,
   "metadata": {},
   "outputs": [],
   "source": [
    "NUM_STRATIFIED_SAMPLES = 100 # This will be overwritten by Papermill\n",
    "\n",
    "NUM_WORD_SAMPLE = 1_000 # words for testing\n",
    "\n",
    "FAST_DEV_RUN = False\n",
    "\n",
    "MAX_EPOCH = 250"
   ]
  },
  {
   "cell_type": "code",
   "execution_count": 3,
   "metadata": {},
   "outputs": [
    {
     "name": "stdout",
     "output_type": "stream",
     "text": [
      "Length of the testing word list: 10048\n",
      "Sampled 1085 unique words for testing.\n",
      "1085\n"
     ]
    }
   ],
   "source": [
    "from pathlib import Path\n",
    "from scr.custom_sampler import *\n",
    "\n",
    "# Define the base directory and the paths for training and validation parquet files\n",
    "base_dataset_dir = Path(\"/media/sayem/510B93E12554BBD1/dataset/\")\n",
    "stratified_samples_dir = base_dataset_dir / str(NUM_STRATIFIED_SAMPLES)\n",
    "parquet_path = stratified_samples_dir / 'parquets'\n",
    "\n",
    "# Create directories for train and validation parquets if they don't exist\n",
    "parquet_path.mkdir(parents=True, exist_ok=True)\n",
    "# parquet_valid_path.mkdir(parents=True, exist_ok=True)\n",
    "\n",
    "# Define and create the directory for models\n",
    "models_dir = Path(\"/home/sayem/Desktop/Hangman/models\")\n",
    "models_dir.mkdir(parents=True, exist_ok=True)\n",
    "\n",
    "# Define your output directory\n",
    "# Define your output directory and logger directory\n",
    "output_dir = Path(\"/home/sayem/Desktop/Hangman/training_outputs\")\n",
    "logger_dir = output_dir / \"lightning_logs\"\n",
    "\n",
    "# Create the output and logger directories if they don't exist\n",
    "output_dir.mkdir(parents=True, exist_ok=True)\n",
    "logger_dir.mkdir(parents=True, exist_ok=True)\n",
    "\n",
    "# Define the file path for saving the testing words\n",
    "testing_words_file_path = stratified_samples_dir / \"testing_words.txt\"\n",
    "\n",
    "try:\n",
    "    testing_word_list = read_words(testing_words_file_path)\n",
    "    print(f\"Length of the testing word list: {len(testing_word_list)}\")\n",
    "    sampled_test_words = stratified_sample_by_length_and_uniqueness(testing_word_list, NUM_WORD_SAMPLE)\n",
    "    print(f\"Sampled {len(sampled_test_words)} unique words for testing.\")\n",
    "except FileNotFoundError:\n",
    "    print(f\"File not found: {testing_words_file_path}\")\n",
    "\n",
    "print(len(sampled_test_words))"
   ]
  },
  {
   "cell_type": "markdown",
   "metadata": {},
   "source": [
    "##### Dataset Loading and train test split"
   ]
  },
  {
   "cell_type": "code",
   "execution_count": 4,
   "metadata": {},
   "outputs": [],
   "source": [
    "# Create datasets directly from the saved parquet files\n",
    "hangman_dataset = HangmanDataset(parquet_path)\n",
    "# valid_dataset = HangmanDataset(parquet_valid_path)\n",
    "\n",
    "from scr.utils import *\n",
    "\n",
    "# Split the dataset into training and validation sets\n",
    "train_dataset, valid_dataset = hangman_dataset.split(test_size=0.2)"
   ]
  },
  {
   "cell_type": "code",
   "execution_count": 5,
   "metadata": {},
   "outputs": [
    {
     "name": "stdout",
     "output_type": "stream",
     "text": [
      "Total samples in original dataset: 8658\n",
      "Samples in training dataset: 6916\n",
      "Samples in validation dataset: 1742\n",
      "Training dataset sequence length distribution: {4: 456, 5: 412, 7: 936, 6: 344, 9: 666, 8: 852, 3: 597, 2: 1092, 11: 327, 14: 116, 10: 445, 12: 264, 18: 32, 17: 49, 15: 88, 16: 59, 13: 156, 19: 13, 20: 11, 21: 1}\n",
      "Validation dataset sequence length distribution: {4: 115, 5: 104, 7: 234, 6: 87, 9: 167, 8: 213, 3: 150, 2: 274, 11: 82, 14: 30, 10: 112, 12: 67, 18: 9, 17: 13, 15: 23, 16: 15, 13: 39, 19: 4, 20: 3, 21: 1}\n"
     ]
    }
   ],
   "source": [
    "def check_seq_len_distribution(dataset):\n",
    "    distribution = {}\n",
    "    for seq_len, indices in dataset.seq_len_index.items():\n",
    "        distribution[seq_len] = len(indices)\n",
    "    return distribution\n",
    "\n",
    "def check_seq_len_distribution(dataset):\n",
    "    distribution = {}\n",
    "    for seq_len, indices in dataset.seq_len_index.items():\n",
    "        distribution[seq_len] = len(indices)\n",
    "    return distribution\n",
    "\n",
    "# Check proportions\n",
    "print(f\"Total samples in original dataset: {len(hangman_dataset)}\")\n",
    "print(f\"Samples in training dataset: {len(train_dataset)}\")\n",
    "print(f\"Samples in validation dataset: {len(valid_dataset)}\")\n",
    "\n",
    "# Verify that the sum of train and validation samples equals the total samples\n",
    "assert len(train_dataset) + len(valid_dataset) == len(hangman_dataset), \"Mismatch in total sample count\"\n",
    "\n",
    "# Check sequence length distribution in each dataset\n",
    "train_distribution = check_seq_len_distribution(train_dataset)\n",
    "valid_distribution = check_seq_len_distribution(valid_dataset)\n",
    "\n",
    "print(\"Training dataset sequence length distribution:\", train_distribution)\n",
    "print(\"Validation dataset sequence length distribution:\", valid_distribution)\n",
    "\n",
    "# Ensure each sequence length is represented in both datasets\n",
    "assert set(train_distribution.keys()) == set(valid_distribution.keys()), \"Mismatch in sequence length representation\""
   ]
  },
  {
   "cell_type": "code",
   "execution_count": 6,
   "metadata": {},
   "outputs": [
    {
     "name": "stdout",
     "output_type": "stream",
     "text": [
      "Unique sequence lengths in training dataset: 20\n",
      "Unique sequence lengths in validation dataset: 20\n"
     ]
    }
   ],
   "source": [
    "def count_unique_seq_lens(dataset):\n",
    "    # Count the unique sequence lengths in the dataset\n",
    "    unique_seq_lens = len(dataset.seq_len_index)\n",
    "    return unique_seq_lens\n",
    "\n",
    "train_unique_seq_lens = count_unique_seq_lens(train_dataset)\n",
    "valid_unique_seq_lens = count_unique_seq_lens(valid_dataset)\n",
    "\n",
    "print(f\"Unique sequence lengths in training dataset: {train_unique_seq_lens}\")\n",
    "print(f\"Unique sequence lengths in validation dataset: {valid_unique_seq_lens}\")"
   ]
  },
  {
   "cell_type": "markdown",
   "metadata": {},
   "source": [
    "##### Model Initialization"
   ]
  },
  {
   "cell_type": "code",
   "execution_count": 7,
   "metadata": {},
   "outputs": [
    {
     "name": "stdout",
     "output_type": "stream",
     "text": [
      "Addition state fetatures: 14\n",
      "Model saved at /home/sayem/Desktop/Hangman/models/100_untrained_model.pth\n"
     ]
    }
   ],
   "source": [
    "# Fixed parameters\n",
    "max_word_length = 29  # Maximum word length\n",
    "num_embeddings = 28   # Vocabulary size (fixed, based on unique characters in the game)\n",
    "num_features = 159     # Number of features per character\n",
    "missed_char_dim = 28  # Additional dimension for missed characters\n",
    "output_dim = 28       # Output dimension for the model\n",
    "char_feature_dim = 5  # Features per character\n",
    "additional_state_features = num_features \\\n",
    "    - max_word_length * char_feature_dim   # Additional features per state\n",
    "\n",
    "\n",
    "# Tunable hyperparameters\n",
    "LEARNING_RATE = 0.0009279463391755308\n",
    "HIDDEN_DIM = 32 ### 32\n",
    "NUM_LAYERS = 1\n",
    "EMBEDDING_DIM = 50\n",
    "DROPOUT_PROB = 0.33\n",
    "\n",
    "L1_FACTOR = 0.0005236754641745983\n",
    "L2_FACTOR = 0.004375162823431166\n",
    "\n",
    "OPTIMIZER = 'RMSprop'\n",
    "\n",
    "print(f\"Addition state fetatures: {additional_state_features}\")\n",
    "# Initialize the Encoder\n",
    "\n",
    "encoder = Encoder(num_embeddings, EMBEDDING_DIM, max_word_length, \\\n",
    "    char_feature_dim, additional_state_features)\n",
    "\n",
    "input_dim = max_word_length * EMBEDDING_DIM + additional_state_features\n",
    "# Initialize the SimpleLSTM decoder\n",
    "decoder = SimpleLSTM(input_dim=input_dim, \n",
    "                     hidden_dim=HIDDEN_DIM, \n",
    "                     output_dim=output_dim, \n",
    "                     num_layers=NUM_LAYERS,\n",
    "                     missed_char_dim=missed_char_dim,\n",
    "                     dropout_prob=DROPOUT_PROB)\n",
    "\n",
    "\n",
    "# Initialize the HangmanModel\n",
    "lightning_model = HangmanModel(encoder, decoder, \n",
    "                LEARNING_RATE, char_frequency, \n",
    "                max_word_length, optimizer_type=OPTIMIZER, \\\n",
    "                l1_factor=L1_FACTOR,\n",
    "                l2_factor=L2_FACTOR, test_words=sampled_test_words)\n",
    "\n",
    "# Save the model's state dictionary\n",
    "untrained_model_file = models_dir / f\"{NUM_STRATIFIED_SAMPLES}_untrained_model.pth\"\n",
    "torch.save(lightning_model, untrained_model_file)\n",
    "print(f\"Model saved at {untrained_model_file}\")"
   ]
  },
  {
   "cell_type": "markdown",
   "metadata": {},
   "source": [
    "##### Data Module"
   ]
  },
  {
   "cell_type": "code",
   "execution_count": 8,
   "metadata": {},
   "outputs": [],
   "source": [
    "from scr.data_module import *\n",
    "\n",
    "# Initialize Data Module\n",
    "initial_batch_size = 128 # Set your initial batch size\n",
    "\n",
    "# Initialize Data Module with the required arguments\n",
    "data_module = HangmanDataModule(train_dataset, valid_dataset, \n",
    "                                initial_batch_size, \n",
    "                                custom_collate_fn)\n",
    "                                # performance_metrics=None)"
   ]
  },
  {
   "cell_type": "markdown",
   "metadata": {},
   "source": [
    "##### Tuning the Model"
   ]
  },
  {
   "cell_type": "code",
   "execution_count": 9,
   "metadata": {},
   "outputs": [],
   "source": [
    "## callbacks\n",
    "from pytorch_lightning.callbacks import Callback, EarlyStopping\n",
    "from scr.custom_callbacks import *\n",
    "\n",
    "# Setup EarlyStopping to monitor the test_win_rate\n",
    "early_stop_callback = EarlyStopping(\n",
    "    monitor='win_rate',\n",
    "    min_delta=0.00,\n",
    "    patience=10,\n",
    "    verbose=True,\n",
    "    mode='max'  # Maximize the win rate\n",
    ")\n",
    "\n",
    "step_level_early_stopping = StepLevelEarlyStopping(\n",
    "    monitor='val_miss_penalty', # Metric to monitor\n",
    "    min_delta=0.0,              # Minimum change to qualify as an improvement\n",
    "    patience=5                  # Number of steps with no improvement after which training will be stopped\n",
    ")"
   ]
  },
  {
   "cell_type": "code",
   "execution_count": 10,
   "metadata": {},
   "outputs": [
    {
     "name": "stderr",
     "output_type": "stream",
     "text": [
      "[I 2024-02-01 17:12:49,183] A new study created in memory with name: NUM_STRATIFIED_SAMPLES_100_HangmanModelTuning\n"
     ]
    },
    {
     "name": "stdout",
     "output_type": "stream",
     "text": [
      "Starting trial with parameters:\n",
      "  Learning Rate: 0.04684192711305397\n",
      "  Batch Size: 512\n",
      "  Hidden Dim: 128\n",
      "  Num Layers: 5\n",
      "  Embedding Dim: 50\n",
      "  Optimizer Type: SGD\n",
      "  Dropout Prob: 0.259479225369076\n",
      "  L1 Factor: 0.00011063194927799195\n",
      "  L2 Factor: 0.006891452280454699\n"
     ]
    },
    {
     "name": "stderr",
     "output_type": "stream",
     "text": [
      "GPU available: True (cuda), used: True\n",
      "TPU available: False, using: 0 TPU cores\n",
      "IPU available: False, using: 0 IPUs\n",
      "HPU available: False, using: 0 HPUs\n",
      "LOCAL_RANK: 0 - CUDA_VISIBLE_DEVICES: [0]\n",
      "\n",
      "  | Name    | Type       | Params\n",
      "---------------------------------------\n",
      "0 | encoder | Encoder    | 1.4 K \n",
      "1 | decoder | SimpleLSTM | 3.2 M \n",
      "---------------------------------------\n",
      "3.2 M     Trainable params\n",
      "0         Non-trainable params\n",
      "3.2 M     Total params\n",
      "12.945    Total estimated model params size (MB)\n"
     ]
    },
    {
     "name": "stdout",
     "output_type": "stream",
     "text": [
      "Standard batching activated...\n",
      "Standard batching activated...\n",
      "Standard batching activated...\n"
     ]
    },
    {
     "data": {
      "application/vnd.jupyter.widget-view+json": {
       "model_id": "f2162e5105f74a52b7b79765256f61bb",
       "version_major": 2,
       "version_minor": 0
      },
      "text/plain": [
       "Training: |          | 0/? [00:00<?, ?it/s]"
      ]
     },
     "metadata": {},
     "output_type": "display_data"
    },
    {
     "data": {
      "application/vnd.jupyter.widget-view+json": {
       "model_id": "981d5c82a97c43a886236f82930c2fd2",
       "version_major": 2,
       "version_minor": 0
      },
      "text/plain": [
       "Validation: |          | 0/? [00:00<?, ?it/s]"
      ]
     },
     "metadata": {},
     "output_type": "display_data"
    },
    {
     "data": {
      "application/vnd.jupyter.widget-view+json": {
       "model_id": "5b9da0b58d414e65a574f9f187083e55",
       "version_major": 2,
       "version_minor": 0
      },
      "text/plain": [
       "Processing words:   0%|          | 0/1085 [00:00<?, ?word/s]"
      ]
     },
     "metadata": {},
     "output_type": "display_data"
    },
    {
     "name": "stderr",
     "output_type": "stream",
     "text": [
      "Metric win_rate improved. New best score: 1.659\n"
     ]
    },
    {
     "name": "stdout",
     "output_type": "stream",
     "text": [
      "Plot saved to /home/sayem/Desktop/Hangman/plots/win_rates_plot_epoch_0_2024-02-01_17-13-06.png\n",
      "Performance batch sampler activated...\n"
     ]
    },
    {
     "data": {
      "application/vnd.jupyter.widget-view+json": {
       "model_id": "1727115b283949ae8bf6691036f6433d",
       "version_major": 2,
       "version_minor": 0
      },
      "text/plain": [
       "Validation: |          | 0/? [00:00<?, ?it/s]"
      ]
     },
     "metadata": {},
     "output_type": "display_data"
    },
    {
     "data": {
      "application/vnd.jupyter.widget-view+json": {
       "model_id": "ae5348c5184f4ee6b5efd71e5adfc0f7",
       "version_major": 2,
       "version_minor": 0
      },
      "text/plain": [
       "Processing words:   0%|          | 0/1085 [00:00<?, ?word/s]"
      ]
     },
     "metadata": {},
     "output_type": "display_data"
    },
    {
     "name": "stdout",
     "output_type": "stream",
     "text": [
      "Plot saved to /home/sayem/Desktop/Hangman/plots/win_rates_plot_epoch_1_2024-02-01_17-13-24.png\n",
      "Performance batch sampler activated...\n"
     ]
    },
    {
     "data": {
      "application/vnd.jupyter.widget-view+json": {
       "model_id": "518c7f0783ed4fa0908b6dff10cc8ede",
       "version_major": 2,
       "version_minor": 0
      },
      "text/plain": [
       "Validation: |          | 0/? [00:00<?, ?it/s]"
      ]
     },
     "metadata": {},
     "output_type": "display_data"
    },
    {
     "data": {
      "application/vnd.jupyter.widget-view+json": {
       "model_id": "dad7e3ef5f4548a9a46e01154ab3598b",
       "version_major": 2,
       "version_minor": 0
      },
      "text/plain": [
       "Processing words:   0%|          | 0/1085 [00:00<?, ?word/s]"
      ]
     },
     "metadata": {},
     "output_type": "display_data"
    },
    {
     "name": "stdout",
     "output_type": "stream",
     "text": [
      "Plot saved to /home/sayem/Desktop/Hangman/plots/win_rates_plot_epoch_2_2024-02-01_17-13-41.png\n",
      "Performance batch sampler activated...\n"
     ]
    },
    {
     "data": {
      "application/vnd.jupyter.widget-view+json": {
       "model_id": "a4ef2ce319214513aa2579c8386f6798",
       "version_major": 2,
       "version_minor": 0
      },
      "text/plain": [
       "Validation: |          | 0/? [00:00<?, ?it/s]"
      ]
     },
     "metadata": {},
     "output_type": "display_data"
    },
    {
     "data": {
      "application/vnd.jupyter.widget-view+json": {
       "model_id": "0557eda298684d20ac700f54c5a8fda1",
       "version_major": 2,
       "version_minor": 0
      },
      "text/plain": [
       "Processing words:   0%|          | 0/1085 [00:00<?, ?word/s]"
      ]
     },
     "metadata": {},
     "output_type": "display_data"
    },
    {
     "name": "stdout",
     "output_type": "stream",
     "text": [
      "Plot saved to /home/sayem/Desktop/Hangman/plots/win_rates_plot_epoch_3_2024-02-01_17-13-58.png\n",
      "Performance batch sampler activated...\n"
     ]
    },
    {
     "data": {
      "application/vnd.jupyter.widget-view+json": {
       "model_id": "98da24a557654d3a98bf3ad2e048187e",
       "version_major": 2,
       "version_minor": 0
      },
      "text/plain": [
       "Validation: |          | 0/? [00:00<?, ?it/s]"
      ]
     },
     "metadata": {},
     "output_type": "display_data"
    },
    {
     "data": {
      "application/vnd.jupyter.widget-view+json": {
       "model_id": "42fd9638262f4c77bccb24fdde474d93",
       "version_major": 2,
       "version_minor": 0
      },
      "text/plain": [
       "Processing words:   0%|          | 0/1085 [00:00<?, ?word/s]"
      ]
     },
     "metadata": {},
     "output_type": "display_data"
    },
    {
     "name": "stdout",
     "output_type": "stream",
     "text": [
      "Plot saved to /home/sayem/Desktop/Hangman/plots/win_rates_plot_epoch_4_2024-02-01_17-14-16.png\n",
      "Performance batch sampler activated...\n"
     ]
    },
    {
     "data": {
      "application/vnd.jupyter.widget-view+json": {
       "model_id": "c493f82db7d34d068dd7f5a86887b109",
       "version_major": 2,
       "version_minor": 0
      },
      "text/plain": [
       "Validation: |          | 0/? [00:00<?, ?it/s]"
      ]
     },
     "metadata": {},
     "output_type": "display_data"
    },
    {
     "data": {
      "application/vnd.jupyter.widget-view+json": {
       "model_id": "54c806dbbe1746e4a07c4455b1664b89",
       "version_major": 2,
       "version_minor": 0
      },
      "text/plain": [
       "Processing words:   0%|          | 0/1085 [00:00<?, ?word/s]"
      ]
     },
     "metadata": {},
     "output_type": "display_data"
    },
    {
     "name": "stdout",
     "output_type": "stream",
     "text": [
      "Plot saved to /home/sayem/Desktop/Hangman/plots/win_rates_plot_epoch_5_2024-02-01_17-14-33.png\n",
      "Performance batch sampler activated...\n"
     ]
    },
    {
     "data": {
      "application/vnd.jupyter.widget-view+json": {
       "model_id": "884b98f7bd044d41823958dc2eba221f",
       "version_major": 2,
       "version_minor": 0
      },
      "text/plain": [
       "Validation: |          | 0/? [00:00<?, ?it/s]"
      ]
     },
     "metadata": {},
     "output_type": "display_data"
    },
    {
     "data": {
      "application/vnd.jupyter.widget-view+json": {
       "model_id": "cf32d0ee58b34d05a42dddbdf27365b5",
       "version_major": 2,
       "version_minor": 0
      },
      "text/plain": [
       "Processing words:   0%|          | 0/1085 [00:00<?, ?word/s]"
      ]
     },
     "metadata": {},
     "output_type": "display_data"
    },
    {
     "name": "stderr",
     "output_type": "stream",
     "text": [
      "Metric win_rate improved by 0.092 >= min_delta = 0.0. New best score: 1.751\n"
     ]
    },
    {
     "name": "stdout",
     "output_type": "stream",
     "text": [
      "Plot saved to /home/sayem/Desktop/Hangman/plots/win_rates_plot_epoch_6_2024-02-01_17-14-52.png\n",
      "Performance batch sampler activated...\n"
     ]
    },
    {
     "data": {
      "application/vnd.jupyter.widget-view+json": {
       "model_id": "939a880f9d1044dcabe2da968f9bec0c",
       "version_major": 2,
       "version_minor": 0
      },
      "text/plain": [
       "Validation: |          | 0/? [00:00<?, ?it/s]"
      ]
     },
     "metadata": {},
     "output_type": "display_data"
    },
    {
     "data": {
      "application/vnd.jupyter.widget-view+json": {
       "model_id": "effd77a60c854a099f8b3fc9fd89d28d",
       "version_major": 2,
       "version_minor": 0
      },
      "text/plain": [
       "Processing words:   0%|          | 0/1085 [00:00<?, ?word/s]"
      ]
     },
     "metadata": {},
     "output_type": "display_data"
    },
    {
     "name": "stdout",
     "output_type": "stream",
     "text": [
      "Plot saved to /home/sayem/Desktop/Hangman/plots/win_rates_plot_epoch_7_2024-02-01_17-15-11.png\n",
      "Performance batch sampler activated...\n"
     ]
    },
    {
     "data": {
      "application/vnd.jupyter.widget-view+json": {
       "model_id": "382b1365011d4e86bcbb95e493bc5f3c",
       "version_major": 2,
       "version_minor": 0
      },
      "text/plain": [
       "Validation: |          | 0/? [00:00<?, ?it/s]"
      ]
     },
     "metadata": {},
     "output_type": "display_data"
    },
    {
     "data": {
      "application/vnd.jupyter.widget-view+json": {
       "model_id": "6589aac2e0ee45a5baa50f47e0b7f676",
       "version_major": 2,
       "version_minor": 0
      },
      "text/plain": [
       "Processing words:   0%|          | 0/1085 [00:00<?, ?word/s]"
      ]
     },
     "metadata": {},
     "output_type": "display_data"
    },
    {
     "name": "stdout",
     "output_type": "stream",
     "text": [
      "Plot saved to /home/sayem/Desktop/Hangman/plots/win_rates_plot_epoch_8_2024-02-01_17-15-33.png\n",
      "Performance batch sampler activated...\n"
     ]
    },
    {
     "data": {
      "application/vnd.jupyter.widget-view+json": {
       "model_id": "78ea6c31082342ff98efa2395eff9968",
       "version_major": 2,
       "version_minor": 0
      },
      "text/plain": [
       "Validation: |          | 0/? [00:00<?, ?it/s]"
      ]
     },
     "metadata": {},
     "output_type": "display_data"
    },
    {
     "data": {
      "application/vnd.jupyter.widget-view+json": {
       "model_id": "f5f424d434b242b2bf1013f9cc9e09e4",
       "version_major": 2,
       "version_minor": 0
      },
      "text/plain": [
       "Processing words:   0%|          | 0/1085 [00:00<?, ?word/s]"
      ]
     },
     "metadata": {},
     "output_type": "display_data"
    },
    {
     "name": "stderr",
     "output_type": "stream",
     "text": [
      "Metric win_rate improved by 0.369 >= min_delta = 0.0. New best score: 2.120\n"
     ]
    },
    {
     "name": "stdout",
     "output_type": "stream",
     "text": [
      "Plot saved to /home/sayem/Desktop/Hangman/plots/win_rates_plot_epoch_9_2024-02-01_17-15-53.png\n",
      "Performance batch sampler activated...\n"
     ]
    },
    {
     "data": {
      "application/vnd.jupyter.widget-view+json": {
       "model_id": "f060de100c93409f997d5b97262974f6",
       "version_major": 2,
       "version_minor": 0
      },
      "text/plain": [
       "Validation: |          | 0/? [00:00<?, ?it/s]"
      ]
     },
     "metadata": {},
     "output_type": "display_data"
    },
    {
     "data": {
      "application/vnd.jupyter.widget-view+json": {
       "model_id": "026527afed1842469ec81ea13be42eb7",
       "version_major": 2,
       "version_minor": 0
      },
      "text/plain": [
       "Processing words:   0%|          | 0/1085 [00:00<?, ?word/s]"
      ]
     },
     "metadata": {},
     "output_type": "display_data"
    },
    {
     "name": "stderr",
     "output_type": "stream",
     "text": [
      "Metric win_rate improved by 0.184 >= min_delta = 0.0. New best score: 2.304\n"
     ]
    },
    {
     "name": "stdout",
     "output_type": "stream",
     "text": [
      "Plot saved to /home/sayem/Desktop/Hangman/plots/win_rates_plot_epoch_10_2024-02-01_17-16-14.png\n",
      "Performance batch sampler activated...\n"
     ]
    },
    {
     "data": {
      "application/vnd.jupyter.widget-view+json": {
       "model_id": "59a06365b357410698b57234568fb7fd",
       "version_major": 2,
       "version_minor": 0
      },
      "text/plain": [
       "Validation: |          | 0/? [00:00<?, ?it/s]"
      ]
     },
     "metadata": {},
     "output_type": "display_data"
    },
    {
     "data": {
      "application/vnd.jupyter.widget-view+json": {
       "model_id": "747ee7daa740430298ac63de04334a9e",
       "version_major": 2,
       "version_minor": 0
      },
      "text/plain": [
       "Processing words:   0%|          | 0/1085 [00:00<?, ?word/s]"
      ]
     },
     "metadata": {},
     "output_type": "display_data"
    },
    {
     "name": "stdout",
     "output_type": "stream",
     "text": [
      "Plot saved to /home/sayem/Desktop/Hangman/plots/win_rates_plot_epoch_11_2024-02-01_17-16-33.png\n",
      "Performance batch sampler activated...\n"
     ]
    },
    {
     "data": {
      "application/vnd.jupyter.widget-view+json": {
       "model_id": "744d8fe974594f9f88cecb4c480ccb30",
       "version_major": 2,
       "version_minor": 0
      },
      "text/plain": [
       "Validation: |          | 0/? [00:00<?, ?it/s]"
      ]
     },
     "metadata": {},
     "output_type": "display_data"
    },
    {
     "data": {
      "application/vnd.jupyter.widget-view+json": {
       "model_id": "774497269a43479b826a233a70920b50",
       "version_major": 2,
       "version_minor": 0
      },
      "text/plain": [
       "Processing words:   0%|          | 0/1085 [00:00<?, ?word/s]"
      ]
     },
     "metadata": {},
     "output_type": "display_data"
    },
    {
     "name": "stderr",
     "output_type": "stream",
     "text": [
      "Metric win_rate improved by 0.184 >= min_delta = 0.0. New best score: 2.488\n"
     ]
    },
    {
     "name": "stdout",
     "output_type": "stream",
     "text": [
      "Plot saved to /home/sayem/Desktop/Hangman/plots/win_rates_plot_epoch_12_2024-02-01_17-16-54.png\n",
      "Performance batch sampler activated...\n"
     ]
    },
    {
     "data": {
      "application/vnd.jupyter.widget-view+json": {
       "model_id": "c1de0fdfcb434fed9812abc135234c49",
       "version_major": 2,
       "version_minor": 0
      },
      "text/plain": [
       "Validation: |          | 0/? [00:00<?, ?it/s]"
      ]
     },
     "metadata": {},
     "output_type": "display_data"
    },
    {
     "data": {
      "application/vnd.jupyter.widget-view+json": {
       "model_id": "aeb3e1f6acbf44f4a5e95bccdc3afc27",
       "version_major": 2,
       "version_minor": 0
      },
      "text/plain": [
       "Processing words:   0%|          | 0/1085 [00:00<?, ?word/s]"
      ]
     },
     "metadata": {},
     "output_type": "display_data"
    },
    {
     "name": "stderr",
     "output_type": "stream",
     "text": [
      "Metric win_rate improved by 0.461 >= min_delta = 0.0. New best score: 2.949\n"
     ]
    },
    {
     "name": "stdout",
     "output_type": "stream",
     "text": [
      "Plot saved to /home/sayem/Desktop/Hangman/plots/win_rates_plot_epoch_13_2024-02-01_17-17-16.png\n",
      "Performance batch sampler activated...\n"
     ]
    },
    {
     "data": {
      "application/vnd.jupyter.widget-view+json": {
       "model_id": "5c6c084e433042a1adb93200078be7a5",
       "version_major": 2,
       "version_minor": 0
      },
      "text/plain": [
       "Validation: |          | 0/? [00:00<?, ?it/s]"
      ]
     },
     "metadata": {},
     "output_type": "display_data"
    },
    {
     "data": {
      "application/vnd.jupyter.widget-view+json": {
       "model_id": "a8e8889763df47b58c2b43053352ff5a",
       "version_major": 2,
       "version_minor": 0
      },
      "text/plain": [
       "Processing words:   0%|          | 0/1085 [00:00<?, ?word/s]"
      ]
     },
     "metadata": {},
     "output_type": "display_data"
    },
    {
     "name": "stderr",
     "output_type": "stream",
     "text": [
      "Metric win_rate improved by 0.369 >= min_delta = 0.0. New best score: 3.318\n"
     ]
    },
    {
     "name": "stdout",
     "output_type": "stream",
     "text": [
      "Plot saved to /home/sayem/Desktop/Hangman/plots/win_rates_plot_epoch_14_2024-02-01_17-17-35.png\n",
      "Performance batch sampler activated...\n"
     ]
    },
    {
     "data": {
      "application/vnd.jupyter.widget-view+json": {
       "model_id": "9b9783fd14a9433f957c8b9d0feabec5",
       "version_major": 2,
       "version_minor": 0
      },
      "text/plain": [
       "Validation: |          | 0/? [00:00<?, ?it/s]"
      ]
     },
     "metadata": {},
     "output_type": "display_data"
    },
    {
     "data": {
      "application/vnd.jupyter.widget-view+json": {
       "model_id": "f2898c712e8542b89050543b25ff3905",
       "version_major": 2,
       "version_minor": 0
      },
      "text/plain": [
       "Processing words:   0%|          | 0/1085 [00:00<?, ?word/s]"
      ]
     },
     "metadata": {},
     "output_type": "display_data"
    },
    {
     "name": "stderr",
     "output_type": "stream",
     "text": [
      "Metric win_rate improved by 0.184 >= min_delta = 0.0. New best score: 3.502\n"
     ]
    },
    {
     "name": "stdout",
     "output_type": "stream",
     "text": [
      "Plot saved to /home/sayem/Desktop/Hangman/plots/win_rates_plot_epoch_15_2024-02-01_17-17-55.png\n",
      "Performance batch sampler activated...\n"
     ]
    },
    {
     "data": {
      "application/vnd.jupyter.widget-view+json": {
       "model_id": "202e563e9d2548ecb035ce594a0d2b03",
       "version_major": 2,
       "version_minor": 0
      },
      "text/plain": [
       "Validation: |          | 0/? [00:00<?, ?it/s]"
      ]
     },
     "metadata": {},
     "output_type": "display_data"
    },
    {
     "data": {
      "application/vnd.jupyter.widget-view+json": {
       "model_id": "43f1202d67d04041a483a2a80d951d0c",
       "version_major": 2,
       "version_minor": 0
      },
      "text/plain": [
       "Processing words:   0%|          | 0/1085 [00:00<?, ?word/s]"
      ]
     },
     "metadata": {},
     "output_type": "display_data"
    },
    {
     "name": "stderr",
     "output_type": "stream",
     "text": [
      "Metric win_rate improved by 0.092 >= min_delta = 0.0. New best score: 3.594\n"
     ]
    },
    {
     "name": "stdout",
     "output_type": "stream",
     "text": [
      "Plot saved to /home/sayem/Desktop/Hangman/plots/win_rates_plot_epoch_16_2024-02-01_17-18-18.png\n",
      "Performance batch sampler activated...\n"
     ]
    },
    {
     "data": {
      "application/vnd.jupyter.widget-view+json": {
       "model_id": "2fe8722b8eec4b229b1d5a194e3153f5",
       "version_major": 2,
       "version_minor": 0
      },
      "text/plain": [
       "Validation: |          | 0/? [00:00<?, ?it/s]"
      ]
     },
     "metadata": {},
     "output_type": "display_data"
    },
    {
     "data": {
      "application/vnd.jupyter.widget-view+json": {
       "model_id": "a0b2d8cd35d847efae69bad1cd10d02c",
       "version_major": 2,
       "version_minor": 0
      },
      "text/plain": [
       "Processing words:   0%|          | 0/1085 [00:00<?, ?word/s]"
      ]
     },
     "metadata": {},
     "output_type": "display_data"
    },
    {
     "name": "stderr",
     "output_type": "stream",
     "text": [
      "Metric win_rate improved by 1.014 >= min_delta = 0.0. New best score: 4.608\n"
     ]
    },
    {
     "name": "stdout",
     "output_type": "stream",
     "text": [
      "Plot saved to /home/sayem/Desktop/Hangman/plots/win_rates_plot_epoch_17_2024-02-01_17-18-37.png\n",
      "Performance batch sampler activated...\n"
     ]
    },
    {
     "data": {
      "application/vnd.jupyter.widget-view+json": {
       "model_id": "3c1a4c94df6c45848b9da95098605056",
       "version_major": 2,
       "version_minor": 0
      },
      "text/plain": [
       "Validation: |          | 0/? [00:00<?, ?it/s]"
      ]
     },
     "metadata": {},
     "output_type": "display_data"
    },
    {
     "data": {
      "application/vnd.jupyter.widget-view+json": {
       "model_id": "50d3b9117f25439ea666fd7784a629bf",
       "version_major": 2,
       "version_minor": 0
      },
      "text/plain": [
       "Processing words:   0%|          | 0/1085 [00:00<?, ?word/s]"
      ]
     },
     "metadata": {},
     "output_type": "display_data"
    },
    {
     "name": "stderr",
     "output_type": "stream",
     "text": [
      "Metric win_rate improved by 0.461 >= min_delta = 0.0. New best score: 5.069\n"
     ]
    },
    {
     "name": "stdout",
     "output_type": "stream",
     "text": [
      "Plot saved to /home/sayem/Desktop/Hangman/plots/win_rates_plot_epoch_18_2024-02-01_17-18-59.png\n",
      "Performance batch sampler activated...\n"
     ]
    },
    {
     "data": {
      "application/vnd.jupyter.widget-view+json": {
       "model_id": "90583efee83f49a0b1b4649cdc8f9891",
       "version_major": 2,
       "version_minor": 0
      },
      "text/plain": [
       "Validation: |          | 0/? [00:00<?, ?it/s]"
      ]
     },
     "metadata": {},
     "output_type": "display_data"
    },
    {
     "data": {
      "application/vnd.jupyter.widget-view+json": {
       "model_id": "ba4db6465ede4fe18317df4a07d1ae55",
       "version_major": 2,
       "version_minor": 0
      },
      "text/plain": [
       "Processing words:   0%|          | 0/1085 [00:00<?, ?word/s]"
      ]
     },
     "metadata": {},
     "output_type": "display_data"
    },
    {
     "name": "stderr",
     "output_type": "stream",
     "text": [
      "Metric win_rate improved by 0.645 >= min_delta = 0.0. New best score: 5.714\n"
     ]
    },
    {
     "name": "stdout",
     "output_type": "stream",
     "text": [
      "Plot saved to /home/sayem/Desktop/Hangman/plots/win_rates_plot_epoch_19_2024-02-01_17-19-21.png\n",
      "Performance batch sampler activated...\n"
     ]
    },
    {
     "data": {
      "application/vnd.jupyter.widget-view+json": {
       "model_id": "f930cc5e35aa40b9b34efc7f065885aa",
       "version_major": 2,
       "version_minor": 0
      },
      "text/plain": [
       "Validation: |          | 0/? [00:00<?, ?it/s]"
      ]
     },
     "metadata": {},
     "output_type": "display_data"
    },
    {
     "data": {
      "application/vnd.jupyter.widget-view+json": {
       "model_id": "289b4f28764446aca9d3d8747513f895",
       "version_major": 2,
       "version_minor": 0
      },
      "text/plain": [
       "Processing words:   0%|          | 0/1085 [00:00<?, ?word/s]"
      ]
     },
     "metadata": {},
     "output_type": "display_data"
    },
    {
     "name": "stderr",
     "output_type": "stream",
     "text": [
      "Metric win_rate improved by 1.198 >= min_delta = 0.0. New best score: 6.912\n"
     ]
    },
    {
     "name": "stdout",
     "output_type": "stream",
     "text": [
      "Plot saved to /home/sayem/Desktop/Hangman/plots/win_rates_plot_epoch_20_2024-02-01_17-19-42.png\n",
      "Performance batch sampler activated...\n"
     ]
    },
    {
     "data": {
      "application/vnd.jupyter.widget-view+json": {
       "model_id": "12cf3d0de7d34647a33ac015fdcb3a4a",
       "version_major": 2,
       "version_minor": 0
      },
      "text/plain": [
       "Validation: |          | 0/? [00:00<?, ?it/s]"
      ]
     },
     "metadata": {},
     "output_type": "display_data"
    },
    {
     "data": {
      "application/vnd.jupyter.widget-view+json": {
       "model_id": "87ae939f47404234bd1185efef4e3233",
       "version_major": 2,
       "version_minor": 0
      },
      "text/plain": [
       "Processing words:   0%|          | 0/1085 [00:00<?, ?word/s]"
      ]
     },
     "metadata": {},
     "output_type": "display_data"
    },
    {
     "name": "stderr",
     "output_type": "stream",
     "text": [
      "Metric win_rate improved by 1.382 >= min_delta = 0.0. New best score: 8.295\n"
     ]
    },
    {
     "name": "stdout",
     "output_type": "stream",
     "text": [
      "Plot saved to /home/sayem/Desktop/Hangman/plots/win_rates_plot_epoch_21_2024-02-01_17-20-04.png\n",
      "Performance batch sampler activated...\n"
     ]
    },
    {
     "data": {
      "application/vnd.jupyter.widget-view+json": {
       "model_id": "13f40f8195fc494a80696d91442b5aad",
       "version_major": 2,
       "version_minor": 0
      },
      "text/plain": [
       "Validation: |          | 0/? [00:00<?, ?it/s]"
      ]
     },
     "metadata": {},
     "output_type": "display_data"
    },
    {
     "data": {
      "application/vnd.jupyter.widget-view+json": {
       "model_id": "4bcc95d3f3fd4526ab7d6bb712fa3b9e",
       "version_major": 2,
       "version_minor": 0
      },
      "text/plain": [
       "Processing words:   0%|          | 0/1085 [00:00<?, ?word/s]"
      ]
     },
     "metadata": {},
     "output_type": "display_data"
    },
    {
     "name": "stderr",
     "output_type": "stream",
     "text": [
      "Metric win_rate improved by 1.382 >= min_delta = 0.0. New best score: 9.677\n"
     ]
    },
    {
     "name": "stdout",
     "output_type": "stream",
     "text": [
      "Plot saved to /home/sayem/Desktop/Hangman/plots/win_rates_plot_epoch_22_2024-02-01_17-20-25.png\n",
      "Performance batch sampler activated...\n"
     ]
    },
    {
     "data": {
      "application/vnd.jupyter.widget-view+json": {
       "model_id": "10abf32c03564b98b7a0ae2872e49279",
       "version_major": 2,
       "version_minor": 0
      },
      "text/plain": [
       "Validation: |          | 0/? [00:00<?, ?it/s]"
      ]
     },
     "metadata": {},
     "output_type": "display_data"
    },
    {
     "data": {
      "application/vnd.jupyter.widget-view+json": {
       "model_id": "a6beb76cf7e24885b0206c2dda339683",
       "version_major": 2,
       "version_minor": 0
      },
      "text/plain": [
       "Processing words:   0%|          | 0/1085 [00:00<?, ?word/s]"
      ]
     },
     "metadata": {},
     "output_type": "display_data"
    },
    {
     "name": "stderr",
     "output_type": "stream",
     "text": [
      "Metric win_rate improved by 0.553 >= min_delta = 0.0. New best score: 10.230\n"
     ]
    },
    {
     "name": "stdout",
     "output_type": "stream",
     "text": [
      "Plot saved to /home/sayem/Desktop/Hangman/plots/win_rates_plot_epoch_23_2024-02-01_17-20-47.png\n",
      "Performance batch sampler activated...\n"
     ]
    },
    {
     "data": {
      "application/vnd.jupyter.widget-view+json": {
       "model_id": "bed86c6eb9a2457e8a194b018f0fbfe7",
       "version_major": 2,
       "version_minor": 0
      },
      "text/plain": [
       "Validation: |          | 0/? [00:00<?, ?it/s]"
      ]
     },
     "metadata": {},
     "output_type": "display_data"
    },
    {
     "data": {
      "application/vnd.jupyter.widget-view+json": {
       "model_id": "caa0aaa16a4542118a4dde88ec4ec0dd",
       "version_major": 2,
       "version_minor": 0
      },
      "text/plain": [
       "Processing words:   0%|          | 0/1085 [00:00<?, ?word/s]"
      ]
     },
     "metadata": {},
     "output_type": "display_data"
    },
    {
     "name": "stderr",
     "output_type": "stream",
     "text": [
      "Metric win_rate improved by 1.106 >= min_delta = 0.0. New best score: 11.336\n"
     ]
    },
    {
     "name": "stdout",
     "output_type": "stream",
     "text": [
      "Plot saved to /home/sayem/Desktop/Hangman/plots/win_rates_plot_epoch_24_2024-02-01_17-21-09.png\n",
      "Performance batch sampler activated...\n"
     ]
    },
    {
     "data": {
      "application/vnd.jupyter.widget-view+json": {
       "model_id": "7362a80bedc3401ebcf9ba15582cf5a6",
       "version_major": 2,
       "version_minor": 0
      },
      "text/plain": [
       "Validation: |          | 0/? [00:00<?, ?it/s]"
      ]
     },
     "metadata": {},
     "output_type": "display_data"
    },
    {
     "data": {
      "application/vnd.jupyter.widget-view+json": {
       "model_id": "03a4a98eedf24534a376dbc31ac7bd0a",
       "version_major": 2,
       "version_minor": 0
      },
      "text/plain": [
       "Processing words:   0%|          | 0/1085 [00:00<?, ?word/s]"
      ]
     },
     "metadata": {},
     "output_type": "display_data"
    },
    {
     "name": "stderr",
     "output_type": "stream",
     "text": [
      "Metric win_rate improved by 1.843 >= min_delta = 0.0. New best score: 13.180\n"
     ]
    },
    {
     "name": "stdout",
     "output_type": "stream",
     "text": [
      "Plot saved to /home/sayem/Desktop/Hangman/plots/win_rates_plot_epoch_25_2024-02-01_17-21-31.png\n",
      "Performance batch sampler activated...\n"
     ]
    },
    {
     "data": {
      "application/vnd.jupyter.widget-view+json": {
       "model_id": "4f38d6da573f4633941fd67eec29f514",
       "version_major": 2,
       "version_minor": 0
      },
      "text/plain": [
       "Validation: |          | 0/? [00:00<?, ?it/s]"
      ]
     },
     "metadata": {},
     "output_type": "display_data"
    },
    {
     "data": {
      "application/vnd.jupyter.widget-view+json": {
       "model_id": "76c70ce026794d638eb5a5ce40467e16",
       "version_major": 2,
       "version_minor": 0
      },
      "text/plain": [
       "Processing words:   0%|          | 0/1085 [00:00<?, ?word/s]"
      ]
     },
     "metadata": {},
     "output_type": "display_data"
    },
    {
     "name": "stderr",
     "output_type": "stream",
     "text": [
      "Metric win_rate improved by 2.120 >= min_delta = 0.0. New best score: 15.300\n"
     ]
    },
    {
     "name": "stdout",
     "output_type": "stream",
     "text": [
      "Plot saved to /home/sayem/Desktop/Hangman/plots/win_rates_plot_epoch_26_2024-02-01_17-21-54.png\n",
      "Performance batch sampler activated...\n"
     ]
    },
    {
     "data": {
      "application/vnd.jupyter.widget-view+json": {
       "model_id": "5d78dcd3e3324a77bba28218a4f9b148",
       "version_major": 2,
       "version_minor": 0
      },
      "text/plain": [
       "Validation: |          | 0/? [00:00<?, ?it/s]"
      ]
     },
     "metadata": {},
     "output_type": "display_data"
    },
    {
     "data": {
      "application/vnd.jupyter.widget-view+json": {
       "model_id": "5486e6e0a2684e09bd24f03185dbd80d",
       "version_major": 2,
       "version_minor": 0
      },
      "text/plain": [
       "Processing words:   0%|          | 0/1085 [00:00<?, ?word/s]"
      ]
     },
     "metadata": {},
     "output_type": "display_data"
    },
    {
     "name": "stderr",
     "output_type": "stream",
     "text": [
      "Metric win_rate improved by 0.184 >= min_delta = 0.0. New best score: 15.484\n"
     ]
    },
    {
     "name": "stdout",
     "output_type": "stream",
     "text": [
      "Plot saved to /home/sayem/Desktop/Hangman/plots/win_rates_plot_epoch_27_2024-02-01_17-22-15.png\n",
      "Performance batch sampler activated...\n"
     ]
    },
    {
     "data": {
      "application/vnd.jupyter.widget-view+json": {
       "model_id": "371fb7639cc84f2fb51a4ec91c0c957e",
       "version_major": 2,
       "version_minor": 0
      },
      "text/plain": [
       "Validation: |          | 0/? [00:00<?, ?it/s]"
      ]
     },
     "metadata": {},
     "output_type": "display_data"
    },
    {
     "data": {
      "application/vnd.jupyter.widget-view+json": {
       "model_id": "6162e3df328c4cb59463b73ac7a8959b",
       "version_major": 2,
       "version_minor": 0
      },
      "text/plain": [
       "Processing words:   0%|          | 0/1085 [00:00<?, ?word/s]"
      ]
     },
     "metadata": {},
     "output_type": "display_data"
    },
    {
     "name": "stderr",
     "output_type": "stream",
     "text": [
      "Metric win_rate improved by 0.092 >= min_delta = 0.0. New best score: 15.576\n"
     ]
    },
    {
     "name": "stdout",
     "output_type": "stream",
     "text": [
      "Plot saved to /home/sayem/Desktop/Hangman/plots/win_rates_plot_epoch_28_2024-02-01_17-22-38.png\n",
      "Performance batch sampler activated...\n"
     ]
    },
    {
     "data": {
      "application/vnd.jupyter.widget-view+json": {
       "model_id": "d612910de1fa4907ad44b5161b8428fd",
       "version_major": 2,
       "version_minor": 0
      },
      "text/plain": [
       "Validation: |          | 0/? [00:00<?, ?it/s]"
      ]
     },
     "metadata": {},
     "output_type": "display_data"
    },
    {
     "data": {
      "application/vnd.jupyter.widget-view+json": {
       "model_id": "62a580e9a63440018af43e912b65d738",
       "version_major": 2,
       "version_minor": 0
      },
      "text/plain": [
       "Processing words:   0%|          | 0/1085 [00:00<?, ?word/s]"
      ]
     },
     "metadata": {},
     "output_type": "display_data"
    },
    {
     "name": "stderr",
     "output_type": "stream",
     "text": [
      "Metric win_rate improved by 0.092 >= min_delta = 0.0. New best score: 15.668\n"
     ]
    },
    {
     "name": "stdout",
     "output_type": "stream",
     "text": [
      "Plot saved to /home/sayem/Desktop/Hangman/plots/win_rates_plot_epoch_29_2024-02-01_17-22-59.png\n",
      "Performance batch sampler activated...\n"
     ]
    },
    {
     "data": {
      "application/vnd.jupyter.widget-view+json": {
       "model_id": "f726b65083354175aaac24f6ed8be2e6",
       "version_major": 2,
       "version_minor": 0
      },
      "text/plain": [
       "Validation: |          | 0/? [00:00<?, ?it/s]"
      ]
     },
     "metadata": {},
     "output_type": "display_data"
    },
    {
     "data": {
      "application/vnd.jupyter.widget-view+json": {
       "model_id": "a22c15230397476e9025a5a75ddd737f",
       "version_major": 2,
       "version_minor": 0
      },
      "text/plain": [
       "Processing words:   0%|          | 0/1085 [00:00<?, ?word/s]"
      ]
     },
     "metadata": {},
     "output_type": "display_data"
    },
    {
     "name": "stderr",
     "output_type": "stream",
     "text": [
      "Metric win_rate improved by 0.092 >= min_delta = 0.0. New best score: 15.760\n"
     ]
    },
    {
     "name": "stdout",
     "output_type": "stream",
     "text": [
      "Plot saved to /home/sayem/Desktop/Hangman/plots/win_rates_plot_epoch_30_2024-02-01_17-23-21.png\n",
      "Performance batch sampler activated...\n"
     ]
    },
    {
     "data": {
      "application/vnd.jupyter.widget-view+json": {
       "model_id": "4230aa558930469d983fdc5f56d82b4e",
       "version_major": 2,
       "version_minor": 0
      },
      "text/plain": [
       "Validation: |          | 0/? [00:00<?, ?it/s]"
      ]
     },
     "metadata": {},
     "output_type": "display_data"
    },
    {
     "data": {
      "application/vnd.jupyter.widget-view+json": {
       "model_id": "f807a2be5b0742cebdab908af9226ea2",
       "version_major": 2,
       "version_minor": 0
      },
      "text/plain": [
       "Processing words:   0%|          | 0/1085 [00:00<?, ?word/s]"
      ]
     },
     "metadata": {},
     "output_type": "display_data"
    },
    {
     "name": "stdout",
     "output_type": "stream",
     "text": [
      "Plot saved to /home/sayem/Desktop/Hangman/plots/win_rates_plot_epoch_31_2024-02-01_17-23-40.png\n",
      "Performance batch sampler activated...\n"
     ]
    },
    {
     "data": {
      "application/vnd.jupyter.widget-view+json": {
       "model_id": "d10c97e419cc47c3920ae0c75cb6c15a",
       "version_major": 2,
       "version_minor": 0
      },
      "text/plain": [
       "Validation: |          | 0/? [00:00<?, ?it/s]"
      ]
     },
     "metadata": {},
     "output_type": "display_data"
    },
    {
     "data": {
      "application/vnd.jupyter.widget-view+json": {
       "model_id": "30a86a73213c42d3b13a861b92ecfed9",
       "version_major": 2,
       "version_minor": 0
      },
      "text/plain": [
       "Processing words:   0%|          | 0/1085 [00:00<?, ?word/s]"
      ]
     },
     "metadata": {},
     "output_type": "display_data"
    },
    {
     "name": "stdout",
     "output_type": "stream",
     "text": [
      "Plot saved to /home/sayem/Desktop/Hangman/plots/win_rates_plot_epoch_32_2024-02-01_17-23-59.png\n",
      "Performance batch sampler activated...\n"
     ]
    },
    {
     "data": {
      "application/vnd.jupyter.widget-view+json": {
       "model_id": "cb0814afecc64db99cb88aacda50a2c4",
       "version_major": 2,
       "version_minor": 0
      },
      "text/plain": [
       "Validation: |          | 0/? [00:00<?, ?it/s]"
      ]
     },
     "metadata": {},
     "output_type": "display_data"
    },
    {
     "data": {
      "application/vnd.jupyter.widget-view+json": {
       "model_id": "32684a25a2574b44a7ea7b8fde5b1ec4",
       "version_major": 2,
       "version_minor": 0
      },
      "text/plain": [
       "Processing words:   0%|          | 0/1085 [00:00<?, ?word/s]"
      ]
     },
     "metadata": {},
     "output_type": "display_data"
    },
    {
     "name": "stdout",
     "output_type": "stream",
     "text": [
      "Plot saved to /home/sayem/Desktop/Hangman/plots/win_rates_plot_epoch_33_2024-02-01_17-24-18.png\n",
      "Performance batch sampler activated...\n"
     ]
    },
    {
     "data": {
      "application/vnd.jupyter.widget-view+json": {
       "model_id": "1035f9ff75234041aff57d05534de906",
       "version_major": 2,
       "version_minor": 0
      },
      "text/plain": [
       "Validation: |          | 0/? [00:00<?, ?it/s]"
      ]
     },
     "metadata": {},
     "output_type": "display_data"
    },
    {
     "data": {
      "application/vnd.jupyter.widget-view+json": {
       "model_id": "9e7009db9ebc4f31a99c0bc172691192",
       "version_major": 2,
       "version_minor": 0
      },
      "text/plain": [
       "Processing words:   0%|          | 0/1085 [00:00<?, ?word/s]"
      ]
     },
     "metadata": {},
     "output_type": "display_data"
    },
    {
     "name": "stdout",
     "output_type": "stream",
     "text": [
      "Plot saved to /home/sayem/Desktop/Hangman/plots/win_rates_plot_epoch_34_2024-02-01_17-24-37.png\n",
      "Performance batch sampler activated...\n"
     ]
    },
    {
     "data": {
      "application/vnd.jupyter.widget-view+json": {
       "model_id": "a5ad19320185441fbac24207c3cf6990",
       "version_major": 2,
       "version_minor": 0
      },
      "text/plain": [
       "Validation: |          | 0/? [00:00<?, ?it/s]"
      ]
     },
     "metadata": {},
     "output_type": "display_data"
    },
    {
     "data": {
      "application/vnd.jupyter.widget-view+json": {
       "model_id": "004ae10a4f8e417f980940e10de992cf",
       "version_major": 2,
       "version_minor": 0
      },
      "text/plain": [
       "Processing words:   0%|          | 0/1085 [00:00<?, ?word/s]"
      ]
     },
     "metadata": {},
     "output_type": "display_data"
    },
    {
     "name": "stdout",
     "output_type": "stream",
     "text": [
      "Plot saved to /home/sayem/Desktop/Hangman/plots/win_rates_plot_epoch_35_2024-02-01_17-24-59.png\n",
      "Performance batch sampler activated...\n"
     ]
    },
    {
     "data": {
      "application/vnd.jupyter.widget-view+json": {
       "model_id": "2c8de793087240a0b8cd58d8a0a35e4b",
       "version_major": 2,
       "version_minor": 0
      },
      "text/plain": [
       "Validation: |          | 0/? [00:00<?, ?it/s]"
      ]
     },
     "metadata": {},
     "output_type": "display_data"
    },
    {
     "data": {
      "application/vnd.jupyter.widget-view+json": {
       "model_id": "53d10ec129b24e428e30796f6158e620",
       "version_major": 2,
       "version_minor": 0
      },
      "text/plain": [
       "Processing words:   0%|          | 0/1085 [00:00<?, ?word/s]"
      ]
     },
     "metadata": {},
     "output_type": "display_data"
    },
    {
     "name": "stdout",
     "output_type": "stream",
     "text": [
      "Plot saved to /home/sayem/Desktop/Hangman/plots/win_rates_plot_epoch_36_2024-02-01_17-25-21.png\n",
      "Performance batch sampler activated...\n"
     ]
    },
    {
     "data": {
      "application/vnd.jupyter.widget-view+json": {
       "model_id": "4882b3cf46dc462d9f87f1cdda8fd23a",
       "version_major": 2,
       "version_minor": 0
      },
      "text/plain": [
       "Validation: |          | 0/? [00:00<?, ?it/s]"
      ]
     },
     "metadata": {},
     "output_type": "display_data"
    },
    {
     "data": {
      "application/vnd.jupyter.widget-view+json": {
       "model_id": "f66d4a0a25ff45c1a634c09c420311a2",
       "version_major": 2,
       "version_minor": 0
      },
      "text/plain": [
       "Processing words:   0%|          | 0/1085 [00:00<?, ?word/s]"
      ]
     },
     "metadata": {},
     "output_type": "display_data"
    }
   ],
   "source": [
    "import optuna\n",
    "import pytorch_lightning as pl\n",
    "from pytorch_lightning.callbacks import EarlyStopping, ModelCheckpoint\n",
    "from pytorch_lightning.loggers import TensorBoardLogger\n",
    "from pathlib import Path\n",
    "import shutil  # For directory cleanup\n",
    "\n",
    "# Assuming necessary imports from your custom modules and PyTorch Lightning are done here\n",
    "\n",
    "# Clear previous runs\n",
    "base_dir = Path(\"/home/sayem/Desktop/Hangman\")\n",
    "checkpoints_dir = base_dir / \"checkpoints\"\n",
    "\n",
    "# Clear out the old checkpoints and logs before starting a new run\n",
    "if checkpoints_dir.exists():\n",
    "    shutil.rmtree(checkpoints_dir)  # Remove the directory and all its contents\n",
    "\n",
    "# Recreate the checkpoints directory after clearing it\n",
    "checkpoints_dir.mkdir(parents=True, exist_ok=True)\n",
    "\n",
    "# Now, create the tb_logs_dir inside the newly created checkpoints_dir\n",
    "tb_logs_dir = checkpoints_dir / \"tb_logs\" / \"HangmanModel\"\n",
    "tb_logs_dir.mkdir(parents=True, exist_ok=True)  # Ensure this directory is created after the checkpoints_dir\n",
    "\n",
    "\n",
    "# Define a callback function for Optuna\n",
    "def trial_callback(study, trial):\n",
    "    # This function will be called at the end of each trial\n",
    "    print(f\"Trial {trial.number} finished with value: {trial.value} and parameters: {trial.params}.\")\n",
    "    print(f\" Best trial so far: Trial {study.best_trial.number}\")\n",
    "    print(f\" Best win rate so far: {study.best_trial.value}\")\n",
    "\n",
    "def objective(trial):\n",
    "    # Hyperparameters to be tuned by Optuna\n",
    "    learning_rate = trial.suggest_loguniform('learning_rate', 1e-5, 1e-1)\n",
    "    batch_size = trial.suggest_categorical('batch_size', [128, 256, 512, 1024])\n",
    "    hidden_dim = trial.suggest_categorical('hidden_dim', [16, 32, 64, 128])\n",
    "    num_layers = trial.suggest_int('num_layers', 1, 5)\n",
    "    embedding_dim = trial.suggest_categorical('embedding_dim', [20, 30, 40, 50])\n",
    "    optimizer_type = trial.suggest_categorical('optimizer_type', ['Adam', 'AdamW', 'SGD', 'RMSprop'])\n",
    "    dropout_prob = trial.suggest_float('dropout_prob', 0.0, 0.5)  # Suggesting dropout probability\n",
    "    l1_factor = trial.suggest_float('l1_factor', 1e-5, 1e-1, log=True)  # Suggesting L1 regularization factor\n",
    "    l2_factor = trial.suggest_float('l2_factor', 1e-5, 1e-1, log=True)  # Suggesting L2 regularization factor\n",
    "\n",
    "    print(f\"Starting trial with parameters:\\n\"\n",
    "          f\"  Learning Rate: {learning_rate}\\n\"\n",
    "          f\"  Batch Size: {batch_size}\\n\"\n",
    "          f\"  Hidden Dim: {hidden_dim}\\n\"\n",
    "          f\"  Num Layers: {num_layers}\\n\"\n",
    "          f\"  Embedding Dim: {embedding_dim}\\n\"\n",
    "          f\"  Optimizer Type: {optimizer_type}\\n\"\n",
    "          f\"  Dropout Prob: {dropout_prob}\\n\"\n",
    "          f\"  L1 Factor: {l1_factor}\\n\"\n",
    "          f\"  L2 Factor: {l2_factor}\")  # Printing all tuned parameters\n",
    "\n",
    "    # Update the batch size in the data module\n",
    "    data_module.batch_size = batch_size\n",
    "\n",
    "    # Re-instantiate the encoder and decoder with the new hyperparameters\n",
    "    encoder = Encoder(num_embeddings, embedding_dim, max_word_length, char_feature_dim, additional_state_features)\n",
    "    \n",
    "    input_dim = max_word_length * embedding_dim + additional_state_features\n",
    "    \n",
    "    decoder = SimpleLSTM(input_dim=input_dim, hidden_dim=hidden_dim, output_dim=output_dim,\n",
    "                        num_layers=num_layers, missed_char_dim=missed_char_dim, \\\n",
    "                        dropout_prob=dropout_prob)  # Using the dropout probability\n",
    "\n",
    "    # Re-instantiate the model with the new encoder, decoder, learning rate, optimizer type, and regularization factors\n",
    "    model = HangmanModel(encoder, decoder, learning_rate, char_frequency, max_word_length, \n",
    "                         optimizer_type=optimizer_type, l1_factor=l1_factor, l2_factor=l2_factor, \n",
    "                         test_words=sampled_test_words)\n",
    "\n",
    "    # Set up PyTorch Lightning Trainer with Optuna integration\n",
    "    logger = TensorBoardLogger(checkpoints_dir / \"tb_logs\", name=\"HangmanModel\")\n",
    "    \n",
    "    checkpoint_callback = ModelCheckpoint(dirpath=checkpoints_dir, filename=\"best-checkpoint\", \n",
    "                                          monitor=\"win_rate\", mode=\"max\", save_top_k=1)\n",
    "\n",
    "    trainer = pl.Trainer(\n",
    "        default_root_dir=checkpoints_dir,\n",
    "        logger=logger,\n",
    "        callbacks=[checkpoint_callback, early_stop_callback],\n",
    "        max_epochs=MAX_EPOCH,\n",
    "        log_every_n_steps=10,\n",
    "        enable_progress_bar=True,\n",
    "        fast_dev_run=False,\n",
    "        num_sanity_val_steps=0,\n",
    "        reload_dataloaders_every_n_epochs=1\n",
    "    )\n",
    "\n",
    "    # Fit the model\n",
    "    trainer.fit(model, datamodule=data_module)\n",
    "\n",
    "    # Return the best win rate recorded during training\n",
    "    best_win_rate = checkpoint_callback.best_model_score.item() \\\n",
    "        if checkpoint_callback.best_model_score is not None else 0\n",
    "\n",
    "    return best_win_rate\n",
    "\n",
    "# Create an Optuna study with a name and optimize the objective function\n",
    "study_name = f\"NUM_STRATIFIED_SAMPLES_{NUM_STRATIFIED_SAMPLES}_HangmanModelTuning\"\n",
    "\n",
    "study = optuna.create_study(direction='maximize', study_name=study_name)\n",
    "study.optimize(objective, n_trials=2, callbacks=[trial_callback])\n",
    "\n",
    "# Output the best trial\n",
    "best_trial = study.best_trial\n",
    "print(f\"Best trial: LR={best_trial.params['learning_rate']}, Batch Size={best_trial.params['batch_size']}\")\n",
    "print(f\"Best win rate: {best_trial.value}\")\n",
    "\n",
    "# Save the study results for further analysis\n",
    "# Construct the filename with the NUM_STRATIFIED_SAMPLES prefix\n",
    "filename = f\"NUM_STRATIFIED_SAMPLES_{NUM_STRATIFIED_SAMPLES}_optuna_study_results.csv\"\n",
    "\n",
    "# Save the study results to the specified file\n",
    "study.trials_dataframe().to_csv(checkpoints_dir / filename)\n",
    "\n",
    "# # Load the best model - This needs to be done after the study has concluded\n",
    "# best_model_path = checkpoint_callback.best_model_path\n",
    "# best_model = HangmanModel.load_from_checkpoint(checkpoint_path=best_model_path)"
   ]
  },
  {
   "cell_type": "code",
   "execution_count": null,
   "metadata": {},
   "outputs": [],
   "source": [
    "STOP"
   ]
  },
  {
   "cell_type": "code",
   "execution_count": null,
   "metadata": {},
   "outputs": [],
   "source": [
    "from pytorch_lightning.profilers import SimpleProfiler\n",
    "import pytorch_lightning as pl\n",
    "from scr.custom_callbacks import *\n",
    "from scr.dataset import *\n",
    "from scr.data_module import *\n",
    "from scr.trainer_ import *\n",
    "\n",
    "torch.cuda.empty_cache()\n",
    "\n",
    "# # Create Callbacks\n",
    "# loss_logging_callback = LossLoggingCallback()\n",
    "\n",
    "# , SchedulerSetupCallback()] # , loss_logging_callback]\n",
    "callbacks = [early_stop_callback, step_level_early_stopping] \n",
    "FAST_DEV_RUN = False\n",
    "# # Calculate the minimum percentage of validation batches\n",
    "# min_val_batches = 1 / len(data_module.val_dataloader())\n",
    "\n",
    "# # Create Trainer with Callbacks\n",
    "trainer = pl.Trainer(\n",
    "    default_root_dir=output_dir,\n",
    "    fast_dev_run=FAST_DEV_RUN, \n",
    "    max_epochs=MAX_EPOCH, \n",
    "    callbacks=callbacks,\n",
    "    num_sanity_val_steps=0,\n",
    "    reload_dataloaders_every_n_epochs=1,\n",
    "    enable_progress_bar=True \n",
    "    # val_check_interval=0.5\n",
    "    # limit_train_batches=2,  # Limit the number of training batches to 2\n",
    "    # limit_val_batches=2     # Limit the number of validation batches to 2\n",
    ")\n",
    "\n",
    "# # # # # print(f\"Running for {NUM_STRATIFIED_SAMPLES} samples...\")\n",
    "# # # print()\n",
    "# # # # # # # Assuming combined_eval_metrics is a list of dictionaries\n",
    "# combined_eval_metrics = trainer.validate(model=lightning_model, datamodule=data_module)\n",
    "\n",
    "# # performance_metrics_dict = {k: v for d in combined_eval_metrics for k, v in d.items()}\n",
    "\n",
    "# # # # # # print(\"Converted Performance Metrics Dictb ionary:\", performance_metrics_dict)\n",
    "\n",
    "# # trainer.datamodule.update_performance_metrics(combined_eval_metrics)\n",
    "\n",
    "# data_module.update_performance_metrics(performance_metrics_dict)\n",
    "\n",
    "\n",
    "# # Define the objective function for Optuna\n",
    "# def objective(trial):\n",
    "#     # Hyperparameters to be tuned by Optuna\n",
    "#     learning_rate = trial.suggest_loguniform('learning_rate', 1e-5, 1e-1)\n",
    "#     batch_size = trial.suggest_categorical('batch_size', [128, 256, 512, 1024])\n",
    "#     hidden_dim = trial.suggest_categorical('hidden_dim', [16, 32, 64, 128])\n",
    "#     num_layers = trial.suggest_int('num_layers', 1, 5)\n",
    "#     embedding_dim = trial.suggest_categorical('embedding_dim', [20, 30, 40, 50])\n",
    "\n",
    "#     print(f\"Starting trial with parameters:\\n\"\n",
    "#         f\"  Learning Rate: {learning_rate}\\n\"\n",
    "#         f\"  Batch Size: {batch_size}\\n\"\n",
    "#         f\"  Hidden Dim: {hidden_dim}\\n\"\n",
    "#         f\"  Num Layers: {num_layers}\\n\"\n",
    "#         f\"  Embedding Dim: {embedding_dim}\")\n",
    "\n",
    "#     # Update the batch size in the data module\n",
    "#     data_module.batch_size = batch_size\n",
    "\n",
    "#     # Re-instantiate the encoder and decoder with the new hyperparameters\n",
    "#     encoder = Encoder(num_embeddings, embedding_dim, \\\n",
    "#         max_word_length, char_feature_dim, additional_state_features)\n",
    "\n",
    "#     input_dim = max_word_length * embedding_dim + additional_state_features\n",
    "\n",
    "#     decoder = SimpleLSTM(input_dim=input_dim, hidden_dim=hidden_dim, \\\n",
    "#             output_dim=output_dim, num_layers=num_layers, \\\n",
    "#             missed_char_dim=missed_char_dim)\n",
    "\n",
    "#     # Re-instantiate the model with the new encoder, decoder, and learning rate\n",
    "#     model = HangmanModel(encoder, decoder, learning_rate, char_frequency, \\\n",
    "#         max_word_length, test_words=sampled_test_words)\n",
    "\n",
    "#     # Set up PyTorch Lightning Trainer with Optuna integration\n",
    "#     logger = TensorBoardLogger(checkpoints_dir / \"tb_logs\", name=\"HangmanModel\")\n",
    "#     checkpoint_callback = ModelCheckpoint(dirpath=checkpoints_dir, \\\n",
    "#         filename=\"best-checkpoint\", monitor=\"win_rate\", mode=\"max\", save_top_k=1)\n",
    "\n",
    "#     trainer = pl.Trainer(\n",
    "#         default_root_dir=checkpoints_dir,\n",
    "#         logger=logger,\n",
    "#         callbacks=[checkpoint_callback],\n",
    "#         max_epochs=MAX_EPOCH,\n",
    "#         log_every_n_steps=10,\n",
    "#         enable_progress_bar=True,\n",
    "#         fast_dev_run=False,\n",
    "#         num_sanity_val_steps=0,\n",
    "#         reload_dataloaders_every_n_epochs=1\n",
    "#     )\n",
    "\n",
    "#     # Fit the model\n",
    "#     trainer.fit(model, datamodule=data_module)\n",
    "\n",
    "#     # Return the best win rate recorded during training\n",
    "#     best_win_rate = checkpoint_callback.best_model_score.item() \\\n",
    "#         if checkpoint_callback.best_model_score is not None else 0\n",
    "\n",
    "#     return best_win_rate\n"
   ]
  },
  {
   "cell_type": "markdown",
   "metadata": {},
   "source": [
    "##### Tuning: lr"
   ]
  },
  {
   "cell_type": "code",
   "execution_count": null,
   "metadata": {},
   "outputs": [],
   "source": [
    "# from pytorch_lightning.tuner.tuning import Tuner\n",
    "\n",
    "# # Assuming lightning_model, train_loader, and val_loader are already defined\n",
    "# # Initialize the tuner with your trainer\n",
    "# tuner = Tuner(trainer)\n",
    "\n",
    "# # Run the learning rate finder using the data module\n",
    "# lr_finder = tuner.lr_find(model=lightning_model, \n",
    "#                         datamodule=data_module)\n",
    "\n",
    "# # Plot the learning rate finder results\n",
    "# fig = lr_finder.plot(suggest=True)\n",
    "# fig.show()\n",
    "\n",
    "# # Get the suggested learning rate\n",
    "# new_lr = lr_finder.suggestion()\n",
    "# print(f\"Suggested Learning Rate: {new_lr}\")\n",
    "\n",
    "# # Update model's learning rate\n",
    "# lightning_model.learning_rate = 0.017378008287493765 # new_lr\n",
    "\n",
    "# # Optionally, you can view the results of the LR finder\n",
    "# print(lr_finder.results)"
   ]
  },
  {
   "cell_type": "code",
   "execution_count": null,
   "metadata": {},
   "outputs": [],
   "source": [
    "# Update model's learning rate\n",
    "lightning_model.learning_rate = 0.017378008287493765 # new_lr"
   ]
  },
  {
   "cell_type": "markdown",
   "metadata": {},
   "source": [
    "##### Tuning: Batch"
   ]
  },
  {
   "cell_type": "code",
   "execution_count": null,
   "metadata": {},
   "outputs": [],
   "source": [
    "# # Assuming lightning_model is already defined\n",
    "# new_batch_size = tuner.scale_batch_size(\n",
    "#     model=lightning_model,\n",
    "#     datamodule=data_module,\n",
    "#     mode='power',  # or 'binsearch'\n",
    "#     steps_per_trial=10,\n",
    "#     init_val=64,\n",
    "#     max_trials=4\n",
    "# )\n",
    "\n",
    "# Update the batch size in the data module\n",
    "data_module.batch_size = 1024 # new_batch_size\n",
    "\n",
    "# print(f\"Tune Batch size: \", new_batch_size)"
   ]
  },
  {
   "cell_type": "markdown",
   "metadata": {},
   "source": [
    "##### Training"
   ]
  },
  {
   "cell_type": "code",
   "execution_count": null,
   "metadata": {},
   "outputs": [],
   "source": [
    "# # # # # Validate the model (if needed)\n",
    "# trainer.validate(model=lightning_model, datamodule=data_module)\n",
    "print(f\"Training Begin for {NUM_STRATIFIED_SAMPLES} words: {len(train_dataset)} Games\")\n",
    "# # # # # # Fit the model\n",
    "trainer.fit(lightning_model, data_module)\n",
    "\n",
    "# # Optionally print the profiler summary\n",
    "# # print(profiler.summary())\n",
    "\n",
    "# # Save the entire model\n",
    "# trained_model_file = models_dir / f\"{NUM_STRATIFIED_SAMPLES}_trained_model.pth\"\n",
    "# torch.save(lightning_model, trained_model_file)\n",
    "# print(f\"Model saved at {trained_model_file}\")"
   ]
  },
  {
   "cell_type": "code",
   "execution_count": null,
   "metadata": {},
   "outputs": [],
   "source": [
    "# Save the entire model\n",
    "trained_model_file = models_dir / f\"{NUM_STRATIFIED_SAMPLES}_trained_model.pth\"\n",
    "torch.save(lightning_model, trained_model_file)\n",
    "print(f\"Model saved at {trained_model_file}\")"
   ]
  },
  {
   "cell_type": "markdown",
   "metadata": {},
   "source": [
    "##### Testing"
   ]
  },
  {
   "cell_type": "code",
   "execution_count": null,
   "metadata": {},
   "outputs": [],
   "source": [
    "# Finding the maximum word length in the list\n",
    "max_word_length_in_list = max(len(word) for word in sampled_test_words)\n",
    "\n",
    "max_word_length_in_list"
   ]
  },
  {
   "cell_type": "code",
   "execution_count": null,
   "metadata": {},
   "outputs": [],
   "source": [
    "# # Load the entire LSTM model object\n",
    "# untrained_model_file_path = models_dir / f\"{NUM_STRATIFIED_SAMPLES}_trained_model.pth\"\n",
    "\n",
    "untrained_model = torch.load(untrained_model_file)\n",
    "\n",
    "# Example usage\n",
    "result = play_games_and_calculate_stats(untrained_model, \\\n",
    "    sampled_test_words, char_frequency, max_word_length)\n",
    "\n",
    "print(f\"Untrained model performence: {result['overall_win_rate']} % win rate\")\n",
    "\n",
    "performance_metrics = result['length_wise_stats']\n",
    "\n",
    "# print(performance_metrics)\n",
    "\n",
    "from scr.utils import *\n",
    "\n",
    "plot_hangman_stats(performance_metrics)\n",
    "\n",
    "for length, data in result[\"length_wise_stats\"].items():\n",
    "    print(f\"Length {length}: Win Rate: {data['win_rate']}%, Average Attempts: {data['average_attempts_used']}\")"
   ]
  },
  {
   "cell_type": "code",
   "execution_count": null,
   "metadata": {},
   "outputs": [],
   "source": [
    "# trained_model_file_path = models_dir / f\"{NUM_STRATIFIED_SAMPLES}_trained_model.pth\"\n",
    "# trained_model = torch.load(trained_model_file_path)\n",
    "# print(type(trained_model))"
   ]
  },
  {
   "cell_type": "code",
   "execution_count": null,
   "metadata": {},
   "outputs": [],
   "source": [
    "# # Load the entire LSTM model object\n",
    "\n",
    "# trained_model_file_path = models_dir / f\"{NUM_STRATIFIED_SAMPLES}_trained_model.pth\"\n",
    "# trained_model = torch.load(trained_model_file_path)\n",
    "\n",
    "# # # If you want to use the model for inference\n",
    "# # trained_model.eval()  # Set the model to evaluation mode\n",
    "\n",
    "# from scr.game import *\n",
    "\n",
    "# word = 'may'\n",
    "\n",
    "# play_game_with_a_word(trained_model, \\\n",
    "#     word, char_frequency, max_word_length)"
   ]
  },
  {
   "cell_type": "code",
   "execution_count": null,
   "metadata": {},
   "outputs": [],
   "source": [
    "# # Example usage\n",
    "# result = play_games_and_calculate_stats(trained_model, \\\n",
    "#     sampled_test_words, char_frequency, max_word_length)\n",
    "\n",
    "# print(f\"Overall Win Rate: {result['overall_win_rate']}%, Overall Average Attempts: {result['overall_avg_attempts']}\")\n",
    "\n",
    "# # for length, data in result[\"length_wise_stats\"].items():\n",
    "# #     print(f\"Length {length}: Win Rate: {data['win_rate']}%, Average Attempts: {data['average_attempts_used']}\")"
   ]
  },
  {
   "cell_type": "code",
   "execution_count": null,
   "metadata": {},
   "outputs": [],
   "source": [
    "performance_metrics = result['length_wise_stats']\n",
    "\n",
    "plot_hangman_stats(performance_metrics)"
   ]
  },
  {
   "cell_type": "code",
   "execution_count": null,
   "metadata": {},
   "outputs": [],
   "source": [
    "performance_metrics"
   ]
  }
 ],
 "metadata": {
  "kernelspec": {
   "display_name": "optiver",
   "language": "python",
   "name": "python3"
  },
  "language_info": {
   "codemirror_mode": {
    "name": "ipython",
    "version": 3
   },
   "file_extension": ".py",
   "mimetype": "text/x-python",
   "name": "python",
   "nbconvert_exporter": "python",
   "pygments_lexer": "ipython3",
   "version": "3.10.13"
  }
 },
 "nbformat": 4,
 "nbformat_minor": 2
}
