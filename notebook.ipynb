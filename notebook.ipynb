{
 "cells": [
  {
   "cell_type": "markdown",
   "metadata": {},
   "source": [
    "##### Imports"
   ]
  },
  {
   "cell_type": "code",
   "execution_count": 1,
   "metadata": {},
   "outputs": [],
   "source": [
    "import sys\n",
    "from pathlib import Path\n",
    "import warnings\n",
    "\n",
    "import warnings\n",
    "import pandas as pd\n",
    "warnings.filterwarnings('ignore')\n",
    "\n",
    "pd.set_option('display.max_columns', 1000)\n",
    "pd.set_option('display.max_rows', 1000)\n",
    "\n",
    "import sys\n",
    "# Custom library paths\n",
    "sys.path.extend(['../', './scr'])\n",
    "\n",
    "from scr.utils import set_seed\n",
    "from scr.utils import read_words\n",
    "from pathlib import Path\n",
    "import random\n",
    "from collections import Counter, defaultdict\n",
    "import pickle\n",
    "from tqdm import tqdm\n",
    "from torch.utils.data import Dataset\n",
    "\n",
    "from scr.utils import read_words, save_words_to_file\n",
    "\n",
    "import pickle\n",
    "from pathlib import Path\n",
    "from scr.dataset import *\n",
    "from scr.utils import *\n",
    "# # For inference\n",
    "from scr.feature_engineering import *\n",
    "\n",
    "import gc\n",
    "\n",
    "set_seed(42)\n",
    "\n",
    "import torch\n",
    "import torch.nn as nn\n",
    "from pathlib import Path\n",
    "import random\n",
    "\n",
    "from scr.utils import print_scenarios\n",
    "torch.set_float32_matmul_precision('medium')\n",
    "from pathlib import Path\n",
    "\n",
    "# Device configuration\n",
    "device = torch.device(\"cuda\" if torch.cuda.is_available() else \"cpu\")\n",
    "\n",
    "# # Read and Shuffle Word List\n",
    "word_list = read_words('data/words_250000_train.txt') # , limit=10000)\n",
    "# word_list = read_words('data/250k.txt', limit=10000)\n",
    "\n",
    "random.shuffle(word_list)\n",
    "\n",
    "# Calculate Frequencies and Max Word Length\n",
    "word_frequencies = calculate_word_frequencies(word_list)\n",
    "char_frequency = calculate_char_frequencies(word_list)\n",
    "max_word_length = max(len(word) for word in word_list)"
   ]
  },
  {
   "cell_type": "markdown",
   "metadata": {},
   "source": [
    "##### Data Dir"
   ]
  },
  {
   "cell_type": "code",
   "execution_count": 2,
   "metadata": {},
   "outputs": [],
   "source": [
    "NUM_STRATIFIED_SAMPLES = 100 # This will be overwritten by Papermill\n",
    "\n",
    "NUM_WORD_SAMPLE = 1_000 # words for testing\n",
    "\n",
    "FAST_DEV_RUN = False\n",
    "\n",
    "MAX_EPOCH = 250"
   ]
  },
  {
   "cell_type": "code",
   "execution_count": 3,
   "metadata": {},
   "outputs": [
    {
     "name": "stdout",
     "output_type": "stream",
     "text": [
      "Length of the testing word list: 10048\n",
      "Sampled 1085 unique words for testing.\n",
      "1085\n"
     ]
    }
   ],
   "source": [
    "from pathlib import Path\n",
    "from scr.custom_sampler import *\n",
    "\n",
    "# Define the base directory and the paths for training and validation parquet files\n",
    "base_dataset_dir = Path(\"/media/sayem/510B93E12554BBD1/dataset/\")\n",
    "stratified_samples_dir = base_dataset_dir / str(NUM_STRATIFIED_SAMPLES)\n",
    "parquet_path = stratified_samples_dir / 'parquets'\n",
    "\n",
    "# Create directories for train and validation parquets if they don't exist\n",
    "parquet_path.mkdir(parents=True, exist_ok=True)\n",
    "# parquet_valid_path.mkdir(parents=True, exist_ok=True)\n",
    "\n",
    "# Define and create the directory for models\n",
    "models_dir = Path(\"/home/sayem/Desktop/Hangman/models\")\n",
    "models_dir.mkdir(parents=True, exist_ok=True)\n",
    "\n",
    "# Define your output directory\n",
    "# Define your output directory and logger directory\n",
    "output_dir = Path(\"/home/sayem/Desktop/Hangman/training_outputs\")\n",
    "logger_dir = output_dir / \"lightning_logs\"\n",
    "\n",
    "# Create the output and logger directories if they don't exist\n",
    "output_dir.mkdir(parents=True, exist_ok=True)\n",
    "logger_dir.mkdir(parents=True, exist_ok=True)\n",
    "\n",
    "# Define the file path for saving the testing words\n",
    "testing_words_file_path = stratified_samples_dir / \"testing_words.txt\"\n",
    "\n",
    "try:\n",
    "    testing_word_list = read_words(testing_words_file_path)\n",
    "    print(f\"Length of the testing word list: {len(testing_word_list)}\")\n",
    "    sampled_test_words = stratified_sample_by_length_and_uniqueness(testing_word_list, NUM_WORD_SAMPLE)\n",
    "    print(f\"Sampled {len(sampled_test_words)} unique words for testing.\")\n",
    "except FileNotFoundError:\n",
    "    print(f\"File not found: {testing_words_file_path}\")\n",
    "\n",
    "print(len(sampled_test_words))"
   ]
  },
  {
   "cell_type": "markdown",
   "metadata": {},
   "source": [
    "##### Dataset Loading and train test split"
   ]
  },
  {
   "cell_type": "code",
   "execution_count": 4,
   "metadata": {},
   "outputs": [
    {
     "data": {
      "text/plain": [
       "PosixPath('/media/sayem/510B93E12554BBD1/dataset/100/parquets')"
      ]
     },
     "execution_count": 4,
     "metadata": {},
     "output_type": "execute_result"
    }
   ],
   "source": [
    "parquet_path"
   ]
  },
  {
   "cell_type": "code",
   "execution_count": 5,
   "metadata": {},
   "outputs": [],
   "source": [
    "# Create datasets directly from the saved parquet files\n",
    "hangman_dataset = HangmanDataset(parquet_path)\n",
    "# valid_dataset = HangmanDataset(parquet_valid_path)\n",
    "\n",
    "from scr.utils import *\n",
    "\n",
    "# Split the dataset into training and validation sets\n",
    "train_dataset, valid_dataset = hangman_dataset.split(test_size=0.2)"
   ]
  },
  {
   "cell_type": "code",
   "execution_count": 6,
   "metadata": {},
   "outputs": [],
   "source": [
    "assert len(train_dataset) > len(valid_dataset)"
   ]
  },
  {
   "cell_type": "code",
   "execution_count": 7,
   "metadata": {},
   "outputs": [
    {
     "name": "stdout",
     "output_type": "stream",
     "text": [
      "{'game_id': 4032, 'word': 'alta', 'initial_state': ['____'], 'final_state': 'alta', 'guessed_states': ['____', '__t_', '_lt_', 'alta'], 'guessed_letters': ['t', 'l', 'a'], 'game_state': 'allMasked', 'difficulty': 'easy', 'outcome': 'win', 'word_length': 4, 'won': True}\n"
     ]
    }
   ],
   "source": [
    "# Access the first element in the dataset\n",
    "first_element = hangman_dataset[0]  # Using an integer index\n",
    "print(first_element)"
   ]
  },
  {
   "cell_type": "code",
   "execution_count": 8,
   "metadata": {},
   "outputs": [
    {
     "name": "stdout",
     "output_type": "stream",
     "text": [
      "{'game_id': 4032, 'word': 'alta', 'initial_state': ['____'], 'final_state': 'alta', 'guessed_states': ['____', '__t_', '_lt_', 'alta'], 'guessed_letters': ['t', 'l', 'a'], 'game_state': 'allMasked', 'difficulty': 'easy', 'outcome': 'win', 'word_length': 4, 'won': True}\n"
     ]
    }
   ],
   "source": [
    "# Access the first row of the first file (assuming at least one row exists)\n",
    "tuple_element = hangman_dataset[(0, 0)]  # Using a tuple (file index, row index)\n",
    "print(tuple_element)"
   ]
  },
  {
   "cell_type": "code",
   "execution_count": 9,
   "metadata": {},
   "outputs": [
    {
     "data": {
      "text/plain": [
       "{1: 0.14,\n",
       " 2: 0.29,\n",
       " 3: 0.23,\n",
       " 4: 0.2,\n",
       " 5: 0.09,\n",
       " 6: 0.09,\n",
       " 7: 0.06,\n",
       " 8: 0.27,\n",
       " 9: 0.2,\n",
       " 10: 0.23,\n",
       " 11: 0.06,\n",
       " 12: 0.29,\n",
       " 13: 0.26,\n",
       " 14: 0.1,\n",
       " 15: 0.1,\n",
       " 16: 0.1,\n",
       " 17: 0.13,\n",
       " 18: 0.18,\n",
       " 19: 0.16,\n",
       " 20: 0.12}"
      ]
     },
     "execution_count": 9,
     "metadata": {},
     "output_type": "execute_result"
    }
   ],
   "source": [
    "import numpy as np\n",
    "\n",
    "# Set the random seed for reproducible results\n",
    "np.random.seed(42)\n",
    "\n",
    "# Generate sequence lengths from 1 to 20\n",
    "sequence_lengths = np.arange(1, 21)  # 1 to 20 inclusive\n",
    "\n",
    "# Generate random miss penalties between 0.05 and 0.3 for each sequence length\n",
    "miss_penalties = np.round(np.random.uniform(0.05, 0.3, len(sequence_lengths)), 2)\n",
    "\n",
    "# Combine sequence lengths and miss penalties into a dictionary\n",
    "performance_metrics = dict(zip(sequence_lengths, miss_penalties))\n",
    "\n",
    "# Display the generated performance metrics\n",
    "performance_metrics"
   ]
  },
  {
   "cell_type": "code",
   "execution_count": 10,
   "metadata": {},
   "outputs": [],
   "source": [
    "composite_score = \\\n",
    "    {13: 1.0144969265237789, 14: 1.0139399278380974, 12: 1.0145889222021265, 11: 1.0149790846522682, \\\n",
    "        15: 1.0137005413389382, 10: 1.0149863660317038, 8: 0.9827807551208211, 7: 0.9876452759289711, \\\n",
    "            9: 1.014814988760513, 5: 1.0138412270631227, 4: 1.013670403951156, 2: 1.0134486201164408, \\\n",
    "                3: 0.01386993304338964, 6: 1.0140813705881533, 17: 1.0140782178690035, 16: 1.0145310966095122, \\\n",
    "                    18: 1.0138246885811288, 19: 1.0127181950956583, 21: 1.012694844044745, 20: 1.01259642560035}"
   ]
  },
  {
   "cell_type": "code",
   "execution_count": 11,
   "metadata": {},
   "outputs": [],
   "source": [
    "# # Specify the batch size for the sampler\n",
    "# batch_size = 3\n",
    "\n",
    "# # Initialize the PerformanceBasedSampler\n",
    "# sampler = PerformanceBasedSampler(dataset=hangman_dataset, \\\n",
    "#     performance_metrics=composite_score, batch_size=batch_size)"
   ]
  },
  {
   "cell_type": "code",
   "execution_count": 12,
   "metadata": {},
   "outputs": [],
   "source": [
    "# next(iter(sampler))"
   ]
  },
  {
   "cell_type": "code",
   "execution_count": 13,
   "metadata": {},
   "outputs": [],
   "source": [
    "# from torch.utils.data import DataLoader\n",
    "\n",
    "# # Specify the batch size for the sampler\n",
    "# batch_size = 128\n",
    "\n",
    "# # Initialize the PerformanceBasedSampler\n",
    "# sampler = PerformanceBasedSampler(dataset=hangman_dataset, \\\n",
    "#     performance_metrics=performance_metrics, batch_size=batch_size)\n",
    "\n",
    "# # Initialize DataLoader with the HangmanDataset and PerformanceBasedSampler\n",
    "# data_loader = DataLoader(\n",
    "#     dataset=hangman_dataset,\n",
    "#     batch_sampler=sampler,  # Correct usage for custom batch handling\n",
    "#     collate_fn=new_custom_collate_fn,  # Custom collate function, if needed\n",
    "# )\n",
    "\n",
    "# import torch  # Ensure torch is imported\n",
    "\n",
    "# for batch in tqdm(data_loader):\n",
    "#     states = batch['guessed_states']\n",
    "#     guesses = batch['guessed_letters']\n",
    "#     max_seq_length = batch['max_seq_len']\n",
    "#     original_seq_lengths = batch['original_seq_lengths']\n",
    "\n",
    "\n",
    "#     batch_features, batch_missed_chars = process_batch_of_games(\n",
    "#                 states, guesses, char_frequency,\n",
    "#                     max_word_length,\n",
    "#                     max_seq_length)\n",
    "\n",
    "#     print(f\"{batch_features.shape}\")\n",
    "\n",
    "#     break\n"
   ]
  },
  {
   "cell_type": "code",
   "execution_count": 14,
   "metadata": {},
   "outputs": [],
   "source": [
    "# hangman_dataset[(0, 34)]"
   ]
  },
  {
   "cell_type": "code",
   "execution_count": 15,
   "metadata": {},
   "outputs": [],
   "source": [
    "from scr.data_module import *\n",
    "\n",
    "# Initialize Data Module\n",
    "initial_batch_size = 1024 # Set your initial batch size\n",
    "\n",
    "# Initialize Data Module with the required arguments\n",
    "data_module = HangmanDataModule(train_dataset, valid_dataset, \n",
    "                                initial_batch_size, \n",
    "                                new_custom_collate_fn)"
   ]
  },
  {
   "cell_type": "code",
   "execution_count": 16,
   "metadata": {},
   "outputs": [],
   "source": [
    "# performance_metrics_dict = {k: v for d in combined_eval_metrics for k, v in d.items()}\n",
    "\n",
    "# # # # # print(\"Converted Performance Metrics Dictb ionary:\", performance_metrics_dict)\n",
    "\n",
    "# data_module.update_performance_metrics(composite_score)"
   ]
  },
  {
   "cell_type": "code",
   "execution_count": 17,
   "metadata": {},
   "outputs": [
    {
     "name": "stderr",
     "output_type": "stream",
     "text": [
      "  0%|          | 0/7 [00:00<?, ?it/s]"
     ]
    },
    {
     "name": "stderr",
     "output_type": "stream",
     "text": [
      "100%|██████████| 7/7 [00:02<00:00,  3.15it/s]"
     ]
    },
    {
     "name": "stdout",
     "output_type": "stream",
     "text": [
      "First state in batch: ['____c__s__c', '____c__s__c', '____c__s__c', '____c__s__c', '____c__s_ic', '____c__s_ic', '____c__s_ic', '____c__s_ic', '', '', '', '', '', '', '', '', '', '', '', '', '']\n",
      "Unique sequence lengths in batch: {2, 3, 4, 5, 6, 7, 8, 9, 10, 11, 12, 13, 14, 15, 16, 17, 18, 19, 20, 21}\n",
      "Diversity (number of unique sequence lengths) in batch: 20\n",
      "\n",
      "First state in batch: ['_________a__', '_________a__', '_________a__', '_________a__', '_________a__', '_________a__', '_r___r___a__', '_r___r___a__', '', '', '', '', '', '', '', '', '', '', '', '']\n",
      "Unique sequence lengths in batch: {2, 3, 4, 5, 6, 7, 8, 9, 10, 11, 12, 13, 14, 15, 16, 17, 18, 19, 20}\n",
      "Diversity (number of unique sequence lengths) in batch: 19\n",
      "\n",
      "First state in batch: ['_____________________', '_r_________r_________', '_r_________r________s', '_r___n__n__r___n__n_s', '_ri__n_in__ri__n_in_s', '_ri__n_in__ri__n_in_s', '_ri__n_in__ri__n_in_s', '_ri__n_ine_ri__n_ines', 'bri__n_inebri__n_ines', 'bri__n_inebri__n_ines', 'bri__ntinebri__ntines', 'bri__ntinebri__ntines', 'bri__ntinebri__ntines', 'brig_ntinebrig_ntines', 'brig_ntinebrig_ntines', '', '', '', '']\n",
      "Unique sequence lengths in batch: {2, 3, 4, 5, 6, 7, 8, 9, 10, 11, 12, 13, 14, 15, 16, 17, 18, 19}\n",
      "Diversity (number of unique sequence lengths) in batch: 18\n",
      "\n",
      "First state in batch: ['___c______', '___c______', '___c______', '___c______', '___c______', '___c______', '___c__t__t', '___c__t__t', '', '', '', '', '', '', '', '', '', '', '', '']\n",
      "Unique sequence lengths in batch: {2, 3, 4, 5, 6, 7, 8, 9, 10, 11, 12, 13, 14, 15, 16, 17, 18, 19, 20}\n",
      "Diversity (number of unique sequence lengths) in batch: 19\n",
      "\n",
      "First state in batch: ['_____l__k__c____', '_____l__k__ch___', '___p_l__k__ch___', '___p_l__k__ch___', '___p_ld_k__ch___', '___p_ld_ki_ch___', '___p_ld_ki_ch___', '___p_ld_ki_ch___', '___pold_ki_ch___', '___pold_kirch__r', '___pold_kirch__r', '___pold_kirch__r', 'g__pold_kirch__r', 'gu_pold_kirch__r', 'gu_pold_kirch__r', '', '', '', '', '']\n",
      "Unique sequence lengths in batch: {2, 3, 4, 5, 6, 7, 8, 9, 10, 11, 12, 13, 14, 15, 16, 17, 18, 19, 20}\n",
      "Diversity (number of unique sequence lengths) in batch: 19\n",
      "\n",
      "First state in batch: ['____________________', '__________a____a____', '________i_a_i__a_i__', 'n_n__n__ina_i_na_i__', 'n_n__n_mina_i_na_i_m', 'n_n_en_mina_i_na_i_m', 'n_n_en_mina_i_na_ism', 'n_nden_mina_i_na_ism', 'n_nden_mina_i_nalism', 'nondenomina_ionalism', 'nondenominationalism', '', '', '', '', '', '', '', '', '']\n",
      "Unique sequence lengths in batch: {2, 3, 4, 5, 6, 7, 8, 9, 10, 11, 12, 13, 14, 15, 16, 17, 18, 19, 20}\n",
      "Diversity (number of unique sequence lengths) in batch: 19\n",
      "\n",
      "First state in batch: ['_oo_oo', '_oo_oo', 'zoozoo', '', '', '', '', '', '', '', '', '', '', '', '', '', '', '']\n",
      "Unique sequence lengths in batch: {2, 3, 4, 5, 6, 7, 8, 9, 10, 11, 12, 13, 14, 15, 16, 17, 18}\n",
      "Diversity (number of unique sequence lengths) in batch: 17\n",
      "\n",
      "Average diversity of sequence lengths across batches: 18.714285714285715\n"
     ]
    },
    {
     "name": "stderr",
     "output_type": "stream",
     "text": [
      "\n"
     ]
    }
   ],
   "source": [
    "from tqdm import tqdm\n",
    "\n",
    "# Assuming data_module is an instance of HangmanDataModule\n",
    "data_loader = data_module.train_dataloader()  # Call the method to get the DataLoader instance\n",
    "\n",
    "# Initialize a list to store the diversity of sequence lengths in each batch\n",
    "batch_seq_length_diversity = []\n",
    "\n",
    "for batch in tqdm(data_loader):\n",
    "    \n",
    "    states = batch['guessed_states']\n",
    "    guesses = batch['guessed_letters']\n",
    "    max_seq_length = batch['max_seq_len']\n",
    "    original_seq_lengths = batch['original_seq_lengths']\n",
    "\n",
    "    # # Extract original_seq_lengths from the batch\n",
    "    # original_seq_lengths = batch['original_seq_lengths']\n",
    "\n",
    "    # Analyze the diversity of sequence lengths in the current batch\n",
    "    unique_seq_lengths = set(original_seq_lengths)  # Use a set to find unique sequence lengths\n",
    "    batch_seq_length_diversity.append(len(unique_seq_lengths))  # Store the count of unique lengths\n",
    "\n",
    "    print(f\"First state in batch: {batch['guessed_states'][0]}\")\n",
    "    # print(f\"Original sequence lengths in batch: {original_seq_lengths}\")\n",
    "    print(f\"Unique sequence lengths in batch: {unique_seq_lengths}\")\n",
    "    print(f\"Diversity (number of unique sequence lengths) in batch: {len(unique_seq_lengths)}\")\n",
    "\n",
    "    # break  # Remove this break to analyze all batches\n",
    "\n",
    "    print()\n",
    "\n",
    "# After collecting data, analyze the overall diversity\n",
    "print(f\"Average diversity of sequence lengths across batches: {sum(batch_seq_length_diversity) / len(batch_seq_length_diversity)}\")\n"
   ]
  },
  {
   "cell_type": "code",
   "execution_count": 20,
   "metadata": {},
   "outputs": [
    {
     "name": "stderr",
     "output_type": "stream",
     "text": [
      "  0%|          | 0/7 [00:02<?, ?it/s]"
     ]
    },
    {
     "name": "stdout",
     "output_type": "stream",
     "text": [
      "dict_keys(['guessed_states', 'guessed_letters', 'max_seq_len', 'original_seq_lengths', 'difficulty', 'outcome', 'word_length', 'won', 'initial_state', 'final_state', 'game_state'])\n",
      "[['_upermagnificently', '_upermagnificently', '_upermagnificently', '_upermagnificently', 'supermagnificently', '', '', '', '', '', '', '', '', '', '', '', '', '', '', '', ''], ['_se___i__e____i____is_i_', '_se__oi__e____io___is_i_', '_se__oi__e____io___is_i_', '_se__oi__e____io___is_i_', '_se__oi__e__a_io_a_is_i_', 'pse__oi__e__a_io_a_is_i_', 'pse__oi__e__a_io_a_is_i_', 'pse__oi_te__atio_a_isti_', 'pse__oi_te__atio_a_isti_', 'pse__oi_te__atio_a_isti_', 'pse__oi_te__atio_a_istic', 'pse__oi_te__atio_a_istic', '', '', '', '', '', '', '', '', ''], ['_nbea_teo_sness', '_nbea_teo_sness', '_nbea_teo_sness', '_nbea_teo_sness', '_nbea_teo_sness', '_nbea_teo_sness', 'unbeauteousness', '', '', '', '', '', '', '', '', '', '', '', '', '', ''], ['______________', '______________', '______________', '______________', '______________', '______________', '______________', '', '', '', '', '', '', '', '', '', '', '', '', '', ''], ['s_ool', 's_ool', 's_ool', 's_ool', 's_ool', 's_ool', 's_ool', '', '', '', '', '', '', '', '', '', '', '', '', '', ''], ['_____________________', '_____________________', '_____n__n______n__n__', '_____n__n______n__n__', '_____n__n______n__n__', '_____n__n______n__n__', '_____n__n______n__n__', '___g_n__n____g_n__n__', '___g_n__n____g_n__n__', '', '', '', '', '', '', '', '', '', '', '', ''], ['s_mig_om_trically', 'semigeometrically', '', '', '', '', '', '', '', '', '', '', '', '', '', '', '', '', '', '', ''], ['ad_athet_c', 'adiathetic', '', '', '', '', '', '', '', '', '', '', '', '', '', '', '', '', '', '', ''], ['h__e__________s_ess', 'h__e__________s_ess', 'h__e__________s_ess', 'h__e__________s_ess', 'h__e__________s_ess', 'h__e__________s_ess', 'h__e__________s_ess', '', '', '', '', '', '', '', '', '', '', '', '', '', ''], ['unpunctili_us', 'unpunctilious', '', '', '', '', '', '', '', '', '', '', '', '', '', '', '', '', '', '', ''], ['m__________m_', 'm__________m_', 'm__t____t__m_', 'm__t_r__t_rm_', 'm__ter__t_rm_', 'ma_ter_atarm_', 'ma_ter_atarm_', 'ma_ter_atarm_', 'mastersatarms', '', '', '', '', '', '', '', '', '', '', '', ''], ['_____r_____r______', '__t_tr___t_r______', '__t_tr___t_r______', '__t_tr___t_r______', '__titri_it_ri__i__', '_ntitrinit_ri_ni__', 'antitrinitariani__', 'antitrinitarianis_', 'antitrinitarianis_', 'antitrinitarianism', '', '', '', '', '', '', '', '', '', '', ''], ['s___ra_i_i_g', 's___ra_i_ing', 's___ra_i_ing', 's___rali_ing', 's___ralizing', 'se_eralizing', 'severalizing', '', '', '', '', '', '', '', '', '', '', '', '', '', ''], ['ace_abularia', 'ace_abularia', 'ace_abularia', 'ace_abularia', 'ace_abularia', 'ace_abularia', 'ace_abularia', '', '', '', '', '', '', '', '', '', '', '', '', '', ''], ['___gg_____', '___gg_____', '_h_gg__h__', '_h_gg__h__', 'sh_gg_sh__', 'sh_gg_sh__', 'sh_gg_sh__', 'sh_gg_sh__', 'sh_gg_sh__', '', '', '', '', '', '', '', '', '', '', '', ''], ['noninstit_tion', 'noninstit_tion', 'noninstitution', '', '', '', '', '', '', '', '', '', '', '', '', '', '', '', '', '', ''], ['______', '___s__', '___s_i', '___s_i', '_h_shi', '_hushi', '_hushi', 'thushi', '', '', '', '', '', '', '', '', '', '', '', '', ''], ['asyndet_ns', 'asyndet_ns', 'asyndetons', '', '', '', '', '', '', '', '', '', '', '', '', '', '', '', '', '', ''], ['ostracin_', 'ostracin_', 'ostracine', '', '', '', '', '', '', '', '', '', '', '', '', '', '', '', '', '', ''], ['e_ect__e_ce_ha____a_hica_', 'e_ect__e_ce_ha____a_hica_', 'e_ect__e_ce_ha____a_hica_', 'e_ect__e_ce_ha____a_hica_', 'e_ect__e_ce_ha____a_hica_', 'e_ect__ence_ha____a_hica_', 'e_ect__ence_ha____a_hica_', 'e_ect__ence_ha____a_hica_', '', '', '', '', '', '', '', '', '', '', '', '', ''], ['gn___n_____', 'gn___n_____', 'gn___n___e_', 'gn___n___e_', 'gn__sn___e_', 'gn_tsn___e_', 'gn_tsn___er', 'gn_tsn_pper', 'gn_tsn_pper', 'gnatsnapper', '', '', '', '', '', '', '', '', '', '', ''], ['b_____g_____', 'b_____g_t___', 'b_____g_t___', 'b_ll__g_t___', 'b_ll__g_t___', 'b_ll__g_t___', 'b_llf_g_t___', 'b_llf_g_te__', 'b_llf_g_te_s', 'b_llf_g_te_s', 'b_llf_g_te_s', 'b_llf_g_te_s', '', '', '', '', '', '', '', '', ''], ['s_n_t_', 'sen_te', 'senate', '', '', '', '', '', '', '', '', '', '', '', '', '', '', '', '', '', ''], ['gawp_ng', 'gawp_ng', 'gawping', '', '', '', '', '', '', '', '', '', '', '', '', '', '', '', '', '', ''], ['ars__f_rra__s_', 'ars__f_rra_os_', 'ars__f_rra_os_', 'ars__f_rra_os_', 'arse_ferra_ose', 'arse_ferra_ose', 'arse_ferratose', 'arse_ferratose', 'arse_ferratose', 'arse_ferratose', '', '', '', '', '', '', '', '', '', '', ''], ['___i__', '___i_h', '___i_h', '___i_h', '___i_h', '___i_h', '___i_h', '___ish', '___ish', '', '', '', '', '', '', '', '', '', '', '', ''], ['scienti_ic_ge_gr_p_ic_l', 'scienti_ic_ge_gr_p_ic_l', 'scienti_ic_ge_gr_p_ic_l', 'scienti_ic_ge_gr_p_ic_l', 'scienti_ic_ge_gr_p_ic_l', 'scienti_ic_ge_gr_p_ic_l', 'scienti_ic_ge_gr_p_ic_l', '', '', '', '', '', '', '', '', '', '', '', '', '', ''], ['_ppe_e', 'appe_e', 'appe_e', 'appere', '', '', '', '', '', '', '', '', '', '', '', '', '', '', '', '', ''], ['______t________', '______t_o______', '______t_o______', '______t_o______', '______t_o______', '______t_o______', '___e__teo___e__', 'u__e_uteou__e__', 'u__e_uteou__e__', 'u__e_uteou__e__', '', '', '', '', '', '', '', '', '', '', ''], ['ostracin_', 'ostracin_', 'ostracine', '', '', '', '', '', '', '', '', '', '', '', '', '', '', '', '', '', ''], ['_elllost', 'welllost', '', '', '', '', '', '', '', '', '', '', '', '', '', '', '', '', '', '', ''], ['infinit_infinitesimal', 'infinit_infinitesimal', 'infinit_infinitesimal', 'infinit_infinitesimal', 'infinit_infinitesimal', 'infinit_infinitesimal', 'infinit_infinitesimal', '', '', '', '', '', '', '', '', '', '', '', '', '', ''], ['s_lf_ro__ll_d', 's_lf_ro__ll_d', 's_lf_ro__ll_d', 'self_ro_elled', 'self_ro_elled', 'self_ro_elled', 'self_ro_elled', 'selfpropelled', '', '', '', '', '', '', '', '', '', '', '', '', ''], ['_____________________', 'b____________________', 'b_________________h__', 'b_____t___________h__', 'b_____t__________ph__', 'b_____t__________ph__', 'b_____t____d_____ph__', 'b_____t____d_____ph__', 'b_ll__t____d_____ph__', 'ball__t__a_d____aph__', 'ball__t__a_d__g_aph__', 'ball__t_ca_d__g_aph_c', 'ball_st_ca_d__g_aph_c', 'ballist_ca_di_g_aphic', 'ballist_cardi_graphic', 'ballist_cardi_graphic', 'ballistocardiographic', '', '', '', ''], ['_olomi_izin_', '_olomi_izing', 'dolomi_izing', 'dolomitizing', '', '', '', '', '', '', '', '', '', '', '', '', '', '', '', '', ''], ['_er_card_omed_a_t_n_t__', '_er_card_omed_a_t_n_t__', '_ericardiomedia_tiniti_', '_ericardiomedia_tiniti_', '_ericardiomediastinitis', '_ericardiomediastinitis', 'pericardiomediastinitis', '', '', '', '', '', '', '', '', '', '', '', '', '', ''], ['prorhipidoglosso_orpha', 'prorhipidoglosso_orpha', 'prorhipidoglosso_orpha', 'prorhipidoglossomorpha', '', '', '', '', '', '', '', '', '', '', '', '', '', '', '', '', ''], ['_laab', 'glaab', '', '', '', '', '', '', '', '', '', '', '', '', '', '', '', '', '', '', ''], ['_awp___', '_awpi__', '_awpin_', 'gawping', '', '', '', '', '', '', '', '', '', '', '', '', '', '', '', '', ''], ['n__ci__i___', 'n__ci__i___', 'n__ci__i___', 'n__ci__i___', 'n__ci__i_m_', 'n__cissisms', 'n__cissisms', 'n__cissisms', 'n__cissisms', '', '', '', '', '', '', '', '', '', '', '', ''], ['m__________n_', 'm______g___ng', 'm______g___ng', 'm_ll___g___ng', 'm_ll___g___ng', 'm_ll___g___ng', 'm_ll___g___ng', 'm_ll___g___ng', 'm_ll___gh__ng', 'mill__igh_ing', 'mill__igh_ing', '', '', '', '', '', '', '', '', '', ''], ['subpro_essorship', 'subpro_essorship', 'subpro_essorship', 'subpro_essorship', 'subpro_essorship', 'subpro_essorship', 'subpro_essorship', '', '', '', '', '', '', '', '', '', '', '', '', '', ''], ['____________o______', '____________o______', '____________o______', '_________a__o_a____', '_________a__o_a____', '__p______a__o_a____', '__p______a__o_a____', '__p______a__o_al___', '_ep_e_e__a__o_al___', '_ep_e_e__a__o_al___', '_ep_e_e__a__o_al___', '', '', '', '', '', '', '', '', '', ''], ['h___h___', 'h__oh___', 'h__oh__l', 'h__oh__l', 'h__oh__l', 'h__oh__l', 'h__oh__l', 'h__oh__l', 'h__oh__l', '', '', '', '', '', '', '', '', '', '', '', ''], ['________________', 'u_______________', 'u_p______p______', 'unp______p______', 'unp_____ip_i____', 'unp__s__ip_i____', 'unpr_s_rip_i____', 'unpr_s_rip_iv___', 'unpr_s_rip_iv___', 'unpr_scrip_iv___', 'unpr_scrip_iv___', 'unpr_scrip_iv_l_', 'unpr_scrip_iv_l_', 'unpr_scrip_iv_l_', 'unpr_scriptiv_l_', 'unpr_scriptiv_ly', 'unproscriptiv_ly', 'unproscriptively', '', '', ''], ['ace_abularia', 'ace_abularia', 'ace_abularia', 'ace_abularia', 'acetabularia', '', '', '', '', '', '', '', '', '', '', '', '', '', '', '', ''], ['___x___', '___x___', '___x___', 'r__x___', 'r__x___', 'r__x___', 'r__x_s_', 'r__x_s_', 'r__x_s_', '', '', '', '', '', '', '', '', '', '', '', ''], ['unsca___d', 'unsca___d', 'unscabb_d', 'unscabb_d', 'unscabb_d', 'unscabbed', '', '', '', '', '', '', '', '', '', '', '', '', '', '', ''], ['s____t_____g__g________', 's____t_____g__g________', 's____t_____g__g________', 's____t_____g__g________', 's____t_____g__g_a____a_', 'sc___t___c_g__g_a___ca_', 'sc___t___c_g__g_a___cal', 'sc__nt___c_g__g_a___cal', 'sc__nt___c_g__g_ap__cal', 'sc__nt___c_g__g_ap__cal', 'sci_nti_ic_g__g_ap_ical', 'sci_nti_ic_g__grap_ical', 'sci_nti_ic_g__graphical', 'sci_ntific_g__graphical', 'sci_ntific_g__graphical', 'scientific_ge_graphical', 'scientificogeographical', '', '', '', ''], ['hypohya_', 'hypohyal', '', '', '', '', '', '', '', '', '', '', '', '', '', '', '', '', '', '', ''], ['assumen_', 'assument', '', '', '', '', '', '', '', '', '', '', '', '', '', '', '', '', '', '', ''], ['gr_as_proofn_ss', 'greaseproofness', '', '', '', '', '', '', '', '', '', '', '', '', '', '', '', '', '', '', ''], ['antitrinitariani_m', 'antitrinitariani_m', 'antitrinitarianism', '', '', '', '', '', '', '', '', '', '', '', '', '', '', '', '', '', ''], ['_e__ca_d_omed_a________', 'pe__ca_d_omed_a________', 'pe__ca_d_omed_a_t___t__', 'pe__ca_d_omed_ast___t_s', 'pe_ica_diomediasti_itis', 'pe_ica_diomediastinitis', 'pericardiomediastinitis', '', '', '', '', '', '', '', '', '', '', '', '', '', ''], ['_e___t_er_um', '_ei__t_erium', '_ei__t_erium', '_ei__t_erium', '_ei__t_erium', '_ei__t_erium', '_ei__t_erium', '_ei__t_erium', '', '', '', '', '', '', '', '', '', '', '', '', ''], ['_____________', '_____________', '_____________', 's____________', 's____________', 's____r_______', 's___pr_p_____', 's___pr_p_____', 'se__pr_pe__e_', 'se__pr_pe__e_', 'se_fpr_pe__e_', 'se_fpr_pe__e_', '', '', '', '', '', '', '', '', ''], ['feverfe_', 'feverfew', '', '', '', '', '', '', '', '', '', '', '', '', '', '', '', '', '', '', ''], ['bioc_emists', 'bioc_emists', 'biochemists', '', '', '', '', '', '', '', '', '', '', '', '', '', '', '', '', '', ''], ['_e___p___________s_', '_e___p___________s_', '_e___p_a__a______s_', 'ne___p_a__a______s_', 'ne___p_a__a______s_', 'ne___pha__a______s_', 'ne___pha__a_____is_', 'neu__pha__a_____is_', 'neu_opha__a_o_o_is_', 'neu_opha__a_o_ogis_', 'neu_opha__a_ologis_', 'neu_opha_ma_ologis_', 'neu_opha_ma_ologis_', 'neu_opha_macologis_', 'neuropharmacologis_', 'neuropharmacologist', '', '', '', '', ''], ['missyllabificatio_', 'missyllabification', '', '', '', '', '', '', '', '', '', '', '', '', '', '', '', '', '', '', ''], ['_r_p____r_', '_r_p____r_', '_r_p____r_', '_r_p____r_', '_r_p____r_', '_r_p____rt', '_r_p____rt', '_r_p____rt', '', '', '', '', '', '', '', '', '', '', '', '', ''], ['m_n_dr_my', 'm_n_dr_my', 'monodromy', '', '', '', '', '', '', '', '', '', '', '', '', '', '', '', '', '', ''], ['_____________________________', '_____________________________', '_________h_______h___________', '_________h_______h___________', '_________h_______h______a____', '_________h_______h______a____', '_________h_______h______a____', 't____t___h______th____t_a____', 't____t___h______th____t_a____', 't_i_it___h______th___it_a_i__', 't_i_it___h______th___it_a_i__', '', '', '', '', '', '', '', '', '', ''], ['m_l_r__', 'm_luru_', 'm_luru_', 'm_luru_', 'm_luru_', 'm_luru_', 'm_luru_', 'm_luru_', '', '', '', '', '', '', '', '', '', '', '', '', ''], ['ostracin_', 'ostracin_', 'ostracin_', 'ostracin_', 'ostracin_', 'ostracin_', 'ostracin_', '', '', '', '', '', '', '', '', '', '', '', '', '', ''], ['___c______', '___c______', '___c______', '__ec___e__', '__ec___e__', '__ec___e__', '__ec___e__', '__ec___e__', '', '', '', '', '', '', '', '', '', '', '', '', ''], ['s_lf_ro__ll_d', 's_lfprop_ll_d', 's_lfprop_ll_d', 'selfpropelled', '', '', '', '', '', '', '', '', '', '', '', '', '', '', '', '', ''], ['_____________________', '_____________________', '______o______________', '______o___________i__', '______o___________i__', 'm_____o____m_____mi__', 'm_____o____m_____mi__', 'm_____o____m_____mi__', 'm__n__o____m___n_mi__', 'm__n__o____m___n_mic_', 'm__n__o____m__yn_mic_', 'm__n__o____m__yn_mic_', 'm__n__o____m__yn_mic_', '', '', '', '', '', '', '', ''], ['n__________', 'n__________', 'n__________', 'n__________', 'n__c_______', 'n_rc_______', 'n_rc_______', 'n_rc_______', 'n_rc_____m_', 'n_rc_____m_', '', '', '', '', '', '', '', '', '', '', ''], ['un__sr_putabl_', 'un__sreputable', 'un_isreputable', 'un_isreputable', 'un_isreputable', 'un_isreputable', 'un_isreputable', 'undisreputable', '', '', '', '', '', '', '', '', '', '', '', '', ''], ['___c____d', '___c____d', '___c____d', '___c____d', '___c____d', '___c____d', '___c____d', '', '', '', '', '', '', '', '', '', '', '', '', '', ''], ['he_iparasitis_', 'he_iparasitis_', 'he_iparasitis_', 'hemiparasitism', '', '', '', '', '', '', '', '', '', '', '', '', '', '', '', '', ''], ['_____________________', '___________________a_', '_______o___________a_', '_______o___________a_', '_______o_______e___a_', '_n__n__o_n__n__e___a_', '_n__n__o_n__n__e___a_', '_n__n__o_n__n__e___al', 'in_ini_oin_ini_e_i_al', 'in_ini_oin_ini_e_i_al', 'in_ini_oin_ini_e_i_al', 'in_ini_oin_ini_e_i_al', 'in_ini_oin_ini_e_imal', 'in_ini_oin_ini_e_imal', '', '', '', '', '', '', ''], ['sp_iss_s', 'sp_iss_s', 'sp_iss_s', 'sp_iss_s', 'sp_iss_s', 'speisses', '', '', '', '', '', '', '', '', '', '', '', '', '', '', ''], ['___________________', '___________________', '____________b______', '______o_____b______', '______o_____bl_____', '______o_____bl_____', '_u____o_____bl_____', '_u____o_____bl_____', '_u____o____abl_____', '_u____o____abl_n___', '_up___o____abl_n___', '_up___o__i_abl_n___', '_up___o__i_abl_n___', '_up_r_or_i_abl_n___', '_up_r_or_idabl_n___', '_up_r_or_idabl_n___', '_up_rfor_idabl_n___', 'sup_rfor_idabl_n_ss', 'sup_rfor_idabl_n_ss', '', ''], ['________l____________', '________l_________i__', '________l_________i__', '________l_________i__', '_______pl_________i__', '_a_____pla__a___a_i__', '_a_____pla__a___a_ic_', 'ma_____pla_ma___amic_', 'ma_____pla_ma___amic_', 'ma_____pla_ma___amic_', 'ma____opla_ma___amic_', 'ma____opla_mad__amic_', 'mag___opla_mad__amic_', 'magn__opla_mad_namic_', 'magn__opla_mad_namic_', 'magn__opla_madynamic_', 'magne_opla_madynamic_', 'magnetopla_madynamic_', 'magnetoplasmadynamics', '', ''], ['___________i__', '___________i__', '___________i__', '___________i__', '_______c___i__', '_y_____c___i__', 'hy_____ch__i__', 'hy_____che_i__', 'hy_____che_i_m', 'hy_____che_i_m', 'hy_____che_i_m', 'hy_____che_i_m', '', '', '', '', '', '', '', '', ''], ['prec_ntent', 'precontent', '', '', '', '', '', '', '', '', '', '', '', '', '', '', '', '', '', '', ''], ['___ct____c__h_______h_c__', '___ct____c__h_______h_c__', '___ct____c__h___g___h_c__', '___ct____c__h___g___h_c__', '___ct____c__h___g___h_c__', '___ct____c__h___g___hic__', '___ct____c__h___g___hic__', '___ct____c__h___g___hic__', '___ct____c__h___g___hic__', '', '', '', '', '', '', '', '', '', '', '', ''], ['__________', '__________', '__________', '__________', '_________e', '_______n_e', '_______n_e', '_____v_n_e', '_u___v_n_e', '_u__rv_n_e', '_u_orv_n_e', '_u_orv_nae', '_u_orv_nae', '_u_orvinae', 'bu_orvinae', 'bucorvinae', '', '', '', '', ''], ['s_ool', 's_ool', 's_ool', 'stool', '', '', '', '', '', '', '', '', '', '', '', '', '', '', '', '', ''], ['sno_e_s', 'snorers', '', '', '', '', '', '', '', '', '', '', '', '', '', '', '', '', '', '', ''], ['dolomi_izing', 'dolomitizing', '', '', '', '', '', '', '', '', '', '', '', '', '', '', '', '', '', '', ''], ['l_brates', 'librates', '', '', '', '', '', '', '', '', '', '', '', '', '', '', '', '', '', '', ''], ['unparsi_oniously', 'unparsimoniously', '', '', '', '', '', '', '', '', '', '', '', '', '', '', '', '', '', '', ''], ['____o__l_', '____o__l_', '____o__l_', '____o__l_', '____o__l_', '_e__o__l_', '_e__o_sl_', '_e__o_sl_', '_e_vo_sl_', '_e_vo_sl_', '', '', '', '', '', '', '', '', '', '', ''], ['_ishwor__r', '_ishwork_r', '_ishwork_r', '_ishwork_r', '_ishworker', '_ishworker', 'fishworker', '', '', '', '', '', '', '', '', '', '', '', '', '', ''], ['tob__o', 'tob__o', 'tob__o', 'tob__o', 'tob__o', 'tob__o', 'tob__o', '', '', '', '', '', '', '', '', '', '', '', '', '', ''], ['_________________', '_________________', '_________________', '______o__o_o_____', '______o__o_o_____', '______o__o_o_____', 's_____o__o_o_____', 's_____o__o_o_____', 's_____o__o_o_____', '', '', '', '', '', '', '', '', '', '', '', ''], ['____e___e___________', '___ie___e_i___i_____', '___ie___esi_s_i_____', 'a__ie___esias_i_a___', 'a__ie___esias_i_a___', 'a_tie___esiasti_a___', 'a_tiecc_esiastica___', 'a_tiecc_esiastica___', 'a_tiecc_esiastica__y', 'antiecc_esiastica__y', 'antiecclesiastically', '', '', '', '', '', '', '', '', '', ''], ['______________', '______________', '______________', '______________', '______________', '______________', '______________', '', '', '', '', '', '', '', '', '', '', '', '', '', ''], ['grapho_cope', 'graphoscope', '', '', '', '', '', '', '', '', '', '', '', '', '', '', '', '', '', '', ''], ['__oggy__oo', '__oggy__oo', '__oggy__oo', '__oggy__oo', '__oggy__oo', '__oggy__oo', '__oggy__oo', '', '', '', '', '', '', '', '', '', '', '', '', '', ''], ['_________', '_________', 'k________', 'k____b___', 'k___sb___', 'kn__sb___', 'kn_gsb__g', 'knigsb__g', 'knigsbe_g', 'knigsberg', '', '', '', '', '', '', '', '', '', '', ''], ['______________________', '______________________', '______________________', '_____________________s', '_____________________s', '_____________________s', '_____________________s', '___________p_______p_s', '___________p_______p_s', '', '', '', '', '', '', '', '', '', '', '', ''], ['__________a___', '__________a___', '___i______a___', '___i_r____a___', '___i_r____a___', '___i_r____a___', '___i_r____ab__', '_n_i_r____ab__', '_n_i_r____ab__', '_n_i_r____ab__', '_n_i_re___ab_e', '_n_isre___ab_e', '_n_isre___ab_e', '', '', '', '', '', '', '', ''], ['n_n_en__ina_i_nali__', 'n_n_en_mina_i_nali_m', 'n_n_en_mina_i_nali_m', 'n_n_en_mina_i_nali_m', 'n_n_en_mina_i_nalism', 'n_n_en_mina_i_nalism', 'n_n_en_mina_i_nalism', 'non_enomina_ionalism', 'non_enomina_ionalism', 'nondenomina_ionalism', 'nondenomina_ionalism', '', '', '', '', '', '', '', '', '', ''], ['_______h_', '_______h_', '_______h_', '_______h_', '____c_ch_', 'a__acacha', 'arracacha', '', '', '', '', '', '', '', '', '', '', '', '', '', ''], ['b_ng_ng', 'b_ng_ng', 'b_ng_ng', 'b_ng_ng', 'b_ng_ng', 'b_ng_ng', 'binging', '', '', '', '', '', '', '', '', '', '', '', '', '', ''], ['ars_nf_rrat_s_', 'arsenferrat_se', 'arsenferratose', '', '', '', '', '', '', '', '', '', '', '', '', '', '', '', '', '', ''], ['______t________', '____a_t________', '____a_t___s__ss', '___ea_te__s_ess', '___ea_teo_s_ess', 'u__eauteous_ess', 'un_eauteousness', 'unbeauteousness', '', '', '', '', '', '', '', '', '', '', '', '', ''], ['arsenferrat_se', 'arsenferrat_se', 'arsenferrat_se', 'arsenferratose', '', '', '', '', '', '', '', '', '', '', '', '', '', '', '', '', ''], ['b_ue__e_', 'b_ue__e_', 'b_ue__e_', 'b_ues_e_', 'b_ues_e_', 'b_ues_e_', 'b_ues_e_', 'b_ues_e_', '', '', '', '', '', '', '', '', '', '', '', '', ''], ['_____', '_____', '_____', '_____', '_____', '_____', '__nn_', '__nn_', '', '', '', '', '', '', '', '', '', '', '', '', ''], ['l_b_ates', 'lib_ates', 'librates', '', '', '', '', '', '', '', '', '', '', '', '', '', '', '', '', '', ''], ['____ates', '___rates', '___rates', '_i_rates', '_ibrates', '_ibrates', 'librates', '', '', '', '', '', '', '', '', '', '', '', '', '', ''], ['dropsywor_', 'dropsywor_', 'dropsywor_', 'dropsywor_', 'dropsywor_', 'dropsywor_', 'dropsywor_', '', '', '', '', '', '', '', '', '', '', '', '', '', ''], ['v_wellessness', 'vowellessness', '', '', '', '', '', '', '', '', '', '', '', '', '', '', '', '', '', '', ''], ['________________', '________________', '___c____________', '___c____________', '___c____________', '___c____________', '___c____________', '___c_t__________', '___c_t__________', '', '', '', '', '', '', '', '', '', '', '', ''], ['_______________', '_______________', 'h______________', 'h____a_________', 'h____a________s', 'h____a_t___t__s', 'h____a_t___t__s', 'h___ra_t___t__s', 'h___ract___t__s', 'h___ract___t__s', 'h__eract___t_es', 'hy_eract___t_es', 'hy_eract___t_es', 'hyperact___t_es', 'hyperact___t_es', 'hyperact___t_es', '', '', '', '', ''], ['_l_ctro_nc_phalographs', '_l_ctro_nc_phalographs', '_l_ctro_nc_phalographs', 'electroencephalographs', '', '', '', '', '', '', '', '', '', '', '', '', '', '', '', '', ''], ['t_icksprung', 't_icksprung', 'thicksprung', '', '', '', '', '', '', '', '', '', '', '', '', '', '', '', '', '', ''], ['_____l__k__c____', '_____l__k__ch___', '_____l_sk__ch___', '__m__l_sk__ch___', '__m__l_sk__ch___', 'g_m__l_sk__ch___', 'g_m__l_sk__ch___', 'g_m__l_ski_ch___', 'g_m__l_ski_chn__', 'g_m__l_ski_chne_', 'g_m__l_ski_chne_', 'g_m_ol_ski_chne_', 'g_m_ol_skirchner', 'g_m_ol_skirchner', 'g_mpol_skirchner', 'g_mpol_skirchner', 'gumpol_skirchner', 'gumpoldskirchner', '', '', ''], ['nem_cer_n', 'nem_ceran', 'nemoceran', '', '', '', '', '', '', '', '', '', '', '', '', '', '', '', '', '', ''], ['_syndet_ns', '_syndet_ns', 'asyndet_ns', 'asyndetons', '', '', '', '', '', '', '', '', '', '', '', '', '', '', '', '', ''], ['a__ide__ro___y', 'a__idex_ro___y', 'a__idex_rou__y', 'a_bidex_rou__y', 'a_bidextrou__y', 'ambidextrou__y', 'ambidextrous_y', 'ambidextrously', '', '', '', '', '', '', '', '', '', '', '', '', ''], ['nonins_i___ion', 'nonins_i___ion', 'nonins_i___ion', 'nonins_i___ion', 'nonins_i___ion', 'noninstit_tion', 'noninstitution', '', '', '', '', '', '', '', '', '', '', '', '', '', ''], ['ca__ro', 'cas_ro', 'cas_ro', 'castro', '', '', '', '', '', '', '', '', '', '', '', '', '', '', '', '', ''], ['______p', '______p', '__u___p', '_ou__op', '_ou__op', 'sou__op', 'sou_top', 'sou_top', 'sourtop', '', '', '', '', '', '', '', '', '', '', '', ''], ['_rankful', '_rankful', '_rankful', '_rankful', 'prankful', '', '', '', '', '', '', '', '', '', '', '', '', '', '', '', ''], ['____________', '____________', 's_____ss__ss', 's__d__ss__ss', 's__d__ss__ss', 's__d__ssn_ss', 's__d__ssn_ss', 'seed_essness', 'seed_essness', 'seedlessness', '', '', '', '', '', '', '', '', '', '', ''], ['___', '__f', 'oof', '', '', '', '', '', '', '', '', '', '', '', '', '', '', '', '', '', ''], ['___c_____t_', '___c__m__t_', '__oc__m__t_', '__och_m__t_', '_ioch_mi_t_', '_ioch_mi_t_', '_iochemi_t_', '_iochemi_t_', 'biochemi_t_', 'biochemists', '', '', '', '', '', '', '', '', '', '', ''], ['_er_o__l_', '_er_o__l_', '_er_o__l_', '_er_o_sl_', '_er_ousl_', '_er_ousl_', '_er_ousl_', '_er_ousl_', '_er_ousl_', '', '', '', '', '', '', '', '', '', '', '', ''], ['oophoro__lpin_e_tomy', 'oophoros_lpin_e_tomy', 'oophoros_lpin_e_tomy', 'oophoros_lpinge_tomy', 'oophoros_lpingectomy', 'oophoros_lpingectomy', 'oophorosalpingectomy', '', '', '', '', '', '', '', '', '', '', '', '', '', ''], ['_ndeceive', 'undeceive', '', '', '', '', '', '', '', '', '', '', '', '', '', '', '', '', '', '', ''], ['sulph_sulphu__us', 'sulph_sulphur_us', 'sulph_sulphur_us', 'sulph_sulphur_us', 'sulph_sulphur_us', 'sulph_sulphur_us', 'sulph_sulphur_us', 'sulph_sulphur_us', '', '', '', '', '', '', '', '', '', '', '', '', ''], ['_________', '__r______', '_er______', '_er______', '_er______', '_er_____y', '_er_____y', '_er_o___y', '_ervo___y', '_ervo__ly', '_ervou_ly', '_ervously', '_ervously', 'nervously', '', '', '', '', '', '', ''], ['__n_________n_____n_', '__n_________n___l_n_', '__n_________n_x_l_n_', '__n_________n_x_l_n_', '__n_________n_x_l_n_', '__n________in_x_lin_', '__n________in_x_lin_', '__nz_______in_x_lin_', '__nz_______in_xalin_', '__nz___r___in_xalin_', '__nz___r___in_xalin_', '__nz_f_r___in_xalin_', '__nz_f_r_q_in_xalin_', '_enz_f_r_q_in_xaline', '_enzof_roq_inoxaline', '_enzofuroquinoxaline', 'benzofuroquinoxaline', '', '', '', ''], ['_o___o', '_o___o', '_o___o', '_o___o', '_o___o', '_o___o', '_o___o', '', '', '', '', '', '', '', '', '', '', '', '', '', ''], ['_________', '________s', '________s', 'd_______s', 'd___c___s', 'd_t_c___s', 'd_t_c__rs', 'd_tac__rs', 'detac_ers', 'detachers', '', '', '', '', '', '', '', '', '', '', ''], ['gyps_fer__s', 'gyps_fer_us', 'gypsifer_us', 'gypsiferous', '', '', '', '', '', '', '', '', '', '', '', '', '', '', '', '', ''], ['hydrodesu_phurization', 'hydrodesulphurization', '', '', '', '', '', '', '', '', '', '', '', '', '', '', '', '', '', '', ''], ['____y_____________', '____y_____________', '____y_____________', '____y_____________', '____y_____________', '____y_____________', '____y_____________', '', '', '', '', '', '', '', '', '', '', '', '', '', ''], ['_n_en__t_v_t_e_', '_n_en__t_v_t_e_', '_n_en__t_v_t_e_', '_n_en__t_v_t_e_', '_n_en__t_v_t_e_', '_n_en__t_v_t_e_', '_n_en__t_v_t_e_', '', '', '', '', '', '', '', '', '', '', '', '', '', ''], ['_o', '_o', '_o', '_o', '_o', '_o', '_o', '', '', '', '', '', '', '', '', '', '', '', '', '', ''], ['____b', '____b', '____b', '__aab', '__aab', 'g_aab', 'glaab', '', '', '', '', '', '', '', '', '', '', '', '', '', ''], ['_______', 'm______', 'm______', 'm_l____', 'm_lu_u_', 'm_lu_u_', 'm_lu_u_', 'm_lu_u_', 'm_lu_us', 'm_lu_us', 'm_lu_us', '', '', '', '', '', '', '', '', '', ''], ['s_ool', 'stool', '', '', '', '', '', '', '', '', '', '', '', '', '', '', '', '', '', '', ''], ['nonintermittentne__', 'nonintermittentne__', 'nonintermittentne__', 'nonintermittentne__', 'nonintermittentne__', 'nonintermittentne__', 'nonintermittentne__', '', '', '', '', '', '', '', '', '', '', '', '', '', ''], ['________i_a_i__a_i__', '________i_a_i__a_i__', '________i_a_i__ali__', '_______mi_a_i__ali_m', '_o____omi_a_io_ali_m', '_o__e_omi_a_io_ali_m', '_o__e_omi_a_io_ali_m', 'non_enomina_ionali_m', 'non_enomina_ionali_m', 'non_enominationali_m', 'nondenominationali_m', 'nondenominationalism', '', '', '', '', '', '', '', '', ''], ['___r_c_r_____r_', '___r_c_r_e___r_', 'i__r_c_r_e___r_', 'i__racar_e__ar_', 'i__racar_e__ary', 'i__racarpe__ary', 'in_racarpe__ary', 'in_racarpe__ary', 'in_racarpe__ary', 'in_racarpellary', 'intracarpellary', '', '', '', '', '', '', '', '', '', ''], ['un_ontemporaneousness', 'uncontemporaneousness', '', '', '', '', '', '', '', '', '', '', '', '', '', '', '', '', '', '', ''], ['s___ss_s', 's___ss_s', 's___ss_s', 's___ss_s', 's___ss_s', 's___ss_s', 's___ss_s', '', '', '', '', '', '', '', '', '', '', '', '', '', ''], ['_easton', '_easton', '_easton', '_easton', '_easton', '_easton', '_easton', '', '', '', '', '', '', '', '', '', '', '', '', '', ''], ['_o', '_o', 'ho', '', '', '', '', '', '', '', '', '', '', '', '', '', '', '', '', '', ''], ['_e______', '_e___o__', '_elllo__', 'welllo__', 'welllo_t', 'welllost', '', '', '', '', '', '', '', '', '', '', '', '', '', '', ''], ['ca__ro', 'ca__ro', 'ca__ro', 'ca__ro', 'ca_tro', 'ca_tro', 'ca_tro', 'castro', '', '', '', '', '', '', '', '', '', '', '', '', ''], ['de_g_', 'de_g_', 'deig_', 'deign', '', '', '', '', '', '', '', '', '', '', '', '', '', '', '', '', ''], ['_laab', 'glaab', '', '', '', '', '', '', '', '', '', '', '', '', '', '', '', '', '', '', ''], ['_________________t___', '_________________t___', '_______s_________t___', '_______s______i__ti__', '_______s__p___i__ti__', '______es__p___i__ti__', '______esu_p_u_i__ti__', '______esu_p_u_i__ti__', '___r__esu_p_uri__ti__', '_y_r__esu_p_uri__ti__', '_y_r__esu_p_uri__ti__', '_y_r__esulp_uri__ti__', '_y_r__esulp_uri__ti__', '_y_r__esulp_uri__ti_n', '_y_r__esulp_uri__ti_n', '_y_ro_esulp_uri__tion', '_y_ro_esulp_uri_ation', 'hy_ro_esulphuri_ation', 'hydrodesulphuri_ation', 'hydrodesulphuri_ation', ''], ['_y____e____', '_y____e____', '_y____e____', 'gy____e____', 'gy____e____', 'gy_s__e___s', 'gy_s__e___s', 'gy_s__e___s', 'gy_s__e___s', '', '', '', '', '', '', '', '', '', '', '', ''], ['_l____l_______', '_l____l_______', '_l____l___n___', '_l____l___n___', '_l____l___n___', '_l____l___n___', '_l____l___n___', '_l____l___n___', '', '', '', '', '', '', '', '', '', '', '', '', ''], ['____b', '____b', '____b', '__aab', '__aab', '__aab', '_laab', '_laab', '_laab', '', '', '', '', '', '', '', '', '', '', '', ''], ['asyndet_ns', 'asyndetons', '', '', '', '', '', '', '', '', '', '', '', '', '', '', '', '', '', '', ''], ['g_nn_', 'ginni', '', '', '', '', '', '', '', '', '', '', '', '', '', '', '', '', '', '', ''], ['unscabb_d', 'unscabb_d', 'unscabbed', '', '', '', '', '', '', '', '', '', '', '', '', '', '', '', '', '', ''], ['d_ta___r_', 'd_ta___r_', 'd_ta___r_', 'd_ta___r_', 'd_ta___r_', 'd_ta___r_', 'd_ta___r_', '', '', '', '', '', '', '', '', '', '', '', '', '', ''], ['_n_es__neness', '_ntest_neness', 'intestineness', '', '', '', '', '', '', '', '', '', '', '', '', '', '', '', '', '', ''], ['a_a_a', 'a_a_a', 'a_a_a', 'a_a_a', 'a_a_a', 'alala', '', '', '', '', '', '', '', '', '', '', '', '', '', '', ''], ['_____', '_l_l_', '_l_l_', '_l_l_', '_l_l_', '_l_l_', 'alala', '', '', '', '', '', '', '', '', '', '', '', '', '', ''], ['____h______', '____h______', '____h______', '____h______', '____h______', '____h______', '____h______', '', '', '', '', '', '', '', '', '', '', '', '', '', ''], ['____r__', '____r__', '___uru_', '___uru_', '___uru_', '___uru_', '___urus', '__lurus', '__lurus', '_alurus', '_alurus', '', '', '', '', '', '', '', '', '', ''], ['d_cciar_s', 'decciares', '', '', '', '', '', '', '', '', '', '', '', '', '', '', '', '', '', '', ''], ['_h___________________', '_h____________n______', '_h____y_______n_____y', '_h____y_______n_____y', '_h____y_______n_____y', '_h__e_y____e__n_____y', '_h__e_ys___e__n_s___y', '_h__e_yst__e__n_st__y', '_h__e_yst__e__n_st__y', '_h__e_yst__e_un_st__y', '_h__e_yst__e_un_st__y', '_h__e_yst__e_un_st__y', '_h__e_yst__e_un_st__y', '', '', '', '', '', '', '', ''], ['_nb_a_t_o_sn_ss', 'unb_aut_ousn_ss', 'unb_aut_ousn_ss', 'unbeauteousness', '', '', '', '', '', '', '', '', '', '', '', '', '', '', '', '', ''], ['_________', '_________', '_________', '_________', '_________', '_________', '_________', '', '', '', '', '', '', '', '', '', '', '', '', '', ''], ['eulamellibra___iate', 'eulamellibra___iate', 'eulamellibra_c_iate', 'eulamellibra_c_iate', 'eulamellibra_chiate', 'eulamellibra_chiate', 'eulamellibra_chiate', 'eulamellibranchiate', '', '', '', '', '', '', '', '', '', '', '', '', ''], ['vacc_n_aceae', 'vacciniaceae', '', '', '', '', '', '', '', '', '', '', '', '', '', '', '', '', '', '', ''], ['c_____', 'c___r_', 'c_s_r_', 'c_s_ro', 'c_stro', 'castro', '', '', '', '', '', '', '', '', '', '', '', '', '', '', ''], ['i___t_e_cence', 'i___t_e_cence', 'i___t_e_cence', 'i___t_e_cence', 'i___t_e_cence', 'i___t_e_cence', 'i___t_e_cence', '', '', '', '', '', '', '', '', '', '', '', '', '', ''], ['___', 'zzz', '', '', '', '', '', '', '', '', '', '', '', '', '', '', '', '', '', '', ''], ['bl__t_rch', 'blo_torch', 'blo_torch', 'blo_torch', 'blo_torch', 'blo_torch', 'blowtorch', '', '', '', '', '', '', '', '', '', '', '', '', '', ''], ['______t________', '______t________', '___e__te____e__', '___e__te____e__', '___e__teo___e__', 'u__e_uteou__e__', 'u_be_uteou__e__', 'u_be_uteou__e__', 'u_be_uteou__e__', 'u_be_uteous_ess', 'unbe_uteousness', 'unbeauteousness', '', '', '', '', '', '', '', '', ''], ['n_nden_minati_nalism', 'n_nden_minati_nalism', 'nondenominationalism', '', '', '', '', '', '', '', '', '', '', '', '', '', '', '', '', '', ''], ['_t___o__oto______t__', '_t___o__oto______t__', '_t___o__oto___mm_t__', '_t___o__oto___mm_t__', 'st___o__oto___mm_t__', 'st___o__oto___mm_t__', 'st___o__oto___mm_t__', 'st___o__oto___mm_t_y', 'st___o__oto___mm_t_y', 'ste_eo__oto___mmet_y', 'ste_eo__oto___mmet_y', '', '', '', '', '', '', '', '', '', ''], ['b__mb________', 'b__mb________', 'b__mb_e______', 'b__mb_e_t____', 'b__mb_e_th___', 'ba_mb_eath___', 'ba_mb_eath___', 'ba_mb_eath_n_', 'ba_mb_eathin_', 'balmb_eathin_', 'balmbreathin_', 'balmbreathing', '', '', '', '', '', '', '', '', ''], ['____y_____________', '____y_______c_____', '____y_______c_____', '____y_______c_____', '____y_______c_____', '____y_____f_c_____', '____y_____f_c_____', '__ssy_____f_c_____', '__ssy_____f_c_____', '__ssy_____f_c_____', '', '', '', '', '', '', '', '', '', '', ''], ['fe_e_fe_', 'fe_e_fe_', 'fe_erfe_', 'fe_erfe_', 'fe_erfe_', 'fe_erfe_', 'fe_erfe_', 'fe_erfe_', '', '', '', '', '', '', '', '', '', '', '', '', ''], ['_o_co_tempo___ies', '_o_co_tempo___ies', '_o_co_tempor_ries', '_o_co_tempor_ries', '_o_co_tempor_ries', '_o_co_tempor_ries', '_o_co_tempor_ries', '_o_co_tempor_ries', '', '', '', '', '', '', '', '', '', '', '', '', ''], ['_______________', '_______________', '_______________', '_______________', '_______________', '______t________', '______t________', '______t________', '', '', '', '', '', '', '', '', '', '', '', '', ''], ['___________', '___________', '____e____e_', '____e____e_', '____e____e_', '____e____e_', 'd___ed___e_', 'd___eda__e_', 'd___eda__es', 'd___eda__es', 'd___eda_ies', 'd__meda_ies', 'dr_medaries', 'dr_medaries', '', '', '', '', '', '', ''], ['________________', 's_______ss__s___', 's_______ss__s___', 's_______ss__s___', 's______ess__s___', 's_____fess__s___', 's_____fess__s_i_', 's_____fess__s_i_', 's_____fess__s_i_', 's_____fess__s_i_', 's_____fess__s_i_', '', '', '', '', '', '', '', '', '', ''], ['_attattat', 'rattattat', '', '', '', '', '', '', '', '', '', '', '', '', '', '', '', '', '', '', ''], ['____h_____h_____', '____h_____h_____', 's___h_s___h____s', 's___h_s___h_r__s', 's__ph_s__ph_r__s', 'su_ph_su_phur_us', 'su_phosu_phurous', 'sulphosulphurous', '', '', '', '', '', '', '', '', '', '', '', '', ''], ['________________', '________________', '________________', '________________', '________________', '________________', '________________', '', '', '', '', '', '', '', '', '', '', '', '', '', ''], ['gua_ylic', 'guanylic', '', '', '', '', '', '', '', '', '', '', '', '', '', '', '', '', '', '', ''], ['s_n___rt__', 's_n___rt_y', 'son__ort_y', 'son__ort_y', 'son__ort_y', 'son__ort_y', 'song_ort_y', 'song_ort_y', 'song_ort_y', 'songwort_y', 'songworthy', '', '', '', '', '', '', '', '', '', ''], ['t__c_sp__n_', 't__c_sp__n_', 'th_c_sp__n_', 'th_c_spr_n_', 'th_ckspr_n_', 'th_cksprun_', 'th_cksprun_', 'th_cksprung', 'thicksprung', '', '', '', '', '', '', '', '', '', '', '', ''], ['opti_ists', 'opti_ists', 'optimists', '', '', '', '', '', '', '', '', '', '', '', '', '', '', '', '', '', ''], ['____g_____', '___og_____', '_c_og_____', '_c_og___h_', '_c_og___h_', '_c_og___h_', '_c_og__ph_', '_c_og__phy', '_c_og__phy', '_c_og__phy', '_c_og__phy', '_c_og__phy', '', '', '', '', '', '', '', '', ''], ['gumpold_kirchner', 'gumpoldskirchner', '', '', '', '', '', '', '', '', '', '', '', '', '', '', '', '', '', '', ''], ['oo_', 'oof', '', '', '', '', '', '', '', '', '', '', '', '', '', '', '', '', '', '', ''], ['___ct____c__h_______h_c__', '___ct____c__ha____a_h_ca_', '___ct____c__ha____a_h_ca_', '___ct____c__ha____a_h_ca_', '___ct____c__ha____a_h_ca_', '___ctr___c__ha___ra_h_ca_', '___ctr___c__ha___ra_h_ca_', '___ctr___c__ha___ra_h_ca_', '___ctr__nc__ha___ra_h_ca_', '___ctr__nc__ha___ra_h_ca_', '', '', '', '', '', '', '', '', '', '', ''], ['hyperepinephrine_ia', 'hyperepinephrinemia', '', '', '', '', '', '', '', '', '', '', '', '', '', '', '', '', '', '', ''], ['br_gant_nebr_gant_nes', 'br_gant_nebr_gant_nes', 'brigantinebrigantines', '', '', '', '', '', '', '', '', '', '', '', '', '', '', '', '', '', ''], ['tor_enter_', 'tor_enter_', 'tor_enter_', 'tor_enter_', 'tor_enters', 'tor_enters', 'tor_enters', 'tor_enters', '', '', '', '', '', '', '', '', '', '', '', '', ''], ['__u_____', 'f_u_____', 'f_u_w___', 'fou_w___', 'fou_w__k', 'fou_week', 'fourweek', '', '', '', '', '', '', '', '', '', '', '', '', '', ''], ['lachry__ge_ic', 'lachrym_ge_ic', 'lachrymoge_ic', 'lachrymogenic', '', '', '', '', '', '', '', '', '', '', '', '', '', '', '', '', ''], ['b_corvinae', 'bucorvinae', '', '', '', '', '', '', '', '', '', '', '', '', '', '', '', '', '', '', ''], ['s_n___rt__', 's_n___rt__', 's_ng__rt__', 's_ng__rt__', 's_ng__rt__', 'song_ort__', 'song_ort__', 'song_ort__', 'song_ort__', '', '', '', '', '', '', '', '', '', '', '', ''], ['spectrop_otometer', 'spectrophotometer', '', '', '', '', '', '', '', '', '', '', '', '', '', '', '', '', '', '', ''], ['untrou_lesome', 'untroublesome', '', '', '', '', '', '', '', '', '', '', '', '', '', '', '', '', '', '', ''], ['centr_', 'centr_', 'centri', '', '', '', '', '', '', '', '', '', '', '', '', '', '', '', '', '', ''], ['scientific_phil_s_phical', 'scientific_phil_s_phical', 'scientificophilosophical', '', '', '', '', '', '', '', '', '', '', '', '', '', '', '', '', '', ''], ['_o__o__e__e__i_g_e__', '_o_co__e_ce__i_g_e__', '_o_co__e_ce__i_g_e__', '_o_co__e_ce__i_g_e__', '_o_co_de_ce_di_g_e__', '_o_co_de_ce_di_g_e__', '_o_co_desce_di_g_ess', '_o_co_desce_di_g_ess', '_o_co_desce_di_g_ess', '_o_co_desce_di_g_ess', '', '', '', '', '', '', '', '', '', '', ''], ['_nn_w_n', '_nn_w_n', '_nn_w_n', '_nn_w_n', '_nn_w_n', '_nn_w_n', '_nn_w_n', '', '', '', '', '', '', '', '', '', '', '', '', '', ''], ['__pe____________y', '__pe____________y', '__pe_d__________y', '__pe_d__________y', '_upe_d__________y', '_upe_d_a_____a__y', '_upe_dia___i_a__y', '_upe_dia_o_i_a__y', '_upe_dia_o_ica__y', '_upe_dia_olically', '_upe_diabolically', '_uperdiabolically', 'superdiabolically', '', '', '', '', '', '', '', ''], ['_e__xy__b___c_e_p__te__', '_e__xy__b___c_e_p__te__', '_e__xy__b_n_c_e_p__te_n', '_e_oxy__bon_c_eop_ote_n', '_e_oxy__bon_cleop_ote_n', '_e_oxyr_bon_cleoprote_n', '_e_oxyr_bonucleoprote_n', '_e_oxyribonucleoprotein', '_esoxyribonucleoprotein', '_esoxyribonucleoprotein', 'desoxyribonucleoprotein', '', '', '', '', '', '', '', '', '', ''], ['d____', 'd___n', 'd_i_n', 'dei_n', 'deign', '', '', '', '', '', '', '', '', '', '', '', '', '', '', '', ''], ['_________', '_u_______', '_u__i____', '_u__i____', '_u__in___', '_ummin___', 'dummin___', 'dummine__', 'dumminess', '', '', '', '', '', '', '', '', '', '', '', ''], ['____ates', '____ates', '____ates', '____ates', '____ates', '____ates', '____ates', '', '', '', '', '', '', '', '', '', '', '', '', '', ''], ['_________', '____t____', '_l__t____', '_l__t___h', 'bl__t___h', 'bl__t__ch', 'bl__t__ch', 'blo_to_ch', 'blo_to_ch', 'blowto_ch', 'blowto_ch', 'blowtorch', '', '', '', '', '', '', '', '', ''], ['hydrode_u__hur_zat_on', 'hydrode_u__hurization', 'hydrode_u__hurization', 'hydrode_u__hurization', 'hydrode_u__hurization', 'hydrode_u__hurization', 'hydrode_ul_hurization', 'hydrodesul_hurization', 'hydrodesulphurization', '', '', '', '', '', '', '', '', '', '', '', ''], ['nonser______ll_', 'nonser______ll_', 'nonser______ll_', 'nonser______ll_', 'nonser______ll_', 'nonser______ll_', 'nonser______ll_', '', '', '', '', '', '', '', '', '', '', '', '', '', ''], ['__d_ode________zat_on', '__d_ode________zat_on', '__d_ode________zat_on', '__d_ode___p____zat_on', 'h_d_ode___ph___zat_on', 'h_d_ode___ph___zat_on', 'h_d_odes__ph___zat_on', 'h_drodes__ph_r_zat_on', 'h_drodes__ph_r_zat_on', 'h_drodes__ph_r_zat_on', 'h_drodes__ph_r_zat_on', '', '', '', '', '', '', '', '', '', ''], ['______i_', '______i_', '______i_', '___ll_i_', '___ll_i_', 'p__ll_i_', 'p__ll_i_', 'p__ll_i_', 'p__ll_i_', '', '', '', '', '', '', '', '', '', '', '', ''], ['_r___l___r__n__', '_ri__l___r_in__', '_ri__l___r_in_d', 'pri__l___r_in_d', 'pri__l___r_in_d', 'pric_l___r_in_d', 'pric_l___r_ined', 'pric_l___r_ined', 'pric_l___r_ined', 'pric_l___r_ined', 'pric_l___r_ined', 'pric_l___r_ined', '', '', '', '', '', '', '', '', ''], ['_n__a_t___sn_ss', '_n__a_t_o_sn_ss', '_n_ea_teo_sness', 'un_eauteousness', 'un_eauteousness', 'unbeauteousness', '', '', '', '', '', '', '', '', '', '', '', '', '', '', ''], ['_______h_', '_______h_', 'a__a_a_ha', 'a__a_a_ha', 'a__acacha', 'arracacha', '', '', '', '', '', '', '', '', '', '', '', '', '', '', ''], ['hyperactivitie_', 'hyperactivities', '', '', '', '', '', '', '', '', '', '', '', '', '', '', '', '', '', '', ''], ['f_ipule', 'faipule', '', '', '', '', '', '', '', '', '', '', '', '', '', '', '', '', '', '', ''], ['_____f_____________', '_____f_____a_______', '_____f_____a_______', '_____f_____a_______', '_____f_____a_______', '_____f____da_______', '_____f____da_______', '_____f____da_______', '_____f____da_______', '', '', '', '', '', '', '', '', '', '', '', ''], ['de_gn', 'de_gn', 'deign', '', '', '', '', '', '', '', '', '', '', '', '', '', '', '', '', '', ''], ['__________', '__r_____r_', '__r_____rs', '__r__n__rs', '__rm_n__rs', 't_rm_nt_rs', 'torm_nt_rs', 'tormenters', '', '', '', '', '', '', '', '', '', '', '', '', ''], ['______p________', '______p________', '__e__ep_____e__', '__e__ep_____e__', '__e__ep_____e__', '_re__epr____e__', 'gre__epr____e__', 'gre__eproo__e__', 'grea_eproo__e__', 'grea_eproo__e__', 'grea_eproo_ne__', 'greaseproo_ness', 'greaseproo_ness', 'greaseproo_ness', '', '', '', '', '', '', ''], ['__ipule', '__ipule', '__ipule', '_aipule', 'faipule', '', '', '', '', '', '', '', '', '', '', '', '', '', '', '', ''], ['_________n___', '_______ssn_ss', '_______ssn_ss', '_______ssn_ss', 'v______ssn_ss', 'vo_____ssn_ss', 'vo_____ssn_ss', 'vow____ssn_ss', 'vowe__essness', 'vowe__essness', 'vowe__essness', 'vowe__essness', '', '', '', '', '', '', '', '', ''], ['d__g_', 'd_ig_', 'deig_', 'deign', '', '', '', '', '', '', '', '', '', '', '', '', '', '', '', '', ''], ['_elll_st', '_elllost', 'welllost', '', '', '', '', '', '', '', '', '', '', '', '', '', '', '', '', '', ''], ['la_h_y__ge___', 'la_h_y__ge___', 'la_h_y__ge___', 'la_h_y__ge___', 'la_h_y__ge___', 'la_h_y__ge___', 'la_h_y__ge___', '', '', '', '', '', '', '', '', '', '', '', '', '', ''], ['g_nn_', 'ginni', '', '', '', '', '', '', '', '', '', '', '', '', '', '', '', '', '', '', ''], ['_s_______s', '_s_______s', '_s_______s', '_s_______s', '_s_______s', '_s_______s', '_s___e___s', 'as___e___s', 'as___e___s', '', '', '', '', '', '', '', '', '', '', '', ''], ['su_legislation', 'sublegislation', '', '', '', '', '', '', '', '', '', '', '', '', '', '', '', '', '', '', ''], ['a_ta', 'a_ta', 'alta', '', '', '', '', '', '', '', '', '', '', '', '', '', '', '', '', '', ''], ['_o_____oo_', '_o__y__oo_', '_o__yp_oo_', '_o__yp_oo_', '_o__yproo_', '_o__yproo_', 'fo__yproof', 'follyproof', '', '', '', '', '', '', '', '', '', '', '', '', ''], ['diacetylmorp_ine', 'diacetylmorphine', '', '', '', '', '', '', '', '', '', '', '', '', '', '', '', '', '', '', ''], ['mi____ighting', 'mi____ighting', 'mi____ighting', 'mi____ighting', 'mi____ighting', 'mi____ighting', 'mi____ighting', '', '', '', '', '', '', '', '', '', '', '', '', '', ''], ['____', 'c___', 'c__e', 'c_ye', 'caye', '', '', '', '', '', '', '', '', '', '', '', '', '', '', '', ''], ['__________u_', '____o_____u_', '____o___r_u_', '__i_o___riu_', 'd_i_o___riu_', 'd_i_o___rium', 'dei_o__erium', 'dei_ot_erium', 'deinot_erium', 'deinotherium', '', '', '', '', '', '', '', '', '', '', ''], ['kinnikinni_k', 'kinnikinnick', '', '', '', '', '', '', '', '', '', '', '', '', '', '', '', '', '', '', ''], ['_i____i________i__i___', '_i____i________i__i___', '_i____i________i__i___', '_i____i________i__i___', '_i____i________i__i___', '_i____i________i__i___', '_i____i_______li__i__l', '_i____i_______li__i__l', '', '', '', '', '', '', '', '', '', '', '', '', ''], ['_r_______e_r_______e_', 'br_______ebr_______e_', 'br_______ebr_______e_', 'br_______ebr_______e_', 'br_______ebr_______e_', 'br_______ebr_______es', 'br_______ebr_______es', 'br_______ebr_______es', 'br_______ebr_______es', '', '', '', '', '', '', '', '', '', '', '', ''], ['xenoc_ystic', 'xenocrystic', '', '', '', '', '', '', '', '', '', '', '', '', '', '', '', '', '', '', ''], ['_______', '_______', '__o____', '__o____', 's_o___s', 's_o___s', 's_o___s', 's_or_rs', 's_or_rs', 'snor_rs', 'snor_rs', '', '', '', '', '', '', '', '', '', ''], ['vacc_n_aceae', 'vacciniaceae', '', '', '', '', '', '', '', '', '', '', '', '', '', '', '', '', '', '', ''], ['______e___', '____t_et__', '_d__t_et__', '_d__t_et__', '_d__thet__', '_d__thet_c', '_di_thetic', 'adiathetic', '', '', '', '', '', '', '', '', '', '', '', '', ''], ['_____', '_____', '____e', '____e', '__b_e', '__b_e', '_ab_e', '_ab_e', '_abre', 'fabre', '', '', '', '', '', '', '', '', '', '', ''], ['_hi__i_r', '_hi__i_r', '_hi__i_r', 'whi__i_r', 'whi__i_r', 'whi__i_r', 'whi__i_r', 'whi__i_r', '', '', '', '', '', '', '', '', '', '', '', '', ''], ['songwort_y', 'songworthy', '', '', '', '', '', '', '', '', '', '', '', '', '', '', '', '', '', '', ''], ['_ndeceive', '_ndeceive', '_ndeceive', '_ndeceive', '_ndeceive', 'undeceive', '', '', '', '', '', '', '', '', '', '', '', '', '', '', ''], ['mal_r_s', 'mal_r_s', 'mal_r_s', 'mal_r_s', 'mal_r_s', 'mal_r_s', 'mal_r_s', '', '', '', '', '', '', '', '', '', '', '', '', '', ''], ['_a_____a__a_', '_a_____a__a_', '_acc___ac_a_', 'vacc___ac_a_', 'vacc___ac_a_', 'vacc___ac_a_', 'vacci_iac_a_', 'vacci_iaceae', 'vacciniaceae', '', '', '', '', '', '', '', '', '', '', '', ''], ['_____a_____g', '_____a__z__g', '_____a__z__g', '____ra__z__g', 's___ra__z__g', 's_v_ra__z__g', 's_v_ra__z__g', 'severa__z__g', 'severa__z__g', 'severa_izi_g', 'severa_izi_g', 'severa_izi_g', 'severa_izing', 'severa_izing', '', '', '', '', '', '', ''], ['h__e__________s_ess', 'h__e___d______s_ess', 'h_pe___d______s_ess', 'h_pe___d______sness', 'h_pe___d_c____sness', 'h_pe__idic____sness', 'h_pe__idic____sness', 'hype__idic____sness', 'hype__idic_l__sness', 'hype__idicul_usness', 'hype__idiculousness', 'hyperridiculousness', '', '', '', '', '', '', '', '', ''], ['foreallege_', 'forealleged', '', '', '', '', '', '', '', '', '', '', '', '', '', '', '', '', '', '', ''], ['b_corvinae', 'b_corvinae', 'b_corvinae', 'b_corvinae', 'b_corvinae', 'b_corvinae', 'b_corvinae', '', '', '', '', '', '', '', '', '', '', '', '', '', ''], ['__d______', '__d______', 'u_d______', 'u_de_e__e', 'u_de_ei_e', 'u_decei_e', 'u_decei_e', 'u_decei_e', 'u_decei_e', 'u_deceive', 'u_deceive', 'undeceive', '', '', '', '', '', '', '', '', ''], ['a_r', 'a_r', 'abr', '', '', '', '', '', '', '', '', '', '', '', '', '', '', '', '', '', ''], ['__________', 's_____s___', 's_____s___', 'sh____sh__', 'sh____sh__', 'sh_gg_sh__', 'sh_gg_sh__', 'sh_ggysh__', 'shoggyshoo', '', '', '', '', '', '', '', '', '', '', '', ''], ['_n_en__t_v_t_e_', '_nsens_t_v_t_es', '_nsens_t_v_t_es', '_nsens_t_v_t_es', '_nsens_t_v_t_es', '_nsens_t_v_t_es', 'insensitivities', '', '', '', '', '', '', '', '', '', '', '', '', '', ''], ['s__ct_____t_m_t__', 's__ct_____t_m_t__', 'sp_ct__p__t_m_t__', 'sp_ct__p__t_m_t__', 'sp_ct__p__t_m_t__', 'sp_ct__p__t_m_t__', 'sp_ct__ph_t_m_t__', 'sp_ct__ph_t_m_t__', 'sp_ct__ph_t_m_t__', '', '', '', '', '', '', '', '', '', '', '', ''], ['w_dsetti__', 'w_dsetti_g', 'wadsetti_g', 'wadsetting', '', '', '', '', '', '', '', '', '', '', '', '', '', '', '', '', ''], ['_____________________________', '__i_i________________i____i__', '__i_i____h_______h___i____i__', '__i_i___ph_______h___i____i__', '__ini___ph_n_____h__ni____in_', '__ini___ph_n_____h__ni____in_', '__ini___ph_n_____h__ni____in_', '__ini___ph_n_____h__ni____in_', '__ini___ph_n_____h__ni____in_', '__ini___ph_n_l___h_lni____in_', 't_init__ph_n_l__th_lnit___in_', 't_init__ph_nyl__thylnit___in_', 't_init_oph_nyl__thylnit___in_', 'trinitroph_nyl__thylnitr__in_', 'trinitrophenyl_ethylnitr__ine', 'trinitrophenylmethylnitr_mine', 'trinitrophenylmethylnitramine', '', '', '', ''], ['_ppere', '_ppere', '_ppere', '_ppere', '_ppere', '_ppere', 'appere', '', '', '', '', '', '', '', '', '', '', '', '', '', ''], ['___', '___', 'a__', 'a__', 'ab_', 'ab_', 'ab_', 'abr', '', '', '', '', '', '', '', '', '', '', '', '', ''], ['nonf_ctitiousness', 'nonf_ctitiousness', 'nonfactitiousness', '', '', '', '', '', '', '', '', '', '', '', '', '', '', '', '', '', ''], ['___________________', '___________________', '___________________', '___________________', '____r______________', '____r_tt___________', '__p_r_tt___________', '__p_r_tt___________', '__p_r_tt___________', '__p_r_tt___________', '', '', '', '', '', '', '', '', '', '', ''], ['________', '_____f__', '_____f__', '_____f__', '_____f__', '_____f__', '_____f__', '_____f__', '', '', '', '', '', '', '', '', '', '', '', '', ''], ['_o', '_o', '_o', '_o', '_o', '_o', 'ho', '', '', '', '', '', '', '', '', '', '', '', '', '', ''], ['ostracin_', 'ostracin_', 'ostracin_', 'ostracin_', 'ostracine', '', '', '', '', '', '', '', '', '', '', '', '', '', '', '', ''], ['______________', '______________', '____________o_', '____________o_', '____________o_', '____________o_', '____________o_', '__________t_o_', '__________t_o_', '', '', '', '', '', '', '', '', '', '', '', ''], ['___________l__________', '________d__l__________', '_____i_id__l__________', '_____i_id__l__________', '_____i_id_gl__________', '_____i_id_gl_________a', '__o__i_idoglo__o_o___a', '__o__i_idoglo__omo___a', '__o_hi_idoglo__omo__ha', '__o_hi_idoglossomo__ha', '_rorhi_idoglossomor_ha', '_rorhi_idoglossomor_ha', 'prorhipidoglossomorpha', '', '', '', '', '', '', '', ''], ['_____i___c___i____', '____ti___ct__i____', '____ti___cto_i____', '__s_tis__cto_i__ss', '__s_tis__cto_i_ess', '__satis_acto_i_ess', '__satis_acto_i_ess', 'u_satis_acto_i_ess', 'u_satis_actori_ess', 'u_satisfactori_ess', 'unsatisfactoriness', '', '', '', '', '', '', '', '', '', ''], ['gn__sn____r', 'gna_sna___r', 'gna_sna___r', 'gnatsna___r', 'gnatsna___r', 'gnatsnapp_r', 'gnatsnapper', '', '', '', '', '', '', '', '', '', '', '', '', '', ''], ['f_urweek', 'f_urweek', 'fourweek', '', '', '', '', '', '', '', '', '', '', '', '', '', '', '', '', '', ''], ['_______________', '_______________', '_______________', '______y________', '______y________', '______y________', '______y________', '______y________', '', '', '', '', '', '', '', '', '', '', '', '', ''], ['in_es_ineness', 'in_es_ineness', 'in_es_ineness', 'intestineness', '', '', '', '', '', '', '', '', '', '', '', '', '', '', '', '', ''], ['oophoro__lpin_e_tomy', 'oophoro__lpin_e_tomy', 'oophoro__lpin_e_tomy', 'oophoro__lpin_e_tomy', 'oophoro__lpin_e_tomy', 'oophoro__lpin_e_tomy', 'oophoros_lpin_e_tomy', 'oophoros_lpin_e_tomy', '', '', '', '', '', '', '', '', '', '', '', '', ''], ['__cc_n_l__l__at__a_ole', '__cc_n_l__l__at__a_ole', '__cc_nyl__l__at__a_ole', '__cc_nyl__l__at__azole', '__cc_nyl__l__at__azole', '__cc_nyl__l__at__azole', '__cc_nyl__l_hath_azole', 's_cc_nyls_l_hath_azole', 's_cc_nyls_l_hath_azole', 's_cc_nyls_l_hath_azole', 's_cc_nyls_l_hath_azole', '', '', '', '', '', '', '', '', '', ''], ['subpro_essorship', 'subprofessorship', '', '', '', '', '', '', '', '', '', '', '', '', '', '', '', '', '', '', ''], ['__________', '_________y', '_________y', '_________y', '_c_______y', '_c_o_____y', '_c_o___p_y', '_c_o___p_y', '_c_o___p_y', 'ac_o__ap_y', 'acro_rap_y', 'acro_raphy', 'acrography', '', '', '', '', '', '', '', ''], ['_am_sychist', 'pampsychist', '', '', '', '', '', '', '', '', '', '', '', '', '', '', '', '', '', '', ''], ['______________', '______________', '______________', '______________', '__________t___', '__________t___', '____e_____t___', '____e_____t___', '____e_____t___', '', '', '', '', '', '', '', '', '', '', '', ''], ['_ropsywor_', '_ropsywort', 'dropsywort', '', '', '', '', '', '', '', '', '', '', '', '', '', '', '', '', '', ''], ['k_igsberg', 'k_igsberg', 'k_igsberg', 'k_igsberg', 'knigsberg', '', '', '', '', '', '', '', '', '', '', '', '', '', '', '', ''], ['c_unterattestati_n', 'c_unterattestati_n', 'c_unterattestati_n', 'c_unterattestati_n', 'c_unterattestati_n', 'counterattestation', '', '', '', '', '', '', '', '', '', '', '', '', '', '', ''], ['un_ontemporaneousness', 'un_ontemporaneousness', 'un_ontemporaneousness', 'un_ontemporaneousness', 'un_ontemporaneousness', 'un_ontemporaneousness', 'un_ontemporaneousness', '', '', '', '', '', '', '', '', '', '', '', '', '', ''], ['rig_ties', 'rig_ties', 'rig_ties', 'righties', '', '', '', '', '', '', '', '', '', '', '', '', '', '', '', '', ''], ['severalizi_g', 'severalizi_g', 'severalizing', '', '', '', '', '', '', '', '', '', '', '', '', '', '', '', '', '', ''], ['i________i__a__y', 'i________i__a__y', 'i________i__a__y', 'i________i__a__y', 'i________i__ally', 'i________i__ally', 'i________i__ally', 'i________i__ally', '', '', '', '', '', '', '', '', '', '', '', '', ''], ['____________s_ess', '____a_______s_ess', '____a_t_t___s_ess', '____act_t___s_ess', '___fact_t___s_ess', 'n_nfact_t___sness', 'n_nfact_t___sness', 'n_nfact_t___sness', 'n_nfactiti__sness', 'n_nfactiti__sness', 'n_nfactiti_usness', 'nonfactitiousness', '', '', '', '', '', '', '', '', ''], ['b_____g_____', 'b_ll__g_____', 'b_ll__g___r_', 'b_llf_g___r_', 'b_llf_g___rs', 'b_llfig___rs', 'b_llfigh__rs', 'b_llfight_rs', 'bullfight_rs', 'bullfighters', '', '', '', '', '', '', '', '', '', '', ''], ['_ppe_e', '_ppe_e', '_ppe_e', '_ppe_e', '_ppe_e', '_ppe_e', '_ppere', '_ppere', '', '', '', '', '', '', '', '', '', '', '', '', ''], ['v_neless', 'v_neless', 'vineless', '', '', '', '', '', '', '', '', '', '', '', '', '', '', '', '', '', ''], ['u_______uta___', 'u_______uta___', 'u_______uta___', 'u_______uta___', 'u_______utab__', 'u______putab__', 'u__i___putab__', 'u__i___putab__', 'u__i___putabl_', 'u__i__eputable', 'u__i__eputable', 'u__i_reputable', 'u_di_reputable', 'u_disreputable', 'undisreputable', '', '', '', '', '', ''], ['_ppere', 'appere', '', '', '', '', '', '', '', '', '', '', '', '', '', '', '', '', '', '', ''], ['_', 'i', '', '', '', '', '', '', '', '', '', '', '', '', '', '', '', '', '', '', ''], ['i________i______', 'i__u_____i______', 'i__u_____i______', 'in_u_____i_n____', 'in_u_____i_n____', 'in_u_____i_n____', 'in_urr___i_n____', 'in_urr___i_n____', 'in_urr___i_n_ll_', 'in_urr___i_n_ll_', 'in_urr___i_n_lly', 'in_urr___i_n_lly', '', '', '', '', '', '', '', '', ''], ['_o_ig_omi_iou__e__', '_o_ig_omi_ious_ess', 'nonignominiousness', '', '', '', '', '', '', '', '', '', '', '', '', '', '', '', '', '', ''], ['____w__', '_nn_w_n', 'annawan', '', '', '', '', '', '', '', '', '', '', '', '', '', '', '', '', '', ''], ['drom_dari_s', 'dromedaries', '', '', '', '', '', '', '', '', '', '', '', '', '', '', '', '', '', '', ''], ['represe_tatio_alist', 'represe_tatio_alist', 'representationalist', '', '', '', '', '', '', '', '', '', '', '', '', '', '', '', '', '', ''], ['oo_', 'oof', '', '', '', '', '', '', '', '', '', '', '', '', '', '', '', '', '', '', ''], ['nem_ceran', 'nemoceran', '', '', '', '', '', '', '', '', '', '', '', '', '', '', '', '', '', '', ''], ['a_r', 'abr', '', '', '', '', '', '', '', '', '', '', '', '', '', '', '', '', '', '', ''], ['_o', 'ho', '', '', '', '', '', '', '', '', '', '', '', '', '', '', '', '', '', '', ''], ['sc_e_t___c__h_l_s__h_c_l', 'sc_e_t___c__h_l_s__h_c_l', 'sc_e_t___c__h_l_s__h_c_l', 'sc_e_t___c__h_l_s__h_c_l', 'sc_e_t___c__h_l_s__h_c_l', 'sc_e_t___c__h_l_s__h_c_l', 'sc_e_t___c__h_l_s__h_c_l', '', '', '', '', '', '', '', '', '', '', '', '', '', ''], ['t_init_ophenyl_ethylnit___ine', 't_init_ophenyl_ethylnit___ine', 't_init_ophenyl_ethylnit___ine', 't_init_ophenyl_ethylnit___ine', 't_init_ophenyl_ethylnit___ine', 't_init_ophenyl_ethylnit___ine', 't_init_ophenyl_ethylnit___ine', '', '', '', '', '', '', '', '', '', '', '', '', '', ''], ['fa_ish', 'farish', '', '', '', '', '', '', '', '', '', '', '', '', '', '', '', '', '', '', ''], ['u_suline', 'ursuline', '', '', '', '', '', '', '', '', '', '', '', '', '', '', '', '', '', '', ''], ['________i_a_i__a_i__', '____e___i_a_i__a_i__', '____e__mi_a_i__a_i_m', '___de__mi_a_i__a_i_m', '___de__mi_a_i__a_i_m', '___de__mi_ati__a_i_m', '_o_de_omi_atio_a_i_m', '_o_de_omi_atio_a_ism', 'nondenominationa_ism', 'nondenominationalism', '', '', '', '', '', '', '', '', '', '', ''], ['___________________', '___________________', '___________________', '___________________', '___________________', '______o____________', '______o_m__________', '______o_m__________', '______o_m______n___', '______o_m___b__n___', '____r_orm___b__n___', '____r_orm_d_b__n___', '____r_orm_d_b__n___', '', '', '', '', '', '', '', ''], ['_hinnier', '_hinnier', 'whinnier', '', '', '', '', '', '', '', '', '', '', '', '', '', '', '', '', '', ''], ['nonb_rb_rousness', 'nonb_rb_rousness', 'nonbarbarousness', '', '', '', '', '', '', '', '', '', '', '', '', '', '', '', '', '', ''], ['_______r___________', '_______r___________', '_______r___________', '_______r___________', '_______r___________', '_______r_________ss', '_______r_________ss', '_______r_________ss', '', '', '', '', '', '', '', '', '', '', '', '', ''], ['_n____t____n___', '_n_e__te___ne__', '_n_e__te___ne__', '_n_e__te___ne__', '_n_e__te___ne__', 'un_e_ute_u_ne__', 'un_e_ute_usness', 'un_e_ute_usness', 'un_e_ute_usness', 'un_eaute_usness', 'un_eauteousness', 'un_eauteousness', '', '', '', '', '', '', '', '', ''], ['_upermagnificently', '_upermagnificently', '_upermagnificently', 'supermagnificently', '', '', '', '', '', '', '', '', '', '', '', '', '', '', '', '', ''], ['su_erattainableness', 'superattainableness', '', '', '', '', '', '', '', '', '', '', '', '', '', '', '', '', '', '', ''], ['prec_n_en_', 'prec_n_en_', 'prec_ntent', 'precontent', '', '', '', '', '', '', '', '', '', '', '', '', '', '', '', '', ''], ['_nt_o__l_so__', '_nt_o__l_so__', '_nt_o__l_so__', '_ntro__l_so__', '_ntro__l_so__', '_ntro__l_so__', '_ntro__l_so__', '_ntro__leso_e', '_ntro__leso_e', '', '', '', '', '', '', '', '', '', '', '', ''], ['balmb__athi_g', 'balmb_eathi_g', 'balmbreathi_g', 'balmbreathing', '', '', '', '', '', '', '', '', '', '', '', '', '', '', '', '', ''], ['________d', '____a___d', '____a__ed', '__s_a__ed', '__s_abbed', '__scabbed', 'u_scabbed', 'unscabbed', '', '', '', '', '', '', '', '', '', '', '', '', ''], ['________________________', '________________________', '________________________', '________________________', '________________________', '________________________', '________________________', '', '', '', '', '', '', '', '', '', '', '', '', '', ''], ['n_rcissisms', 'narcissisms', '', '', '', '', '', '', '', '', '', '', '', '', '', '', '', '', '', '', ''], ['____t___c__c_', '____t___c__c_', '____t___c__c_', '____t___c__c_', '____t___c__c_', '____t___c__c_', '____t___c__c_', '', '', '', '', '', '', '', '', '', '', '', '', '', ''], ['g__pho_cope', 'gr_pho_cope', 'grapho_cope', 'grapho_cope', 'graphoscope', '', '', '', '', '', '', '', '', '', '', '', '', '', '', '', ''], ['ri___ie_', 'ri___ie_', 'ri___ie_', 'rig__ie_', 'rig__ie_', 'rig_tie_', 'rig_tie_', 'rig_ties', 'rig_ties', 'rig_ties', '', '', '', '', '', '', '', '', '', '', ''], ['a_ta', 'alta', '', '', '', '', '', '', '', '', '', '', '', '', '', '', '', '', '', '', ''], ['__pe__agn___cen_l_', '__pe__agni_icen_l_', 's_pe__agni_icen_l_', 's_pe__agni_icentl_', 's_pe__agnificentl_', 's_pe__agnificentl_', 's_pe__agnificentl_', 's_per_agnificentl_', 's_permagnificentl_', 's_permagnificentl_', 'supermagnificentl_', 'supermagnificently', '', '', '', '', '', '', '', '', ''], ['h_peracti_itie_', 'h_peractivitie_', 'h_peractivitie_', 'h_peractivitie_', 'hyperactivitie_', 'hyperactivitie_', 'hyperactivities', '', '', '', '', '', '', '', '', '', '', '', '', '', ''], ['_issyll__ifi___io_', '_issyll__ifi___io_', '_issyll__ifi___io_', '_issyll__ific__io_', '_issyll__ific__io_', '_issyll__ific__io_', '_issyll__ific__io_', '_issyll__ific__io_', '', '', '', '', '', '', '', '', '', '', '', '', ''], ['____l__', 'r___l__', 'r__gl__', 'r__gl__', 'ri_gl__', 'ri_gle_', 'ridgle_', 'ridgle_', 'ridglea', '', '', '', '', '', '', '', '', '', '', '', ''], ['_________', '_________', '_________', '______s_s', '____m_s_s', '___imis_s', 'o__imis_s', 'op_imis_s', 'op_imis_s', 'op_imis_s', 'optimists', '', '', '', '', '', '', '', '', '', ''], ['_elll__t', '_elll__t', '_elll__t', 'welll__t', 'welll__t', 'welll__t', 'welll__t', 'welll_st', 'welllost', '', '', '', '', '', '', '', '', '', '', '', ''], ['sigillograp_er', 'sigillographer', '', '', '', '', '', '', '', '', '', '', '', '', '', '', '', '', '', '', ''], ['____w__', '____w__', '_nn_w_n', '_nn_w_n', '_nn_w_n', 'annawan', '', '', '', '', '', '', '', '', '', '', '', '', '', '', ''], ['__________', '__________', '________h_', '________h_', '________h_', '________h_', '_______th_', '_______thy', '_______thy', '_______thy', '', '', '', '', '', '', '', '', '', '', ''], ['________', '________', '________', '___ll___', '___llo__', 'p__llo__', 'p__llo__', 'p_yllo__', 'p_yllo__', 'p_ylloi_', 'phylloi_', 'phylloid', '', '', '', '', '', '', '', '', ''], ['bullfigh_ers', 'bullfighters', '', '', '', '', '', '', '', '', '', '', '', '', '', '', '', '', '', '', ''], ['_e______', '_e______', '_e___o__', '_e___o__', '_e___o__', '_e___o__', '_e___o__', '_e___o_t', '_e___ost', '_e___ost', '', '', '', '', '', '', '', '', '', '', ''], ['_nn_w_n', '_nn_w_n', '_nn_w_n', '_nn_w_n', '_nn_w_n', '_nn_w_n', 'annawan', '', '', '', '', '', '', '', '', '', '', '', '', '', ''], ['_n_rl', '_n_rl', '_n_rl', '_n_rl', '_n_rl', 'sn_rl', 'sn_rl', 'snarl', '', '', '', '', '', '', '', '', '', '', '', '', ''], ['supe_diabolically', 'supe_diabolically', 'supe_diabolically', 'supe_diabolically', 'superdiabolically', '', '', '', '', '', '', '', '', '', '', '', '', '', '', '', ''], ['noninstit_tion', 'noninstitution', '', '', '', '', '', '', '', '', '', '', '', '', '', '', '', '', '', '', ''], ['__cc_n_l__l__at__a_ole', '__cc_n_l__l__at__a_ole', '__cc_n_l__l__at__a_ole', '__cc_n_l__l__at__a_ole', '__cc_n_l__l__at__a_ole', '__cc_n_l__l__at__a_ole', '__ccin_l__l__at_ia_ole', '_uccin_l_ul__at_ia_ole', '_uccin_l_ul__at_ia_ole', '', '', '', '', '', '', '', '', '', '', '', ''], ['p_____', 'p_ww_w', 'p_ww_w', 'p_ww_w', 'powwow', '', '', '', '', '', '', '', '', '', '', '', '', '', '', '', ''], ['ri__ties', 'ri__ties', 'ri__ties', 'rig_ties', 'righties', '', '', '', '', '', '', '', '', '', '', '', '', '', '', '', ''], ['d_mmin_ss', 'd_mmin_ss', 'd_mmin_ss', 'd_mmin_ss', 'd_mmin_ss', 'd_mmin_ss', 'd_mmin_ss', '', '', '', '', '', '', '', '', '', '', '', '', '', ''], ['__n_c_yst_c', '__n_cryst_c', 'x_n_cryst_c', 'x_n_crystic', 'x_n_crystic', 'x_nocrystic', 'xenocrystic', '', '', '', '', '', '', '', '', '', '', '', '', '', ''], ['mi____ighting', 'mill__ighting', 'mill_righting', 'millwrighting', '', '', '', '', '', '', '', '', '', '', '', '', '', '', '', '', ''], ['onych_a', 'onych_a', 'onych_a', 'onych_a', 'onychia', '', '', '', '', '', '', '', '', '', '', '', '', '', '', '', ''], ['__zz_____', '__zz_____', 'm_zz_____', 'm_zz_____', 'm_zzi_i__', 'mazzi_ia_', 'mazzi_ia_', 'mazzinian', '', '', '', '', '', '', '', '', '', '', '', '', ''], ['a_ta', 'a_ta', 'a_ta', 'a_ta', 'a_ta', 'alta', '', '', '', '', '', '', '', '', '', '', '', '', '', '', ''], ['s_g_ll_g_a__e_', 's_g_llog_a__e_', 's_g_llog_a__e_', 's_g_llog_a__e_', 's_g_llog_a_he_', 's_g_llog_a_he_', 's_g_llog_a_he_', 's_g_llog_a_he_', 'sigillog_a_he_', 'sigillog_a_he_', '', '', '', '', '', '', '', '', '', '', ''], ['_n_en__t___t_e_', '_n_en__t_v_t_e_', '_n_en__t_v_t_e_', '_nsens_t_v_t_es', 'insensitivities', '', '', '', '', '', '', '', '', '', '', '', '', '', '', '', ''], ['expurgat_ons', 'expurgations', '', '', '', '', '', '', '', '', '', '', '', '', '', '', '', '', '', '', ''], ['_e______', '_e______', '_e____s_', '_e____s_', '_e____s_', '_e____s_', '_e____s_', '_e____s_', '', '', '', '', '', '', '', '', '', '', '', '', ''], ['_upe_fo_mi_a_lene__', '_upe_fo_mi_a_lene__', '_upe_fo_mi_a_lene__', '_upe_fo_mi_a_lene__', '_upe_fo_mi_a_lene__', '_upe_fo_mi_a_lene__', '_upe_fo_mi_a_lene__', '', '', '', '', '', '', '', '', '', '', '', '', '', ''], ['_____l_', '_____l_', '_____l_', 'f____l_', 'f____l_', 'f____l_', 'f____l_', 'f____l_', '', '', '', '', '', '', '', '', '', '', '', '', ''], ['gna_snapper', 'gnatsnapper', '', '', '', '', '', '', '', '', '', '', '', '', '', '', '', '', '', '', ''], ['______________', '_________a____', '____e____a____', '____e____a____', '__b_e____a____', '__b_e____a____', '__b_eg___a____', '__b_eg___at___', '__b_eg___at_o_', '__b_eg___at_o_', '__b_egi__atio_', '__b_egi__atio_', '__b_egi__atio_', '_ub_egi__atio_', '_ub_egi__ation', '_ub_egi__ation', '', '', '', '', ''], ['____________', '____________', '____________', '__nn___nn___', '__nn___nn___', '_inni_inni__', '_inni_innic_', '_inni_innic_', '_inni_innic_', '_inni_innic_', '', '', '', '', '', '', '', '', '', '', ''], ['_azzinian', '_azzinian', '_azzinian', 'mazzinian', '', '', '', '', '', '', '', '', '', '', '', '', '', '', '', '', ''], ['_ntic_t_lytic_lly', 'anticatalytically', '', '', '', '', '', '', '', '', '', '', '', '', '', '', '', '', '', '', ''], ['p_____', 'p_ww_w', 'p_ww_w', 'p_ww_w', 'p_ww_w', 'p_ww_w', 'p_ww_w', 'powwow', '', '', '', '', '', '', '', '', '', '', '', '', ''], ['hydrodesu_phurization', 'hydrodesulphurization', '', '', '', '', '', '', '', '', '', '', '', '', '', '', '', '', '', '', ''], ['____t___c__c_', '____t___c__c_', '____t___c__c_', '_m__t___c__c_', '_m__t___c__c_', '_m__t___c__c_', '_m__t___c__c_', 'im__t___c__c_', 'im_ut___c__c_', 'im_utr__c__c_', 'im_utr__c__c_', '', '', '', '', '', '', '', '', '', ''], ['a_ta', 'a_ta', 'a_ta', 'alta', '', '', '', '', '', '', '', '', '', '', '', '', '', '', '', '', ''], ['n___an___a', 'n_llan_lla', 'nullanulla', '', '', '', '', '', '', '', '', '', '', '', '', '', '', '', '', '', ''], ['______', 'e_____', 'e_____', 'e___i_', 'el__i_', 'el__i_', 'el_ri_', 'eldrid', '', '', '', '', '', '', '', '', '', '', '', '', ''], ['s_n_t_', 's_nat_', 'senate', '', '', '', '', '', '', '', '', '', '', '', '', '', '', '', '', '', ''], ['_np__s___p______', 'unp__s___p______', 'unp__s___p______', 'unp__s___p____l_', 'unp__s__ip_i__l_', 'unpr_s_rip_i__l_', 'unpr_s_rip_i_el_', 'unpr_s_rip_ivel_', 'unpr_s_rip_ively', 'unpr_s_rip_ively', 'unpros_rip_ively', 'unpros_riptively', 'unproscriptively', '', '', '', '', '', '', '', ''], ['________________', '________________', '________________', '________________', '________________', '________________', '________________', '', '', '', '', '', '', '', '', '', '', '', '', '', ''], ['__mm_____', 'd_mm_____', 'd_mm_____', 'd_mm_____', 'dumm_____', 'dumm_n___', 'dumm_ne__', 'dummine__', 'dumminess', '', '', '', '', '', '', '', '', '', '', '', ''], ['po__o_', 'powwow', '', '', '', '', '', '', '', '', '', '', '', '', '', '', '', '', '', '', ''], ['irrever_ib_e', 'irrever_ible', 'irrevertible', '', '', '', '', '', '', '', '', '', '', '', '', '', '', '', '', '', ''], ['________________y', '_u______________y', '_u______________y', '_u______________y', '_u______________y', '_u______________y', '_u______________y', '_u_______o______y', '_u_______o______y', '', '', '', '', '', '', '', '', '', '', '', ''], ['n_nse__________', 'n_nse__________', 'n_nse__________', 'n_nse__________', 'n_nse___h______', 'n_nse___h______', 'n_nse___hi_____', 'n_nse___hi_____', 'n_nse___hi_____', '', '', '', '', '', '', '', '', '', '', '', ''], ['__ac_ty__orp____', '__ac_tyl_orp____', '__ac_tyl_orp____', '__ac_tyl_orp__n_', '__acetyl_orp__ne', '_iacetyl_orp_ine', 'diacetyl_orp_ine', 'diacetyl_orp_ine', 'diacetyl_orphine', 'diacetylmorphine', '', '', '', '', '', '', '', '', '', '', ''], ['d_ntat__r_nat_', 'd_ntat__r_nat_', 'd_ntat__r_nat_', 'd_ntat__r_nat_', 'd_ntat__r_nat_', 'd_ntat__r_nat_', 'd_ntat__r_nat_', '', '', '', '', '', '', '', '', '', '', '', '', '', ''], ['s_o___s', 's_o_e_s', 's_orers', 'snorers', '', '', '', '', '', '', '', '', '', '', '', '', '', '', '', '', ''], ['t___ente__', 't___ente__', 't___ente__', 't___ente__', 't__mente__', 't__mente__', 'to_mente__', 'to_mente__', 'tormenter_', 'tormenters', '', '', '', '', '', '', '', '', '', '', ''], ['__n_____', 'v_n_____', 'v_n_____', 'v_n___ss', 'vin___ss', 'vin___ss', 'vin___ss', 'vin___ss', 'vin___ss', 'vin_l_ss', 'vineless', '', '', '', '', '', '', '', '', '', ''], ['a__um___', 'a__um___', 'a__um___', 'a__um___', 'a__um___', 'a__um__t', 'a__um__t', 'a__um__t', '', '', '', '', '', '', '', '', '', '', '', '', ''], ['_h_le_y_t_jejun__t_my', '_h_le_yst_jejun_st_my', '_h_le_yst_jejun_st_my', '_h_le_yst_jejun_st_my', 'ch_lecyst_jejun_st_my', 'cholecystojejunostomy', '', '', '', '', '', '', '', '', '', '', '', '', '', '', ''], ['___r___r_____r_', '___r___rp____r_', '__tr___rp____r_', '__tr___rp____r_', '__tr___rp____r_', '__tr___rp____r_', '__tr___rp____r_', '__tr___rp____r_', '__tr___rp____r_', '', '', '', '', '', '', '', '', '', '', '', ''], ['p__p_e_m__h_le__s____s', 'py_p_e_m__h_le_ys____s', 'py_pne_m__h_le_ys____s', 'py_pne_m__h_le_ys____s', 'pyopne_mo_hole_ys____s', 'pyopne_mocholecys____s', 'pyopne_mocholecyst_t_s', 'pyopne_mocholecystitis', 'pyopneumocholecystitis', '', '', '', '', '', '', '', '', '', '', '', ''], ['desoxyr_bonucleoprote_n', 'desoxyribonucleoprotein', '', '', '', '', '', '', '', '', '', '', '', '', '', '', '', '', '', '', ''], ['_ic__c_y__all_g__y', '_ic__c_y__all_g__y', '_ic__c_y__all_g__y', '_ic__c_y__all_g__y', 'mic__c_y__all_g__y', 'mic__c_ys_all_g__y', 'mic__c_ys_all_ge_y', 'micr_crys_all_ge_y', 'microcrys_alloge_y', 'microcrystalloge_y', 'microcrystalloge_y', 'microcrystalloge_y', 'microcrystalloge_y', '', '', '', '', '', '', '', ''], ['_________________', '____a____________', '____a____________', '____a_______s__ss', '____a_______s__ss', '____a_______s__ss', '____a______us__ss', '____a__i_i_us__ss', '____a__i_i_us__ss', '____a_titi_us__ss', '____a_titi_us__ss', 'n_n_a_titi_usn_ss', 'n_n_a_titi_usness', 'n_n_a_titi_usness', '', '', '', '', '', '', ''], ['wadsetti_g', 'wadsetting', '', '', '', '', '', '', '', '', '', '', '', '', '', '', '', '', '', '', ''], ['s___ralizi_g', 'se_eralizi_g', 'se_eralizing', 'severalizing', '', '', '', '', '', '', '', '', '', '', '', '', '', '', '', '', ''], ['_se_d_i__e____i___lis_ic', '_se_d_i__e____i___lis_ic', '_se_d_i__er___i___lis_ic', '_se_d_i__er___i___lis_ic', '_se_d_i__er___i___lis_ic', '_se_d_i__er___i___lis_ic', '_se_d_i__er___i___lis_ic', 'pse_d_i__er___i___lis_ic', 'pse_d_i__er___i___lis_ic', '', '', '', '', '', '', '', '', '', '', '', ''], ['____________', '_rr___r_____', '_rr___r_____', '_rre_er____e', '_rrever____e', '_rrever____e', 'irrever_i__e', 'irrever_i__e', 'irreverti__e', 'irrevertib_e', 'irrevertible', '', '', '', '', '', '', '', '', '', ''], ['hypot_achelium', 'hypotrachelium', '', '', '', '', '', '', '', '', '', '', '', '', '', '', '', '', '', '', ''], ['_____________________', '_____________________', '_____________________', '_____________________', '_____________________', '_____________________', '__________________i__', '__________________i__', '', '', '', '', '', '', '', '', '', '', '', '', ''], ['bioc_emists', 'bioc_emists', 'bioc_emists', 'biochemists', '', '', '', '', '', '', '', '', '', '', '', '', '', '', '', '', ''], ['_________________', '_p_____p_________', '_p_____p_________', '_p___r_p________r', '_p___r_p________r', '_p__tr_p__t___t_r', 'sp__tr_p__t___t_r', 'sp__tr_p__t_m_t_r', 'sp__trop_otom_t_r', 'sp__trop_otom_t_r', 'spe_trop_otometer', 'spe_trop_otometer', 'spe_trop_otometer', 'spectrop_otometer', 'spectrophotometer', '', '', '', '', '', ''], ['c_____', 'c___r_', 'ce__r_', 'ce__r_', 'cen_r_', 'centr_', 'centri', '', '', '', '', '', '', '', '', '', '', '', '', '', ''], ['gua_ylic', 'gua_ylic', 'guanylic', '', '', '', '', '', '', '', '', '', '', '', '', '', '', '', '', '', ''], ['__', '__', '__', '__', '__', '__', '__', '', '', '', '', '', '', '', '', '', '', '', '', '', ''], ['toba_o', 'tobago', '', '', '', '', '', '', '', '', '', '', '', '', '', '', '', '', '', '', ''], ['_ldrid', 'eldrid', '', '', '', '', '', '', '', '', '', '', '', '', '', '', '', '', '', '', ''], ['g_nn_', 'ginni', '', '', '', '', '', '', '', '', '', '', '', '', '', '', '', '', '', '', ''], ['sn_rl', 'sn_rl', 'sn_rl', 'sn_rl', 'sn_rl', 'sn_rl', 'sn_rl', '', '', '', '', '', '', '', '', '', '', '', '', '', ''], ['severalizi_g', 'severalizi_g', 'severalizi_g', 'severalizing', '', '', '', '', '', '', '', '', '', '', '', '', '', '', '', '', ''], ['n____n____', 'n____n____', 'n____n____', 'n____n____', 'nu___nu___', 'null_null_', 'nullanulla', '', '', '', '', '', '', '', '', '', '', '', '', '', ''], ['___________________', '___________________', '___________________', '_________c_________', '_________c_________', '_______d_c_________', '_______d_c_________', '_______d_c_________', '_______d_c_________', '', '', '', '', '', '', '', '', '', '', '', ''], ['_________t_', '_________t_', '_________t_', '________sts', '______m_sts', '______m_sts', '______m_sts', '______m_sts', '______m_sts', '', '', '', '', '', '', '', '', '', '', '', ''], ['________', '______n_', '_r____n_', '_r____n_', '_r__l_n_', '_r__l_n_', '_rs_l_n_', '_rs_l_ne', '_rs_line', 'ursuline', '', '', '', '', '', '', '', '', '', '', ''], ['n_nn_n_nn_', 'n_nn_n_nn_', 'n_nn_n_nn_', 'n_nn_n_nn_', 'n_nnyn_nny', 'n_nnyn_nny', 'n_nnyn_nny', 'nonnynonny', '', '', '', '', '', '', '', '', '', '', '', '', ''], ['_se_d_i__e____i___lis_ic', '_se_d_i__e____i___lis_ic', '_se_d_i__e____i___lis_ic', '_se_d_i__e____i___lis_ic', '_se_d_i__er___i___lis_ic', '_se_d_i__er___i___lis_ic', '_se_d_i__er___i___lis_ic', 'pse_d_i__er___i___lis_ic', 'pse_d_i__er___i___lis_ic', '', '', '', '', '', '', '', '', '', '', '', ''], ['gn__sn____r', 'gn__sn_pp_r', 'gn__sn_pp_r', 'gna_snapp_r', 'gna_snapp_r', 'gnatsnapp_r', 'gnatsnapper', '', '', '', '', '', '', '', '', '', '', '', '', '', ''], ['_a___', '_a___', '_a_r_', '_a_r_', '_abr_', '_abr_', '_abre', 'fabre', '', '', '', '', '', '', '', '', '', '', '', '', ''], ['__urweek', '__urweek', '__urweek', '_ourweek', '_ourweek', '_ourweek', '_ourweek', '_ourweek', '', '', '', '', '', '', '', '', '', '', '', '', ''], ['_', '_', '_', '_', '_', '_', '_', '', '', '', '', '', '', '', '', '', '', '', '', '', ''], ['__d_ode________zat_on', '__d_ode_u___u__zat_on', '__d_ode_u___u__zat_on', 'h_d_ode_u__hu__zat_on', 'hyd_ode_u__hu__zat_on', 'hyd_ode_u_phu__zat_on', 'hyd_ode_u_phu_ization', 'hyd_odesu_phu_ization', 'hyd_odesulphu_ization', 'hydrodesulphurization', '', '', '', '', '', '', '', '', '', '', ''], ['_h__h_', '_h__h_', '_h__h_', '_h__h_', '_h__h_', '_h__h_', '_h__h_', '', '', '', '', '', '', '', '', '', '', '', '', '', ''], ['p__bl_ck__i__', 'p__bl_ck__i__', 'p__bl_ck__i__', 'p__bl_ck__in_', 'p__bl_ck__in_', 'p__bl_ck__in_', 'p__bl_ck__in_', 'p__bl_cka_in_', 'p__bl_cka_in_', '', '', '', '', '', '', '', '', '', '', '', ''], ['______________', '____n_________', '____n_________', '__s_n_______s_', '__s_n_______s_', '__s_n_____t_s_', '__s_n_____tos_', '__s_n_____tos_', '__s_n_____tos_', '__s_n_____tos_', '__s_n_____tos_', '', '', '', '', '', '', '', '', '', ''], ['______i_', '_____oi_', '_____oi_', '_____oi_', 'p____oi_', 'p_y__oi_', 'p_y__oi_', 'p_y__oi_', 'p_y__oi_', 'p_y__oi_', '', '', '', '', '', '', '', '', '', '', ''], ['__________', '___c______', '_r_c______', '_r_c_n__n_', 'pr_c_n__n_', 'pr_c_nt_nt', 'pr_c_nt_nt', 'pr_cont_nt', 'precontent', '', '', '', '', '', '', '', '', '', '', '', ''], ['__d_______', '__d_______', '__d_______', '__d_______', '__d_______', '__d____i__', '__d____i__', '__d____i__', '', '', '', '', '', '', '', '', '', '', '', '', ''], ['unpros_riptively', 'unpros_riptively', 'unpros_riptively', 'unproscriptively', '', '', '', '', '', '', '', '', '', '', '', '', '', '', '', '', ''], ['__________', '__________', '__________', '_r______r_', '_r______r_', '_r______r_', '_r______rt', '_r______rt', '_r______rt', '', '', '', '', '', '', '', '', '', '', '', ''], ['________', '________', '____s___', '____s___', '____s___', 'b___s___', 'b___s___', 'b___s___', 'b___s___', '', '', '', '', '', '', '', '', '', '', '', ''], ['______', '______', '______', '______', 'a_____', 'a_____', 'a_____', 'a_____', '', '', '', '', '', '', '', '', '', '', '', '', ''], ['_____l__k__c____', '_____l__k__ch___', '___p_l__k__ch___', '___p_l__k__ch___', '___p_ld_k__ch___', '___p_ld_ki_ch___', '___p_ld_ki_ch___', '___p_ld_ki_ch___', '___pold_ki_ch___', '___pold_kirch__r', '___pold_kirch__r', '___pold_kirch__r', 'g__pold_kirch__r', 'gu_pold_kirch__r', 'gu_pold_kirch__r', '', '', '', '', '', ''], ['______t_y', '______t_y', '______t_y', '______t_y', 'u_____t_y', 'u_____t_y', 'u_i___t_y', 'u_i__rt_y', 'u_i_ert_y', 'uninert_y', 'uninert_y', 'uninertly', '', '', '', '', '', '', '', '', ''], ['sulph_sulphur_us', 'sulph_sulphur_us', 'sulphosulphurous', '', '', '', '', '', '', '', '', '', '', '', '', '', '', '', '', '', ''], ['s_mig_om_trically', 'semigeometrically', '', '', '', '', '', '', '', '', '', '', '', '', '', '', '', '', '', '', ''], ['__l_m___z_n_', '__l_m___z_n_', '__l_m___z_n_', '__l_m___z_n_', '__l_m___z_n_', '__l_m___z_n_', '__l_m___z_n_', '', '', '', '', '', '', '', '', '', '', '', '', '', ''], ['psychoneurolo_ical', 'psychoneurological', '', '', '', '', '', '', '', '', '', '', '', '', '', '', '', '', '', '', ''], ['______p___f____', '______p___fn___', '______p___fn___', '______p___fn___', '____s_p___fn_ss', '____s_p___fn_ss', '____s_p___fn_ss', '____s_p___fn_ss', '___as_p___fn_ss', '___as_p___fn_ss', '', '', '', '', '', '', '', '', '', '', ''], ['s_ool', 's_ool', 's_ool', 's_ool', 's_ool', 's_ool', 's_ool', '', '', '', '', '', '', '', '', '', '', '', '', '', ''], ['_i_____y__a______y', '_i_____y__a______y', '_i_____y_ta______y', '_i_____y_ta______y', '_i__o__y_ta__o___y', '_i__o__y_ta__o___y', '_i__o__y_ta__o___y', '_i__o__y_ta__o___y', '_i__o__y_ta__o___y', '', '', '', '', '', '', '', '', '', '', '', ''], ['unparsi_oniously', 'unparsi_oniously', 'unparsimoniously', '', '', '', '', '', '', '', '', '', '', '', '', '', '', '', '', '', ''], ['d____', 'd____', 'd____', 'd____', 'd____', 'd___n', 'd___n', 'd___n', '', '', '', '', '', '', '', '', '', '', '', '', ''], ['_________', '___g____g', '___g____g', '___g____g', '___g____g', '___g____g', '___g____g', '___g____g', '', '', '', '', '', '', '', '', '', '', '', '', ''], ['gyps__e___s', 'gyps_fe___s', 'gyps_fer__s', 'gypsifer__s', 'gypsifer_us', 'gypsiferous', '', '', '', '', '', '', '', '', '', '', '', '', '', '', ''], ['__nn___nn___', '__nn___nn_c_', 'k_nn_k_nn_ck', 'k_nn_k_nn_ck', 'k_nn_k_nn_ck', 'kinnikinnick', '', '', '', '', '', '', '', '', '', '', '', '', '', '', ''], ['eulamellibran_hiate', 'eulamellibran_hiate', 'eulamellibran_hiate', 'eulamellibranchiate', '', '', '', '', '', '', '', '', '', '', '', '', '', '', '', '', ''], ['_rankful', '_rankful', '_rankful', '_rankful', '_rankful', '_rankful', '_rankful', '', '', '', '', '', '', '', '', '', '', '', '', '', ''], ['_____l_', '_____l_', '__i__l_', '_ai__l_', '_ai__l_', '_ai__l_', '_ai__l_', 'fai__l_', 'fai__le', 'faip_le', 'faip_le', 'faip_le', '', '', '', '', '', '', '', '', ''], ['__t__d___c__c______c', '__t__d___ch_c__h___c', '__t__d__ich_c__h__ic', '__t__d__ich_c__h__ic', '_lt__d_lich_c__h_lic', 'ult__d_lich_c__h_lic', 'ult__dolichoc__h_lic', 'ult__dolichoc__h_lic', 'ult__dolichoc__h_lic', 'ult_adolichoc__halic', 'ult_adolichoc_phalic', 'ult_adolichoc_phalic', 'ultradolichoc_phalic', 'ultradolichoc_phalic', 'ultradolichocephalic', '', '', '', '', '', ''], ['b_ll_s_oc_rd_o_r_ph_c', 'b_ll_s_oc_rd_ogr_ph_c', 'b_ll_stoc_rd_ogr_ph_c', 'ball_stocard_ograph_c', 'ballistocardiographic', '', '', '', '', '', '', '', '', '', '', '', '', '', '', '', ''], ['_________________', '______d__________', '______d_m________', '______d_m________', '____t_d_m________', '____t_d_m________', '____thd_m________', '___rthd_m________', '___rthd_m_______l', '_o_rthd_m____o__l', '_ourthd_m____o__l', '_ourthd_m_n__on_l', '_ourthd_m_ns_on_l', 'fourthd_m_ns_on_l', 'fourthd_m_ns_on_l', 'fourthd_m_ns_on_l', 'fourthd_m_ns_on_l', 'fourthd_m_ns_on_l', '', '', ''], ['grapho_cope', 'graphoscope', '', '', '', '', '', '', '', '', '', '', '', '', '', '', '', '', '', '', ''], ['____s____st', '____s____st', '____s____st', '____s____st', '____s____st', '____s____st', '____s____st', '', '', '', '', '', '', '', '', '', '', '', '', '', ''], ['__r_____er___e_er', 'c_r_____er___e_er', 'c_r___t_er___eter', 'c_r___t_er___eter', 'c_r___t_erm_meter', 'c_r___t_erm_meter', 'c_r_n_t_erm_meter', 'chr_n_therm_meter', 'chronothermometer', '', '', '', '', '', '', '', '', '', '', '', ''], ['__r', '__r', '__r', '__r', '__r', '_br', 'abr', '', '', '', '', '', '', '', '', '', '', '', '', '', ''], ['____v_______', '____v_______', '____v_______', '____v_______', '____v_______', '____v_______', '____v_______', '', '', '', '', '', '', '', '', '', '', '', '', '', ''], ['preblock_ding', 'preblock_ding', 'preblock_ding', 'preblock_ding', 'preblock_ding', 'preblock_ding', 'preblock_ding', '', '', '', '', '', '', '', '', '', '', '', '', '', ''], ['v_neless', 'v_neless', 'v_neless', 'v_neless', 'v_neless', 'v_neless', 'v_neless', '', '', '', '', '', '', '', '', '', '', '', '', '', ''], ['b_pod_', 'b_pod_', 'b_pods', 'bipods', '', '', '', '', '', '', '', '', '', '', '', '', '', '', '', '', ''], ['desoxyr_bonucleoprote_n', 'desoxyribonucleoprotein', '', '', '', '', '', '', '', '', '', '', '', '', '', '', '', '', '', '', ''], ['_____c_______', '_____c_______', '__p__c_______', '__p__c____o__', '__p__ct___o__', '__p__ct___o__', '_np_nct___o__', '_np_nct___o_s', '_np_nct___o_s', 'unpunct___ous', 'unpunct_l_ous', 'unpunctilious', '', '', '', '', '', '', '', '', ''], ['v_neless', 'v_neless', 'vineless', '', '', '', '', '', '', '', '', '', '', '', '', '', '', '', '', '', ''], ['hi_toricocabbali_tical', 'historicocabbalistical', '', '', '', '', '', '', '', '', '', '', '', '', '', '', '', '', '', '', ''], ['arsenferrat_se', 'arsenferratose', '', '', '', '', '', '', '', '', '', '', '', '', '', '', '', '', '', '', ''], ['dolomi_izing', 'dolomitizing', '', '', '', '', '', '', '', '', '', '', '', '', '', '', '', '', '', '', ''], ['____v_______', '____v_______', '____v_____l_', '____v_____l_', '____v_____l_', '_rr_v_r___l_', '_rr_v_r__bl_', '_rr_v_r__bl_', '_rr_v_r__bl_', '_rr_v_rt_bl_', 'irr_v_rtibl_', 'irrevertible', '', '', '', '', '', '', '', '', ''], ['__g_ll_g______', '__g_ll_g______', '__g_ll_g__p___', '__g_ll_g__p___', '__g_ll_g_ap___', '__g_ll_g_ap___', '__g_ll_g_ap___', '__g_ll_g_ap___', '__g_ll_g_ap___', '', '', '', '', '', '', '', '', '', '', '', ''], ['fa_ish', 'farish', '', '', '', '', '', '', '', '', '', '', '', '', '', '', '', '', '', '', ''], ['counte_establishment', 'counterestablishment', '', '', '', '', '', '', '', '', '', '', '', '', '', '', '', '', '', '', ''], ['_______e', '_______e', '_______e', '__s____e', 'u_su___e', 'u_su__ne', 'u_sul_ne', 'u_suline', 'ursuline', '', '', '', '', '', '', '', '', '', '', '', ''], ['_________', '____i____', '____i___s', '____i___s', '____i___s', '____i___s', '_e__i__es', '_e__i__es', '_e__i_res', '_e__i_res', '_e__i_res', '', '', '', '', '', '', '', '', '', ''], ['__a_____', '__a_____', '__a_____', '__a_____', '__a_____', '__a_____', '__a_k___', '__a_k___', '', '', '', '', '', '', '', '', '', '', '', '', ''], ['nonf_ctitiousness', 'nonf_ctitiousness', 'nonf_ctitiousness', 'nonf_ctitiousness', 'nonfactitiousness', '', '', '', '', '', '', '', '', '', '', '', '', '', '', '', ''], ['_our_h__mens_onal', '_our_h__mens_onal', '_our_h__mens_onal', 'four_h__mens_onal', 'four_hd_mens_onal', 'four_hd_mens_onal', 'four_hd_mens_onal', 'four_hdimensional', 'four_hdimensional', 'fourthdimensional', '', '', '', '', '', '', '', '', '', '', ''], ['______r__', '______r__', '______r__', '______r__', '_e___er__', '_em__er__', '_em__er__', '_em__era_', '_em__era_', '_em__era_', '', '', '', '', '', '', '', '', '', '', ''], ['infinit_infinitesimal', 'infinitoinfinitesimal', '', '', '', '', '', '', '', '', '', '', '', '', '', '', '', '', '', '', ''], ['____p_________', '____p_r_______', '___ip_r__i_i__', '__mip_r__i_i_m', 'h_mip_r__i_i_m', 'hemip_r__i_i_m', 'hemipara_i_i_m', 'hemipara_i_i_m', 'hemipara_iti_m', 'hemipara_iti_m', 'hemiparasitism', '', '', '', '', '', '', '', '', '', ''], ['s_____s', 's_____s', 's_____s', 's_o___s', 's_o_e_s', 'sno_e_s', 'snorers', '', '', '', '', '', '', '', '', '', '', '', '', '', ''], ['d_ntat__r_nat_', 'd_ntat_cr_nat_', 'dentatecrenate', '', '', '', '', '', '', '', '', '', '', '', '', '', '', '', '', '', ''], ['___________', '___________', '___________', '___________', '___________', '_____r_____', '_____r_____', '_____r_____', '', '', '', '', '', '', '', '', '', '', '', '', ''], ['__l_m___z_n_', '__l_m___z_ng', '__l_m___z_ng', '_olom___z_ng', 'dolom___z_ng', 'dolom_t_z_ng', 'dolom_t_z_ng', 'dolomitizing', '', '', '', '', '', '', '', '', '', '', '', '', ''], ['________________', '______y_________', '______y_________', '______y_________', '______y_________', '______y_________', '__a___y_________', '__a___y_________', '__a___y_______n_', '__a___y_______n_', '', '', '', '', '', '', '', '', '', '', ''], ['_e__essee__', '_e__essee__', '_e__essee__', '_e__essee__', '_e__esseea_', '_e__esseea_', '_ennesseean', '_ennesseean', '_ennesseean', '', '', '', '', '', '', '', '', '', '', '', ''], ['____h_____________', '_s__h_____________', '_s__h________g____', '_s__h________g__a_', '_s__h____r___g__a_', '_s__h___ur___g__a_', '_s__h___ur___g__a_', '_s__h___ur___g__a_', 'ps__h___ur___g__a_', 'ps__h___ur___gi_a_', 'ps__h___ur___gi_a_', 'ps__ho__uro_ogi_a_', 'ps__ho__urologi_al', 'ps__ho__urologi_al', 'ps__ho_eurologi_al', 'ps__ho_eurologi_al', 'ps__ho_eurologi_al', '', '', '', ''], ['___c_____t_', '___c____sts', '___c____sts', '___c____sts', '___c____sts', '_i_c___ists', '_i_c___ists', '_i_c___ists', '_i_c__mists', '_i_c__mists', '', '', '', '', '', '', '', '', '', '', ''], ['u_trado__c_ocep_a__c', 'ultradol_c_ocep_al_c', 'ultradol_chocephal_c', 'ultradolichocephalic', '', '', '', '', '', '', '', '', '', '', '', '', '', '', '', '', ''], ['____h__', '____h__', '____h__', '____h__', '__y_h__', '__y_h__', '_ny_h__', 'ony_h__', 'onych__', 'onych_a', 'onych_a', 'onychia', '', '', '', '', '', '', '', '', ''], ['____m___', '____m_n_', '____m_n_', '____m_n_', '____m_n_', '____m_n_', '____m_n_', '____m_n_', '', '', '', '', '', '', '', '', '', '', '', '', ''], ['un___r_puta___', 'un___r_puta___', 'un___r_puta___', 'un___r_puta___', 'un___r_puta___', 'un___r_puta___', 'un___r_puta___', '', '', '', '', '', '', '', '', '', '', '', '', '', ''], ['represe__a__o_al_s_', 'represe__a__o_al_s_', 'represe__a__o_al_s_', 'represe__a__o_al_s_', 'represe_tat_o_al_st', 'representat_onal_st', 'representat_onal_st', 'representat_onal_st', 'representat_onal_st', '', '', '', '', '', '', '', '', '', '', '', ''], ['a_ta', 'a_ta', 'a_ta', 'a_ta', 'a_ta', 'a_ta', 'alta', '', '', '', '', '', '', '', '', '', '', '', '', '', ''], ['_u____________', '_u____________', '_u____________', '_u____________', '_u________t___', '_u_l____l_t___', '_u_l____l_t___', '_u_l____l_t___', '_u_l____lat___', '_u_l____lat___', '', '', '', '', '', '', '', '', '', '', ''], ['i________i______', 'i______c_i______', 'i__u___c_i______', 'i__u___c_i______', 'i__u___c_i______', 'i__u___c_i______', 'i__u___c_i______', 'i__u___c_i______', 'i__u___c_i______', '', '', '', '', '', '', '', '', '', '', '', ''], ['d_cciar_s', 'd_cciar_s', 'decciares', '', '', '', '', '', '', '', '', '', '', '', '', '', '', '', '', '', ''], ['a_a_a', 'alala', '', '', '', '', '', '', '', '', '', '', '', '', '', '', '', '', '', '', ''], ['_laab', '_laab', '_laab', '_laab', 'glaab', '', '', '', '', '', '', '', '', '', '', '', '', '', '', '', ''], ['v______ssn_ss', 'v______ssn_ss', 'v______ssn_ss', 'v_w____ssn_ss', 'v_w_ll_ssn_ss', 'v_w_ll_ssn_ss', 'v_wellessness', 'v_wellessness', 'v_wellessness', 'vowellessness', '', '', '', '', '', '', '', '', '', '', ''], ['_iw_', 'biw_', 'biwa', '', '', '', '', '', '', '', '', '', '', '', '', '', '', '', '', '', ''], ['_ntic_t_l_tic_ll_', '_ntic_t_lytic_lly', 'anticatalytically', '', '', '', '', '', '', '', '', '', '', '', '', '', '', '', '', '', ''], ['________', '______e_', '__i__ie_', '__i__ier', '_hi__ier', '_hinnier', '_hinnier', '_hinnier', 'whinnier', '', '', '', '', '', '', '', '', '', '', '', ''], ['_______e__e______e__', '_______e__e______e__', '_______e__e______e__', '_______e__e______e__', '_______e__e______e__', '_______e__e______e__', '_______es_e______ess', '_______es_e______ess', '', '', '', '', '', '', '', '', '', '', '', '', ''], ['_______________', '_______________', '______p________', '__e__ep_____e__', '__e__ep___f_e__', '__e__ep___fne__', '__e_sep___fness', 'g_e_sep___fness', 'gre_sepr__fness', 'gre_sepr__fness', 'greasepr__fness', 'greasepr__fness', 'greaseproofness', '', '', '', '', '', '', '', ''], ['d____', 'd____', 'd____', 'd__g_', 'd__g_', 'd_ig_', 'd_ign', 'd_ign', 'deign', '', '', '', '', '', '', '', '', '', '', '', ''], ['d________', 'de____e__', 'de____e__', 'de__c_e__', 'de__c_e__', 'de__c_er_', 'de__c_ers', 'de__c_ers', 'det_c_ers', 'det_chers', 'detachers', '', '', '', '', '', '', '', '', '', ''], ['__m_syc_ist', '_am_syc_ist', '_am_syc_ist', 'pampsyc_ist', 'pampsyc_ist', 'pampsychist', '', '', '', '', '', '', '', '', '', '', '', '', '', '', ''], ['_ennesseean', '_ennesseean', 'tennesseean', '', '', '', '', '', '', '', '', '', '', '', '', '', '', '', '', '', ''], ['__m_g_om_________', '__m_g_om_________', '__m_g_om_____a___', '__m_g_om_____a___', '__m_g_om_____a___', '__m_g_om_____a___', '__m_g_om_____a___', '__m_g_om_____a___', '', '', '', '', '', '', '', '', '', '', '', '', ''], ['hypot_achelium', 'hypotrachelium', '', '', '', '', '', '', '', '', '', '', '', '', '', '', '', '', '', '', ''], ['__m_syc_ist', '__m_syc_ist', '__m_syc_ist', '__m_syc_ist', '__m_syc_ist', '__m_syc_ist', '__m_syc_ist', '', '', '', '', '', '', '', '', '', '', '', '', '', ''], ['__p___a____i__', '__p___a____i__', '__p___a____i__', '__p___a____i__', '__p___a____i__', '__p___a____i__', '__p___a____i__', '', '', '', '', '', '', '', '', '', '', '', '', '', ''], ['_______________', '_______________', '_____a_________', '_____a___v_____', '_____a___v_____', '__p__a___v_____', '__p_ra___v_____', '__p_ra___v_____', '_yp_ra___v_____', 'hyp_ra___v_____', 'hyp_ra___v_____', 'hyp_ra___v____s', 'hyp_ra___v____s', 'hyp_ra_t_v_t__s', 'hyp_ra_t_v_t__s', '', '', '', '', '', ''], ['u_suline', 'u_suline', 'ursuline', '', '', '', '', '', '', '', '', '', '', '', '', '', '', '', '', '', ''], ['_og_ought', 'dog_ought', 'dog_ought', 'dogfought', '', '', '', '', '', '', '', '', '', '', '', '', '', '', '', '', ''], ['p_____', 'p_____', 'p_____', 'po__o_', 'po__o_', 'po__o_', 'po__o_', 'powwow', '', '', '', '', '', '', '', '', '', '', '', '', ''], ['___', '___', '___', '___', '___', '_b_', '_b_', '_b_', '', '', '', '', '', '', '', '', '', '', '', '', ''], ['c_____', 'c_____', 'c_____', 'c_____', 'c___r_', 'c___r_', 'c___r_', 'c___r_', '', '', '', '', '', '', '', '', '', '', '', '', ''], ['jetprope__ed', 'jetprope__ed', 'jetprope__ed', 'jetprope__ed', 'jetpropelled', '', '', '', '', '', '', '', '', '', '', '', '', '', '', '', ''], ['m__t_r__t_rm_', 'm__t_r__t_rm_', 'm_st_rs_t_rms', 'm_st_rs_t_rms', 'm_st_rs_t_rms', 'mast_rsatarms', 'mastersatarms', '', '', '', '', '', '', '', '', '', '', '', '', '', ''], ['___p_________h_p', '__bp_________h_p', '__bpr______r_h_p', '__bpr______r_h_p', '_ubpr______r_h_p', 'subpr___ss_rsh_p', 'subpr__ess_rsh_p', 'subpr__ess_rship', 'subpro_essorship', 'subprofessorship', '', '', '', '', '', '', '', '', '', '', ''], ['uns_p_rifer_usness', 'uns_p_rifer_usness', 'unsoporiferousness', '', '', '', '', '', '', '', '', '', '', '', '', '', '', '', '', '', ''], ['___________', 'g__________', 'g__________', 'g___h______', 'gr__h______', 'gr__h______', 'gr__h_____e', 'gra_h_____e', 'gra_h_____e', 'graph____pe', 'graph____pe', 'graph____pe', 'graph_s__pe', 'graphos_ope', 'graphoscope', '', '', '', '', '', ''], ['_ary___ct__iz__', '_ary___ct__iz__', '_ary___ct__iz__', '_ary___ct__iz__', '_ary___ct__iz_d', '_ary___ct__iz_d', '_ary___ct__iz_d', '_ary___ct__iz_d', '', '', '', '', '', '', '', '', '', '', '', '', ''], ['u_____tly', 'u_____tly', 'u_____tly', 'u_____tly', 'u_____tly', 'u_____tly', 'u_____tly', '', '', '', '', '', '', '', '', '', '', '', '', '', ''], ['h_peracti_itie_', 'h_peracti_itie_', 'h_peractivitie_', 'h_peractivitie_', 'h_peractivities', 'h_peractivities', 'hyperactivities', '', '', '', '', '', '', '', '', '', '', '', '', '', ''], ['os_erville', 'osterville', '', '', '', '', '', '', '', '', '', '', '', '', '', '', '', '', '', '', ''], ['unpros_riptively', 'unproscriptively', '', '', '', '', '', '', '', '', '', '', '', '', '', '', '', '', '', '', ''], ['__________', '__r_____r_', '__r_____r_', '__r_____r_', '__r_____r_', '__r_____r_', '__r_____r_', '__r_e__er_', '__r_en_er_', '__r_en_er_', '', '', '', '', '', '', '', '', '', '', ''], ['ch_lecyst_jejun_st_my', 'cholecystojejunostomy', '', '', '', '', '', '', '', '', '', '', '', '', '', '', '', '', '', '', ''], ['___e____e_e__', '_n_e___nene__', 'in_e__inene__', 'inte_tinene__', 'intestineness', '', '', '', '', '', '', '', '', '', '', '', '', '', '', '', ''], ['a_a_a', 'a_a_a', 'alala', '', '', '', '', '', '', '', '', '', '', '', '', '', '', '', '', '', ''], ['_________________', '_____d___________', '__p__d___________', '__pe_d___________', '__pe_d____l___ll_', '__pe_d____l___ll_', '_upe_d____l___ll_', '_uperd____l___ll_', '_uperd___ol___ll_', '_uperd___ol___ll_', '_uperd___ol___ll_', '_uperdi__oli__ll_', '_uperdi__oli__ll_', '_uperdi__oli__ll_', '_uperdi__oli__lly', 'superdi__oli__lly', 'superdia_oli_ally', 'superdia_oli_ally', '', '', ''], ['asyndet_ns', 'asyndet_ns', 'asyndet_ns', 'asyndet_ns', 'asyndet_ns', 'asyndet_ns', 'asyndet_ns', '', '', '', '', '', '', '', '', '', '', '', '', '', ''], ['__', 'cc', '', '', '', '', '', '', '', '', '', '', '', '', '', '', '', '', '', '', ''], ['____h______', '____h______', '___ph____p_', '___ph____pe', '__aph____pe', '__aph____pe', '__aph____pe', '__aph____pe', '__aph____pe', '__aph____pe', '', '', '', '', '', '', '', '', '', '', ''], ['__zz_n__n', 'm_zz_n__n', 'mazz_n_an', 'mazzinian', '', '', '', '', '', '', '', '', '', '', '', '', '', '', '', '', ''], ['_r____ar___', '_r____ar___', '_r_m__ar___', '_rom__ar___', 'drom_dar___', 'drom_dar___', 'drom_dari__', 'dromedarie_', 'dromedaries', '', '', '', '', '', '', '', '', '', '', '', ''], ['__t_ado__c_oc_p_a__c', '__t_ado__c_oc_p_a__c', '__t_ado__c_oc_p_a__c', '__t_ado__c_oc_p_a__c', '__t_ado__c_oc_p_a__c', '__trado__c_oc_p_a__c', '__trado__c_oc_p_a__c', '__trado__c_oc_p_a__c', '', '', '', '', '', '', '', '', '', '', '', '', ''], ['____o____', '____o_s__', '____o_s__', '____o_s__', '____o_s__', '____o_s__', '____o_s__', '____ous__', '____ous__', '', '', '', '', '', '', '', '', '', '', '', ''], ['a_a_a', 'alala', '', '', '', '', '', '', '', '', '', '', '', '', '', '', '', '', '', '', ''], ['os_erv_lle', 'os_erville', 'os_erville', 'os_erville', 'osterville', '', '', '', '', '', '', '', '', '', '', '', '', '', '', '', ''], ['in_ini__in_ini_esim__', 'in_ini__in_ini_esim__', 'in_init_in_initesim__', 'in_init_in_initesim__', 'in_init_in_initesima_', 'in_init_in_initesimal', 'in_init_in_initesimal', 'in_init_in_initesimal', 'in_initoin_initesimal', 'in_initoin_initesimal', 'in_initoin_initesimal', '', '', '', '', '', '', '', '', '', ''], ['c_unterattestati_n', 'c_unterattestati_n', 'counterattestation', '', '', '', '', '', '', '', '', '', '', '', '', '', '', '', '', '', ''], ['________________m___', '______r_________m___', '______r_________m___', '____t_r__t______m__t', '____t_r__t______m__t', '__u_t_r__t______m__t', '__u_t_r__t______m__t', '__u_t_r__t______m__t', '_ou_t_r__t______m__t', '_ou_t_r__t_____hm__t', '_ou_t_r__t_____hm__t', '_ou_t_r__t_____hm__t', '', '', '', '', '', '', '', '', ''], ['____', '____', '____', '____', '____', '____', '____', '', '', '', '', '', '', '', '', '', '', '', '', '', ''], ['counte_establishment', 'counte_establishment', 'counterestablishment', '', '', '', '', '', '', '', '', '', '', '', '', '', '', '', '', '', ''], ['_____________', '_n_____n_n___', '_n_____n_n___', 'in____in_n___', 'in_e__inene__', 'inte_tinene__', 'inte_tinene__', 'inte_tinene__', 'inte_tinene__', 'intestineness', '', '', '', '', '', '', '', '', '', '', ''], ['sp_iss_s', 'speisses', '', '', '', '', '', '', '', '', '', '', '', '', '', '', '', '', '', '', ''], ['hi__oricoca__ali__ical', 'hi__oricocabbali__ical', 'his_oricocabbalis_ical', 'historicocabbalistical', '', '', '', '', '', '', '', '', '', '', '', '', '', '', '', '', ''], ['_______________es____', '_______________es____', '_______________es____', '_______________es_m__', '_______________es_m__', 'i__i_i__i__i_i_esim__', 'i__i_i_oi__i_i_esim__', 'i__i_i_oi__i_i_esima_', 'i__i_i_oi__i_i_esimal', 'i__i_i_oi__i_i_esimal', 'i__i_i_oi__i_i_esimal', 'in_ini_oin_ini_esimal', 'infini_oinfini_esimal', 'infinitoinfinitesimal', '', '', '', '', '', '', ''], ['__r___r', '__r__er', '__r__er', '__r__er', '__r__er', '__r__er', '__r__er', 'h_r_her', 'h_rsher', 'harsher', '', '', '', '', '', '', '', '', '', '', ''], ['detacher_', 'detacher_', 'detacher_', 'detacher_', 'detachers', '', '', '', '', '', '', '', '', '', '', '', '', '', '', '', ''], ['_____________', '_____________', '_____________', '_______ss__ss', '__w____ss__ss', '__w____ssn_ss', '__we__essness', '__we__essness', '__wellessness', 'v_wellessness', 'vowellessness', '', '', '', '', '', '', '', '', '', ''], ['__r_n___erm_me_er', '__r_n___erm_me_er', '__r_n_t_erm_meter', '__r_n_t_erm_meter', '__r_n_t_erm_meter', '__ronot_ermometer', 'c_ronot_ermometer', 'chronothermometer', '', '', '', '', '', '', '', '', '', '', '', '', ''], ['_______r', '______er', '___nn_er', '___nn_er', '_h_nn_er', 'wh_nn_er', 'whinnier', '', '', '', '', '', '', '', '', '', '', '', '', '', ''], ['_______s', '__b____s', 'l_b____s', 'l_b__t_s', 'l_b__tes', 'l_b_ates', 'lib_ates', 'lib_ates', 'librates', '', '', '', '', '', '', '', '', '', '', '', ''], ['_', '_', '_', 'i', '', '', '', '', '', '', '', '', '', '', '', '', '', '', '', '', ''], ['rig_ties', 'rig_ties', 'righties', '', '', '', '', '', '', '', '', '', '', '', '', '', '', '', '', '', ''], ['__', 'cc', '', '', '', '', '', '', '', '', '', '', '', '', '', '', '', '', '', '', ''], ['___e____e_e__', '___e____e_e__', '___e____e_e__', '___e____e_e__', '___e____e_e__', '___e____e_e__', '__te_t__e_e__', '__te_t__e_e__', '', '', '', '', '', '', '', '', '', '', '', '', ''], ['he_iparasitis_', 'hemiparasitism', '', '', '', '', '', '', '', '', '', '', '', '', '', '', '', '', '', '', ''], ['__d_etti__', '__d_ettin_', '__d_etting', 'w_d_etting', 'wad_etting', 'wadsetting', '', '', '', '', '', '', '', '', '', '', '', '', '', '', ''], ['s_ool', 'stool', '', '', '', '', '', '', '', '', '', '', '', '', '', '', '', '', '', '', ''], ['detacher_', 'detachers', '', '', '', '', '', '', '', '', '', '', '', '', '', '', '', '', '', '', ''], ['phyll_i_', 'phyll_i_', 'phylloi_', 'phylloid', '', '', '', '', '', '', '', '', '', '', '', '', '', '', '', '', ''], ['_________________', '_________________', '____s____________', '___is_______i_i__', '___is_______ili__', '___is_o_____ili__', '___isco_____ili__', '__disco_____ili__', '__discov____ili__', '_ndiscov____ili__', '_ndiscov____ili__', '_ndiscov__a_ili__', '_ndiscov__abili__', '_ndiscove_abili__', 'undiscove_abili__', 'undiscove_abili_y', 'undiscoverabili_y', 'undiscoverability', '', '', ''], ['a_a_a', 'a_a_a', 'a_a_a', 'a_a_a', 'alala', '', '', '', '', '', '', '', '', '', '', '', '', '', '', '', ''], ['____________h_______h____', '____________h_______h____', '___________ph______ph____', '___________ph______ph____', '_l_________ph_l____ph___l', 'ele____e__eph_l____ph___l', 'ele____e__eph_l____ph___l', 'ele____e__eph_l____ph___l', 'ele____e__ephal___aph__al', 'ele____e__ephal___aph__al', 'ele____e__ephal___aphi_al', 'ele____e__ephal___aphi_al', '', '', '', '', '', '', '', '', ''], ['_e__e_e_____o______', '_e__e_e_____o______', '_e__e_e__a__o_a____', '_e__e_e__a__o_a____', '_e__e_en_a__ona____', '_e__e_en_a__ona____', '_e__e_en_a__ona____', '_e__e_en_a__onal___', '_e__e_en_a_ionali__', '_e__esen_a_ionalis_', '_e__esen_a_ionalis_', '_e__esen_a_ionalis_', '', '', '', '', '', '', '', '', ''], ['tic_etma_ing', 'ticketmaking', '', '', '', '', '', '', '', '', '', '', '', '', '', '', '', '', '', '', ''], ['antiecclesiasticall_', 'antiecclesiasticall_', 'antiecclesiastically', '', '', '', '', '', '', '', '', '', '', '', '', '', '', '', '', '', ''], ['_n__a_t___sn_ss', '_n__a_t___sn_ss', '_n__a_t___sn_ss', '_n_ea_te__sness', '_n_ea_te__sness', '_n_ea_teo_sness', '_n_ea_teo_sness', '_n_ea_teo_sness', '_n_ea_teo_sness', '', '', '', '', '', '', '', '', '', '', '', ''], ['__________', '__r__r____', '__r__r_p__', '__r__r_p__', '__r__r_p__', '__r__r_p__', '__r__r_ph_', '__r__r_ph_', '__r__r_ph_', '__r__r_ph_', '', '', '', '', '', '', '', '', '', '', ''], ['inc_nsistencies', 'inc_nsistencies', 'inc_nsistencies', 'inc_nsistencies', 'inconsistencies', '', '', '', '', '', '', '', '', '', '', '', '', '', '', '', ''], ['t_icksprung', 'thicksprung', '', '', '', '', '', '', '', '', '', '', '', '', '', '', '', '', '', '', ''], ['_ropsywor_', '_ropsywort', '_ropsywort', 'dropsywort', '', '', '', '', '', '', '', '', '', '', '', '', '', '', '', '', ''], ['bl__t_rch', 'bl__t_rch', 'bl__t_rch', 'bl__t_rch', 'bl__t_rch', 'bl__t_rch', 'bl_wt_rch', 'blowtorch', '', '', '', '', '', '', '', '', '', '', '', '', ''], ['_a_____', '_a_____', '_a_p___', '_a_p___', 'ga_p__g', 'ga_p__g', 'ga_p_ng', 'gawp_ng', 'gawp_ng', 'gawping', '', '', '', '', '', '', '', '', '', '', ''], ['_ldrid', 'eldrid', '', '', '', '', '', '', '', '', '', '', '', '', '', '', '', '', '', '', ''], ['represe_tatio_alist', 'represe_tatio_alist', 'represe_tatio_alist', 'represe_tatio_alist', 'represe_tatio_alist', 'represe_tatio_alist', 'represe_tatio_alist', '', '', '', '', '', '', '', '', '', '', '', '', '', ''], ['sl__v_l_ssn_ss', 'sl__v_l_ssn_ss', 'sl__v_l_ssn_ss', 'sl__v_l_ssn_ss', 'sl__v_l_ssn_ss', 'sl__v_l_ssn_ss', 'sl__v_l_ssn_ss', '', '', '', '', '', '', '', '', '', '', '', '', '', ''], ['______o__r______y', '______o__r______y', '______o__r______y', '______o_er______y', '______o_er______y', '______o_er______y', '______o_er______y', '______o_er______y', '', '', '', '', '', '', '', '', '', '', '', '', ''], ['________c__c_', '________c__c_', '__p_____c__c_', 'i_p_____c__c_', 'i_p____sc__c_', 'i_p____sc__c_', 'i_p___esce_ce', 'i_p_t_esce_ce', 'i_p_tresce_ce', 'i_putresce_ce', 'imputresce_ce', 'imputrescence', '', '', '', '', '', '', '', '', ''], ['_n_ca___d', '_n_ca__ed', '_n_ca__ed', 'un_ca__ed', 'unsca__ed', 'unscabbed', '', '', '', '', '', '', '', '', '', '', '', '', '', '', ''], ['___________', '___________', '___________', '___________', '_e__e__ee__', '_e__e__ee__', '_e__e__ee__', '_e__e__ee__', '', '', '', '', '', '', '', '', '', '', '', '', ''], ['fe_e_fe_', 'fe_e_few', 'fe_e_few', 'fe_e_few', 'feve_few', 'feve_few', 'feve_few', 'feve_few', 'feve_few', '', '', '', '', '', '', '', '', '', '', '', ''], ['______e___', '______e___', '_d____e___', '_d____e___', '_d____e___', '_d____e___', 'ad_a__e___', 'adia__e_i_', 'adiat_eti_', 'adiatheti_', 'adiatheti_', 'adiatheti_', '', '', '', '', '', '', '', '', ''], ['k___s____', 'k___s____', 'k___s____', 'k_i_s____', 'k_i_s____', 'k_i_s____', 'k_i_s____', 'k_i_s____', '', '', '', '', '', '', '', '', '', '', '', '', ''], ['_____________________', '_____________________', '_____________________', '_____________________', '_____________________', '_____________________', '_______m_____________', '_______m_____________', '', '', '', '', '', '', '', '', '', '', '', '', ''], ['e_p__ga___ns', 'exp__ga___ns', 'expu_ga___ns', 'expu_gat__ns', 'expu_gati_ns', 'expu_gations', 'expurgations', '', '', '', '', '', '', '', '', '', '', '', '', '', ''], ['seedless_ess', 'seedless_ess', 'seedless_ess', 'seedless_ess', 'seedless_ess', 'seedless_ess', 'seedless_ess', '', '', '', '', '', '', '', '', '', '', '', '', '', ''], ['subpro_essorship', 'subpro_essorship', 'subpro_essorship', 'subpro_essorship', 'subpro_essorship', 'subpro_essorship', 'subpro_essorship', '', '', '', '', '', '', '', '', '', '', '', '', '', ''], ['he_ip____i_i__', 'he_ip____iti__', 'he_ip____iti__', 'he_ip_r__iti__', 'he_ip_r__iti__', 'he_ip_r__iti__', 'he_ip_r__iti__', 'hemip_r__iti_m', 'hemipara_iti_m', 'hemiparasitism', '', '', '', '', '', '', '', '', '', '', ''], ['________________________', '__________________l_____', '___u______________l_____', '___u______________l_____', '___u__i_______i___li__i_', '___u__i_____a_i__ali__i_', '___u__i_____a_i__ali__i_', '___u__i_____a_i__ali__i_', '___u__i_____a_i__ali__i_', '___u__i_____a_i__ali__i_', '___ud_i_____a_i__ali__i_', '___udoi_____a_io_ali__i_', '___udoi_____a_io_ali__i_', '', '', '', '', '', '', '', ''], ['fa_i__', 'fari__', 'faris_', 'faris_', 'farish', '', '', '', '', '', '', '', '', '', '', '', '', '', '', '', ''], ['__r', '__r', '__r', '__r', 'a_r', 'a_r', 'a_r', 'a_r', '', '', '', '', '', '', '', '', '', '', '', '', ''], ['____________________', '____________________', '____________________', '____________________', '____________________', '____________________', '____________________', '', '', '', '', '', '', '', '', '', '', '', '', '', ''], ['foll__roof', 'foll__roof', 'foll__roof', 'foll__roof', 'foll__roof', 'foll__roof', 'foll__roof', '', '', '', '', '', '', '', '', '', '', '', '', '', ''], ['________________', '____c___________', '____c__o________', '____c__o________', '____c__o________', '____c__o________', '___ec__o___e_e__', '___ec__o___e_e__', '___ec__o___e_e__', '___ec__o___e_ess', 'a__ec__o_a_e_ess', 'a__ec__o_a_e_ess', '', '', '', '', '', '', '', '', ''], ['b__c__m__t_', 'b__c__m__t_', 'b__c__m__t_', 'b__c__m_sts', 'b__c__m_sts', 'b__c_em_sts', 'b__c_em_sts', 'bi_c_emists', 'bioc_emists', 'bioc_emists', 'biochemists', '', '', '', '', '', '', '', '', '', ''], ['o_teo_uture', 'osteosuture', '', '', '', '', '', '', '', '', '', '', '', '', '', '', '', '', '', '', ''], ['n__________', 'n___i__i___', 'n___i__i___', 'n___i__i___', 'n___i__i___', 'n___issis_s', 'n___issis_s', 'n___issis_s', 'n___issis_s', '', '', '', '', '', '', '', '', '', '', '', ''], ['balmb__athi_g', 'balmb__athing', 'balmb__athing', 'balmb__athing', 'balmb_eathing', 'balmb_eathing', 'balmbreathing', '', '', '', '', '', '', '', '', '', '', '', '', '', ''], ['n_llan_lla', 'nullanulla', '', '', '', '', '', '', '', '', '', '', '', '', '', '', '', '', '', '', ''], ['_o__o____', '_o__o____', '_o__ou___', '_o__ou___', '_og_oug__', '_og_oug__', '_og_oug__', 'dog_oug__', 'dogfoug__', 'dogfough_', 'dogfought', '', '', '', '', '', '', '', '', '', ''], ['__d_etti__', '__d_etti_g', '__d_etting', '__d_etting', '__d_etting', '_ad_etting', '_ad_etting', '_ad_etting', '_adsetting', 'wadsetting', '', '', '', '', '', '', '', '', '', '', ''], ['_laab', 'glaab', '', '', '', '', '', '', '', '', '', '', '', '', '', '', '', '', '', '', ''], ['____m___', '____m___', '____m___', '____m___', 'a___m___', 'a___me__', 'a___me__', 'a___me__', 'a___me__', '', '', '', '', '', '', '', '', '', '', '', ''], ['__________', '_______n__', '_______n__', '_u_____n__', '_u_____n__', '_u_____n__', 'bu_____n__', 'buc____n__', 'buc___in__', 'buc___in__', 'buco__in__', 'buco__in__', 'buco__in__', '', '', '', '', '', '', '', ''], ['_________a_e', '___m_____a_e', '___m_____a_e', '___m_____a_e', '___m_____a_e', '___m_____a_e', '___m_____a_e', '___m_____a_e', '', '', '', '', '', '', '', '', '', '', '', '', ''], ['____sy__ist', '____syc_ist', '____sychist', '_a__sychist', '_a__sychist', 'pa_psychist', 'pa_psychist', 'pa_psychist', 'pampsychist', '', '', '', '', '', '', '', '', '', '', '', ''], ['eulamellibran_hiate', 'eulamellibran_hiate', 'eulamellibranchiate', '', '', '', '', '', '', '', '', '', '', '', '', '', '', '', '', '', ''], ['______es', '______es', '______es', '______es', '______es', '______es', '______es', '', '', '', '', '', '', '', '', '', '', '', '', '', ''], ['_issyll_bific_tio_', '_issyllabificatio_', '_issyllabification', '_issyllabification', '_issyllabification', '_issyllabification', '_issyllabification', '_issyllabification', '_issyllabification', '', '', '', '', '', '', '', '', '', '', '', ''], ['_____l_', '_____l_', '_____l_', '_____l_', '__i__l_', '__i__l_', '__ip_l_', '__ip_l_', '__ip_l_', '', '', '', '', '', '', '', '', '', '', '', ''], ['_iac_ty_morp_in_', '_iac_ty_morp_in_', '_iac_tylmorp_in_', '_iac_tylmorp_in_', '_iac_tylmorphin_', '_iacetylmorphine', 'diacetylmorphine', '', '', '', '', '', '', '', '', '', '', '', '', '', ''], ['hy_erridiculousness', 'hyperridiculousness', '', '', '', '', '', '', '', '', '', '', '', '', '', '', '', '', '', '', ''], ['_________orp____', '________morp____', '______y_morp____', '______y_morp__n_', '______ylmorp__n_', '______ylmorph_n_', '_____tylmorph_n_', '____etylmorph_ne', '____etylmorph_ne', 'd___etylmorph_ne', 'd_a_etylmorph_ne', 'd_a_etylmorph_ne', 'dia_etylmorphine', 'dia_etylmorphine', 'diacetylmorphine', '', '', '', '', '', ''], ['prorhipi_o_losso_orpha', 'prorhipi_oglosso_orpha', 'prorhipi_oglossomorpha', 'prorhipi_oglossomorpha', 'prorhipidoglossomorpha', '', '', '', '', '', '', '', '', '', '', '', '', '', '', '', ''], ['________r_____', '________r_____', '________r_____', '________r_____', '________r_____', '________r_____', '___t_t__r___t_', '___t_t__r___t_', '', '', '', '', '', '', '', '', '', '', '', '', ''], ['d________', 'de____e__', 'de_a__e__', 'de_a__e__', 'de_a__e_s', 'deta__e_s', 'detac_e_s', 'detac_e_s', 'detache_s', 'detachers', '', '', '', '', '', '', '', '', '', '', ''], ['_rankful', 'prankful', '', '', '', '', '', '', '', '', '', '', '', '', '', '', '', '', '', '', ''], ['____r__', 'm___r__', 'm__uru_', 'm_luru_', 'm_luru_', 'maluru_', 'malurus', '', '', '', '', '', '', '', '', '', '', '', '', '', ''], ['_____________________', '_____________________', '____________________l', '___________________al', '___________________al', '___________________al', '_______o___________al', '__f____o__f________al', 'i_fi_i_oi_fi_i___i_al', 'i_fi_i_oi_fi_i___i_al', 'infini_oinfini___i_al', 'infini_oinfini_e_i_al', 'infini_oinfini_e_imal', 'infini_oinfini_e_imal', 'infini_oinfini_e_imal', '', '', '', '', '', ''], ['unparsi_oniously', 'unparsi_oniously', 'unparsimoniously', '', '', '', '', '', '', '', '', '', '', '', '', '', '', '', '', '', ''], ['____________', '____________', '___________g', '___________g', '_____a_____g', '_e_e_a_____g', '_e_e_a_____g', '_e_e_a_____g', '_e_e_a_____g', '_e_e_a_____g', '', '', '', '', '', '', '', '', '', '', ''], ['_o_f__titious_ess', '_o_f__titious_ess', '_o_f__titious_ess', '_o_f__titious_ess', '_o_f__titious_ess', '_o_f_ctitious_ess', '_o_factitious_ess', '_o_factitious_ess', '_o_factitious_ess', '', '', '', '', '', '', '', '', '', '', '', ''], ['__s___ri_er__s_ess', '__s___ri_er__s_ess', 'u_s___ri_er_us_ess', 'u_s___ri_er_us_ess', 'u_s___ri_er_us_ess', 'u_s___ri_er_us_ess', 'u_s___ri_er_us_ess', 'u_s___ri_er_us_ess', '', '', '', '', '', '', '', '', '', '', '', '', ''], ['scientific_phil_s_phical', 'scientific_phil_s_phical', 'scientific_phil_s_phical', 'scientific_phil_s_phical', 'scientificophilosophical', '', '', '', '', '', '', '', '', '', '', '', '', '', '', '', ''], ['i_____i_____i__', 'i_____i_____i__', 'i__o__i_____i__', 'i__o_sis____i_s', 'i_co_sis___ci_s', 'i_co_sis_e_cies', 'i_co_siste_cies', 'i_co_siste_cies', 'i_co_siste_cies', 'i_co_siste_cies', 'i_co_siste_cies', 'inconsistencies', '', '', '', '', '', '', '', '', ''], ['_l_ctro_nc_phalographs', '_l_ctro_nc_phalographs', 'electroencephalographs', '', '', '', '', '', '', '', '', '', '', '', '', '', '', '', '', '', ''], ['n_m___r_n', 'n_m___r_n', 'n_m___r_n', 'n_m___r_n', 'n_m___ran', 'n_m___ran', 'n_m___ran', 'n_m___ran', '', '', '', '', '', '', '', '', '', '', '', '', ''], ['_laab', 'glaab', '', '', '', '', '', '', '', '', '', '', '', '', '', '', '', '', '', '', ''], ['_______', '_______', '_______', '_e_____', '_e_____', '_e_____', '_e_s___', '_e_s___', '_e_s___', '', '', '', '', '', '', '', '', '', '', '', ''], ['_ogfought', '_ogfought', '_ogfought', '_ogfought', '_ogfought', '_ogfought', 'dogfought', '', '', '', '', '', '', '', '', '', '', '', '', '', ''], ['irrever_ible', 'irrevertible', '', '', '', '', '', '', '', '', '', '', '', '', '', '', '', '', '', '', ''], ['severalizi_g', 'severalizi_g', 'severalizi_g', 'severalizi_g', 'severalizi_g', 'severalizi_g', 'severalizi_g', '', '', '', '', '', '', '', '', '', '', '', '', '', ''], ['__dglea', '_idglea', '_idglea', '_idglea', '_idglea', '_idglea', '_idglea', 'ridglea', '', '', '', '', '', '', '', '', '', '', '', '', ''], ['f_ipule', 'f_ipule', 'f_ipule', 'f_ipule', 'faipule', '', '', '', '', '', '', '', '', '', '', '', '', '', '', '', ''], ['b_ng_ng', 'b_ng_ng', 'b_ng_ng', 'binging', '', '', '', '', '', '', '', '', '', '', '', '', '', '', '', '', ''], ['____t___tt__t_t___', 'c___t___tt__t_t___', 'c___t___tt_st_t___', 'c_u_t___tt_st_t___', 'c_u_t___tt_st_t___', 'c_u_t___tt_st_t___', 'c_unt___tt_st_t__n', 'c_unt___tt_st_t__n', 'c_unt___tt_st_t__n', 'c_unt___tt_st_t__n', 'c_unt___tt_st_t__n', '', '', '', '', '', '', '', '', '', ''], ['s___ra_i_i_g', 's___ra_i_i_g', 's___ra_i_i_g', 's___ra_i_i_g', 's___ra_i_i_g', 's___ra_i_i_g', 's___ra_i_i_g', '', '', '', '', '', '', '', '', '', '', '', '', '', ''], ['n___an___a', 'n___an___a', 'n___an___a', 'n___an___a', 'n___an___a', 'n___an___a', 'n_llan_lla', 'n_llan_lla', '', '', '', '', '', '', '', '', '', '', '', '', ''], ['sen_te', 'sen_te', 'sen_te', 'sen_te', 'sen_te', 'sen_te', 'sen_te', '', '', '', '', '', '', '', '', '', '', '', '', '', ''], ['r_dglea', 'ridglea', '', '', '', '', '', '', '', '', '', '', '', '', '', '', '', '', '', '', ''], ['h_peracti_itie_', 'h_peracti_ities', 'h_peracti_ities', 'h_peractivities', 'hyperactivities', '', '', '', '', '', '', '', '', '', '', '', '', '', '', '', ''], ['b_oc_em__t_', 'b_oc_em__t_', 'b_oc_em__t_', 'b_oc_em__t_', 'b_oc_em__t_', 'b_oc_em__t_', 'b_oc_em__t_', '', '', '', '', '', '', '', '', '', '', '', '', '', ''], ['la_h_y__ge___', 'la_h_y__gen__', 'la_h_y__geni_', 'lach_y__genic', 'lach_ym_genic', 'lach_ymogenic', 'lachrymogenic', '', '', '', '', '', '', '', '', '', '', '', '', '', ''], ['_ntic_t_lytic_lly', 'anticatalytically', '', '', '', '', '', '', '', '', '', '', '', '', '', '', '', '', '', '', ''], ['_o_______o______', '_o_______o______', '_o_______o______', '_o_______o______', '_o_______o______', '_o_______o______', '_o_______o______', '', '', '', '', '', '', '', '', '', '', '', '', '', ''], ['succ_nylsulphath_azole', 'succinylsulphathiazole', '', '', '', '', '', '', '', '', '', '', '', '', '', '', '', '', '', '', ''], ['____________', '____________', '_i__i_i__i__', '_inni_inni__', 'kinnikinni_k', 'kinnikinni_k', 'kinnikinni_k', 'kinnikinnick', '', '', '', '', '', '', '', '', '', '', '', '', ''], ['_____________________', 'i__i_i__i__i_i___i___', 'i__i_i__i__i_i___i___', 'i__i_i_oi__i_i___i___', 'i__i_itoi__i_it__i___', 'i__i_itoi__i_it__im__', 'i__i_itoi__i_it__im__', 'i__i_itoi__i_ite_im__', 'i__i_itoi__i_ite_im_l', 'in_initoin_inite_im_l', 'in_initoin_inite_im_l', 'in_initoin_inite_im_l', 'in_initoin_inite_imal', 'infinitoinfinite_imal', 'infinitoinfinitesimal', '', '', '', '', '', ''], ['_ndeceive', 'undeceive', '', '', '', '', '', '', '', '', '', '', '', '', '', '', '', '', '', '', ''], ['________', '________', '________', '___nn___', '___nn___', '___nn___', '__inni__', '__inni__', '__inni__', '', '', '', '', '', '', '', '', '', '', '', ''], ['_______________e_____', '______t_______te_____', '______to______te_____', '______to______te___a_', '__f___to__f___te___a_', '__f___to__f___te__ma_', '__f___to__f___te__mal', '__f___to__f___te__mal', 'i_fi_itoi_fi_ite_imal', 'i_fi_itoi_fi_ite_imal', 'infinitoinfinite_imal', 'infinitoinfinitesimal', '', '', '', '', '', '', '', '', ''], ['____g____y', '__r_gr___y', 'a_r_gra__y', 'a_r_gra__y', 'a_r_gra__y', 'acr_gra__y', 'acr_gra__y', 'acr_gra__y', 'acr_gra__y', 'acr_gra__y', '', '', '', '', '', '', '', '', '', '', ''], ['n_llan_lla', 'nullanulla', '', '', '', '', '', '', '', '', '', '', '', '', '', '', '', '', '', '', ''], ['___e__c______e_', '___e__c______e_', '___e__c______e_', '___e_ac______e_', '___e_ac______e_', '___e_ac______e_', '_y_e_ac______e_', '_y_e_ac______e_', '_y_e_ac______e_', '', '', '', '', '', '', '', '', '', '', '', ''], ['antitrinitariani_m', 'antitrinitariani_m', 'antitrinitariani_m', 'antitrinitariani_m', 'antitrinitariani_m', 'antitrinitariani_m', 'antitrinitarianism', '', '', '', '', '', '', '', '', '', '', '', '', '', ''], ['c__nterattestat__n', 'co_nterattestat_on', 'co_nterattestation', 'counterattestation', '', '', '', '', '', '', '', '', '', '', '', '', '', '', '', '', ''], ['_____t____u_', '_____th___u_', '__i__th__iu_', '__i_oth__iu_', '__i_oth_riu_', '__i_oth_riu_', '__i_oth_riu_', '__i_oth_riu_', '__i_oth_riu_', '__i_oth_riu_', '__inoth_riu_', '__inoth_riu_', '', '', '', '', '', '', '', '', ''], ['s_ool', 's_ool', 's_ool', 's_ool', 's_ool', 's_ool', 's_ool', '', '', '', '', '', '', '', '', '', '', '', '', '', ''], ['_a_r_', 'fa_r_', 'fa_re', 'fa_re', 'fa_re', 'fabre', '', '', '', '', '', '', '', '', '', '', '', '', '', '', ''], ['d_ta___r_', 'd_ta___r_', 'd_ta___r_', 'd_ta___r_', 'd_ta___r_', 'd_ta___r_', 'd_ta___r_', '', '', '', '', '', '', '', '', '', '', '', '', '', ''], ['_u_______at_on', '_u_______at_on', '_u____i__ation', '_u__e_i__ation', '_u__e_i__ation', '_u__egi__ation', '_u__egi__ation', '_u__egi__ation', '_u__egi__ation', '_ub_egi__ation', '_ub_egi__ation', '', '', '', '', '', '', '', '', '', ''], ['n_nden_minati_nalism', 'n_nden_minati_nalism', 'n_nden_minati_nalism', 'n_nden_minati_nalism', 'n_nden_minati_nalism', 'n_nden_minati_nalism', 'n_nden_minati_nalism', '', '', '', '', '', '', '', '', '', '', '', '', '', ''], ['__aab', '__aab', '__aab', '__aab', '__aab', '__aab', '__aab', '', '', '', '', '', '', '', '', '', '', '', '', '', ''], ['________', '___n____', 'p__n____', 'p__n____', 'p__n____', 'p__n___l', 'pr_n___l', 'pr_n__ul', 'pr_nk_ul', 'pr_nkful', 'prankful', '', '', '', '', '', '', '', '', '', ''], ['_ennesseean', 'tennesseean', '', '', '', '', '', '', '', '', '', '', '', '', '', '', '', '', '', '', ''], ['____v_______', '____v_______', '____v_____l_', '_rr_v_r___l_', '_rrever___le', '_rrever___le', '_rrever___le', '_rrever___le', '_rrever___le', '_rrever__ble', '_rrever__ble', '', '', '', '', '', '', '', '', '', ''], ['_____p_____________', '__u__p_____________', '__u__p___________s_', '__u_op______o_o__s_', '__u_op___m__o_o__s_', '__u_op___m__o_o__s_', '__u_op___m__o_o__s_', '__u_op___m__o_o__s_', '__u_oph__m__o_o__s_', '__u_oph__m_co_o__s_', '__u_opha_maco_o__s_', '__u_opha_maco_o_is_', 'n_u_opha_maco_o_is_', 'n_u_opha_macolo_is_', 'n_u_opha_macolo_is_', 'neu_opha_macolo_is_', 'neu_opha_macologis_', 'neu_opha_macologist', 'neuropharmacologist', '', ''], ['supe_diabolically', 'supe_diabolically', 'superdiabolically', '', '', '', '', '', '', '', '', '', '', '', '', '', '', '', '', '', ''], ['oo_', 'oof', '', '', '', '', '', '', '', '', '', '', '', '', '', '', '', '', '', '', ''], ['____b', '_l__b', 'gl__b', 'glaab', '', '', '', '', '', '', '', '', '', '', '', '', '', '', '', '', ''], ['____h_____h_____', 's___h_s___h____s', 's___h_s___h____s', 's___h_s___h____s', 'su__h_su__hu__us', 'sul_h_sul_hu__us', 'sul_h_sul_hu__us', 'sul_h_sul_hu__us', 'sul_h_sul_hu__us', 'sul_h_sul_hu__us', '', '', '', '', '', '', '', '', '', '', ''], ['_syn__t_ns', '_syn__t_ns', '_syn__t_ns', '_syn__t_ns', 'asyn__t_ns', 'asyn__t_ns', 'asyn__t_ns', 'asyn_et_ns', 'asyn_et_ns', '', '', '', '', '', '', '', '', '', '', '', ''], ['_______', '___p___', '_a_p___', '_awp___', '_awp___', '_awp___', '_awpi__', '_awpin_', '_awpin_', 'gawping', '', '', '', '', '', '', '', '', '', '', ''], ['b__c__m__t_', 'b__c__m_sts', 'b__ch_m_sts', 'b_och_m_sts', 'b_och_m_sts', 'b_och_m_sts', 'b_och_m_sts', 'b_ochem_sts', 'biochemists', '', '', '', '', '', '', '', '', '', '', '', ''], ['___e__c______e_', '___er_c______e_', '_y_er_c______e_', '_y_er_c__v___e_', '_y_erac__v___e_', '_y_eract_v_t_e_', '_y_eract_v_t_e_', '_y_eract_v_t_es', '_y_eract_v_t_es', '_yperact_v_t_es', 'hyperact_v_t_es', 'hyperactivities', '', '', '', '', '', '', '', '', ''], ['ri___ie_', 'ri__tie_', 'ri__tie_', 'ri__tie_', 'ri_htie_', 'rightie_', 'rightie_', 'righties', '', '', '', '', '', '', '', '', '', '', '', '', ''], ['phylloi_', 'phylloid', '', '', '', '', '', '', '', '', '', '', '', '', '', '', '', '', '', '', ''], ['mal_r_s', 'mal_r_s', 'mal_r_s', 'mal_r_s', 'mal_r_s', 'mal_r_s', 'malurus', '', '', '', '', '', '', '', '', '', '', '', '', '', ''], ['____r__', '___uru_', '___uru_', '_a_uru_', '_a_uru_', '_a_uru_', '_a_urus', '_a_urus', '_a_urus', '_a_urus', '', '', '', '', '', '', '', '', '', '', ''], ['b_ll_s_o___d_o____h__', 'b_ll_s_o__rd_o_r__h__', 'ball_s_o_ard_o_ra_h__', 'ball_s_ocard_o_ra_h_c', 'ball_stocard_o_ra_h_c', 'ball_stocard_ogra_h_c', 'ballistocardiogra_hic', 'ballistocardiographic', '', '', '', '', '', '', '', '', '', '', '', '', ''], ['m_gne_opl_sm__yn_m_cs', 'm_gne_opl_sm__yn_m_cs', 'm_gne_opl_sm_dyn_m_cs', 'm_gne_opl_sm_dyn_mics', 'm_gnetopl_sm_dyn_mics', 'm_gnetopl_sm_dyn_mics', 'magnetoplasmadynamics', '', '', '', '', '', '', '', '', '', '', '', '', '', ''], ['supe_diabolically', 'superdiabolically', '', '', '', '', '', '', '', '', '', '', '', '', '', '', '', '', '', '', ''], ['pseud_internati_nalistic', 'pseud_internati_nalistic', 'pseud_internati_nalistic', 'pseud_internati_nalistic', 'pseudointernationalistic', '', '', '', '', '', '', '', '', '', '', '', '', '', '', '', ''], ['___gg_____', '___ggy____', '___ggy____', '___ggy____', 's__ggys___', 's__ggys___', 'sh_ggysh__', 'shoggyshoo', '', '', '', '', '', '', '', '', '', '', '', '', ''], ['a_ta', 'alta', '', '', '', '', '', '', '', '', '', '', '', '', '', '', '', '', '', '', ''], ['un___r_puta___', 'un__sr_puta___', 'un_isr_puta___', 'un_isr_puta___', 'un_isreputa__e', 'undisreputa__e', 'undisreputa_le', 'undisreputable', '', '', '', '', '', '', '', '', '', '', '', '', ''], ['br_sdessusbr_sdessous', 'br_sdessusbr_sdessous', 'br_sdessusbr_sdessous', 'brasdessusbrasdessous', '', '', '', '', '', '', '', '', '', '', '', '', '', '', '', '', ''], ['_______e', '______ne', '______ne', '______ne', '______ne', '_r____ne', '_r____ne', '_r____ne', '_r____ne', '', '', '', '', '', '', '', '', '', '', '', ''], ['balmb_eathing', 'balmb_eathing', 'balmbreathing', '', '', '', '', '', '', '', '', '', '', '', '', '', '', '', '', '', ''], ['__', '__', '__', '__', '_o', '_o', 'ho', '', '', '', '', '', '', '', '', '', '', '', '', '', ''], ['__n_____', '__n_l___', '__n_l___', '_in_l___', '_in_l_ss', '_in_l_ss', 'vin_l_ss', 'vin_l_ss', 'vin_l_ss', 'vineless', '', '', '', '', '', '', '', '', '', '', ''], ['sigill_g_ap_e_', 'sigill_g_ap_e_', 'sigill_g_ap_e_', 'sigill_g_ap_e_', 'sigill_g_ap_e_', 'sigill_g_aphe_', 'sigill_g_aphe_', 'sigill_g_aphe_', '', '', '', '', '', '', '', '', '', '', '', '', ''], ['prorhipidoglosso_orpha', 'prorhipidoglossomorpha', '', '', '', '', '', '', '', '', '', '', '', '', '', '', '', '', '', '', ''], ['____r___a_', '____r___ae', '___or___ae', '_u_or___ae', '_u_or___ae', '_u_or___ae', '_u_or__nae', 'bu_or__nae', 'bucor__nae', 'bucorv_nae', 'bucorv_nae', 'bucorv_nae', 'bucorvinae', '', '', '', '', '', '', '', ''], ['___', '_b_', 'ab_', 'ab_', 'ab_', 'ab_', 'ab_', 'abr', '', '', '', '', '', '', '', '', '', '', '', '', ''], ['_o_co_tempo___ies', '_o_co_tempo_a_ies', '_o_co_tempo_a_ies', '_o_co_tempo_a_ies', '_o_co_tempo_a_ies', '_o_co_temporaries', 'noncontemporaries', '', '', '', '', '', '', '', '', '', '', '', '', '', ''], ['i________i______', 'i________i______', 'i________i_____y', 'i________i_____y', 'in_______i_n___y', 'in_____c_i_n___y', 'in_____c_i_n___y', 'in_____cti_n___y', 'in_____cti_n___y', 'in____ecti_n___y', 'ins___ecti_n___y', 'ins___ecti_n___y', 'ins___ecti_n___y', '', '', '', '', '', '', '', ''], ['c___t___tt__t_t___', 'c___t_r_tt__t_t___', 'c___t_r_tt__t_t___', 'c___t_r_tt__t_ti__', 'c___t_r_tt__t_ti__', 'c___t_r_tt_st_ti__', 'c___t_r_tt_st_ti__', 'c_u_t_r_tt_st_ti__', 'c_u_t_ratt_stati__', 'c_u_t_ratt_stati__', 'c_u_t_ratt_stati__', 'c_u_t_ratt_stati__', '', '', '', '', '', '', '', '', ''], ['bipod_', 'bipod_', 'bipods', '', '', '', '', '', '', '', '', '', '', '', '', '', '', '', '', '', ''], ['__r______r______r', '__r______r______r', '__r______r______r', '__r______r______r', '__r___t__r____t_r', '__r___t__r____t_r', '__r_n_t__r____t_r', 'c_r_n_t__r____t_r', 'c_r_n_t__r____t_r', 'c_r_n_t__rm_m_t_r', 'c_r_n_t__rm_m_t_r', '', '', '', '', '', '', '', '', '', ''], ['ars_nf_rrat_s_', 'ars_nf_rrat_s_', 'ars_nf_rrat_s_', 'arsenferrat_se', 'arsenferrat_se', 'arsenferrat_se', 'arsenferrat_se', 'arsenferratose', '', '', '', '', '', '', '', '', '', '', '', '', ''], ['_______l__l__a___a__le', '_______l__l__a___a__le', '____i__l__l__a__ia__le', '____i__l__l__a__ia_ole', '____i__l__l__a__ia_ole', '____i__l__l__a__ia_ole', '____i__l__l__a__ia_ole', '____in_l__l__a__ia_ole', '____inyl__l__a__ia_ole', '____inyl__l__at_ia_ole', '____inyl__l__at_ia_ole', '____inyl__l__at_ia_ole', '', '', '', '', '', '', '', '', ''], ['__d______', '__d___i__', '__d_c_i__', '__d_c_iv_', 'u_d_c_iv_', 'und_c_iv_', 'undeceive', '', '', '', '', '', '', '', '', '', '', '', '', '', ''], ['_______', '_______', '_a_____', '_a_____', '_a__o__', '_atto__', '_atto__', '_atto__', '_atto__', '_atto__', '', '', '', '', '', '', '', '', '', '', ''], ['je_prope__ed', 'jetprope__ed', 'jetpropelled', '', '', '', '', '', '', '', '', '', '', '', '', '', '', '', '', '', ''], ['seedless_ess', 'seedless_ess', 'seedless_ess', 'seedlessness', '', '', '', '', '', '', '', '', '', '', '', '', '', '', '', '', ''], ['severalizi_g', 'severalizi_g', 'severalizi_g', 'severalizing', '', '', '', '', '', '', '', '', '', '', '', '', '', '', '', '', ''], ['g___ho__o_e', 'g___ho__o_e', 'g___ho__o_e', 'gr__ho__o_e', 'gr__hos_o_e', 'gr_phos_ope', 'graphos_ope', 'graphos_ope', 'graphoscope', '', '', '', '', '', '', '', '', '', '', '', ''], ['gumpold_kirchner', 'gumpoldskirchner', '', '', '', '', '', '', '', '', '', '', '', '', '', '', '', '', '', '', ''], ['sulph_sulphur_us', 'sulphosulphurous', '', '', '', '', '', '', '', '', '', '', '', '', '', '', '', '', '', '', ''], ['________________', '________________', '________________', '_____r__r_______', '_____r__r_______', '____ar_ar_______', '____ar_ar_______', '____ar_ar_______', '____ar_ar__s__ss', '____ar_ar__s__ss', '', '', '', '', '', '', '', '', '', '', ''], ['_____a______', '_____a____n_', '_____a____n_', '_____a____n_', '_____a____n_', '_____a____n_', '_____a____n_', '_____a____n_', '', '', '', '', '', '', '', '', '', '', '', '', ''], ['eu__me____________e', 'eul_mell__________e', 'eul_mell__________e', 'eul_mell__________e', 'eul_mell__________e', 'eul_mell__________e', 'eul_mell__________e', 'eul_mell______h___e', 'eul_mell_____ch___e', 'eul_mell_b___ch___e', 'eulamell_b_a_ch_a_e', 'eulamell_b_anch_a_e', 'eulamellib_anchia_e', 'eulamellibranchia_e', 'eulamellibranchia_e', '', '', '', '', '', ''], ['_______e__e______e__', '_______e__e______e__', '_______e__e____g_e__', '_______e__e____g_e__', '_______e__e____g_e__', '______de__e_d__g_e__', '______de__e_d__g_e__', '______de__e_d__g_e__', '___c__de_ce_d__g_e__', '___c__de_ce_d__g_e__', '', '', '', '', '', '', '', '', '', '', ''], ['self_ro_elled', 'self_ro_elled', 'self_ro_elled', 'self_ro_elled', 'selfpropelled', '', '', '', '', '', '', '', '', '', '', '', '', '', '', '', ''], ['g__________', 'g__________', 'g________e_', 'g________e_', 'g_a___a__e_', 'g_a___a__e_', 'g_at__a__e_', 'g_at__a__e_', 'g_at__appe_', 'g_at__appe_', 'g_at__appe_', '', '', '', '', '', '', '', '', '', ''], ['n_nden_minati_nalism', 'nondenominationalism', '', '', '', '', '', '', '', '', '', '', '', '', '', '', '', '', '', '', ''], ['__s___ri_er__s_ess', '__s___ri_er__s_ess', 'u_s___ri_er_us_ess', 'u_s___ri_er_us_ess', 'u_so_ori_erous_ess', 'u_so_ori_erous_ess', 'unso_ori_erousness', 'unso_ori_erousness', 'unso_oriferousness', 'unsoporiferousness', '', '', '', '', '', '', '', '', '', '', ''], ['_azzinian', 'mazzinian', '', '', '', '', '', '', '', '', '', '', '', '', '', '', '', '', '', '', ''], ['uns_p_rifer_usness', 'unsoporiferousness', '', '', '', '', '', '', '', '', '', '', '', '', '', '', '', '', '', '', ''], ['un_isreputable', 'un_isreputable', 'undisreputable', '', '', '', '', '', '', '', '', '', '', '', '', '', '', '', '', '', ''], ['un_ar_i_oniou_ly', 'unpar_i_oniou_ly', 'unpar_i_oniou_ly', 'unpar_imoniou_ly', 'unpar_imoniou_ly', 'unparsimoniously', '', '', '', '', '', '', '', '', '', '', '', '', '', '', ''], ['dentate_renate', 'dentatecrenate', '', '', '', '', '', '', '', '', '', '', '', '', '', '', '', '', '', '', ''], ['m__________n_', 'm______g___ng', 'mi____ig__ing', 'mi____ig_ting', 'mi__w_ig_ting', 'mi__w_ighting', 'millw_ighting', 'millwrighting', '', '', '', '', '', '', '', '', '', '', '', '', ''], ['_upermagnificently', 'supermagnificently', '', '', '', '', '', '', '', '', '', '', '', '', '', '', '', '', '', '', ''], ['_ppere', '_ppere', '_ppere', '_ppere', 'appere', '', '', '', '', '', '', '', '', '', '', '', '', '', '', '', ''], ['sour_op', 'sour_op', 'sour_op', 'sourtop', '', '', '', '', '', '', '', '', '', '', '', '', '', '', '', '', ''], ['______________________', '__o_____o__o__________', '__o_____o__o__________', '__o_____o__o__________', '__o____mo__o__________', '__o____mo__o____s____s', '__o_n__mo__o____s____s', '_yo_n__mo__o___ys____s', '_yo_n__mo__o___ys____s', '_yo_n__mo__o___ys____s', '_yo_ne_mo__o_e_ys____s', '_yo_ne_mo__o_e_ys____s', '_yo_ne_mo__o_e_ys____s', '', '', '', '', '', '', '', ''], ['u_di__o__r__ili_y', 'u_di__o__r__ili_y', 'u_di_co__r__ili_y', 'u_di_co__r__ili_y', 'u_di_co__r__ili_y', 'u_di_co__r__ili_y', 'u_di_co__r__ili_y', 'u_di_co__r__ili_y', '', '', '', '', '', '', '', '', '', '', '', '', ''], ['__zz_____', '__zz_____', '_azz___a_', 'mazz___a_', 'mazzi_ia_', 'mazzi_ia_', 'mazzi_ia_', 'mazzinian', '', '', '', '', '', '', '', '', '', '', '', '', ''], ['ball_stocard_ograph_c', 'ball_stocard_ograph_c', 'ballistocardiographic', '', '', '', '', '', '', '', '', '', '', '', '', '', '', '', '', '', ''], ['___________________', '___________________', '___________________', '___________________', '____r__r___________', '____r__r___________', '____r__r___________', '____r__r___________', '', '', '', '', '', '', '', '', '', '', '', '', ''], ['_ary___ct__iz__', '_ary___ct__iz__', '_ary___ct__iz__', '_ary_g_ct__iz__', '_ary_gect__ize_', '_ary_gect__ize_', '_ary_gect__ize_', '_ary_gect__ize_', '_ary_gect__ize_', '', '', '', '', '', '', '', '', '', '', '', ''], ['nem_cer_n', 'nem_ceran', 'nem_ceran', 'nem_ceran', 'nem_ceran', 'nemoceran', '', '', '', '', '', '', '', '', '', '', '', '', '', '', ''], ['____________________', '__________a_________', 'c_________a_________', 'c_________a_________', 'c_________a_________', 'c_u_______a_________', 'cou_______a_________', 'cou_______a_________', 'cou_______a_________', 'cou_______a_________', 'cou_______a_________', '', '', '', '', '', '', '', '', '', ''], ['bl__t_rch', 'bl_wt_rch', 'bl_wt_rch', 'blowtorch', '', '', '', '', '', '', '', '', '', '', '', '', '', '', '', '', ''], ['_ucc_n_l_ulp_at__azole', '_ucc_n_l_ulp_at__azole', '_ucc_n_l_ulp_at__azole', 'succ_n_lsulp_at__azole', 'succ_n_lsulp_at__azole', 'succ_n_lsulp_at__azole', 'succ_n_lsulp_at__azole', 'succ_n_lsulp_at__azole', '', '', '', '', '', '', '', '', '', '', '', '', ''], ['__nn_', '__nn_', '_inni', 'ginni', '', '', '', '', '', '', '', '', '', '', '', '', '', '', '', '', ''], ['_upe_fo_mi_a_lene__', '_uperformi_a_lene__', '_uperformi_a_lene__', 'superformi_a_leness', 'superformi_ableness', 'superformi_ableness', 'superformidableness', '', '', '', '', '', '', '', '', '', '', '', '', '', ''], ['_e_______ome___________', '_e_i____iome_i___i_i_i_', '_e_i____iome_i___i_i_i_', '_e_ic___iome_i___i_i_i_', '_e_ic___iome_i___i_i_i_', '_e_ic___iome_i___i_i_i_', '_e_ic__diomedi___i_i_i_', '_e_ic__diomedi___ini_i_', '_e_ic__diomedi__tiniti_', 'pe_ic__diomedi__tiniti_', 'pe_ic__diomedi__tiniti_', 'pe_ica_diomedia_tiniti_', 'pe_ica_diomedia_tiniti_', 'pe_ica_diomedia_tiniti_', '', '', '', '', '', '', ''], ['________________y', '________________y', '________________y', '________________y', '________________y', '___e____________y', '___e_d__________y', '___e_d__________y', '___e_d__________y', '', '', '', '', '', '', '', '', '', '', '', ''], ['_________a_e', 't_______tate', 't_______tate', 't__m____tate', 't__m____tate', 't__my___tate', 't__my___tate', 't_imy_i_tate', 'trimyri_tate', 'trimyristate', '', '', '', '', '', '', '', '', '', '', ''], ['_h______t_____n__t___', '_h______t_____n__t___', 'ch___c__t_____n__t___', 'ch___c__t_____n__t___', 'ch___c__t_____n__t___', 'ch___c__t_____n__t___', 'ch___c_st_____n_st___', 'ch___c_st_____n_st___', 'ch___cyst_____n_st__y', 'ch___cyst_____n_st_my', 'ch___cyst_j_j_n_st_my', 'ch___cyst_j_j_n_st_my', '', '', '', '', '', '', '', '', ''], ['____e___e___________', '____e___e___________', '____e___e___________', '____e___e___________', '____e___e___________', '____e___e___________', '____e___e___________', '', '', '', '', '', '', '', '', '', '', '', '', '', ''], ['f_urweek', 'fourweek', '', '', '', '', '', '', '', '', '', '', '', '', '', '', '', '', '', '', ''], ['________', '______i_', 'g_____i_', 'g_a___i_', 'gua___i_', 'gua_y_i_', 'gua_yli_', 'gua_ylic', 'guanylic', '', '', '', '', '', '', '', '', '', '', '', ''], ['_______', '_____l_', '_____le', '____ule', '____ule', 'f___ule', 'f___ule', 'fa__ule', 'fa_pule', 'fa_pule', 'faipule', '', '', '', '', '', '', '', '', '', ''], ['_____', '__i__', '__ig_', '_eig_', 'deig_', 'deign', '', '', '', '', '', '', '', '', '', '', '', '', '', '', ''], ['_______', '_______', '____i__', '____i__', '____i__', '____is_', '_ee_is_', '_ee_ist', '_eexist', 'reexist', '', '', '', '', '', '', '', '', '', '', ''], ['___', 'zzz', '', '', '', '', '', '', '', '', '', '', '', '', '', '', '', '', '', '', ''], ['ch_lecyst_jejun_st_my', 'cholecystojejunostomy', '', '', '', '', '', '', '', '', '', '', '', '', '', '', '', '', '', '', ''], ['ad_athet_c', 'adiathetic', '', '', '', '', '', '', '', '', '', '', '', '', '', '', '', '', '', '', ''], ['_o_f___i_io_s_ess', '_o_f_c_i_io_s_ess', 'nonf_c_i_io_sness', 'nonf_ctitio_sness', 'nonf_ctitiousness', 'nonfactitiousness', '', '', '', '', '', '', '', '', '', '', '', '', '', '', ''], ['_pt___sts', '_pt___sts', '_pti_ists', 'opti_ists', 'optimists', '', '', '', '', '', '', '', '', '', '', '', '', '', '', '', ''], ['e_____a____s', 'e_____a__o_s', 'e_p___a__o_s', 'e_p__ga__o_s', 'e_p__ga__o_s', 'exp__ga__o_s', 'exp_rga__o_s', 'exp_rgat_o_s', 'exp_rgatio_s', 'exp_rgations', 'exp_rgations', 'expurgations', '', '', '', '', '', '', '', '', ''], ['_______________', '____s________ss', '____s________ss', '__e_se______ess', '__e_se______ess', '__e_se______ess', '__e_se____f_ess', '__e_se____f_ess', '__e_se____f_ess', '__e_se____fness', 'g_e_se____fness', 'g_e_se____fness', '', '', '', '', '', '', '', '', ''], ['_np__s___p______', '_np__s___p______', '_np__s___p______', '_np__s___p______', '_np__s___p___e__', '_np__s___p__ve__', '_npr_s_r_p__ve__', '_npr_s_r_p__ve__', '_npr_s_r_p__ve__', '_npr_s_r_p__ve__', '', '', '', '', '', '', '', '', '', '', ''], ['hy_ohya_', 'hypohya_', 'hypohya_', 'hypohyal', '', '', '', '', '', '', '', '', '', '', '', '', '', '', '', '', ''], ['v_neless', 'v_neless', 'vineless', '', '', '', '', '', '', '', '', '', '', '', '', '', '', '', '', '', ''], ['s_g_ll_g_a__e_', 's_g_ll_g_a__e_', 's_g_ll_g_ap_e_', 's_g_ll_g_ap_e_', 's_g_ll_g_ap_e_', 's_g_ll_grap_er', 's_g_ll_grap_er', 's_g_llograp_er', 's_g_llograp_er', 's_g_llograp_er', '', '', '', '', '', '', '', '', '', '', ''], ['bioc_emists', 'bioc_emists', 'biochemists', '', '', '', '', '', '', '', '', '', '', '', '', '', '', '', '', '', ''], ['______o______', '______o______', '______o______', '______o______', '______o______', '______o______', '______o______', '', '', '', '', '', '', '', '', '', '', '', '', '', ''], ['_____ct_l___s', '_____ct_l_o_s', '__p__ct_l_o_s', '__p__ct_l_o_s', '__p__ct_l_o_s', '__p__ctilio_s', '__p__ctilio_s', 'u_pu_ctilious', 'u_pu_ctilious', 'unpunctilious', '', '', '', '', '', '', '', '', '', '', ''], ['s___ss_s', 's_e_sses', 'spe_sses', 'speisses', '', '', '', '', '', '', '', '', '', '', '', '', '', '', '', '', ''], ['__________', '_____o____', '___h_o____', '___h_o____', '___h_or__r', '___h_ork_r', '___hwork_r', '___hworker', '___hworker', '___hworker', '__shworker', '_ishworker', 'fishworker', '', '', '', '', '', '', '', ''], ['_______gn_____n_l_', '__p____gn_____n_l_', '__p____gn_____n_l_', '__p____gn___c_n_l_', '__p__m_gn___c_n_l_', 's_p__m_gn___c_n_l_', 's_p__m_gn___c_n_l_', 's_p_rm_gn___c_n_l_', 's_p_rm_gn___c_n_l_', 's_p_rm_gn___c_ntl_', 's_perm_gn___centl_', 's_perm_gni_icentl_', 's_perm_gni_icently', 'superm_gni_icently', 'superm_gnificently', 'superm_gnificently', 'supermagnificently', '', '', '', ''], ['n_rci__i_m_', 'n_rci__i_m_', 'n_rci__i_m_', 'n_rcissisms', 'n_rcissisms', 'narcissisms', '', '', '', '', '', '', '', '', '', '', '', '', '', '', ''], ['_n_en__t_v_t_e_', '_nsens_t_v_t_es', '_nsens_t_v_t_es', '_nsens_t_v_t_es', 'insensitivities', '', '', '', '', '', '', '', '', '', '', '', '', '', '', '', ''], ['____________', '__________i_', '_c________i_', '_ce_______i_', '_cet______i_', '_cet_b____i_', 'acetab__a_ia', 'acetabu_a_ia', 'acetabu_a_ia', 'acetabu_aria', 'acetabularia', '', '', '', '', '', '', '', '', '', ''], ['_', 'i', '', '', '', '', '', '', '', '', '', '', '', '', '', '', '', '', '', '', ''], ['u______m_______u_____', 'u_c____m_______u_____', 'u_c____mp______u_____', 'u_co___mpo____ou_____', 'u_co_t_mpo____ou_____', 'uncont_mpo__n_ou_n___', 'uncontempo__neou_ne__', 'uncontempo__neou_ne__', 'uncontempo__neou_ne__', 'uncontempo__neousness', 'uncontempo__neousness', 'uncontempo_aneousness', 'uncontemporaneousness', '', '', '', '', '', '', '', ''], ['_______', '_______', '_i__i__', '_i__i__', '_in_in_', '_in_in_', '_in_in_', '_in_in_', '_inging', '_inging', '', '', '', '', '', '', '', '', '', '', ''], ['_rankful', 'prankful', '', '', '', '', '', '', '', '', '', '', '', '', '', '', '', '', '', '', ''], ['a_a_a', 'alala', '', '', '', '', '', '', '', '', '', '', '', '', '', '', '', '', '', '', ''], ['prec_n_en_', 'prec_n_en_', 'prec_ntent', 'prec_ntent', 'precontent', '', '', '', '', '', '', '', '', '', '', '', '', '', '', '', ''], ['_e_r_ph_rm___l___s_', '_e_r_ph_rm___l___s_', '_e_r_ph_rm___l__is_', '_e_r_ph_rm___l__is_', '_e_r_ph_rm___l_gis_', '_e_r_ph_rm___l_gis_', '_e_r_ph_rm___l_gis_', '_e_r_ph_rm___l_gis_', '_e_r_ph_rm___l_gis_', '', '', '', '', '', '', '', '', '', '', '', ''], ['s__iss_s', 's__iss_s', 's__iss_s', 's__iss_s', 's__iss_s', 's__iss_s', 's__iss_s', '', '', '', '', '', '', '', '', '', '', '', '', '', ''], ['acrogra_hy', 'acrography', '', '', '', '', '', '', '', '', '', '', '', '', '', '', '', '', '', '', ''], ['____________________', '____________________', '_____o__o_o_________', '_____o__o_o_________', '_____o__o_o_________', '_____o__o_o_________', '_____o__o_o_________', '_____o__o_o_________', '', '', '', '', '', '', '', '', '', '', '', '', ''], ['__t___i__', '__t___in_', '__t___in_', '__t___in_', '__tr__in_', 'o_tr__in_', 'o_tr__in_', 'ostr__in_', 'ostr_cin_', 'ostracin_', 'ostracine', '', '', '', '', '', '', '', '', '', ''], ['____sy__ist', '____sy__ist', '____sy__ist', '____sy__ist', '____sy__ist', '____sy__ist', '____sy__ist', '', '', '', '', '', '', '', '', '', '', '', '', '', ''], ['__________________', '__________f_______', '_i_______ifi___i__', '_i_______ifi___io_', '_i_____a_ifi_a_io_', '_i_____a_ifi_a_io_', '_i_____a_ifi_atio_', '_i_____a_ificatio_', '_i_____a_ificatio_', '_i_____a_ificatio_', 'mi_____a_ificatio_', 'mi_____a_ification', 'miss___a_ification', 'miss_lla_ification', 'missylla_ification', 'missyllabification', '', '', '', '', ''], ['_azzinian', 'mazzinian', '', '', '', '', '', '', '', '', '', '', '', '', '', '', '', '', '', '', ''], ['____________', '____________', '__ll________', '__ll________', '__ll________', '__ll_______s', '__ll_i_____s', '__ll_i_____s', '_ull_i_____s', '_ull_i____rs', 'bull_i____rs', 'bull_i__t_rs', 'bull_i__t_rs', 'bullfi__t_rs', 'bullfi__t_rs', '', '', '', '', '', ''], ['______', '___o__', '__po__', '__po__', '__po__', '__po_s', '__pods', '_ipods', '_ipods', '_ipods', '_ipods', '_ipods', '', '', '', '', '', '', '', '', ''], ['_n_rl', 'sn_rl', 'snarl', '', '', '', '', '', '', '', '', '', '', '', '', '', '', '', '', '', ''], ['irrever_ib_e', 'irrever_ible', 'irrever_ible', 'irrever_ible', 'irrever_ible', 'irrever_ible', 'irrever_ible', 'irrever_ible', '', '', '', '', '', '', '', '', '', '', '', '', ''], ['hyperactivitie_', 'hyperactivities', '', '', '', '', '', '', '', '', '', '', '', '', '', '', '', '', '', '', ''], ['__s______e___s_ess', '__s______e___s_ess', '__s______e___s_ess', '__s______e___s_ess', '__s______e___s_ess', '__s______e___s_ess', 'u_s______e__us_ess', 'u_s______e__us_ess', '', '', '', '', '', '', '', '', '', '', '', '', ''], ['irrever_ible', 'irrevertible', '', '', '', '', '', '', '', '', '', '', '', '', '', '', '', '', '', '', ''], ['_n__n__________', '_n_en________e_', '_n_en__t___t_e_', '_n_en__t___t_e_', '_n_en__t_v_t_e_', '_nsens_t_v_t_es', '_nsens_t_v_t_es', 'insensitivities', '', '', '', '', '', '', '', '', '', '', '', '', ''], ['___e______e', '_s_e_s____e', 'os_eos____e', 'osteos_t__e', 'osteos_t__e', 'osteos_t__e', 'osteosutu_e', 'osteosuture', '', '', '', '', '', '', '', '', '', '', '', '', ''], ['___orv_na_', '___orv_na_', '___orvina_', '___orvina_', '___orvina_', '___orvina_', 'b__orvina_', 'b__orvina_', 'b_corvina_', 'b_corvina_', '', '', '', '', '', '', '', '', '', '', ''], ['v__ellessness', 'v_wellessness', 'vowellessness', '', '', '', '', '', '', '', '', '', '', '', '', '', '', '', '', '', ''], ['_________r__', '______u__r__', '__e___u__r__', '__e___u__r__', '__e___u__r__', '__e___u__r__', '__e___u__r__', '__e___u__r__', '__e___u__r__', '', '', '', '', '', '', '', '', '', '', '', ''], ['__a_____', '__a_____', '__a_____', '__a_____', '__a_____', '__a_____', '__a_k___', '__a_k___', '', '', '', '', '', '', '', '', '', '', '', '', ''], ['foll_proof', 'foll_proof', 'foll_proof', 'follyproof', '', '', '', '', '', '', '', '', '', '', '', '', '', '', '', '', ''], ['mic_oc_ystallogeny', 'mic_oc_ystallogeny', 'microcrystallogeny', '', '', '', '', '', '', '', '', '', '', '', '', '', '', '', '', '', ''], ['____', 'a__a', 'a_ta', 'alta', '', '', '', '', '', '', '', '', '', '', '', '', '', '', '', '', ''], ['_a_____', 'ga____g', 'ga____g', 'ga___ng', 'gaw__ng', 'gaw__ng', 'gaw__ng', 'gaw__ng', 'gaw__ng', 'gawp_ng', 'gawping', '', '', '', '', '', '', '', '', '', ''], ['_______________', '_y_____________', '_y______i_i_i__', '_y______i_i_i__', 'hy______i_i_i__', 'hy______i_i_i__', 'hy______i_i_i__', 'hy______i_i_i__', 'hy______i_i_i__', 'hy__r___i_i_i__', 'hy__r___i_i_i__', '', '', '', '', '', '', '', '', '', ''], ['ace_a_ular_a', 'ace_a_ular_a', 'ace_a_ular_a', 'ace_abular_a', 'ace_abular_a', 'ace_abular_a', 'ace_abular_a', 'ace_abular_a', '', '', '', '', '', '', '', '', '', '', '', '', ''], ['_y_________', '_y_____r___', '_yp____r___', '_yps___r__s', '_yps___r__s', '_yps_f_r__s', '_yps_f_r__s', '_ypsif_r__s', '_ypsif_ro_s', '_ypsif_rous', '_ypsiferous', 'gypsiferous', '', '', '', '', '', '', '', '', ''], ['_____', 'a_a_a', 'a_a_a', 'alala', '', '', '', '', '', '', '', '', '', '', '', '', '', '', '', '', ''], ['_________________', '_________________', '______d__________', '_____hd__________', '_____hd__________', '_____hd__e_______', '__u__hd__e_______', '__u__hd__en___n__', '__u__hd__en___n__', '__u__hd__en___n__', '__u__hd__en___n__', '__u__hd__en___n__', '', '', '', '', '', '', '', '', ''], ['i___trescence', 'i__utrescence', 'im_utrescence', 'im_utrescence', 'im_utrescence', 'im_utrescence', 'imputrescence', '', '', '', '', '', '', '', '', '', '', '', '', '', ''], ['____', '____', '____', '____', 'p_p_', 'p_p_', 'pnpn', '', '', '', '', '', '', '', '', '', '', '', '', '', ''], ['____w__', '____w__', '____w__', '____w__', '____w__', '____w__', '____w__', '', '', '', '', '', '', '', '', '', '', '', '', '', ''], ['____ule', '____ule', '____ule', '____ule', '__i_ule', '__i_ule', '__i_ule', '__i_ule', '', '', '', '', '', '', '', '', '', '', '', '', ''], ['_________________', '______t_t________', '______t_t________', '______t_t________', '___f__t_t________', '___f__t_t________', '___f__t_t_____e__', '___f__t_t_____e__', '___f__t_t_____e__', '___f__t_t_____e__', '', '', '', '', '', '', '', '', '', '', ''], ['____________________', '____________________', '__________________s_', '__________________s_', '__________________s_', '__________________s_', '__________________s_', '___________t______s_', '___________t______s_', '', '', '', '', '', '', '', '', '', '', '', ''], ['_n_ca___d', '_n_ca___d', '_n_ca___d', '_n_ca___d', '_n_cabb_d', '_n_cabbed', '_nscabbed', '_nscabbed', '_nscabbed', 'unscabbed', '', '', '', '', '', '', '', '', '', '', ''], ['un_ati_factorine__', 'un_ati_factorine__', 'unsatisfactoriness', '', '', '', '', '', '', '', '', '', '', '', '', '', '', '', '', '', ''], ['________', '__lll___', '__lll___', '__lll___', '__lll_s_', '__lll_s_', '__lllos_', '__lllos_', '__lllos_', '__lllos_', '', '', '', '', '', '', '', '', '', '', ''], ['___________', '__nn______n', '_enne__ee_n', '_enne__eean', 'tenne__eean', 'tennesseean', '', '', '', '', '', '', '', '', '', '', '', '', '', '', ''], ['sp_iss_s', 'speisses', '', '', '', '', '', '', '', '', '', '', '', '', '', '', '', '', '', '', ''], ['irrever_ib_e', 'irrevertib_e', 'irrevertib_e', 'irrevertib_e', 'irrevertib_e', 'irrevertible', '', '', '', '', '', '', '', '', '', '', '', '', '', '', ''], ['____', '____', '____', '____', '____', '____', '____', '', '', '', '', '', '', '', '', '', '', '', '', '', ''], ['s___l', 's___l', 's___l', 's___l', 's___l', 'st__l', 'st__l', 'st__l', '', '', '', '', '', '', '', '', '', '', '', '', ''], ['inc_nsistencies', 'inc_nsistencies', 'inc_nsistencies', 'inc_nsistencies', 'inc_nsistencies', 'inconsistencies', '', '', '', '', '', '', '', '', '', '', '', '', '', '', ''], ['____w__', 'a__awa_', 'a__awa_', 'annawan', '', '', '', '', '', '', '', '', '', '', '', '', '', '', '', '', ''], ['p___p___', 'p_l_p_l_', 'palapala', '', '', '', '', '', '', '', '', '', '', '', '', '', '', '', '', '', ''], ['assume__', 'assume__', 'assumen_', 'assument', '', '', '', '', '', '', '', '', '', '', '', '', '', '', '', '', ''], ['__nn_', 'g_nn_', 'g_nn_', 'ginni', '', '', '', '', '', '', '', '', '', '', '', '', '', '', '', '', ''], ['_i____i________i__i___', '_i__o_i_o______i__i___', 'hi__o_i_o______i__i___', 'hi__o_i_o__bb__i__i___', 'hi__o_icoc_bb__i__ic__', 'hi__o_icoc_bb__i__ic__', 'hi__o_icoc_bb_li__ic_l', 'hi__oricoc_bb_li__ic_l', 'hi__oricoc_bb_li__ic_l', 'hi__oricoc_bb_li__ic_l', 'hi__oricocabbali__ical', 'his_oricocabbalis_ical', 'historicocabbalistical', '', '', '', '', '', '', '', ''], ['dropsywor_', 'dropsywor_', 'dropsywort', '', '', '', '', '', '', '', '', '', '', '', '', '', '', '', '', '', ''], ['________________p______', '________________p______', 'd_______________p______', 'd_______________p______', 'd_______________p______', 'd_______________p______', 'd_______________p______', 'de____________e_p___e__', 'de___________le_p___e__', 'de_________u_le_p___e__', 'de________nu_le_p___e_n', 'de________nu_le_p___e_n', '', '', '', '', '', '', '', '', ''], ['c_____', 'c_____', 'c_____', 'c_n___', 'c_n___', 'c_n__i', 'cen__i', 'cen__i', 'cen__i', 'cen__i', '', '', '', '', '', '', '', '', '', '', ''], ['_laab', '_laab', 'glaab', '', '', '', '', '', '', '', '', '', '', '', '', '', '', '', '', '', ''], ['______', '______', '______', '__n___', '__n___', '__n___', '__n___', '__n___', '', '', '', '', '', '', '', '', '', '', '', '', ''], ['four_hdimensional', 'fourthdimensional', '', '', '', '', '', '', '', '', '', '', '', '', '', '', '', '', '', '', ''], ['_ogfought', 'dogfought', '', '', '', '', '', '', '', '', '', '', '', '', '', '', '', '', '', '', ''], ['_________', '_________', '_________', 'n________', 'n________', 'n________', 'n________', 'n________', '', '', '', '', '', '', '', '', '', '', '', '', ''], ['__', '__', '__', 'cc', '', '', '', '', '', '', '', '', '', '', '', '', '', '', '', '', ''], ['bipod_', 'bipod_', 'bipod_', 'bipod_', 'bipods', '', '', '', '', '', '', '', '', '', '', '', '', '', '', '', ''], ['gn___n_____', 'gn___n_pp__', 'gn__sn_pp__', 'gn__sn_pp__', 'gn__sn_ppe_', 'gn__sn_ppe_', 'gna_snappe_', 'gnatsnappe_', 'gnatsnappe_', 'gnatsnappe_', 'gnatsnappe_', 'gnatsnapper', '', '', '', '', '', '', '', '', ''], ['c_u_te_estab_ishme_t', 'c_u_te_establishme_t', 'c_unte_establishment', 'counte_establishment', 'counterestablishment', '', '', '', '', '', '', '', '', '', '', '', '', '', '', '', ''], ['irr_v_r_i___', 'irr_v_rti___', 'irr_v_rti___', 'irr_v_rti___', 'irr_v_rti___', 'irreverti__e', 'irreverti__e', 'irreverti_le', 'irrevertible', '', '', '', '', '', '', '', '', '', '', '', ''], ['i___rrectio_ally', 'i_s_rrectio_ally', 'i_surrectio_ally', 'i_surrectio_ally', 'i_surrectio_ally', 'i_surrectio_ally', 'insurrectionally', '', '', '', '', '', '', '', '', '', '', '', '', '', ''], ['_hushi', '_hushi', 'thushi', '', '', '', '', '', '', '', '', '', '', '', '', '', '', '', '', '', ''], ['hy_erridiculousness', 'hyperridiculousness', '', '', '', '', '', '', '', '', '', '', '', '', '', '', '', '', '', '', ''], ['_______________________', '_____y_________________', '_____y_________________', '_____y_________________', '___o_y___o_____o__o____', '___o_y_i_o_____o__o__i_', '___o_y_i_o_____o__o__i_', '___o_y_i_o_u___o__o__i_', '__so_y_i_o_u___o__o__i_', '__so_y_i_o_u_l_o__o__i_', '__so_y_i_o_u_l_op_o__i_', '__so_y_i_o_u_l_op_o__i_', '__so_yri_o_u_l_opro__i_', '__so_yri_o_ucl_opro__i_', '_eso_yri_o_ucleopro_ei_', '_eso_yri_onucleopro_ein', 'deso_yri_onucleopro_ein', 'desoxyri_onucleopro_ein', 'desoxyribonucleopro_ein', 'desoxyribonucleopro_ein', 'desoxyribonucleoprotein'], ['la_h_y__ge___', 'la_h_y__gen__', 'la_h_ym_gen__', 'la_h_ym_gen__', 'la_h_ym_gen__', 'la_h_ym_gen__', 'la_h_ym_gen__', 'la_h_ym_gen__', 'la_h_ym_gen__', '', '', '', '', '', '', '', '', '', '', '', ''], ['____t_____t___t__', 's___t_____t___t__', 's___t_____t___t__', 's___t___h_t___t__', 'sp__t__ph_t___t__', 'sp__tr_ph_t___t_r', 'spe_tr_ph_t__eter', 'spe_tr_ph_t_meter', 'spe_trophotometer', 'spectrophotometer', '', '', '', '', '', '', '', '', '', '', ''], ['__________', '__r_____r_', '__r_____rs', 't_r___t_rs', 't_r_e_ters', 't_r_enters', 't_rmenters', 'tormenters', '', '', '', '', '', '', '', '', '', '', '', '', ''], ['____________________', 'oo__o_o__________o__', 'oo__o_o_a________o__', 'oo__o_o_a________o__', 'oo__o_o_a______c_o__', 'oo__o_o_a______cto__', 'oo__o_o_a______ctom_', 'oo__o_o_al_____ctom_', 'oo__o_o_al___g_ctom_', 'oo__o_osal___g_ctom_', 'oo_ho_osal___g_ctom_', 'oo_ho_osal__ng_ctom_', 'oo_ho_osal__ng_ctomy', 'oopho_osalp_ng_ctomy', 'oopho_osalp_ngectomy', 'oopho_osalpingectomy', 'oophorosalpingectomy', '', '', '', ''], ['h___h___', 'h___h___', 'h___h___', 'h___h___', 'h___h___', 'h___h___', 'h___h___', '', '', '', '', '', '', '', '', '', '', '', '', '', ''], ['__________a___', '__________a___', '__________a___', '__________a___', '______e___a__e', '______e___a__e', '______e___a__e', '______e___a__e', '', '', '', '', '', '', '', '', '', '', '', '', ''], ['noninstit_tion', 'noninstit_tion', 'noninstit_tion', 'noninstitution', '', '', '', '', '', '', '', '', '', '', '', '', '', '', '', '', ''], ['_________l__________', '_________l_i________', '_________l_i______m_', '_______s_l_i______m_', '_______s_l_i______m_', '_______s_l_i______m_', '_______s_l_i______m_', '_______s_l_i______m_', '_______s_l_i______m_', '_______s_l_i______m_', '', '', '', '', '', '', '', '', '', '', ''], ['sp_iss_s', 'sp_iss_s', 'speisses', '', '', '', '', '', '', '', '', '', '', '', '', '', '', '', '', '', ''], ['scientific_phil_s_phical', 'scientificophilosophical', '', '', '', '', '', '', '', '', '', '', '', '', '', '', '', '', '', '', ''], ['__________________', '__________________', '________________o_', '_____ll_________o_', '_____ll_________o_', 'm____ll_________o_', 'm____ll_____c___o_', 'm____ll_____c___o_', 'm____ll_____c___o_', 'm____ll_____c___on', 'm____ll_____c_t_on', 'm____ll_____c_t_on', 'm____ll_____c_t_on', '', '', '', '', '', '', '', ''], ['u_s_p_ri_er_us_ess', 'uns_p_ri_er_usness', 'uns_p_ri_er_usness', 'unsopori_erousness', 'unsoporiferousness', '', '', '', '', '', '', '', '', '', '', '', '', '', '', '', ''], ['grapho_cope', 'grapho_cope', 'graphoscope', '', '', '', '', '', '', '', '', '', '', '', '', '', '', '', '', '', ''], ['_________n___', '_________n___', '__w______n___', '__w______n___', '__w______n___', '_ow______n___', '_ow______n___', '_owe__e__ne__', '_owe__e__ne__', '_owe__e__ne__', '', '', '', '', '', '', '', '', '', '', ''], ['___e______e', '___e_____re', 'o__eo____re', 'o_teo__t_re', 'o_teo_uture', 'o_teo_uture', 'osteosuture', '', '', '', '', '', '', '', '', '', '', '', '', '', ''], ['v_wellessness', 'v_wellessness', 'v_wellessness', 'v_wellessness', 'vowellessness', '', '', '', '', '', '', '', '', '', '', '', '', '', '', '', ''], ['b__sdessusb__sdessous', 'br_sdessusbr_sdessous', 'br_sdessusbr_sdessous', 'brasdessusbrasdessous', '', '', '', '', '', '', '', '', '', '', '', '', '', '', '', '', ''], ['nonf_ctitiousness', 'nonf_ctitiousness', 'nonf_ctitiousness', 'nonfactitiousness', '', '', '', '', '', '', '', '', '', '', '', '', '', '', '', '', ''], ['nonb_rb_ro_sness', 'nonbarbaro_sness', 'nonbarbaro_sness', 'nonbarbaro_sness', 'nonbarbarousness', '', '', '', '', '', '', '', '', '', '', '', '', '', '', '', ''], ['______a_____', '______a_____', '______a_____', '______a___n_', '______a___n_', '______a___n_', '______a___n_', '______a___n_', '', '', '', '', '', '', '', '', '', '', '', '', ''], ['________', '_______l', '_y___y_l', '_y___y_l', '_y___y_l', '_y___yal', '_y___yal', '_y___yal', '_yp__yal', '_yp__yal', '_yp__yal', '', '', '', '', '', '', '', '', '', ''], ['_l____l_______', '_l____l_______', '_l____l_______', '_lee_ele___e__', 'slee_eless_ess', 'slee_eless_ess', 'sleeveless_ess', 'sleeveless_ess', 'sleevelessness', '', '', '', '', '', '', '', '', '', '', '', ''], ['self_ro_elled', 'self_ro_elled', 'selfpropelled', '', '', '', '', '', '', '', '', '', '', '', '', '', '', '', '', '', ''], ['s_mig_om_trically', 'semigeometrically', '', '', '', '', '', '', '', '', '', '', '', '', '', '', '', '', '', '', ''], ['ambidextrous_y', 'ambidextrously', '', '', '', '', '', '', '', '', '', '', '', '', '', '', '', '', '', '', ''], ['_upermagnificently', '_upermagnificently', 'supermagnificently', '', '', '', '', '', '', '', '', '', '', '', '', '', '', '', '', '', ''], ['b___d___u_b___d___ou_', 'b_a_d___u_b_a_d___ou_', 'b_a_de__u_b_a_de__ou_', 'bra_de__u_bra_de__ou_', 'brasdessusbrasdessous', '', '', '', '', '', '', '', '', '', '', '', '', '', '', '', ''], ['___e____e_e__', '___e____e_e__', '_n_e___nene__', '_n_e___nene__', 'in_e__inene__', 'in_es_ineness', 'intestineness', '', '', '', '', '', '', '', '', '', '', '', '', '', ''], ['_attattat', 'rattattat', '', '', '', '', '', '', '', '', '', '', '', '', '', '', '', '', '', '', ''], ['____________________', '_______m___________m', 'n_n__n_m_n____n____m', 'n_n__n_m_n_t__n____m', 'n_n__n_m_n_t__n_l__m', 'n_nd_n_m_n_t__n_l__m', 'n_nden_m_n_t__n_l__m', 'n_nden_m_n_t__n_l__m', 'n_nden_m_n_t__n_l_sm', 'n_nden_m_n_t__n_l_sm', 'n_nden_m_n_t__n_l_sm', 'n_nden_m_nat__nal_sm', 'n_nden_minati_nalism', 'nondenominationalism', '', '', '', '', '', '', ''], ['gyps_fer__s', 'gyps_fer__s', 'gyps_fer__s', 'gyps_fer__s', 'gyps_fer__s', 'gypsifer__s', 'gypsifer__s', 'gypsifer_us', 'gypsifer_us', '', '', '', '', '', '', '', '', '', '', '', ''], ['_ndeceive', 'undeceive', '', '', '', '', '', '', '', '', '', '', '', '', '', '', '', '', '', '', ''], ['________________', '________________', '________________', '___p_____p______', '___p_____p______', '___p_o___p___o__', '___p_o___p___o__', '___p_o___p___o__', '___p_o___p___o__', '', '', '', '', '', '', '', '', '', '', '', ''], ['________p____________________', '________ph_______h___________', '________ph_______h___________', '________ph__y____hy__________', '__i_i___ph__y____hy__i____i__', '__i_i___ph__y____hy__i____i__', '__i_i___ph__y____hy__i____i__', '__i_i___ph__y____hy__i____i__', '__i_i___ph__y____hy__i____i__', '__i_i___ph__yl___hyl_i____i__', 't_i_it__ph__yl__thyl_it___i__', 't_i_it__ph__yl__thyl_it___i__', '', '', '', '', '', '', '', '', ''], ['sour_op', 'sourtop', '', '', '', '', '', '', '', '', '', '', '', '', '', '', '', '', '', '', ''], ['su_legislation', 'sublegislation', '', '', '', '', '', '', '', '', '', '', '', '', '', '', '', '', '', '', ''], ['__nn_', '__nn_', '__nn_', '__nn_', '__nn_', '__nn_', '__nn_', '', '', '', '', '', '', '', '', '', '', '', '', '', ''], ['pricklymargin_d', 'pricklymargin_d', 'pricklymargined', '', '', '', '', '', '', '', '', '', '', '', '', '', '', '', '', '', ''], ['c___t___tt__t_t___', 'c___t___tt__t_t___', 'c___t___tt__t_t___', 'c___t___tt__t_t___', 'c___t___tt__t_t___', 'c___t__att__tat___', 'c___t__att__tati__', 'co__t__att__tatio_', 'co__t__att_statio_', 'co__t__att_statio_', 'cou_t__att_statio_', 'cou_t__att_statio_', '', '', '', '', '', '', '', '', ''], ['_o__o__e__e__i_g_e__', 'non_on_e__en_ingne__', 'non_on_es_en_ingness', 'non_ondes_endingness', 'non_ondes_endingness', 'noncondescendingness', '', '', '', '', '', '', '', '', '', '', '', '', '', '', ''], ['____________h_______h____', '____________h___g___h____', '________n___h___g___h____', '________n__ph___g__ph____', '________n__ph___g__ph____', '________n__ph___g__ph____', '________n__ph___g__ph____', '_l______n__ph_l_g__ph___l', 'ele____en_eph_l_g__ph___l', 'ele_t__en_eph_l_g__ph___l', 'ele_tr_en_eph_l_gr_ph___l', 'ele_troen_eph_logr_ph___l', 'ele_troen_eph_logr_phi__l', 'ele_troen_ephalographi_al', 'electroencephalographical', '', '', '', '', '', ''], ['_uperformidablene__', '_uperformidablene__', '_uperformidablene__', '_uperformidablene__', 'superformidableness', '', '', '', '', '', '', '', '', '', '', '', '', '', '', '', ''], ['__________________', '__________________', '__________________', '__________________', '_o____o____o______', 'non__no__n_o__n___', 'non_gno__n_o__n___', 'non_gno__n_o__n___', 'non_gnom_n_o__n___', 'non_gnom_n_o__n___', 'non_gnom_n_ou_n___', 'nonignominiou_n___', 'nonignominiou_ne__', 'nonignominiousness', '', '', '', '', '', '', ''], ['nonn_nonn_', 'nonnynonny', '', '', '', '', '', '', '', '', '', '', '', '', '', '', '', '', '', '', ''], ['__r___r', '__r___r', '__r___r', '__r___r', '__r___r', '__r___r', '__r___r', '', '', '', '', '', '', '', '', '', '', '', '', '', ''], ['_oo_oo', 'zoozoo', '', '', '', '', '', '', '', '', '', '', '', '', '', '', '', '', '', '', ''], ['diacetylmorp_ine', 'diacetylmorp_ine', 'diacetylmorp_ine', 'diacetylmorp_ine', 'diacetylmorp_ine', 'diacetylmorphine', '', '', '', '', '', '', '', '', '', '', '', '', '', '', ''], ['_l_ctro_nc_phalographs', '_l_ctro_nc_phalographs', '_l_ctro_nc_phalographs', 'electroencephalographs', '', '', '', '', '', '', '', '', '', '', '', '', '', '', '', '', ''], ['undiscover_bility', 'undiscover_bility', 'undiscover_bility', 'undiscoverability', '', '', '', '', '', '', '', '', '', '', '', '', '', '', '', '', ''], ['_i_____y__a______y', '_i_____y__a______y', '_i_r__ry__a______y', '_i_r__ry__a______y', '_i_r__ry__a______y', '_i_r__ry__a______y', '_i_r__ry__a______y', '_i_r__ry__a______y', '', '', '', '', '', '', '', '', '', '', '', '', ''], ['foreallege_', 'foreallege_', 'forealleged', '', '', '', '', '', '', '', '', '', '', '', '', '', '', '', '', '', ''], ['__________', '_d________', '_d_______c', '_d_______c', '_d_______c', '_d_______c', '_d_______c', '_d_______c', '_d____e__c', '_d____e__c', '', '', '', '', '', '', '', '', '', '', ''], ['____', '__t_', '__t_', '__t_', '_lt_', 'alta', '', '', '', '', '', '', '', '', '', '', '', '', '', '', ''], ['infinit_infinitesimal', 'infinit_infinitesimal', 'infinit_infinitesimal', 'infinit_infinitesimal', 'infinit_infinitesimal', 'infinit_infinitesimal', 'infinitoinfinitesimal', '', '', '', '', '', '', '', '', '', '', '', '', '', ''], ['__d_e_____', '__dse_____', '__dse_____', '__dse__i__', 'w_dse__i__', 'w_dse__i__', 'w_dse__i_g', 'w_dse__i_g', 'wadse__i_g', 'wadse__i_g', 'wadsetti_g', 'wadsetting', '', '', '', '', '', '', '', '', ''], ['__mm_____', '__mm_____', '__mm___ss', '__mm___ss', '__mmi__ss', '__mmi_ess', 'd_mmi_ess', 'dummi_ess', 'dumminess', '', '', '', '', '', '', '', '', '', '', '', ''], ['u_di__o__r__ili_y', 'u_di__o__ra_ili_y', 'u_di__o__rabili_y', 'u_di_co__rabili_y', 'u_di_co__rabili_y', 'u_disco__rabili_y', 'u_disco_erabili_y', 'undisco_erabili_y', 'undiscoverabili_y', 'undiscoverability', '', '', '', '', '', '', '', '', '', '', ''], ['____r___________', '____r___________', '__p_r___________', '__p_r___________', '__p_r___________', '__p_r___________', '__p_r___________', '__p_r___________', '', '', '', '', '', '', '', '', '', '', '', '', ''], ['______r__', '_____ar__', '__cc_ar__', '__cc_ar__', 'd_cc_ar__', 'd_cc_ar_s', 'd_cc_ar_s', 'd_cc_ar_s', 'd_cc_ar_s', 'd_cc_ar_s', 'd_cc_ar_s', '', '', '', '', '', '', '', '', '', ''], ['br__an__nebr__an__nes', 'br__ant_nebr__ant_nes', 'bri_antinebri_antines', 'bri_antinebri_antines', 'bri_antinebri_antines', 'brigantinebrigantines', '', '', '', '', '', '', '', '', '', '', '', '', '', '', ''], ['_o', 'ho', '', '', '', '', '', '', '', '', '', '', '', '', '', '', '', '', '', '', ''], ['_easton', 'beaston', '', '', '', '', '', '', '', '', '', '', '', '', '', '', '', '', '', '', ''], ['_____________________', '_____________________', 'm__________m_____m___', 'm_______l__m_____m___', 'm_______l__m_____m___', 'm_______l__m_____m___', 'm____t__l__m_____m___', 'm____t__l_sm_____m__s', 'm____t__l_sm_____m_cs', 'ma___t__lasma___am_cs', 'ma___t__lasma___am_cs', 'ma___to_lasma___am_cs', 'mag__to_lasma___am_cs', 'mag_eto_lasma___am_cs', 'mag_eto_lasma___am_cs', 'mag_eto_lasma_y_am_cs', 'mag_eto_lasma_y_am_cs', '', '', '', ''], ['stereophotogr_mmetry', 'stereophotogrammetry', '', '', '', '', '', '', '', '', '', '', '', '', '', '', '', '', '', '', ''], ['i________i______', 'i________i______', 'i________i______', 'i________i______', 'i________i_____y', 'i________i_____y', 'i___rr___i_____y', 'i___rr___i_____y', 'i___rr___i_____y', '', '', '', '', '', '', '', '', '', '', '', ''], ['_________l__________', '_________l__________', '_________l_________y', '_________l_________y', '___h_____l_________y', '___h_____l_________y', '___h_____l_________y', '___h_____l_________y', '___h_____l_________y', '', '', '', '', '', '', '', '', '', '', '', ''], ['_d__thet_c', '_di_thetic', 'adiathetic', '', '', '', '', '', '', '', '', '', '', '', '', '', '', '', '', '', ''], ['_elll_st', '_elllost', '_elllost', 'welllost', '', '', '', '', '', '', '', '', '', '', '', '', '', '', '', '', ''], ['rig_ties', 'rig_ties', 'rig_ties', 'rig_ties', 'rig_ties', 'righties', '', '', '', '', '', '', '', '', '', '', '', '', '', '', ''], ['_n__nctili__s', '_np_nctili__s', '_np_nctili__s', '_np_nctilio_s', 'unpunctilious', '', '', '', '', '', '', '', '', '', '', '', '', '', '', '', ''], ['four_hdimensional', 'fourthdimensional', '', '', '', '', '', '', '', '', '', '', '', '', '', '', '', '', '', '', ''], ['gna_snapp_r', 'gna_snapp_r', 'gna_snapp_r', 'gna_snapper', 'gnatsnapper', '', '', '', '', '', '', '', '', '', '', '', '', '', '', '', ''], ['vacc_n_ac_a_', 'vacc_n_aceae', 'vacciniaceae', '', '', '', '', '', '', '', '', '', '', '', '', '', '', '', '', '', ''], ['_nn_w_n', 'annawan', '', '', '', '', '', '', '', '', '', '', '', '', '', '', '', '', '', '', ''], ['vacc_n_ac_a_', 'vacc_n_ac_a_', 'vacciniac_a_', 'vacciniaceae', '', '', '', '', '', '', '', '', '', '', '', '', '', '', '', '', ''], ['_____or__r', '_____or__r', '_____or__r', '_____or__r', '___h_or__r', '___h_or__r', '___h_or__r', '___h_or__r', '', '', '', '', '', '', '', '', '', '', '', '', ''], ['_azzinian', 'mazzinian', '', '', '', '', '', '', '', '', '', '', '', '', '', '', '', '', '', '', ''], ['____b', '__aab', '__aab', '__aab', '__aab', '__aab', '__aab', '_laab', 'glaab', '', '', '', '', '', '', '', '', '', '', '', ''], ['__r____________', '__r___e______e_', '__r___e______e_', '__r___e______e_', '__r___e______e_', '__r___e___m__e_', '__r___e___m__e_', '__r___e___m__e_', '__r___e___m__e_', '', '', '', '', '', '', '', '', '', '', '', ''], ['undiscover_bility', 'undiscover_bility', 'undiscover_bility', 'undiscover_bility', 'undiscoverability', '', '', '', '', '', '', '', '', '', '', '', '', '', '', '', ''], ['bullfigh_ers', 'bullfighters', '', '', '', '', '', '', '', '', '', '', '', '', '', '', '', '', '', '', ''], ['p_opne_mo_hole__s_i_is', 'p_opne_mo_hole__s_i_is', 'p_opne_mo_hole__s_i_is', 'p_opne_mo_hole__s_i_is', 'p_opne_mo_hole__s_i_is', 'p_opne_mocholec_s_i_is', 'p_opne_mocholec_s_i_is', 'p_opne_mocholec_stitis', 'p_opne_mocholec_stitis', '', '', '', '', '', '', '', '', '', '', '', ''], ['________', 'a_______', 'a_______', 'a__u____', 'a__u____', 'a__u____', 'a__u____', 'a__u____', 'a__u____', '', '', '', '', '', '', '', '', '', '', '', ''], ['___r_', '___r_', '___r_', '_n_r_', '_n_r_', '_nar_', '_narl', '_narl', 'snarl', '', '', '', '', '', '', '', '', '', '', '', ''], ['__n_____', '__n_l___', '__n_l_ss', 'v_n_l_ss', 'v_n_l_ss', 'v_n_l_ss', 'v_neless', 'v_neless', 'v_neless', 'v_neless', 'v_neless', '', '', '', '', '', '', '', '', '', ''], ['preblock_ding', 'preblock_ding', 'preblockading', '', '', '', '', '', '', '', '', '', '', '', '', '', '', '', '', '', ''], ['represe_tatio_alist', 'represe_tatio_alist', 'represe_tatio_alist', 'represe_tatio_alist', 'representationalist', '', '', '', '', '', '', '', '', '', '', '', '', '', '', '', ''], ['fa_i__', 'fa_i__', 'fa_i__', 'fa_is_', 'fa_is_', 'fa_is_', 'fa_is_', 'fa_is_', '', '', '', '', '', '', '', '', '', '', '', '', ''], ['_____d______________', '_____d______________', '_____d______________', '_____d______________', '_____d______________', '_____d______________', '_____d______________', '', '', '', '', '', '', '', '', '', '', '', '', '', ''], ['___e____________________', '__ie__i_i____i______i___', '__ie__i_i____i______i___', '__ie__i_i____i______i___', '__ie__i_i____i______i___', '__ie__i_i____i______i___', '__ie__i_i____i______i___', '__ie__i_i____i______i___', '', '', '', '', '', '', '', '', '', '', '', '', ''], ['__m_syc_ist', '__m_syc_ist', '_am_syc_ist', '_am_sychist', '_am_sychist', 'pampsychist', '', '', '', '', '', '', '', '', '', '', '', '', '', '', ''], ['tob__o', 'tob__o', 'tob__o', 'tob__o', 'tob__o', 'tob__o', 'toba_o', 'toba_o', '', '', '', '', '', '', '', '', '', '', '', '', ''], ['nonignominiou_ne__', 'nonignominiousness', '', '', '', '', '', '', '', '', '', '', '', '', '', '', '', '', '', '', ''], ['_h__h_', '_h__h_', 'th__h_', 'th__h_', 'thu_h_', 'thu_hi', 'thu_hi', 'thu_hi', 'thushi', '', '', '', '', '', '', '', '', '', '', '', ''], ['_nt_eccles__st_c_ll_', 'ant_eccles_ast_call_', 'ant_eccles_ast_call_', 'ant_eccles_ast_call_', 'ant_eccles_ast_cally', 'ant_eccles_ast_cally', 'ant_eccles_ast_cally', 'antiecclesiastically', '', '', '', '', '', '', '', '', '', '', '', '', ''], ['_____f________', '_____f________', '_____f________', '_____f________', '_____f________', '_____f________', 'a____f___a____', 'a____f___a____', '', '', '', '', '', '', '', '', '', '', '', '', ''], ['_____________', '_n___________', '_n___________', '_n___________', '_n___________', '_n___________', '_n___________', '_n___________', '', '', '', '', '', '', '', '', '', '', '', '', ''], ['____h_____h_____', 's___h_s___h____s', 's___h_s___h_r__s', 'su__h_su__hur_us', 'su__h_su__hur_us', 'su_ph_su_phur_us', 'su_ph_su_phur_us', 'sulph_sulphur_us', 'sulphosulphurous', '', '', '', '', '', '', '', '', '', '', '', ''], ['nonf_ctitiousness', 'nonf_ctitiousness', 'nonf_ctitiousness', 'nonf_ctitiousness', 'nonfactitiousness', '', '', '', '', '', '', '', '', '', '', '', '', '', '', '', ''], ['cas_ro', 'cas_ro', 'cas_ro', 'cas_ro', 'cas_ro', 'cas_ro', 'cas_ro', '', '', '', '', '', '', '', '', '', '', '', '', '', ''], ['ner_o_sl_', 'ner_ousl_', 'ner_ousl_', 'ner_ousl_', 'nervousl_', 'nervously', '', '', '', '', '', '', '', '', '', '', '', '', '', '', ''], ['_____l_', '_a___l_', '_a___l_', '_ai__l_', '_aip_l_', '_aip_le', 'faip_le', 'faipule', '', '', '', '', '', '', '', '', '', '', '', '', ''], ['_______________e__', '___i____i_i____e__', '___i____i_i____e__', '___i____i_i____e__', '___i____i_i____e__', '___i____i_i____e__', '_o_i__o_i_io___e__', '_o_i__o_i_io_s_ess', '_o_i__o_i_io_s_ess', '_o_i__omi_io_s_ess', 'noni_nominio_sness', 'nonignominio_sness', 'nonignominiousness', '', '', '', '', '', '', '', ''], ['___________________', '__p________________', '__p___o____________', '__p___o____________', '__p___o____________', '__p___o_m__________', '__p__fo_m__________', '__p_rform__________', '__p_rform__________', '__p_rform__a_______', '__perform__a__e_e__', '__perform__a_le_e__', '__performi_a_le_e__', '__performi_able_e__', 's_performi_able_ess', 's_performidable_ess', 'superformidable_ess', 'superformidable_ess', 'superformidableness', '', ''], ['_______________', '______________s', '_________v____s', '___e_____v___es', '___e_____v___es', '___e___t_v_t_es', '___e___t_v_t_es', '__pe___t_v_t_es', '__pe___t_v_t_es', 'h_pe___t_v_t_es', 'h_pe___t_v_t_es', 'h_pe_a_t_v_t_es', 'h_pera_t_v_t_es', 'h_pera_t_v_t_es', 'hypera_t_v_t_es', 'hypera_tivities', 'hyperactivities', '', '', '', ''], ['vacc_n_aceae', 'vacciniaceae', '', '', '', '', '', '', '', '', '', '', '', '', '', '', '', '', '', '', ''], ['s___l', 's___l', 's_ool', 'stool', '', '', '', '', '', '', '', '', '', '', '', '', '', '', '', '', ''], ['____l__', '____l__', '____l_a', '____lea', '_i__lea', '_i__lea', '_i__lea', '_i_glea', '_i_glea', '_idglea', 'ridglea', '', '', '', '', '', '', '', '', '', ''], ['a__a', 'al_a', 'alta', '', '', '', '', '', '', '', '', '', '', '', '', '', '', '', '', '', ''], ['_seud_i_te__ati__alistic', '_seud_i_te__ati__alistic', '_seud_i_te__ati__alistic', '_seud_i_te__ati__alistic', '_seud_i_ter_ati__alistic', '_seud_i_ter_ati__alistic', '_seud_i_ter_ati__alistic', '_seud_internati_nalistic', '_seud_internati_nalistic', '', '', '', '', '', '', '', '', '', '', '', ''], ['__d__d', '__d__d', '__d__d', 'e_d__d', 'eld__d', 'eld_id', 'eldrid', '', '', '', '', '', '', '', '', '', '', '', '', '', ''], ['________', '_____e__', '_ss__e__', '_ss__e__', '_ss__en_', '_ss_men_', '_ss_men_', 'ass_men_', 'ass_men_', 'ass_ment', 'assument', '', '', '', '', '', '', '', '', '', ''], ['he_iparasitis_', 'he_iparasitis_', 'he_iparasitis_', 'he_iparasitis_', 'hemiparasitism', '', '', '', '', '', '', '', '', '', '', '', '', '', '', '', ''], ['___x___', 'r__x___', 'r__x___', 'r__x___', 'r__x___', 'r__xi__', 'r__xis_', 'r__xis_', 'reexis_', 'reexist', '', '', '', '', '', '', '', '', '', '', ''], ['________', '______a_', '__p___a_', '_yp__ya_', 'hyp_hya_', 'hypohya_', 'hypohyal', '', '', '', '', '', '', '', '', '', '', '', '', '', ''], ['______a_____', '_____ga_____', '_____ga_____', '___u_ga_____', '___u_ga_____', '___u_ga____s', '___u_ga___ns', '___u_ga___ns', '___u_ga___ns', '___u_ga_i_ns', '___u_ga_i_ns', '___u_ga_i_ns', '', '', '', '', '', '', '', '', ''], ['_________', 'a__a_a__a', 'arra_a__a', 'arra_a_ha', 'arracacha', '', '', '', '', '', '', '', '', '', '', '', '', '', '', '', ''], ['a_a_a', 'alala', '', '', '', '', '', '', '', '', '', '', '', '', '', '', '', '', '', '', ''], ['__s_line', '_rs_line', 'ursuline', '', '', '', '', '', '', '', '', '', '', '', '', '', '', '', '', '', ''], ['s____t_____g__g________', 's____t_____g__g__p_____', 's____t_____g__g__p_____', 's____t_____g__g__p_____', 's_i__ti_i__g__g__p_i___', 's_i__ti_i__g__g_ap_i_a_', 's_i__ti_i__g__grap_i_a_', 'sci__ti_ic_g__grap_ica_', 'sci__ti_ic_g__graphica_', 'scie_ti_ic_ge_graphica_', 'scie_ti_ic_ge_graphical', 'scie_ti_ic_ge_graphical', 'scie_tific_ge_graphical', 'scie_tific_ge_graphical', 'scientific_ge_graphical', 'scientificogeographical', '', '', '', '', ''], ['____', '__y_', 'c_y_', 'c_y_', 'c_ye', 'c_ye', 'c_ye', 'c_ye', 'caye', '', '', '', '', '', '', '', '', '', '', '', ''], ['_se___i__e____i____is_i_', '_se___i__e____i____is_i_', '_se___i__e____i____is_i_', '_se___i__e____i____is_ic', '_se___i__e____i____is_ic', '_se___i__e____i____is_ic', '_se___in_e_n__i_n__is_ic', '_se___in_ern__i_n__is_ic', '_se_d_in_ern__i_n__is_ic', '_se_d_in_ern__i_n_lis_ic', '_se_d_in_ern__i_n_lis_ic', '_se_doin_ern__ion_lis_ic', '_se_doin_ern__ion_lis_ic', '', '', '', '', '', '', '', ''], ['_am_sychist', 'pampsychist', '', '', '', '', '', '', '', '', '', '', '', '', '', '', '', '', '', '', ''], ['mi__wrighting', 'mi__wrighting', 'mi__wrighting', 'mi__wrighting', 'mi__wrighting', 'mi__wrighting', 'mi__wrighting', '', '', '', '', '', '', '', '', '', '', '', '', '', ''], ['stereop_oto_r_mmetry', 'stereop_oto_r_mmetry', 'stereop_oto_r_mmetry', 'stereophoto_r_mmetry', 'stereophoto_r_mmetry', 'stereophoto_r_mmetry', 'stereophoto_r_mmetry', 'stereophoto_rammetry', 'stereophoto_rammetry', '', '', '', '', '', '', '', '', '', '', '', ''], ['___ct____c__h_______h_c__', '___ct____c__h_______h_c__', '___ct____c__h_______h_c__', 'e_ect__e_ce_h_______h_c__', 'e_ect__e_ce_h_______h_c__', 'e_ect__e_ce_h_______h_c__', 'e_ect__e_ce_h_______h_c__', 'e_ect__e_ce_h_______h_c__', '', '', '', '', '', '', '', '', '', '', '', '', ''], ['_c_______r__', '_ce______r__', '_ce___u__r__', '_ce___u__r__', 'ace_a_u_ar_a', 'ace_a_u_ar_a', 'ace_a_ular_a', 'ace_a_ularia', 'ace_a_ularia', 'ace_a_ularia', 'aceta_ularia', 'acetabularia', '', '', '', '', '', '', '', '', ''], ['____e___es__s_______', 'a___e___es_as___a___', 'a___e___es_as___a___', 'a___e___es_as___a___', 'an__e___es_as___a___', 'an__e___es_as___a__y', 'an__e___es_as___a__y', 'an_ie___esias_i_a__y', 'an_ie___esias_i_a__y', 'antie___esiasti_a__y', 'antiecc_esiastica__y', 'antiecclesiastically', '', '', '', '', '', '', '', '', ''], ['scientific_phil_s_phical', 'scientific_phil_s_phical', 'scientific_phil_s_phical', 'scientific_phil_s_phical', 'scientific_phil_s_phical', 'scientific_phil_s_phical', 'scientific_phil_s_phical', '', '', '', '', '', '', '', '', '', '', '', '', '', ''], ['feverfe_', 'feverfew', '', '', '', '', '', '', '', '', '', '', '', '', '', '', '', '', '', '', ''], ['subp____ss__sh_p', 'subp____ss__sh_p', 'subp____ss__sh_p', 'subp_o__sso_sh_p', 'subp_o__sso_sh_p', 'subp_o__sso_ship', 'subp_o__sso_ship', 'subp_o__sso_ship', 'subp_o_esso_ship', 'subp_o_esso_ship', '', '', '', '', '', '', '', '', '', '', ''], ['desoxyr_bonucleoprote_n', 'desoxyribonucleoprotein', '', '', '', '', '', '', '', '', '', '', '', '', '', '', '', '', '', '', ''], ['___________________', '_____t____tt__t____', '_____te___tte_t_e__', '_____te___tte_t_e__', 'n_n_nte___ttentne__', 'n_ninte__ittentne__', 'noninte__ittentne__', 'noninte__ittentness', 'noninter_ittentness', 'nonintermittentness', '', '', '', '', '', '', '', '', '', '', ''], ['g_nn_', 'ginni', '', '', '', '', '', '', '', '', '', '', '', '', '', '', '', '', '', '', ''], ['________', '________', '________', '____a___', '____a___', '____a___', '___ra___', '___ra___', '___ra___', '', '', '', '', '', '', '', '', '', '', '', ''], ['____o__l_', '_e__o__l_', '_e__o_sl_', '_e__ousl_', '_e_vousl_', '_e_vously', '_ervously', '_ervously', 'nervously', '', '', '', '', '', '', '', '', '', '', '', ''], ['___________________', '___________________', '___________________', '____________o______', 'r__r________o______', 'r__r_____a__o_a____', 'r__r_____a__o_a____', 'r__r_____a__o_al___', 'r__r_____a__o_al___', 'r__r_____a_io_ali__', 'r__r_____a_io_ali__', 'r__r_s___a_io_alis_', 'r__r_s_n_a_ionalis_', 're_resen_a_ionalis_', 're_resen_a_ionalis_', '', '', '', '', '', ''], ['nonignominiou_ne__', 'nonignominiousness', '', '', '', '', '', '', '', '', '', '', '', '', '', '', '', '', '', '', ''], ['___', 'zzz', '', '', '', '', '', '', '', '', '', '', '', '', '', '', '', '', '', '', ''], ['____________________', '______d_____d_______', '______d_____d_______', '______d_____d_______', '______d_____d_______', '______d_____d_______', '______d_____d_______', '______d_____d_______', '', '', '', '', '', '', '', '', '', '', '', '', ''], ['_____a_____g', '_____a_____g', '_____a_____g', '_____al____g', '_____al____g', '_____al____g', '__v__al____g', '__v__al_z__g', '__v__alizi_g', '__v__alizi_g', '__v__alizi_g', '', '', '', '', '', '', '', '', '', ''], ['c_ronot_ermometer', 'c_ronot_ermometer', 'chronothermometer', '', '', '', '', '', '', '', '', '', '', '', '', '', '', '', '', '', ''], ['_nbea_teo_sness', 'unbeauteousness', '', '', '', '', '', '', '', '', '', '', '', '', '', '', '', '', '', '', ''], ['k_igsberg', 'knigsberg', '', '', '', '', '', '', '', '', '', '', '', '', '', '', '', '', '', '', ''], ['______p________', '____s_p______ss', '____s_p______ss', '____s_p______ss', '____s_p______ss', 'g___s_p______ss', 'g___s_p______ss', 'g___s_p____n_ss', 'g___s_p____n_ss', 'gr__s_pr___n_ss', 'gr__s_proo_n_ss', 'gr_as_proo_n_ss', 'gr_as_proofn_ss', 'gr_as_proofn_ss', '', '', '', '', '', '', ''], ['_________________', '_____________a___', '_e___e__e____a___', '_e___e__e____a__y', '_e___e__et___a__y', '_e_i_e__et_i_a__y', '_e_i_e__et_i_a__y', '_e_i_eo_et_i_a__y', '_e_igeo_et_i_a__y', '_e_igeo_et_ica__y', '_e_igeo_et_ically', 'se_igeo_et_ically', 'semigeomet_ically', 'semigeometrically', '', '', '', '', '', '', ''], ['su_era__ai_able_ess', 'su_era__ai_able_ess', 'su_erattai_able_ess', 'su_erattainableness', 'superattainableness', '', '', '', '', '', '', '', '', '', '', '', '', '', '', '', ''], ['_', '_', '_', '_', '_', '_', 'i', '', '', '', '', '', '', '', '', '', '', '', '', '', ''], ['_________e_________e_', '_________e_________e_', '_________e_________e_', '_________e_________e_', '_________e_________e_', '_________e_________e_', '_________e_________e_', '', '', '', '', '', '', '', '', '', '', '', '', '', ''], ['___e____e_e__', 'i__e__i_e_e__', 'in_e__inene__', 'in_es_ineness', 'intestineness', '', '', '', '', '', '', '', '', '', '', '', '', '', '', '', ''], ['_____________________', '_____________________', '_____________________', '_____________________', '_____________________', '_____________________', '____d_________d______', '____d_________d______', '', '', '', '', '', '', '', '', '', '', '', '', ''], ['c_rono__ermome_er', 'c_rono__ermome_er', 'c_rono__ermome_er', 'c_rono__ermome_er', 'chrono_hermome_er', 'chrono_hermome_er', 'chrono_hermome_er', 'chrono_hermome_er', '', '', '', '', '', '', '', '', '', '', '', '', ''], ['u_____tly', 'u_____tly', 'u_i___tly', 'unin__tly', 'unin_rtly', 'uninertly', '', '', '', '', '', '', '', '', '', '', '', '', '', '', ''], ['i_putrescence', 'i_putrescence', 'imputrescence', '', '', '', '', '', '', '', '', '', '', '', '', '', '', '', '', '', ''], ['_am_sychist', 'pampsychist', '', '', '', '', '', '', '', '', '', '', '', '', '', '', '', '', '', '', ''], ['so_r_op', 'sour_op', 'sourtop', '', '', '', '', '', '', '', '', '', '', '', '', '', '', '', '', '', ''], ['four_hdimensional', 'fourthdimensional', '', '', '', '', '', '', '', '', '', '', '', '', '', '', '', '', '', '', ''], ['hy__hya_', 'hy__hyal', 'hyp_hyal', 'hyp_hyal', 'hyp_hyal', 'hyp_hyal', 'hyp_hyal', 'hyp_hyal', 'hyp_hyal', '', '', '', '', '', '', '', '', '', '', '', ''], ['___________', '__r________', '_or________', 'for________', 'for________', 'for__ll____', 'for__ll___d', 'fore_lle_ed', 'fore_lleged', 'forealleged', '', '', '', '', '', '', '', '', '', '', ''], ['__aston', '_easton', 'beaston', '', '', '', '', '', '', '', '', '', '', '', '', '', '', '', '', '', ''], ['irrever_ible', 'irrever_ible', 'irrevertible', '', '', '', '', '', '', '', '', '', '', '', '', '', '', '', '', '', ''], ['un_ontemporaneousness', 'uncontemporaneousness', '', '', '', '', '', '', '', '', '', '', '', '', '', '', '', '', '', '', ''], ['detacher_', 'detacher_', 'detacher_', 'detacher_', 'detachers', '', '', '', '', '', '', '', '', '', '', '', '', '', '', '', ''], ['a_r', 'abr', '', '', '', '', '', '', '', '', '', '', '', '', '', '', '', '', '', '', ''], ['___', 'zzz', '', '', '', '', '', '', '', '', '', '', '', '', '', '', '', '', '', '', ''], ['_nbea_teo_sness', 'unbeauteousness', '', '', '', '', '', '', '', '', '', '', '', '', '', '', '', '', '', '', ''], ['__________________', '__________________', '_______g__________', '______ag__________', '______ag__________', '______ag__________', '______ag__________', '______ag__________', 's_____ag__________', 's_____ag__________', '', '', '', '', '', '', '', '', '', '', ''], ['subpro_essorship', 'subpro_essorship', 'subpro_essorship', 'subpro_essorship', 'subpro_essorship', 'subprofessorship', '', '', '', '', '', '', '', '', '', '', '', '', '', '', ''], ['___________', '_________u_', '________ou_', '_______rou_', '____i__rou_', '____i__rou_', '___si__rous', '___si__rous', '___si__rous', '___sif_rous', '___siferous', 'g__siferous', 'g_psiferous', 'g_psiferous', 'gypsiferous', '', '', '', '', '', ''], ['_iwa', '_iwa', 'biwa', '', '', '', '', '', '', '', '', '', '', '', '', '', '', '', '', '', ''], ['___r_', '__ar_', '__arl', '_narl', '_narl', 'snarl', '', '', '', '', '', '', '', '', '', '', '', '', '', '', ''], ['succ_nylsulphath_azole', 'succinylsulphathiazole', '', '', '', '', '', '', '', '', '', '', '', '', '', '', '', '', '', '', ''], ['_u_l_gi_lation', 'su_l_gislation', 'su_l_gislation', 'su_legislation', 'sublegislation', '', '', '', '', '', '', '', '', '', '', '', '', '', '', '', ''], ['__pot_a____i_m', '__potra____i_m', '__potra___li_m', '__potrac__li_m', '__potrac_eli_m', '_ypotrac_eli_m', 'hypotracheli_m', 'hypotrachelium', '', '', '', '', '', '', '', '', '', '', '', '', ''], ['_our_h__mens_onal', '_our_hd_mens_onal', '_ourthd_mens_onal', '_ourthdimensional', 'fourthdimensional', '', '', '', '', '', '', '', '', '', '', '', '', '', '', '', ''], ['hy_err_d__ulous_ess', 'hy_err_d__ulous_ess', 'hy_err_d__ulousness', 'hy_err_d_culousness', 'hy_erridiculousness', 'hyperridiculousness', '', '', '', '', '', '', '', '', '', '', '', '', '', '', ''], ['_______', '______a', '__y___a', 'o_y___a', 'o_y___a', 'o_y___a', 'ony___a', 'ony__ia', 'ony__ia', 'ony_hia', 'onychia', '', '', '', '', '', '', '', '', '', ''], ['trim_ristate', 'trimyristate', '', '', '', '', '', '', '', '', '', '', '', '', '', '', '', '', '', '', ''], ['i___t_e_cence', 'i___t_e_cence', 'i___t_e_cence', 'i___t_e_cence', 'im__t_e_cence', 'im__t_e_cence', 'imp_t_e_cence', 'imp_t_e_cence', 'imp_t_e_cence', '', '', '', '', '', '', '', '', '', '', '', ''], ['p_l_p_l_', 'palapala', '', '', '', '', '', '', '', '', '', '', '', '', '', '', '', '', '', '', ''], ['__nn___nn___', '__nn___nn_c_', 'k_nn_k_nn_ck', 'k_nn_k_nn_ck', 'kinnikinnick', '', '', '', '', '', '', '', '', '', '', '', '', '', '', '', '']]\n",
      "[['k', 'v', 'x', 's', '', '', '', '', '', '', '', '', '', '', '', '', '', '', '', ''], ['o', 'x', 'h', 'a', 'p', 'g', 't', 'm', 'k', 'c', 'f', '', '', '', '', '', '', '', '', ''], ['f', 'l', 'y', 'c', 'm', 'u', '', '', '', '', '', '', '', '', '', '', '', '', '', ''], ['x', 'l', 'o', 'y', 'v', 'u', '', '', '', '', '', '', '', '', '', '', '', '', '', ''], ['n', 'a', 'g', 'v', 'y', 'w', '', '', '', '', '', '', '', '', '', '', '', '', '', ''], ['w', 'n', 'h', 'z', 'm', 'p', 'g', 'u', '', '', '', '', '', '', '', '', '', '', '', ''], ['e', '', '', '', '', '', '', '', '', '', '', '', '', '', '', '', '', '', '', ''], ['i', '', '', '', '', '', '', '', '', '', '', '', '', '', '', '', '', '', '', ''], ['k', 't', 'v', 'z', 'm', 'x', '', '', '', '', '', '', '', '', '', '', '', '', '', ''], ['o', '', '', '', '', '', '', '', '', '', '', '', '', '', '', '', '', '', '', ''], ['u', 't', 'r', 'e', 'a', 'l', 'z', 's', '', '', '', '', '', '', '', '', '', '', '', ''], ['t', 'y', 'o', 'i', 'n', 'a', 's', 'j', 'm', '', '', '', '', '', '', '', '', '', '', ''], ['n', 'c', 'l', 'z', 'e', 'v', '', '', '', '', '', '', '', '', '', '', '', '', '', ''], ['g', 'o', 'm', 'j', 'n', 'k', '', '', '', '', '', '', '', '', '', '', '', '', '', ''], ['l', 'h', 'r', 's', 'f', 'j', 'n', 'e', '', '', '', '', '', '', '', '', '', '', '', ''], ['p', 'u', '', '', '', '', '', '', '', '', '', '', '', '', '', '', '', '', '', ''], ['s', 'i', 'd', 'h', 'u', 'r', 't', '', '', '', '', '', '', '', '', '', '', '', '', ''], ['g', 'o', '', '', '', '', '', '', '', '', '', '', '', '', '', '', '', '', '', ''], ['l', 'e', '', '', '', '', '', '', '', '', '', '', '', '', '', '', '', '', '', ''], ['x', 'w', 'z', 'u', 'n', 's', 'k', '', '', '', '', '', '', '', '', '', '', '', '', ''], ['i', 'e', 'u', 's', 't', 'r', 'p', 'q', 'a', '', '', '', '', '', '', '', '', '', '', ''], ['t', 'm', 'l', 'y', 'q', 'f', 'e', 's', 'w', 'o', 'c', '', '', '', '', '', '', '', '', ''], ['e', 'a', '', '', '', '', '', '', '', '', '', '', '', '', '', '', '', '', '', ''], ['s', 'i', '', '', '', '', '', '', '', '', '', '', '', '', '', '', '', '', '', ''], ['o', 'y', 'b', 'e', 'w', 't', 'g', 'j', 'c', '', '', '', '', '', '', '', '', '', '', ''], ['h', 'u', 'm', 'q', 'b', 'y', 's', 't', '', '', '', '', '', '', '', '', '', '', '', ''], ['z', 'j', 'b', 'u', 'm', 'w', '', '', '', '', '', '', '', '', '', '', '', '', '', ''], ['a', 'v', 'r', '', '', '', '', '', '', '', '', '', '', '', '', '', '', '', '', ''], ['o', 'c', 'g', 'r', 'k', 'e', 'u', 'f', 'z', '', '', '', '', '', '', '', '', '', '', ''], ['v', 'e', '', '', '', '', '', '', '', '', '', '', '', '', '', '', '', '', '', ''], ['w', '', '', '', '', '', '', '', '', '', '', '', '', '', '', '', '', '', '', ''], ['p', 'g', 'b', 'u', 'j', 'y', '', '', '', '', '', '', '', '', '', '', '', '', '', ''], ['i', 'q', 'e', 'c', 'u', 'z', 'p', '', '', '', '', '', '', '', '', '', '', '', '', ''], ['b', 'h', 't', 'p', 'z', 'd', 'u', 'l', 'a', 'g', 'c', 's', 'i', 'r', 'y', 'o', '', '', '', ''], ['g', 'd', 't', '', '', '', '', '', '', '', '', '', '', '', '', '', '', '', '', ''], ['y', 'i', 'x', 's', 'l', 'p', '', '', '', '', '', '', '', '', '', '', '', '', '', ''], ['n', 'q', 'm', '', '', '', '', '', '', '', '', '', '', '', '', '', '', '', '', ''], ['g', '', '', '', '', '', '', '', '', '', '', '', '', '', '', '', '', '', '', ''], ['i', 'n', 'g', '', '', '', '', '', '', '', '', '', '', '', '', '', '', '', '', ''], ['w', 'j', 'e', 'm', 's', 'l', 'g', 'd', '', '', '', '', '', '', '', '', '', '', '', ''], ['g', 'f', 'l', 'z', 'a', 'e', 'x', 'h', 'i', 'j', '', '', '', '', '', '', '', '', '', ''], ['g', 'x', 'k', 'j', 'z', 'c', '', '', '', '', '', '', '', '', '', '', '', '', '', ''], ['x', 'z', 'a', 'w', 'p', 'y', 'l', 'e', 'h', 'g', '', '', '', '', '', '', '', '', '', ''], ['o', 'l', 'j', 'm', 'r', 'b', 'z', 'g', '', '', '', '', '', '', '', '', '', '', '', ''], ['u', 'p', 'n', 'i', 's', 'r', 'v', 'f', 'c', 'j', 'l', 'a', 'k', 't', 'y', 'o', 'e', '', '', ''], ['s', 'd', 'f', 't', '', '', '', '', '', '', '', '', '', '', '', '', '', '', '', ''], ['c', 'u', 'r', 'y', 'l', 's', 'q', 'z', '', '', '', '', '', '', '', '', '', '', '', ''], ['v', 'b', 'g', 'q', 'e', '', '', '', '', '', '', '', '', '', '', '', '', '', '', ''], ['y', 'v', 'b', 'a', 'c', 'l', 'n', 'p', 'w', 'i', 'r', 'h', 'f', 'q', 'e', 'o', '', '', '', ''], ['l', '', '', '', '', '', '', '', '', '', '', '', '', '', '', '', '', '', '', ''], ['t', '', '', '', '', '', '', '', '', '', '', '', '', '', '', '', '', '', '', ''], ['e', '', '', '', '', '', '', '', '', '', '', '', '', '', '', '', '', '', '', ''], ['y', 's', '', '', '', '', '', '', '', '', '', '', '', '', '', '', '', '', '', ''], ['p', 't', 's', 'i', 'n', 'r', '', '', '', '', '', '', '', '', '', '', '', '', '', ''], ['i', 'g', 'x', 'a', 'b', 'c', 'j', '', '', '', '', '', '', '', '', '', '', '', '', ''], ['c', 'v', 's', 'y', 'r', 'p', 'x', 'e', 'i', 'f', 'k', '', '', '', '', '', '', '', '', ''], ['w', '', '', '', '', '', '', '', '', '', '', '', '', '', '', '', '', '', '', ''], ['r', 'h', '', '', '', '', '', '', '', '', '', '', '', '', '', '', '', '', '', ''], ['v', 'a', 'n', 'f', 'h', 'i', 'u', 'o', 'g', 'l', 'm', 'q', 'c', 'r', 't', '', '', '', '', ''], ['n', '', '', '', '', '', '', '', '', '', '', '', '', '', '', '', '', '', '', ''], ['l', 'j', 'a', 'x', 't', 'f', 'i', '', '', '', '', '', '', '', '', '', '', '', '', ''], ['u', 'o', '', '', '', '', '', '', '', '', '', '', '', '', '', '', '', '', '', ''], ['k', 'h', 'f', 'a', 'j', 'z', 't', 'b', 'i', 'x', '', '', '', '', '', '', '', '', '', ''], ['u', 'b', 'h', 'y', 'o', 'f', 'n', '', '', '', '', '', '', '', '', '', '', '', '', ''], ['k', 'h', 'q', 'z', 'm', 'd', '', '', '', '', '', '', '', '', '', '', '', '', '', ''], ['d', 'y', 'e', 'w', 'u', 'g', 'm', '', '', '', '', '', '', '', '', '', '', '', '', ''], ['p', 'g', 'e', '', '', '', '', '', '', '', '', '', '', '', '', '', '', '', '', ''], ['u', 'o', 'i', 'f', 'm', 'r', 'v', 'n', 'c', 'y', 'q', 'k', '', '', '', '', '', '', '', ''], ['t', 'j', 'e', 'c', 'r', 'o', 'f', 'm', 'g', '', '', '', '', '', '', '', '', '', '', ''], ['e', 'i', 'o', 'y', 'm', 'z', 'd', '', '', '', '', '', '', '', '', '', '', '', '', ''], ['q', 'v', 'i', 'g', 'k', 'j', '', '', '', '', '', '', '', '', '', '', '', '', '', ''], ['l', 'n', 'm', '', '', '', '', '', '', '', '', '', '', '', '', '', '', '', '', ''], ['a', 'o', 'z', 'e', 'n', 'j', 'l', 'i', 'k', 'p', 'h', 'm', 'u', '', '', '', '', '', '', ''], ['m', 'z', 'l', 'k', 'e', '', '', '', '', '', '', '', '', '', '', '', '', '', '', ''], ['y', 'b', 'o', 'l', 'c', 'u', 'q', 'a', 'n', 'p', 'i', 'h', 'r', 'd', 'k', 'f', 's', 'g', '', ''], ['i', 'v', 'x', 'p', 'a', 'c', 'm', 'j', 'h', 'o', 'd', 'g', 'n', 'b', 'y', 'e', 't', 's', '', ''], ['s', 'b', 'g', 'c', 'y', 'h', 'e', 'm', 'k', 'j', 'w', '', '', '', '', '', '', '', '', ''], ['o', '', '', '', '', '', '', '', '', '', '', '', '', '', '', '', '', '', '', ''], ['f', 'g', 'd', 'q', 'i', 'm', 'b', 'w', '', '', '', '', '', '', '', '', '', '', '', ''], ['y', 'k', 'x', 'e', 'n', 'h', 'v', 'u', 'r', 'o', 'a', 'd', 'i', 'b', 'c', '', '', '', '', ''], ['q', 'z', 't', '', '', '', '', '', '', '', '', '', '', '', '', '', '', '', '', ''], ['r', '', '', '', '', '', '', '', '', '', '', '', '', '', '', '', '', '', '', ''], ['t', '', '', '', '', '', '', '', '', '', '', '', '', '', '', '', '', '', '', ''], ['i', '', '', '', '', '', '', '', '', '', '', '', '', '', '', '', '', '', '', ''], ['m', '', '', '', '', '', '', '', '', '', '', '', '', '', '', '', '', '', '', ''], ['w', 'g', 't', 'c', 'e', 's', 'k', 'v', 'h', '', '', '', '', '', '', '', '', '', '', ''], ['k', 'l', 'n', 'e', 'u', 'f', '', '', '', '', '', '', '', '', '', '', '', '', '', ''], ['k', 'f', 'd', 'n', 'q', 'h', '', '', '', '', '', '', '', '', '', '', '', '', '', ''], ['x', 'u', 'o', 'l', 'b', 's', 'y', 'z', '', '', '', '', '', '', '', '', '', '', '', ''], ['i', 's', 'a', 'j', 't', 'c', 'w', 'y', 'n', 'l', '', '', '', '', '', '', '', '', '', ''], ['p', 'g', 'a', 'm', 'o', 'z', '', '', '', '', '', '', '', '', '', '', '', '', '', ''], ['s', '', '', '', '', '', '', '', '', '', '', '', '', '', '', '', '', '', '', ''], ['z', 'x', 'p', 'f', 'c', 'k', '', '', '', '', '', '', '', '', '', '', '', '', '', ''], ['p', 'k', 'b', 's', 'n', 'g', 'i', 'e', 'r', '', '', '', '', '', '', '', '', '', '', ''], ['i', 'm', 's', 'z', 'w', 'j', 'p', 'b', '', '', '', '', '', '', '', '', '', '', '', ''], ['m', 'i', 'r', 'y', 'j', 'b', 'n', 'h', 'q', 'e', 's', 'v', '', '', '', '', '', '', '', ''], ['m', 'j', 'k', 's', 'q', 'x', 'o', 'g', 'd', 'h', '', '', '', '', '', '', '', '', '', ''], ['j', 'p', 't', 'c', 'a', 'r', '', '', '', '', '', '', '', '', '', '', '', '', '', ''], ['r', 's', 'z', 'f', 'j', 'i', '', '', '', '', '', '', '', '', '', '', '', '', '', ''], ['e', 'o', '', '', '', '', '', '', '', '', '', '', '', '', '', '', '', '', '', ''], ['a', 's', 'e', 'o', 'u', 'n', 'b', '', '', '', '', '', '', '', '', '', '', '', '', ''], ['l', 'v', 'o', '', '', '', '', '', '', '', '', '', '', '', '', '', '', '', '', ''], ['j', 'p', 's', 'q', 'g', 'w', 'k', '', '', '', '', '', '', '', '', '', '', '', '', ''], ['o', 'k', 'j', 'y', 'f', 'n', 's', '', '', '', '', '', '', '', '', '', '', '', '', ''], ['i', 'r', '', '', '', '', '', '', '', '', '', '', '', '', '', '', '', '', '', ''], ['r', 'k', 'i', 'b', 'p', 'l', '', '', '', '', '', '', '', '', '', '', '', '', '', ''], ['a', 'i', 'q', 'v', 'b', 'h', '', '', '', '', '', '', '', '', '', '', '', '', '', ''], ['o', '', '', '', '', '', '', '', '', '', '', '', '', '', '', '', '', '', '', ''], ['w', 'c', 's', 'k', 'b', 'z', 't', 'j', '', '', '', '', '', '', '', '', '', '', '', ''], ['z', 'h', 'a', 's', 't', 'w', 'r', 'c', 'x', 'e', 'y', 'g', 'p', 'k', 'q', '', '', '', '', ''], ['i', 'k', 'e', '', '', '', '', '', '', '', '', '', '', '', '', '', '', '', '', ''], ['w', 'h', '', '', '', '', '', '', '', '', '', '', '', '', '', '', '', '', '', ''], ['h', 's', 'm', 'y', 'g', 'f', 'i', 'n', 'e', 'a', 'o', 'r', 'w', 'p', 't', 'u', 'd', '', '', ''], ['a', 'o', '', '', '', '', '', '', '', '', '', '', '', '', '', '', '', '', '', ''], ['k', 'a', 'o', '', '', '', '', '', '', '', '', '', '', '', '', '', '', '', '', ''], ['x', 'u', 'b', 't', 'm', 's', 'l', '', '', '', '', '', '', '', '', '', '', '', '', ''], ['m', 'c', 'x', 'b', 't', 'u', '', '', '', '', '', '', '', '', '', '', '', '', '', ''], ['s', 'i', 't', '', '', '', '', '', '', '', '', '', '', '', '', '', '', '', '', ''], ['w', 'u', 'o', 'z', 's', 't', 'm', 'r', '', '', '', '', '', '', '', '', '', '', '', ''], ['s', 'q', 'z', 'p', '', '', '', '', '', '', '', '', '', '', '', '', '', '', '', ''], ['a', 's', 'd', 'v', 'n', 'r', 'e', 'q', 'l', '', '', '', '', '', '', '', '', '', '', ''], ['f', 'o', '', '', '', '', '', '', '', '', '', '', '', '', '', '', '', '', '', ''], ['m', 'o', 'h', 'i', 'g', 'e', 'p', 'b', 's', '', '', '', '', '', '', '', '', '', '', ''], ['m', 'i', 's', 'u', 'c', 'z', 't', 'w', '', '', '', '', '', '', '', '', '', '', '', ''], ['s', 'd', 'g', 'c', 'z', 'a', '', '', '', '', '', '', '', '', '', '', '', '', '', ''], ['u', '', '', '', '', '', '', '', '', '', '', '', '', '', '', '', '', '', '', ''], ['r', 'd', 'e', 'z', 'n', 'x', 'c', '', '', '', '', '', '', '', '', '', '', '', '', ''], ['r', 'e', 'q', 't', 'y', 'g', 'o', 'v', 'l', 'u', 's', 'k', 'n', '', '', '', '', '', '', ''], ['l', 'x', 'm', 'c', 'i', 'y', 'z', 'a', 'r', 'w', 'f', 'q', 'e', 'o', 'u', 'b', '', '', '', ''], ['d', 'q', 'm', 'n', 'h', 'v', '', '', '', '', '', '', '', '', '', '', '', '', '', ''], ['s', 'b', 'd', 'c', 't', 'r', 'a', 'e', 'h', '', '', '', '', '', '', '', '', '', '', ''], ['u', 'i', 'o', '', '', '', '', '', '', '', '', '', '', '', '', '', '', '', '', ''], ['l', '', '', '', '', '', '', '', '', '', '', '', '', '', '', '', '', '', '', ''], ['z', 'd', 'v', 'w', 'u', 'r', '', '', '', '', '', '', '', '', '', '', '', '', '', ''], ['b', 'q', 'j', 'k', 'm', 'w', '', '', '', '', '', '', '', '', '', '', '', '', '', ''], ['g', 'f', 'b', 'r', 'e', 'w', '', '', '', '', '', '', '', '', '', '', '', '', '', ''], ['r', 'o', 'a', 'c', 'g', 'l', '', '', '', '', '', '', '', '', '', '', '', '', '', ''], ['m', 'k', 'l', 'u', 'x', 'v', 'g', 's', 'w', 'i', '', '', '', '', '', '', '', '', '', ''], ['t', '', '', '', '', '', '', '', '', '', '', '', '', '', '', '', '', '', '', ''], ['w', 'f', 'a', 'k', 'y', 'z', '', '', '', '', '', '', '', '', '', '', '', '', '', ''], ['w', 'l', 'm', 'o', 'e', 'j', 'n', 'q', 't', 'd', 's', '', '', '', '', '', '', '', '', ''], ['e', 'i', 'a', 'y', 'p', 'n', 'h', 'v', 'l', 't', '', '', '', '', '', '', '', '', '', ''], ['c', '', '', '', '', '', '', '', '', '', '', '', '', '', '', '', '', '', '', ''], ['c', 'j', 'b', 't', 'a', 'v', '', '', '', '', '', '', '', '', '', '', '', '', '', ''], ['w', 'h', 'f', 'g', 'y', 'l', '', '', '', '', '', '', '', '', '', '', '', '', '', ''], ['w', 'h', '', '', '', '', '', '', '', '', '', '', '', '', '', '', '', '', '', ''], ['o', 'l', 'w', 't', 's', '', '', '', '', '', '', '', '', '', '', '', '', '', '', ''], ['w', 'v', 'e', 't', 'm', 'y', 's', '', '', '', '', '', '', '', '', '', '', '', '', ''], ['m', 'i', 'n', '', '', '', '', '', '', '', '', '', '', '', '', '', '', '', '', ''], ['g', '', '', '', '', '', '', '', '', '', '', '', '', '', '', '', '', '', '', ''], ['j', 's', 'i', 'p', 'e', 'u', 'q', 'r', 'y', 'k', 'l', 'f', 'n', 'x', 'o', 'a', 'h', 'd', 'c', ''], ['w', 'c', 'g', 'z', 's', 'j', 'l', 'q', '', '', '', '', '', '', '', '', '', '', '', ''], ['w', 'n', 'h', 'p', 'r', 'b', 'u', '', '', '', '', '', '', '', '', '', '', '', '', ''], ['t', 'v', 'a', 'w', 'o', 'l', 'q', 'm', '', '', '', '', '', '', '', '', '', '', '', ''], ['o', '', '', '', '', '', '', '', '', '', '', '', '', '', '', '', '', '', '', ''], ['i', '', '', '', '', '', '', '', '', '', '', '', '', '', '', '', '', '', '', ''], ['t', 'e', '', '', '', '', '', '', '', '', '', '', '', '', '', '', '', '', '', ''], ['q', 'k', 'g', 'y', 'i', 'u', '', '', '', '', '', '', '', '', '', '', '', '', '', ''], ['t', 'i', '', '', '', '', '', '', '', '', '', '', '', '', '', '', '', '', '', ''], ['c', 'v', 'u', 'e', 'l', '', '', '', '', '', '', '', '', '', '', '', '', '', '', ''], ['l', 'e', 'm', 'o', 'f', 'a', '', '', '', '', '', '', '', '', '', '', '', '', '', ''], ['d', 'm', 'n', 'q', 'f', 'i', '', '', '', '', '', '', '', '', '', '', '', '', '', ''], ['d', 'u', 'j', 'o', 'h', 's', 'l', 'p', 'a', 'e', '', '', '', '', '', '', '', '', '', ''], ['e', '', '', '', '', '', '', '', '', '', '', '', '', '', '', '', '', '', '', ''], ['n', 'y', 'w', 'b', 'e', 's', 't', 'f', 'u', 'z', 'd', 'g', '', '', '', '', '', '', '', ''], ['u', 'r', 'e', '', '', '', '', '', '', '', '', '', '', '', '', '', '', '', '', ''], ['v', 'j', 'p', 'k', 'f', 's', '', '', '', '', '', '', '', '', '', '', '', '', '', ''], ['d', 'c', 'g', 'h', 'x', 'k', 'n', '', '', '', '', '', '', '', '', '', '', '', '', ''], ['i', '', '', '', '', '', '', '', '', '', '', '', '', '', '', '', '', '', '', ''], ['r', 's', 'o', 't', 'a', '', '', '', '', '', '', '', '', '', '', '', '', '', '', ''], ['w', 'h', 'k', 'a', 'z', 'f', '', '', '', '', '', '', '', '', '', '', '', '', '', ''], ['z', '', '', '', '', '', '', '', '', '', '', '', '', '', '', '', '', '', '', ''], ['o', 's', 'x', 'p', 'm', 'w', '', '', '', '', '', '', '', '', '', '', '', '', '', ''], ['r', 'e', 'z', 'o', 'u', 'b', 'w', 'k', 's', 'n', 'a', '', '', '', '', '', '', '', '', ''], ['u', 'o', '', '', '', '', '', '', '', '', '', '', '', '', '', '', '', '', '', ''], ['b', 'm', 'q', 's', 'u', 'v', 'y', 'n', 'e', 'k', '', '', '', '', '', '', '', '', '', ''], ['u', 'e', 't', 'h', 'a', 'y', 'n', 'i', 'l', 'r', 'g', '', '', '', '', '', '', '', '', ''], ['c', 'd', 'p', 'k', 'f', 'z', 's', 'r', 'j', '', '', '', '', '', '', '', '', '', '', ''], ['d', 'r', 'z', 'm', 'y', 'x', 'j', '', '', '', '', '', '', '', '', '', '', '', '', ''], ['z', 'r', 'd', 'u', 'f', 'l', 'h', '', '', '', '', '', '', '', '', '', '', '', '', ''], ['j', 'v', 'd', 'q', 't', 'h', 'g', '', '', '', '', '', '', '', '', '', '', '', '', ''], ['t', 'e', 'c', 'p', 'k', 'd', 'a', 's', 'h', 'i', 'm', 'r', 'l', '', '', '', '', '', '', ''], ['s', 'j', 'm', 'e', 'f', 'i', 'w', 'q', 'g', 'k', '', '', '', '', '', '', '', '', '', ''], ['r', '', '', '', '', '', '', '', '', '', '', '', '', '', '', '', '', '', '', ''], ['y', 's', 'r', 'p', 'u', 'o', 'l', '', '', '', '', '', '', '', '', '', '', '', '', ''], ['y', 'z', 'q', 'w', 'x', 'b', '', '', '', '', '', '', '', '', '', '', '', '', '', ''], ['n', '', '', '', '', '', '', '', '', '', '', '', '', '', '', '', '', '', '', ''], ['y', 'o', 'z', 'l', 'q', 'g', 'v', 'f', 'w', 'h', '', '', '', '', '', '', '', '', '', ''], ['v', 'h', 'r', 'k', 'u', 'b', 'g', 'i', '', '', '', '', '', '', '', '', '', '', '', ''], ['h', 'm', '', '', '', '', '', '', '', '', '', '', '', '', '', '', '', '', '', ''], ['o', 'c', 'h', 'q', 'l', 'p', 'y', 'u', 'k', 'z', 'm', '', '', '', '', '', '', '', '', ''], ['s', '', '', '', '', '', '', '', '', '', '', '', '', '', '', '', '', '', '', ''], ['f', '', '', '', '', '', '', '', '', '', '', '', '', '', '', '', '', '', '', ''], ['a', 'z', 's', 'x', 'r', 'm', 'y', 'n', 'q', '', '', '', '', '', '', '', '', '', '', ''], ['m', '', '', '', '', '', '', '', '', '', '', '', '', '', '', '', '', '', '', ''], ['x', 'i', '', '', '', '', '', '', '', '', '', '', '', '', '', '', '', '', '', ''], ['y', 'w', 'l', 's', 'z', 'j', 'h', '', '', '', '', '', '', '', '', '', '', '', '', ''], ['f', 'w', 'o', 'k', 'e', 'r', '', '', '', '', '', '', '', '', '', '', '', '', '', ''], ['m', 'o', 'n', '', '', '', '', '', '', '', '', '', '', '', '', '', '', '', '', ''], ['u', '', '', '', '', '', '', '', '', '', '', '', '', '', '', '', '', '', '', ''], ['l', 'g', 'd', 'm', 'o', 'z', 'k', 'v', '', '', '', '', '', '', '', '', '', '', '', ''], ['h', '', '', '', '', '', '', '', '', '', '', '', '', '', '', '', '', '', '', ''], ['b', '', '', '', '', '', '', '', '', '', '', '', '', '', '', '', '', '', '', ''], ['a', 'i', '', '', '', '', '', '', '', '', '', '', '', '', '', '', '', '', '', ''], ['v', 'o', '', '', '', '', '', '', '', '', '', '', '', '', '', '', '', '', '', ''], ['c', 'b', 'y', 'd', 'z', 's', 't', 'r', 'x', '', '', '', '', '', '', '', '', '', '', ''], ['v', 'j', 'm', 'e', 'd', 'i', '', '', '', '', '', '', '', '', '', '', '', '', '', ''], ['z', 'd', 'n', 'u', 'a', 'i', 'o', 'c', 'l', 'b', 'r', 's', '', '', '', '', '', '', '', ''], ['h', 'n', 'o', 'l', 'r', 'u', 'i', 's', 'k', 'd', '', '', '', '', '', '', '', '', '', ''], ['n', 'i', 'e', 'g', '', '', '', '', '', '', '', '', '', '', '', '', '', '', '', ''], ['u', 'i', 'w', 'n', 'm', 'd', 'e', 's', '', '', '', '', '', '', '', '', '', '', '', ''], ['p', 'y', 'z', 'n', 'q', 'x', '', '', '', '', '', '', '', '', '', '', '', '', '', ''], ['t', 'l', 'h', 'b', 'c', 'u', 'o', 'd', 'w', 'f', 'r', '', '', '', '', '', '', '', '', ''], ['i', 'x', 'g', 'f', 'w', 'l', 's', 'p', '', '', '', '', '', '', '', '', '', '', '', ''], ['q', 'd', 'w', 'f', 'b', 'm', '', '', '', '', '', '', '', '', '', '', '', '', '', ''], ['j', 'c', 'p', 'h', 'm', 's', 'r', 'g', 'b', 'q', '', '', '', '', '', '', '', '', '', ''], ['v', 'r', 'l', 'u', 'p', 't', 'c', 'f', '', '', '', '', '', '', '', '', '', '', '', ''], ['i', 'd', 'p', 't', 'c', 'e', 'q', 'x', 'h', 'v', 'j', '', '', '', '', '', '', '', '', ''], ['o', 'e', 'u', 'q', 'b', '', '', '', '', '', '', '', '', '', '', '', '', '', '', ''], ['v', 'a', 'm', 'c', 'r', '', '', '', '', '', '', '', '', '', '', '', '', '', '', ''], ['s', '', '', '', '', '', '', '', '', '', '', '', '', '', '', '', '', '', '', ''], ['a', '', '', '', '', '', '', '', '', '', '', '', '', '', '', '', '', '', '', ''], ['a', 'v', 'x', 'h', 'd', 'g', 'y', 'q', '', '', '', '', '', '', '', '', '', '', '', ''], ['y', 'i', '', '', '', '', '', '', '', '', '', '', '', '', '', '', '', '', '', ''], ['r', 's', 'n', 'm', 't', 'o', 'e', '', '', '', '', '', '', '', '', '', '', '', '', ''], ['t', 'e', 'x', 'v', 'r', 'g', 'o', 'a', 'i', 'n', 's', 'u', 'k', '', '', '', '', '', '', ''], ['w', 'j', 'a', 'f', '', '', '', '', '', '', '', '', '', '', '', '', '', '', '', ''], ['s', 'j', 'b', 'v', 'o', 'd', 'w', 'e', 'i', 'm', 'f', '', '', '', '', '', '', '', '', ''], ['i', 'e', 'n', '', '', '', '', '', '', '', '', '', '', '', '', '', '', '', '', ''], ['o', 'w', '', '', '', '', '', '', '', '', '', '', '', '', '', '', '', '', '', ''], ['j', 'q', 'u', 'f', 'p', 'z', '', '', '', '', '', '', '', '', '', '', '', '', '', ''], ['i', '', '', '', '', '', '', '', '', '', '', '', '', '', '', '', '', '', '', ''], ['j', 'f', 'c', 'g', 'i', 'e', 'a', 'b', '', '', '', '', '', '', '', '', '', '', '', ''], ['b', '', '', '', '', '', '', '', '', '', '', '', '', '', '', '', '', '', '', ''], ['w', 'l', '', '', '', '', '', '', '', '', '', '', '', '', '', '', '', '', '', ''], ['y', 'p', 'b', 'r', 'k', 'f', 'l', '', '', '', '', '', '', '', '', '', '', '', '', ''], ['h', '', '', '', '', '', '', '', '', '', '', '', '', '', '', '', '', '', '', ''], ['a', 'q', 'd', 'y', 'z', 'p', '', '', '', '', '', '', '', '', '', '', '', '', '', ''], ['c', 'e', 'y', 'a', '', '', '', '', '', '', '', '', '', '', '', '', '', '', '', ''], ['o', 'r', 'i', 'd', 'm', 'e', 't', 'n', 'h', '', '', '', '', '', '', '', '', '', '', ''], ['c', '', '', '', '', '', '', '', '', '', '', '', '', '', '', '', '', '', '', ''], ['g', 'f', 'e', 'k', 'q', 'l', 'd', '', '', '', '', '', '', '', '', '', '', '', '', ''], ['b', 'j', 'd', 'q', 's', 'z', 'h', 'm', '', '', '', '', '', '', '', '', '', '', '', ''], ['r', '', '', '', '', '', '', '', '', '', '', '', '', '', '', '', '', '', '', ''], ['x', 'o', 'k', 's', 'd', 'y', 'r', 'a', 'n', 'h', '', '', '', '', '', '', '', '', '', ''], ['i', '', '', '', '', '', '', '', '', '', '', '', '', '', '', '', '', '', '', ''], ['t', 'd', 'n', 'h', 'c', 'i', 'a', '', '', '', '', '', '', '', '', '', '', '', '', ''], ['w', 'e', 'y', 'b', 'i', 'a', 'k', 'r', 'f', '', '', '', '', '', '', '', '', '', '', ''], ['f', 'u', 'w', 'b', 't', 's', 'g', '', '', '', '', '', '', '', '', '', '', '', '', ''], ['h', '', '', '', '', '', '', '', '', '', '', '', '', '', '', '', '', '', '', ''], ['m', 'x', 's', 'g', 'u', '', '', '', '', '', '', '', '', '', '', '', '', '', '', ''], ['g', 'f', 'z', 'j', 'x', 'k', '', '', '', '', '', '', '', '', '', '', '', '', '', ''], ['t', 'c', 'v', 's', 'h', 'i', 'e', 'n', '', '', '', '', '', '', '', '', '', '', '', ''], ['z', 'd', 'r', 's', 'v', 't', 'e', 'c', 'i', 'p', 'f', 'n', 'q', '', '', '', '', '', '', ''], ['d', 'p', 'n', 'c', 'i', 'k', 'y', 'l', 'u', 'o', 'r', '', '', '', '', '', '', '', '', ''], ['d', '', '', '', '', '', '', '', '', '', '', '', '', '', '', '', '', '', '', ''], ['y', 'g', 'q', 'f', 't', 'l', '', '', '', '', '', '', '', '', '', '', '', '', '', ''], ['h', 'u', 'e', 'i', 'c', 'l', 'y', 'k', 'v', 'w', 'n', '', '', '', '', '', '', '', '', ''], ['m', 'b', '', '', '', '', '', '', '', '', '', '', '', '', '', '', '', '', '', ''], ['s', 'u', 'h', 'e', 'g', 'r', 'y', 'o', '', '', '', '', '', '', '', '', '', '', '', ''], ['s', 'y', 'g', 'd', 'a', 'i', '', '', '', '', '', '', '', '', '', '', '', '', '', ''], ['q', 'p', 'n', 'a', 'w', 'h', 'd', 'g', '', '', '', '', '', '', '', '', '', '', '', ''], ['g', 'a', 'n', '', '', '', '', '', '', '', '', '', '', '', '', '', '', '', '', ''], ['i', 'h', 'p', 'n', 'b', 'c', 'q', 's', 'l', 't', 'y', 'o', 'r', 'e', 'm', 'a', '', '', '', ''], ['v', 'f', 'd', 'l', 'u', 'a', '', '', '', '', '', '', '', '', '', '', '', '', '', ''], ['i', 'a', 'j', 'b', 'z', 's', 'r', '', '', '', '', '', '', '', '', '', '', '', '', ''], ['k', 'a', '', '', '', '', '', '', '', '', '', '', '', '', '', '', '', '', '', ''], ['x', 'm', 'z', 'r', 't', 'p', 'v', 'q', 'y', '', '', '', '', '', '', '', '', '', '', ''], ['f', 'g', 'j', 'd', 'b', 'x', 's', '', '', '', '', '', '', '', '', '', '', '', '', ''], ['g', 'q', 'n', 'r', 'l', 'h', '', '', '', '', '', '', '', '', '', '', '', '', '', ''], ['y', 'j', 'm', 'e', '', '', '', '', '', '', '', '', '', '', '', '', '', '', '', ''], ['d', 'o', 'v', 'q', 'z', 'f', 't', 'w', '', '', '', '', '', '', '', '', '', '', '', ''], ['d', 'i', 'x', 'g', 'a', 'o', 'm', 'h', 's', 'r', 'u', 'p', '', '', '', '', '', '', '', ''], ['t', 'o', 's', 'e', 'a', 'v', 'u', 'r', 'f', 'n', '', '', '', '', '', '', '', '', '', ''], ['a', 'i', 't', 'z', 'p', 'e', '', '', '', '', '', '', '', '', '', '', '', '', '', ''], ['b', 'o', '', '', '', '', '', '', '', '', '', '', '', '', '', '', '', '', '', ''], ['u', 'f', 'y', 't', 'h', 'z', 'b', '', '', '', '', '', '', '', '', '', '', '', '', ''], ['p', 'h', 't', '', '', '', '', '', '', '', '', '', '', '', '', '', '', '', '', ''], ['d', 'b', 'j', 'q', 'k', 's', 'f', '', '', '', '', '', '', '', '', '', '', '', '', ''], ['q', 'y', 'z', 'd', 'b', 'h', 's', 'w', 'f', 'x', '', '', '', '', '', '', '', '', '', ''], ['f', '', '', '', '', '', '', '', '', '', '', '', '', '', '', '', '', '', '', ''], ['y', 'u', 'n', 'c', 'o', 'p', 'w', 'q', 'a', 'r', 'h', 'g', '', '', '', '', '', '', '', ''], ['p', '', '', '', '', '', '', '', '', '', '', '', '', '', '', '', '', '', '', ''], ['j', 'k', 'x', 't', 'q', 'e', 'f', 'd', '', '', '', '', '', '', '', '', '', '', '', ''], ['t', 'd', '', '', '', '', '', '', '', '', '', '', '', '', '', '', '', '', '', ''], ['q', 'z', 'u', 'n', '', '', '', '', '', '', '', '', '', '', '', '', '', '', '', ''], ['p', 'g', 'b', 'z', 'o', '', '', '', '', '', '', '', '', '', '', '', '', '', '', ''], ['w', 'l', 'g', 'i', 'h', 'z', '', '', '', '', '', '', '', '', '', '', '', '', '', ''], ['v', 'k', 'h', '', '', '', '', '', '', '', '', '', '', '', '', '', '', '', '', ''], ['y', 'n', '', '', '', '', '', '', '', '', '', '', '', '', '', '', '', '', '', ''], ['f', 'g', 'm', 'l', 'b', 'h', 'q', '', '', '', '', '', '', '', '', '', '', '', '', ''], ['a', 't', 'c', 'f', 'n', 'q', 'g', 'i', 'b', 'u', 'o', '', '', '', '', '', '', '', '', ''], ['l', 'r', 'f', 's', 'i', 'h', 't', 'u', 'e', '', '', '', '', '', '', '', '', '', '', ''], ['f', 'm', 'o', 'u', 'h', 'r', 'd', '', '', '', '', '', '', '', '', '', '', '', '', ''], ['k', 'i', '', '', '', '', '', '', '', '', '', '', '', '', '', '', '', '', '', ''], ['m', 'o', 'x', 'b', 'p', 'i', 'v', 'l', 'e', 'h', 'r', 'd', 's', 'n', '', '', '', '', '', ''], ['a', '', '', '', '', '', '', '', '', '', '', '', '', '', '', '', '', '', '', ''], ['i', '', '', '', '', '', '', '', '', '', '', '', '', '', '', '', '', '', '', ''], ['u', 'p', 'n', 'g', 'x', 'r', 'w', 'l', 'j', 'y', 'h', '', '', '', '', '', '', '', '', ''], ['s', 'n', '', '', '', '', '', '', '', '', '', '', '', '', '', '', '', '', '', ''], ['n', 'a', '', '', '', '', '', '', '', '', '', '', '', '', '', '', '', '', '', ''], ['e', '', '', '', '', '', '', '', '', '', '', '', '', '', '', '', '', '', '', ''], ['h', 'n', '', '', '', '', '', '', '', '', '', '', '', '', '', '', '', '', '', ''], ['f', '', '', '', '', '', '', '', '', '', '', '', '', '', '', '', '', '', '', ''], ['o', '', '', '', '', '', '', '', '', '', '', '', '', '', '', '', '', '', '', ''], ['b', '', '', '', '', '', '', '', '', '', '', '', '', '', '', '', '', '', '', ''], ['h', '', '', '', '', '', '', '', '', '', '', '', '', '', '', '', '', '', '', ''], ['z', 'd', 'x', 'b', 'u', 'k', '', '', '', '', '', '', '', '', '', '', '', '', '', ''], ['q', 'u', 'z', 'f', 'g', 'x', '', '', '', '', '', '', '', '', '', '', '', '', '', ''], ['r', '', '', '', '', '', '', '', '', '', '', '', '', '', '', '', '', '', '', ''], ['r', '', '', '', '', '', '', '', '', '', '', '', '', '', '', '', '', '', '', ''], ['e', 'm', 'd', 'x', 't', 'o', 's', 'n', 'l', '', '', '', '', '', '', '', '', '', '', ''], ['z', 'x', 'q', 'c', 'o', 'm', 'y', 'n', 'b', 'r', 'd', 'h', '', '', '', '', '', '', '', ''], ['x', 'w', '', '', '', '', '', '', '', '', '', '', '', '', '', '', '', '', '', ''], ['f', 'a', '', '', '', '', '', '', '', '', '', '', '', '', '', '', '', '', '', ''], ['u', 'y', 'c', 'j', 's', 'k', 'b', '', '', '', '', '', '', '', '', '', '', '', '', ''], ['e', 'j', 'q', 'g', 'u', 's', 'x', 'z', 'a', 'o', 'h', '', '', '', '', '', '', '', '', ''], ['k', 'b', 's', '', '', '', '', '', '', '', '', '', '', '', '', '', '', '', '', ''], ['p', '', '', '', '', '', '', '', '', '', '', '', '', '', '', '', '', '', '', ''], ['z', 't', 'o', '', '', '', '', '', '', '', '', '', '', '', '', '', '', '', '', ''], ['h', 'v', 'r', 'f', 'p', 'g', 'e', 'q', '', '', '', '', '', '', '', '', '', '', '', ''], ['e', 'r', 'n', '', '', '', '', '', '', '', '', '', '', '', '', '', '', '', '', ''], ['a', 'e', 's', 'b', 'c', 'u', 'n', '', '', '', '', '', '', '', '', '', '', '', '', ''], ['v', 'w', 'h', 'x', 'z', 'b', '', '', '', '', '', '', '', '', '', '', '', '', '', ''], ['a', '', '', '', '', '', '', '', '', '', '', '', '', '', '', '', '', '', '', ''], ['o', 'd', 'b', 'g', 'w', 'k', '', '', '', '', '', '', '', '', '', '', '', '', '', ''], ['r', 'a', 'b', 's', '', '', '', '', '', '', '', '', '', '', '', '', '', '', '', ''], ['w', 'u', 'g', 'q', 't', 'o', 's', 'm', 'l', '', '', '', '', '', '', '', '', '', '', ''], ['l', '', '', '', '', '', '', '', '', '', '', '', '', '', '', '', '', '', '', ''], ['i', 's', 't', 'f', 'x', 'z', 'r', 'm', 'j', 'u', 'y', '', '', '', '', '', '', '', '', ''], ['v', 'u', 'x', 'y', 'k', 's', '', '', '', '', '', '', '', '', '', '', '', '', '', ''], ['z', 'd', 'c', 'r', 'w', 'v', 'j', '', '', '', '', '', '', '', '', '', '', '', '', ''], ['r', 'g', 'o', 'i', 'e', 'd', 'm', 'a', '', '', '', '', '', '', '', '', '', '', '', ''], ['f', 'k', 's', 'm', 'i', 'o', 'p', 'x', 'h', 't', '', '', '', '', '', '', '', '', '', ''], ['y', 'j', 'w', 'a', 'x', 'q', 's', 'o', '', '', '', '', '', '', '', '', '', '', '', ''], ['h', '', '', '', '', '', '', '', '', '', '', '', '', '', '', '', '', '', '', ''], ['x', 'n', 'i', 's', 'a', '', '', '', '', '', '', '', '', '', '', '', '', '', '', ''], ['b', 'h', 'z', 'f', 'j', 't', 'y', 'a', 'q', '', '', '', '', '', '', '', '', '', '', ''], ['n', 'b', 'l', 'o', 'p', 'w', 'y', 'j', 'i', 'h', 'd', '', '', '', '', '', '', '', '', ''], ['t', '', '', '', '', '', '', '', '', '', '', '', '', '', '', '', '', '', '', ''], ['a', 'o', 'c', 'r', 'x', 'p', 't', 's', 'u', '', '', '', '', '', '', '', '', '', '', ''], ['l', 'p', 'd', 'h', 'f', 'a', '', '', '', '', '', '', '', '', '', '', '', '', '', ''], ['w', 'b', 'q', 'u', 's', 'i', 'a', '', '', '', '', '', '', '', '', '', '', '', '', ''], ['z', 'j', 'q', 'r', '', '', '', '', '', '', '', '', '', '', '', '', '', '', '', ''], ['u', '', '', '', '', '', '', '', '', '', '', '', '', '', '', '', '', '', '', ''], ['v', 'g', 'f', 'x', 'k', 'i', 'u', 'd', '', '', '', '', '', '', '', '', '', '', '', ''], ['w', 'h', 'y', 'o', '', '', '', '', '', '', '', '', '', '', '', '', '', '', '', ''], ['k', 'z', 'g', 'h', '', '', '', '', '', '', '', '', '', '', '', '', '', '', '', ''], ['r', 'v', 'b', 'a', 'x', 'k', '', '', '', '', '', '', '', '', '', '', '', '', '', ''], ['r', 'x', 'i', 'z', 'o', 'e', '', '', '', '', '', '', '', '', '', '', '', '', '', ''], ['l', 'r', 'w', '', '', '', '', '', '', '', '', '', '', '', '', '', '', '', '', ''], ['v', 'z', 't', 'i', '', '', '', '', '', '', '', '', '', '', '', '', '', '', '', ''], ['g', 'm', 'b', 'i', 'a', 'e', 'n', '', '', '', '', '', '', '', '', '', '', '', '', ''], ['p', 'e', 'v', 'd', 'l', '', '', '', '', '', '', '', '', '', '', '', '', '', '', ''], ['o', 'u', 'y', 'h', 't', 'w', 'x', 'i', 'b', '', '', '', '', '', '', '', '', '', '', ''], ['v', 'j', 's', 'i', '', '', '', '', '', '', '', '', '', '', '', '', '', '', '', ''], ['i', '', '', '', '', '', '', '', '', '', '', '', '', '', '', '', '', '', '', ''], ['q', 's', 'f', 'y', 'a', 'u', 'i', '', '', '', '', '', '', '', '', '', '', '', '', ''], ['q', 'v', 'h', 'y', 'c', 'z', '', '', '', '', '', '', '', '', '', '', '', '', '', ''], ['h', 'r', 'f', 's', 'g', 'z', 'c', '', '', '', '', '', '', '', '', '', '', '', '', ''], ['t', '', '', '', '', '', '', '', '', '', '', '', '', '', '', '', '', '', '', ''], ['a', 'e', 'r', 'b', 'f', 'g', 't', 'o', 'w', 'i', 'c', 'x', 'u', 'n', 'y', '', '', '', '', ''], ['e', 'm', 'n', 'v', 'i', 'c', 'p', 'h', 'z', '', '', '', '', '', '', '', '', '', '', ''], ['e', 's', 'm', '', '', '', '', '', '', '', '', '', '', '', '', '', '', '', '', ''], ['a', '', '', '', '', '', '', '', '', '', '', '', '', '', '', '', '', '', '', ''], ['w', 'z', 'u', 'h', 's', 'f', 'o', '', '', '', '', '', '', '', '', '', '', '', '', ''], ['l', '', '', '', '', '', '', '', '', '', '', '', '', '', '', '', '', '', '', ''], ['g', 'h', 'm', 'd', 'z', 'a', 'i', 'u', 'r', 'x', '', '', '', '', '', '', '', '', '', ''], ['n', 'f', 'l', '', '', '', '', '', '', '', '', '', '', '', '', '', '', '', '', ''], ['l', 'u', '', '', '', '', '', '', '', '', '', '', '', '', '', '', '', '', '', ''], ['e', 'u', 'i', 'l', 'x', 'r', 'd', '', '', '', '', '', '', '', '', '', '', '', '', ''], ['a', 'e', '', '', '', '', '', '', '', '', '', '', '', '', '', '', '', '', '', ''], ['u', 'k', 'l', 'i', 'r', 'e', 'v', 'y', 'h', 'o', 't', 'c', '', '', '', '', '', '', '', ''], ['v', 'f', 'w', 'q', 'j', 't', '', '', '', '', '', '', '', '', '', '', '', '', '', ''], ['d', 'o', 'z', 'u', 'n', 'e', 'i', 's', '', '', '', '', '', '', '', '', '', '', '', ''], ['w', '', '', '', '', '', '', '', '', '', '', '', '', '', '', '', '', '', '', ''], ['l', 't', '', '', '', '', '', '', '', '', '', '', '', '', '', '', '', '', '', ''], ['u', 'q', 'w', 'f', 'k', 'j', 'o', 'v', '', '', '', '', '', '', '', '', '', '', '', ''], ['w', 'b', 'g', 'h', 't', 'i', 'm', 'q', '', '', '', '', '', '', '', '', '', '', '', ''], ['l', 's', 'n', 'e', 'i', 'd', 'b', 'h', 'm', '', '', '', '', '', '', '', '', '', '', ''], ['o', 'j', 'w', 'i', 'b', 'f', '', '', '', '', '', '', '', '', '', '', '', '', '', ''], ['e', 'r', 'n', '', '', '', '', '', '', '', '', '', '', '', '', '', '', '', '', ''], ['w', 'b', 'p', 'm', 'f', 'o', 'l', 'r', 's', '', '', '', '', '', '', '', '', '', '', ''], ['v', 'k', 's', 'i', 'r', 'z', 'o', 'f', 'l', 'e', '', '', '', '', '', '', '', '', '', ''], ['d', 'f', 'y', 'j', 't', 'o', 'q', '', '', '', '', '', '', '', '', '', '', '', '', ''], ['s', 'r', 'g', 'c', 'o', '', '', '', '', '', '', '', '', '', '', '', '', '', '', ''], ['p', 't', 'k', 'j', 'x', 'h', 'b', 'd', '', '', '', '', '', '', '', '', '', '', '', ''], ['y', 'n', 'f', 'o', 'c', 't', 'i', 'u', '', '', '', '', '', '', '', '', '', '', '', ''], ['i', '', '', '', '', '', '', '', '', '', '', '', '', '', '', '', '', '', '', ''], ['f', 'j', 'w', 'm', 's', 'e', 'r', 'o', 't', 'x', 'z', 'h', '', '', '', '', '', '', '', ''], ['a', 'p', 's', 'h', 'y', 'u', 'i', 'g', 't', 'z', 'n', 'e', 'l', '', '', '', '', '', '', ''], ['n', '', '', '', '', '', '', '', '', '', '', '', '', '', '', '', '', '', '', ''], ['e', 'n', 'v', '', '', '', '', '', '', '', '', '', '', '', '', '', '', '', '', ''], ['w', 'r', 'f', 'y', 'x', 'k', 'p', 'v', '', '', '', '', '', '', '', '', '', '', '', ''], ['r', 'c', 'e', 'v', 'h', 'i', 'k', 't', 'b', 'l', '', '', '', '', '', '', '', '', '', ''], ['r', '', '', '', '', '', '', '', '', '', '', '', '', '', '', '', '', '', '', ''], ['w', 'v', 'r', 'z', 'u', 'i', 'b', '', '', '', '', '', '', '', '', '', '', '', '', ''], ['v', 'u', 'h', '', '', '', '', '', '', '', '', '', '', '', '', '', '', '', '', ''], ['p', 'w', 'r', 'j', 't', 's', 'm', 'o', 'g', 'e', 'i', 'y', 'c', 'h', '', '', '', '', '', ''], ['r', 'e', 'd', 'n', 't', 'i', '', '', '', '', '', '', '', '', '', '', '', '', '', ''], ['x', 'n', '', '', '', '', '', '', '', '', '', '', '', '', '', '', '', '', '', ''], ['e', 's', 'w', 'i', 'x', 'r', '', '', '', '', '', '', '', '', '', '', '', '', '', ''], ['g', '', '', '', '', '', '', '', '', '', '', '', '', '', '', '', '', '', '', ''], ['e', '', '', '', '', '', '', '', '', '', '', '', '', '', '', '', '', '', '', ''], ['i', '', '', '', '', '', '', '', '', '', '', '', '', '', '', '', '', '', '', ''], ['b', 'h', 'w', 'v', 'j', 'e', '', '', '', '', '', '', '', '', '', '', '', '', '', ''], ['q', 'y', 'n', '', '', '', '', '', '', '', '', '', '', '', '', '', '', '', '', ''], ['j', 'k', 'y', 'u', 'l', 'a', '', '', '', '', '', '', '', '', '', '', '', '', '', ''], ['t', 'f', 'c', 'v', 'd', 'j', 'b', 'g', '', '', '', '', '', '', '', '', '', '', '', ''], ['z', 'p', 's', 'm', 'g', 'x', 'w', 'q', '', '', '', '', '', '', '', '', '', '', '', ''], ['n', 'r', 'a', 'l', 't', 's', 'e', 'i', 'u', '', '', '', '', '', '', '', '', '', '', ''], ['q', 'u', 'r', 'y', 'x', 'j', 'o', '', '', '', '', '', '', '', '', '', '', '', '', ''], ['h', 'x', 'b', 'r', 'm', 'k', 'p', 'q', '', '', '', '', '', '', '', '', '', '', '', ''], ['p', 'o', 'a', 'k', 't', 'e', '', '', '', '', '', '', '', '', '', '', '', '', '', ''], ['y', 'r', 'o', 'b', 's', 'e', 'f', '', '', '', '', '', '', '', '', '', '', '', '', ''], ['i', 'l', 'o', 'n', 'z', 'v', 'a', '', '', '', '', '', '', '', '', '', '', '', '', ''], ['w', 'v', 'z', 's', 'x', 'h', '', '', '', '', '', '', '', '', '', '', '', '', '', ''], ['u', 'q', 'h', 'y', 'p', 'i', 's', 'l', 'r', '', '', '', '', '', '', '', '', '', '', ''], ['j', 'l', 'c', 'r', 'o', 'p', '', '', '', '', '', '', '', '', '', '', '', '', '', ''], ['f', 'w', 'n', 'y', 'j', 'x', 'a', 't', '', '', '', '', '', '', '', '', '', '', '', ''], ['n', 'm', 's', 'j', 't', 'o', 'q', 'd', 'b', 'w', '', '', '', '', '', '', '', '', '', ''], ['o', 'g', 't', 'p', 'y', 'q', 'r', 'z', 'j', '', '', '', '', '', '', '', '', '', '', ''], ['c', 'r', 'n', 'p', 't', 'f', 'o', 'e', '', '', '', '', '', '', '', '', '', '', '', ''], ['y', 'h', 'z', 'u', 'i', 'r', 'v', '', '', '', '', '', '', '', '', '', '', '', '', ''], ['b', 'z', 'c', '', '', '', '', '', '', '', '', '', '', '', '', '', '', '', '', ''], ['l', 'm', 'r', 'k', 'b', 't', 'q', 'i', '', '', '', '', '', '', '', '', '', '', '', ''], ['t', 's', 'f', 'q', 'b', 'r', 'c', 'x', '', '', '', '', '', '', '', '', '', '', '', ''], ['h', 'u', 'n', 'a', 'm', 't', 'd', '', '', '', '', '', '', '', '', '', '', '', '', ''], ['h', 'p', 'b', 'd', 'i', 'q', 'v', 'o', 'r', 'a', 'j', 'g', 'u', 'y', '', '', '', '', '', ''], ['p', 'f', 'b', 'u', 'q', 'i', 'r', 'e', 'n', 'z', 'l', '', '', '', '', '', '', '', '', ''], ['q', 'o', '', '', '', '', '', '', '', '', '', '', '', '', '', '', '', '', '', ''], ['e', '', '', '', '', '', '', '', '', '', '', '', '', '', '', '', '', '', '', ''], ['j', 'x', 'p', 'b', 'h', 'u', '', '', '', '', '', '', '', '', '', '', '', '', '', ''], ['g', '', '', '', '', '', '', '', '', '', '', '', '', '', '', '', '', '', '', ''], ['n', 'k', 'i', 's', 'd', 'v', 'm', 'a', 'j', '', '', '', '', '', '', '', '', '', '', ''], ['y', 'f', 'r', 'i', 'n', 'q', '', '', '', '', '', '', '', '', '', '', '', '', '', ''], ['f', 't', 'd', 'o', 'h', 'w', 'q', 'k', '', '', '', '', '', '', '', '', '', '', '', ''], ['g', 'm', '', '', '', '', '', '', '', '', '', '', '', '', '', '', '', '', '', ''], ['r', 'o', 't', 's', 'n', 'j', 'y', '', '', '', '', '', '', '', '', '', '', '', '', ''], ['g', 'a', 'f', 'w', 'y', 'x', 'l', '', '', '', '', '', '', '', '', '', '', '', '', ''], ['f', 'r', 'i', 'u', 'o', '', '', '', '', '', '', '', '', '', '', '', '', '', '', ''], ['c', 'k', 'x', 'm', 'i', '', '', '', '', '', '', '', '', '', '', '', '', '', '', ''], ['w', 'y', 'c', '', '', '', '', '', '', '', '', '', '', '', '', '', '', '', '', ''], ['o', 'm', 'h', 'v', 'x', 's', '', '', '', '', '', '', '', '', '', '', '', '', '', ''], ['v', 'i', 'a', 'w', 'g', 'b', 'f', 'e', 'p', 'o', 'x', '', '', '', '', '', '', '', '', ''], ['h', 'i', 'x', 'l', 'u', 'o', 'v', 'f', 'a', 'p', 'z', 'r', 'n', 'e', '', '', '', '', '', ''], ['g', 't', 'a', 'i', '', '', '', '', '', '', '', '', '', '', '', '', '', '', '', ''], ['d', 'm', 'g', 't', 'k', 'h', 'r', 'l', 'o', 'u', 'n', 's', 'f', 'p', 'w', 'q', 'b', '', '', ''], ['s', '', '', '', '', '', '', '', '', '', '', '', '', '', '', '', '', '', '', ''], ['u', 'r', 'g', 'k', 'b', 'z', '', '', '', '', '', '', '', '', '', '', '', '', '', ''], ['c', 't', 'u', 'm', 'i', 'n', 'h', 'o', '', '', '', '', '', '', '', '', '', '', '', ''], ['g', 'z', 't', 'u', 'b', 'a', '', '', '', '', '', '', '', '', '', '', '', '', '', ''], ['y', 'n', 'u', 'f', 'z', 'o', '', '', '', '', '', '', '', '', '', '', '', '', '', ''], ['h', 'j', 'y', 'f', 'm', 'z', '', '', '', '', '', '', '', '', '', '', '', '', '', ''], ['u', 'y', 'g', 'h', 'x', 'k', '', '', '', '', '', '', '', '', '', '', '', '', '', ''], ['m', 's', 'i', '', '', '', '', '', '', '', '', '', '', '', '', '', '', '', '', ''], ['i', '', '', '', '', '', '', '', '', '', '', '', '', '', '', '', '', '', '', ''], ['r', 'p', 'o', 't', 'v', 'n', 's', 'z', 'u', 'l', 'i', '', '', '', '', '', '', '', '', ''], ['o', 'i', '', '', '', '', '', '', '', '', '', '', '', '', '', '', '', '', '', ''], ['s', '', '', '', '', '', '', '', '', '', '', '', '', '', '', '', '', '', '', ''], ['o', '', '', '', '', '', '', '', '', '', '', '', '', '', '', '', '', '', '', ''], ['t', '', '', '', '', '', '', '', '', '', '', '', '', '', '', '', '', '', '', ''], ['s', 'l', 'u', 'a', 'r', 'b', 'f', 'h', 't', 'i', 'e', '', '', '', '', '', '', '', '', ''], ['u', 'p', 'm', 'a', 'v', 'c', 'q', 'y', '', '', '', '', '', '', '', '', '', '', '', ''], ['r', '', '', '', '', '', '', '', '', '', '', '', '', '', '', '', '', '', '', ''], ['r', '', '', '', '', '', '', '', '', '', '', '', '', '', '', '', '', '', '', ''], ['y', 'm', 's', 'u', 'n', 'l', 'i', 'r', '', '', '', '', '', '', '', '', '', '', '', ''], ['i', 's', 'k', 'n', 't', 'e', 'v', 'r', 'p', 'j', '', '', '', '', '', '', '', '', '', ''], ['y', 'c', 'h', 'z', 'i', 'k', 'w', '', '', '', '', '', '', '', '', '', '', '', '', ''], ['x', 'y', 'd', 'a', '', '', '', '', '', '', '', '', '', '', '', '', '', '', '', ''], ['p', 'v', 'f', 'd', 'j', 'q', 'i', 'y', 't', '', '', '', '', '', '', '', '', '', '', ''], ['k', 'y', 'i', 'e', 'm', 'd', 'a', 'q', 'x', '', '', '', '', '', '', '', '', '', '', ''], ['o', '', '', '', '', '', '', '', '', '', '', '', '', '', '', '', '', '', '', ''], ['r', 'i', 'm', 'h', 'e', 'a', 'z', 't', 'q', 's', '', '', '', '', '', '', '', '', '', ''], ['w', 'k', 'o', 'e', 'n', 'r', '', '', '', '', '', '', '', '', '', '', '', '', '', ''], ['c', 'e', '', '', '', '', '', '', '', '', '', '', '', '', '', '', '', '', '', ''], ['h', 'a', 'w', 'b', 'r', 'm', 'f', '', '', '', '', '', '', '', '', '', '', '', '', ''], ['g', 'j', 'o', 'd', 't', 'r', 'i', '', '', '', '', '', '', '', '', '', '', '', '', ''], ['y', 'f', 'x', 'g', 'k', 'a', 'w', 'n', 'b', '', '', '', '', '', '', '', '', '', '', ''], ['o', 'p', 'g', 'a', 'c', 'n', 'q', 'd', '', '', '', '', '', '', '', '', '', '', '', ''], ['s', 'g', 'a', 'r', 'u', 'm', 'q', 'p', 'i', 't', 'o', 'l', 'z', 'e', 'b', 'v', '', '', '', ''], ['s', 'r', 'v', 'a', 'i', 'l', 'k', 'm', 'f', '', '', '', '', '', '', '', '', '', '', ''], ['l', 'h', 'i', '', '', '', '', '', '', '', '', '', '', '', '', '', '', '', '', ''], ['x', 'j', 'e', 'y', 't', 'n', 'o', 'c', 'a', 'l', 'i', '', '', '', '', '', '', '', '', ''], ['n', 'r', 'b', 'o', 'j', 'y', 'v', '', '', '', '', '', '', '', '', '', '', '', '', ''], ['x', 'f', 'w', 'c', 'q', 'o', '', '', '', '', '', '', '', '', '', '', '', '', '', ''], ['u', 'm', 'f', 't', 'n', 'x', 'z', 'c', '', '', '', '', '', '', '', '', '', '', '', ''], ['d', 'j', 'e', 'g', 'b', 'l', '', '', '', '', '', '', '', '', '', '', '', '', '', ''], ['z', 'q', 'y', 't', 'l', 'j', 'v', 'a', 'm', '', '', '', '', '', '', '', '', '', '', ''], ['c', 'u', 'g', 'k', 'j', 'b', 'm', 'q', '', '', '', '', '', '', '', '', '', '', '', ''], ['p', 'e', '', '', '', '', '', '', '', '', '', '', '', '', '', '', '', '', '', ''], ['l', '', '', '', '', '', '', '', '', '', '', '', '', '', '', '', '', '', '', ''], ['m', 'd', 'v', 'g', '', '', '', '', '', '', '', '', '', '', '', '', '', '', '', ''], ['z', 'q', 'w', 'l', 'k', 'e', 'r', 'g', 'o', '', '', '', '', '', '', '', '', '', '', ''], ['b', 'a', '', '', '', '', '', '', '', '', '', '', '', '', '', '', '', '', '', ''], ['y', 'a', '', '', '', '', '', '', '', '', '', '', '', '', '', '', '', '', '', ''], ['e', 'i', 'r', 'h', 'n', 'f', 'u', 'w', '', '', '', '', '', '', '', '', '', '', '', ''], ['m', 'v', 'j', 't', 'u', 's', 'a', '', '', '', '', '', '', '', '', '', '', '', '', ''], ['w', 'p', 'e', 'f', 'n', 's', 'g', 'r', 'm', 'a', 'u', 'o', '', '', '', '', '', '', '', ''], ['q', 'h', 'g', 'o', 'i', 'n', 'b', 'e', '', '', '', '', '', '', '', '', '', '', '', ''], ['e', 'p', 'c', 'u', 'r', 's', 'y', 't', 'h', 'a', '', '', '', '', '', '', '', '', '', ''], ['a', 'n', 'p', 'd', 'h', '', '', '', '', '', '', '', '', '', '', '', '', '', '', ''], ['l', 't', '', '', '', '', '', '', '', '', '', '', '', '', '', '', '', '', '', ''], ['h', 'a', 'f', 'd', 'v', 'w', 'z', '', '', '', '', '', '', '', '', '', '', '', '', ''], ['r', '', '', '', '', '', '', '', '', '', '', '', '', '', '', '', '', '', '', ''], ['r', 'k', 'd', 'o', 'z', 'g', '', '', '', '', '', '', '', '', '', '', '', '', '', ''], ['s', 'd', 'f', 'q', 'n', 'g', '', '', '', '', '', '', '', '', '', '', '', '', '', ''], ['l', 'a', 'v', 'm', 'p', 'r', 'n', 'y', 'h', 'o', 's', 'z', 't', 'x', '', '', '', '', '', ''], ['d', 'r', '', '', '', '', '', '', '', '', '', '', '', '', '', '', '', '', '', ''], ['d', 'c', 'f', '', '', '', '', '', '', '', '', '', '', '', '', '', '', '', '', ''], ['e', 'x', 'o', 'v', 'f', 's', 'w', '', '', '', '', '', '', '', '', '', '', '', '', ''], ['o', 'n', 'v', 'i', 'b', 'g', 'l', '', '', '', '', '', '', '', '', '', '', '', '', ''], ['p', 'a', 'h', 'r', 'm', 'v', 'x', '', '', '', '', '', '', '', '', '', '', '', '', ''], ['z', 'f', 'q', 'l', '', '', '', '', '', '', '', '', '', '', '', '', '', '', '', ''], ['d', 's', 'w', 'j', 'a', 'e', '', '', '', '', '', '', '', '', '', '', '', '', '', ''], ['b', 'r', 'q', 'u', 's', 'e', 'i', 'o', 'f', '', '', '', '', '', '', '', '', '', '', ''], ['q', 'o', '', '', '', '', '', '', '', '', '', '', '', '', '', '', '', '', '', ''], ['g', 'i', 'h', 'r', 'k', 'e', 'a', 'b', 'p', 't', 'd', 's', 'o', 'c', '', '', '', '', '', ''], ['b', 's', 'p', 'd', 'v', 'x', 'j', '', '', '', '', '', '', '', '', '', '', '', '', ''], ['o', 'j', 'm', 'g', 'h', 'v', '', '', '', '', '', '', '', '', '', '', '', '', '', ''], ['g', 'v', 'b', 's', 'j', 'y', '', '', '', '', '', '', '', '', '', '', '', '', '', ''], ['t', '', '', '', '', '', '', '', '', '', '', '', '', '', '', '', '', '', '', ''], ['c', '', '', '', '', '', '', '', '', '', '', '', '', '', '', '', '', '', '', ''], ['r', 'k', 'd', 'b', 'a', 'i', 'e', 'n', 'l', '', '', '', '', '', '', '', '', '', '', ''], ['o', '', '', '', '', '', '', '', '', '', '', '', '', '', '', '', '', '', '', ''], ['n', 'i', 't', 's', '', '', '', '', '', '', '', '', '', '', '', '', '', '', '', ''], ['k', 'l', '', '', '', '', '', '', '', '', '', '', '', '', '', '', '', '', '', ''], ['d', 'p', 'e', 'l', 'x', 'u', 'r', 'o', 'z', 'm', 'i', 'n', 'j', 'y', 's', 'a', 'f', '', '', ''], ['u', 'p', 'c', 'q', 'b', 'x', '', '', '', '', '', '', '', '', '', '', '', '', '', ''], ['c', '', '', '', '', '', '', '', '', '', '', '', '', '', '', '', '', '', '', ''], ['x', 'p', 'e', 'a', 'l', 'f', 'q', 'm', 'u', '', '', '', '', '', '', '', '', '', '', ''], ['m', 'a', 'i', '', '', '', '', '', '', '', '', '', '', '', '', '', '', '', '', ''], ['y', 'm', 'o', 'd', 'z', 'i', 'e', 's', '', '', '', '', '', '', '', '', '', '', '', ''], ['f', 'n', 's', 'j', 'r', 'w', 'm', '', '', '', '', '', '', '', '', '', '', '', '', ''], ['s', 'k', 'm', 'c', 'p', 'g', 'u', 'd', '', '', '', '', '', '', '', '', '', '', '', ''], ['l', '', '', '', '', '', '', '', '', '', '', '', '', '', '', '', '', '', '', ''], ['i', 'w', 'p', 't', '', '', '', '', '', '', '', '', '', '', '', '', '', '', '', ''], ['b', 't', 'u', 'a', 'l', 'z', 'w', 'o', 'g', 'x', '', '', '', '', '', '', '', '', '', ''], ['h', 'o', '', '', '', '', '', '', '', '', '', '', '', '', '', '', '', '', '', ''], ['r', 'k', 't', 'j', 'u', 'w', 'q', 'o', 'h', 'z', 'x', '', '', '', '', '', '', '', '', ''], ['e', 'q', 'c', 'k', 'g', 'z', '', '', '', '', '', '', '', '', '', '', '', '', '', ''], ['z', 'r', '', '', '', '', '', '', '', '', '', '', '', '', '', '', '', '', '', ''], ['n', 'a', 'i', 'e', 't', 'j', 'd', 'm', 's', '', '', '', '', '', '', '', '', '', '', ''], ['e', '', '', '', '', '', '', '', '', '', '', '', '', '', '', '', '', '', '', ''], ['b', 's', 't', '', '', '', '', '', '', '', '', '', '', '', '', '', '', '', '', ''], ['q', 'c', 'm', 'p', 'i', 'o', 'a', 'l', 'y', 'r', 'n', 'f', 't', '', '', '', '', '', '', ''], ['e', 'v', 'z', 'i', 'k', 'q', 'h', 's', 'a', '', '', '', '', '', '', '', '', '', '', ''], ['m', 'y', 'w', 's', '', '', '', '', '', '', '', '', '', '', '', '', '', '', '', ''], ['g', 'k', 's', 'w', 'n', 'e', 'y', 'l', 'v', 'o', '', '', '', '', '', '', '', '', '', ''], ['g', 't', 'k', 'w', 'o', 'c', 'h', '', '', '', '', '', '', '', '', '', '', '', '', ''], ['e', 'n', 'd', 'h', 'w', 'i', '', '', '', '', '', '', '', '', '', '', '', '', '', ''], ['b', 'l', 't', 'e', 'a', 'i', 'x', 'r', '', '', '', '', '', '', '', '', '', '', '', ''], ['m', 'y', 'i', '', '', '', '', '', '', '', '', '', '', '', '', '', '', '', '', ''], ['m', 'h', '', '', '', '', '', '', '', '', '', '', '', '', '', '', '', '', '', ''], ['c', '', '', '', '', '', '', '', '', '', '', '', '', '', '', '', '', '', '', ''], ['p', 'm', 'v', 'x', 'w', 't', 'l', '', '', '', '', '', '', '', '', '', '', '', '', ''], ['m', '', '', '', '', '', '', '', '', '', '', '', '', '', '', '', '', '', '', ''], ['n', 'g', 'w', 'a', 's', '', '', '', '', '', '', '', '', '', '', '', '', '', '', ''], ['t', '', '', '', '', '', '', '', '', '', '', '', '', '', '', '', '', '', '', ''], ['s', '', '', '', '', '', '', '', '', '', '', '', '', '', '', '', '', '', '', ''], ['u', 'o', 'd', '', '', '', '', '', '', '', '', '', '', '', '', '', '', '', '', ''], ['w', 's', 'i', 'l', 'o', 'c', 'd', 'v', 'n', 'p', 'a', 'b', 'e', 'u', 'y', 'r', 't', '', '', ''], ['c', 'p', 'f', 'l', '', '', '', '', '', '', '', '', '', '', '', '', '', '', '', ''], ['z', 'p', 'm', 'l', 'e', 'd', 'x', 'a', 'y', 'i', 'w', '', '', '', '', '', '', '', '', ''], ['x', 'a', 'z', 'n', 'q', 'b', 'l', 'i', 's', 'y', 'v', '', '', '', '', '', '', '', '', ''], ['k', '', '', '', '', '', '', '', '', '', '', '', '', '', '', '', '', '', '', ''], ['f', 'y', '', '', '', '', '', '', '', '', '', '', '', '', '', '', '', '', '', ''], ['q', 'l', 'e', 'd', 'o', 'm', 'h', 'j', '', '', '', '', '', '', '', '', '', '', '', ''], ['r', 'p', 'q', 'd', 'l', 'h', 's', 'i', 'e', '', '', '', '', '', '', '', '', '', '', ''], ['k', 'p', 'm', 'o', '', '', '', '', '', '', '', '', '', '', '', '', '', '', '', ''], ['h', '', '', '', '', '', '', '', '', '', '', '', '', '', '', '', '', '', '', ''], ['t', 'b', 'd', '', '', '', '', '', '', '', '', '', '', '', '', '', '', '', '', ''], ['z', 'n', 'i', 'u', 'y', 'w', 'o', '', '', '', '', '', '', '', '', '', '', '', '', ''], ['e', 'p', 'x', 'g', 'f', 'n', 'w', 'k', 'i', '', '', '', '', '', '', '', '', '', '', ''], ['e', '', '', '', '', '', '', '', '', '', '', '', '', '', '', '', '', '', '', ''], ['c', 'k', 'x', 'f', 'z', 'v', '', '', '', '', '', '', '', '', '', '', '', '', '', ''], ['c', 'q', 'x', 'a', 'b', 'f', '', '', '', '', '', '', '', '', '', '', '', '', '', ''], ['f', 'p', 'e', 'm', 'w', 'k', 'z', '', '', '', '', '', '', '', '', '', '', '', '', ''], ['q', 'p', 'i', 's', 'k', 'e', 't', 'r', 'u', 'm', 'n', '', '', '', '', '', '', '', '', ''], ['e', 'i', 'u', 's', 'b', '', '', '', '', '', '', '', '', '', '', '', '', '', '', ''], ['y', 'o', 'j', 'e', 'z', 'd', 'g', '', '', '', '', '', '', '', '', '', '', '', '', ''], ['w', 'g', 'a', 'v', 'x', 'h', 'q', 'c', '', '', '', '', '', '', '', '', '', '', '', ''], ['v', 'd', 'r', 'x', 'y', 'a', 'i', 't', 'h', 'o', 'q', '', '', '', '', '', '', '', '', ''], ['c', 'u', 'i', 't', 'd', 'j', 'v', '', '', '', '', '', '', '', '', '', '', '', '', ''], ['y', 'q', 'b', 'v', 'd', 'm', 'z', '', '', '', '', '', '', '', '', '', '', '', '', ''], ['x', 'u', 't', 'i', 'o', 'r', '', '', '', '', '', '', '', '', '', '', '', '', '', ''], ['q', 'a', 'k', 'g', 'w', 'x', '', '', '', '', '', '', '', '', '', '', '', '', '', ''], ['v', 't', 'q', 'x', 'k', 'g', '', '', '', '', '', '', '', '', '', '', '', '', '', ''], ['t', 'v', 'r', 'w', 'd', 'z', 'm', 'a', 's', '', '', '', '', '', '', '', '', '', '', ''], ['l', 'u', 'j', 'i', 'a', 'y', 'k', 'z', 'b', 'd', 'o', 'h', '', '', '', '', '', '', '', ''], ['r', 's', 'm', 'h', '', '', '', '', '', '', '', '', '', '', '', '', '', '', '', ''], ['n', 'd', 'g', 'a', 'y', 'i', 'j', '', '', '', '', '', '', '', '', '', '', '', '', ''], ['k', 'f', 'q', 'x', 'u', 'w', '', '', '', '', '', '', '', '', '', '', '', '', '', ''], ['v', 'g', 'm', 'e', 'k', 't', '', '', '', '', '', '', '', '', '', '', '', '', '', ''], ['c', 'o', 'y', 'u', 'q', 'e', 'h', 'l', 's', 'a', 'j', '', '', '', '', '', '', '', '', ''], ['f', 'a', 's', 'd', 'e', 'z', 'i', 'o', 'y', 'h', '', '', '', '', '', '', '', '', '', ''], ['s', '', '', '', '', '', '', '', '', '', '', '', '', '', '', '', '', '', '', ''], ['i', 'y', 'k', 'e', 's', 'h', 'w', 'p', '', '', '', '', '', '', '', '', '', '', '', ''], ['n', 'd', 'w', 'e', 'v', 'r', '', '', '', '', '', '', '', '', '', '', '', '', '', ''], ['u', '', '', '', '', '', '', '', '', '', '', '', '', '', '', '', '', '', '', ''], ['l', 'u', 'c', 'g', 'v', 'p', 'd', 'f', 'h', 't', '', '', '', '', '', '', '', '', '', ''], ['g', 'n', 'j', 'o', 'a', 'z', 'y', 's', 'w', '', '', '', '', '', '', '', '', '', '', ''], ['g', '', '', '', '', '', '', '', '', '', '', '', '', '', '', '', '', '', '', ''], ['f', 'h', 'i', 'a', 'e', 'x', 'o', 'c', '', '', '', '', '', '', '', '', '', '', '', ''], ['n', 'j', 'u', 'w', 'h', 'b', 'c', 'i', 'm', 'o', 'p', 's', '', '', '', '', '', '', '', ''], ['m', 'f', 'n', 'c', 'b', 'o', 'x', '', '', '', '', '', '', '', '', '', '', '', '', ''], ['c', 'h', 'a', 'v', 'p', 'q', 'k', 'm', '', '', '', '', '', '', '', '', '', '', '', ''], ['f', 'c', '', '', '', '', '', '', '', '', '', '', '', '', '', '', '', '', '', ''], ['x', 'y', 'o', 'w', 'p', 'n', '', '', '', '', '', '', '', '', '', '', '', '', '', ''], ['a', 'n', 'r', 'u', 'z', 'd', 'x', 'j', '', '', '', '', '', '', '', '', '', '', '', ''], ['t', 'g', 'd', 'i', 'h', 'p', 'v', 'w', '', '', '', '', '', '', '', '', '', '', '', ''], ['z', 'l', 'f', 'h', 'e', 'd', '', '', '', '', '', '', '', '', '', '', '', '', '', ''], ['p', '', '', '', '', '', '', '', '', '', '', '', '', '', '', '', '', '', '', ''], ['m', 'y', 'n', 'l', 'h', 't', 'e', 'j', 'd', 'a', 'u', 'i', 'k', 'c', '', '', '', '', '', ''], ['g', 'm', 'b', 'd', '', '', '', '', '', '', '', '', '', '', '', '', '', '', '', ''], ['p', 'v', 'i', 'h', 'm', 't', 'z', '', '', '', '', '', '', '', '', '', '', '', '', ''], ['e', 'a', 'o', 's', 't', 'c', 'y', 'h', 'r', '', '', '', '', '', '', '', '', '', '', ''], ['p', '', '', '', '', '', '', '', '', '', '', '', '', '', '', '', '', '', '', ''], ['m', 'u', 'l', 'g', 'a', 's', '', '', '', '', '', '', '', '', '', '', '', '', '', ''], ['k', 'l', 'a', 'w', 'y', 'o', 'f', 'i', 'c', 'n', 'e', 'm', 'b', 'q', '', '', '', '', '', ''], ['d', 'm', '', '', '', '', '', '', '', '', '', '', '', '', '', '', '', '', '', ''], ['x', 'g', 'k', 'a', 'e', 'f', 'q', 'h', 'm', '', '', '', '', '', '', '', '', '', '', ''], ['g', 'z', 'x', 'j', 'c', 'a', 'p', 'h', '', '', '', '', '', '', '', '', '', '', '', ''], ['j', 'u', 'x', 'a', 'y', 'v', 'c', '', '', '', '', '', '', '', '', '', '', '', '', ''], ['m', 'z', 'g', 'o', '', '', '', '', '', '', '', '', '', '', '', '', '', '', '', ''], ['x', 'o', 's', 'c', 'e', 't', 'u', 'h', 'b', 'f', 'n', '', '', '', '', '', '', '', '', ''], ['j', 'e', '', '', '', '', '', '', '', '', '', '', '', '', '', '', '', '', '', ''], ['l', 'b', 't', 'a', 'w', 'k', 'f', '', '', '', '', '', '', '', '', '', '', '', '', ''], ['g', '', '', '', '', '', '', '', '', '', '', '', '', '', '', '', '', '', '', ''], ['q', 'j', 'e', 'd', 'p', 's', 'c', 'w', '', '', '', '', '', '', '', '', '', '', '', ''], ['y', 'e', 'x', 'i', 'j', 'd', '', '', '', '', '', '', '', '', '', '', '', '', '', ''], ['t', '', '', '', '', '', '', '', '', '', '', '', '', '', '', '', '', '', '', ''], ['f', 'j', 'x', 'm', 't', 'q', '', '', '', '', '', '', '', '', '', '', '', '', '', ''], ['i', 't', 'p', 'k', 'b', 'v', 'r', '', '', '', '', '', '', '', '', '', '', '', '', ''], ['h', 's', 'v', 'a', '', '', '', '', '', '', '', '', '', '', '', '', '', '', '', ''], ['y', 'q', 'i', '', '', '', '', '', '', '', '', '', '', '', '', '', '', '', '', ''], ['c', 's', 'u', 'g', 'x', 'n', 'h', 'k', 'b', 'z', '', '', '', '', '', '', '', '', '', ''], ['b', 't', 'q', 'h', 'f', 'w', '', '', '', '', '', '', '', '', '', '', '', '', '', ''], ['j', 'y', 'f', 'r', 'w', 'l', 'd', '', '', '', '', '', '', '', '', '', '', '', '', ''], ['f', 'q', 'k', 'o', 'p', 'd', '', '', '', '', '', '', '', '', '', '', '', '', '', ''], ['i', '', '', '', '', '', '', '', '', '', '', '', '', '', '', '', '', '', '', ''], ['s', 'u', 'v', 'y', '', '', '', '', '', '', '', '', '', '', '', '', '', '', '', ''], ['z', 'q', 'x', 'u', 'a', 'n', '', '', '', '', '', '', '', '', '', '', '', '', '', ''], ['n', 'i', 'c', 'm', 'o', 'r', '', '', '', '', '', '', '', '', '', '', '', '', '', ''], ['a', '', '', '', '', '', '', '', '', '', '', '', '', '', '', '', '', '', '', ''], ['p', 'd', 'z', 'q', 't', 'h', '', '', '', '', '', '', '', '', '', '', '', '', '', ''], ['i', '', '', '', '', '', '', '', '', '', '', '', '', '', '', '', '', '', '', ''], ['a', 'i', 'n', 'k', 't', 'v', 'c', '', '', '', '', '', '', '', '', '', '', '', '', ''], ['i', 'v', 'o', 't', 'm', 'k', 'e', 'l', 'n', 'h', 'c', 'a', 'f', 's', '', '', '', '', '', ''], ['u', '', '', '', '', '', '', '', '', '', '', '', '', '', '', '', '', '', '', ''], ['t', 's', 'n', 'y', 'g', 'i', 'p', 'k', '', '', '', '', '', '', '', '', '', '', '', ''], ['t', 'o', 'a', 'f', 'm', 'l', 'z', 'i', 'g', 'n', 's', '', '', '', '', '', '', '', '', ''], ['r', 'a', 'x', 'z', 'c', 'm', 'v', 'd', 'w', '', '', '', '', '', '', '', '', '', '', ''], ['u', '', '', '', '', '', '', '', '', '', '', '', '', '', '', '', '', '', '', ''], ['u', 'f', 'a', 'z', 'd', 'y', 'b', 'j', '', '', '', '', '', '', '', '', '', '', '', ''], ['z', 'o', 'd', 'u', 'k', 's', '', '', '', '', '', '', '', '', '', '', '', '', '', ''], ['o', 'i', 'u', '', '', '', '', '', '', '', '', '', '', '', '', '', '', '', '', ''], ['h', 'i', 'o', 'r', 'j', 'g', 'l', 'v', 'q', 'n', 'p', '', '', '', '', '', '', '', '', ''], ['u', 'g', 'x', 'e', 'a', 'w', '', '', '', '', '', '', '', '', '', '', '', '', '', ''], ['f', 'e', 's', 'o', 'b', '', '', '', '', '', '', '', '', '', '', '', '', '', '', ''], ['m', 'v', 'j', 'o', 'g', 'z', '', '', '', '', '', '', '', '', '', '', '', '', '', ''], ['w', 'i', 'e', 'k', 'g', 'f', 'c', 'v', 'b', 'x', '', '', '', '', '', '', '', '', '', ''], ['x', 'z', 'p', 'q', 'h', 'v', '', '', '', '', '', '', '', '', '', '', '', '', '', ''], ['q', 'm', 'i', 'o', 'd', 'n', '', '', '', '', '', '', '', '', '', '', '', '', '', ''], ['n', 'p', 'x', 'e', 'l', 'r', 'u', 'k', 'f', 'a', '', '', '', '', '', '', '', '', '', ''], ['t', '', '', '', '', '', '', '', '', '', '', '', '', '', '', '', '', '', '', ''], ['o', 'l', 'r', 'e', 'y', 'g', 'n', 'm', 'b', 'd', '', '', '', '', '', '', '', '', '', ''], ['u', 's', 'o', 'm', 'z', 'f', 'q', 'h', 'c', 'a', 'i', 'n', 'l', 'd', 'e', 'g', 't', 'r', '', ''], ['h', 'r', '', '', '', '', '', '', '', '', '', '', '', '', '', '', '', '', '', ''], ['f', '', '', '', '', '', '', '', '', '', '', '', '', '', '', '', '', '', '', ''], ['l', 'g', 'a', '', '', '', '', '', '', '', '', '', '', '', '', '', '', '', '', ''], ['s', 'm', 'z', 'u', 'l', 'y', 'i', 'k', 'q', '', '', '', '', '', '', '', '', '', '', ''], ['j', 'h', 'x', 'a', 'c', 'b', 'e', 'i', '', '', '', '', '', '', '', '', '', '', '', ''], ['p', 'a', 'w', 'h', 'l', 'i', 'n', 'd', 'g', '', '', '', '', '', '', '', '', '', '', ''], ['s', 'h', 'o', 'a', 'p', 'x', 'e', 'i', '', '', '', '', '', '', '', '', '', '', '', ''], ['r', 'y', 'v', 'a', 't', 'k', 's', 'm', 'p', 'h', 'i', '', '', '', '', '', '', '', '', ''], ['t', 'l', 'k', 'h', 'g', 'd', 's', '', '', '', '', '', '', '', '', '', '', '', '', ''], ['d', '', '', '', '', '', '', '', '', '', '', '', '', '', '', '', '', '', '', ''], ['c', 'n', 'f', 'g', 'q', 'u', '', '', '', '', '', '', '', '', '', '', '', '', '', ''], ['u', 'i', 'a', 'v', 'k', 's', 'o', 'j', 'h', '', '', '', '', '', '', '', '', '', '', ''], ['r', 'a', 'c', 't', 'g', 'i', 'p', '', '', '', '', '', '', '', '', '', '', '', '', ''], ['u', 'd', 'i', 't', 'z', 'a', '', '', '', '', '', '', '', '', '', '', '', '', '', ''], ['r', '', '', '', '', '', '', '', '', '', '', '', '', '', '', '', '', '', '', ''], ['q', 'z', 'b', 'o', '', '', '', '', '', '', '', '', '', '', '', '', '', '', '', ''], ['y', 'w', 'l', 's', 'f', 'h', 'o', '', '', '', '', '', '', '', '', '', '', '', '', ''], ['l', '', '', '', '', '', '', '', '', '', '', '', '', '', '', '', '', '', '', ''], ['s', 'i', 'm', 'e', 'd', 'l', 'b', '', '', '', '', '', '', '', '', '', '', '', '', ''], ['v', 'w', 'a', '', '', '', '', '', '', '', '', '', '', '', '', '', '', '', '', ''], ['n', 'h', 'f', 'd', 'r', 'o', 'c', 'q', '', '', '', '', '', '', '', '', '', '', '', ''], ['f', 'r', '', '', '', '', '', '', '', '', '', '', '', '', '', '', '', '', '', ''], ['k', 'z', 'b', 'o', 'n', 'h', '', '', '', '', '', '', '', '', '', '', '', '', '', ''], ['l', 'u', 'i', 's', 'h', 'v', 'g', 'r', 'e', '', '', '', '', '', '', '', '', '', '', ''], ['m', 'z', 'f', 'x', 'h', 'b', 'q', '', '', '', '', '', '', '', '', '', '', '', '', ''], ['m', '', '', '', '', '', '', '', '', '', '', '', '', '', '', '', '', '', '', ''], ['e', 'o', 'u', 'x', 'l', 'n', 'b', 'c', 'v', 'z', 'j', 'i', '', '', '', '', '', '', '', ''], ['b', 'a', 'q', 't', 'x', 'e', 'r', '', '', '', '', '', '', '', '', '', '', '', '', ''], ['a', 'f', 'h', 'z', 'r', 'n', '', '', '', '', '', '', '', '', '', '', '', '', '', ''], ['h', 'y', 'p', 'n', 'c', 'f', 't', 'j', 'e', 's', 'm', 'b', '', '', '', '', '', '', '', ''], ['r', 'b', 'i', 'l', 's', 'j', 'u', 'a', 'm', 'q', 'h', '', '', '', '', '', '', '', '', ''], ['g', 's', '', '', '', '', '', '', '', '', '', '', '', '', '', '', '', '', '', ''], ['i', 'j', 'p', 't', 'k', 'n', 'c', 's', 'm', 'l', '', '', '', '', '', '', '', '', '', ''], ['y', 'k', 'e', 'd', 'w', 'g', 'o', '', '', '', '', '', '', '', '', '', '', '', '', ''], ['q', 'i', 'o', 'd', 'g', 'x', 'n', 'y', 't', 'r', 'w', '', '', '', '', '', '', '', '', ''], ['i', 'c', 'v', 'u', 'n', 'e', '', '', '', '', '', '', '', '', '', '', '', '', '', ''], ['g', 'a', 'c', 'o', 't', 'f', 'q', 'l', 'z', '', '', '', '', '', '', '', '', '', '', ''], ['t', 'l', '', '', '', '', '', '', '', '', '', '', '', '', '', '', '', '', '', ''], ['t', 'y', 'n', '', '', '', '', '', '', '', '', '', '', '', '', '', '', '', '', ''], ['u', 'q', 'n', '', '', '', '', '', '', '', '', '', '', '', '', '', '', '', '', ''], ['d', 'y', 'r', 's', 'p', 'a', 'j', 'c', '', '', '', '', '', '', '', '', '', '', '', ''], ['s', '', '', '', '', '', '', '', '', '', '', '', '', '', '', '', '', '', '', ''], ['o', '', '', '', '', '', '', '', '', '', '', '', '', '', '', '', '', '', '', ''], ['h', 'm', 'r', 'w', 'a', 'c', 'd', 's', 'v', '', '', '', '', '', '', '', '', '', '', ''], ['n', 'y', 'p', 'u', 'f', 'q', 'k', '', '', '', '', '', '', '', '', '', '', '', '', ''], ['l', 'o', 'w', 'g', 'd', 'f', 'h', 'c', 'b', 'a', 'n', 'i', 'r', 'k', '', '', '', '', '', ''], ['l', 'g', 'q', 'm', 'd', 'b', 'y', 'c', 'k', '', '', '', '', '', '', '', '', '', '', ''], ['h', 'b', 't', 'p', '', '', '', '', '', '', '', '', '', '', '', '', '', '', '', ''], ['z', 'e', 'o', 'a', 'y', 't', 'm', 'p', 'd', 'i', '', '', '', '', '', '', '', '', '', ''], ['o', '', '', '', '', '', '', '', '', '', '', '', '', '', '', '', '', '', '', ''], ['c', 'u', 'q', 'o', 'a', 'n', 'k', 'f', 'p', '', '', '', '', '', '', '', '', '', '', ''], ['m', '', '', '', '', '', '', '', '', '', '', '', '', '', '', '', '', '', '', ''], ['o', '', '', '', '', '', '', '', '', '', '', '', '', '', '', '', '', '', '', ''], ['y', 'd', '', '', '', '', '', '', '', '', '', '', '', '', '', '', '', '', '', ''], ['p', 'z', 'm', 'd', 's', '', '', '', '', '', '', '', '', '', '', '', '', '', '', ''], ['c', '', '', '', '', '', '', '', '', '', '', '', '', '', '', '', '', '', '', ''], ['g', 'i', 't', 'w', 'h', 'l', 'r', '', '', '', '', '', '', '', '', '', '', '', '', ''], ['s', '', '', '', '', '', '', '', '', '', '', '', '', '', '', '', '', '', '', ''], ['j', 'y', 'g', 'a', '', '', '', '', '', '', '', '', '', '', '', '', '', '', '', ''], ['j', 'k', 't', '', '', '', '', '', '', '', '', '', '', '', '', '', '', '', '', ''], ['o', 'j', 'x', 'm', 's', 'n', 'y', 'g', 'b', 'e', 'r', 'v', '', '', '', '', '', '', '', ''], ['z', 'c', 'w', 'k', 'j', 'f', 'h', '', '', '', '', '', '', '', '', '', '', '', '', ''], ['q', 'a', 'm', 'i', 's', 'j', 'n', '', '', '', '', '', '', '', '', '', '', '', '', ''], ['x', 'i', '', '', '', '', '', '', '', '', '', '', '', '', '', '', '', '', '', ''], ['g', 'h', 'x', 'r', 'k', 'v', 'q', '', '', '', '', '', '', '', '', '', '', '', '', ''], ['j', 'w', 'g', 'e', 'q', 'h', 'v', 'x', '', '', '', '', '', '', '', '', '', '', '', ''], ['a', 'h', 'd', 'g', 'o', '', '', '', '', '', '', '', '', '', '', '', '', '', '', ''], ['a', 'c', 'd', 'x', 'u', 'o', 'f', 'w', 'g', 'v', '', '', '', '', '', '', '', '', '', ''], ['w', 's', 'o', '', '', '', '', '', '', '', '', '', '', '', '', '', '', '', '', ''], ['m', 'k', 's', 'f', 'd', 'g', 'x', '', '', '', '', '', '', '', '', '', '', '', '', ''], ['d', 'i', 'g', '', '', '', '', '', '', '', '', '', '', '', '', '', '', '', '', ''], ['r', 'y', 's', 'b', 'c', 'd', '', '', '', '', '', '', '', '', '', '', '', '', '', ''], ['i', 'k', 'c', 'b', 'j', 'd', 'n', 't', 'p', 'z', 'a', 'y', 'f', '', '', '', '', '', '', ''], ['t', 'x', 'n', 'w', 'e', 'd', 'j', 'q', '', '', '', '', '', '', '', '', '', '', '', ''], ['t', 'n', 'm', 'l', 'y', 'd', 'i', 'r', 's', '', '', '', '', '', '', '', '', '', '', ''], ['k', 'c', 'q', 'i', 'a', 's', 'w', 'y', 'm', 'j', 'd', '', '', '', '', '', '', '', '', ''], ['j', 'r', 'b', 'd', 'z', 'g', '', '', '', '', '', '', '', '', '', '', '', '', '', ''], ['o', '', '', '', '', '', '', '', '', '', '', '', '', '', '', '', '', '', '', ''], ['i', 'g', 'a', 'u', 'y', 'l', 'c', 'n', '', '', '', '', '', '', '', '', '', '', '', ''], ['l', 'e', 'u', 't', 'f', 'c', 'a', 'p', 'x', 'i', '', '', '', '', '', '', '', '', '', ''], ['i', 'g', 'e', 'd', 'n', '', '', '', '', '', '', '', '', '', '', '', '', '', '', ''], ['u', 'i', 'h', 'a', 's', 'e', 't', 'x', 'r', '', '', '', '', '', '', '', '', '', '', ''], ['z', '', '', '', '', '', '', '', '', '', '', '', '', '', '', '', '', '', '', ''], ['o', '', '', '', '', '', '', '', '', '', '', '', '', '', '', '', '', '', '', ''], ['i', '', '', '', '', '', '', '', '', '', '', '', '', '', '', '', '', '', '', ''], ['c', 'n', 't', 'u', 'a', '', '', '', '', '', '', '', '', '', '', '', '', '', '', ''], ['k', 'i', 'o', 'm', '', '', '', '', '', '', '', '', '', '', '', '', '', '', '', ''], ['o', 'p', 'g', 'd', 'x', 'r', 't', 'i', 'n', 'f', 'u', '', '', '', '', '', '', '', '', ''], ['s', 'q', 'e', 'v', 'b', 'f', 'h', 'i', 'n', 'g', 'w', '', '', '', '', '', '', '', '', ''], ['z', 'w', 'k', 'e', 'v', 'r', 'b', 'j', 'd', '', '', '', '', '', '', '', '', '', '', ''], ['p', 'w', 'l', '', '', '', '', '', '', '', '', '', '', '', '', '', '', '', '', ''], ['c', 'i', '', '', '', '', '', '', '', '', '', '', '', '', '', '', '', '', '', ''], ['f', 'p', 'v', 'b', 'r', 'm', 'o', 'u', 'c', '', '', '', '', '', '', '', '', '', '', ''], ['n', 'h', '', '', '', '', '', '', '', '', '', '', '', '', '', '', '', '', '', ''], ['n', 'm', 'z', 'b', 'v', 'u', '', '', '', '', '', '', '', '', '', '', '', '', '', ''], ['o', 'p', 'z', 'v', 'i', 'd', 'u', 'q', 'n', '', '', '', '', '', '', '', '', '', '', ''], ['e', 'p', 'i', '', '', '', '', '', '', '', '', '', '', '', '', '', '', '', '', ''], ['o', 'h', 'c', 'r', 'k', 'w', 'e', 'd', 'a', 's', 'i', 'f', '', '', '', '', '', '', '', ''], ['p', 'j', 'c', 'm', 's', 'w', 'r', 'z', 't', 'e', 'i', 'y', 'u', 'f', 'v', 'a', '', '', '', ''], ['x', 'k', 's', 'f', 'a', '', '', '', '', '', '', '', '', '', '', '', '', '', '', ''], ['s', 'c', 'u', 'i', '', '', '', '', '', '', '', '', '', '', '', '', '', '', '', ''], ['i', 'c', 'e', 't', 'b', 'a', 'u', 'x', 'r', 'l', '', '', '', '', '', '', '', '', '', ''], ['i', '', '', '', '', '', '', '', '', '', '', '', '', '', '', '', '', '', '', ''], ['c', 'p', 'o', 't', 'n', 'e', 'z', 'v', 's', 'f', 'a', 'r', '', '', '', '', '', '', '', ''], ['h', 'i', 'j', 'n', 'm', 'e', 'l', 'g', 'a', '', '', '', '', '', '', '', '', '', '', ''], ['p', '', '', '', '', '', '', '', '', '', '', '', '', '', '', '', '', '', '', ''], ['l', '', '', '', '', '', '', '', '', '', '', '', '', '', '', '', '', '', '', ''], ['d', 't', 'a', 'o', '', '', '', '', '', '', '', '', '', '', '', '', '', '', '', ''], ['w', 'i', 'j', 'g', 'q', 'k', 'z', 'd', '', '', '', '', '', '', '', '', '', '', '', ''], ['d', 'h', 'y', 'm', 'n', 'v', '', '', '', '', '', '', '', '', '', '', '', '', '', ''], ['p', '', '', '', '', '', '', '', '', '', '', '', '', '', '', '', '', '', '', ''], ['w', 'o', 'k', 'z', 'j', 'u', 'f', '', '', '', '', '', '', '', '', '', '', '', '', ''], ['n', 'd', 'l', 'r', 'o', 'b', 's', 'c', 'a', 'e', '', '', '', '', '', '', '', '', '', ''], ['r', 'k', 'n', 'o', 'w', 'j', '', '', '', '', '', '', '', '', '', '', '', '', '', ''], ['f', 'i', 'o', 'a', 'w', 't', 'c', 'r', 'h', 'm', 'n', 's', 'l', 'y', 'b', '', '', '', '', ''], ['m', '', '', '', '', '', '', '', '', '', '', '', '', '', '', '', '', '', '', ''], ['z', 'l', 'c', 'd', 's', 'i', 'w', 'u', 'r', 'b', 't', 'n', 'f', 'k', '', '', '', '', '', ''], ['o', 'p', 'n', 'm', 's', 'd', 'i', 'f', 'c', 'l', 'a', '', '', '', '', '', '', '', '', ''], ['s', 'a', '', '', '', '', '', '', '', '', '', '', '', '', '', '', '', '', '', ''], ['l', 'g', 'h', 'y', 'j', 's', 'w', '', '', '', '', '', '', '', '', '', '', '', '', ''], ['s', '', '', '', '', '', '', '', '', '', '', '', '', '', '', '', '', '', '', ''], ['z', 'g', 'x', 'j', 'a', 'u', 'y', '', '', '', '', '', '', '', '', '', '', '', '', ''], ['t', '', '', '', '', '', '', '', '', '', '', '', '', '', '', '', '', '', '', ''], ['e', 't', 'h', 'v', 's', 'j', 'i', '', '', '', '', '', '', '', '', '', '', '', '', ''], ['s', 'o', 't', 'y', 'f', 'u', 'r', '', '', '', '', '', '', '', '', '', '', '', '', ''], ['x', 'i', 'w', 'p', 'z', 'b', 'l', 'c', 'q', '', '', '', '', '', '', '', '', '', '', ''], ['w', 'o', '', '', '', '', '', '', '', '', '', '', '', '', '', '', '', '', '', ''], ['u', 'e', 'z', 'd', 'f', 'k', 's', 'g', '', '', '', '', '', '', '', '', '', '', '', ''], ['s', 'g', 't', 'v', 'x', 'k', 'i', '', '', '', '', '', '', '', '', '', '', '', '', ''], ['e', 'j', 'y', '', '', '', '', '', '', '', '', '', '', '', '', '', '', '', '', ''], ['d', 'r', '', '', '', '', '', '', '', '', '', '', '', '', '', '', '', '', '', ''], ['a', 't', 'l', '', '', '', '', '', '', '', '', '', '', '', '', '', '', '', '', ''], ['g', 'l', 'n', 'w', 'y', 'c', 'f', 'x', 'p', 'i', '', '', '', '', '', '', '', '', '', ''], ['y', 'i', 'x', 'h', 'l', 'z', 'j', 'q', 'r', 'g', '', '', '', '', '', '', '', '', '', ''], ['s', 'f', 'b', 'm', 'x', 'v', 'p', '', '', '', '', '', '', '', '', '', '', '', '', ''], ['r', 'p', 's', 'm', 'f', 'z', 'i', 'o', 'u', 'e', 'g', '', '', '', '', '', '', '', '', ''], ['a', 'g', 'l', '', '', '', '', '', '', '', '', '', '', '', '', '', '', '', '', ''], ['k', 'd', 'h', 'g', 'e', 'u', 'n', 'x', 'c', 'b', 'p', '', '', '', '', '', '', '', '', ''], ['u', 'm', 'k', 'j', 'x', 'p', '', '', '', '', '', '', '', '', '', '', '', '', '', ''], ['h', 'c', 'g', 'p', 'v', 'n', '', '', '', '', '', '', '', '', '', '', '', '', '', ''], ['q', 'y', 'c', 'x', 'z', 'd', '', '', '', '', '', '', '', '', '', '', '', '', '', ''], ['d', 'g', 'r', 'i', 'c', 'h', 'v', '', '', '', '', '', '', '', '', '', '', '', '', ''], ['t', 'd', 'x', 'f', 'k', 'e', 'b', 'z', 'y', '', '', '', '', '', '', '', '', '', '', ''], ['q', 's', 'u', 'j', 'c', 'y', 't', 'v', '', '', '', '', '', '', '', '', '', '', '', ''], ['z', 'l', 'j', 'b', 'e', 's', 'g', 't', 'u', '', '', '', '', '', '', '', '', '', '', ''], ['z', 's', '', '', '', '', '', '', '', '', '', '', '', '', '', '', '', '', '', ''], ['l', 'k', 'x', 's', 'u', 'o', 'a', 'z', 'j', '', '', '', '', '', '', '', '', '', '', ''], ['n', 'e', 'a', 't', 's', '', '', '', '', '', '', '', '', '', '', '', '', '', '', ''], ['e', '', '', '', '', '', '', '', '', '', '', '', '', '', '', '', '', '', '', ''], ['t', 's', 'g', 'j', 'l', '', '', '', '', '', '', '', '', '', '', '', '', '', '', ''], ['r', 'k', 'f', 'p', 'c', 'u', '', '', '', '', '', '', '', '', '', '', '', '', '', ''], ['h', 'a', 'k', 'p', 't', 'c', 'm', '', '', '', '', '', '', '', '', '', '', '', '', ''], ['x', 'g', 'y', 'v', 'o', '', '', '', '', '', '', '', '', '', '', '', '', '', '', ''], ['a', 'q', 'n', '', '', '', '', '', '', '', '', '', '', '', '', '', '', '', '', ''], ['l', 'a', '', '', '', '', '', '', '', '', '', '', '', '', '', '', '', '', '', ''], ['o', 'n', 't', '', '', '', '', '', '', '', '', '', '', '', '', '', '', '', '', ''], ['g', 'x', 'i', '', '', '', '', '', '', '', '', '', '', '', '', '', '', '', '', ''], ['o', 'h', 'b', 'c', 'd', 'l', 'r', 'k', 'm', 'a', 's', 't', '', '', '', '', '', '', '', ''], ['k', 't', '', '', '', '', '', '', '', '', '', '', '', '', '', '', '', '', '', ''], ['v', 'd', 'q', 'f', 'h', 'z', 'e', 'l', 'u', 'n', 'm', '', '', '', '', '', '', '', '', ''], ['j', 'y', 'n', 'q', 'i', 'e', 'k', 'g', 'p', '', '', '', '', '', '', '', '', '', '', ''], ['d', 'g', '', '', '', '', '', '', '', '', '', '', '', '', '', '', '', '', '', ''], ['q', 'o', 'n', 'l', 'i', 'y', 'c', '', '', '', '', '', '', '', '', '', '', '', '', ''], ['t', '', '', '', '', '', '', '', '', '', '', '', '', '', '', '', '', '', '', ''], ['d', '', '', '', '', '', '', '', '', '', '', '', '', '', '', '', '', '', '', ''], ['c', 'b', 'n', 't', 'd', 'w', 'x', '', '', '', '', '', '', '', '', '', '', '', '', ''], ['f', 'a', 'c', '', '', '', '', '', '', '', '', '', '', '', '', '', '', '', '', ''], ['h', 'k', 'w', 's', '', '', '', '', '', '', '', '', '', '', '', '', '', '', '', ''], ['p', 's', 'f', 'e', 'z', 'a', 't', 'x', 'c', 'h', 'r', '', '', '', '', '', '', '', '', ''], ['l', 'n', 'o', 'r', '', '', '', '', '', '', '', '', '', '', '', '', '', '', '', ''], ['t', 's', 'd', 'h', 'e', 'o', 'l', 'b', '', '', '', '', '', '', '', '', '', '', '', ''], ['s', 'u', 'k', 'p', 'g', 'n', '', '', '', '', '', '', '', '', '', '', '', '', '', ''], ['p', 't', '', '', '', '', '', '', '', '', '', '', '', '', '', '', '', '', '', ''], ['p', '', '', '', '', '', '', '', '', '', '', '', '', '', '', '', '', '', '', ''], ['y', 'q', 'w', 'o', 'i', 'h', 'u', 's', 'l', 'p', 'j', 'r', 'c', 'e', 'n', 'd', 'x', 'b', 'v', 't'], ['n', 'm', 'w', 'k', 'b', 'j', 't', 'v', '', '', '', '', '', '', '', '', '', '', '', ''], ['s', 'g', 'h', 'p', 'r', 'e', 'm', 'o', 'c', '', '', '', '', '', '', '', '', '', '', ''], ['r', 's', 't', 'e', 'n', 'm', 'o', '', '', '', '', '', '', '', '', '', '', '', '', ''], ['o', 'a', 'v', 'c', 't', 'm', 'l', 'g', 's', 'h', 'n', 'y', 'p', 'e', 'i', 'r', '', '', '', ''], ['j', 'q', 'i', 'd', 'c', 'r', '', '', '', '', '', '', '', '', '', '', '', '', '', ''], ['g', 'x', 'h', 'e', 'q', 'c', 'y', '', '', '', '', '', '', '', '', '', '', '', '', ''], ['w', 'p', 'u', '', '', '', '', '', '', '', '', '', '', '', '', '', '', '', '', ''], ['i', 'm', 's', 'z', 'v', 'w', 'j', 'f', 'q', '', '', '', '', '', '', '', '', '', '', ''], ['l', 'e', '', '', '', '', '', '', '', '', '', '', '', '', '', '', '', '', '', ''], ['o', '', '', '', '', '', '', '', '', '', '', '', '', '', '', '', '', '', '', ''], ['j', 'o', 'l', 'p', 'm', 'c', 'r', 'v', 'n', 't', 'h', 'g', '', '', '', '', '', '', '', ''], ['n', 'j', 'o', 'f', '', '', '', '', '', '', '', '', '', '', '', '', '', '', '', ''], ['t', 's', '', '', '', '', '', '', '', '', '', '', '', '', '', '', '', '', '', ''], ['i', 'w', 'a', 'f', 'o', 'd', 'e', 't', 'p', '', '', '', '', '', '', '', '', '', '', ''], ['r', 'o', 't', 'u', 'f', 's', '', '', '', '', '', '', '', '', '', '', '', '', '', ''], ['f', 't', 'q', 'o', '', '', '', '', '', '', '', '', '', '', '', '', '', '', '', ''], ['r', 'f', 'a', '', '', '', '', '', '', '', '', '', '', '', '', '', '', '', '', ''], ['x', 'j', 'a', '', '', '', '', '', '', '', '', '', '', '', '', '', '', '', '', ''], ['a', 'y', 'm', 'u', '', '', '', '', '', '', '', '', '', '', '', '', '', '', '', ''], ['m', 'd', 'n', 'f', 'y', 'l', 'k', '', '', '', '', '', '', '', '', '', '', '', '', ''], ['l', 'y', 'j', 'd', 'a', 'v', 'z', 'p', 'f', 'q', '', '', '', '', '', '', '', '', '', ''], ['g', 'q', 'e', 's', 'm', 'v', 'f', 'n', '', '', '', '', '', '', '', '', '', '', '', ''], ['t', 'p', '', '', '', '', '', '', '', '', '', '', '', '', '', '', '', '', '', ''], ['e', '', '', '', '', '', '', '', '', '', '', '', '', '', '', '', '', '', '', ''], ['l', '', '', '', '', '', '', '', '', '', '', '', '', '', '', '', '', '', '', ''], ['k', 's', '', '', '', '', '', '', '', '', '', '', '', '', '', '', '', '', '', ''], ['a', 'e', 'r', 's', '', '', '', '', '', '', '', '', '', '', '', '', '', '', '', ''], ['x', 'n', 'v', 'i', 's', 't', '', '', '', '', '', '', '', '', '', '', '', '', '', ''], ['r', '', '', '', '', '', '', '', '', '', '', '', '', '', '', '', '', '', '', ''], ['m', 'n', 't', 'l', 'd', 'e', 'v', 's', 'u', 'g', 'a', 'i', 'o', '', '', '', '', '', '', ''], ['t', 'a', 'b', 'x', 'i', 'k', 'u', 'c', '', '', '', '', '', '', '', '', '', '', '', ''], ['u', '', '', '', '', '', '', '', '', '', '', '', '', '', '', '', '', '', '', ''], ['y', 'd', 'p', 'c', 'o', 't', 'w', 'k', '', '', '', '', '', '', '', '', '', '', '', ''], ['h', 'x', 'y', 'i', 'f', 'b', 'u', 'z', 'l', 't', 'c', '', '', '', '', '', '', '', '', ''], ['t', '', '', '', '', '', '', '', '', '', '', '', '', '', '', '', '', '', '', ''], ['b', '', '', '', '', '', '', '', '', '', '', '', '', '', '', '', '', '', '', ''], ['b', 'w', 'h', 'j', 's', 'd', '', '', '', '', '', '', '', '', '', '', '', '', '', ''], ['t', 'e', '', '', '', '', '', '', '', '', '', '', '', '', '', '', '', '', '', ''], ['z', 'p', 'm', 'd', 'a', 'i', 'o', 's', 'j', 'u', 'w', '', '', '', '', '', '', '', '', ''], ['n', 's', 'd', 'l', 'c', '', '', '', '', '', '', '', '', '', '', '', '', '', '', ''], ['g', 'n', 'p', 'j', 'y', 'k', 'l', 'e', 't', 'r', 'o', 'i', 'a', 'c', '', '', '', '', '', ''], ['j', 'x', 'y', 's', '', '', '', '', '', '', '', '', '', '', '', '', '', '', '', ''], ['d', 'v', 'j', 'o', 'n', 'g', 'y', 'm', 'x', 'u', 'i', 'e', 's', '', '', '', '', '', '', ''], ['y', '', '', '', '', '', '', '', '', '', '', '', '', '', '', '', '', '', '', ''], ['t', 'j', 'p', 'q', 'c', 'g', '', '', '', '', '', '', '', '', '', '', '', '', '', ''], ['z', '', '', '', '', '', '', '', '', '', '', '', '', '', '', '', '', '', '', ''], ['k', 'q', 's', 'z', 'h', '', '', '', '', '', '', '', '', '', '', '', '', '', '', ''], ['d', 'm', 'e', '', '', '', '', '', '', '', '', '', '', '', '', '', '', '', '', ''], ['j', 'p', 'a', '', '', '', '', '', '', '', '', '', '', '', '', '', '', '', '', ''], ['d', 'r', 'b', 'q', 'x', 'p', 'f', '', '', '', '', '', '', '', '', '', '', '', '', ''], ['j', 'd', '', '', '', '', '', '', '', '', '', '', '', '', '', '', '', '', '', ''], ['d', 'c', 'o', 'f', 'w', 'z', 'p', 'e', 'l', '', '', '', '', '', '', '', '', '', '', ''], ['t', 'b', 'v', 'l', 'a', '', '', '', '', '', '', '', '', '', '', '', '', '', '', ''], ['h', 'w', 'q', 'x', 'y', 'o', '', '', '', '', '', '', '', '', '', '', '', '', '', ''], ['s', 'q', 'i', 'w', 'j', 'g', 'l', 'a', 'x', 't', 'n', '', '', '', '', '', '', '', '', ''], ['r', 's', 'b', 'i', 'e', 'd', 'u', 'n', '', '', '', '', '', '', '', '', '', '', '', ''], ['a', 'b', 'c', 'g', 's', 'e', 'n', 'v', 't', '', '', '', '', '', '', '', '', '', '', ''], ['d', 'p', 'g', 'b', 'c', 't', 'f', '', '', '', '', '', '', '', '', '', '', '', '', ''], ['a', 'c', 'x', 'd', 's', 'w', 'o', 'k', 'l', 'j', '', '', '', '', '', '', '', '', '', ''], ['t', 'i', 'l', 'u', 'g', '', '', '', '', '', '', '', '', '', '', '', '', '', '', ''], ['h', '', '', '', '', '', '', '', '', '', '', '', '', '', '', '', '', '', '', ''], ['b', '', '', '', '', '', '', '', '', '', '', '', '', '', '', '', '', '', '', ''], ['q', 'm', 'l', 'r', 'f', 't', 's', 'c', 'a', 'b', 'o', 'g', 'e', 'z', 'y', 'w', '', '', '', ''], ['a', '', '', '', '', '', '', '', '', '', '', '', '', '', '', '', '', '', '', ''], ['g', 'h', 'b', 'y', 'd', 'r', 'v', 'k', '', '', '', '', '', '', '', '', '', '', '', ''], ['j', 'y', 'u', 'h', 'b', 'v', 'w', 'z', '', '', '', '', '', '', '', '', '', '', '', ''], ['i', 'a', '', '', '', '', '', '', '', '', '', '', '', '', '', '', '', '', '', ''], ['o', 'h', 'w', '', '', '', '', '', '', '', '', '', '', '', '', '', '', '', '', ''], ['a', 'm', 'n', 'z', 'h', '', '', '', '', '', '', '', '', '', '', '', '', '', '', ''], ['p', 'm', 'o', 'u', '', '', '', '', '', '', '', '', '', '', '', '', '', '', '', ''], ['t', '', '', '', '', '', '', '', '', '', '', '', '', '', '', '', '', '', '', ''], ['w', 'l', 'e', 't', '', '', '', '', '', '', '', '', '', '', '', '', '', '', '', ''], ['e', 'i', '', '', '', '', '', '', '', '', '', '', '', '', '', '', '', '', '', ''], ['a', '', '', '', '', '', '', '', '', '', '', '', '', '', '', '', '', '', '', ''], ['h', 'i', 'e', '', '', '', '', '', '', '', '', '', '', '', '', '', '', '', '', ''], ['p', 'b', 't', 'h', 'd', 'm', 'n', '', '', '', '', '', '', '', '', '', '', '', '', ''], ['m', '', '', '', '', '', '', '', '', '', '', '', '', '', '', '', '', '', '', ''], ['a', 'f', 'z', 'd', 'i', 't', 'l', 'g', '', '', '', '', '', '', '', '', '', '', '', ''], ['e', 'f', 'b', 'q', 'm', 'j', 's', 'w', '', '', '', '', '', '', '', '', '', '', '', ''], ['m', 'w', 'p', 'a', '', '', '', '', '', '', '', '', '', '', '', '', '', '', '', ''], ['t', '', '', '', '', '', '', '', '', '', '', '', '', '', '', '', '', '', '', ''], ['z', 'g', 'd', 'k', 'c', 'f', 't', 'x', '', '', '', '', '', '', '', '', '', '', '', ''], ['a', 'h', 'u', 'l', 'x', 'r', 'f', 'o', '', '', '', '', '', '', '', '', '', '', '', ''], ['t', 'q', 'n', 'z', 'a', 'l', 'p', 's', '', '', '', '', '', '', '', '', '', '', '', ''], ['l', 's', 'v', 'm', 'a', 'e', 'y', 'r', 'd', 'q', '', '', '', '', '', '', '', '', '', ''], ['v', 'a', '', '', '', '', '', '', '', '', '', '', '', '', '', '', '', '', '', ''], ['m', 'g', 'f', 'n', '', '', '', '', '', '', '', '', '', '', '', '', '', '', '', ''], ['e', 'l', 's', 'p', 'z', 'w', 'u', '', '', '', '', '', '', '', '', '', '', '', '', ''], ['m', 'v', 'w', 'z', 'y', 's', '', '', '', '', '', '', '', '', '', '', '', '', '', ''], ['i', 'j', 'm', 'd', 'x', 'r', 'g', '', '', '', '', '', '', '', '', '', '', '', '', ''], ['j', 'a', 'h', 'g', 'p', '', '', '', '', '', '', '', '', '', '', '', '', '', '', ''], ['e', 'p', 'k', 'c', 'h', 'a', 'v', '', '', '', '', '', '', '', '', '', '', '', '', ''], ['s', '', '', '', '', '', '', '', '', '', '', '', '', '', '', '', '', '', '', ''], ['p', 't', 'q', 'u', 'i', 'v', 'l', 's', '', '', '', '', '', '', '', '', '', '', '', ''], ['a', 'w', 'q', 'y', 'b', 'z', 'i', '', '', '', '', '', '', '', '', '', '', '', '', ''], ['l', 'k', 'z', 'u', 'p', 'a', 'g', '', '', '', '', '', '', '', '', '', '', '', '', ''], ['n', 'w', 'p', 'y', 'j', 'i', 'd', '', '', '', '', '', '', '', '', '', '', '', '', ''], ['s', 'r', 'u', 'k', 'p', 'm', 'l', 'o', '', '', '', '', '', '', '', '', '', '', '', ''], ['g', 'l', 'w', 'a', '', '', '', '', '', '', '', '', '', '', '', '', '', '', '', ''], ['b', 'p', 'i', 'w', 'y', 'k', '', '', '', '', '', '', '', '', '', '', '', '', '', ''], ['u', 'w', 't', 'v', 'y', '', '', '', '', '', '', '', '', '', '', '', '', '', '', ''], ['a', 'r', 'i', 'p', 'e', 'f', 'u', '', '', '', '', '', '', '', '', '', '', '', '', ''], ['i', 'v', 'h', 'l', 'k', 'o', 's', 'p', 'm', 'n', 'g', 'u', '', '', '', '', '', '', '', ''], ['p', 'o', 'c', 'g', 'm', 'f', 'r', 'z', 'a', 'e', 'l', 'i', 'b', 's', 'd', 'u', 'k', 'n', '', ''], ['s', 'v', 'e', 'f', 't', 'w', 'p', 'g', 'h', 'm', 'a', 'r', 'o', 'y', 'i', 'c', '', '', '', ''], ['i', '', '', '', '', '', '', '', '', '', '', '', '', '', '', '', '', '', '', ''], ['y', 'o', 't', '', '', '', '', '', '', '', '', '', '', '', '', '', '', '', '', ''], ['j', 'a', 'e', 'i', 'z', 'n', 'g', 'f', 'd', 'r', '', '', '', '', '', '', '', '', '', ''], ['l', 't', '', '', '', '', '', '', '', '', '', '', '', '', '', '', '', '', '', ''], ['f', 'y', 'v', 'r', 'w', 'k', 'n', 'h', '', '', '', '', '', '', '', '', '', '', '', ''], ['w', 'h', 'e', 'l', 'i', 'r', '', '', '', '', '', '', '', '', '', '', '', '', '', ''], ['e', 's', 'o', 'n', 'm', 'p', 'a', 'g', 't', 'u', '', '', '', '', '', '', '', '', '', ''], ['f', 'u', 'o', 'm', '', '', '', '', '', '', '', '', '', '', '', '', '', '', '', ''], ['r', 'j', 'v', 'w', 'i', 's', 'l', 'e', 't', '', '', '', '', '', '', '', '', '', '', ''], ['a', 'p', 'y', 'h', 'o', 'l', '', '', '', '', '', '', '', '', '', '', '', '', '', ''], ['g', 'v', 'u', 'c', 's', 'n', 'y', 'l', 'i', 'w', 'd', '', '', '', '', '', '', '', '', ''], ['a', 'r', 'h', 'c', '', '', '', '', '', '', '', '', '', '', '', '', '', '', '', ''], ['l', '', '', '', '', '', '', '', '', '', '', '', '', '', '', '', '', '', '', ''], ['r', 'u', '', '', '', '', '', '', '', '', '', '', '', '', '', '', '', '', '', ''], ['p', 'w', 'd', 'i', 'a', 'r', 'c', 'h', 'e', 'l', 'b', 'f', 'j', 'n', 'o', '', '', '', '', ''], ['y', 'c', 'q', 'e', 'p', 'i', 'l', 'a', '', '', '', '', '', '', '', '', '', '', '', ''], ['v', 'm', 'c', 'q', 'x', 'n', 'r', 'd', 'l', 'f', 'o', 'j', '', '', '', '', '', '', '', ''], ['p', '', '', '', '', '', '', '', '', '', '', '', '', '', '', '', '', '', '', ''], ['d', 'c', 'z', 'e', 'o', 'p', '', '', '', '', '', '', '', '', '', '', '', '', '', ''], ['q', 'i', 'h', 'u', 'j', 'v', 'a', 'x', '', '', '', '', '', '', '', '', '', '', '', ''], ['d', 'k', 'e', 'j', 'b', 'x', 'q', '', '', '', '', '', '', '', '', '', '', '', '', ''], ['e', 'u', 'z', 'a', 'h', 'l', 'i', 'y', 'v', 't', 'b', '', '', '', '', '', '', '', '', ''], ['a', 'w', 'j', 'n', 'y', 'r', 'i', 'k', 't', 'c', 'l', '', '', '', '', '', '', '', '', ''], ['b', 'w', 'k', 'y', 'v', 'z', '', '', '', '', '', '', '', '', '', '', '', '', '', ''], ['w', '', '', '', '', '', '', '', '', '', '', '', '', '', '', '', '', '', '', ''], ['d', 'k', 'o', 'w', 'i', 'c', 'm', 'e', 'l', '', '', '', '', '', '', '', '', '', '', ''], ['i', '', '', '', '', '', '', '', '', '', '', '', '', '', '', '', '', '', '', ''], ['t', 'e', 'q', 'n', 'i', 'o', 's', 'r', 'm', '', '', '', '', '', '', '', '', '', '', ''], ['i', '', '', '', '', '', '', '', '', '', '', '', '', '', '', '', '', '', '', ''], ['j', 'v', 'a', 'g', 'f', 'r', 'd', 'c', '', '', '', '', '', '', '', '', '', '', '', ''], ['e', 's', 'u', 'v', 'y', 'r', 't', 'n', '', '', '', '', '', '', '', '', '', '', '', ''], ['v', 'x', 'o', 'r', 'a', 'c', 'l', 'q', 'i', 'h', 's', 'n', 'e', 'm', '', '', '', '', '', ''], ['s', '', '', '', '', '', '', '', '', '', '', '', '', '', '', '', '', '', '', ''], ['z', '', '', '', '', '', '', '', '', '', '', '', '', '', '', '', '', '', '', ''], ['d', 'k', 'f', 'y', 'q', 'w', 'j', '', '', '', '', '', '', '', '', '', '', '', '', ''], ['p', 'b', 'l', 'o', 'c', 'v', 'z', 'i', 'd', 'h', '', '', '', '', '', '', '', '', '', ''], ['v', 'h', '', '', '', '', '', '', '', '', '', '', '', '', '', '', '', '', '', ''], ['u', '', '', '', '', '', '', '', '', '', '', '', '', '', '', '', '', '', '', ''], ['n', '', '', '', '', '', '', '', '', '', '', '', '', '', '', '', '', '', '', ''], ['s', 'u', 'b', 'v', 'g', 'c', 'n', 'w', 'r', 'o', 'a', 'f', 'q', '', '', '', '', '', '', ''], ['a', 'e', 'y', 't', 'i', 'h', 'o', 'g', 'c', 'l', 's', 'm', 'r', '', '', '', '', '', '', ''], ['m', 't', 'n', 'p', '', '', '', '', '', '', '', '', '', '', '', '', '', '', '', ''], ['u', 'v', 'r', 'o', 'h', 'i', '', '', '', '', '', '', '', '', '', '', '', '', '', ''], ['x', 'c', 'f', 'q', 'v', 'm', '', '', '', '', '', '', '', '', '', '', '', '', '', ''], ['i', 'n', 's', 't', '', '', '', '', '', '', '', '', '', '', '', '', '', '', '', ''], ['v', 'p', 'z', 'l', 'q', 'd', 'g', '', '', '', '', '', '', '', '', '', '', '', '', ''], ['b', 'x', 's', 'h', 'g', 'k', 'z', '', '', '', '', '', '', '', '', '', '', '', '', ''], ['w', 'i', 'n', 'r', 'e', '', '', '', '', '', '', '', '', '', '', '', '', '', '', ''], ['q', 'm', '', '', '', '', '', '', '', '', '', '', '', '', '', '', '', '', '', ''], ['p', '', '', '', '', '', '', '', '', '', '', '', '', '', '', '', '', '', '', ''], ['u', 't', '', '', '', '', '', '', '', '', '', '', '', '', '', '', '', '', '', ''], ['t', '', '', '', '', '', '', '', '', '', '', '', '', '', '', '', '', '', '', ''], ['l', 'p', 'f', 'r', 'q', 'v', 'u', 'm', '', '', '', '', '', '', '', '', '', '', '', ''], ['r', 'o', 'f', 'i', 'l', 'd', 'e', 'g', 'a', '', '', '', '', '', '', '', '', '', '', ''], ['e', 'b', '', '', '', '', '', '', '', '', '', '', '', '', '', '', '', '', '', ''], ['o', 't', '', '', '', '', '', '', '', '', '', '', '', '', '', '', '', '', '', ''], ['c', '', '', '', '', '', '', '', '', '', '', '', '', '', '', '', '', '', '', ''], ['k', 'j', 'x', 's', '', '', '', '', '', '', '', '', '', '', '', '', '', '', '', ''], ['b', '', '', '', '', '', '', '', '', '', '', '', '', '', '', '', '', '', '', ''], ['z', '', '', '', '', '', '', '', '', '', '', '', '', '', '', '', '', '', '', ''], ['u', '', '', '', '', '', '', '', '', '', '', '', '', '', '', '', '', '', '', ''], ['b', 'g', 'a', 'x', 'w', 'j', 'q', 's', 'h', '', '', '', '', '', '', '', '', '', '', ''], ['v', 'c', 'q', 'x', 'f', '', '', '', '', '', '', '', '', '', '', '', '', '', '', ''], ['u', 'o', 'r', 'i', 'a', 's', 'x', 'v', 'f', 'e', 'g', 'p', 'j', 'y', '', '', '', '', '', ''], ['u', 'b', '', '', '', '', '', '', '', '', '', '', '', '', '', '', '', '', '', ''], ['a', 'l', 'n', 'm', 's', '', '', '', '', '', '', '', '', '', '', '', '', '', '', ''], ['i', '', '', '', '', '', '', '', '', '', '', '', '', '', '', '', '', '', '', ''], ['s', 'w', 'e', 'b', '', '', '', '', '', '', '', '', '', '', '', '', '', '', '', ''], ['r', 'l', 'c', 'e', 'y', 'h', 'u', '', '', '', '', '', '', '', '', '', '', '', '', ''], ['d', 't', 'i', 'f', '', '', '', '', '', '', '', '', '', '', '', '', '', '', '', ''], ['j', 'n', 'c', 'i', 'p', '', '', '', '', '', '', '', '', '', '', '', '', '', '', ''], ['a', 'y', 'o', 's', 't', 'n', 'i', 'm', 'h', 'c', '', '', '', '', '', '', '', '', '', ''], ['y', '', '', '', '', '', '', '', '', '', '', '', '', '', '', '', '', '', '', ''], ['h', 'y', 'k', 'm', 'a', 'p', 'j', 'l', '', '', '', '', '', '', '', '', '', '', '', ''], ['a', '', '', '', '', '', '', '', '', '', '', '', '', '', '', '', '', '', '', ''], ['c', 'k', 's', 'i', '', '', '', '', '', '', '', '', '', '', '', '', '', '', '', '']]\n"
     ]
    },
    {
     "name": "stderr",
     "output_type": "stream",
     "text": [
      "\n"
     ]
    }
   ],
   "source": [
    "from tqdm import tqdm\n",
    "from collections import Counter\n",
    "\n",
    "# Assuming data_module is an instance of HangmanDataModule\n",
    "data_loader = data_module.train_dataloader()  # Call the method to get the DataLoader instance\n",
    "\n",
    "# Initialize a list to store the diversity of sequence lengths in each batch\n",
    "batch_seq_length_diversity = []\n",
    "\n",
    "for batch in tqdm(data_loader):\n",
    "    # Extract original_seq_lengths from the batch\n",
    "    print(batch.keys())\n",
    "    game_states = batch['guessed_states']\n",
    "    guessed_letters = batch['guessed_letters']\n",
    "    fets = analyze_and_extract_features(game_states, guesses)\n",
    "\n",
    "    print(game_states)\n",
    "    print(guessed_letters)\n",
    "    break"
   ]
  },
  {
   "cell_type": "code",
   "execution_count": 19,
   "metadata": {},
   "outputs": [
    {
     "ename": "NameError",
     "evalue": "name 'STOP' is not defined",
     "output_type": "error",
     "traceback": [
      "\u001b[0;31m---------------------------------------------------------------------------\u001b[0m",
      "\u001b[0;31mNameError\u001b[0m                                 Traceback (most recent call last)",
      "Cell \u001b[0;32mIn[19], line 1\u001b[0m\n\u001b[0;32m----> 1\u001b[0m \u001b[43mSTOP\u001b[49m\n",
      "\u001b[0;31mNameError\u001b[0m: name 'STOP' is not defined"
     ]
    }
   ],
   "source": [
    "STOP"
   ]
  },
  {
   "cell_type": "code",
   "execution_count": null,
   "metadata": {},
   "outputs": [
    {
     "name": "stderr",
     "output_type": "stream",
     "text": [
      "  0%|          | 0/7 [00:00<?, ?it/s]"
     ]
    }
   ],
   "source": [
    "from tqdm import tqdm\n",
    "from collections import Counter\n",
    "\n",
    "# Assuming data_module is an instance of HangmanDataModule\n",
    "data_loader = data_module.train_dataloader()  # Call the method to get the DataLoader instance\n",
    "\n",
    "# Initialize lists to store the diversity of sequence lengths and word lengths in each batch\n",
    "batch_seq_length_diversity = []\n",
    "batch_word_length_diversity = []\n",
    "\n",
    "for batch in tqdm(data_loader):\n",
    "    # Extract original_seq_lengths and word_len from the batch\n",
    "    original_seq_lengths = batch['original_seq_lengths']\n",
    "    word_lengths = batch['word_length']\n",
    "\n",
    "    # Analyze the diversity of sequence lengths in the current batch\n",
    "    unique_seq_lengths = set(original_seq_lengths)\n",
    "    batch_seq_length_diversity.append(len(unique_seq_lengths))\n",
    "\n",
    "    # Analyze the diversity of word lengths in the current batch\n",
    "    unique_word_lengths = set(word_lengths)\n",
    "    batch_word_length_diversity.append(len(unique_word_lengths))\n",
    "\n",
    "    # Count the number of examples under each unique sequence length\n",
    "    seq_len_counts = Counter(original_seq_lengths)\n",
    "    # Count the number of examples under each unique word length\n",
    "    word_len_counts = Counter(word_lengths)\n",
    "\n",
    "    print(f\"First state in batch: {batch['guessed_states'][0]}\")\n",
    "    print(f\"Unique sequence lengths in batch: {unique_seq_lengths}\")\n",
    "    print(f\"Diversity (number of unique sequence lengths) in batch: {len(unique_seq_lengths)}\")\n",
    "    print(f\"Number of examples under each unique sequence length in batch: {seq_len_counts}\")\n",
    "    print(f\"Unique word lengths in batch: {unique_word_lengths}\")\n",
    "    print(f\"Diversity (number of unique word lengths) in batch: {len(unique_word_lengths)}\")\n",
    "    print(f\"Number of examples under each unique word length in batch: {word_len_counts}\")\n",
    "\n",
    "    print()\n",
    "\n",
    "# After collecting data, analyze the overall diversity\n",
    "average_seq_length_diversity = sum(batch_seq_length_diversity) / len(batch_seq_length_diversity) if batch_seq_length_diversity else 0\n",
    "average_word_length_diversity = sum(batch_word_length_diversity) / len(batch_word_length_diversity) if batch_word_length_diversity else 0\n",
    "print(f\"Average diversity of sequence lengths across batches: {average_seq_length_diversity}\")\n",
    "print(f\"Average diversity of word lengths across batches: {average_word_length_diversity}\")"
   ]
  },
  {
   "cell_type": "code",
   "execution_count": null,
   "metadata": {},
   "outputs": [
    {
     "ename": "NameError",
     "evalue": "name 'STOP' is not defined",
     "output_type": "error",
     "traceback": [
      "\u001b[0;31m---------------------------------------------------------------------------\u001b[0m",
      "\u001b[0;31mNameError\u001b[0m                                 Traceback (most recent call last)",
      "Cell \u001b[0;32mIn[20], line 1\u001b[0m\n\u001b[0;32m----> 1\u001b[0m \u001b[43mSTOP\u001b[49m\n",
      "\u001b[0;31mNameError\u001b[0m: name 'STOP' is not defined"
     ]
    }
   ],
   "source": [
    "STOP"
   ]
  },
  {
   "cell_type": "code",
   "execution_count": null,
   "metadata": {},
   "outputs": [],
   "source": [
    "# Assuming data_module is an instance of HangmanDataModule\n",
    "data_loader = data_module.train_dataloader  # Call the method to get the DataLoader\n",
    "\n",
    "for batch in tqdm(data_loader()):\n",
    "    states = batch['guessed_states']\n",
    "    guesses = batch['guessed_letters']\n",
    "    max_seq_length = batch['max_seq_len']\n",
    "    original_seq_lengths = batch['original_seq_lengths']\n",
    "\n",
    "    # # Process the batch using your custom function\n",
    "    # batch_features, batch_missed_chars = process_batch_of_games(\n",
    "    #     states, guesses, char_frequency, max_word_length, max_seq_length)\n",
    "\n",
    "    # print(f\"Batch features shape: {batch_features.shape}\")\n",
    "    # break  # Remove this break to process all batches, it's here just to process the first batch\n",
    "\n",
    "    print(states[0])\n",
    "\n",
    "    print(original_seq_lengths[0])\n",
    "\n",
    "    break\n"
   ]
  },
  {
   "cell_type": "code",
   "execution_count": null,
   "metadata": {},
   "outputs": [],
   "source": [
    "import numpy as np\n",
    "from tqdm import tqdm\n",
    "\n",
    "# Assuming `data_loader` is already defined and configured\n",
    "total_samples_processed = 0\n",
    "batch_sizes = []\n",
    "\n",
    "for batch in tqdm(data_loader()):\n",
    "    batch_size_current = len(batch['guessed_states'])  # Assuming batch is a dictionary with 'guessed_states'\n",
    "    total_samples_processed += batch_size_current\n",
    "    batch_sizes.append(batch_size_current)"
   ]
  },
  {
   "cell_type": "code",
   "execution_count": null,
   "metadata": {},
   "outputs": [],
   "source": [
    "# Calculate expected values\n",
    "expected_num_batches = np.ceil(len(data_module.train_dataset) / data_module.batch_size)\n",
    "actual_num_batches = len(batch_sizes)\n",
    "final_batch_size = len(data_module.train_dataset) % data_module.batch_size or data_module.batch_size\n",
    "\n",
    "# Sanity checks\n",
    "print(f\"Expected number of batches: {expected_num_batches}\")\n",
    "print(f\"Actual number of batches: {actual_num_batches}\")\n",
    "print(f\"Expected final batch size: {final_batch_size}\")\n",
    "print(f\"Actual final batch size: {batch_sizes[-1]}\")\n",
    "print(f\"Total samples in dataset: {len(data_module.train_dataset)}\")\n",
    "print(f\"Total samples processed: {total_samples_processed}\")\n",
    "\n",
    "# Verifying if the dataset was fully covered\n",
    "assert total_samples_processed == len(data_module.train_dataset), \"Mismatch in the number of processed samples and dataset size.\""
   ]
  },
  {
   "cell_type": "code",
   "execution_count": null,
   "metadata": {},
   "outputs": [],
   "source": [
    "data_loader = data_module.val_dataloader\n",
    "\n",
    "for batch in data_loader():\n",
    "    states = batch['guessed_states']\n",
    "    guesses = batch['guessed_letters']\n",
    "    max_seq_length = batch['max_seq_len']\n",
    "    original_seq_lengths = batch['original_seq_lengths']\n",
    "\n",
    "\n",
    "    batch_features, batch_missed_chars = process_batch_of_games(\n",
    "                states, guesses, char_frequency,\n",
    "                    max_word_length,\n",
    "                    max_seq_length)\n",
    "\n",
    "    print(f\"{batch_features.shape}\")\n",
    "\n",
    "    break"
   ]
  },
  {
   "cell_type": "code",
   "execution_count": null,
   "metadata": {},
   "outputs": [],
   "source": [
    " dataset_size = len(data_module.train_dataloader().dataset)\n",
    "\n",
    " dataset_size"
   ]
  },
  {
   "cell_type": "code",
   "execution_count": null,
   "metadata": {},
   "outputs": [],
   "source": [
    "batch_size = data_module.train_dataloader().batch_size"
   ]
  },
  {
   "cell_type": "code",
   "execution_count": null,
   "metadata": {},
   "outputs": [],
   "source": [
    "batch_size"
   ]
  },
  {
   "cell_type": "code",
   "execution_count": null,
   "metadata": {},
   "outputs": [],
   "source": [
    "# Tunable hyperparameters\n",
    "LEARNING_RATE = 0.01\n",
    "HIDDEN_DIM = 32 ### 32\n",
    "NUM_LAYERS = 3\n",
    "EMBEDDING_DIM = 30"
   ]
  },
  {
   "cell_type": "code",
   "execution_count": null,
   "metadata": {},
   "outputs": [],
   "source": [
    "from scr.encoder import *\n",
    "from scr.trainer_ import *\n",
    "from scr.decoder import SimpleLSTM\n",
    "\n",
    "# Fixed parameters\n",
    "max_word_length = 29  # Maximum word length\n",
    "num_embeddings = 28   # Vocabulary size (fixed, based on unique characters in the game)\n",
    "num_features = 154     # Number of features per character\n",
    "missed_char_dim = 28  # Additional dimension for missed characters\n",
    "output_dim = 28       # Output dimension for the model\n",
    "\n",
    "char_feature_dim = 5  # Features per character\n",
    "embedding_dim = 50\n",
    "additional_state_features = num_features \\\n",
    "    - max_word_length * char_feature_dim   # Additional features per state\n",
    "\n",
    "print(f\"Addition state fetatures: {additional_state_features}\")\n",
    "# Initialize the Encoder\n",
    "\n",
    "encoder = Encoder(num_embeddings, embedding_dim, max_word_length, \\\n",
    "    char_feature_dim, additional_state_features)\n",
    "\n",
    "input_dim = max_word_length * embedding_dim + additional_state_features\n",
    "# Initialize the SimpleLSTM decoder\n",
    "decoder = SimpleLSTM(input_dim=input_dim, \n",
    "                     hidden_dim=HIDDEN_DIM, \n",
    "                     output_dim=output_dim, \n",
    "                     num_layers=NUM_LAYERS,\n",
    "                     missed_char_dim=missed_char_dim)\n",
    "\n",
    "# Other parts of the code flow..."
   ]
  },
  {
   "cell_type": "code",
   "execution_count": null,
   "metadata": {},
   "outputs": [],
   "source": [
    "# Initialize the HangmanModel\n",
    "lightning_model = HangmanModel(encoder, decoder, \n",
    "                    LEARNING_RATE, char_frequency, \n",
    "                    max_word_length, test_words=sampled_test_words)"
   ]
  },
  {
   "cell_type": "code",
   "execution_count": null,
   "metadata": {},
   "outputs": [],
   "source": [
    "lightning_model.optimizer_type"
   ]
  },
  {
   "cell_type": "code",
   "execution_count": null,
   "metadata": {},
   "outputs": [],
   "source": [
    "from scr.data_module import *\n",
    "\n",
    "# Initialize Data Module\n",
    "initial_batch_size = 1 # Set your initial batch size\n",
    "\n",
    "# Initialize Data Module with the required arguments\n",
    "data_module = HangmanDataModule(train_dataset, valid_dataset, \n",
    "                                initial_batch_size, \n",
    "                                custom_collate_fn)\n",
    "                                # performance_metrics=None)"
   ]
  },
  {
   "cell_type": "code",
   "execution_count": null,
   "metadata": {},
   "outputs": [],
   "source": [
    "from scr.custom_sampler import *\n",
    "from scr.dataset import *"
   ]
  },
  {
   "cell_type": "code",
   "execution_count": null,
   "metadata": {},
   "outputs": [],
   "source": [
    "# from scr.feature_engineering import *\n",
    "\n",
    "\n",
    "for batch in data_module.train_dataloader():\n",
    "    print(batch.keys())\n",
    "\n",
    "    states = batch['guessed_states']\n",
    "    guesses = batch['guessed_letters']\n",
    "    max_seq_length = batch['max_seq_len']\n",
    "    original_seq_lengths = batch['original_seq_lengths']\n",
    "\n",
    "    batch_features, batch_missed_chars = process_batch_of_games(\n",
    "                                    states, guesses, char_frequency,\n",
    "                                    max_word_length,\n",
    "                                    max_seq_length)\n",
    "\n",
    "    print(f\"Batch features shape {batch_features.shape}\\n\")\n",
    "\n",
    "\n",
    "    encoded_guess = pad_and_reshape_labels(guesses, max_seq_length)\n",
    "\n",
    "    print(f\"states: {states}\")\n",
    "    print(f\"Guesses: {guesses}\\n\")\n",
    "    print(f\"Guesses shape: {guesses}\\n\")\n",
    "    # print(f\"batch missed chars: {batch_missed_chars}\\n\")\n",
    "\n",
    "    # print(f\"Encoded guess: {encoded_guess}\\n\")\n",
    "\n",
    "\n",
    "    print(f\"batch missed chars shape: {batch_missed_chars.shape}\\n\")\n",
    "\n",
    "    print(f\"Encoded guess shape: {encoded_guess.shape}\\n\")\n",
    "\n",
    "\n",
    "    # Convert the batch to characters\n",
    "    missed_chars = batch_to_chars(batch_missed_chars)\n",
    "\n",
    "    print(f\"batch missed chars : So far present characters (that NN should not guess again): {missed_chars}\\n\")\n",
    "\n",
    "    break"
   ]
  },
  {
   "cell_type": "code",
   "execution_count": null,
   "metadata": {},
   "outputs": [],
   "source": [
    "STOP"
   ]
  },
  {
   "cell_type": "code",
   "execution_count": null,
   "metadata": {},
   "outputs": [],
   "source": [
    "## callbacks\n",
    "from pytorch_lightning.callbacks import Callback, EarlyStopping\n",
    "from scr.custom_callbacks import *\n",
    "\n",
    "# Setup EarlyStopping to monitor the test_win_rate\n",
    "early_stop_callback = EarlyStopping(\n",
    "    monitor='win_rate',\n",
    "    min_delta=0.00,\n",
    "    patience=200,\n",
    "    verbose=True,\n",
    "    mode='max'  # Maximize the win rate\n",
    ")\n",
    "\n",
    "step_level_early_stopping = StepLevelEarlyStopping(\n",
    "    monitor='val_miss_penalty', # Metric to monitor\n",
    "    min_delta=0.0,              # Minimum change to qualify as an improvement\n",
    "    patience=5                  # Number of steps with no improvement after which training will be stopped\n",
    ")"
   ]
  },
  {
   "cell_type": "code",
   "execution_count": null,
   "metadata": {},
   "outputs": [],
   "source": [
    "from pytorch_lightning.profilers import SimpleProfiler\n",
    "import pytorch_lightning as pl\n",
    "from scr.custom_callbacks import *\n",
    "from scr.dataset import *\n",
    "from scr.data_module import *\n",
    "from scr.trainer_ import *\n",
    "\n",
    "torch.cuda.empty_cache()\n",
    "\n",
    "# # Create Callbacks\n",
    "# loss_logging_callback = LossLoggingCallback()\n",
    "\n",
    "# , SchedulerSetupCallback()] # , loss_logging_callback]\n",
    "callbacks = [early_stop_callback, step_level_early_stopping] \n",
    "FAST_DEV_RUN = False\n",
    "# # Calculate the minimum percentage of validation batches\n",
    "# min_val_batches = 1 / len(data_module.val_dataloader())\n",
    "\n",
    "# # Create Trainer with Callbacks\n",
    "trainer = pl.Trainer(\n",
    "    default_root_dir=output_dir,\n",
    "    fast_dev_run=FAST_DEV_RUN, \n",
    "    max_epochs=MAX_EPOCH, \n",
    "    callbacks=callbacks,\n",
    "    num_sanity_val_steps=0,\n",
    "    reload_dataloaders_every_n_epochs=1,\n",
    "    enable_progress_bar=True \n",
    "    # val_check_interval=0.5\n",
    "    # limit_train_batches=2,  # Limit the number of training batches to 2\n",
    "    # limit_val_batches=2     # Limit the number of validation batches to 2\n",
    ")\n",
    "\n",
    "# # # # # print(f\"Running for {NUM_STRATIFIED_SAMPLES} samples...\")\n",
    "# # # print()\n",
    "# # # # # # # Assuming combined_eval_metrics is a list of dictionaries\n",
    "# combined_eval_metrics = trainer.validate(model=lightning_model, datamodule=data_module)\n",
    "\n",
    "# # performance_metrics_dict = {k: v for d in combined_eval_metrics for k, v in d.items()}\n",
    "\n",
    "# # # # # # print(\"Converted Performance Metrics Dictb ionary:\", performance_metrics_dict)\n",
    "\n",
    "# # trainer.datamodule.update_performance_metrics(combined_eval_metrics)\n",
    "\n",
    "# data_module.update_performance_metrics(performance_metrics_dict)"
   ]
  },
  {
   "cell_type": "code",
   "execution_count": null,
   "metadata": {},
   "outputs": [],
   "source": [
    "mo"
   ]
  },
  {
   "cell_type": "code",
   "execution_count": null,
   "metadata": {},
   "outputs": [],
   "source": [
    "STOP"
   ]
  },
  {
   "cell_type": "code",
   "execution_count": null,
   "metadata": {},
   "outputs": [],
   "source": [
    "# Sample data\n",
    "sample_game = {\n",
    "    'guessed_states': ['_d__d__e__', '_d__d__e__', '_d__d__e__', '_d__d_me__', \\\n",
    "        '_d__d_me__', '_d__d_me__', '_d__d_men_', '_d__d_men_'],\n",
    "    'guessed_letters': ['c', 'r', 'm', 'v', 'i', 'n', 'w', 'o']\n",
    "}"
   ]
  },
  {
   "cell_type": "code",
   "execution_count": null,
   "metadata": {},
   "outputs": [],
   "source": [
    "from scr.feature_engineering import *"
   ]
  },
  {
   "cell_type": "code",
   "execution_count": null,
   "metadata": {},
   "outputs": [],
   "source": [
    "# Define parameters\n",
    "max_word_length = 29  # Set as per your model's requirement\n",
    "max_seq_length = 10  # Set as per your model's requirement\n",
    "\n",
    "# # Dummy character frequency (example, create as per your data)\n",
    "# char_frequency = {char: 1 for char in 'abcdefghijklmnopqrstuvwxyz'}\n",
    "\n",
    "# Call the function and unpack the returned tuple into two variables\n",
    "char_sequence_tensor, missed_chars_tensor = process_game_sequence(\n",
    "    game_states=sample_game['guessed_states'], \n",
    "    guessed_letters_sequence=sample_game['guessed_letters'],\n",
    "    char_frequency=char_frequency, \n",
    "    max_word_length=max_word_length,\n",
    "    max_seq_length=max_seq_length\n",
    ")\n",
    "\n",
    "# Now you can print the shape of each tensor separately\n",
    "print(f\"Character Sequence Tensor Shape: {char_sequence_tensor.shape}\")\n",
    "print(f\"Missed Chars Tensor Shape: {missed_chars_tensor.shape}\")"
   ]
  },
  {
   "cell_type": "code",
   "execution_count": null,
   "metadata": {},
   "outputs": [],
   "source": [
    "from scr.feature_engineering import *"
   ]
  },
  {
   "cell_type": "code",
   "execution_count": null,
   "metadata": {},
   "outputs": [],
   "source": [
    "# Sample data for a batch of games\n",
    "batch_sample_games = {\n",
    "    'guessed_states_batch': [\n",
    "        ['_d__d__e__'],\n",
    "        # ['_b__b__t__'],\n",
    "        # ['__ll___p__'],\n",
    "    ],\n",
    "    \n",
    "    'guessed_letters_batch': [\n",
    "        ['c'],\n",
    "        # ['a'],\n",
    "        # ['i']\n",
    "    ]\n",
    "}"
   ]
  },
  {
   "cell_type": "code",
   "execution_count": null,
   "metadata": {},
   "outputs": [],
   "source": [
    "# # Sample data for a batch of games\n",
    "# batch_sample_games = {\n",
    "#     'guessed_states_batch': [\n",
    "#         ['_d__d__e__', '_d__d__e__', '_d__d__e__', '_d__d_me__', '_d__d_me__', '_d__d_me__', '_d__d_men_', '_d__d_men_'],\n",
    "#         ['_b__b__t__', '_b__b__t__', '_b__b__t__', '_b__b_t__', '_b__b_te__', '_b__b_te__', '_b__b_test', '_b__b_test'],\n",
    "#         ['__ll___p__', '__ll___p__', '__ll___p__', '__ll___p__', '__ll___p__', '__ll__op_', '__ll__op_', '__ll__op_']\n",
    "#     ],\n",
    "    \n",
    "#     'guessed_letters_batch': [\n",
    "#         ['c', 'r', 'm', 'v', 'i', 'n', 'w', 'o'],\n",
    "#         ['a', 's', 'e', 'f', 't', 'r', 'n', 'u'],\n",
    "#         ['i', 'q', 'r', 't', 'p', 'o', 'a', 's']\n",
    "#     ]\n",
    "# }\n",
    "\n",
    "# Define parameters\n",
    "max_word_length = 29  # Set as per your model's requirement\n",
    "max_seq_length = 10  # Set as per your model's requirement\n",
    "\n",
    "# # Dummy character frequency (example, create as per your data)\n",
    "# char_frequency = {char: 1 for char in 'abcdefghijklmnopqrstuvwxyz'}\n",
    "\n",
    "# Call the function\n",
    "batch_features, batch_missed_chars = process_batch_of_games(\n",
    "    batch_sample_games['guessed_states_batch'],\n",
    "    batch_sample_games['guessed_letters_batch'],\n",
    "    char_frequency,\n",
    "    max_word_length,\n",
    "    max_seq_length=1\n",
    ")\n",
    "\n",
    "print()\n",
    "# Print shapes for sanity check\n",
    "print(f\"Batch Features Shape: {batch_features.shape}\")\n",
    "print(f\"Batch Missed Chars Shape: {batch_missed_chars.shape}\")"
   ]
  },
  {
   "cell_type": "code",
   "execution_count": null,
   "metadata": {},
   "outputs": [],
   "source": [
    "batch_sample_games['guessed_states_batch'][0]"
   ]
  },
  {
   "cell_type": "code",
   "execution_count": null,
   "metadata": {},
   "outputs": [],
   "source": [
    "batch_sample_games['guessed_letters_batch'][0]"
   ]
  },
  {
   "cell_type": "code",
   "execution_count": null,
   "metadata": {},
   "outputs": [],
   "source": [
    "# Sample data\n",
    "sample_game = {\n",
    "    'guessed_states': ['_d__d__e__', '_d__d__e__', '_d__d__e__', '_d__d_me__', \\\n",
    "        '_d__d_me__', '_d__d_me__', '_d__d_men_', '_d__d_men_'],\n",
    "    'guessed_letters': ['c', 'r', 'm', 'v', 'i', 'n', 'w', 'o']\n",
    "}"
   ]
  },
  {
   "cell_type": "code",
   "execution_count": null,
   "metadata": {},
   "outputs": [],
   "source": [
    "overall_sucess_rate, guess_outcome = analyze_guess_outcomes(sample_game['guessed_states'], \\\n",
    "    sample_game['guessed_letters'], maximum_word_length=29)"
   ]
  },
  {
   "cell_type": "code",
   "execution_count": null,
   "metadata": {},
   "outputs": [],
   "source": [
    "overall_sucess_rate"
   ]
  },
  {
   "cell_type": "code",
   "execution_count": null,
   "metadata": {},
   "outputs": [],
   "source": [
    "guess_outcome"
   ]
  },
  {
   "cell_type": "code",
   "execution_count": null,
   "metadata": {},
   "outputs": [],
   "source": [
    "game_states = ['allMasked', 'early', 'quarterRevealed', 'midRevealed', \n",
    "               'midLateRevealed', 'lateRevealed', 'nearEnd']\n",
    "game_state_to_idx = {state: idx for idx, state in enumerate(game_states)}\n",
    "\n",
    "def encode_game_state(game_state):\n",
    "    state_vector = [0] * len(game_states)\n",
    "    state_index = game_state_to_idx.get(game_state, -1)\n",
    "    if state_index >= 0:\n",
    "        state_vector[state_index] = 1\n",
    "    return state_vector"
   ]
  },
  {
   "cell_type": "code",
   "execution_count": null,
   "metadata": {},
   "outputs": [],
   "source": [
    "from scr.data_module import *\n",
    "\n",
    "# Initialize Data Module\n",
    "initial_batch_size = 1  # Set your initial batch size\n",
    "\n",
    "# Initialize Data Module with the required arguments\n",
    "data_module = HangmanDataModule(train_dataset, valid_dataset, \n",
    "                                initial_batch_size, \n",
    "                                custom_collate_fn)\n",
    "                                # performance_metrics=None)\n",
    "\n",
    "# for batch in data_module.train_dataloader():\n",
    "#     # print(batch)\n",
    "\n",
    "# batch_features, batch_missed_chars = process_batch(next(iter(data_module.train_dataloader())), \\\n",
    "#     char_frequency, max_word_length)\n",
    "\n",
    "# print(batch_features.shape)\n",
    "# print(batch_missed_chars.shape)\n",
    "\n",
    "# # break\n",
    "\n",
    "for batch in data_module.train_dataloader():\n",
    "    states = batch['guessed_states']\n",
    "    # print(states.shape)\n",
    "    guesses = batch['guessed_letters']\n",
    "    max_seq_length = batch['max_seq_len']\n",
    "    original_seq_lengths = batch['original_seq_lengths']\n",
    "\n",
    "    # Print debug information\n",
    "    print(\"DEBUG INFO:\")\n",
    "    # Uncomment these if needed\n",
    "    # print(f\"Miss Penalty: {miss_penalty}\")\n",
    "    # print(f\"Type of Miss Penalty: {type(miss_penalty)}\")\n",
    "    print(f\"Batch Word Lengths: {batch['word_length']}\")\n",
    "    print(f\"Batch Difficulties: {batch['difficulty']}\")\n",
    "    print(f\"Batch Outcomes: {batch['outcome']}\")\n",
    "    print(f\"Batch Won Flags: {batch['won']}\")\n",
    "\n",
    "    # Print the entire batch\n",
    "    print(\"Batch Contents:\")\n",
    "    for key, value in batch.items():\n",
    "        print(f\"{key}: {value}\")\n",
    "\n",
    "    batch_features, batch_missed_chars = process_batch_of_games(\n",
    "        states, char_frequency,\n",
    "        max_word_length,\n",
    "        max_seq_length)\n",
    "\n",
    "    print()\n",
    "    print(f\"{batch_features.shape}\")\n",
    "    print(f\"{batch_missed_chars.shape}\")\n",
    "    break"
   ]
  },
  {
   "cell_type": "code",
   "execution_count": null,
   "metadata": {},
   "outputs": [],
   "source": [
    "miss_char.shape"
   ]
  },
  {
   "cell_type": "code",
   "execution_count": null,
   "metadata": {},
   "outputs": [],
   "source": [
    "# # # # Validate the model (if needed)\n",
    "# trainer.validate(model=lightning_model, datamodule=data_module)\n",
    "print(f\"Training Begin for {NUM_STRATIFIED_SAMPLES} words: {len(train_dataset)} Games\")\n",
    "# # # # # # Fit the model\n",
    "trainer.fit(lightning_model, data_module)\n",
    "\n",
    "# # Optionally print the profiler summary\n",
    "# print(profiler.summary())\n",
    "\n",
    "# Save the entire modell\n",
    "trained_model_file = models_dir / f\"{NUM_STRATIFIED_SAMPLES}_trained_model.pth\"\n",
    "torch.save(lightning_model, trained_model_file)\n",
    "print(f\"Model saved at {trained_model_file}\")"
   ]
  },
  {
   "cell_type": "code",
   "execution_count": null,
   "metadata": {},
   "outputs": [],
   "source": [
    "batch_features.shape"
   ]
  },
  {
   "cell_type": "code",
   "execution_count": null,
   "metadata": {},
   "outputs": [],
   "source": [
    "batch_missed_chars.shape"
   ]
  },
  {
   "cell_type": "code",
   "execution_count": null,
   "metadata": {},
   "outputs": [],
   "source": [
    "features, missed_chars = build_enhanced_feature_set(sample, \\\n",
    "    char_frequency, max_word_length)"
   ]
  },
  {
   "cell_type": "code",
   "execution_count": null,
   "metadata": {},
   "outputs": [],
   "source": [
    "features.shape"
   ]
  },
  {
   "cell_type": "code",
   "execution_count": null,
   "metadata": {},
   "outputs": [],
   "source": [
    "STOP"
   ]
  },
  {
   "cell_type": "code",
   "execution_count": null,
   "metadata": {},
   "outputs": [],
   "source": []
  },
  {
   "cell_type": "code",
   "execution_count": null,
   "metadata": {},
   "outputs": [],
   "source": []
  },
  {
   "cell_type": "code",
   "execution_count": null,
   "metadata": {},
   "outputs": [],
   "source": []
  },
  {
   "cell_type": "code",
   "execution_count": null,
   "metadata": {},
   "outputs": [],
   "source": [
    "import torch\n",
    "import torch.nn as nn\n",
    "\n",
    "# Sample dimensions\n",
    "missed_char_dim = 28  # Dimension of missed character vector\n",
    "hidden_dim = 10       # Arbitrary hidden dimension for output\n",
    "\n",
    "class TestModel(nn.Module):\n",
    "    def __init__(self):\n",
    "        super(TestModel, self).__init__()\n",
    "        self.miss_linear = nn.Linear(missed_char_dim, hidden_dim)\n",
    "\n",
    "    def forward(self, missed_chars):\n",
    "        missed_chars_processed = self.miss_linear(missed_chars)\n",
    "        return missed_chars_processed\n",
    "\n",
    "# Create model\n",
    "model = TestModel()\n",
    "\n",
    "# Sample data: a batch of size 1 with 28 missed character indicators\n",
    "# Creating a sample input with 28 values, each being 0 or 1\n",
    "missed_chars = torch.tensor([0, 1, 1, 0, 1, 0, 1, 0, 1, 0, 1, 1, 0, 1, 0, \\\n",
    "    1, 0, 1, 1, 0, 1, 0, 1, 1, 0, 1, 0, 1], dtype=torch.float)\n",
    "\n",
    "# Forward pass\n",
    "output = model(missed_chars)\n",
    "output.shape"
   ]
  },
  {
   "cell_type": "code",
   "execution_count": null,
   "metadata": {},
   "outputs": [],
   "source": [
    "def calculate_difficulty_score(metrics):\n",
    "    # Extracting the metrics\n",
    "    win_rate = metrics.get('performance_wins', 0)\n",
    "    avg_attempts = metrics.get('performance_total_attempts_used', 0)\n",
    "    miss_penalty = metrics.get('miss_penalty_avg', 0)\n",
    "\n",
    "    # Weights for each metric (these can be adjusted)\n",
    "    weight_win_rate = 1.0   # Higher weight as win rate is a strong indicator of difficulty\n",
    "    weight_avg_attempts = 0.5  # Moderate weight\n",
    "    weight_miss_penalty = 0.5  # Moderate weight\n",
    "\n",
    "    # Normalize the metrics (invert win rate as lower win rate indicates higher difficulty)\n",
    "    normalized_win_rate = (100 - win_rate) / 100\n",
    "    # normalized_avg_attempts = avg_attempts / 6  # Assuming max avg_attempts is 6\n",
    "    normalized_miss_penalty = miss_penalty  # Already in range 0 to 1\n",
    "\n",
    "    # Calculate the composite score\n",
    "    composite_score = (\n",
    "        weight_win_rate * normalized_win_rate +\n",
    "        weight_miss_penalty * normalized_miss_penalty\n",
    "    )\n",
    "\n",
    "    return composite_score\n",
    "\n",
    "# Example usage\n",
    "metrics = {\n",
    "    'performance_wins': 0,  # Example values\n",
    "    # 'performance_total_attempts_used': 6,\n",
    "    'miss_penalty_avg': 1\n",
    "}\n",
    "\n",
    "score = calculate_difficulty_score(metrics)\n",
    "print(\"Difficulty Score:\", score)\n",
    "\n",
    "# # Use the score to determine if the word length should be added to target pairs\n",
    "# if score >= 0.001:  # Define this threshold based on your game's difficulty scale\n",
    "#     target_pairs.append((int(word_length),))\n"
   ]
  },
  {
   "cell_type": "code",
   "execution_count": null,
   "metadata": {},
   "outputs": [],
   "source": [
    "def calculate_difficulty_score(metrics):\n",
    "    # Extracting the metrics\n",
    "    win_rate = metrics.get('performance_wins', 0)\n",
    "    miss_penalty = metrics.get('miss_penalty_avg', 0)\n",
    "\n",
    "    # Weights for each metric\n",
    "    weight_win_rate = 1.0   # Higher weight for win rate\n",
    "    weight_miss_penalty = 0.5  # Weight for miss penalty\n",
    "\n",
    "    # Normalize the metrics (invert win rate as lower win rate indicates higher difficulty)\n",
    "    normalized_win_rate = (100 - win_rate) / 100\n",
    "    normalized_miss_penalty = miss_penalty  # Already in range 0 to 1\n",
    "\n",
    "    # Calculate the composite score\n",
    "    composite_score = (\n",
    "        weight_win_rate * normalized_win_rate +\n",
    "        weight_miss_penalty * normalized_miss_penalty\n",
    "    )\n",
    "\n",
    "    return composite_score\n",
    "\n",
    "\n",
    "# Best-case scenario metrics\n",
    "best_case_metrics = {\n",
    "    'performance_wins': 100,  # Maximum win rate\n",
    "    'miss_penalty_avg': 0     # Minimum miss penalty\n",
    "}\n",
    "\n",
    "best_case_score = calculate_difficulty_score(best_case_metrics)\n",
    "print(\"Best-Case Difficulty Score:\", best_case_score)"
   ]
  },
  {
   "cell_type": "code",
   "execution_count": null,
   "metadata": {},
   "outputs": [],
   "source": [
    "# Worst-case scenario metrics\n",
    "worst_case_metrics = {\n",
    "    'performance_wins': 0,  # Minimum win rate\n",
    "    'miss_penalty_avg': 1   # Maximum miss penalty\n",
    "}\n",
    "\n",
    "worst_case_score = calculate_difficulty_score(worst_case_metrics)\n",
    "print(\"Worst-Case Difficulty Score:\", worst_case_score)"
   ]
  },
  {
   "cell_type": "code",
   "execution_count": null,
   "metadata": {},
   "outputs": [],
   "source": [
    "def calculate_difficulty_score(metrics, weight_win_rate=1.0, weight_miss_penalty=0.5):\n",
    "    \"\"\"\n",
    "    Calculates the difficulty score based on win rate and miss penalty.\n",
    "    \n",
    "    :param metrics: Dictionary containing 'performance_wins' and 'miss_penalty_avg'.\n",
    "    :param weight_win_rate: Weight for the win rate metric.\n",
    "    :param weight_miss_penalty: Weight for the miss penalty metric.\n",
    "    :return: Calculated difficulty score.\n",
    "    \"\"\"\n",
    "    # Extracting the metrics\n",
    "    win_rate = metrics.get('performance_wins', 0)\n",
    "    miss_penalty = metrics.get('miss_penalty_avg', 0)\n",
    "\n",
    "    # Normalize the metrics (invert win rate as lower win rate indicates higher difficulty)\n",
    "    normalized_win_rate = (100 - win_rate) / 100\n",
    "    normalized_miss_penalty = miss_penalty  # Already in range 0 to 1\n",
    "\n",
    "    # Calculate the composite score\n",
    "    composite_score = (\n",
    "        weight_win_rate * normalized_win_rate +\n",
    "        weight_miss_penalty * normalized_miss_penalty\n",
    "    )\n",
    "\n",
    "    return composite_score\n",
    "\n",
    "# Example usage with custom weights\n",
    "metrics = {\n",
    "    'performance_wins': 0,  # Example values\n",
    "    'miss_penalty_avg': 1\n",
    "}\n",
    "\n",
    "# Custom weights\n",
    "custom_weight_win_rate = 1.0\n",
    "custom_weight_miss_penalty = 0.5\n",
    "\n",
    "score = calculate_difficulty_score(metrics, custom_weight_win_rate, custom_weight_miss_penalty)\n",
    "print(\"Difficulty Score with Custom Weights:\", score)"
   ]
  },
  {
   "cell_type": "code",
   "execution_count": null,
   "metadata": {},
   "outputs": [],
   "source": [
    "aggregated_metrics = {\n",
    "    5: {'total_games': 100, 'wins': 60, 'total_attempts_used': 300, 'win_rate': 0.6, \\\n",
    "        'average_attempts_used': 3.0, 'miss_penalty': 0.02},\n",
    "    6: {'total_games': 150, 'wins': 90, 'total_attempts_used': 450, 'win_rate': 0.6, \\\n",
    "        'average_attempts_used': 3.0, 'miss_penalty': 0.03}\n",
    "}\n",
    "\n",
    "# Iterating over the dictionary\n",
    "for word_len, metrics in aggregated_metrics.items():\n",
    "    print(f\"Word Length: {word_len}\")\n",
    "    for key, value in metrics.items():\n",
    "        print(f\"  {key}: {value}\")"
   ]
  },
  {
   "cell_type": "code",
   "execution_count": null,
   "metadata": {},
   "outputs": [],
   "source": [
    "def select_target_pairs(performance_metrics, batch_size):\n",
    "    target_pairs = []\n",
    "\n",
    "    for word_length, metrics in performance_metrics.items():\n",
    "        # print(metrics)\n",
    "        win_rate = metrics.get('win_rate', 0)\n",
    "        avg_attempts = metrics.get('average_attempts_used', 0)\n",
    "\n",
    "        if win_rate <= 20 and avg_attempts >= 4:\n",
    "            target_pairs.append(word_length)\n",
    "\n",
    "    return target_pairs[:batch_size]\n",
    "\n",
    "# Test data\n",
    "performance_metrics = {\n",
    "    5: {'total_games': 100, 'wins': 60, 'total_attempts_used': 300, 'win_rate': 0.6, \n",
    "        'average_attempts_used': 4.0, 'miss_penalty': 0.02},\n",
    "    6: {'total_games': 150, 'wins': 90, 'total_attempts_used': 450, 'win_rate': 0.6, \n",
    "        'average_attempts_used': 4.0, 'miss_penalty': 0.03}\n",
    "}\n",
    "\n",
    "# Test the function\n",
    "batch_size = 10\n",
    "target_pairs = select_target_pairs(performance_metrics, batch_size)\n",
    "print(\"Target Pairs:\", target_pairs)"
   ]
  },
  {
   "cell_type": "code",
   "execution_count": null,
   "metadata": {},
   "outputs": [],
   "source": [
    "# def calculate_miss_penalty(outputs, miss_chars):\n",
    "#     if outputs.numel() == 0:\n",
    "#         print(\"Empty outputs tensor\")\n",
    "#         return torch.tensor(0.0, device=outputs.device)\n",
    "\n",
    "#     miss_penalty = torch.sum(outputs * miss_chars) / outputs.numel()\n",
    "#     return miss_penalty"
   ]
  },
  {
   "cell_type": "code",
   "execution_count": null,
   "metadata": {},
   "outputs": [],
   "source": [
    "from scr.feature_engineering import *"
   ]
  },
  {
   "cell_type": "code",
   "execution_count": null,
   "metadata": {},
   "outputs": [],
   "source": [
    "word = 'cat'\n",
    "\n",
    "encoded = encode_word(word)\n",
    "\n",
    "encoded"
   ]
  },
  {
   "cell_type": "code",
   "execution_count": null,
   "metadata": {},
   "outputs": [],
   "source": [
    "# Get missed characters tensor\n",
    "miss_chars = get_missed_characters(word)"
   ]
  },
  {
   "cell_type": "code",
   "execution_count": null,
   "metadata": {},
   "outputs": [],
   "source": [
    "miss_chars"
   ]
  },
  {
   "cell_type": "code",
   "execution_count": null,
   "metadata": {},
   "outputs": [],
   "source": [
    "# Creating a dummy output tensor for the word 'cat'\n",
    "word = 'cat'\n",
    "\n",
    "# Assumptions for the dummy output\n",
    "batch_size = 1  # Number of words in the batch\n",
    "max_seq_len = len(word)  # Maximum sequence length (length of the word)\n",
    "num_characters = 28  # Total number of characters in the vocabulary\n",
    "\n",
    "# Creating the dummy output tensor\n",
    "# For simplicity, filling it with random values between 0 and 1\n",
    "outputs = torch.rand((batch_size, max_seq_len, num_characters))\n",
    "\n",
    "outputs.shape, outputs"
   ]
  },
  {
   "cell_type": "code",
   "execution_count": null,
   "metadata": {},
   "outputs": [],
   "source": [
    "# probabilities = F.softmax(outputs, dim=-1)\n",
    "\n",
    "# probabilities"
   ]
  },
  {
   "cell_type": "code",
   "execution_count": null,
   "metadata": {},
   "outputs": [],
   "source": [
    "# Creating two dummy output tensors for the word 'cat'\n",
    "# One where all characters are accurately predicted and another where all are wrong\n",
    "\n",
    "# Accurate Predictions: Setting the confidence for the correct characters ('c', 'a', 't') to 1\n",
    "# and others to 0 for each position in the word\n",
    "correct_outputs = torch.zeros((batch_size, max_seq_len, num_characters))\n",
    "correct_outputs[0, 0, char_to_idx['c']] = 1  # High confidence for 'c' in the first position\n",
    "correct_outputs[0, 1, char_to_idx['a']] = 1  # High confidence for 'a' in the second position\n",
    "correct_outputs[0, 2, char_to_idx['t']] = 1  # High confidence for 't' in the third position\n",
    "\n",
    "# Wrong Predictions: Setting the confidence for incorrect characters to 1 and for correct ones to 0\n",
    "wrong_outputs = torch.ones((batch_size, max_seq_len, num_characters))\n",
    "wrong_outputs[0, 0, char_to_idx['c']] = 0  # Zero confidence for 'c' in the first position\n",
    "wrong_outputs[0, 1, char_to_idx['a']] = 0  # Zero confidence for 'a' in the second position\n",
    "wrong_outputs[0, 2, char_to_idx['t']] = 0  # Zero confidence for 't' in the third position\n",
    "\n",
    "correct_outputs.shape, wrong_outputs.shape"
   ]
  },
  {
   "cell_type": "code",
   "execution_count": null,
   "metadata": {},
   "outputs": [],
   "source": [
    "# Calculate miss penalty\n",
    "miss_penalty = calculate_miss_penalty(wrong_outputs, miss_chars)\n",
    "miss_penalty"
   ]
  },
  {
   "cell_type": "markdown",
   "metadata": {},
   "source": [
    "##### Data Dir"
   ]
  },
  {
   "cell_type": "code",
   "execution_count": null,
   "metadata": {},
   "outputs": [],
   "source": [
    "NUM_STRATIFIED_SAMPLES = 100 # This will be overwritten by Papermill\n",
    "\n",
    "NUM_WORD_SAMPLE = 1_000 # words for testing\n",
    "\n",
    "FAST_DEV_RUN = False\n",
    "\n",
    "MAX_EPOCH = 15"
   ]
  },
  {
   "cell_type": "code",
   "execution_count": null,
   "metadata": {},
   "outputs": [],
   "source": [
    "from pathlib import Path\n",
    "from scr.custom_sampler import *\n",
    "\n",
    "# Define the base directory and the paths for training and validation parquet files\n",
    "base_dataset_dir = Path(\"/media/sayem/510B93E12554BBD1/dataset/\")\n",
    "stratified_samples_dir = base_dataset_dir / str(NUM_STRATIFIED_SAMPLES)\n",
    "parquet_path = stratified_samples_dir / 'parquets'\n",
    "\n",
    "# Create directories for train and validation parquets if they don't exist\n",
    "parquet_path.mkdir(parents=True, exist_ok=True)\n",
    "# parquet_valid_path.mkdir(parents=True, exist_ok=True)\n",
    "\n",
    "# Define and create the directory for models\n",
    "models_dir = Path(\"/home/sayem/Desktop/Hangman/models\")\n",
    "models_dir.mkdir(parents=True, exist_ok=True)\n",
    "\n",
    "# Define your output directory\n",
    "# Define your output directory and logger directory\n",
    "output_dir = Path(\"/home/sayem/Desktop/Hangman/training_outputs\")\n",
    "logger_dir = output_dir / \"lightning_logs\"\n",
    "\n",
    "# Create the output and logger directories if they don't exist\n",
    "output_dir.mkdir(parents=True, exist_ok=True)\n",
    "logger_dir.mkdir(parents=True, exist_ok=True)\n",
    "\n",
    "# Define the file path for saving the testing words\n",
    "testing_words_file_path = stratified_samples_dir / \"testing_words.txt\"\n",
    "\n",
    "try:\n",
    "    testing_word_list = read_words(testing_words_file_path)\n",
    "    print(f\"Length of the testing word list: {len(testing_word_list)}\")\n",
    "    sampled_test_words = stratified_sample_by_length_and_uniqueness(testing_word_list, \\\n",
    "        NUM_WORD_SAMPLE)\n",
    "    print(f\"Sampled {len(sampled_test_words)} unique words for testing.\")\n",
    "except FileNotFoundError:\n",
    "    print(f\"File not found: {testing_words_file_path}\")\n",
    "\n",
    "print(len(sampled_test_words))"
   ]
  },
  {
   "cell_type": "markdown",
   "metadata": {},
   "source": [
    "##### Dataset Loading"
   ]
  },
  {
   "cell_type": "code",
   "execution_count": null,
   "metadata": {},
   "outputs": [],
   "source": [
    "# Create datasets directly from the saved parquet files\n",
    "hangman_dataset = HangmanDataset(parquet_path)\n",
    "# valid_dataset = HangmanDataset(parquet_valid_path)\n",
    "\n",
    "from scr.utils import *\n",
    "\n",
    "# Assuming `hangman_dataset` is an instance of HangmanDataset\n",
    "# Usage\n",
    "train_dataset, valid_dataset \\\n",
    "    = split_hangman_dataset(hangman_dataset, 0.8)\n",
    "\n",
    "print(len(train_dataset))\n",
    "print(len(valid_dataset))\n",
    "\n",
    "assert len(train_dataset) > len(valid_dataset)"
   ]
  },
  {
   "cell_type": "code",
   "execution_count": null,
   "metadata": {},
   "outputs": [],
   "source": [
    "hangman_dataset[(29,)]"
   ]
  },
  {
   "cell_type": "code",
   "execution_count": null,
   "metadata": {},
   "outputs": [],
   "source": [
    "train_dataset[(29,)]"
   ]
  },
  {
   "cell_type": "code",
   "execution_count": null,
   "metadata": {},
   "outputs": [],
   "source": [
    "train_dataset.get_all_group_labels()"
   ]
  },
  {
   "cell_type": "code",
   "execution_count": null,
   "metadata": {},
   "outputs": [],
   "source": [
    "len(train_dataset)"
   ]
  },
  {
   "cell_type": "code",
   "execution_count": null,
   "metadata": {},
   "outputs": [],
   "source": [
    "# Request a sample with word length 29\n",
    "word_length = 5\n",
    "sample = hangman_dataset[(word_length,)]\n",
    "sample"
   ]
  },
  {
   "cell_type": "code",
   "execution_count": null,
   "metadata": {},
   "outputs": [],
   "source": [
    "sample"
   ]
  },
  {
   "cell_type": "code",
   "execution_count": null,
   "metadata": {},
   "outputs": [],
   "source": [
    "from scr.data_module import *\n",
    "from scr.dataset import *\n",
    "\n",
    "# Initialize Data Module\n",
    "initial_batch_size = 128  # Set your initial batch size\n",
    "\n",
    "# Initialize Data Module with the required arguments\n",
    "data_module = HangmanDataModule(train_dataset, valid_dataset, \n",
    "                                initial_batch_size, \n",
    "                                custom_collate_fn)"
   ]
  },
  {
   "cell_type": "code",
   "execution_count": null,
   "metadata": {},
   "outputs": [],
   "source": [
    "train_loader = data_module.train_dataloader()"
   ]
  },
  {
   "cell_type": "code",
   "execution_count": null,
   "metadata": {},
   "outputs": [],
   "source": [
    "dummy_performance_metrics = {\n",
    "    \n",
    "    3: {'win_rate': 45, 'average_attempts_used': 5},\n",
    "    4: {'win_rate': 60, 'average_attempts_used': 3},  # This won't be selected due to high win rate\n",
    "    5: {'win_rate': 30, 'average_attempts_used': 6},\n",
    "    6: {'win_rate': 48, 'average_attempts_used': 4},\n",
    "    # ... add more dummy metrics as needed ...\n",
    "}"
   ]
  },
  {
   "cell_type": "code",
   "execution_count": null,
   "metadata": {},
   "outputs": [],
   "source": [
    "# Initialize PerformanceBasedSampler\n",
    "sampler = PerformanceBasedSampler(dataset=hangman_dataset, \n",
    "                                  performance_metrics=dummy_performance_metrics, \n",
    "                                  batch_size=10)\n",
    "\n",
    "# Verify target pairs\n",
    "print(\"Target pairs:\", sampler.target_pairs)"
   ]
  },
  {
   "cell_type": "code",
   "execution_count": null,
   "metadata": {},
   "outputs": [],
   "source": [
    "next(iter(sampler))"
   ]
  },
  {
   "cell_type": "code",
   "execution_count": null,
   "metadata": {},
   "outputs": [],
   "source": [
    "train_dataset[(1,)]"
   ]
  },
  {
   "cell_type": "code",
   "execution_count": null,
   "metadata": {},
   "outputs": [],
   "source": []
  }
 ],
 "metadata": {
  "kernelspec": {
   "display_name": "optiver",
   "language": "python",
   "name": "python3"
  },
  "language_info": {
   "codemirror_mode": {
    "name": "ipython",
    "version": 3
   },
   "file_extension": ".py",
   "mimetype": "text/x-python",
   "name": "python",
   "nbconvert_exporter": "python",
   "pygments_lexer": "ipython3",
   "version": "3.10.13"
  }
 },
 "nbformat": 4,
 "nbformat_minor": 2
}
