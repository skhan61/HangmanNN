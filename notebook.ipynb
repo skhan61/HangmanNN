{
 "cells": [
  {
   "cell_type": "markdown",
   "metadata": {},
   "source": [
    "##### Imports"
   ]
  },
  {
   "cell_type": "code",
   "execution_count": 1,
   "metadata": {},
   "outputs": [],
   "source": [
    "import sys\n",
    "from pathlib import Path\n",
    "import warnings\n",
    "\n",
    "import warnings\n",
    "import pandas as pd\n",
    "warnings.filterwarnings('ignore')\n",
    "\n",
    "pd.set_option('display.max_columns', 1000)\n",
    "pd.set_option('display.max_rows', 1000)\n",
    "\n",
    "import sys\n",
    "# Custom library paths\n",
    "sys.path.extend(['../', './scr'])\n",
    "\n",
    "from scr.utils import set_seed\n",
    "from scr.utils import read_words\n",
    "from pathlib import Path\n",
    "import random\n",
    "from collections import Counter, defaultdict\n",
    "import pickle\n",
    "from tqdm import tqdm\n",
    "from torch.utils.data import Dataset\n",
    "\n",
    "from scr.utils import read_words, save_words_to_file\n",
    "\n",
    "import pickle\n",
    "from pathlib import Path\n",
    "from scr.dataset import *\n",
    "from scr.utils import *\n",
    "# # For inference\n",
    "from scr.feature_engineering import *\n",
    "\n",
    "import gc\n",
    "\n",
    "set_seed(42)\n",
    "\n",
    "import torch\n",
    "import torch.nn as nn\n",
    "from pathlib import Path\n",
    "import random\n",
    "\n",
    "from scr.utils import print_scenarios\n",
    "torch.set_float32_matmul_precision('medium')\n",
    "from pathlib import Path\n",
    "\n",
    "# Device configuration\n",
    "device = torch.device(\"cuda\" if torch.cuda.is_available() else \"cpu\")\n",
    "\n",
    "# # Read and Shuffle Word List\n",
    "word_list = read_words('data/words_250000_train.txt') # , limit=10000)\n",
    "# word_list = read_words('data/250k.txt', limit=10000)\n",
    "\n",
    "random.shuffle(word_list)\n",
    "\n",
    "# Calculate Frequencies and Max Word Length\n",
    "word_frequencies = calculate_word_frequencies(word_list)\n",
    "char_frequency = calculate_char_frequencies(word_list)\n",
    "max_word_length = max(len(word) for word in word_list)"
   ]
  },
  {
   "cell_type": "markdown",
   "metadata": {},
   "source": [
    "##### Data Dir"
   ]
  },
  {
   "cell_type": "code",
   "execution_count": 2,
   "metadata": {},
   "outputs": [],
   "source": [
    "NUM_STRATIFIED_SAMPLES = 2_00 # This will be overwritten by Papermill\n",
    "\n",
    "NUM_WORD_SAMPLE = 1_000 # words for testing\n",
    "\n",
    "FAST_DEV_RUN = False\n",
    "\n",
    "MAX_EPOCH = 250"
   ]
  },
  {
   "cell_type": "code",
   "execution_count": 3,
   "metadata": {},
   "outputs": [
    {
     "name": "stdout",
     "output_type": "stream",
     "text": [
      "Length of the testing word list: 10048\n",
      "Sampled 1085 unique words for testing.\n",
      "1085\n"
     ]
    }
   ],
   "source": [
    "from pathlib import Path\n",
    "from scr.custom_sampler import *\n",
    "\n",
    "# Define the base directory and the paths for training and validation parquet files\n",
    "base_dataset_dir = Path(\"/media/sayem/510B93E12554BBD1/dataset/\")\n",
    "stratified_samples_dir = base_dataset_dir / str(NUM_STRATIFIED_SAMPLES)\n",
    "parquet_path = stratified_samples_dir / 'parquets'\n",
    "\n",
    "# Create directories for train and validation parquets if they don't exist\n",
    "parquet_path.mkdir(parents=True, exist_ok=True)\n",
    "# parquet_valid_path.mkdir(parents=True, exist_ok=True)\n",
    "\n",
    "# Define and create the directory for models\n",
    "models_dir = Path(\"/home/sayem/Desktop/Hangman/models\")\n",
    "models_dir.mkdir(parents=True, exist_ok=True)\n",
    "\n",
    "# Define your output directory\n",
    "# Define your output directory and logger directory\n",
    "output_dir = Path(\"/home/sayem/Desktop/Hangman/training_outputs\")\n",
    "logger_dir = output_dir / \"lightning_logs\"\n",
    "\n",
    "# Create the output and logger directories if they don't exist\n",
    "output_dir.mkdir(parents=True, exist_ok=True)\n",
    "logger_dir.mkdir(parents=True, exist_ok=True)\n",
    "\n",
    "# Define the file path for saving the testing words\n",
    "testing_words_file_path = stratified_samples_dir / \"testing_words.txt\"\n",
    "\n",
    "try:\n",
    "    testing_word_list = read_words(testing_words_file_path)\n",
    "    print(f\"Length of the testing word list: {len(testing_word_list)}\")\n",
    "    sampled_test_words = stratified_sample_by_length_and_uniqueness(testing_word_list, NUM_WORD_SAMPLE)\n",
    "    print(f\"Sampled {len(sampled_test_words)} unique words for testing.\")\n",
    "except FileNotFoundError:\n",
    "    print(f\"File not found: {testing_words_file_path}\")\n",
    "\n",
    "print(len(sampled_test_words))"
   ]
  },
  {
   "cell_type": "markdown",
   "metadata": {},
   "source": [
    "##### Dataset Loading and train test split"
   ]
  },
  {
   "cell_type": "code",
   "execution_count": 4,
   "metadata": {},
   "outputs": [],
   "source": [
    "# Create datasets directly from the saved parquet files\n",
    "hangman_dataset = HangmanDataset(parquet_path)\n",
    "# valid_dataset = HangmanDataset(parquet_valid_path)\n",
    "\n",
    "from scr.utils import *\n",
    "\n",
    "# print(len(train_dataset))\n",
    "# print(len(valid_dataset))\n",
    "\n",
    "# assert len(train_dataset) > len(valid_dataset)\n",
    "\n",
    "# Assuming `hangman_dataset` is an instance of HangmanDataset\n",
    "train_dataset, valid_dataset = split_hangman_dataset(hangman_dataset)"
   ]
  },
  {
   "cell_type": "code",
   "execution_count": 5,
   "metadata": {},
   "outputs": [
    {
     "data": {
      "text/plain": [
       "{'game_id': 2884,\n",
       " 'word': 'antanagoge',\n",
       " 'initial_state': ['_n__n_goge'],\n",
       " 'final_state': '_nt_n_goge',\n",
       " 'guessed_states': ['_n__n_goge',\n",
       "  '_nt_n_goge',\n",
       "  '_nt_n_goge',\n",
       "  '_nt_n_goge',\n",
       "  '_nt_n_goge',\n",
       "  '_nt_n_goge',\n",
       "  '_nt_n_goge'],\n",
       " 'guessed_letters': ['t', 'z', 's', 'h', 'q', 'f', 'y'],\n",
       " 'game_state': 'midLateRevealed',\n",
       " 'difficulty': 'hard',\n",
       " 'outcome': 'win',\n",
       " 'word_length': 10,\n",
       " 'won': False}"
      ]
     },
     "execution_count": 5,
     "metadata": {},
     "output_type": "execute_result"
    }
   ],
   "source": [
    "hangman_dataset[(10,)]"
   ]
  },
  {
   "cell_type": "code",
   "execution_count": 6,
   "metadata": {},
   "outputs": [],
   "source": [
    "# Sample data\n",
    "sample_game = {\n",
    "    'guessed_states': ['_d__d__e__', '_d__d__e__', '_d__d__e__', '_d__d_me__', \\\n",
    "        '_d__d_me__', '_d__d_me__', '_d__d_men_', '_d__d_men_'],\n",
    "    'guessed_letters': ['c', 'r', 'm', 'v', 'i', 'n', 'w', 'o']\n",
    "}"
   ]
  },
  {
   "cell_type": "code",
   "execution_count": 7,
   "metadata": {},
   "outputs": [],
   "source": [
    "from scr.feature_engineering import *"
   ]
  },
  {
   "cell_type": "code",
   "execution_count": 8,
   "metadata": {},
   "outputs": [
    {
     "name": "stdout",
     "output_type": "stream",
     "text": [
      "Character Sequence Tensor Shape: torch.Size([8, 154])\n",
      "Missed Chars Tensor Shape: torch.Size([8, 28])\n"
     ]
    }
   ],
   "source": [
    "# Define parameters\n",
    "max_word_length = 29  # Set as per your model's requirement\n",
    "max_seq_length = 10  # Set as per your model's requirement\n",
    "\n",
    "# # Dummy character frequency (example, create as per your data)\n",
    "# char_frequency = {char: 1 for char in 'abcdefghijklmnopqrstuvwxyz'}\n",
    "\n",
    "# Call the function and unpack the returned tuple into two variables\n",
    "char_sequence_tensor, missed_chars_tensor = process_game_sequence(\n",
    "    game_states=sample_game['guessed_states'], \n",
    "    guessed_letters_sequence=sample_game['guessed_letters'],\n",
    "    char_frequency=char_frequency, \n",
    "    max_word_length=max_word_length,\n",
    "    max_seq_length=max_seq_length\n",
    ")\n",
    "\n",
    "# Now you can print the shape of each tensor separately\n",
    "print(f\"Character Sequence Tensor Shape: {char_sequence_tensor.shape}\")\n",
    "print(f\"Missed Chars Tensor Shape: {missed_chars_tensor.shape}\")"
   ]
  },
  {
   "cell_type": "code",
   "execution_count": 9,
   "metadata": {},
   "outputs": [],
   "source": [
    "from scr.feature_engineering import *"
   ]
  },
  {
   "cell_type": "code",
   "execution_count": 10,
   "metadata": {},
   "outputs": [],
   "source": [
    "# Sample data for a batch of games\n",
    "batch_sample_games = {\n",
    "    'guessed_states_batch': [\n",
    "        ['_d__d__e__'],\n",
    "        # ['_b__b__t__'],\n",
    "        # ['__ll___p__'],\n",
    "    ],\n",
    "    \n",
    "    'guessed_letters_batch': [\n",
    "        ['c'],\n",
    "        # ['a'],\n",
    "        # ['i']\n",
    "    ]\n",
    "}"
   ]
  },
  {
   "cell_type": "code",
   "execution_count": 11,
   "metadata": {},
   "outputs": [
    {
     "name": "stdout",
     "output_type": "stream",
     "text": [
      "\n",
      "Batch Features Shape: torch.Size([1, 1, 154])\n",
      "Batch Missed Chars Shape: torch.Size([1, 1, 28])\n"
     ]
    }
   ],
   "source": [
    "# # Sample data for a batch of games\n",
    "# batch_sample_games = {\n",
    "#     'guessed_states_batch': [\n",
    "#         ['_d__d__e__', '_d__d__e__', '_d__d__e__', '_d__d_me__', '_d__d_me__', '_d__d_me__', '_d__d_men_', '_d__d_men_'],\n",
    "#         ['_b__b__t__', '_b__b__t__', '_b__b__t__', '_b__b_t__', '_b__b_te__', '_b__b_te__', '_b__b_test', '_b__b_test'],\n",
    "#         ['__ll___p__', '__ll___p__', '__ll___p__', '__ll___p__', '__ll___p__', '__ll__op_', '__ll__op_', '__ll__op_']\n",
    "#     ],\n",
    "    \n",
    "#     'guessed_letters_batch': [\n",
    "#         ['c', 'r', 'm', 'v', 'i', 'n', 'w', 'o'],\n",
    "#         ['a', 's', 'e', 'f', 't', 'r', 'n', 'u'],\n",
    "#         ['i', 'q', 'r', 't', 'p', 'o', 'a', 's']\n",
    "#     ]\n",
    "# }\n",
    "\n",
    "# Define parameters\n",
    "max_word_length = 29  # Set as per your model's requirement\n",
    "max_seq_length = 10  # Set as per your model's requirement\n",
    "\n",
    "# # Dummy character frequency (example, create as per your data)\n",
    "# char_frequency = {char: 1 for char in 'abcdefghijklmnopqrstuvwxyz'}\n",
    "\n",
    "# Call the function\n",
    "batch_features, batch_missed_chars = process_batch_of_games(\n",
    "    batch_sample_games['guessed_states_batch'],\n",
    "    batch_sample_games['guessed_letters_batch'],\n",
    "    char_frequency,\n",
    "    max_word_length,\n",
    "    max_seq_length=1\n",
    ")\n",
    "\n",
    "print()\n",
    "# Print shapes for sanity check\n",
    "print(f\"Batch Features Shape: {batch_features.shape}\")\n",
    "print(f\"Batch Missed Chars Shape: {batch_missed_chars.shape}\")"
   ]
  },
  {
   "cell_type": "code",
   "execution_count": 12,
   "metadata": {},
   "outputs": [
    {
     "data": {
      "text/plain": [
       "['_d__d__e__']"
      ]
     },
     "execution_count": 12,
     "metadata": {},
     "output_type": "execute_result"
    }
   ],
   "source": [
    "batch_sample_games['guessed_states_batch'][0]"
   ]
  },
  {
   "cell_type": "code",
   "execution_count": 13,
   "metadata": {},
   "outputs": [
    {
     "data": {
      "text/plain": [
       "['c']"
      ]
     },
     "execution_count": 13,
     "metadata": {},
     "output_type": "execute_result"
    }
   ],
   "source": [
    "batch_sample_games['guessed_letters_batch'][0]"
   ]
  },
  {
   "cell_type": "code",
   "execution_count": 14,
   "metadata": {},
   "outputs": [],
   "source": [
    "# Sample data\n",
    "sample_game = {\n",
    "    'guessed_states': ['_d__d__e__', '_d__d__e__', '_d__d__e__', '_d__d_me__', \\\n",
    "        '_d__d_me__', '_d__d_me__', '_d__d_men_', '_d__d_men_'],\n",
    "    'guessed_letters': ['c', 'r', 'm', 'v', 'i', 'n', 'w', 'o']\n",
    "}"
   ]
  },
  {
   "cell_type": "code",
   "execution_count": 15,
   "metadata": {},
   "outputs": [],
   "source": [
    "overall_sucess_rate, guess_outcome = analyze_guess_outcomes(sample_game['guessed_states'], \\\n",
    "    sample_game['guessed_letters'], maximum_word_length=29)"
   ]
  },
  {
   "cell_type": "code",
   "execution_count": 16,
   "metadata": {},
   "outputs": [
    {
     "data": {
      "text/plain": [
       "0.07142857142857142"
      ]
     },
     "execution_count": 16,
     "metadata": {},
     "output_type": "execute_result"
    }
   ],
   "source": [
    "overall_sucess_rate"
   ]
  },
  {
   "cell_type": "code",
   "execution_count": 17,
   "metadata": {},
   "outputs": [
    {
     "data": {
      "text/plain": [
       "[0, 0, 1, 0, 0, 1, 0]"
      ]
     },
     "execution_count": 17,
     "metadata": {},
     "output_type": "execute_result"
    }
   ],
   "source": [
    "guess_outcome"
   ]
  },
  {
   "cell_type": "code",
   "execution_count": 18,
   "metadata": {},
   "outputs": [],
   "source": [
    "game_states = ['allMasked', 'early', 'quarterRevealed', 'midRevealed', \n",
    "               'midLateRevealed', 'lateRevealed', 'nearEnd']\n",
    "game_state_to_idx = {state: idx for idx, state in enumerate(game_states)}\n",
    "\n",
    "def encode_game_state(game_state):\n",
    "    state_vector = [0] * len(game_states)\n",
    "    state_index = game_state_to_idx.get(game_state, -1)\n",
    "    if state_index >= 0:\n",
    "        state_vector[state_index] = 1\n",
    "    return state_vector"
   ]
  },
  {
   "cell_type": "code",
   "execution_count": 19,
   "metadata": {},
   "outputs": [
    {
     "name": "stdout",
     "output_type": "stream",
     "text": [
      "Normal sampler kicked...\n",
      "DEBUG INFO:\n",
      "Batch Word Lengths: [20]\n",
      "Batch Difficulties: ['easy']\n",
      "Batch Outcomes: ['win']\n",
      "Batch Won Flags: [False]\n",
      "Batch Contents:\n",
      "guessed_states: [['noncon_escen_ingness']]\n",
      "guessed_letters: [['d']]\n",
      "max_seq_len: 1\n",
      "original_seq_lengths: [1]\n",
      "difficulty: ['easy']\n",
      "outcome: ['win']\n",
      "word_length: [20]\n",
      "won: [False]\n"
     ]
    },
    {
     "ename": "TypeError",
     "evalue": "process_batch_of_games() missing 1 required positional argument: 'max_seq_length'",
     "output_type": "error",
     "traceback": [
      "\u001b[0;31m---------------------------------------------------------------------------\u001b[0m",
      "\u001b[0;31mTypeError\u001b[0m                                 Traceback (most recent call last)",
      "Cell \u001b[0;32mIn[19], line 45\u001b[0m\n\u001b[1;32m     42\u001b[0m \u001b[38;5;28;01mfor\u001b[39;00m key, value \u001b[38;5;129;01min\u001b[39;00m batch\u001b[38;5;241m.\u001b[39mitems():\n\u001b[1;32m     43\u001b[0m     \u001b[38;5;28mprint\u001b[39m(\u001b[38;5;124mf\u001b[39m\u001b[38;5;124m\"\u001b[39m\u001b[38;5;132;01m{\u001b[39;00mkey\u001b[38;5;132;01m}\u001b[39;00m\u001b[38;5;124m: \u001b[39m\u001b[38;5;132;01m{\u001b[39;00mvalue\u001b[38;5;132;01m}\u001b[39;00m\u001b[38;5;124m\"\u001b[39m)\n\u001b[0;32m---> 45\u001b[0m batch_features, batch_missed_chars \u001b[38;5;241m=\u001b[39m \u001b[43mprocess_batch_of_games\u001b[49m\u001b[43m(\u001b[49m\n\u001b[1;32m     46\u001b[0m \u001b[43m    \u001b[49m\u001b[43mstates\u001b[49m\u001b[43m,\u001b[49m\u001b[43m \u001b[49m\u001b[43mchar_frequency\u001b[49m\u001b[43m,\u001b[49m\n\u001b[1;32m     47\u001b[0m \u001b[43m    \u001b[49m\u001b[43mmax_word_length\u001b[49m\u001b[43m,\u001b[49m\n\u001b[1;32m     48\u001b[0m \u001b[43m    \u001b[49m\u001b[43mmax_seq_length\u001b[49m\u001b[43m)\u001b[49m\n\u001b[1;32m     50\u001b[0m \u001b[38;5;28mprint\u001b[39m()\n\u001b[1;32m     51\u001b[0m \u001b[38;5;28mprint\u001b[39m(\u001b[38;5;124mf\u001b[39m\u001b[38;5;124m\"\u001b[39m\u001b[38;5;132;01m{\u001b[39;00mbatch_features\u001b[38;5;241m.\u001b[39mshape\u001b[38;5;132;01m}\u001b[39;00m\u001b[38;5;124m\"\u001b[39m)\n",
      "\u001b[0;31mTypeError\u001b[0m: process_batch_of_games() missing 1 required positional argument: 'max_seq_length'"
     ]
    }
   ],
   "source": [
    "from scr.data_module import *\n",
    "\n",
    "# Initialize Data Module\n",
    "initial_batch_size = 1  # Set your initial batch size\n",
    "\n",
    "# Initialize Data Module with the required arguments\n",
    "data_module = HangmanDataModule(train_dataset, valid_dataset, \n",
    "                                initial_batch_size, \n",
    "                                custom_collate_fn)\n",
    "                                # performance_metrics=None)\n",
    "\n",
    "# for batch in data_module.train_dataloader():\n",
    "#     # print(batch)\n",
    "\n",
    "# batch_features, batch_missed_chars = process_batch(next(iter(data_module.train_dataloader())), \\\n",
    "#     char_frequency, max_word_length)\n",
    "\n",
    "# print(batch_features.shape)\n",
    "# print(batch_missed_chars.shape)\n",
    "\n",
    "# # break\n",
    "\n",
    "for batch in data_module.train_dataloader():\n",
    "    states = batch['guessed_states']\n",
    "    # print(states.shape)\n",
    "    guesses = batch['guessed_letters']\n",
    "    max_seq_length = batch['max_seq_len']\n",
    "    original_seq_lengths = batch['original_seq_lengths']\n",
    "\n",
    "    # Print debug information\n",
    "    print(\"DEBUG INFO:\")\n",
    "    # Uncomment these if needed\n",
    "    # print(f\"Miss Penalty: {miss_penalty}\")\n",
    "    # print(f\"Type of Miss Penalty: {type(miss_penalty)}\")\n",
    "    print(f\"Batch Word Lengths: {batch['word_length']}\")\n",
    "    print(f\"Batch Difficulties: {batch['difficulty']}\")\n",
    "    print(f\"Batch Outcomes: {batch['outcome']}\")\n",
    "    print(f\"Batch Won Flags: {batch['won']}\")\n",
    "\n",
    "    # Print the entire batch\n",
    "    print(\"Batch Contents:\")\n",
    "    for key, value in batch.items():\n",
    "        print(f\"{key}: {value}\")\n",
    "\n",
    "    batch_features, batch_missed_chars = process_batch_of_games(\n",
    "        states, char_frequency,\n",
    "        max_word_length,\n",
    "        max_seq_length)\n",
    "\n",
    "    print()\n",
    "    print(f\"{batch_features.shape}\")\n",
    "    print(f\"{batch_missed_chars.shape}\")\n",
    "    break"
   ]
  },
  {
   "cell_type": "code",
   "execution_count": null,
   "metadata": {},
   "outputs": [],
   "source": [
    "miss_char.shape"
   ]
  },
  {
   "cell_type": "code",
   "execution_count": null,
   "metadata": {},
   "outputs": [],
   "source": [
    "# # # # Validate the model (if needed)\n",
    "# trainer.validate(model=lightning_model, datamodule=data_module)\n",
    "print(f\"Training Begin for {NUM_STRATIFIED_SAMPLES} words: {len(train_dataset)} Games\")\n",
    "# # # # # # Fit the model\n",
    "trainer.fit(lightning_model, data_module)\n",
    "\n",
    "# # Optionally print the profiler summary\n",
    "# print(profiler.summary())\n",
    "\n",
    "# Save the entire modell\n",
    "trained_model_file = models_dir / f\"{NUM_STRATIFIED_SAMPLES}_trained_model.pth\"\n",
    "torch.save(lightning_model, trained_model_file)\n",
    "print(f\"Model saved at {trained_model_file}\")"
   ]
  },
  {
   "cell_type": "code",
   "execution_count": null,
   "metadata": {},
   "outputs": [],
   "source": [
    "batch_features.shape"
   ]
  },
  {
   "cell_type": "code",
   "execution_count": null,
   "metadata": {},
   "outputs": [],
   "source": [
    "batch_missed_chars.shape"
   ]
  },
  {
   "cell_type": "code",
   "execution_count": null,
   "metadata": {},
   "outputs": [],
   "source": [
    "features, missed_chars = build_enhanced_feature_set(sample, \\\n",
    "    char_frequency, max_word_length)"
   ]
  },
  {
   "cell_type": "code",
   "execution_count": null,
   "metadata": {},
   "outputs": [],
   "source": [
    "features.shape"
   ]
  },
  {
   "cell_type": "code",
   "execution_count": null,
   "metadata": {},
   "outputs": [],
   "source": [
    "STOP"
   ]
  },
  {
   "cell_type": "code",
   "execution_count": null,
   "metadata": {},
   "outputs": [],
   "source": []
  },
  {
   "cell_type": "code",
   "execution_count": null,
   "metadata": {},
   "outputs": [],
   "source": []
  },
  {
   "cell_type": "code",
   "execution_count": null,
   "metadata": {},
   "outputs": [],
   "source": []
  },
  {
   "cell_type": "code",
   "execution_count": null,
   "metadata": {},
   "outputs": [],
   "source": [
    "import torch\n",
    "import torch.nn as nn\n",
    "\n",
    "# Sample dimensions\n",
    "missed_char_dim = 28  # Dimension of missed character vector\n",
    "hidden_dim = 10       # Arbitrary hidden dimension for output\n",
    "\n",
    "class TestModel(nn.Module):\n",
    "    def __init__(self):\n",
    "        super(TestModel, self).__init__()\n",
    "        self.miss_linear = nn.Linear(missed_char_dim, hidden_dim)\n",
    "\n",
    "    def forward(self, missed_chars):\n",
    "        missed_chars_processed = self.miss_linear(missed_chars)\n",
    "        return missed_chars_processed\n",
    "\n",
    "# Create model\n",
    "model = TestModel()\n",
    "\n",
    "# Sample data: a batch of size 1 with 28 missed character indicators\n",
    "# Creating a sample input with 28 values, each being 0 or 1\n",
    "missed_chars = torch.tensor([0, 1, 1, 0, 1, 0, 1, 0, 1, 0, 1, 1, 0, 1, 0, \\\n",
    "    1, 0, 1, 1, 0, 1, 0, 1, 1, 0, 1, 0, 1], dtype=torch.float)\n",
    "\n",
    "# Forward pass\n",
    "output = model(missed_chars)\n",
    "output.shape"
   ]
  },
  {
   "cell_type": "code",
   "execution_count": null,
   "metadata": {},
   "outputs": [],
   "source": [
    "def calculate_difficulty_score(metrics):\n",
    "    # Extracting the metrics\n",
    "    win_rate = metrics.get('performance_wins', 0)\n",
    "    avg_attempts = metrics.get('performance_total_attempts_used', 0)\n",
    "    miss_penalty = metrics.get('miss_penalty_avg', 0)\n",
    "\n",
    "    # Weights for each metric (these can be adjusted)\n",
    "    weight_win_rate = 1.0   # Higher weight as win rate is a strong indicator of difficulty\n",
    "    weight_avg_attempts = 0.5  # Moderate weight\n",
    "    weight_miss_penalty = 0.5  # Moderate weight\n",
    "\n",
    "    # Normalize the metrics (invert win rate as lower win rate indicates higher difficulty)\n",
    "    normalized_win_rate = (100 - win_rate) / 100\n",
    "    # normalized_avg_attempts = avg_attempts / 6  # Assuming max avg_attempts is 6\n",
    "    normalized_miss_penalty = miss_penalty  # Already in range 0 to 1\n",
    "\n",
    "    # Calculate the composite score\n",
    "    composite_score = (\n",
    "        weight_win_rate * normalized_win_rate +\n",
    "        weight_miss_penalty * normalized_miss_penalty\n",
    "    )\n",
    "\n",
    "    return composite_score\n",
    "\n",
    "# Example usage\n",
    "metrics = {\n",
    "    'performance_wins': 0,  # Example values\n",
    "    # 'performance_total_attempts_used': 6,\n",
    "    'miss_penalty_avg': 1\n",
    "}\n",
    "\n",
    "score = calculate_difficulty_score(metrics)\n",
    "print(\"Difficulty Score:\", score)\n",
    "\n",
    "# # Use the score to determine if the word length should be added to target pairs\n",
    "# if score >= 0.001:  # Define this threshold based on your game's difficulty scale\n",
    "#     target_pairs.append((int(word_length),))\n"
   ]
  },
  {
   "cell_type": "code",
   "execution_count": null,
   "metadata": {},
   "outputs": [],
   "source": [
    "def calculate_difficulty_score(metrics):\n",
    "    # Extracting the metrics\n",
    "    win_rate = metrics.get('performance_wins', 0)\n",
    "    miss_penalty = metrics.get('miss_penalty_avg', 0)\n",
    "\n",
    "    # Weights for each metric\n",
    "    weight_win_rate = 1.0   # Higher weight for win rate\n",
    "    weight_miss_penalty = 0.5  # Weight for miss penalty\n",
    "\n",
    "    # Normalize the metrics (invert win rate as lower win rate indicates higher difficulty)\n",
    "    normalized_win_rate = (100 - win_rate) / 100\n",
    "    normalized_miss_penalty = miss_penalty  # Already in range 0 to 1\n",
    "\n",
    "    # Calculate the composite score\n",
    "    composite_score = (\n",
    "        weight_win_rate * normalized_win_rate +\n",
    "        weight_miss_penalty * normalized_miss_penalty\n",
    "    )\n",
    "\n",
    "    return composite_score\n",
    "\n",
    "\n",
    "# Best-case scenario metrics\n",
    "best_case_metrics = {\n",
    "    'performance_wins': 100,  # Maximum win rate\n",
    "    'miss_penalty_avg': 0     # Minimum miss penalty\n",
    "}\n",
    "\n",
    "best_case_score = calculate_difficulty_score(best_case_metrics)\n",
    "print(\"Best-Case Difficulty Score:\", best_case_score)"
   ]
  },
  {
   "cell_type": "code",
   "execution_count": null,
   "metadata": {},
   "outputs": [],
   "source": [
    "# Worst-case scenario metrics\n",
    "worst_case_metrics = {\n",
    "    'performance_wins': 0,  # Minimum win rate\n",
    "    'miss_penalty_avg': 1   # Maximum miss penalty\n",
    "}\n",
    "\n",
    "worst_case_score = calculate_difficulty_score(worst_case_metrics)\n",
    "print(\"Worst-Case Difficulty Score:\", worst_case_score)"
   ]
  },
  {
   "cell_type": "code",
   "execution_count": null,
   "metadata": {},
   "outputs": [],
   "source": [
    "def calculate_difficulty_score(metrics, weight_win_rate=1.0, weight_miss_penalty=0.5):\n",
    "    \"\"\"\n",
    "    Calculates the difficulty score based on win rate and miss penalty.\n",
    "    \n",
    "    :param metrics: Dictionary containing 'performance_wins' and 'miss_penalty_avg'.\n",
    "    :param weight_win_rate: Weight for the win rate metric.\n",
    "    :param weight_miss_penalty: Weight for the miss penalty metric.\n",
    "    :return: Calculated difficulty score.\n",
    "    \"\"\"\n",
    "    # Extracting the metrics\n",
    "    win_rate = metrics.get('performance_wins', 0)\n",
    "    miss_penalty = metrics.get('miss_penalty_avg', 0)\n",
    "\n",
    "    # Normalize the metrics (invert win rate as lower win rate indicates higher difficulty)\n",
    "    normalized_win_rate = (100 - win_rate) / 100\n",
    "    normalized_miss_penalty = miss_penalty  # Already in range 0 to 1\n",
    "\n",
    "    # Calculate the composite score\n",
    "    composite_score = (\n",
    "        weight_win_rate * normalized_win_rate +\n",
    "        weight_miss_penalty * normalized_miss_penalty\n",
    "    )\n",
    "\n",
    "    return composite_score\n",
    "\n",
    "# Example usage with custom weights\n",
    "metrics = {\n",
    "    'performance_wins': 0,  # Example values\n",
    "    'miss_penalty_avg': 1\n",
    "}\n",
    "\n",
    "# Custom weights\n",
    "custom_weight_win_rate = 1.0\n",
    "custom_weight_miss_penalty = 0.5\n",
    "\n",
    "score = calculate_difficulty_score(metrics, custom_weight_win_rate, custom_weight_miss_penalty)\n",
    "print(\"Difficulty Score with Custom Weights:\", score)"
   ]
  },
  {
   "cell_type": "code",
   "execution_count": null,
   "metadata": {},
   "outputs": [],
   "source": [
    "aggregated_metrics = {\n",
    "    5: {'total_games': 100, 'wins': 60, 'total_attempts_used': 300, 'win_rate': 0.6, \\\n",
    "        'average_attempts_used': 3.0, 'miss_penalty': 0.02},\n",
    "    6: {'total_games': 150, 'wins': 90, 'total_attempts_used': 450, 'win_rate': 0.6, \\\n",
    "        'average_attempts_used': 3.0, 'miss_penalty': 0.03}\n",
    "}\n",
    "\n",
    "# Iterating over the dictionary\n",
    "for word_len, metrics in aggregated_metrics.items():\n",
    "    print(f\"Word Length: {word_len}\")\n",
    "    for key, value in metrics.items():\n",
    "        print(f\"  {key}: {value}\")"
   ]
  },
  {
   "cell_type": "code",
   "execution_count": null,
   "metadata": {},
   "outputs": [],
   "source": [
    "def select_target_pairs(performance_metrics, batch_size):\n",
    "    target_pairs = []\n",
    "\n",
    "    for word_length, metrics in performance_metrics.items():\n",
    "        # print(metrics)\n",
    "        win_rate = metrics.get('win_rate', 0)\n",
    "        avg_attempts = metrics.get('average_attempts_used', 0)\n",
    "\n",
    "        if win_rate <= 20 and avg_attempts >= 4:\n",
    "            target_pairs.append(word_length)\n",
    "\n",
    "    return target_pairs[:batch_size]\n",
    "\n",
    "# Test data\n",
    "performance_metrics = {\n",
    "    5: {'total_games': 100, 'wins': 60, 'total_attempts_used': 300, 'win_rate': 0.6, \n",
    "        'average_attempts_used': 4.0, 'miss_penalty': 0.02},\n",
    "    6: {'total_games': 150, 'wins': 90, 'total_attempts_used': 450, 'win_rate': 0.6, \n",
    "        'average_attempts_used': 4.0, 'miss_penalty': 0.03}\n",
    "}\n",
    "\n",
    "# Test the function\n",
    "batch_size = 10\n",
    "target_pairs = select_target_pairs(performance_metrics, batch_size)\n",
    "print(\"Target Pairs:\", target_pairs)"
   ]
  },
  {
   "cell_type": "code",
   "execution_count": null,
   "metadata": {},
   "outputs": [],
   "source": [
    "# def calculate_miss_penalty(outputs, miss_chars):\n",
    "#     if outputs.numel() == 0:\n",
    "#         print(\"Empty outputs tensor\")\n",
    "#         return torch.tensor(0.0, device=outputs.device)\n",
    "\n",
    "#     miss_penalty = torch.sum(outputs * miss_chars) / outputs.numel()\n",
    "#     return miss_penalty"
   ]
  },
  {
   "cell_type": "code",
   "execution_count": null,
   "metadata": {},
   "outputs": [],
   "source": [
    "from scr.feature_engineering import *"
   ]
  },
  {
   "cell_type": "code",
   "execution_count": null,
   "metadata": {},
   "outputs": [],
   "source": [
    "word = 'cat'\n",
    "\n",
    "encoded = encode_word(word)\n",
    "\n",
    "encoded"
   ]
  },
  {
   "cell_type": "code",
   "execution_count": null,
   "metadata": {},
   "outputs": [],
   "source": [
    "# Get missed characters tensor\n",
    "miss_chars = get_missed_characters(word)"
   ]
  },
  {
   "cell_type": "code",
   "execution_count": null,
   "metadata": {},
   "outputs": [],
   "source": [
    "miss_chars"
   ]
  },
  {
   "cell_type": "code",
   "execution_count": null,
   "metadata": {},
   "outputs": [],
   "source": [
    "# Creating a dummy output tensor for the word 'cat'\n",
    "word = 'cat'\n",
    "\n",
    "# Assumptions for the dummy output\n",
    "batch_size = 1  # Number of words in the batch\n",
    "max_seq_len = len(word)  # Maximum sequence length (length of the word)\n",
    "num_characters = 28  # Total number of characters in the vocabulary\n",
    "\n",
    "# Creating the dummy output tensor\n",
    "# For simplicity, filling it with random values between 0 and 1\n",
    "outputs = torch.rand((batch_size, max_seq_len, num_characters))\n",
    "\n",
    "outputs.shape, outputs"
   ]
  },
  {
   "cell_type": "code",
   "execution_count": null,
   "metadata": {},
   "outputs": [],
   "source": [
    "# probabilities = F.softmax(outputs, dim=-1)\n",
    "\n",
    "# probabilities"
   ]
  },
  {
   "cell_type": "code",
   "execution_count": null,
   "metadata": {},
   "outputs": [],
   "source": [
    "# Creating two dummy output tensors for the word 'cat'\n",
    "# One where all characters are accurately predicted and another where all are wrong\n",
    "\n",
    "# Accurate Predictions: Setting the confidence for the correct characters ('c', 'a', 't') to 1\n",
    "# and others to 0 for each position in the word\n",
    "correct_outputs = torch.zeros((batch_size, max_seq_len, num_characters))\n",
    "correct_outputs[0, 0, char_to_idx['c']] = 1  # High confidence for 'c' in the first position\n",
    "correct_outputs[0, 1, char_to_idx['a']] = 1  # High confidence for 'a' in the second position\n",
    "correct_outputs[0, 2, char_to_idx['t']] = 1  # High confidence for 't' in the third position\n",
    "\n",
    "# Wrong Predictions: Setting the confidence for incorrect characters to 1 and for correct ones to 0\n",
    "wrong_outputs = torch.ones((batch_size, max_seq_len, num_characters))\n",
    "wrong_outputs[0, 0, char_to_idx['c']] = 0  # Zero confidence for 'c' in the first position\n",
    "wrong_outputs[0, 1, char_to_idx['a']] = 0  # Zero confidence for 'a' in the second position\n",
    "wrong_outputs[0, 2, char_to_idx['t']] = 0  # Zero confidence for 't' in the third position\n",
    "\n",
    "correct_outputs.shape, wrong_outputs.shape"
   ]
  },
  {
   "cell_type": "code",
   "execution_count": null,
   "metadata": {},
   "outputs": [],
   "source": [
    "# Calculate miss penalty\n",
    "miss_penalty = calculate_miss_penalty(wrong_outputs, miss_chars)\n",
    "miss_penalty"
   ]
  },
  {
   "cell_type": "markdown",
   "metadata": {},
   "source": [
    "##### Data Dir"
   ]
  },
  {
   "cell_type": "code",
   "execution_count": null,
   "metadata": {},
   "outputs": [],
   "source": [
    "NUM_STRATIFIED_SAMPLES = 100 # This will be overwritten by Papermill\n",
    "\n",
    "NUM_WORD_SAMPLE = 1_000 # words for testing\n",
    "\n",
    "FAST_DEV_RUN = False\n",
    "\n",
    "MAX_EPOCH = 15"
   ]
  },
  {
   "cell_type": "code",
   "execution_count": null,
   "metadata": {},
   "outputs": [],
   "source": [
    "from pathlib import Path\n",
    "from scr.custom_sampler import *\n",
    "\n",
    "# Define the base directory and the paths for training and validation parquet files\n",
    "base_dataset_dir = Path(\"/media/sayem/510B93E12554BBD1/dataset/\")\n",
    "stratified_samples_dir = base_dataset_dir / str(NUM_STRATIFIED_SAMPLES)\n",
    "parquet_path = stratified_samples_dir / 'parquets'\n",
    "\n",
    "# Create directories for train and validation parquets if they don't exist\n",
    "parquet_path.mkdir(parents=True, exist_ok=True)\n",
    "# parquet_valid_path.mkdir(parents=True, exist_ok=True)\n",
    "\n",
    "# Define and create the directory for models\n",
    "models_dir = Path(\"/home/sayem/Desktop/Hangman/models\")\n",
    "models_dir.mkdir(parents=True, exist_ok=True)\n",
    "\n",
    "# Define your output directory\n",
    "# Define your output directory and logger directory\n",
    "output_dir = Path(\"/home/sayem/Desktop/Hangman/training_outputs\")\n",
    "logger_dir = output_dir / \"lightning_logs\"\n",
    "\n",
    "# Create the output and logger directories if they don't exist\n",
    "output_dir.mkdir(parents=True, exist_ok=True)\n",
    "logger_dir.mkdir(parents=True, exist_ok=True)\n",
    "\n",
    "# Define the file path for saving the testing words\n",
    "testing_words_file_path = stratified_samples_dir / \"testing_words.txt\"\n",
    "\n",
    "try:\n",
    "    testing_word_list = read_words(testing_words_file_path)\n",
    "    print(f\"Length of the testing word list: {len(testing_word_list)}\")\n",
    "    sampled_test_words = stratified_sample_by_length_and_uniqueness(testing_word_list, \\\n",
    "        NUM_WORD_SAMPLE)\n",
    "    print(f\"Sampled {len(sampled_test_words)} unique words for testing.\")\n",
    "except FileNotFoundError:\n",
    "    print(f\"File not found: {testing_words_file_path}\")\n",
    "\n",
    "print(len(sampled_test_words))"
   ]
  },
  {
   "cell_type": "markdown",
   "metadata": {},
   "source": [
    "##### Dataset Loading"
   ]
  },
  {
   "cell_type": "code",
   "execution_count": null,
   "metadata": {},
   "outputs": [],
   "source": [
    "# Create datasets directly from the saved parquet files\n",
    "hangman_dataset = HangmanDataset(parquet_path)\n",
    "# valid_dataset = HangmanDataset(parquet_valid_path)\n",
    "\n",
    "from scr.utils import *\n",
    "\n",
    "# Assuming `hangman_dataset` is an instance of HangmanDataset\n",
    "# Usage\n",
    "train_dataset, valid_dataset \\\n",
    "    = split_hangman_dataset(hangman_dataset, 0.8)\n",
    "\n",
    "print(len(train_dataset))\n",
    "print(len(valid_dataset))\n",
    "\n",
    "assert len(train_dataset) > len(valid_dataset)"
   ]
  },
  {
   "cell_type": "code",
   "execution_count": null,
   "metadata": {},
   "outputs": [],
   "source": [
    "hangman_dataset[(29,)]"
   ]
  },
  {
   "cell_type": "code",
   "execution_count": null,
   "metadata": {},
   "outputs": [],
   "source": [
    "train_dataset[(29,)]"
   ]
  },
  {
   "cell_type": "code",
   "execution_count": null,
   "metadata": {},
   "outputs": [],
   "source": [
    "train_dataset.get_all_group_labels()"
   ]
  },
  {
   "cell_type": "code",
   "execution_count": null,
   "metadata": {},
   "outputs": [],
   "source": [
    "len(train_dataset)"
   ]
  },
  {
   "cell_type": "code",
   "execution_count": null,
   "metadata": {},
   "outputs": [],
   "source": [
    "# Request a sample with word length 29\n",
    "word_length = 5\n",
    "sample = hangman_dataset[(word_length,)]\n",
    "sample"
   ]
  },
  {
   "cell_type": "code",
   "execution_count": null,
   "metadata": {},
   "outputs": [],
   "source": [
    "sample"
   ]
  },
  {
   "cell_type": "code",
   "execution_count": null,
   "metadata": {},
   "outputs": [],
   "source": [
    "from scr.data_module import *\n",
    "from scr.dataset import *\n",
    "\n",
    "# Initialize Data Module\n",
    "initial_batch_size = 128  # Set your initial batch size\n",
    "\n",
    "# Initialize Data Module with the required arguments\n",
    "data_module = HangmanDataModule(train_dataset, valid_dataset, \n",
    "                                initial_batch_size, \n",
    "                                custom_collate_fn)"
   ]
  },
  {
   "cell_type": "code",
   "execution_count": null,
   "metadata": {},
   "outputs": [],
   "source": [
    "train_loader = data_module.train_dataloader()"
   ]
  },
  {
   "cell_type": "code",
   "execution_count": null,
   "metadata": {},
   "outputs": [],
   "source": [
    "dummy_performance_metrics = {\n",
    "    \n",
    "    3: {'win_rate': 45, 'average_attempts_used': 5},\n",
    "    4: {'win_rate': 60, 'average_attempts_used': 3},  # This won't be selected due to high win rate\n",
    "    5: {'win_rate': 30, 'average_attempts_used': 6},\n",
    "    6: {'win_rate': 48, 'average_attempts_used': 4},\n",
    "    # ... add more dummy metrics as needed ...\n",
    "}"
   ]
  },
  {
   "cell_type": "code",
   "execution_count": null,
   "metadata": {},
   "outputs": [],
   "source": [
    "# Initialize PerformanceBasedSampler\n",
    "sampler = PerformanceBasedSampler(dataset=hangman_dataset, \n",
    "                                  performance_metrics=dummy_performance_metrics, \n",
    "                                  batch_size=10)\n",
    "\n",
    "# Verify target pairs\n",
    "print(\"Target pairs:\", sampler.target_pairs)"
   ]
  },
  {
   "cell_type": "code",
   "execution_count": null,
   "metadata": {},
   "outputs": [],
   "source": [
    "next(iter(sampler))"
   ]
  },
  {
   "cell_type": "markdown",
   "metadata": {},
   "source": []
  },
  {
   "cell_type": "code",
   "execution_count": null,
   "metadata": {},
   "outputs": [],
   "source": [
    "train_dataset[(1,)]"
   ]
  },
  {
   "cell_type": "code",
   "execution_count": null,
   "metadata": {},
   "outputs": [],
   "source": []
  }
 ],
 "metadata": {
  "kernelspec": {
   "display_name": "optiver",
   "language": "python",
   "name": "python3"
  },
  "language_info": {
   "codemirror_mode": {
    "name": "ipython",
    "version": 3
   },
   "file_extension": ".py",
   "mimetype": "text/x-python",
   "name": "python",
   "nbconvert_exporter": "python",
   "pygments_lexer": "ipython3",
   "version": "3.10.13"
  }
 },
 "nbformat": 4,
 "nbformat_minor": 2
}
