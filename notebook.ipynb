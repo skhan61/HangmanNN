{
 "cells": [
  {
   "cell_type": "markdown",
   "metadata": {},
   "source": [
    "##### Imports"
   ]
  },
  {
   "cell_type": "code",
   "execution_count": 1,
   "metadata": {},
   "outputs": [],
   "source": [
    "import sys\n",
    "from pathlib import Path\n",
    "import warnings\n",
    "\n",
    "import warnings\n",
    "import pandas as pd\n",
    "warnings.filterwarnings('ignore')\n",
    "\n",
    "pd.set_option('display.max_columns', 1000)\n",
    "pd.set_option('display.max_rows', 1000)\n",
    "\n",
    "import sys\n",
    "# Custom library paths\n",
    "sys.path.extend(['../', './scr'])\n",
    "\n",
    "from scr.utils import set_seed\n",
    "from scr.utils import read_words\n",
    "from pathlib import Path\n",
    "import random\n",
    "from collections import Counter, defaultdict\n",
    "import pickle\n",
    "from tqdm import tqdm\n",
    "from torch.utils.data import Dataset\n",
    "\n",
    "from scr.utils import read_words, save_words_to_file\n",
    "\n",
    "import pickle\n",
    "from pathlib import Path\n",
    "from scr.dataset import *\n",
    "from scr.utils import *\n",
    "# # For inference\n",
    "from scr.feature_engineering import *\n",
    "\n",
    "import gc\n",
    "\n",
    "set_seed(42)\n",
    "\n",
    "import torch\n",
    "import torch.nn as nn\n",
    "from pathlib import Path\n",
    "import random\n",
    "\n",
    "from scr.utils import print_scenarios\n",
    "torch.set_float32_matmul_precision('medium')\n",
    "from pathlib import Path\n",
    "\n",
    "# Device configuration\n",
    "device = torch.device(\"cuda\" if torch.cuda.is_available() else \"cpu\")\n",
    "\n",
    "# # Read and Shuffle Word List\n",
    "word_list = read_words('data/words_250000_train.txt') # , limit=10000)\n",
    "# word_list = read_words('data/250k.txt', limit=10000)\n",
    "\n",
    "random.shuffle(word_list)\n",
    "\n",
    "# Calculate Frequencies and Max Word Length\n",
    "word_frequencies = calculate_word_frequencies(word_list)\n",
    "char_frequency = calculate_char_frequencies(word_list)\n",
    "max_word_length = max(len(word) for word in word_list)"
   ]
  },
  {
   "cell_type": "markdown",
   "metadata": {},
   "source": [
    "##### Data Dir"
   ]
  },
  {
   "cell_type": "code",
   "execution_count": 2,
   "metadata": {},
   "outputs": [],
   "source": [
    "NUM_STRATIFIED_SAMPLES = 2_00 # This will be overwritten by Papermill\n",
    "\n",
    "NUM_WORD_SAMPLE = 1_000 # words for testing\n",
    "\n",
    "FAST_DEV_RUN = False\n",
    "\n",
    "MAX_EPOCH = 250"
   ]
  },
  {
   "cell_type": "code",
   "execution_count": 3,
   "metadata": {},
   "outputs": [
    {
     "name": "stdout",
     "output_type": "stream",
     "text": [
      "Length of the testing word list: 10048\n",
      "Sampled 1085 unique words for testing.\n",
      "1085\n"
     ]
    }
   ],
   "source": [
    "from pathlib import Path\n",
    "from scr.custom_sampler import *\n",
    "\n",
    "# Define the base directory and the paths for training and validation parquet files\n",
    "base_dataset_dir = Path(\"/media/sayem/510B93E12554BBD1/dataset/\")\n",
    "stratified_samples_dir = base_dataset_dir / str(NUM_STRATIFIED_SAMPLES)\n",
    "parquet_path = stratified_samples_dir / 'parquets'\n",
    "\n",
    "# Create directories for train and validation parquets if they don't exist\n",
    "parquet_path.mkdir(parents=True, exist_ok=True)\n",
    "# parquet_valid_path.mkdir(parents=True, exist_ok=True)\n",
    "\n",
    "# Define and create the directory for models\n",
    "models_dir = Path(\"/home/sayem/Desktop/Hangman/models\")\n",
    "models_dir.mkdir(parents=True, exist_ok=True)\n",
    "\n",
    "# Define your output directory\n",
    "# Define your output directory and logger directory\n",
    "output_dir = Path(\"/home/sayem/Desktop/Hangman/training_outputs\")\n",
    "logger_dir = output_dir / \"lightning_logs\"\n",
    "\n",
    "# Create the output and logger directories if they don't exist\n",
    "output_dir.mkdir(parents=True, exist_ok=True)\n",
    "logger_dir.mkdir(parents=True, exist_ok=True)\n",
    "\n",
    "# Define the file path for saving the testing words\n",
    "testing_words_file_path = stratified_samples_dir / \"testing_words.txt\"\n",
    "\n",
    "try:\n",
    "    testing_word_list = read_words(testing_words_file_path)\n",
    "    print(f\"Length of the testing word list: {len(testing_word_list)}\")\n",
    "    sampled_test_words = stratified_sample_by_length_and_uniqueness(testing_word_list, NUM_WORD_SAMPLE)\n",
    "    print(f\"Sampled {len(sampled_test_words)} unique words for testing.\")\n",
    "except FileNotFoundError:\n",
    "    print(f\"File not found: {testing_words_file_path}\")\n",
    "\n",
    "print(len(sampled_test_words))"
   ]
  },
  {
   "cell_type": "markdown",
   "metadata": {},
   "source": [
    "##### Dataset Loading and train test split"
   ]
  },
  {
   "cell_type": "code",
   "execution_count": 4,
   "metadata": {},
   "outputs": [],
   "source": [
    "# Create datasets directly from the saved parquet files\n",
    "hangman_dataset = HangmanDataset(parquet_path)\n",
    "# valid_dataset = HangmanDataset(parquet_valid_path)\n",
    "\n",
    "from scr.utils import *\n",
    "\n",
    "# print(len(train_dataset))\n",
    "# print(len(valid_dataset))\n",
    "\n",
    "# assert len(train_dataset) > len(valid_dataset)\n",
    "\n",
    "# Assuming `hangman_dataset` is an instance of HangmanDataset\n",
    "train_dataset, valid_dataset = split_hangman_dataset(hangman_dataset)"
   ]
  },
  {
   "cell_type": "code",
   "execution_count": 5,
   "metadata": {},
   "outputs": [
    {
     "data": {
      "text/plain": [
       "{'game_id': 1089,\n",
       " 'word': 'syncarpous',\n",
       " 'initial_state': ['syncarp_us'],\n",
       " 'final_state': 'syncarpous',\n",
       " 'guessed_states': ['syncarp_us'],\n",
       " 'guessed_letters': ['o'],\n",
       " 'game_state': 'nearEnd',\n",
       " 'difficulty': 'medium',\n",
       " 'outcome': 'lose',\n",
       " 'word_length': 10,\n",
       " 'won': False}"
      ]
     },
     "execution_count": 5,
     "metadata": {},
     "output_type": "execute_result"
    }
   ],
   "source": [
    "hangman_dataset[(10,)]"
   ]
  },
  {
   "cell_type": "code",
   "execution_count": 6,
   "metadata": {},
   "outputs": [],
   "source": [
    "game_states = ['allMasked', 'early', 'quarterRevealed', 'midRevealed', \n",
    "               'midLateRevealed', 'lateRevealed', 'nearEnd']\n",
    "game_state_to_idx = {state: idx for idx, state in enumerate(game_states)}\n",
    "\n",
    "def encode_game_state(game_state):\n",
    "    state_vector = [0] * len(game_states)\n",
    "    state_index = game_state_to_idx.get(game_state, -1)\n",
    "    if state_index >= 0:\n",
    "        state_vector[state_index] = 1\n",
    "    return state_vector"
   ]
  },
  {
   "cell_type": "code",
   "execution_count": 7,
   "metadata": {},
   "outputs": [],
   "source": [
    "def build_enhanced_feature_set(game_data, char_frequency, \\\n",
    "    max_word_length, ngram_n=3, normalize=True):\n",
    "    \n",
    "    complete_word = game_data['final_state']\n",
    "    word_length = game_data['word_length']\n",
    "    current_game_state = game_data['game_state']\n",
    "\n",
    "    # Use existing methods to encode the complete word and extract features\n",
    "    encoded_complete_word = encode_word(complete_word)\n",
    "    word_length_feature = [word_length / max_word_length] * word_length\n",
    "    positional_feature = [pos / max_word_length for pos in range(word_length)]\n",
    "    frequency_feature = [char_frequency.get(idx_to_char.get(char_idx, '_'), 0) \n",
    "                         for char_idx in encoded_complete_word]\n",
    "    ngrams = extract_ngrams(complete_word, ngram_n)\n",
    "    ngram_feature = encode_ngrams(ngrams, ngram_n)\n",
    "\n",
    "    # Encode game state\n",
    "    game_state_encoded = encode_game_state(current_game_state)\n",
    "\n",
    "    # New Features\n",
    "    initial_state_encoded = encode_word(game_data['initial_state'][0])  # Encoding initial state\n",
    "    final_state_encoded = encode_word(game_data['final_state'])  # Encoding final state\n",
    "    guessed_letters_encoded = [char_to_idx[char] for char in game_data['guessed_letters']]  # Encoding guessed letters\n",
    "    difficulty_encoded = [0 if game_data['difficulty'] == 'medium' else 1]  # Encoding difficulty\n",
    "\n",
    "    # Normalize and pad/truncate new features\n",
    "    guessed_letters_padded = pad_tensor(torch.tensor(guessed_letters_encoded, dtype=torch.long), max_word_length)\n",
    "    initial_state_padded = pad_tensor(torch.tensor(initial_state_encoded, dtype=torch.long), max_word_length)\n",
    "    final_state_padded = pad_tensor(torch.tensor(final_state_encoded, dtype=torch.long), max_word_length)\n",
    "    \n",
    "    # Ensure ngram_feature is the same length as other features\n",
    "    ngram_feature_padded = pad_tensor(torch.tensor(ngram_feature, dtype=torch.float), max_word_length)\n",
    "\n",
    "    # Combine all features\n",
    "    combined_features = [\n",
    "        pad_tensor(torch.tensor(encoded_complete_word, dtype=torch.long), max_word_length),\n",
    "        pad_tensor(torch.tensor(word_length_feature, dtype=torch.float), max_word_length),\n",
    "        pad_tensor(torch.tensor(positional_feature, dtype=torch.float), max_word_length),\n",
    "        pad_tensor(torch.tensor(frequency_feature, dtype=torch.float), max_word_length),\n",
    "        ngram_feature_padded,\n",
    "        guessed_letters_padded,\n",
    "        initial_state_padded,\n",
    "        final_state_padded,\n",
    "        pad_tensor(torch.tensor(difficulty_encoded, dtype=torch.float), max_word_length),\n",
    "        pad_tensor(torch.tensor(game_state_encoded, dtype=torch.float), max_word_length)\n",
    "    ]\n",
    "\n",
    "    # Stack features\n",
    "    features_stacked = torch.stack(combined_features, dim=1)\n",
    "\n",
    "    # Calculate missed characters feature\n",
    "    missed_characters_feature = get_missed_characters(complete_word)\n",
    "\n",
    "    return features_stacked, missed_characters_feature\n"
   ]
  },
  {
   "cell_type": "code",
   "execution_count": 8,
   "metadata": {},
   "outputs": [],
   "source": [
    "def process_batch(batch, char_frequency, \\\n",
    "                    max_word_length, ngram_n=3, normalize=True):\n",
    "    batch_features_list = []\n",
    "    batch_missed_chars_list = []\n",
    "\n",
    "    for i in range(len(batch['word_length'])):\n",
    "        # Construct a sample dictionary for each game\n",
    "        sample = {\n",
    "            'word': batch['final_state'][i],\n",
    "            'word_length': batch['word_length'][i],\n",
    "            'game_state': batch['game_state'][i],\n",
    "            'initial_state': batch['initial_state'][i][0],  # Taking the first item from the list\n",
    "            'final_state': batch['final_state'][i],\n",
    "            'guessed_letters': batch['guessed_letters'][i],\n",
    "            'difficulty': batch['difficulty'][i]\n",
    "        }\n",
    "\n",
    "        features, missed_chars = build_enhanced_feature_set(sample, \\\n",
    "            char_frequency, max_word_length, ngram_n, normalize)\n",
    "\n",
    "        # Append the results to the lists\n",
    "        batch_features_list.append(features)\n",
    "        batch_missed_chars_list.append(missed_chars)\n",
    "\n",
    "    # Stack the lists of tensors to create batch tensors\n",
    "    batch_features = torch.stack(batch_features_list)\n",
    "    batch_missed_chars = torch.stack(batch_missed_chars_list)\n",
    "\n",
    "    return batch_features, batch_missed_chars"
   ]
  },
  {
   "cell_type": "code",
   "execution_count": 9,
   "metadata": {},
   "outputs": [],
   "source": [
    "sample = hangman_dataset[(29,)]"
   ]
  },
  {
   "cell_type": "code",
   "execution_count": 10,
   "metadata": {},
   "outputs": [],
   "source": [
    "from scr.data_module import *\n",
    "\n",
    "# Initialize Data Module\n",
    "initial_batch_size = 1  # Set your initial batch size\n",
    "\n",
    "# Initialize Data Module with the required arguments\n",
    "data_module = HangmanDataModule(train_dataset, valid_dataset, \n",
    "                                initial_batch_size, \n",
    "                                new_custom_collate_fn)\n",
    "                                # performance_metrics=None)"
   ]
  },
  {
   "cell_type": "code",
   "execution_count": 11,
   "metadata": {},
   "outputs": [
    {
     "name": "stdout",
     "output_type": "stream",
     "text": [
      "Normal sampler kicked...\n"
     ]
    },
    {
     "name": "stdout",
     "output_type": "stream",
     "text": [
      "torch.Size([1, 29, 10])\n",
      "torch.Size([1, 28])\n"
     ]
    }
   ],
   "source": [
    "for batch in data_module.train_dataloader():\n",
    "    # print(batch)\n",
    "\n",
    "    batch_features, batch_missed_chars = process_batch(batch, \\\n",
    "        char_frequency, max_word_length)\n",
    "\n",
    "    print(batch_features.shape)\n",
    "    print(batch_missed_chars.shape)\n",
    "\n",
    "    break"
   ]
  },
  {
   "cell_type": "code",
   "execution_count": 12,
   "metadata": {},
   "outputs": [
    {
     "data": {
      "text/plain": [
       "torch.Size([1, 29, 10])"
      ]
     },
     "execution_count": 12,
     "metadata": {},
     "output_type": "execute_result"
    }
   ],
   "source": [
    "batch_features.shape"
   ]
  },
  {
   "cell_type": "code",
   "execution_count": 13,
   "metadata": {},
   "outputs": [
    {
     "data": {
      "text/plain": [
       "torch.Size([1, 28])"
      ]
     },
     "execution_count": 13,
     "metadata": {},
     "output_type": "execute_result"
    }
   ],
   "source": [
    "batch_missed_chars.shape"
   ]
  },
  {
   "cell_type": "code",
   "execution_count": 14,
   "metadata": {},
   "outputs": [],
   "source": [
    "features, missed_chars = build_enhanced_feature_set(sample, \\\n",
    "    char_frequency, max_word_length)"
   ]
  },
  {
   "cell_type": "code",
   "execution_count": 15,
   "metadata": {},
   "outputs": [
    {
     "data": {
      "text/plain": [
       "torch.Size([29, 10])"
      ]
     },
     "execution_count": 15,
     "metadata": {},
     "output_type": "execute_result"
    }
   ],
   "source": [
    "features.shape"
   ]
  },
  {
   "cell_type": "code",
   "execution_count": 16,
   "metadata": {},
   "outputs": [
    {
     "ename": "NameError",
     "evalue": "name 'STOP' is not defined",
     "output_type": "error",
     "traceback": [
      "\u001b[0;31m---------------------------------------------------------------------------\u001b[0m",
      "\u001b[0;31mNameError\u001b[0m                                 Traceback (most recent call last)",
      "Cell \u001b[0;32mIn[16], line 1\u001b[0m\n\u001b[0;32m----> 1\u001b[0m \u001b[43mSTOP\u001b[49m\n",
      "\u001b[0;31mNameError\u001b[0m: name 'STOP' is not defined"
     ]
    }
   ],
   "source": [
    "STOP"
   ]
  },
  {
   "cell_type": "code",
   "execution_count": null,
   "metadata": {},
   "outputs": [],
   "source": []
  },
  {
   "cell_type": "code",
   "execution_count": null,
   "metadata": {},
   "outputs": [],
   "source": []
  },
  {
   "cell_type": "code",
   "execution_count": null,
   "metadata": {},
   "outputs": [],
   "source": []
  },
  {
   "cell_type": "code",
   "execution_count": null,
   "metadata": {},
   "outputs": [],
   "source": [
    "import torch\n",
    "import torch.nn as nn\n",
    "\n",
    "# Sample dimensions\n",
    "missed_char_dim = 28  # Dimension of missed character vector\n",
    "hidden_dim = 10       # Arbitrary hidden dimension for output\n",
    "\n",
    "class TestModel(nn.Module):\n",
    "    def __init__(self):\n",
    "        super(TestModel, self).__init__()\n",
    "        self.miss_linear = nn.Linear(missed_char_dim, hidden_dim)\n",
    "\n",
    "    def forward(self, missed_chars):\n",
    "        missed_chars_processed = self.miss_linear(missed_chars)\n",
    "        return missed_chars_processed\n",
    "\n",
    "# Create model\n",
    "model = TestModel()\n",
    "\n",
    "# Sample data: a batch of size 1 with 28 missed character indicators\n",
    "# Creating a sample input with 28 values, each being 0 or 1\n",
    "missed_chars = torch.tensor([0, 1, 1, 0, 1, 0, 1, 0, 1, 0, 1, 1, 0, 1, 0, \\\n",
    "    1, 0, 1, 1, 0, 1, 0, 1, 1, 0, 1, 0, 1], dtype=torch.float)\n",
    "\n",
    "# Forward pass\n",
    "output = model(missed_chars)\n",
    "output.shape"
   ]
  },
  {
   "cell_type": "code",
   "execution_count": null,
   "metadata": {},
   "outputs": [],
   "source": [
    "def calculate_difficulty_score(metrics):\n",
    "    # Extracting the metrics\n",
    "    win_rate = metrics.get('performance_wins', 0)\n",
    "    avg_attempts = metrics.get('performance_total_attempts_used', 0)\n",
    "    miss_penalty = metrics.get('miss_penalty_avg', 0)\n",
    "\n",
    "    # Weights for each metric (these can be adjusted)\n",
    "    weight_win_rate = 1.0   # Higher weight as win rate is a strong indicator of difficulty\n",
    "    weight_avg_attempts = 0.5  # Moderate weight\n",
    "    weight_miss_penalty = 0.5  # Moderate weight\n",
    "\n",
    "    # Normalize the metrics (invert win rate as lower win rate indicates higher difficulty)\n",
    "    normalized_win_rate = (100 - win_rate) / 100\n",
    "    # normalized_avg_attempts = avg_attempts / 6  # Assuming max avg_attempts is 6\n",
    "    normalized_miss_penalty = miss_penalty  # Already in range 0 to 1\n",
    "\n",
    "    # Calculate the composite score\n",
    "    composite_score = (\n",
    "        weight_win_rate * normalized_win_rate +\n",
    "        weight_miss_penalty * normalized_miss_penalty\n",
    "    )\n",
    "\n",
    "    return composite_score\n",
    "\n",
    "# Example usage\n",
    "metrics = {\n",
    "    'performance_wins': 0,  # Example values\n",
    "    # 'performance_total_attempts_used': 6,\n",
    "    'miss_penalty_avg': 1\n",
    "}\n",
    "\n",
    "score = calculate_difficulty_score(metrics)\n",
    "print(\"Difficulty Score:\", score)\n",
    "\n",
    "# # Use the score to determine if the word length should be added to target pairs\n",
    "# if score >= 0.001:  # Define this threshold based on your game's difficulty scale\n",
    "#     target_pairs.append((int(word_length),))\n"
   ]
  },
  {
   "cell_type": "code",
   "execution_count": null,
   "metadata": {},
   "outputs": [],
   "source": [
    "def calculate_difficulty_score(metrics):\n",
    "    # Extracting the metrics\n",
    "    win_rate = metrics.get('performance_wins', 0)\n",
    "    miss_penalty = metrics.get('miss_penalty_avg', 0)\n",
    "\n",
    "    # Weights for each metric\n",
    "    weight_win_rate = 1.0   # Higher weight for win rate\n",
    "    weight_miss_penalty = 0.5  # Weight for miss penalty\n",
    "\n",
    "    # Normalize the metrics (invert win rate as lower win rate indicates higher difficulty)\n",
    "    normalized_win_rate = (100 - win_rate) / 100\n",
    "    normalized_miss_penalty = miss_penalty  # Already in range 0 to 1\n",
    "\n",
    "    # Calculate the composite score\n",
    "    composite_score = (\n",
    "        weight_win_rate * normalized_win_rate +\n",
    "        weight_miss_penalty * normalized_miss_penalty\n",
    "    )\n",
    "\n",
    "    return composite_score\n",
    "\n",
    "\n",
    "# Best-case scenario metrics\n",
    "best_case_metrics = {\n",
    "    'performance_wins': 100,  # Maximum win rate\n",
    "    'miss_penalty_avg': 0     # Minimum miss penalty\n",
    "}\n",
    "\n",
    "best_case_score = calculate_difficulty_score(best_case_metrics)\n",
    "print(\"Best-Case Difficulty Score:\", best_case_score)"
   ]
  },
  {
   "cell_type": "code",
   "execution_count": null,
   "metadata": {},
   "outputs": [],
   "source": [
    "# Worst-case scenario metrics\n",
    "worst_case_metrics = {\n",
    "    'performance_wins': 0,  # Minimum win rate\n",
    "    'miss_penalty_avg': 1   # Maximum miss penalty\n",
    "}\n",
    "\n",
    "worst_case_score = calculate_difficulty_score(worst_case_metrics)\n",
    "print(\"Worst-Case Difficulty Score:\", worst_case_score)"
   ]
  },
  {
   "cell_type": "code",
   "execution_count": null,
   "metadata": {},
   "outputs": [],
   "source": [
    "def calculate_difficulty_score(metrics, weight_win_rate=1.0, weight_miss_penalty=0.5):\n",
    "    \"\"\"\n",
    "    Calculates the difficulty score based on win rate and miss penalty.\n",
    "    \n",
    "    :param metrics: Dictionary containing 'performance_wins' and 'miss_penalty_avg'.\n",
    "    :param weight_win_rate: Weight for the win rate metric.\n",
    "    :param weight_miss_penalty: Weight for the miss penalty metric.\n",
    "    :return: Calculated difficulty score.\n",
    "    \"\"\"\n",
    "    # Extracting the metrics\n",
    "    win_rate = metrics.get('performance_wins', 0)\n",
    "    miss_penalty = metrics.get('miss_penalty_avg', 0)\n",
    "\n",
    "    # Normalize the metrics (invert win rate as lower win rate indicates higher difficulty)\n",
    "    normalized_win_rate = (100 - win_rate) / 100\n",
    "    normalized_miss_penalty = miss_penalty  # Already in range 0 to 1\n",
    "\n",
    "    # Calculate the composite score\n",
    "    composite_score = (\n",
    "        weight_win_rate * normalized_win_rate +\n",
    "        weight_miss_penalty * normalized_miss_penalty\n",
    "    )\n",
    "\n",
    "    return composite_score\n",
    "\n",
    "# Example usage with custom weights\n",
    "metrics = {\n",
    "    'performance_wins': 0,  # Example values\n",
    "    'miss_penalty_avg': 1\n",
    "}\n",
    "\n",
    "# Custom weights\n",
    "custom_weight_win_rate = 1.0\n",
    "custom_weight_miss_penalty = 0.5\n",
    "\n",
    "score = calculate_difficulty_score(metrics, custom_weight_win_rate, custom_weight_miss_penalty)\n",
    "print(\"Difficulty Score with Custom Weights:\", score)"
   ]
  },
  {
   "cell_type": "code",
   "execution_count": null,
   "metadata": {},
   "outputs": [],
   "source": [
    "aggregated_metrics = {\n",
    "    5: {'total_games': 100, 'wins': 60, 'total_attempts_used': 300, 'win_rate': 0.6, \\\n",
    "        'average_attempts_used': 3.0, 'miss_penalty': 0.02},\n",
    "    6: {'total_games': 150, 'wins': 90, 'total_attempts_used': 450, 'win_rate': 0.6, \\\n",
    "        'average_attempts_used': 3.0, 'miss_penalty': 0.03}\n",
    "}\n",
    "\n",
    "# Iterating over the dictionary\n",
    "for word_len, metrics in aggregated_metrics.items():\n",
    "    print(f\"Word Length: {word_len}\")\n",
    "    for key, value in metrics.items():\n",
    "        print(f\"  {key}: {value}\")"
   ]
  },
  {
   "cell_type": "code",
   "execution_count": null,
   "metadata": {},
   "outputs": [],
   "source": [
    "def select_target_pairs(performance_metrics, batch_size):\n",
    "    target_pairs = []\n",
    "\n",
    "    for word_length, metrics in performance_metrics.items():\n",
    "        # print(metrics)\n",
    "        win_rate = metrics.get('win_rate', 0)\n",
    "        avg_attempts = metrics.get('average_attempts_used', 0)\n",
    "\n",
    "        if win_rate <= 20 and avg_attempts >= 4:\n",
    "            target_pairs.append(word_length)\n",
    "\n",
    "    return target_pairs[:batch_size]\n",
    "\n",
    "# Test data\n",
    "performance_metrics = {\n",
    "    5: {'total_games': 100, 'wins': 60, 'total_attempts_used': 300, 'win_rate': 0.6, \n",
    "        'average_attempts_used': 4.0, 'miss_penalty': 0.02},\n",
    "    6: {'total_games': 150, 'wins': 90, 'total_attempts_used': 450, 'win_rate': 0.6, \n",
    "        'average_attempts_used': 4.0, 'miss_penalty': 0.03}\n",
    "}\n",
    "\n",
    "# Test the function\n",
    "batch_size = 10\n",
    "target_pairs = select_target_pairs(performance_metrics, batch_size)\n",
    "print(\"Target Pairs:\", target_pairs)"
   ]
  },
  {
   "cell_type": "code",
   "execution_count": null,
   "metadata": {},
   "outputs": [],
   "source": [
    "# def calculate_miss_penalty(outputs, miss_chars):\n",
    "#     if outputs.numel() == 0:\n",
    "#         print(\"Empty outputs tensor\")\n",
    "#         return torch.tensor(0.0, device=outputs.device)\n",
    "\n",
    "#     miss_penalty = torch.sum(outputs * miss_chars) / outputs.numel()\n",
    "#     return miss_penalty"
   ]
  },
  {
   "cell_type": "code",
   "execution_count": null,
   "metadata": {},
   "outputs": [],
   "source": [
    "from scr.feature_engineering import *"
   ]
  },
  {
   "cell_type": "code",
   "execution_count": null,
   "metadata": {},
   "outputs": [],
   "source": [
    "word = 'cat'\n",
    "\n",
    "encoded = encode_word(word)\n",
    "\n",
    "encoded"
   ]
  },
  {
   "cell_type": "code",
   "execution_count": null,
   "metadata": {},
   "outputs": [],
   "source": [
    "# Get missed characters tensor\n",
    "miss_chars = get_missed_characters(word)"
   ]
  },
  {
   "cell_type": "code",
   "execution_count": null,
   "metadata": {},
   "outputs": [],
   "source": [
    "miss_chars"
   ]
  },
  {
   "cell_type": "code",
   "execution_count": null,
   "metadata": {},
   "outputs": [],
   "source": [
    "# Creating a dummy output tensor for the word 'cat'\n",
    "word = 'cat'\n",
    "\n",
    "# Assumptions for the dummy output\n",
    "batch_size = 1  # Number of words in the batch\n",
    "max_seq_len = len(word)  # Maximum sequence length (length of the word)\n",
    "num_characters = 28  # Total number of characters in the vocabulary\n",
    "\n",
    "# Creating the dummy output tensor\n",
    "# For simplicity, filling it with random values between 0 and 1\n",
    "outputs = torch.rand((batch_size, max_seq_len, num_characters))\n",
    "\n",
    "outputs.shape, outputs"
   ]
  },
  {
   "cell_type": "code",
   "execution_count": null,
   "metadata": {},
   "outputs": [],
   "source": [
    "# probabilities = F.softmax(outputs, dim=-1)\n",
    "\n",
    "# probabilities"
   ]
  },
  {
   "cell_type": "code",
   "execution_count": null,
   "metadata": {},
   "outputs": [],
   "source": [
    "# Creating two dummy output tensors for the word 'cat'\n",
    "# One where all characters are accurately predicted and another where all are wrong\n",
    "\n",
    "# Accurate Predictions: Setting the confidence for the correct characters ('c', 'a', 't') to 1\n",
    "# and others to 0 for each position in the word\n",
    "correct_outputs = torch.zeros((batch_size, max_seq_len, num_characters))\n",
    "correct_outputs[0, 0, char_to_idx['c']] = 1  # High confidence for 'c' in the first position\n",
    "correct_outputs[0, 1, char_to_idx['a']] = 1  # High confidence for 'a' in the second position\n",
    "correct_outputs[0, 2, char_to_idx['t']] = 1  # High confidence for 't' in the third position\n",
    "\n",
    "# Wrong Predictions: Setting the confidence for incorrect characters to 1 and for correct ones to 0\n",
    "wrong_outputs = torch.ones((batch_size, max_seq_len, num_characters))\n",
    "wrong_outputs[0, 0, char_to_idx['c']] = 0  # Zero confidence for 'c' in the first position\n",
    "wrong_outputs[0, 1, char_to_idx['a']] = 0  # Zero confidence for 'a' in the second position\n",
    "wrong_outputs[0, 2, char_to_idx['t']] = 0  # Zero confidence for 't' in the third position\n",
    "\n",
    "correct_outputs.shape, wrong_outputs.shape"
   ]
  },
  {
   "cell_type": "code",
   "execution_count": null,
   "metadata": {},
   "outputs": [],
   "source": [
    "# Calculate miss penalty\n",
    "miss_penalty = calculate_miss_penalty(wrong_outputs, miss_chars)\n",
    "miss_penalty"
   ]
  },
  {
   "cell_type": "markdown",
   "metadata": {},
   "source": [
    "##### Data Dir"
   ]
  },
  {
   "cell_type": "code",
   "execution_count": null,
   "metadata": {},
   "outputs": [],
   "source": [
    "NUM_STRATIFIED_SAMPLES = 100 # This will be overwritten by Papermill\n",
    "\n",
    "NUM_WORD_SAMPLE = 1_000 # words for testing\n",
    "\n",
    "FAST_DEV_RUN = False\n",
    "\n",
    "MAX_EPOCH = 15"
   ]
  },
  {
   "cell_type": "code",
   "execution_count": null,
   "metadata": {},
   "outputs": [],
   "source": [
    "from pathlib import Path\n",
    "from scr.custom_sampler import *\n",
    "\n",
    "# Define the base directory and the paths for training and validation parquet files\n",
    "base_dataset_dir = Path(\"/media/sayem/510B93E12554BBD1/dataset/\")\n",
    "stratified_samples_dir = base_dataset_dir / str(NUM_STRATIFIED_SAMPLES)\n",
    "parquet_path = stratified_samples_dir / 'parquets'\n",
    "\n",
    "# Create directories for train and validation parquets if they don't exist\n",
    "parquet_path.mkdir(parents=True, exist_ok=True)\n",
    "# parquet_valid_path.mkdir(parents=True, exist_ok=True)\n",
    "\n",
    "# Define and create the directory for models\n",
    "models_dir = Path(\"/home/sayem/Desktop/Hangman/models\")\n",
    "models_dir.mkdir(parents=True, exist_ok=True)\n",
    "\n",
    "# Define your output directory\n",
    "# Define your output directory and logger directory\n",
    "output_dir = Path(\"/home/sayem/Desktop/Hangman/training_outputs\")\n",
    "logger_dir = output_dir / \"lightning_logs\"\n",
    "\n",
    "# Create the output and logger directories if they don't exist\n",
    "output_dir.mkdir(parents=True, exist_ok=True)\n",
    "logger_dir.mkdir(parents=True, exist_ok=True)\n",
    "\n",
    "# Define the file path for saving the testing words\n",
    "testing_words_file_path = stratified_samples_dir / \"testing_words.txt\"\n",
    "\n",
    "try:\n",
    "    testing_word_list = read_words(testing_words_file_path)\n",
    "    print(f\"Length of the testing word list: {len(testing_word_list)}\")\n",
    "    sampled_test_words = stratified_sample_by_length_and_uniqueness(testing_word_list, \\\n",
    "        NUM_WORD_SAMPLE)\n",
    "    print(f\"Sampled {len(sampled_test_words)} unique words for testing.\")\n",
    "except FileNotFoundError:\n",
    "    print(f\"File not found: {testing_words_file_path}\")\n",
    "\n",
    "print(len(sampled_test_words))"
   ]
  },
  {
   "cell_type": "markdown",
   "metadata": {},
   "source": [
    "##### Dataset Loading"
   ]
  },
  {
   "cell_type": "code",
   "execution_count": null,
   "metadata": {},
   "outputs": [],
   "source": [
    "# Create datasets directly from the saved parquet files\n",
    "hangman_dataset = HangmanDataset(parquet_path)\n",
    "# valid_dataset = HangmanDataset(parquet_valid_path)\n",
    "\n",
    "from scr.utils import *\n",
    "\n",
    "# Assuming `hangman_dataset` is an instance of HangmanDataset\n",
    "# Usage\n",
    "train_dataset, valid_dataset \\\n",
    "    = split_hangman_dataset(hangman_dataset, 0.8)\n",
    "\n",
    "print(len(train_dataset))\n",
    "print(len(valid_dataset))\n",
    "\n",
    "assert len(train_dataset) > len(valid_dataset)"
   ]
  },
  {
   "cell_type": "code",
   "execution_count": null,
   "metadata": {},
   "outputs": [],
   "source": [
    "hangman_dataset[(29,)]"
   ]
  },
  {
   "cell_type": "code",
   "execution_count": null,
   "metadata": {},
   "outputs": [],
   "source": [
    "train_dataset[(29,)]"
   ]
  },
  {
   "cell_type": "code",
   "execution_count": null,
   "metadata": {},
   "outputs": [],
   "source": [
    "train_dataset.get_all_group_labels()"
   ]
  },
  {
   "cell_type": "code",
   "execution_count": null,
   "metadata": {},
   "outputs": [],
   "source": [
    "len(train_dataset)"
   ]
  },
  {
   "cell_type": "code",
   "execution_count": null,
   "metadata": {},
   "outputs": [],
   "source": [
    "# Request a sample with word length 29\n",
    "word_length = 5\n",
    "sample = hangman_dataset[(word_length,)]\n",
    "sample"
   ]
  },
  {
   "cell_type": "code",
   "execution_count": null,
   "metadata": {},
   "outputs": [],
   "source": [
    "sample"
   ]
  },
  {
   "cell_type": "code",
   "execution_count": null,
   "metadata": {},
   "outputs": [],
   "source": [
    "from scr.data_module import *\n",
    "from scr.dataset import *\n",
    "\n",
    "# Initialize Data Module\n",
    "initial_batch_size = 128  # Set your initial batch size\n",
    "\n",
    "# Initialize Data Module with the required arguments\n",
    "data_module = HangmanDataModule(train_dataset, valid_dataset, \n",
    "                                initial_batch_size, \n",
    "                                custom_collate_fn)"
   ]
  },
  {
   "cell_type": "code",
   "execution_count": null,
   "metadata": {},
   "outputs": [],
   "source": [
    "train_loader = data_module.train_dataloader()"
   ]
  },
  {
   "cell_type": "code",
   "execution_count": null,
   "metadata": {},
   "outputs": [],
   "source": [
    "dummy_performance_metrics = {\n",
    "    \n",
    "    3: {'win_rate': 45, 'average_attempts_used': 5},\n",
    "    4: {'win_rate': 60, 'average_attempts_used': 3},  # This won't be selected due to high win rate\n",
    "    5: {'win_rate': 30, 'average_attempts_used': 6},\n",
    "    6: {'win_rate': 48, 'average_attempts_used': 4},\n",
    "    # ... add more dummy metrics as needed ...\n",
    "}"
   ]
  },
  {
   "cell_type": "code",
   "execution_count": null,
   "metadata": {},
   "outputs": [],
   "source": [
    "# Initialize PerformanceBasedSampler\n",
    "sampler = PerformanceBasedSampler(dataset=hangman_dataset, \n",
    "                                  performance_metrics=dummy_performance_metrics, \n",
    "                                  batch_size=10)\n",
    "\n",
    "# Verify target pairs\n",
    "print(\"Target pairs:\", sampler.target_pairs)"
   ]
  },
  {
   "cell_type": "code",
   "execution_count": null,
   "metadata": {},
   "outputs": [],
   "source": [
    "next(iter(sampler))"
   ]
  },
  {
   "cell_type": "markdown",
   "metadata": {},
   "source": []
  },
  {
   "cell_type": "code",
   "execution_count": null,
   "metadata": {},
   "outputs": [],
   "source": [
    "train_dataset[(1,)]"
   ]
  },
  {
   "cell_type": "code",
   "execution_count": null,
   "metadata": {},
   "outputs": [],
   "source": []
  }
 ],
 "metadata": {
  "kernelspec": {
   "display_name": "optiver",
   "language": "python",
   "name": "python3"
  },
  "language_info": {
   "codemirror_mode": {
    "name": "ipython",
    "version": 3
   },
   "file_extension": ".py",
   "mimetype": "text/x-python",
   "name": "python",
   "nbconvert_exporter": "python",
   "pygments_lexer": "ipython3",
   "version": "3.10.13"
  }
 },
 "nbformat": 4,
 "nbformat_minor": 2
}
