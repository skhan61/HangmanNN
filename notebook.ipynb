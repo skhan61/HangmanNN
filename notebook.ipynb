{
 "cells": [
  {
   "cell_type": "markdown",
   "metadata": {},
   "source": [
    "##### Imports"
   ]
  },
  {
   "cell_type": "code",
   "execution_count": 1,
   "metadata": {},
   "outputs": [],
   "source": [
    "import sys\n",
    "from pathlib import Path\n",
    "import warnings\n",
    "\n",
    "import warnings\n",
    "import pandas as pd\n",
    "warnings.filterwarnings('ignore')\n",
    "\n",
    "pd.set_option('display.max_columns', 1000)\n",
    "pd.set_option('display.max_rows', 1000)\n",
    "\n",
    "import sys\n",
    "# Custom library paths\n",
    "sys.path.extend(['../', './scr'])\n",
    "\n",
    "from scr.utils import set_seed\n",
    "from scr.utils import read_words\n",
    "from pathlib import Path\n",
    "import random\n",
    "from collections import Counter, defaultdict\n",
    "import pickle\n",
    "from tqdm import tqdm\n",
    "from torch.utils.data import Dataset\n",
    "\n",
    "from scr.utils import read_words, save_words_to_file\n",
    "\n",
    "import pickle\n",
    "from pathlib import Path\n",
    "from scr.dataset import *\n",
    "from scr.utils import *\n",
    "# # For inference\n",
    "from scr.feature_engineering import *\n",
    "\n",
    "import gc\n",
    "\n",
    "set_seed(42)\n",
    "\n",
    "import torch\n",
    "import torch.nn as nn\n",
    "from pathlib import Path\n",
    "import random\n",
    "\n",
    "from scr.utils import print_scenarios\n",
    "torch.set_float32_matmul_precision('medium')\n",
    "from pathlib import Path\n",
    "\n",
    "# Device configuration\n",
    "device = torch.device(\"cuda\" if torch.cuda.is_available() else \"cpu\")\n",
    "\n",
    "# # Read and Shuffle Word List\n",
    "word_list = read_words('data/words_250000_train.txt') # , limit=10000)\n",
    "# word_list = read_words('data/250k.txt', limit=10000)\n",
    "\n",
    "random.shuffle(word_list)\n",
    "\n",
    "# Calculate Frequencies and Max Word Length\n",
    "word_frequencies = calculate_word_frequencies(word_list)\n",
    "char_frequency = calculate_char_frequencies(word_list)\n",
    "max_word_length = max(len(word) for word in word_list)"
   ]
  },
  {
   "cell_type": "markdown",
   "metadata": {},
   "source": [
    "##### Data Dir"
   ]
  },
  {
   "cell_type": "code",
   "execution_count": 2,
   "metadata": {},
   "outputs": [],
   "source": [
    "NUM_STRATIFIED_SAMPLES = 100 # This will be overwritten by Papermill\n",
    "\n",
    "NUM_WORD_SAMPLE = 1_000 # words for testing\n",
    "\n",
    "FAST_DEV_RUN = False\n",
    "\n",
    "MAX_EPOCH = 250"
   ]
  },
  {
   "cell_type": "code",
   "execution_count": 3,
   "metadata": {},
   "outputs": [
    {
     "name": "stdout",
     "output_type": "stream",
     "text": [
      "Length of the testing word list: 10048\n",
      "Sampled 1085 unique words for testing.\n",
      "1085\n"
     ]
    }
   ],
   "source": [
    "from pathlib import Path\n",
    "from scr.custom_sampler import *\n",
    "\n",
    "# Define the base directory and the paths for training and validation parquet files\n",
    "base_dataset_dir = Path(\"/media/sayem/510B93E12554BBD1/dataset/\")\n",
    "stratified_samples_dir = base_dataset_dir / str(NUM_STRATIFIED_SAMPLES)\n",
    "parquet_path = stratified_samples_dir / 'parquets'\n",
    "\n",
    "# Create directories for train and validation parquets if they don't exist\n",
    "parquet_path.mkdir(parents=True, exist_ok=True)\n",
    "# parquet_valid_path.mkdir(parents=True, exist_ok=True)\n",
    "\n",
    "# Define and create the directory for models\n",
    "models_dir = Path(\"/home/sayem/Desktop/Hangman/models\")\n",
    "models_dir.mkdir(parents=True, exist_ok=True)\n",
    "\n",
    "# Define your output directory\n",
    "# Define your output directory and logger directory\n",
    "output_dir = Path(\"/home/sayem/Desktop/Hangman/training_outputs\")\n",
    "logger_dir = output_dir / \"lightning_logs\"\n",
    "\n",
    "# Create the output and logger directories if they don't exist\n",
    "output_dir.mkdir(parents=True, exist_ok=True)\n",
    "logger_dir.mkdir(parents=True, exist_ok=True)\n",
    "\n",
    "# Define the file path for saving the testing words\n",
    "testing_words_file_path = stratified_samples_dir / \"testing_words.txt\"\n",
    "\n",
    "try:\n",
    "    testing_word_list = read_words(testing_words_file_path)\n",
    "    print(f\"Length of the testing word list: {len(testing_word_list)}\")\n",
    "    sampled_test_words = stratified_sample_by_length_and_uniqueness(testing_word_list, NUM_WORD_SAMPLE)\n",
    "    print(f\"Sampled {len(sampled_test_words)} unique words for testing.\")\n",
    "except FileNotFoundError:\n",
    "    print(f\"File not found: {testing_words_file_path}\")\n",
    "\n",
    "print(len(sampled_test_words))"
   ]
  },
  {
   "cell_type": "markdown",
   "metadata": {},
   "source": [
    "##### Dataset Loading and train test split"
   ]
  },
  {
   "cell_type": "code",
   "execution_count": 4,
   "metadata": {},
   "outputs": [
    {
     "data": {
      "text/plain": [
       "PosixPath('/media/sayem/510B93E12554BBD1/dataset/100/parquets')"
      ]
     },
     "execution_count": 4,
     "metadata": {},
     "output_type": "execute_result"
    }
   ],
   "source": [
    "parquet_path"
   ]
  },
  {
   "cell_type": "code",
   "execution_count": 5,
   "metadata": {},
   "outputs": [],
   "source": [
    "# Create datasets directly from the saved parquet files\n",
    "hangman_dataset = HangmanDataset(parquet_path)\n",
    "# valid_dataset = HangmanDataset(parquet_valid_path)\n",
    "\n",
    "from scr.utils import *\n",
    "\n",
    "# Split the dataset into training and validation sets\n",
    "train_dataset, valid_dataset = hangman_dataset.split(test_size=0.2)"
   ]
  },
  {
   "cell_type": "code",
   "execution_count": 6,
   "metadata": {},
   "outputs": [],
   "source": [
    "assert len(train_dataset) > len(valid_dataset)"
   ]
  },
  {
   "cell_type": "code",
   "execution_count": 7,
   "metadata": {},
   "outputs": [
    {
     "name": "stdout",
     "output_type": "stream",
     "text": [
      "{'game_id': 4032, 'word': 'alta', 'initial_state': ['____'], 'final_state': 'alta', 'guessed_states': ['____', '__t_', '_lt_', 'alta'], 'guessed_letters': ['t', 'l', 'a'], 'game_state': 'allMasked', 'difficulty': 'easy', 'outcome': 'win', 'word_length': 4, 'won': True}\n"
     ]
    }
   ],
   "source": [
    "# Access the first element in the dataset\n",
    "first_element = hangman_dataset[0]  # Using an integer index\n",
    "print(first_element)"
   ]
  },
  {
   "cell_type": "code",
   "execution_count": 8,
   "metadata": {},
   "outputs": [
    {
     "name": "stdout",
     "output_type": "stream",
     "text": [
      "{'game_id': 4032, 'word': 'alta', 'initial_state': ['____'], 'final_state': 'alta', 'guessed_states': ['____', '__t_', '_lt_', 'alta'], 'guessed_letters': ['t', 'l', 'a'], 'game_state': 'allMasked', 'difficulty': 'easy', 'outcome': 'win', 'word_length': 4, 'won': True}\n"
     ]
    }
   ],
   "source": [
    "# Access the first row of the first file (assuming at least one row exists)\n",
    "tuple_element = hangman_dataset[(0, 0)]  # Using a tuple (file index, row index)\n",
    "print(tuple_element)"
   ]
  },
  {
   "cell_type": "code",
   "execution_count": 9,
   "metadata": {},
   "outputs": [
    {
     "data": {
      "text/plain": [
       "{1: 0.14,\n",
       " 2: 0.29,\n",
       " 3: 0.23,\n",
       " 4: 0.2,\n",
       " 5: 0.09,\n",
       " 6: 0.09,\n",
       " 7: 0.06,\n",
       " 8: 0.27,\n",
       " 9: 0.2,\n",
       " 10: 0.23,\n",
       " 11: 0.06,\n",
       " 12: 0.29,\n",
       " 13: 0.26,\n",
       " 14: 0.1,\n",
       " 15: 0.1,\n",
       " 16: 0.1,\n",
       " 17: 0.13,\n",
       " 18: 0.18,\n",
       " 19: 0.16,\n",
       " 20: 0.12}"
      ]
     },
     "execution_count": 9,
     "metadata": {},
     "output_type": "execute_result"
    }
   ],
   "source": [
    "import numpy as np\n",
    "\n",
    "# Set the random seed for reproducible results\n",
    "np.random.seed(42)\n",
    "\n",
    "# Generate sequence lengths from 1 to 20\n",
    "sequence_lengths = np.arange(1, 21)  # 1 to 20 inclusive\n",
    "\n",
    "# Generate random miss penalties between 0.05 and 0.3 for each sequence length\n",
    "miss_penalties = np.round(np.random.uniform(0.05, 0.3, len(sequence_lengths)), 2)\n",
    "\n",
    "# Combine sequence lengths and miss penalties into a dictionary\n",
    "performance_metrics = dict(zip(sequence_lengths, miss_penalties))\n",
    "\n",
    "# Display the generated performance metrics\n",
    "performance_metrics"
   ]
  },
  {
   "cell_type": "code",
   "execution_count": 10,
   "metadata": {},
   "outputs": [],
   "source": [
    "composite_score = \\\n",
    "    {13: 1.0144969265237789, 14: 1.0139399278380974, 12: 1.0145889222021265, 11: 1.0149790846522682, \\\n",
    "        15: 1.0137005413389382, 10: 1.0149863660317038, 8: 0.9827807551208211, 7: 0.9876452759289711, \\\n",
    "            9: 1.014814988760513, 5: 1.0138412270631227, 4: 1.013670403951156, 2: 1.0134486201164408, \\\n",
    "                3: 0.01386993304338964, 6: 1.0140813705881533, 17: 1.0140782178690035, 16: 1.0145310966095122, \\\n",
    "                    18: 1.0138246885811288, 19: 1.0127181950956583, 21: 1.012694844044745, 20: 1.01259642560035}"
   ]
  },
  {
   "cell_type": "code",
   "execution_count": 11,
   "metadata": {},
   "outputs": [],
   "source": [
    "# # Specify the batch size for the sampler\n",
    "# batch_size = 3\n",
    "\n",
    "# # Initialize the PerformanceBasedSampler\n",
    "# sampler = PerformanceBasedSampler(dataset=hangman_dataset, \\\n",
    "#     performance_metrics=composite_score, batch_size=batch_size)"
   ]
  },
  {
   "cell_type": "code",
   "execution_count": 12,
   "metadata": {},
   "outputs": [],
   "source": [
    "# next(iter(sampler))"
   ]
  },
  {
   "cell_type": "code",
   "execution_count": 13,
   "metadata": {},
   "outputs": [],
   "source": [
    "# from torch.utils.data import DataLoader\n",
    "\n",
    "# # Specify the batch size for the sampler\n",
    "# batch_size = 128\n",
    "\n",
    "# # Initialize the PerformanceBasedSampler\n",
    "# sampler = PerformanceBasedSampler(dataset=hangman_dataset, \\\n",
    "#     performance_metrics=performance_metrics, batch_size=batch_size)\n",
    "\n",
    "# # Initialize DataLoader with the HangmanDataset and PerformanceBasedSampler\n",
    "# data_loader = DataLoader(\n",
    "#     dataset=hangman_dataset,\n",
    "#     batch_sampler=sampler,  # Correct usage for custom batch handling\n",
    "#     collate_fn=new_custom_collate_fn,  # Custom collate function, if needed\n",
    "# )\n",
    "\n",
    "# import torch  # Ensure torch is imported\n",
    "\n",
    "# for batch in tqdm(data_loader):\n",
    "#     states = batch['guessed_states']\n",
    "#     guesses = batch['guessed_letters']\n",
    "#     max_seq_length = batch['max_seq_len']\n",
    "#     original_seq_lengths = batch['original_seq_lengths']\n",
    "\n",
    "\n",
    "#     batch_features, batch_missed_chars = process_batch_of_games(\n",
    "#                 states, guesses, char_frequency,\n",
    "#                     max_word_length,\n",
    "#                     max_seq_length)\n",
    "\n",
    "#     print(f\"{batch_features.shape}\")\n",
    "\n",
    "#     break\n"
   ]
  },
  {
   "cell_type": "code",
   "execution_count": 14,
   "metadata": {},
   "outputs": [],
   "source": [
    "# hangman_dataset[(0, 34)]"
   ]
  },
  {
   "cell_type": "code",
   "execution_count": 15,
   "metadata": {},
   "outputs": [],
   "source": [
    "from scr.data_module import *\n",
    "\n",
    "# Initialize Data Module\n",
    "initial_batch_size = 1024 # Set your initial batch size\n",
    "\n",
    "# Initialize Data Module with the required arguments\n",
    "data_module = HangmanDataModule(train_dataset, valid_dataset, \n",
    "                                initial_batch_size, \n",
    "                                new_custom_collate_fn)"
   ]
  },
  {
   "cell_type": "code",
   "execution_count": 16,
   "metadata": {},
   "outputs": [],
   "source": [
    "# performance_metrics_dict = {k: v for d in combined_eval_metrics for k, v in d.items()}\n",
    "\n",
    "# # # # # print(\"Converted Performance Metrics Dictb ionary:\", performance_metrics_dict)\n",
    "\n",
    "# data_module.update_performance_metrics(composite_score)"
   ]
  },
  {
   "cell_type": "code",
   "execution_count": 17,
   "metadata": {},
   "outputs": [
    {
     "name": "stderr",
     "output_type": "stream",
     "text": [
      "  0%|          | 0/7 [00:00<?, ?it/s]"
     ]
    },
    {
     "name": "stderr",
     "output_type": "stream",
     "text": [
      "100%|██████████| 7/7 [00:01<00:00,  3.59it/s]"
     ]
    },
    {
     "name": "stdout",
     "output_type": "stream",
     "text": [
      "First state in batch: ['____c__s__c', '____c__s__c', '____c__s__c', '____c__s__c', '____c__s_ic', '____c__s_ic', '____c__s_ic', '____c__s_ic', '', '', '', '', '', '', '', '', '', '', '', '', '']\n",
      "Unique sequence lengths in batch: {2, 3, 4, 5, 6, 7, 8, 9, 10, 11, 12, 13, 14, 15, 16, 17, 18, 19, 20, 21}\n",
      "Diversity (number of unique sequence lengths) in batch: 20\n",
      "\n",
      "First state in batch: ['_________a__', '_________a__', '_________a__', '_________a__', '_________a__', '_________a__', '_r___r___a__', '_r___r___a__', '', '', '', '', '', '', '', '', '', '', '', '']\n",
      "Unique sequence lengths in batch: {2, 3, 4, 5, 6, 7, 8, 9, 10, 11, 12, 13, 14, 15, 16, 17, 18, 19, 20}\n",
      "Diversity (number of unique sequence lengths) in batch: 19\n",
      "\n",
      "First state in batch: ['_____________________', '_r_________r_________', '_r_________r________s', '_r___n__n__r___n__n_s', '_ri__n_in__ri__n_in_s', '_ri__n_in__ri__n_in_s', '_ri__n_in__ri__n_in_s', '_ri__n_ine_ri__n_ines', 'bri__n_inebri__n_ines', 'bri__n_inebri__n_ines', 'bri__ntinebri__ntines', 'bri__ntinebri__ntines', 'bri__ntinebri__ntines', 'brig_ntinebrig_ntines', 'brig_ntinebrig_ntines', '', '', '', '']\n",
      "Unique sequence lengths in batch: {2, 3, 4, 5, 6, 7, 8, 9, 10, 11, 12, 13, 14, 15, 16, 17, 18, 19}\n",
      "Diversity (number of unique sequence lengths) in batch: 18\n",
      "\n",
      "First state in batch: ['___c______', '___c______', '___c______', '___c______', '___c______', '___c______', '___c__t__t', '___c__t__t', '', '', '', '', '', '', '', '', '', '', '', '']\n",
      "Unique sequence lengths in batch: {2, 3, 4, 5, 6, 7, 8, 9, 10, 11, 12, 13, 14, 15, 16, 17, 18, 19, 20}\n",
      "Diversity (number of unique sequence lengths) in batch: 19\n",
      "\n",
      "First state in batch: ['_____l__k__c____', '_____l__k__ch___', '___p_l__k__ch___', '___p_l__k__ch___', '___p_ld_k__ch___', '___p_ld_ki_ch___', '___p_ld_ki_ch___', '___p_ld_ki_ch___', '___pold_ki_ch___', '___pold_kirch__r', '___pold_kirch__r', '___pold_kirch__r', 'g__pold_kirch__r', 'gu_pold_kirch__r', 'gu_pold_kirch__r', '', '', '', '', '']\n",
      "Unique sequence lengths in batch: {2, 3, 4, 5, 6, 7, 8, 9, 10, 11, 12, 13, 14, 15, 16, 17, 18, 19, 20}\n",
      "Diversity (number of unique sequence lengths) in batch: 19\n",
      "\n",
      "First state in batch: ['____________________', '__________a____a____', '________i_a_i__a_i__', 'n_n__n__ina_i_na_i__', 'n_n__n_mina_i_na_i_m', 'n_n_en_mina_i_na_i_m', 'n_n_en_mina_i_na_ism', 'n_nden_mina_i_na_ism', 'n_nden_mina_i_nalism', 'nondenomina_ionalism', 'nondenominationalism', '', '', '', '', '', '', '', '', '']\n",
      "Unique sequence lengths in batch: {2, 3, 4, 5, 6, 7, 8, 9, 10, 11, 12, 13, 14, 15, 16, 17, 18, 19, 20}\n",
      "Diversity (number of unique sequence lengths) in batch: 19\n",
      "\n",
      "First state in batch: ['_oo_oo', '_oo_oo', 'zoozoo', '', '', '', '', '', '', '', '', '', '', '', '', '', '', '']\n",
      "Unique sequence lengths in batch: {2, 3, 4, 5, 6, 7, 8, 9, 10, 11, 12, 13, 14, 15, 16, 17, 18}\n",
      "Diversity (number of unique sequence lengths) in batch: 17\n",
      "\n",
      "Average diversity of sequence lengths across batches: 18.714285714285715\n"
     ]
    },
    {
     "name": "stderr",
     "output_type": "stream",
     "text": [
      "\n"
     ]
    }
   ],
   "source": [
    "from tqdm import tqdm\n",
    "\n",
    "# Assuming data_module is an instance of HangmanDataModule\n",
    "data_loader = data_module.train_dataloader()  # Call the method to get the DataLoader instance\n",
    "\n",
    "# Initialize a list to store the diversity of sequence lengths in each batch\n",
    "batch_seq_length_diversity = []\n",
    "\n",
    "for batch in tqdm(data_loader):\n",
    "    \n",
    "    states = batch['guessed_states']\n",
    "    guesses = batch['guessed_letters']\n",
    "    max_seq_length = batch['max_seq_len']\n",
    "    original_seq_lengths = batch['original_seq_lengths']\n",
    "\n",
    "    # # Extract original_seq_lengths from the batch\n",
    "    # original_seq_lengths = batch['original_seq_lengths']\n",
    "\n",
    "    # Analyze the diversity of sequence lengths in the current batch\n",
    "    unique_seq_lengths = set(original_seq_lengths)  # Use a set to find unique sequence lengths\n",
    "    batch_seq_length_diversity.append(len(unique_seq_lengths))  # Store the count of unique lengths\n",
    "\n",
    "    print(f\"First state in batch: {batch['guessed_states'][0]}\")\n",
    "    # print(f\"Original sequence lengths in batch: {original_seq_lengths}\")\n",
    "    print(f\"Unique sequence lengths in batch: {unique_seq_lengths}\")\n",
    "    print(f\"Diversity (number of unique sequence lengths) in batch: {len(unique_seq_lengths)}\")\n",
    "\n",
    "    # break  # Remove this break to analyze all batches\n",
    "\n",
    "    print()\n",
    "\n",
    "# After collecting data, analyze the overall diversity\n",
    "print(f\"Average diversity of sequence lengths across batches: {sum(batch_seq_length_diversity) / len(batch_seq_length_diversity)}\")\n"
   ]
  },
  {
   "cell_type": "code",
   "execution_count": 18,
   "metadata": {},
   "outputs": [
    {
     "name": "stderr",
     "output_type": "stream",
     "text": [
      "  0%|          | 0/7 [00:01<?, ?it/s]"
     ]
    },
    {
     "name": "stdout",
     "output_type": "stream",
     "text": [
      "dict_keys(['guessed_states', 'guessed_letters', 'max_seq_len', 'original_seq_lengths', 'difficulty', 'outcome', 'word_length', 'won', 'initial_state', 'final_state', 'game_state'])\n",
      "['____', '____', '____', '____', 'p_p_', 'p_p_', 'p_p_', 'p_p_', '', '', '', '', '', '', '', '', '', '', '', '']\n",
      "['o', 'c', 'q', 'p', 'y', 'w', 'j', '', '', '', '', '', '', '', '', '', '', '', '']\n",
      "\n",
      "Extracted Features for the first game in batch:\n",
      "uncovered_progress: 1\n",
      "missed_guesses: 7\n",
      "duplicate_guesses: 0\n",
      "incorrect_guesses: 7\n",
      "endgame_proximity: 0.2413793103448276\n",
      "guess_diversity: 0.42105263157894735\n",
      "initial_letter_reveal: 0\n",
      "critical_letter_uncover_rate: 0\n",
      "guess_efficiency: 0.0\n",
      "overall_success_rate: 0.0\n",
      "remaining_attempts: 0\n",
      "late_game_success_rate: 0.0\n",
      "longest_success_streak: 0\n",
      "final_state_achieved: 0\n",
      "vowel_consonant_ratio: 0.16666666666666666\n"
     ]
    },
    {
     "name": "stderr",
     "output_type": "stream",
     "text": [
      "\n"
     ]
    }
   ],
   "source": [
    "from tqdm import tqdm\n",
    "\n",
    "maximum_word_length = 29\n",
    "# Assuming data_module is an instance of HangmanDataModule\n",
    "data_loader = data_module.train_dataloader()  # Call the method to get the DataLoader instance\n",
    "\n",
    "# Feature descriptions\n",
    "feature_descriptions = [\n",
    "    \"Uncovered Progress: Fraction of the word uncovered\",\n",
    "    \"Missed Guesses: Total number of incorrect guesses\",\n",
    "    \"Duplicate Guesses: Total number of duplicate guesses\",\n",
    "    \"Incorrect Guesses: Total number of guesses that didn't reveal any new letters\",\n",
    "    \"Endgame Proximity: Proportion of letters guessed to the maximum word length\",\n",
    "    \"Guess Diversity: Diversity of guessed letters\",\n",
    "    \"Initial Letter Reveal: Whether the first letter was revealed (1) or not (0)\",\n",
    "    \"Critical Letter Uncover Rate: Rate at which critical vowels (aeiou) were uncovered\",\n",
    "    \"Guess Efficiency: Proportion of correct guesses to total guesses made\",\n",
    "    \"Overall Success Rate: Proportion of successful guesses to total guesses\",\n",
    "    \"Remaining Attempts: Number of attempts left after all guesses\",\n",
    "    \"Late Game Success Rate: Success rate in the second half of the game\",\n",
    "    \"Longest Success Streak: Longest streak of consecutive correct guesses\",\n",
    "    \"Final State Achieved: Whether the final state (the complete word) was achieved (1) or not (0)\"\n",
    "]\n",
    "\n",
    "for batch in tqdm(data_loader):\n",
    "    print(batch.keys())  # To verify the keys in each batch\n",
    "    game_states = batch['guessed_states']\n",
    "    guessed_letters = batch['guessed_letters']\n",
    "\n",
    "    # Analyze the first game in the batch for demonstration\n",
    "    features = analyze_and_extract_features(game_states[0], guessed_letters[0],  maximum_word_length)\n",
    "\n",
    "    # print(\"\\nFirst game states in batch:\")\n",
    "    # for state in game_states[0]:\n",
    "    #     print(state)\n",
    "\n",
    "    print(f\"{game_states[0]}\")\n",
    "    print(f\"{guessed_letters[0]}\")\n",
    "\n",
    "    # print(\"\\nGuessed letters for the first game in batch:\")\n",
    "    # print(guessed_letters[0])\n",
    "\n",
    "    print(\"\\nExtracted Features for the first game in batch:\")\n",
    "    for feature, value in features.items():\n",
    "        # Check if the value is a tensor or a NumPy array and then call .item()\n",
    "        if hasattr(value, 'item'):\n",
    "            print(f\"{feature}: {value.item()}\")\n",
    "        else:\n",
    "            # Directly print the value if it's not a tensor/NumPy array\n",
    "            print(f\"{feature}: {value}\")\n",
    "\n",
    "    # print(features.shape)\n",
    "\n",
    "\n",
    "    break  # Remove this break to analyze all batches\n"
   ]
  },
  {
   "cell_type": "code",
   "execution_count": 19,
   "metadata": {},
   "outputs": [
    {
     "name": "stderr",
     "output_type": "stream",
     "text": [
      "  0%|          | 0/7 [00:02<?, ?it/s]"
     ]
    },
    {
     "name": "stdout",
     "output_type": "stream",
     "text": [
      "Batch features shape: torch.Size([1024, 21, 160])\n"
     ]
    },
    {
     "name": "stderr",
     "output_type": "stream",
     "text": [
      "\n"
     ]
    }
   ],
   "source": [
    "# Assuming data_module is an instance of HangmanDataModule\n",
    "data_loader = data_module.train_dataloader  # Call the method to get the DataLoader\n",
    "\n",
    "for batch in tqdm(data_loader()):\n",
    "    states = batch['guessed_states']\n",
    "    guesses = batch['guessed_letters']\n",
    "    max_seq_length = batch['max_seq_len']\n",
    "    original_seq_lengths = batch['original_seq_lengths']\n",
    "\n",
    "    # Process the batch using your custom function\n",
    "    batch_features, batch_missed_chars = process_batch_of_games(\n",
    "        states, guesses, char_frequency, max_word_length, max_seq_length)\n",
    "\n",
    "    print(f\"Batch features shape: {batch_features.shape}\")\n",
    "    # break  # Remove this break to process all batches, it's here just to process the first batch\n",
    "\n",
    "    # print(states[0])\n",
    "\n",
    "    # print(original_seq_lengths[0])\n",
    "\n",
    "    break\n"
   ]
  },
  {
   "cell_type": "code",
   "execution_count": 20,
   "metadata": {},
   "outputs": [
    {
     "ename": "NameError",
     "evalue": "name 'STOP' is not defined",
     "output_type": "error",
     "traceback": [
      "\u001b[0;31m---------------------------------------------------------------------------\u001b[0m",
      "\u001b[0;31mNameError\u001b[0m                                 Traceback (most recent call last)",
      "Cell \u001b[0;32mIn[20], line 1\u001b[0m\n\u001b[0;32m----> 1\u001b[0m \u001b[43mSTOP\u001b[49m\n",
      "\u001b[0;31mNameError\u001b[0m: name 'STOP' is not defined"
     ]
    }
   ],
   "source": [
    "STOP"
   ]
  },
  {
   "cell_type": "code",
   "execution_count": null,
   "metadata": {},
   "outputs": [],
   "source": []
  },
  {
   "cell_type": "code",
   "execution_count": null,
   "metadata": {},
   "outputs": [],
   "source": [
    "from tqdm import tqdm\n",
    "from collections import Counter\n",
    "\n",
    "# Assuming data_module is an instance of HangmanDataModule\n",
    "data_loader = data_module.train_dataloader()  # Call the method to get the DataLoader instance\n",
    "\n",
    "# Initialize lists to store the diversity of sequence lengths and word lengths in each batch\n",
    "batch_seq_length_diversity = []\n",
    "batch_word_length_diversity = []\n",
    "\n",
    "for batch in tqdm(data_loader):\n",
    "    # Extract original_seq_lengths and word_len from the batch\n",
    "    original_seq_lengths = batch['original_seq_lengths']\n",
    "    word_lengths = batch['word_length']\n",
    "\n",
    "    # Analyze the diversity of sequence lengths in the current batch\n",
    "    unique_seq_lengths = set(original_seq_lengths)\n",
    "    batch_seq_length_diversity.append(len(unique_seq_lengths))\n",
    "\n",
    "    # Analyze the diversity of word lengths in the current batch\n",
    "    unique_word_lengths = set(word_lengths)\n",
    "    batch_word_length_diversity.append(len(unique_word_lengths))\n",
    "\n",
    "    # Count the number of examples under each unique sequence length\n",
    "    seq_len_counts = Counter(original_seq_lengths)\n",
    "    # Count the number of examples under each unique word length\n",
    "    word_len_counts = Counter(word_lengths)\n",
    "\n",
    "    print(f\"First state in batch: {batch['guessed_states'][0]}\")\n",
    "    print(f\"Unique sequence lengths in batch: {unique_seq_lengths}\")\n",
    "    print(f\"Diversity (number of unique sequence lengths) in batch: {len(unique_seq_lengths)}\")\n",
    "    print(f\"Number of examples under each unique sequence length in batch: {seq_len_counts}\")\n",
    "    print(f\"Unique word lengths in batch: {unique_word_lengths}\")\n",
    "    print(f\"Diversity (number of unique word lengths) in batch: {len(unique_word_lengths)}\")\n",
    "    print(f\"Number of examples under each unique word length in batch: {word_len_counts}\")\n",
    "\n",
    "    print()\n",
    "\n",
    "# After collecting data, analyze the overall diversity\n",
    "average_seq_length_diversity = sum(batch_seq_length_diversity) / len(batch_seq_length_diversity) if batch_seq_length_diversity else 0\n",
    "average_word_length_diversity = sum(batch_word_length_diversity) / len(batch_word_length_diversity) if batch_word_length_diversity else 0\n",
    "print(f\"Average diversity of sequence lengths across batches: {average_seq_length_diversity}\")\n",
    "print(f\"Average diversity of word lengths across batches: {average_word_length_diversity}\")"
   ]
  },
  {
   "cell_type": "code",
   "execution_count": null,
   "metadata": {},
   "outputs": [],
   "source": [
    "STOP"
   ]
  },
  {
   "cell_type": "code",
   "execution_count": null,
   "metadata": {},
   "outputs": [],
   "source": [
    "import numpy as np\n",
    "from tqdm import tqdm\n",
    "\n",
    "# Assuming `data_loader` is already defined and configured\n",
    "total_samples_processed = 0\n",
    "batch_sizes = []\n",
    "\n",
    "for batch in tqdm(data_loader()):\n",
    "    batch_size_current = len(batch['guessed_states'])  # Assuming batch is a dictionary with 'guessed_states'\n",
    "    total_samples_processed += batch_size_current\n",
    "    batch_sizes.append(batch_size_current)"
   ]
  },
  {
   "cell_type": "code",
   "execution_count": null,
   "metadata": {},
   "outputs": [],
   "source": [
    "# Calculate expected values\n",
    "expected_num_batches = np.ceil(len(data_module.train_dataset) / data_module.batch_size)\n",
    "actual_num_batches = len(batch_sizes)\n",
    "final_batch_size = len(data_module.train_dataset) % data_module.batch_size or data_module.batch_size\n",
    "\n",
    "# Sanity checks\n",
    "print(f\"Expected number of batches: {expected_num_batches}\")\n",
    "print(f\"Actual number of batches: {actual_num_batches}\")\n",
    "print(f\"Expected final batch size: {final_batch_size}\")\n",
    "print(f\"Actual final batch size: {batch_sizes[-1]}\")\n",
    "print(f\"Total samples in dataset: {len(data_module.train_dataset)}\")\n",
    "print(f\"Total samples processed: {total_samples_processed}\")\n",
    "\n",
    "# Verifying if the dataset was fully covered\n",
    "assert total_samples_processed == len(data_module.train_dataset), \"Mismatch in the number of processed samples and dataset size.\""
   ]
  },
  {
   "cell_type": "code",
   "execution_count": null,
   "metadata": {},
   "outputs": [],
   "source": [
    "data_loader = data_module.val_dataloader\n",
    "\n",
    "for batch in data_loader():\n",
    "    states = batch['guessed_states']\n",
    "    guesses = batch['guessed_letters']\n",
    "    max_seq_length = batch['max_seq_len']\n",
    "    original_seq_lengths = batch['original_seq_lengths']\n",
    "\n",
    "\n",
    "    batch_features, batch_missed_chars = process_batch_of_games(\n",
    "                states, guesses, char_frequency,\n",
    "                    max_word_length,\n",
    "                    max_seq_length)\n",
    "\n",
    "    print(f\"{batch_features.shape}\")\n",
    "\n",
    "    break"
   ]
  },
  {
   "cell_type": "code",
   "execution_count": null,
   "metadata": {},
   "outputs": [],
   "source": [
    " dataset_size = len(data_module.train_dataloader().dataset)\n",
    "\n",
    " dataset_size"
   ]
  },
  {
   "cell_type": "code",
   "execution_count": null,
   "metadata": {},
   "outputs": [],
   "source": [
    "batch_size = data_module.train_dataloader().batch_size"
   ]
  },
  {
   "cell_type": "code",
   "execution_count": null,
   "metadata": {},
   "outputs": [],
   "source": [
    "batch_size"
   ]
  },
  {
   "cell_type": "code",
   "execution_count": null,
   "metadata": {},
   "outputs": [],
   "source": [
    "# Tunable hyperparameters\n",
    "LEARNING_RATE = 0.01\n",
    "HIDDEN_DIM = 32 ### 32\n",
    "NUM_LAYERS = 3\n",
    "EMBEDDING_DIM = 30"
   ]
  },
  {
   "cell_type": "code",
   "execution_count": null,
   "metadata": {},
   "outputs": [],
   "source": [
    "from scr.encoder import *\n",
    "from scr.trainer_ import *\n",
    "from scr.decoder import SimpleLSTM\n",
    "\n",
    "# Fixed parameters\n",
    "max_word_length = 29  # Maximum word length\n",
    "num_embeddings = 28   # Vocabulary size (fixed, based on unique characters in the game)\n",
    "num_features = 154     # Number of features per character\n",
    "missed_char_dim = 28  # Additional dimension for missed characters\n",
    "output_dim = 28       # Output dimension for the model\n",
    "\n",
    "char_feature_dim = 5  # Features per character\n",
    "embedding_dim = 50\n",
    "additional_state_features = num_features \\\n",
    "    - max_word_length * char_feature_dim   # Additional features per state\n",
    "\n",
    "print(f\"Addition state fetatures: {additional_state_features}\")\n",
    "# Initialize the Encoder\n",
    "\n",
    "encoder = Encoder(num_embeddings, embedding_dim, max_word_length, \\\n",
    "    char_feature_dim, additional_state_features)\n",
    "\n",
    "input_dim = max_word_length * embedding_dim + additional_state_features\n",
    "# Initialize the SimpleLSTM decoder\n",
    "decoder = SimpleLSTM(input_dim=input_dim, \n",
    "                     hidden_dim=HIDDEN_DIM, \n",
    "                     output_dim=output_dim, \n",
    "                     num_layers=NUM_LAYERS,\n",
    "                     missed_char_dim=missed_char_dim)\n",
    "\n",
    "# Other parts of the code flow..."
   ]
  },
  {
   "cell_type": "code",
   "execution_count": null,
   "metadata": {},
   "outputs": [],
   "source": [
    "# Initialize the HangmanModel\n",
    "lightning_model = HangmanModel(encoder, decoder, \n",
    "                    LEARNING_RATE, char_frequency, \n",
    "                    max_word_length, test_words=sampled_test_words)"
   ]
  },
  {
   "cell_type": "code",
   "execution_count": null,
   "metadata": {},
   "outputs": [],
   "source": [
    "lightning_model.optimizer_type"
   ]
  },
  {
   "cell_type": "code",
   "execution_count": null,
   "metadata": {},
   "outputs": [],
   "source": [
    "from scr.data_module import *\n",
    "\n",
    "# Initialize Data Module\n",
    "initial_batch_size = 1 # Set your initial batch size\n",
    "\n",
    "# Initialize Data Module with the required arguments\n",
    "data_module = HangmanDataModule(train_dataset, valid_dataset, \n",
    "                                initial_batch_size, \n",
    "                                custom_collate_fn)\n",
    "                                # performance_metrics=None)"
   ]
  },
  {
   "cell_type": "code",
   "execution_count": null,
   "metadata": {},
   "outputs": [],
   "source": [
    "from scr.custom_sampler import *\n",
    "from scr.dataset import *"
   ]
  },
  {
   "cell_type": "code",
   "execution_count": null,
   "metadata": {},
   "outputs": [],
   "source": [
    "# from scr.feature_engineering import *\n",
    "\n",
    "\n",
    "for batch in data_module.train_dataloader():\n",
    "    print(batch.keys())\n",
    "\n",
    "    states = batch['guessed_states']\n",
    "    guesses = batch['guessed_letters']\n",
    "    max_seq_length = batch['max_seq_len']\n",
    "    original_seq_lengths = batch['original_seq_lengths']\n",
    "\n",
    "    batch_features, batch_missed_chars = process_batch_of_games(\n",
    "                                    states, guesses, char_frequency,\n",
    "                                    max_word_length,\n",
    "                                    max_seq_length)\n",
    "\n",
    "    print(f\"Batch features shape {batch_features.shape}\\n\")\n",
    "\n",
    "\n",
    "    encoded_guess = pad_and_reshape_labels(guesses, max_seq_length)\n",
    "\n",
    "    print(f\"states: {states}\")\n",
    "    print(f\"Guesses: {guesses}\\n\")\n",
    "    print(f\"Guesses shape: {guesses}\\n\")\n",
    "    # print(f\"batch missed chars: {batch_missed_chars}\\n\")\n",
    "\n",
    "    # print(f\"Encoded guess: {encoded_guess}\\n\")\n",
    "\n",
    "\n",
    "    print(f\"batch missed chars shape: {batch_missed_chars.shape}\\n\")\n",
    "\n",
    "    print(f\"Encoded guess shape: {encoded_guess.shape}\\n\")\n",
    "\n",
    "\n",
    "    # Convert the batch to characters\n",
    "    missed_chars = batch_to_chars(batch_missed_chars)\n",
    "\n",
    "    print(f\"batch missed chars : So far present characters (that NN should not guess again): {missed_chars}\\n\")\n",
    "\n",
    "    break"
   ]
  },
  {
   "cell_type": "code",
   "execution_count": null,
   "metadata": {},
   "outputs": [],
   "source": [
    "STOP"
   ]
  },
  {
   "cell_type": "code",
   "execution_count": null,
   "metadata": {},
   "outputs": [],
   "source": [
    "## callbacks\n",
    "from pytorch_lightning.callbacks import Callback, EarlyStopping\n",
    "from scr.custom_callbacks import *\n",
    "\n",
    "# Setup EarlyStopping to monitor the test_win_rate\n",
    "early_stop_callback = EarlyStopping(\n",
    "    monitor='win_rate',\n",
    "    min_delta=0.00,\n",
    "    patience=200,\n",
    "    verbose=True,\n",
    "    mode='max'  # Maximize the win rate\n",
    ")\n",
    "\n",
    "step_level_early_stopping = StepLevelEarlyStopping(\n",
    "    monitor='val_miss_penalty', # Metric to monitor\n",
    "    min_delta=0.0,              # Minimum change to qualify as an improvement\n",
    "    patience=5                  # Number of steps with no improvement after which training will be stopped\n",
    ")"
   ]
  },
  {
   "cell_type": "code",
   "execution_count": null,
   "metadata": {},
   "outputs": [],
   "source": [
    "from pytorch_lightning.profilers import SimpleProfiler\n",
    "import pytorch_lightning as pl\n",
    "from scr.custom_callbacks import *\n",
    "from scr.dataset import *\n",
    "from scr.data_module import *\n",
    "from scr.trainer_ import *\n",
    "\n",
    "torch.cuda.empty_cache()\n",
    "\n",
    "# # Create Callbacks\n",
    "# loss_logging_callback = LossLoggingCallback()\n",
    "\n",
    "# , SchedulerSetupCallback()] # , loss_logging_callback]\n",
    "callbacks = [early_stop_callback, step_level_early_stopping] \n",
    "FAST_DEV_RUN = False\n",
    "# # Calculate the minimum percentage of validation batches\n",
    "# min_val_batches = 1 / len(data_module.val_dataloader())\n",
    "\n",
    "# # Create Trainer with Callbacks\n",
    "trainer = pl.Trainer(\n",
    "    default_root_dir=output_dir,\n",
    "    fast_dev_run=FAST_DEV_RUN, \n",
    "    max_epochs=MAX_EPOCH, \n",
    "    callbacks=callbacks,\n",
    "    num_sanity_val_steps=0,\n",
    "    reload_dataloaders_every_n_epochs=1,\n",
    "    enable_progress_bar=True \n",
    "    # val_check_interval=0.5\n",
    "    # limit_train_batches=2,  # Limit the number of training batches to 2\n",
    "    # limit_val_batches=2     # Limit the number of validation batches to 2\n",
    ")\n",
    "\n",
    "# # # # # print(f\"Running for {NUM_STRATIFIED_SAMPLES} samples...\")\n",
    "# # # print()\n",
    "# # # # # # # Assuming combined_eval_metrics is a list of dictionaries\n",
    "# combined_eval_metrics = trainer.validate(model=lightning_model, datamodule=data_module)\n",
    "\n",
    "# # performance_metrics_dict = {k: v for d in combined_eval_metrics for k, v in d.items()}\n",
    "\n",
    "# # # # # # print(\"Converted Performance Metrics Dictb ionary:\", performance_metrics_dict)\n",
    "\n",
    "# # trainer.datamodule.update_performance_metrics(combined_eval_metrics)\n",
    "\n",
    "# data_module.update_performance_metrics(performance_metrics_dict)"
   ]
  },
  {
   "cell_type": "code",
   "execution_count": null,
   "metadata": {},
   "outputs": [],
   "source": [
    "mo"
   ]
  },
  {
   "cell_type": "code",
   "execution_count": null,
   "metadata": {},
   "outputs": [],
   "source": [
    "STOP"
   ]
  },
  {
   "cell_type": "code",
   "execution_count": null,
   "metadata": {},
   "outputs": [],
   "source": [
    "# Sample data\n",
    "sample_game = {\n",
    "    'guessed_states': ['_d__d__e__', '_d__d__e__', '_d__d__e__', '_d__d_me__', \\\n",
    "        '_d__d_me__', '_d__d_me__', '_d__d_men_', '_d__d_men_'],\n",
    "    'guessed_letters': ['c', 'r', 'm', 'v', 'i', 'n', 'w', 'o']\n",
    "}"
   ]
  },
  {
   "cell_type": "code",
   "execution_count": null,
   "metadata": {},
   "outputs": [],
   "source": [
    "from scr.feature_engineering import *"
   ]
  },
  {
   "cell_type": "code",
   "execution_count": null,
   "metadata": {},
   "outputs": [],
   "source": [
    "# Define parameters\n",
    "max_word_length = 29  # Set as per your model's requirement\n",
    "max_seq_length = 10  # Set as per your model's requirement\n",
    "\n",
    "# # Dummy character frequency (example, create as per your data)\n",
    "# char_frequency = {char: 1 for char in 'abcdefghijklmnopqrstuvwxyz'}\n",
    "\n",
    "# Call the function and unpack the returned tuple into two variables\n",
    "char_sequence_tensor, missed_chars_tensor = process_game_sequence(\n",
    "    game_states=sample_game['guessed_states'], \n",
    "    guessed_letters_sequence=sample_game['guessed_letters'],\n",
    "    char_frequency=char_frequency, \n",
    "    max_word_length=max_word_length,\n",
    "    max_seq_length=max_seq_length\n",
    ")\n",
    "\n",
    "# Now you can print the shape of each tensor separately\n",
    "print(f\"Character Sequence Tensor Shape: {char_sequence_tensor.shape}\")\n",
    "print(f\"Missed Chars Tensor Shape: {missed_chars_tensor.shape}\")"
   ]
  },
  {
   "cell_type": "code",
   "execution_count": null,
   "metadata": {},
   "outputs": [],
   "source": [
    "from scr.feature_engineering import *"
   ]
  },
  {
   "cell_type": "code",
   "execution_count": null,
   "metadata": {},
   "outputs": [],
   "source": [
    "# Sample data for a batch of games\n",
    "batch_sample_games = {\n",
    "    'guessed_states_batch': [\n",
    "        ['_d__d__e__'],\n",
    "        # ['_b__b__t__'],\n",
    "        # ['__ll___p__'],\n",
    "    ],\n",
    "    \n",
    "    'guessed_letters_batch': [\n",
    "        ['c'],\n",
    "        # ['a'],\n",
    "        # ['i']\n",
    "    ]\n",
    "}"
   ]
  },
  {
   "cell_type": "code",
   "execution_count": null,
   "metadata": {},
   "outputs": [],
   "source": [
    "# # Sample data for a batch of games\n",
    "# batch_sample_games = {\n",
    "#     'guessed_states_batch': [\n",
    "#         ['_d__d__e__', '_d__d__e__', '_d__d__e__', '_d__d_me__', '_d__d_me__', '_d__d_me__', '_d__d_men_', '_d__d_men_'],\n",
    "#         ['_b__b__t__', '_b__b__t__', '_b__b__t__', '_b__b_t__', '_b__b_te__', '_b__b_te__', '_b__b_test', '_b__b_test'],\n",
    "#         ['__ll___p__', '__ll___p__', '__ll___p__', '__ll___p__', '__ll___p__', '__ll__op_', '__ll__op_', '__ll__op_']\n",
    "#     ],\n",
    "    \n",
    "#     'guessed_letters_batch': [\n",
    "#         ['c', 'r', 'm', 'v', 'i', 'n', 'w', 'o'],\n",
    "#         ['a', 's', 'e', 'f', 't', 'r', 'n', 'u'],\n",
    "#         ['i', 'q', 'r', 't', 'p', 'o', 'a', 's']\n",
    "#     ]\n",
    "# }\n",
    "\n",
    "# Define parameters\n",
    "max_word_length = 29  # Set as per your model's requirement\n",
    "max_seq_length = 10  # Set as per your model's requirement\n",
    "\n",
    "# # Dummy character frequency (example, create as per your data)\n",
    "# char_frequency = {char: 1 for char in 'abcdefghijklmnopqrstuvwxyz'}\n",
    "\n",
    "# Call the function\n",
    "batch_features, batch_missed_chars = process_batch_of_games(\n",
    "    batch_sample_games['guessed_states_batch'],\n",
    "    batch_sample_games['guessed_letters_batch'],\n",
    "    char_frequency,\n",
    "    max_word_length,\n",
    "    max_seq_length=1\n",
    ")\n",
    "\n",
    "print()\n",
    "# Print shapes for sanity check\n",
    "print(f\"Batch Features Shape: {batch_features.shape}\")\n",
    "print(f\"Batch Missed Chars Shape: {batch_missed_chars.shape}\")"
   ]
  },
  {
   "cell_type": "code",
   "execution_count": null,
   "metadata": {},
   "outputs": [],
   "source": [
    "batch_sample_games['guessed_states_batch'][0]"
   ]
  },
  {
   "cell_type": "code",
   "execution_count": null,
   "metadata": {},
   "outputs": [],
   "source": [
    "batch_sample_games['guessed_letters_batch'][0]"
   ]
  },
  {
   "cell_type": "code",
   "execution_count": null,
   "metadata": {},
   "outputs": [],
   "source": [
    "# Sample data\n",
    "sample_game = {\n",
    "    'guessed_states': ['_d__d__e__', '_d__d__e__', '_d__d__e__', '_d__d_me__', \\\n",
    "        '_d__d_me__', '_d__d_me__', '_d__d_men_', '_d__d_men_'],\n",
    "    'guessed_letters': ['c', 'r', 'm', 'v', 'i', 'n', 'w', 'o']\n",
    "}"
   ]
  },
  {
   "cell_type": "code",
   "execution_count": null,
   "metadata": {},
   "outputs": [],
   "source": [
    "overall_sucess_rate, guess_outcome = analyze_guess_outcomes(sample_game['guessed_states'], \\\n",
    "    sample_game['guessed_letters'], maximum_word_length=29)"
   ]
  },
  {
   "cell_type": "code",
   "execution_count": null,
   "metadata": {},
   "outputs": [],
   "source": [
    "overall_sucess_rate"
   ]
  },
  {
   "cell_type": "code",
   "execution_count": null,
   "metadata": {},
   "outputs": [],
   "source": [
    "guess_outcome"
   ]
  },
  {
   "cell_type": "code",
   "execution_count": null,
   "metadata": {},
   "outputs": [],
   "source": [
    "game_states = ['allMasked', 'early', 'quarterRevealed', 'midRevealed', \n",
    "               'midLateRevealed', 'lateRevealed', 'nearEnd']\n",
    "game_state_to_idx = {state: idx for idx, state in enumerate(game_states)}\n",
    "\n",
    "def encode_game_state(game_state):\n",
    "    state_vector = [0] * len(game_states)\n",
    "    state_index = game_state_to_idx.get(game_state, -1)\n",
    "    if state_index >= 0:\n",
    "        state_vector[state_index] = 1\n",
    "    return state_vector"
   ]
  },
  {
   "cell_type": "code",
   "execution_count": null,
   "metadata": {},
   "outputs": [],
   "source": [
    "from scr.data_module import *\n",
    "\n",
    "# Initialize Data Module\n",
    "initial_batch_size = 1  # Set your initial batch size\n",
    "\n",
    "# Initialize Data Module with the required arguments\n",
    "data_module = HangmanDataModule(train_dataset, valid_dataset, \n",
    "                                initial_batch_size, \n",
    "                                custom_collate_fn)\n",
    "                                # performance_metrics=None)\n",
    "\n",
    "# for batch in data_module.train_dataloader():\n",
    "#     # print(batch)\n",
    "\n",
    "# batch_features, batch_missed_chars = process_batch(next(iter(data_module.train_dataloader())), \\\n",
    "#     char_frequency, max_word_length)\n",
    "\n",
    "# print(batch_features.shape)\n",
    "# print(batch_missed_chars.shape)\n",
    "\n",
    "# # break\n",
    "\n",
    "for batch in data_module.train_dataloader():\n",
    "    states = batch['guessed_states']\n",
    "    # print(states.shape)\n",
    "    guesses = batch['guessed_letters']\n",
    "    max_seq_length = batch['max_seq_len']\n",
    "    original_seq_lengths = batch['original_seq_lengths']\n",
    "\n",
    "    # Print debug information\n",
    "    print(\"DEBUG INFO:\")\n",
    "    # Uncomment these if needed\n",
    "    # print(f\"Miss Penalty: {miss_penalty}\")\n",
    "    # print(f\"Type of Miss Penalty: {type(miss_penalty)}\")\n",
    "    print(f\"Batch Word Lengths: {batch['word_length']}\")\n",
    "    print(f\"Batch Difficulties: {batch['difficulty']}\")\n",
    "    print(f\"Batch Outcomes: {batch['outcome']}\")\n",
    "    print(f\"Batch Won Flags: {batch['won']}\")\n",
    "\n",
    "    # Print the entire batch\n",
    "    print(\"Batch Contents:\")\n",
    "    for key, value in batch.items():\n",
    "        print(f\"{key}: {value}\")\n",
    "\n",
    "    batch_features, batch_missed_chars = process_batch_of_games(\n",
    "        states, char_frequency,\n",
    "        max_word_length,\n",
    "        max_seq_length)\n",
    "\n",
    "    print()\n",
    "    print(f\"{batch_features.shape}\")\n",
    "    print(f\"{batch_missed_chars.shape}\")\n",
    "    break"
   ]
  },
  {
   "cell_type": "code",
   "execution_count": null,
   "metadata": {},
   "outputs": [],
   "source": [
    "miss_char.shape"
   ]
  },
  {
   "cell_type": "code",
   "execution_count": null,
   "metadata": {},
   "outputs": [],
   "source": [
    "# # # # Validate the model (if needed)\n",
    "# trainer.validate(model=lightning_model, datamodule=data_module)\n",
    "print(f\"Training Begin for {NUM_STRATIFIED_SAMPLES} words: {len(train_dataset)} Games\")\n",
    "# # # # # # Fit the model\n",
    "trainer.fit(lightning_model, data_module)\n",
    "\n",
    "# # Optionally print the profiler summary\n",
    "# print(profiler.summary())\n",
    "\n",
    "# Save the entire modell\n",
    "trained_model_file = models_dir / f\"{NUM_STRATIFIED_SAMPLES}_trained_model.pth\"\n",
    "torch.save(lightning_model, trained_model_file)\n",
    "print(f\"Model saved at {trained_model_file}\")"
   ]
  },
  {
   "cell_type": "code",
   "execution_count": null,
   "metadata": {},
   "outputs": [],
   "source": [
    "batch_features.shape"
   ]
  },
  {
   "cell_type": "code",
   "execution_count": null,
   "metadata": {},
   "outputs": [],
   "source": [
    "batch_missed_chars.shape"
   ]
  },
  {
   "cell_type": "code",
   "execution_count": null,
   "metadata": {},
   "outputs": [],
   "source": [
    "features, missed_chars = build_enhanced_feature_set(sample, \\\n",
    "    char_frequency, max_word_length)"
   ]
  },
  {
   "cell_type": "code",
   "execution_count": null,
   "metadata": {},
   "outputs": [],
   "source": [
    "features.shape"
   ]
  },
  {
   "cell_type": "code",
   "execution_count": null,
   "metadata": {},
   "outputs": [],
   "source": [
    "STOP"
   ]
  },
  {
   "cell_type": "code",
   "execution_count": null,
   "metadata": {},
   "outputs": [],
   "source": []
  },
  {
   "cell_type": "code",
   "execution_count": null,
   "metadata": {},
   "outputs": [],
   "source": []
  },
  {
   "cell_type": "code",
   "execution_count": null,
   "metadata": {},
   "outputs": [],
   "source": []
  },
  {
   "cell_type": "code",
   "execution_count": null,
   "metadata": {},
   "outputs": [],
   "source": [
    "import torch\n",
    "import torch.nn as nn\n",
    "\n",
    "# Sample dimensions\n",
    "missed_char_dim = 28  # Dimension of missed character vector\n",
    "hidden_dim = 10       # Arbitrary hidden dimension for output\n",
    "\n",
    "class TestModel(nn.Module):\n",
    "    def __init__(self):\n",
    "        super(TestModel, self).__init__()\n",
    "        self.miss_linear = nn.Linear(missed_char_dim, hidden_dim)\n",
    "\n",
    "    def forward(self, missed_chars):\n",
    "        missed_chars_processed = self.miss_linear(missed_chars)\n",
    "        return missed_chars_processed\n",
    "\n",
    "# Create model\n",
    "model = TestModel()\n",
    "\n",
    "# Sample data: a batch of size 1 with 28 missed character indicators\n",
    "# Creating a sample input with 28 values, each being 0 or 1\n",
    "missed_chars = torch.tensor([0, 1, 1, 0, 1, 0, 1, 0, 1, 0, 1, 1, 0, 1, 0, \\\n",
    "    1, 0, 1, 1, 0, 1, 0, 1, 1, 0, 1, 0, 1], dtype=torch.float)\n",
    "\n",
    "# Forward pass\n",
    "output = model(missed_chars)\n",
    "output.shape"
   ]
  },
  {
   "cell_type": "code",
   "execution_count": null,
   "metadata": {},
   "outputs": [],
   "source": [
    "def calculate_difficulty_score(metrics):\n",
    "    # Extracting the metrics\n",
    "    win_rate = metrics.get('performance_wins', 0)\n",
    "    avg_attempts = metrics.get('performance_total_attempts_used', 0)\n",
    "    miss_penalty = metrics.get('miss_penalty_avg', 0)\n",
    "\n",
    "    # Weights for each metric (these can be adjusted)\n",
    "    weight_win_rate = 1.0   # Higher weight as win rate is a strong indicator of difficulty\n",
    "    weight_avg_attempts = 0.5  # Moderate weight\n",
    "    weight_miss_penalty = 0.5  # Moderate weight\n",
    "\n",
    "    # Normalize the metrics (invert win rate as lower win rate indicates higher difficulty)\n",
    "    normalized_win_rate = (100 - win_rate) / 100\n",
    "    # normalized_avg_attempts = avg_attempts / 6  # Assuming max avg_attempts is 6\n",
    "    normalized_miss_penalty = miss_penalty  # Already in range 0 to 1\n",
    "\n",
    "    # Calculate the composite score\n",
    "    composite_score = (\n",
    "        weight_win_rate * normalized_win_rate +\n",
    "        weight_miss_penalty * normalized_miss_penalty\n",
    "    )\n",
    "\n",
    "    return composite_score\n",
    "\n",
    "# Example usage\n",
    "metrics = {\n",
    "    'performance_wins': 0,  # Example values\n",
    "    # 'performance_total_attempts_used': 6,\n",
    "    'miss_penalty_avg': 1\n",
    "}\n",
    "\n",
    "score = calculate_difficulty_score(metrics)\n",
    "print(\"Difficulty Score:\", score)\n",
    "\n",
    "# # Use the score to determine if the word length should be added to target pairs\n",
    "# if score >= 0.001:  # Define this threshold based on your game's difficulty scale\n",
    "#     target_pairs.append((int(word_length),))\n"
   ]
  },
  {
   "cell_type": "code",
   "execution_count": null,
   "metadata": {},
   "outputs": [],
   "source": [
    "def calculate_difficulty_score(metrics):\n",
    "    # Extracting the metrics\n",
    "    win_rate = metrics.get('performance_wins', 0)\n",
    "    miss_penalty = metrics.get('miss_penalty_avg', 0)\n",
    "\n",
    "    # Weights for each metric\n",
    "    weight_win_rate = 1.0   # Higher weight for win rate\n",
    "    weight_miss_penalty = 0.5  # Weight for miss penalty\n",
    "\n",
    "    # Normalize the metrics (invert win rate as lower win rate indicates higher difficulty)\n",
    "    normalized_win_rate = (100 - win_rate) / 100\n",
    "    normalized_miss_penalty = miss_penalty  # Already in range 0 to 1\n",
    "\n",
    "    # Calculate the composite score\n",
    "    composite_score = (\n",
    "        weight_win_rate * normalized_win_rate +\n",
    "        weight_miss_penalty * normalized_miss_penalty\n",
    "    )\n",
    "\n",
    "    return composite_score\n",
    "\n",
    "\n",
    "# Best-case scenario metrics\n",
    "best_case_metrics = {\n",
    "    'performance_wins': 100,  # Maximum win rate\n",
    "    'miss_penalty_avg': 0     # Minimum miss penalty\n",
    "}\n",
    "\n",
    "best_case_score = calculate_difficulty_score(best_case_metrics)\n",
    "print(\"Best-Case Difficulty Score:\", best_case_score)"
   ]
  },
  {
   "cell_type": "code",
   "execution_count": null,
   "metadata": {},
   "outputs": [],
   "source": [
    "# Worst-case scenario metrics\n",
    "worst_case_metrics = {\n",
    "    'performance_wins': 0,  # Minimum win rate\n",
    "    'miss_penalty_avg': 1   # Maximum miss penalty\n",
    "}\n",
    "\n",
    "worst_case_score = calculate_difficulty_score(worst_case_metrics)\n",
    "print(\"Worst-Case Difficulty Score:\", worst_case_score)"
   ]
  },
  {
   "cell_type": "code",
   "execution_count": null,
   "metadata": {},
   "outputs": [],
   "source": [
    "def calculate_difficulty_score(metrics, weight_win_rate=1.0, weight_miss_penalty=0.5):\n",
    "    \"\"\"\n",
    "    Calculates the difficulty score based on win rate and miss penalty.\n",
    "    \n",
    "    :param metrics: Dictionary containing 'performance_wins' and 'miss_penalty_avg'.\n",
    "    :param weight_win_rate: Weight for the win rate metric.\n",
    "    :param weight_miss_penalty: Weight for the miss penalty metric.\n",
    "    :return: Calculated difficulty score.\n",
    "    \"\"\"\n",
    "    # Extracting the metrics\n",
    "    win_rate = metrics.get('performance_wins', 0)\n",
    "    miss_penalty = metrics.get('miss_penalty_avg', 0)\n",
    "\n",
    "    # Normalize the metrics (invert win rate as lower win rate indicates higher difficulty)\n",
    "    normalized_win_rate = (100 - win_rate) / 100\n",
    "    normalized_miss_penalty = miss_penalty  # Already in range 0 to 1\n",
    "\n",
    "    # Calculate the composite score\n",
    "    composite_score = (\n",
    "        weight_win_rate * normalized_win_rate +\n",
    "        weight_miss_penalty * normalized_miss_penalty\n",
    "    )\n",
    "\n",
    "    return composite_score\n",
    "\n",
    "# Example usage with custom weights\n",
    "metrics = {\n",
    "    'performance_wins': 0,  # Example values\n",
    "    'miss_penalty_avg': 1\n",
    "}\n",
    "\n",
    "# Custom weights\n",
    "custom_weight_win_rate = 1.0\n",
    "custom_weight_miss_penalty = 0.5\n",
    "\n",
    "score = calculate_difficulty_score(metrics, custom_weight_win_rate, custom_weight_miss_penalty)\n",
    "print(\"Difficulty Score with Custom Weights:\", score)"
   ]
  },
  {
   "cell_type": "code",
   "execution_count": null,
   "metadata": {},
   "outputs": [],
   "source": [
    "aggregated_metrics = {\n",
    "    5: {'total_games': 100, 'wins': 60, 'total_attempts_used': 300, 'win_rate': 0.6, \\\n",
    "        'average_attempts_used': 3.0, 'miss_penalty': 0.02},\n",
    "    6: {'total_games': 150, 'wins': 90, 'total_attempts_used': 450, 'win_rate': 0.6, \\\n",
    "        'average_attempts_used': 3.0, 'miss_penalty': 0.03}\n",
    "}\n",
    "\n",
    "# Iterating over the dictionary\n",
    "for word_len, metrics in aggregated_metrics.items():\n",
    "    print(f\"Word Length: {word_len}\")\n",
    "    for key, value in metrics.items():\n",
    "        print(f\"  {key}: {value}\")"
   ]
  },
  {
   "cell_type": "code",
   "execution_count": null,
   "metadata": {},
   "outputs": [],
   "source": [
    "def select_target_pairs(performance_metrics, batch_size):\n",
    "    target_pairs = []\n",
    "\n",
    "    for word_length, metrics in performance_metrics.items():\n",
    "        # print(metrics)\n",
    "        win_rate = metrics.get('win_rate', 0)\n",
    "        avg_attempts = metrics.get('average_attempts_used', 0)\n",
    "\n",
    "        if win_rate <= 20 and avg_attempts >= 4:\n",
    "            target_pairs.append(word_length)\n",
    "\n",
    "    return target_pairs[:batch_size]\n",
    "\n",
    "# Test data\n",
    "performance_metrics = {\n",
    "    5: {'total_games': 100, 'wins': 60, 'total_attempts_used': 300, 'win_rate': 0.6, \n",
    "        'average_attempts_used': 4.0, 'miss_penalty': 0.02},\n",
    "    6: {'total_games': 150, 'wins': 90, 'total_attempts_used': 450, 'win_rate': 0.6, \n",
    "        'average_attempts_used': 4.0, 'miss_penalty': 0.03}\n",
    "}\n",
    "\n",
    "# Test the function\n",
    "batch_size = 10\n",
    "target_pairs = select_target_pairs(performance_metrics, batch_size)\n",
    "print(\"Target Pairs:\", target_pairs)"
   ]
  },
  {
   "cell_type": "code",
   "execution_count": null,
   "metadata": {},
   "outputs": [],
   "source": [
    "# def calculate_miss_penalty(outputs, miss_chars):\n",
    "#     if outputs.numel() == 0:\n",
    "#         print(\"Empty outputs tensor\")\n",
    "#         return torch.tensor(0.0, device=outputs.device)\n",
    "\n",
    "#     miss_penalty = torch.sum(outputs * miss_chars) / outputs.numel()\n",
    "#     return miss_penalty"
   ]
  },
  {
   "cell_type": "code",
   "execution_count": null,
   "metadata": {},
   "outputs": [],
   "source": [
    "from scr.feature_engineering import *"
   ]
  },
  {
   "cell_type": "code",
   "execution_count": null,
   "metadata": {},
   "outputs": [],
   "source": [
    "word = 'cat'\n",
    "\n",
    "encoded = encode_word(word)\n",
    "\n",
    "encoded"
   ]
  },
  {
   "cell_type": "code",
   "execution_count": null,
   "metadata": {},
   "outputs": [],
   "source": [
    "# Get missed characters tensor\n",
    "miss_chars = get_missed_characters(word)"
   ]
  },
  {
   "cell_type": "code",
   "execution_count": null,
   "metadata": {},
   "outputs": [],
   "source": [
    "miss_chars"
   ]
  },
  {
   "cell_type": "code",
   "execution_count": null,
   "metadata": {},
   "outputs": [],
   "source": [
    "# Creating a dummy output tensor for the word 'cat'\n",
    "word = 'cat'\n",
    "\n",
    "# Assumptions for the dummy output\n",
    "batch_size = 1  # Number of words in the batch\n",
    "max_seq_len = len(word)  # Maximum sequence length (length of the word)\n",
    "num_characters = 28  # Total number of characters in the vocabulary\n",
    "\n",
    "# Creating the dummy output tensor\n",
    "# For simplicity, filling it with random values between 0 and 1\n",
    "outputs = torch.rand((batch_size, max_seq_len, num_characters))\n",
    "\n",
    "outputs.shape, outputs"
   ]
  },
  {
   "cell_type": "code",
   "execution_count": null,
   "metadata": {},
   "outputs": [],
   "source": [
    "# probabilities = F.softmax(outputs, dim=-1)\n",
    "\n",
    "# probabilities"
   ]
  },
  {
   "cell_type": "code",
   "execution_count": null,
   "metadata": {},
   "outputs": [],
   "source": [
    "# Creating two dummy output tensors for the word 'cat'\n",
    "# One where all characters are accurately predicted and another where all are wrong\n",
    "\n",
    "# Accurate Predictions: Setting the confidence for the correct characters ('c', 'a', 't') to 1\n",
    "# and others to 0 for each position in the word\n",
    "correct_outputs = torch.zeros((batch_size, max_seq_len, num_characters))\n",
    "correct_outputs[0, 0, char_to_idx['c']] = 1  # High confidence for 'c' in the first position\n",
    "correct_outputs[0, 1, char_to_idx['a']] = 1  # High confidence for 'a' in the second position\n",
    "correct_outputs[0, 2, char_to_idx['t']] = 1  # High confidence for 't' in the third position\n",
    "\n",
    "# Wrong Predictions: Setting the confidence for incorrect characters to 1 and for correct ones to 0\n",
    "wrong_outputs = torch.ones((batch_size, max_seq_len, num_characters))\n",
    "wrong_outputs[0, 0, char_to_idx['c']] = 0  # Zero confidence for 'c' in the first position\n",
    "wrong_outputs[0, 1, char_to_idx['a']] = 0  # Zero confidence for 'a' in the second position\n",
    "wrong_outputs[0, 2, char_to_idx['t']] = 0  # Zero confidence for 't' in the third position\n",
    "\n",
    "correct_outputs.shape, wrong_outputs.shape"
   ]
  },
  {
   "cell_type": "code",
   "execution_count": null,
   "metadata": {},
   "outputs": [],
   "source": [
    "# Calculate miss penalty\n",
    "miss_penalty = calculate_miss_penalty(wrong_outputs, miss_chars)\n",
    "miss_penalty"
   ]
  },
  {
   "cell_type": "markdown",
   "metadata": {},
   "source": [
    "##### Data Dir"
   ]
  },
  {
   "cell_type": "code",
   "execution_count": null,
   "metadata": {},
   "outputs": [],
   "source": [
    "NUM_STRATIFIED_SAMPLES = 100 # This will be overwritten by Papermill\n",
    "\n",
    "NUM_WORD_SAMPLE = 1_000 # words for testing\n",
    "\n",
    "FAST_DEV_RUN = False\n",
    "\n",
    "MAX_EPOCH = 15"
   ]
  },
  {
   "cell_type": "code",
   "execution_count": null,
   "metadata": {},
   "outputs": [],
   "source": [
    "from pathlib import Path\n",
    "from scr.custom_sampler import *\n",
    "\n",
    "# Define the base directory and the paths for training and validation parquet files\n",
    "base_dataset_dir = Path(\"/media/sayem/510B93E12554BBD1/dataset/\")\n",
    "stratified_samples_dir = base_dataset_dir / str(NUM_STRATIFIED_SAMPLES)\n",
    "parquet_path = stratified_samples_dir / 'parquets'\n",
    "\n",
    "# Create directories for train and validation parquets if they don't exist\n",
    "parquet_path.mkdir(parents=True, exist_ok=True)\n",
    "# parquet_valid_path.mkdir(parents=True, exist_ok=True)\n",
    "\n",
    "# Define and create the directory for models\n",
    "models_dir = Path(\"/home/sayem/Desktop/Hangman/models\")\n",
    "models_dir.mkdir(parents=True, exist_ok=True)\n",
    "\n",
    "# Define your output directory\n",
    "# Define your output directory and logger directory\n",
    "output_dir = Path(\"/home/sayem/Desktop/Hangman/training_outputs\")\n",
    "logger_dir = output_dir / \"lightning_logs\"\n",
    "\n",
    "# Create the output and logger directories if they don't exist\n",
    "output_dir.mkdir(parents=True, exist_ok=True)\n",
    "logger_dir.mkdir(parents=True, exist_ok=True)\n",
    "\n",
    "# Define the file path for saving the testing words\n",
    "testing_words_file_path = stratified_samples_dir / \"testing_words.txt\"\n",
    "\n",
    "try:\n",
    "    testing_word_list = read_words(testing_words_file_path)\n",
    "    print(f\"Length of the testing word list: {len(testing_word_list)}\")\n",
    "    sampled_test_words = stratified_sample_by_length_and_uniqueness(testing_word_list, \\\n",
    "        NUM_WORD_SAMPLE)\n",
    "    print(f\"Sampled {len(sampled_test_words)} unique words for testing.\")\n",
    "except FileNotFoundError:\n",
    "    print(f\"File not found: {testing_words_file_path}\")\n",
    "\n",
    "print(len(sampled_test_words))"
   ]
  },
  {
   "cell_type": "markdown",
   "metadata": {},
   "source": [
    "##### Dataset Loading"
   ]
  },
  {
   "cell_type": "code",
   "execution_count": null,
   "metadata": {},
   "outputs": [],
   "source": [
    "# Create datasets directly from the saved parquet files\n",
    "hangman_dataset = HangmanDataset(parquet_path)\n",
    "# valid_dataset = HangmanDataset(parquet_valid_path)\n",
    "\n",
    "from scr.utils import *\n",
    "\n",
    "# Assuming `hangman_dataset` is an instance of HangmanDataset\n",
    "# Usage\n",
    "train_dataset, valid_dataset \\\n",
    "    = split_hangman_dataset(hangman_dataset, 0.8)\n",
    "\n",
    "print(len(train_dataset))\n",
    "print(len(valid_dataset))\n",
    "\n",
    "assert len(train_dataset) > len(valid_dataset)"
   ]
  },
  {
   "cell_type": "code",
   "execution_count": null,
   "metadata": {},
   "outputs": [],
   "source": [
    "hangman_dataset[(29,)]"
   ]
  },
  {
   "cell_type": "code",
   "execution_count": null,
   "metadata": {},
   "outputs": [],
   "source": [
    "train_dataset[(29,)]"
   ]
  },
  {
   "cell_type": "code",
   "execution_count": null,
   "metadata": {},
   "outputs": [],
   "source": [
    "train_dataset.get_all_group_labels()"
   ]
  },
  {
   "cell_type": "code",
   "execution_count": null,
   "metadata": {},
   "outputs": [],
   "source": [
    "len(train_dataset)"
   ]
  },
  {
   "cell_type": "code",
   "execution_count": null,
   "metadata": {},
   "outputs": [],
   "source": [
    "# Request a sample with word length 29\n",
    "word_length = 5\n",
    "sample = hangman_dataset[(word_length,)]\n",
    "sample"
   ]
  },
  {
   "cell_type": "code",
   "execution_count": null,
   "metadata": {},
   "outputs": [],
   "source": [
    "sample"
   ]
  },
  {
   "cell_type": "code",
   "execution_count": null,
   "metadata": {},
   "outputs": [],
   "source": [
    "from scr.data_module import *\n",
    "from scr.dataset import *\n",
    "\n",
    "# Initialize Data Module\n",
    "initial_batch_size = 128  # Set your initial batch size\n",
    "\n",
    "# Initialize Data Module with the required arguments\n",
    "data_module = HangmanDataModule(train_dataset, valid_dataset, \n",
    "                                initial_batch_size, \n",
    "                                custom_collate_fn)"
   ]
  },
  {
   "cell_type": "code",
   "execution_count": null,
   "metadata": {},
   "outputs": [],
   "source": [
    "train_loader = data_module.train_dataloader()"
   ]
  },
  {
   "cell_type": "code",
   "execution_count": null,
   "metadata": {},
   "outputs": [],
   "source": [
    "dummy_performance_metrics = {\n",
    "    \n",
    "    3: {'win_rate': 45, 'average_attempts_used': 5},\n",
    "    4: {'win_rate': 60, 'average_attempts_used': 3},  # This won't be selected due to high win rate\n",
    "    5: {'win_rate': 30, 'average_attempts_used': 6},\n",
    "    6: {'win_rate': 48, 'average_attempts_used': 4},\n",
    "    # ... add more dummy metrics as needed ...\n",
    "}"
   ]
  },
  {
   "cell_type": "code",
   "execution_count": null,
   "metadata": {},
   "outputs": [],
   "source": [
    "# Initialize PerformanceBasedSampler\n",
    "sampler = PerformanceBasedSampler(dataset=hangman_dataset, \n",
    "                                  performance_metrics=dummy_performance_metrics, \n",
    "                                  batch_size=10)\n",
    "\n",
    "# Verify target pairs\n",
    "print(\"Target pairs:\", sampler.target_pairs)"
   ]
  },
  {
   "cell_type": "code",
   "execution_count": null,
   "metadata": {},
   "outputs": [],
   "source": [
    "next(iter(sampler))"
   ]
  },
  {
   "cell_type": "code",
   "execution_count": null,
   "metadata": {},
   "outputs": [],
   "source": [
    "train_dataset[(1,)]"
   ]
  },
  {
   "cell_type": "code",
   "execution_count": null,
   "metadata": {},
   "outputs": [],
   "source": []
  }
 ],
 "metadata": {
  "kernelspec": {
   "display_name": "optiver",
   "language": "python",
   "name": "python3"
  },
  "language_info": {
   "codemirror_mode": {
    "name": "ipython",
    "version": 3
   },
   "file_extension": ".py",
   "mimetype": "text/x-python",
   "name": "python",
   "nbconvert_exporter": "python",
   "pygments_lexer": "ipython3",
   "version": "3.10.13"
  }
 },
 "nbformat": 4,
 "nbformat_minor": 2
}
