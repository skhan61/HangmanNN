{
 "cells": [
  {
   "cell_type": "markdown",
   "metadata": {},
   "source": [
    "##### Imports"
   ]
  },
  {
   "cell_type": "code",
   "execution_count": 1,
   "metadata": {},
   "outputs": [],
   "source": [
    "import sys\n",
    "from pathlib import Path\n",
    "import warnings\n",
    "\n",
    "import warnings\n",
    "import pandas as pd\n",
    "warnings.filterwarnings('ignore')\n",
    "\n",
    "pd.set_option('display.max_columns', 1000)\n",
    "pd.set_option('display.max_rows', 1000)\n",
    "\n",
    "import sys\n",
    "# Custom library paths\n",
    "sys.path.extend(['../', './scr'])\n",
    "\n",
    "from scr.utils import set_seed\n",
    "from scr.utils import read_words\n",
    "from pathlib import Path\n",
    "import random\n",
    "from collections import Counter, defaultdict\n",
    "import pickle\n",
    "from tqdm import tqdm\n",
    "from torch.utils.data import Dataset\n",
    "\n",
    "from scr.utils import read_words, save_words_to_file\n",
    "\n",
    "import pickle\n",
    "from pathlib import Path\n",
    "from scr.dataset import *\n",
    "from scr.utils import *\n",
    "# # For inference\n",
    "from scr.feature_engineering import *\n",
    "\n",
    "import gc\n",
    "\n",
    "set_seed(42)\n",
    "\n",
    "import torch\n",
    "import torch.nn as nn\n",
    "from pathlib import Path\n",
    "import random\n",
    "\n",
    "from scr.utils import print_scenarios\n",
    "torch.set_float32_matmul_precision('medium')\n",
    "from pathlib import Path\n",
    "\n",
    "# Device configuration\n",
    "device = torch.device(\"cuda\" if torch.cuda.is_available() else \"cpu\")\n",
    "\n",
    "# # Read and Shuffle Word List\n",
    "word_list = read_words('data/words_250000_train.txt') # , limit=10000)\n",
    "# word_list = read_words('data/250k.txt', limit=10000)\n",
    "\n",
    "random.shuffle(word_list)\n",
    "\n",
    "# Calculate Frequencies and Max Word Length\n",
    "word_frequencies = calculate_word_frequencies(word_list)\n",
    "char_frequency = calculate_char_frequencies(word_list)\n",
    "max_word_length = max(len(word) for word in word_list)"
   ]
  },
  {
   "cell_type": "markdown",
   "metadata": {},
   "source": [
    "##### Data Dir"
   ]
  },
  {
   "cell_type": "code",
   "execution_count": 2,
   "metadata": {},
   "outputs": [],
   "source": [
    "NUM_STRATIFIED_SAMPLES = 2_00 # This will be overwritten by Papermill\n",
    "\n",
    "NUM_WORD_SAMPLE = 1_000 # words for testing\n",
    "\n",
    "FAST_DEV_RUN = False\n",
    "\n",
    "MAX_EPOCH = 250"
   ]
  },
  {
   "cell_type": "code",
   "execution_count": 3,
   "metadata": {},
   "outputs": [
    {
     "name": "stdout",
     "output_type": "stream",
     "text": [
      "Length of the testing word list: 10048\n",
      "Sampled 1085 unique words for testing.\n",
      "1085\n"
     ]
    }
   ],
   "source": [
    "from pathlib import Path\n",
    "from scr.custom_sampler import *\n",
    "\n",
    "# Define the base directory and the paths for training and validation parquet files\n",
    "base_dataset_dir = Path(\"/media/sayem/510B93E12554BBD1/dataset/\")\n",
    "stratified_samples_dir = base_dataset_dir / str(NUM_STRATIFIED_SAMPLES)\n",
    "parquet_path = stratified_samples_dir / 'parquets'\n",
    "\n",
    "# Create directories for train and validation parquets if they don't exist\n",
    "parquet_path.mkdir(parents=True, exist_ok=True)\n",
    "# parquet_valid_path.mkdir(parents=True, exist_ok=True)\n",
    "\n",
    "# Define and create the directory for models\n",
    "models_dir = Path(\"/home/sayem/Desktop/Hangman/models\")\n",
    "models_dir.mkdir(parents=True, exist_ok=True)\n",
    "\n",
    "# Define your output directory\n",
    "# Define your output directory and logger directory\n",
    "output_dir = Path(\"/home/sayem/Desktop/Hangman/training_outputs\")\n",
    "logger_dir = output_dir / \"lightning_logs\"\n",
    "\n",
    "# Create the output and logger directories if they don't exist\n",
    "output_dir.mkdir(parents=True, exist_ok=True)\n",
    "logger_dir.mkdir(parents=True, exist_ok=True)\n",
    "\n",
    "# Define the file path for saving the testing words\n",
    "testing_words_file_path = stratified_samples_dir / \"testing_words.txt\"\n",
    "\n",
    "try:\n",
    "    testing_word_list = read_words(testing_words_file_path)\n",
    "    print(f\"Length of the testing word list: {len(testing_word_list)}\")\n",
    "    sampled_test_words = stratified_sample_by_length_and_uniqueness(testing_word_list, NUM_WORD_SAMPLE)\n",
    "    print(f\"Sampled {len(sampled_test_words)} unique words for testing.\")\n",
    "except FileNotFoundError:\n",
    "    print(f\"File not found: {testing_words_file_path}\")\n",
    "\n",
    "print(len(sampled_test_words))"
   ]
  },
  {
   "cell_type": "markdown",
   "metadata": {},
   "source": [
    "##### Dataset Loading and train test split"
   ]
  },
  {
   "cell_type": "code",
   "execution_count": 4,
   "metadata": {},
   "outputs": [],
   "source": [
    "# Create datasets directly from the saved parquet files\n",
    "hangman_dataset = HangmanDataset(parquet_path)\n",
    "# valid_dataset = HangmanDataset(parquet_valid_path)\n",
    "\n",
    "from scr.utils import *\n",
    "\n",
    "# print(len(train_dataset))\n",
    "# print(len(valid_dataset))\n",
    "\n",
    "# assert len(train_dataset) > len(valid_dataset)\n",
    "\n",
    "# Assuming `hangman_dataset` is an instance of HangmanDataset\n",
    "train_dataset, valid_dataset = split_hangman_dataset(hangman_dataset)"
   ]
  },
  {
   "cell_type": "code",
   "execution_count": 5,
   "metadata": {},
   "outputs": [
    {
     "data": {
      "text/plain": [
       "9816"
      ]
     },
     "execution_count": 5,
     "metadata": {},
     "output_type": "execute_result"
    }
   ],
   "source": [
    "len(train_dataset)"
   ]
  },
  {
   "cell_type": "code",
   "execution_count": 6,
   "metadata": {},
   "outputs": [
    {
     "data": {
      "text/plain": [
       "2454"
      ]
     },
     "execution_count": 6,
     "metadata": {},
     "output_type": "execute_result"
    }
   ],
   "source": [
    "len(valid_dataset)"
   ]
  },
  {
   "cell_type": "code",
   "execution_count": 7,
   "metadata": {},
   "outputs": [],
   "source": [
    "train_group_info = train_dataset.get_group_info()\n",
    "# len(train_group_info)  # This will show each group and the number of games in it\n",
    "\n",
    "valid_group_info = valid_dataset.get_group_info()\n",
    "# len(valid_group_info)  # This will show each group and the number of games in it\n",
    "\n",
    "assert len(train_group_info) == len(valid_group_info)"
   ]
  },
  {
   "cell_type": "markdown",
   "metadata": {},
   "source": [
    "##### Model Initialization"
   ]
  },
  {
   "cell_type": "code",
   "execution_count": 8,
   "metadata": {},
   "outputs": [],
   "source": [
    "from scr.encoder import *\n",
    "from scr.trainer_ import *\n",
    "from scr.decoder import SimpleLSTM\n",
    "\n",
    "# Fixed parameters\n",
    "max_word_length = 29  # Maximum word length\n",
    "num_embeddings = 28   # Vocabulary size (fixed, based on unique characters in the game)\n",
    "num_features = 5      # Number of features per character\n",
    "missed_char_dim = 28  # Additional dimension for missed characters\n",
    "output_dim = 28       # Output dimension for the model\n",
    "\n",
    "# Tunable hyperparameters\n",
    "LEARNING_RATE = 0.57\n",
    "HIDDEN_DIM = 32\n",
    "NUM_LAYERS = 3\n",
    "EMBEDDING_DIM = 15\n",
    "\n",
    "# Initialize the Encoder\n",
    "encoder = Encoder(num_embeddings, EMBEDDING_DIM, max_word_length, missed_char_dim)\n",
    "\n",
    "# Calculate the input dimension for the LSTM (SimpleLSTM decoder)\n",
    "# The input dimension should match the flattened output dimension of the Encoder\n",
    "embedded_char_features = max_word_length * EMBEDDING_DIM\n",
    "additional_features_per_char = (num_features - 1)  # Excluding the embedded character\n",
    "additional_char_features = additional_features_per_char * max_word_length\n",
    "combined_feature_size = embedded_char_features + additional_char_features + missed_char_dim\n",
    "input_dim = combined_feature_size\n",
    "\n",
    "# Initialize the SimpleLSTM decoder\n",
    "decoder = SimpleLSTM(input_dim=input_dim, \n",
    "                     hidden_dim=HIDDEN_DIM, \n",
    "                     output_dim=output_dim, \n",
    "                     num_layers=NUM_LAYERS,\n",
    "                     missed_char_dim=missed_char_dim)\n",
    "\n",
    "# Other parts of the code flow..."
   ]
  },
  {
   "cell_type": "code",
   "execution_count": 9,
   "metadata": {},
   "outputs": [
    {
     "name": "stdout",
     "output_type": "stream",
     "text": [
      "Model saved at /home/sayem/Desktop/Hangman/models/200_untrained_model.pth\n"
     ]
    }
   ],
   "source": [
    "# Initialize the HangmanModel\n",
    "lightning_model = HangmanModel(encoder, decoder, \n",
    "                    LEARNING_RATE, char_frequency, \n",
    "                    max_word_length, test_words=sampled_test_words)\n",
    "\n",
    "# Save the model's state dictionary\n",
    "untrained_model_file = models_dir / f\"{NUM_STRATIFIED_SAMPLES}_untrained_model.pth\"\n",
    "torch.save(lightning_model, untrained_model_file)\n",
    "print(f\"Model saved at {untrained_model_file}\")"
   ]
  },
  {
   "cell_type": "markdown",
   "metadata": {},
   "source": [
    "##### Data Module"
   ]
  },
  {
   "cell_type": "code",
   "execution_count": 10,
   "metadata": {},
   "outputs": [],
   "source": [
    "from scr.data_module import *\n",
    "\n",
    "# Initialize Data Module\n",
    "initial_batch_size = 128  # Set your initial batch size\n",
    "\n",
    "# Initialize Data Module with the required arguments\n",
    "data_module = HangmanDataModule(train_dataset, valid_dataset, \n",
    "                                initial_batch_size, \n",
    "                                custom_collate_fn)\n",
    "                                # performance_metrics=None)"
   ]
  },
  {
   "cell_type": "markdown",
   "metadata": {},
   "source": [
    "##### Testing on Untrained Model"
   ]
  },
  {
   "cell_type": "code",
   "execution_count": 11,
   "metadata": {},
   "outputs": [],
   "source": [
    "## callbacks\n",
    "from pytorch_lightning.callbacks import Callback, EarlyStopping\n",
    "from scr.custom_callbacks import *\n",
    "\n",
    "# Setup EarlyStopping to monitor the test_win_rate\n",
    "early_stop_callback = EarlyStopping(\n",
    "    monitor='win_rate',\n",
    "    min_delta=0.00,\n",
    "    patience=200,\n",
    "    verbose=True,\n",
    "    mode='max'  # Maximize the win rate\n",
    ")\n",
    "\n",
    "step_level_early_stopping = StepLevelEarlyStopping(\n",
    "    monitor='val_miss_penalty',  # Metric to monitor\n",
    "    min_delta=0.0,              # Minimum change to qualify as an improvement\n",
    "    patience=5                  # Number of steps with no improvement after which training will be stopped\n",
    ")"
   ]
  },
  {
   "cell_type": "code",
   "execution_count": 12,
   "metadata": {},
   "outputs": [
    {
     "name": "stderr",
     "output_type": "stream",
     "text": [
      "GPU available: True (cuda), used: True\n",
      "TPU available: False, using: 0 TPU cores\n",
      "IPU available: False, using: 0 IPUs\n",
      "HPU available: False, using: 0 HPUs\n"
     ]
    }
   ],
   "source": [
    "from pytorch_lightning.profilers import SimpleProfiler\n",
    "import pytorch_lightning as pl\n",
    "from scr.custom_callbacks import *\n",
    "from scr.dataset import *\n",
    "from scr.data_module import *\n",
    "from scr.trainer_ import *\n",
    "\n",
    "torch.cuda.empty_cache()\n",
    "\n",
    "# # Create Callbacks\n",
    "# loss_logging_callback = LossLoggingCallback()\n",
    "\n",
    "callbacks = [early_stop_callback, step_level_early_stopping] # , SchedulerSetupCallback()] # , loss_logging_callback]\n",
    "\n",
    "FAST_DEV_RUN = False\n",
    "# # Calculate the minimum percentage of validation batches\n",
    "# min_val_batches = 1 / len(data_module.val_dataloader())\n",
    "\n",
    "# # Create Trainer with Callbacks\n",
    "trainer = pl.Trainer(\n",
    "    default_root_dir=output_dir,\n",
    "    fast_dev_run=FAST_DEV_RUN, \n",
    "    max_epochs=MAX_EPOCH, \n",
    "    callbacks=callbacks,\n",
    "    num_sanity_val_steps=0,\n",
    "    reload_dataloaders_every_n_epochs=1,\n",
    "    enable_progress_bar=True \n",
    "    # val_check_interval=0.5\n",
    "    # limit_train_batches=2,  # Limit the number of training batches to 2\n",
    "    # limit_val_batches=2     # Limit the number of validation batches to 2\n",
    ")\n",
    "\n",
    "# # # # # print(f\"Running for {NUM_STRATIFIED_SAMPLES} samples...\")\n",
    "# # # print()\n",
    "# # # # # # # Assuming combined_eval_metrics is a list of dictionaries\n",
    "# combined_eval_metrics = trainer.validate(model=lightning_model, datamodule=data_module)\n",
    "# # performance_metrics_dict = {k: v for d in combined_eval_metrics for k, v in d.items()}\n",
    "\n",
    "# # # # # # print(\"Converted Performance Metrics Dictb ionary:\", performance_metrics_dict)\n",
    "\n",
    "# # trainer.datamodule.update_performance_metrics(combined_eval_metrics)\n",
    "\n",
    "# data_module.update_performance_metrics(performance_metrics_dict)"
   ]
  },
  {
   "cell_type": "code",
   "execution_count": 13,
   "metadata": {},
   "outputs": [],
   "source": [
    "# # # # # Validate the model (if needed)\n",
    "# # trainer.validate(model=lightning_model, datamodule=data_module)\n",
    "# print(f\"Training Begin for {NUM_STRATIFIED_SAMPLES} words: {len(train_dataset)} Games\")\n",
    "# # # # # # # Fit the model\n",
    "# trainer.fit(lightning_model, data_module)\n",
    "\n",
    "# # # Optionally print the profiler summary\n",
    "# # print(profiler.summary())\n",
    "\n",
    "# # Save the entire modell\n",
    "# trained_model_file = models_dir / f\"{NUM_STRATIFIED_SAMPLES}_trained_model.pth\"\n",
    "# torch.save(lightning_model, trained_model_file)\n",
    "# print(f\"Model saved at {trained_model_file}\")"
   ]
  },
  {
   "cell_type": "code",
   "execution_count": 14,
   "metadata": {},
   "outputs": [],
   "source": [
    "# STOP"
   ]
  },
  {
   "cell_type": "code",
   "execution_count": 15,
   "metadata": {},
   "outputs": [],
   "source": [
    "# # Initialize PerformanceBasedSampler\n",
    "# sampler = PerformanceBasedSampler(dataset=hangman_dataset, \n",
    "#                                   performance_metrics=performance_metrics_dict, \n",
    "#                                   batch_size=10)\n",
    "\n",
    "# # Verify target pairs\n",
    "# print(\"Target pairs:\", sampler.target_pairs)"
   ]
  },
  {
   "cell_type": "code",
   "execution_count": 16,
   "metadata": {},
   "outputs": [],
   "source": [
    "# print(f\"Training Begin for {NUM_STRATIFIED_SAMPLES} words: {len(train_dataset)} Games\")\n",
    "# # # # # # # Fit the model\n",
    "# trainer.fit(lightning_model, data_module)"
   ]
  },
  {
   "cell_type": "markdown",
   "metadata": {},
   "source": [
    "##### Tuning: lr"
   ]
  },
  {
   "cell_type": "code",
   "execution_count": 17,
   "metadata": {},
   "outputs": [],
   "source": [
    "# from pytorch_lightning.tuner.tuning import Tuner\n",
    "\n",
    "# # Assuming lightning_model, train_loader, and val_loader are already defined\n",
    "# # Initialize the tuner with your trainer\n",
    "# tuner = Tuner(trainer)\n",
    "\n",
    "# # Run the learning rate finder using the data module\n",
    "# lr_finder = tuner.lr_find(model=lightning_model, \n",
    "#                         datamodule=data_module)\n",
    "\n",
    "# # Plot the learning rate finder results\n",
    "# fig = lr_finder.plot(suggest=True)\n",
    "# fig.show()\n",
    "\n",
    "# # Get the suggested learning rate\n",
    "# new_lr = lr_finder.suggestion()\n",
    "# print(f\"Suggested Learning Rate: {new_lr}\")\n",
    "\n",
    "# # Update model's learning rate\n",
    "# lightning_model.learning_rate = new_lr\n",
    "\n",
    "# # Optionally, you can view the results of the LR finder\n",
    "# print(lr_finder.results)"
   ]
  },
  {
   "cell_type": "markdown",
   "metadata": {},
   "source": [
    "##### Tuning: Batch"
   ]
  },
  {
   "cell_type": "code",
   "execution_count": 18,
   "metadata": {},
   "outputs": [],
   "source": [
    "# # Assuming lightning_model is already defined\n",
    "# new_batch_size = tuner.scale_batch_size(\n",
    "#     model=lightning_model,\n",
    "#     datamodule=data_module,\n",
    "#     mode='power',  # or 'binsearch'\n",
    "#     steps_per_trial=10,\n",
    "#     init_val=64,\n",
    "#     max_trials=4\n",
    "# )\n",
    "\n",
    "# # Update the batch size in the data module\n",
    "# data_module.batch_size = new_batch_size\n",
    "\n",
    "# # print(f\"Tune Batch size: \", new_batch_size)"
   ]
  },
  {
   "cell_type": "markdown",
   "metadata": {},
   "source": [
    "##### Training"
   ]
  },
  {
   "cell_type": "code",
   "execution_count": 19,
   "metadata": {},
   "outputs": [],
   "source": [
    "# # # # # # Validate the model (if needed)\n",
    "# # trainer.validate(model=lightning_model, datamodule=data_module)\n",
    "# print(f\"Training Begin for {NUM_STRATIFIED_SAMPLES} words: {len(train_dataset)} Games\")\n",
    "# # # # # # # Fit the model\n",
    "# trainer.fit(lightning_model, data_module)\n",
    "\n",
    "# # # Optionally print the profiler summary\n",
    "# # # print(profiler.summary())\n",
    "\n",
    "# # # Save the entire model\n",
    "# # trained_model_file = models_dir / f\"{NUM_STRATIFIED_SAMPLES}_trained_model.pth\"\n",
    "# # torch.save(lightning_model, trained_model_file)\n",
    "# # print(f\"Model saved at {trained_model_file}\")"
   ]
  },
  {
   "cell_type": "markdown",
   "metadata": {},
   "source": [
    "##### Testing"
   ]
  },
  {
   "cell_type": "code",
   "execution_count": 20,
   "metadata": {},
   "outputs": [
    {
     "data": {
      "text/plain": [
       "29"
      ]
     },
     "execution_count": 20,
     "metadata": {},
     "output_type": "execute_result"
    }
   ],
   "source": [
    "# Finding the maximum word length in the list\n",
    "max_word_length_in_list = max(len(word) for word in sampled_test_words)\n",
    "max_word_length_in_list"
   ]
  },
  {
   "cell_type": "code",
   "execution_count": 21,
   "metadata": {},
   "outputs": [
    {
     "data": {
      "application/vnd.jupyter.widget-view+json": {
       "model_id": "f20278bb08fe44ee9564703ffe18fdc9",
       "version_major": 2,
       "version_minor": 0
      },
      "text/plain": [
       "Processing words:   0%|          | 0/1085 [00:00<?, ?word/s]"
      ]
     },
     "metadata": {},
     "output_type": "display_data"
    },
    {
     "name": "stdout",
     "output_type": "stream",
     "text": [
      "Guessed characters: []\n",
      "Batch features shape (input to Encoder): torch.Size([1, 1, 173])\n",
      "Encoded characters shape: torch.Size([1, 1, 29])\n",
      "Additional features shape: torch.Size([1, 1, 116])\n",
      "Embedded characters shape: torch.Size([1, 1, 29, 15])\n",
      "Reshaped embedded characters shape: torch.Size([1, 1, 435])\n",
      "Combined features shape: torch.Size([1, 1, 551])\n",
      "Flattened output shape: torch.Size([1, 1, 551])\n",
      "torch.Size([1, 1, 551])\n",
      "Input features shape: torch.Size([1, 1, 551])\n",
      "Original Seq shape:  torch.Size([1])\n",
      "Missed Chars shape:  torch.Size([1, 1, 28])\n",
      "\n",
      "Packed input shape: torch.Size([1, 551])\n"
     ]
    },
    {
     "ename": "RuntimeError",
     "evalue": "mat1 and mat2 shapes cannot be multiplied (1x551 and 579x128)",
     "output_type": "error",
     "traceback": [
      "\u001b[0;31m---------------------------------------------------------------------------\u001b[0m",
      "\u001b[0;31mRuntimeError\u001b[0m                              Traceback (most recent call last)",
      "Cell \u001b[0;32mIn[21], line 7\u001b[0m\n\u001b[1;32m      4\u001b[0m untrained_model \u001b[38;5;241m=\u001b[39m torch\u001b[38;5;241m.\u001b[39mload(untrained_model_file)\n\u001b[1;32m      6\u001b[0m \u001b[38;5;66;03m# Example usage\u001b[39;00m\n\u001b[0;32m----> 7\u001b[0m result \u001b[38;5;241m=\u001b[39m \u001b[43mplay_games_and_calculate_stats\u001b[49m\u001b[43m(\u001b[49m\u001b[43muntrained_model\u001b[49m\u001b[43m,\u001b[49m\u001b[43m \u001b[49m\u001b[43m\\\u001b[49m\n\u001b[1;32m      8\u001b[0m \u001b[43m    \u001b[49m\u001b[43msampled_test_words\u001b[49m\u001b[43m,\u001b[49m\u001b[43m \u001b[49m\u001b[43mchar_frequency\u001b[49m\u001b[43m,\u001b[49m\u001b[43m \u001b[49m\u001b[43mmax_word_length\u001b[49m\u001b[43m)\u001b[49m\n\u001b[1;32m     10\u001b[0m \u001b[38;5;28mprint\u001b[39m(\u001b[38;5;124mf\u001b[39m\u001b[38;5;124m\"\u001b[39m\u001b[38;5;124mUntrained model performence: \u001b[39m\u001b[38;5;132;01m{\u001b[39;00mresult[\u001b[38;5;124m'\u001b[39m\u001b[38;5;124moverall_win_rate\u001b[39m\u001b[38;5;124m'\u001b[39m]\u001b[38;5;132;01m}\u001b[39;00m\u001b[38;5;124m % win rate\u001b[39m\u001b[38;5;124m\"\u001b[39m)\n\u001b[1;32m     12\u001b[0m performance_metrics \u001b[38;5;241m=\u001b[39m result[\u001b[38;5;124m'\u001b[39m\u001b[38;5;124mlength_wise_stats\u001b[39m\u001b[38;5;124m'\u001b[39m]\n",
      "File \u001b[0;32m~/Desktop/Hangman/scr/game.py:125\u001b[0m, in \u001b[0;36mplay_games_and_calculate_stats\u001b[0;34m(model, words_list, char_frequency, max_word_length, max_attempts)\u001b[0m\n\u001b[1;32m    121\u001b[0m stats[word] \u001b[38;5;241m=\u001b[39m {\u001b[38;5;124m\"\u001b[39m\u001b[38;5;124mtotal_games\u001b[39m\u001b[38;5;124m\"\u001b[39m: \u001b[38;5;241m0\u001b[39m,\n\u001b[1;32m    122\u001b[0m                \u001b[38;5;124m\"\u001b[39m\u001b[38;5;124mwins\u001b[39m\u001b[38;5;124m\"\u001b[39m: \u001b[38;5;241m0\u001b[39m, \u001b[38;5;124m\"\u001b[39m\u001b[38;5;124mtotal_attempts_used\u001b[39m\u001b[38;5;124m\"\u001b[39m: \u001b[38;5;241m0\u001b[39m}\n\u001b[1;32m    124\u001b[0m \u001b[38;5;66;03m# Play game with the word\u001b[39;00m\n\u001b[0;32m--> 125\u001b[0m win, masked_word, attempts_used \u001b[38;5;241m=\u001b[39m \u001b[43mplay_game_with_a_word\u001b[49m\u001b[43m(\u001b[49m\n\u001b[1;32m    126\u001b[0m \u001b[43m    \u001b[49m\u001b[43mmodel\u001b[49m\u001b[43m,\u001b[49m\u001b[43m \u001b[49m\u001b[43mword\u001b[49m\u001b[43m,\u001b[49m\u001b[43m \u001b[49m\u001b[43mchar_frequency\u001b[49m\u001b[43m,\u001b[49m\u001b[43m \u001b[49m\u001b[43mmax_word_length\u001b[49m\u001b[43m,\u001b[49m\u001b[43m \u001b[49m\u001b[43mmax_attempts\u001b[49m\n\u001b[1;32m    127\u001b[0m \u001b[43m\u001b[49m\u001b[43m)\u001b[49m\n\u001b[1;32m    129\u001b[0m \u001b[38;5;66;03m# Update stats for this word and length-wise stats\u001b[39;00m\n\u001b[1;32m    130\u001b[0m stats[word][\u001b[38;5;124m\"\u001b[39m\u001b[38;5;124mtotal_games\u001b[39m\u001b[38;5;124m\"\u001b[39m] \u001b[38;5;241m+\u001b[39m\u001b[38;5;241m=\u001b[39m \u001b[38;5;241m1\u001b[39m\n",
      "File \u001b[0;32m~/Desktop/Hangman/scr/game.py:69\u001b[0m, in \u001b[0;36mplay_game_with_a_word\u001b[0;34m(model, word, char_frequency, max_word_length, max_attempts, normalize)\u001b[0m\n\u001b[1;32m     65\u001b[0m \u001b[38;5;66;03m# print(f\"Starting the game. Word to guess: {' '.join(masked_word)}\")  # Display initial state\u001b[39;00m\n\u001b[1;32m     67\u001b[0m \u001b[38;5;28;01mwhile\u001b[39;00m game_status \u001b[38;5;241m==\u001b[39m \u001b[38;5;124m\"\u001b[39m\u001b[38;5;124mongoing\u001b[39m\u001b[38;5;124m\"\u001b[39m \u001b[38;5;129;01mand\u001b[39;00m attempts_remaining \u001b[38;5;241m>\u001b[39m \u001b[38;5;241m0\u001b[39m:\n\u001b[0;32m---> 69\u001b[0m     guessed_char \u001b[38;5;241m=\u001b[39m \u001b[43mguess\u001b[49m\u001b[43m(\u001b[49m\u001b[43mmodel\u001b[49m\u001b[43m,\u001b[49m\u001b[43m \u001b[49m\u001b[43mmasked_word\u001b[49m\u001b[43m,\u001b[49m\u001b[43m \u001b[49m\u001b[43mchar_frequency\u001b[49m\u001b[43m,\u001b[49m\n\u001b[1;32m     70\u001b[0m \u001b[43m                         \u001b[49m\u001b[43mmax_word_length\u001b[49m\u001b[43m,\u001b[49m\u001b[43m \u001b[49m\u001b[43mguessed_letters\u001b[49m\u001b[43m)\u001b[49m\n\u001b[1;32m     72\u001b[0m     \u001b[38;5;66;03m# Add to the list of guessed letters\u001b[39;00m\n\u001b[1;32m     73\u001b[0m     guessed_letters\u001b[38;5;241m.\u001b[39mappend(guessed_char)\n",
      "File \u001b[0;32m~/Desktop/Hangman/scr/guess.py:212\u001b[0m, in \u001b[0;36mguess\u001b[0;34m(model, word, char_frequency, max_word_length, guessed_letters)\u001b[0m\n\u001b[1;32m    207\u001b[0m cleaned_word \u001b[38;5;241m=\u001b[39m \u001b[38;5;124m\"\u001b[39m\u001b[38;5;124m\"\u001b[39m\u001b[38;5;241m.\u001b[39mjoin(char\u001b[38;5;241m.\u001b[39mlower()\n\u001b[1;32m    208\u001b[0m                        \u001b[38;5;28;01mfor\u001b[39;00m char \u001b[38;5;129;01min\u001b[39;00m word \u001b[38;5;28;01mif\u001b[39;00m char\u001b[38;5;241m.\u001b[39misalpha() \u001b[38;5;129;01mor\u001b[39;00m char \u001b[38;5;241m==\u001b[39m \u001b[38;5;124m'\u001b[39m\u001b[38;5;124m_\u001b[39m\u001b[38;5;124m'\u001b[39m)\n\u001b[1;32m    209\u001b[0m \u001b[38;5;66;03m# print(cleaned_word)\u001b[39;00m\n\u001b[1;32m    210\u001b[0m \n\u001b[1;32m    211\u001b[0m \u001b[38;5;66;03m# Predict the next character using the updated guess_character function\u001b[39;00m\n\u001b[0;32m--> 212\u001b[0m guessed_char \u001b[38;5;241m=\u001b[39m \u001b[43mguess_character\u001b[49m\u001b[43m(\u001b[49m\n\u001b[1;32m    213\u001b[0m \u001b[43m    \u001b[49m\u001b[43mmodel\u001b[49m\u001b[43m,\u001b[49m\u001b[43m \u001b[49m\u001b[43mcleaned_word\u001b[49m\u001b[43m,\u001b[49m\n\u001b[1;32m    214\u001b[0m \u001b[43m    \u001b[49m\u001b[43mchar_frequency\u001b[49m\u001b[43m,\u001b[49m\n\u001b[1;32m    215\u001b[0m \u001b[43m    \u001b[49m\u001b[43mmax_word_length\u001b[49m\u001b[43m,\u001b[49m\n\u001b[1;32m    216\u001b[0m \u001b[43m    \u001b[49m\u001b[43mguessed_letters\u001b[49m\u001b[43m  \u001b[49m\u001b[38;5;66;43;03m# Pass the list of guessed letters\u001b[39;49;00m\n\u001b[1;32m    217\u001b[0m \u001b[43m\u001b[49m\u001b[43m)\u001b[49m\n\u001b[1;32m    219\u001b[0m \u001b[38;5;66;03m# guessed_char =  get_random_character()\u001b[39;00m\n\u001b[1;32m    220\u001b[0m \n\u001b[1;32m    221\u001b[0m \u001b[38;5;66;03m# Add the new guess to the guessed letters list\u001b[39;00m\n\u001b[1;32m    222\u001b[0m \u001b[38;5;28;01mif\u001b[39;00m guessed_char \u001b[38;5;129;01mnot\u001b[39;00m \u001b[38;5;129;01min\u001b[39;00m guessed_letters:\n",
      "File \u001b[0;32m~/Desktop/Hangman/scr/guess.py:176\u001b[0m, in \u001b[0;36mguess_character\u001b[0;34m(model, masked_word, char_frequency, max_word_length, guessed_chars, max_seq_length, fallback_strategy, device)\u001b[0m\n\u001b[1;32m    174\u001b[0m \u001b[38;5;66;03m# Model prediction\u001b[39;00m\n\u001b[1;32m    175\u001b[0m \u001b[38;5;28;01mwith\u001b[39;00m torch\u001b[38;5;241m.\u001b[39mno_grad():\n\u001b[0;32m--> 176\u001b[0m     output \u001b[38;5;241m=\u001b[39m \u001b[43mmodel\u001b[49m\u001b[43m(\u001b[49m\u001b[43mfets\u001b[49m\u001b[43m,\u001b[49m\u001b[43m \u001b[49m\u001b[43mseq_lens\u001b[49m\u001b[43m,\u001b[49m\u001b[43m \u001b[49m\u001b[43mmissed_chars\u001b[49m\u001b[43m)\u001b[49m\n\u001b[1;32m    178\u001b[0m \u001b[38;5;66;03m# Extract probabilities for the last character position\u001b[39;00m\n\u001b[1;32m    179\u001b[0m last_char_position \u001b[38;5;241m=\u001b[39m seq_lens\u001b[38;5;241m.\u001b[39mitem() \u001b[38;5;241m-\u001b[39m \u001b[38;5;241m1\u001b[39m\n",
      "File \u001b[0;32m~/anaconda3/envs/optiver/lib/python3.10/site-packages/torch/nn/modules/module.py:1518\u001b[0m, in \u001b[0;36mModule._wrapped_call_impl\u001b[0;34m(self, *args, **kwargs)\u001b[0m\n\u001b[1;32m   1516\u001b[0m     \u001b[38;5;28;01mreturn\u001b[39;00m \u001b[38;5;28mself\u001b[39m\u001b[38;5;241m.\u001b[39m_compiled_call_impl(\u001b[38;5;241m*\u001b[39margs, \u001b[38;5;241m*\u001b[39m\u001b[38;5;241m*\u001b[39mkwargs)  \u001b[38;5;66;03m# type: ignore[misc]\u001b[39;00m\n\u001b[1;32m   1517\u001b[0m \u001b[38;5;28;01melse\u001b[39;00m:\n\u001b[0;32m-> 1518\u001b[0m     \u001b[38;5;28;01mreturn\u001b[39;00m \u001b[38;5;28;43mself\u001b[39;49m\u001b[38;5;241;43m.\u001b[39;49m\u001b[43m_call_impl\u001b[49m\u001b[43m(\u001b[49m\u001b[38;5;241;43m*\u001b[39;49m\u001b[43margs\u001b[49m\u001b[43m,\u001b[49m\u001b[43m \u001b[49m\u001b[38;5;241;43m*\u001b[39;49m\u001b[38;5;241;43m*\u001b[39;49m\u001b[43mkwargs\u001b[49m\u001b[43m)\u001b[49m\n",
      "File \u001b[0;32m~/anaconda3/envs/optiver/lib/python3.10/site-packages/torch/nn/modules/module.py:1527\u001b[0m, in \u001b[0;36mModule._call_impl\u001b[0;34m(self, *args, **kwargs)\u001b[0m\n\u001b[1;32m   1522\u001b[0m \u001b[38;5;66;03m# If we don't have any hooks, we want to skip the rest of the logic in\u001b[39;00m\n\u001b[1;32m   1523\u001b[0m \u001b[38;5;66;03m# this function, and just call forward.\u001b[39;00m\n\u001b[1;32m   1524\u001b[0m \u001b[38;5;28;01mif\u001b[39;00m \u001b[38;5;129;01mnot\u001b[39;00m (\u001b[38;5;28mself\u001b[39m\u001b[38;5;241m.\u001b[39m_backward_hooks \u001b[38;5;129;01mor\u001b[39;00m \u001b[38;5;28mself\u001b[39m\u001b[38;5;241m.\u001b[39m_backward_pre_hooks \u001b[38;5;129;01mor\u001b[39;00m \u001b[38;5;28mself\u001b[39m\u001b[38;5;241m.\u001b[39m_forward_hooks \u001b[38;5;129;01mor\u001b[39;00m \u001b[38;5;28mself\u001b[39m\u001b[38;5;241m.\u001b[39m_forward_pre_hooks\n\u001b[1;32m   1525\u001b[0m         \u001b[38;5;129;01mor\u001b[39;00m _global_backward_pre_hooks \u001b[38;5;129;01mor\u001b[39;00m _global_backward_hooks\n\u001b[1;32m   1526\u001b[0m         \u001b[38;5;129;01mor\u001b[39;00m _global_forward_hooks \u001b[38;5;129;01mor\u001b[39;00m _global_forward_pre_hooks):\n\u001b[0;32m-> 1527\u001b[0m     \u001b[38;5;28;01mreturn\u001b[39;00m \u001b[43mforward_call\u001b[49m\u001b[43m(\u001b[49m\u001b[38;5;241;43m*\u001b[39;49m\u001b[43margs\u001b[49m\u001b[43m,\u001b[49m\u001b[43m \u001b[49m\u001b[38;5;241;43m*\u001b[39;49m\u001b[38;5;241;43m*\u001b[39;49m\u001b[43mkwargs\u001b[49m\u001b[43m)\u001b[49m\n\u001b[1;32m   1529\u001b[0m \u001b[38;5;28;01mtry\u001b[39;00m:\n\u001b[1;32m   1530\u001b[0m     result \u001b[38;5;241m=\u001b[39m \u001b[38;5;28;01mNone\u001b[39;00m\n",
      "File \u001b[0;32m~/Desktop/Hangman/scr/trainer_.py:221\u001b[0m, in \u001b[0;36mHangmanModel.forward\u001b[0;34m(self, fets, original_seq_lens, missed_chars)\u001b[0m\n\u001b[1;32m    219\u001b[0m encoded_fets \u001b[38;5;241m=\u001b[39m \u001b[38;5;28mself\u001b[39m\u001b[38;5;241m.\u001b[39mencoder(fets, original_seq_lens, missed_chars)\n\u001b[1;32m    220\u001b[0m \u001b[38;5;28mprint\u001b[39m(\u001b[38;5;124mf\u001b[39m\u001b[38;5;124m\"\u001b[39m\u001b[38;5;132;01m{\u001b[39;00mencoded_fets\u001b[38;5;241m.\u001b[39mshape\u001b[38;5;132;01m}\u001b[39;00m\u001b[38;5;124m\"\u001b[39m)\n\u001b[0;32m--> 221\u001b[0m outputs \u001b[38;5;241m=\u001b[39m \u001b[38;5;28;43mself\u001b[39;49m\u001b[38;5;241;43m.\u001b[39;49m\u001b[43mdecoder\u001b[49m\u001b[43m(\u001b[49m\u001b[43mencoded_fets\u001b[49m\u001b[43m,\u001b[49m\u001b[43m \u001b[49m\u001b[43moriginal_seq_lens\u001b[49m\u001b[43m,\u001b[49m\u001b[43m \u001b[49m\u001b[43mmissed_chars\u001b[49m\u001b[43m)\u001b[49m\n\u001b[1;32m    222\u001b[0m \u001b[38;5;28;01mreturn\u001b[39;00m outputs\n",
      "File \u001b[0;32m~/anaconda3/envs/optiver/lib/python3.10/site-packages/torch/nn/modules/module.py:1518\u001b[0m, in \u001b[0;36mModule._wrapped_call_impl\u001b[0;34m(self, *args, **kwargs)\u001b[0m\n\u001b[1;32m   1516\u001b[0m     \u001b[38;5;28;01mreturn\u001b[39;00m \u001b[38;5;28mself\u001b[39m\u001b[38;5;241m.\u001b[39m_compiled_call_impl(\u001b[38;5;241m*\u001b[39margs, \u001b[38;5;241m*\u001b[39m\u001b[38;5;241m*\u001b[39mkwargs)  \u001b[38;5;66;03m# type: ignore[misc]\u001b[39;00m\n\u001b[1;32m   1517\u001b[0m \u001b[38;5;28;01melse\u001b[39;00m:\n\u001b[0;32m-> 1518\u001b[0m     \u001b[38;5;28;01mreturn\u001b[39;00m \u001b[38;5;28;43mself\u001b[39;49m\u001b[38;5;241;43m.\u001b[39;49m\u001b[43m_call_impl\u001b[49m\u001b[43m(\u001b[49m\u001b[38;5;241;43m*\u001b[39;49m\u001b[43margs\u001b[49m\u001b[43m,\u001b[49m\u001b[43m \u001b[49m\u001b[38;5;241;43m*\u001b[39;49m\u001b[38;5;241;43m*\u001b[39;49m\u001b[43mkwargs\u001b[49m\u001b[43m)\u001b[49m\n",
      "File \u001b[0;32m~/anaconda3/envs/optiver/lib/python3.10/site-packages/torch/nn/modules/module.py:1527\u001b[0m, in \u001b[0;36mModule._call_impl\u001b[0;34m(self, *args, **kwargs)\u001b[0m\n\u001b[1;32m   1522\u001b[0m \u001b[38;5;66;03m# If we don't have any hooks, we want to skip the rest of the logic in\u001b[39;00m\n\u001b[1;32m   1523\u001b[0m \u001b[38;5;66;03m# this function, and just call forward.\u001b[39;00m\n\u001b[1;32m   1524\u001b[0m \u001b[38;5;28;01mif\u001b[39;00m \u001b[38;5;129;01mnot\u001b[39;00m (\u001b[38;5;28mself\u001b[39m\u001b[38;5;241m.\u001b[39m_backward_hooks \u001b[38;5;129;01mor\u001b[39;00m \u001b[38;5;28mself\u001b[39m\u001b[38;5;241m.\u001b[39m_backward_pre_hooks \u001b[38;5;129;01mor\u001b[39;00m \u001b[38;5;28mself\u001b[39m\u001b[38;5;241m.\u001b[39m_forward_hooks \u001b[38;5;129;01mor\u001b[39;00m \u001b[38;5;28mself\u001b[39m\u001b[38;5;241m.\u001b[39m_forward_pre_hooks\n\u001b[1;32m   1525\u001b[0m         \u001b[38;5;129;01mor\u001b[39;00m _global_backward_pre_hooks \u001b[38;5;129;01mor\u001b[39;00m _global_backward_hooks\n\u001b[1;32m   1526\u001b[0m         \u001b[38;5;129;01mor\u001b[39;00m _global_forward_hooks \u001b[38;5;129;01mor\u001b[39;00m _global_forward_pre_hooks):\n\u001b[0;32m-> 1527\u001b[0m     \u001b[38;5;28;01mreturn\u001b[39;00m \u001b[43mforward_call\u001b[49m\u001b[43m(\u001b[49m\u001b[38;5;241;43m*\u001b[39;49m\u001b[43margs\u001b[49m\u001b[43m,\u001b[49m\u001b[43m \u001b[49m\u001b[38;5;241;43m*\u001b[39;49m\u001b[38;5;241;43m*\u001b[39;49m\u001b[43mkwargs\u001b[49m\u001b[43m)\u001b[49m\n\u001b[1;32m   1529\u001b[0m \u001b[38;5;28;01mtry\u001b[39;00m:\n\u001b[1;32m   1530\u001b[0m     result \u001b[38;5;241m=\u001b[39m \u001b[38;5;28;01mNone\u001b[39;00m\n",
      "File \u001b[0;32m~/Desktop/Hangman/scr/decoder.py:49\u001b[0m, in \u001b[0;36mSimpleLSTM.forward\u001b[0;34m(self, fets, original_seq_lens, missed_chars)\u001b[0m\n\u001b[1;32m     46\u001b[0m \u001b[38;5;28mprint\u001b[39m(\u001b[38;5;124m\"\u001b[39m\u001b[38;5;124mPacked input shape:\u001b[39m\u001b[38;5;124m\"\u001b[39m, packed_input\u001b[38;5;241m.\u001b[39mdata\u001b[38;5;241m.\u001b[39mshape)\n\u001b[1;32m     48\u001b[0m \u001b[38;5;66;03m# LSTM processing\u001b[39;00m\n\u001b[0;32m---> 49\u001b[0m packed_output, (hidden, cell) \u001b[38;5;241m=\u001b[39m \u001b[38;5;28;43mself\u001b[39;49m\u001b[38;5;241;43m.\u001b[39;49m\u001b[43mlstm\u001b[49m\u001b[43m(\u001b[49m\u001b[43mpacked_input\u001b[49m\u001b[43m)\u001b[49m\n\u001b[1;32m     50\u001b[0m \u001b[38;5;28mprint\u001b[39m(\u001b[38;5;124m\"\u001b[39m\u001b[38;5;124mPacked output shape:\u001b[39m\u001b[38;5;124m\"\u001b[39m, packed_output\u001b[38;5;241m.\u001b[39mdata\u001b[38;5;241m.\u001b[39mshape)\n\u001b[1;32m     51\u001b[0m \u001b[38;5;28mprint\u001b[39m(\u001b[38;5;124m\"\u001b[39m\u001b[38;5;124mHidden shape: \u001b[39m\u001b[38;5;124m\"\u001b[39m, hidden\u001b[38;5;241m.\u001b[39mshape)\n",
      "File \u001b[0;32m~/anaconda3/envs/optiver/lib/python3.10/site-packages/torch/nn/modules/module.py:1518\u001b[0m, in \u001b[0;36mModule._wrapped_call_impl\u001b[0;34m(self, *args, **kwargs)\u001b[0m\n\u001b[1;32m   1516\u001b[0m     \u001b[38;5;28;01mreturn\u001b[39;00m \u001b[38;5;28mself\u001b[39m\u001b[38;5;241m.\u001b[39m_compiled_call_impl(\u001b[38;5;241m*\u001b[39margs, \u001b[38;5;241m*\u001b[39m\u001b[38;5;241m*\u001b[39mkwargs)  \u001b[38;5;66;03m# type: ignore[misc]\u001b[39;00m\n\u001b[1;32m   1517\u001b[0m \u001b[38;5;28;01melse\u001b[39;00m:\n\u001b[0;32m-> 1518\u001b[0m     \u001b[38;5;28;01mreturn\u001b[39;00m \u001b[38;5;28;43mself\u001b[39;49m\u001b[38;5;241;43m.\u001b[39;49m\u001b[43m_call_impl\u001b[49m\u001b[43m(\u001b[49m\u001b[38;5;241;43m*\u001b[39;49m\u001b[43margs\u001b[49m\u001b[43m,\u001b[49m\u001b[43m \u001b[49m\u001b[38;5;241;43m*\u001b[39;49m\u001b[38;5;241;43m*\u001b[39;49m\u001b[43mkwargs\u001b[49m\u001b[43m)\u001b[49m\n",
      "File \u001b[0;32m~/anaconda3/envs/optiver/lib/python3.10/site-packages/torch/nn/modules/module.py:1527\u001b[0m, in \u001b[0;36mModule._call_impl\u001b[0;34m(self, *args, **kwargs)\u001b[0m\n\u001b[1;32m   1522\u001b[0m \u001b[38;5;66;03m# If we don't have any hooks, we want to skip the rest of the logic in\u001b[39;00m\n\u001b[1;32m   1523\u001b[0m \u001b[38;5;66;03m# this function, and just call forward.\u001b[39;00m\n\u001b[1;32m   1524\u001b[0m \u001b[38;5;28;01mif\u001b[39;00m \u001b[38;5;129;01mnot\u001b[39;00m (\u001b[38;5;28mself\u001b[39m\u001b[38;5;241m.\u001b[39m_backward_hooks \u001b[38;5;129;01mor\u001b[39;00m \u001b[38;5;28mself\u001b[39m\u001b[38;5;241m.\u001b[39m_backward_pre_hooks \u001b[38;5;129;01mor\u001b[39;00m \u001b[38;5;28mself\u001b[39m\u001b[38;5;241m.\u001b[39m_forward_hooks \u001b[38;5;129;01mor\u001b[39;00m \u001b[38;5;28mself\u001b[39m\u001b[38;5;241m.\u001b[39m_forward_pre_hooks\n\u001b[1;32m   1525\u001b[0m         \u001b[38;5;129;01mor\u001b[39;00m _global_backward_pre_hooks \u001b[38;5;129;01mor\u001b[39;00m _global_backward_hooks\n\u001b[1;32m   1526\u001b[0m         \u001b[38;5;129;01mor\u001b[39;00m _global_forward_hooks \u001b[38;5;129;01mor\u001b[39;00m _global_forward_pre_hooks):\n\u001b[0;32m-> 1527\u001b[0m     \u001b[38;5;28;01mreturn\u001b[39;00m \u001b[43mforward_call\u001b[49m\u001b[43m(\u001b[49m\u001b[38;5;241;43m*\u001b[39;49m\u001b[43margs\u001b[49m\u001b[43m,\u001b[49m\u001b[43m \u001b[49m\u001b[38;5;241;43m*\u001b[39;49m\u001b[38;5;241;43m*\u001b[39;49m\u001b[43mkwargs\u001b[49m\u001b[43m)\u001b[49m\n\u001b[1;32m   1529\u001b[0m \u001b[38;5;28;01mtry\u001b[39;00m:\n\u001b[1;32m   1530\u001b[0m     result \u001b[38;5;241m=\u001b[39m \u001b[38;5;28;01mNone\u001b[39;00m\n",
      "File \u001b[0;32m~/anaconda3/envs/optiver/lib/python3.10/site-packages/torch/nn/modules/rnn.py:882\u001b[0m, in \u001b[0;36mLSTM.forward\u001b[0;34m(self, input, hx)\u001b[0m\n\u001b[1;32m    879\u001b[0m     result \u001b[38;5;241m=\u001b[39m _VF\u001b[38;5;241m.\u001b[39mlstm(\u001b[38;5;28minput\u001b[39m, hx, \u001b[38;5;28mself\u001b[39m\u001b[38;5;241m.\u001b[39m_flat_weights, \u001b[38;5;28mself\u001b[39m\u001b[38;5;241m.\u001b[39mbias, \u001b[38;5;28mself\u001b[39m\u001b[38;5;241m.\u001b[39mnum_layers,\n\u001b[1;32m    880\u001b[0m                       \u001b[38;5;28mself\u001b[39m\u001b[38;5;241m.\u001b[39mdropout, \u001b[38;5;28mself\u001b[39m\u001b[38;5;241m.\u001b[39mtraining, \u001b[38;5;28mself\u001b[39m\u001b[38;5;241m.\u001b[39mbidirectional, \u001b[38;5;28mself\u001b[39m\u001b[38;5;241m.\u001b[39mbatch_first)\n\u001b[1;32m    881\u001b[0m \u001b[38;5;28;01melse\u001b[39;00m:\n\u001b[0;32m--> 882\u001b[0m     result \u001b[38;5;241m=\u001b[39m \u001b[43m_VF\u001b[49m\u001b[38;5;241;43m.\u001b[39;49m\u001b[43mlstm\u001b[49m\u001b[43m(\u001b[49m\u001b[38;5;28;43minput\u001b[39;49m\u001b[43m,\u001b[49m\u001b[43m \u001b[49m\u001b[43mbatch_sizes\u001b[49m\u001b[43m,\u001b[49m\u001b[43m \u001b[49m\u001b[43mhx\u001b[49m\u001b[43m,\u001b[49m\u001b[43m \u001b[49m\u001b[38;5;28;43mself\u001b[39;49m\u001b[38;5;241;43m.\u001b[39;49m\u001b[43m_flat_weights\u001b[49m\u001b[43m,\u001b[49m\u001b[43m \u001b[49m\u001b[38;5;28;43mself\u001b[39;49m\u001b[38;5;241;43m.\u001b[39;49m\u001b[43mbias\u001b[49m\u001b[43m,\u001b[49m\n\u001b[1;32m    883\u001b[0m \u001b[43m                      \u001b[49m\u001b[38;5;28;43mself\u001b[39;49m\u001b[38;5;241;43m.\u001b[39;49m\u001b[43mnum_layers\u001b[49m\u001b[43m,\u001b[49m\u001b[43m \u001b[49m\u001b[38;5;28;43mself\u001b[39;49m\u001b[38;5;241;43m.\u001b[39;49m\u001b[43mdropout\u001b[49m\u001b[43m,\u001b[49m\u001b[43m \u001b[49m\u001b[38;5;28;43mself\u001b[39;49m\u001b[38;5;241;43m.\u001b[39;49m\u001b[43mtraining\u001b[49m\u001b[43m,\u001b[49m\u001b[43m \u001b[49m\u001b[38;5;28;43mself\u001b[39;49m\u001b[38;5;241;43m.\u001b[39;49m\u001b[43mbidirectional\u001b[49m\u001b[43m)\u001b[49m\n\u001b[1;32m    884\u001b[0m output \u001b[38;5;241m=\u001b[39m result[\u001b[38;5;241m0\u001b[39m]\n\u001b[1;32m    885\u001b[0m hidden \u001b[38;5;241m=\u001b[39m result[\u001b[38;5;241m1\u001b[39m:]\n",
      "\u001b[0;31mRuntimeError\u001b[0m: mat1 and mat2 shapes cannot be multiplied (1x551 and 579x128)"
     ]
    }
   ],
   "source": [
    "# # Load the entire LSTM model object\n",
    "# untrained_model_file_path = models_dir / f\"{NUM_STRATIFIED_SAMPLES}_trained_model.pth\"\n",
    "\n",
    "untrained_model = torch.load(untrained_model_file)\n",
    "\n",
    "# Example usage\n",
    "result = play_games_and_calculate_stats(untrained_model, \\\n",
    "    sampled_test_words, char_frequency, max_word_length)\n",
    "\n",
    "print(f\"Untrained model performence: {result['overall_win_rate']} % win rate\")\n",
    "\n",
    "performance_metrics = result['length_wise_stats']\n",
    "\n",
    "# print(performance_metrics)\n",
    "\n",
    "from scr.utils import *\n",
    "\n",
    "plot_hangman_stats(performance_metrics)\n",
    "\n",
    "\n",
    "for length, data in result[\"length_wise_stats\"].items():\n",
    "    print(f\"Length {length}: Win Rate: {data['win_rate']}%, Average Attempts: {data['average_attempts_used']}\")"
   ]
  },
  {
   "cell_type": "code",
   "execution_count": null,
   "metadata": {},
   "outputs": [],
   "source": [
    "# trained_model_file_path = models_dir / f\"{NUM_STRATIFIED_SAMPLES}_trained_model.pth\"\n",
    "# trained_model = torch.load(trained_model_file_path)\n",
    "# print(type(trained_model))"
   ]
  },
  {
   "cell_type": "code",
   "execution_count": null,
   "metadata": {},
   "outputs": [],
   "source": [
    "# # Load the entire LSTM model object\n",
    "\n",
    "# trained_model_file_path = models_dir / f\"{NUM_STRATIFIED_SAMPLES}_trained_model.pth\"\n",
    "# trained_model = torch.load(trained_model_file_path)\n",
    "\n",
    "# # # If you want to use the model for inference\n",
    "# # trained_model.eval()  # Set the model to evaluation mode\n",
    "\n",
    "# from scr.game import *\n",
    "\n",
    "# word = 'may'\n",
    "\n",
    "# play_game_with_a_word(trained_model, \\\n",
    "#     word, char_frequency, max_word_length)"
   ]
  },
  {
   "cell_type": "code",
   "execution_count": null,
   "metadata": {},
   "outputs": [],
   "source": [
    "# Example usage\n",
    "result = play_games_and_calculate_stats(trained_model, \\\n",
    "    sampled_test_words, char_frequency, max_word_length)\n",
    "\n",
    "print(f\"Overall Win Rate: {result['overall_win_rate']}%, Overall Average Attempts: {result['overall_avg_attempts']}\")\n",
    "\n",
    "# for length, data in result[\"length_wise_stats\"].items():\n",
    "#     print(f\"Length {length}: Win Rate: {data['win_rate']}%, Average Attempts: {data['average_attempts_used']}\")"
   ]
  },
  {
   "cell_type": "code",
   "execution_count": null,
   "metadata": {},
   "outputs": [],
   "source": [
    "performance_metrics = result['length_wise_stats']\n",
    "\n",
    "plot_hangman_stats(performance_metrics)"
   ]
  },
  {
   "cell_type": "code",
   "execution_count": null,
   "metadata": {},
   "outputs": [],
   "source": [
    "performance_metrics"
   ]
  },
  {
   "cell_type": "code",
   "execution_count": null,
   "metadata": {},
   "outputs": [],
   "source": []
  }
 ],
 "metadata": {
  "kernelspec": {
   "display_name": "optiver",
   "language": "python",
   "name": "python3"
  },
  "language_info": {
   "codemirror_mode": {
    "name": "ipython",
    "version": 3
   },
   "file_extension": ".py",
   "mimetype": "text/x-python",
   "name": "python",
   "nbconvert_exporter": "python",
   "pygments_lexer": "ipython3",
   "version": "3.10.13"
  }
 },
 "nbformat": 4,
 "nbformat_minor": 2
}
