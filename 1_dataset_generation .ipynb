{
 "cells": [
  {
   "cell_type": "markdown",
   "id": "a62bd7e6",
   "metadata": {
    "papermill": {
     "duration": 0.002135,
     "end_time": "2023-11-24T22:23:42.367043",
     "exception": false,
     "start_time": "2023-11-24T22:23:42.364908",
     "status": "completed"
    },
    "tags": []
   },
   "source": [
    "##### Imports"
   ]
  },
  {
   "cell_type": "code",
   "execution_count": 1,
   "id": "323a72c9",
   "metadata": {
    "execution": {
     "iopub.execute_input": "2023-11-24T22:23:42.378753Z",
     "iopub.status.busy": "2023-11-24T22:23:42.378580Z",
     "iopub.status.idle": "2023-11-24T22:23:43.346735Z",
     "shell.execute_reply": "2023-11-24T22:23:43.346282Z"
    },
    "papermill": {
     "duration": 0.971674,
     "end_time": "2023-11-24T22:23:43.347691",
     "exception": false,
     "start_time": "2023-11-24T22:23:42.376017",
     "status": "completed"
    },
    "tags": []
   },
   "outputs": [],
   "source": [
    "import sys\n",
    "from pathlib import Path\n",
    "import warnings\n",
    "from torch.utils.data import Dataset\n",
    "\n",
    "import warnings\n",
    "import pandas as pd\n",
    "warnings.filterwarnings('ignore')\n",
    "\n",
    "pd.set_option('display.max_columns', 1000)\n",
    "pd.set_option('display.max_rows', 1000)\n",
    "\n",
    "import pickle\n",
    "from pathlib import Path\n",
    "from scr.dataset import *\n",
    "# from scr.game import *\n",
    "from scr.feature_engineering import *\n",
    "# from scr.plot_utils import *\n",
    "import gc\n",
    "from scr.utils import print_scenarios\n",
    "\n",
    "from pathlib import Path\n",
    "import random\n",
    "from collections import Counter, defaultdict\n",
    "import pickle\n",
    "from tqdm import tqdm\n",
    "from torch.utils.data import Dataset\n",
    "\n",
    "from scr.utils import read_words, save_words_to_file\n",
    "\n",
    "import sys\n",
    "# Custom library paths\n",
    "sys.path.extend(['../', './scr'])\n",
    "\n",
    "from scr.utils import set_seed\n",
    "from scr.utils import read_words\n",
    "\n",
    "set_seed(42)\n",
    "\n",
    "import torch\n",
    "import torch.nn as nn\n",
    "from pathlib import Path\n",
    "import random\n",
    "\n",
    "torch.set_float32_matmul_precision('medium')\n",
    "\n",
    "# Device configuration\n",
    "device = torch.device(\"cuda\" if torch.cuda.is_available() else \"cpu\")\n",
    "\n",
    "# # Read and Shuffle Word List\n",
    "word_list = read_words('data/words_250000_train.txt') # , limit=10000)\n",
    "# word_list = read_words('data/250k.txt', limit=10000)\n",
    "\n",
    "random.shuffle(word_list)\n",
    "\n",
    "# Calculate Frequencies and Max Word Length\n",
    "word_frequencies = calculate_word_frequencies(word_list)\n",
    "char_frequency = calculate_char_frequencies(word_list)\n",
    "max_word_length = max(len(word) for word in word_list)"
   ]
  },
  {
   "cell_type": "markdown",
   "id": "05e2750e",
   "metadata": {},
   "source": [
    "##### Data Path"
   ]
  },
  {
   "cell_type": "code",
   "execution_count": 2,
   "id": "ca8b7063",
   "metadata": {},
   "outputs": [
    {
     "name": "stdout",
     "output_type": "stream",
     "text": [
      "Directories '/media/sayem/510B93E12554BBD1/dataset/100/parquets' have been recreated.\n"
     ]
    }
   ],
   "source": [
    "import shutil\n",
    "from pathlib import Path\n",
    "\n",
    "NUM_STRATIFIED_SAMPLES = 1_00 # This will be overwritten by Papermill\n",
    "\n",
    "# Define the base directory and the paths for training and validation parquet files\n",
    "base_dataset_dir = Path(\"/media/sayem/510B93E12554BBD1/dataset/\")\n",
    "\n",
    "stratified_samples_dir = base_dataset_dir / str(NUM_STRATIFIED_SAMPLES)\n",
    "\n",
    "parquet_path = stratified_samples_dir / 'parquets'\n",
    "# parquet_valid_path = stratified_samples_dir / 'valid_parquets'\n",
    "\n",
    "# Function to delete and recreate a directory\n",
    "def recreate_directory(path):\n",
    "    if path.exists():\n",
    "        shutil.rmtree(path)  # Delete the directory and its contents\n",
    "    path.mkdir(parents=True)  # Create the directory\n",
    "\n",
    "# Recreate the train and valid directories\n",
    "recreate_directory(parquet_path)\n",
    "# recreate_directory(parquet_valid_path)\n",
    "\n",
    "# print(f\"Directories '{parquet_train_path}' and '{parquet_valid_path}' have been recreated.\")\n",
    "\n",
    "print(f\"Directories '{parquet_path}' have been recreated.\")"
   ]
  },
  {
   "cell_type": "code",
   "execution_count": 3,
   "id": "a8cc199b",
   "metadata": {
    "execution": {
     "iopub.execute_input": "2023-11-24T22:23:43.568919Z",
     "iopub.status.busy": "2023-11-24T22:23:43.568821Z",
     "iopub.status.idle": "2023-11-24T22:23:43.571482Z",
     "shell.execute_reply": "2023-11-24T22:23:43.571208Z"
    },
    "papermill": {
     "duration": 0.007294,
     "end_time": "2023-11-24T22:23:43.572518",
     "exception": false,
     "start_time": "2023-11-24T22:23:43.565224",
     "status": "completed"
    },
    "tags": []
   },
   "outputs": [
    {
     "data": {
      "text/plain": [
       "227300"
      ]
     },
     "execution_count": 3,
     "metadata": {},
     "output_type": "execute_result"
    }
   ],
   "source": [
    "len(word_list)"
   ]
  },
  {
   "cell_type": "markdown",
   "id": "cc97d62d",
   "metadata": {},
   "source": [
    "##### Testing Data"
   ]
  },
  {
   "cell_type": "code",
   "execution_count": 4,
   "id": "ef6ad69f",
   "metadata": {},
   "outputs": [
    {
     "name": "stdout",
     "output_type": "stream",
     "text": [
      "Testing words saved in /media/sayem/510B93E12554BBD1/dataset/100/testing_words.txt\n"
     ]
    }
   ],
   "source": [
    "# Define the total number of words and the number of test samples\n",
    "from scr.custom_sampler import *\n",
    "NUM_TEST_SAMPLES = 10_000\n",
    "\n",
    "# Assuming 'word_list' contains the 250,000 words\n",
    "# First, separate 10,000 words for the final testing set\n",
    "testing_words = stratified_sample_by_length_and_uniqueness(\n",
    "    word_list, \n",
    "    NUM_TEST_SAMPLES\n",
    ")\n",
    "\n",
    "# Define the file path for saving the testing words\n",
    "testing_words_file_path = stratified_samples_dir / \"testing_words.txt\"\n",
    "\n",
    "# Save the testing words to a file\n",
    "with open(testing_words_file_path, 'w') as file:\n",
    "    for word in testing_words:\n",
    "        file.write(word + '\\n')\n",
    "\n",
    "print(f\"Testing words saved in {testing_words_file_path}\")\n",
    "\n",
    "# Now, remove these testing samples from the original word list\n",
    "remaining_words = [word for word in word_list if word not in testing_words]"
   ]
  },
  {
   "cell_type": "markdown",
   "id": "469a87ce",
   "metadata": {},
   "source": [
    "##### Stratified Sample Generation"
   ]
  },
  {
   "cell_type": "code",
   "execution_count": 5,
   "id": "41e486f6",
   "metadata": {
    "execution": {
     "iopub.execute_input": "2023-11-24T22:23:43.579494Z",
     "iopub.status.busy": "2023-11-24T22:23:43.579377Z",
     "iopub.status.idle": "2023-11-24T22:23:43.640436Z",
     "shell.execute_reply": "2023-11-24T22:23:43.640019Z"
    },
    "papermill": {
     "duration": 0.065848,
     "end_time": "2023-11-24T22:23:43.641509",
     "exception": false,
     "start_time": "2023-11-24T22:23:43.575661",
     "status": "completed"
    },
    "tags": []
   },
   "outputs": [
    {
     "name": "stdout",
     "output_type": "stream",
     "text": [
      "Number of Statrified samples: 100\n",
      "207\n"
     ]
    }
   ],
   "source": [
    "## we are taking starified samples from train_words\n",
    "\n",
    "from scr.custom_sampler import \\\n",
    "    stratified_sample_by_length_and_frequency, \\\n",
    "        stratified_sample_by_length, stratified_sample_by_length_and_uniqueness\n",
    "\n",
    "print(f'Number of Statrified samples: {NUM_STRATIFIED_SAMPLES}')\n",
    "\n",
    "# sampled_words_by_length_and_frequency \\\n",
    "#     = stratified_sample_by_length_and_frequency(train_words, \\\n",
    "#     word_frequencies, \\\n",
    "#     NUM_STRATIFIED_SAMPLES)\n",
    "\n",
    "sampled_words_by_length = stratified_sample_by_length_and_uniqueness(remaining_words, \\\n",
    "    NUM_STRATIFIED_SAMPLES)\n",
    "\n",
    "print(len(sampled_words_by_length))"
   ]
  },
  {
   "cell_type": "markdown",
   "id": "cd0d326f",
   "metadata": {
    "papermill": {
     "duration": 0.004373,
     "end_time": "2023-11-24T22:23:44.300659",
     "exception": false,
     "start_time": "2023-11-24T22:23:44.296286",
     "status": "completed"
    },
    "tags": []
   },
   "source": [
    "##### Intial State Simulation Testing"
   ]
  },
  {
   "cell_type": "code",
   "execution_count": 6,
   "id": "ae53fccc",
   "metadata": {},
   "outputs": [],
   "source": [
    "from scr.game import *"
   ]
  },
  {
   "cell_type": "code",
   "execution_count": 7,
   "id": "1415477e",
   "metadata": {},
   "outputs": [
    {
     "data": {
      "text/plain": [
       "{'allMasked': '____________',\n",
       " 'early': '_y__________',\n",
       " 'quarterRevealed': 'my__________',\n",
       " 'midRevealed': 'my__o_oe___e',\n",
       " 'midLateRevealed': 'myt_o_oeti_e',\n",
       " 'lateRevealed': 'mytho_oetize',\n",
       " 'nearEnd': 'mytho_oetize'}"
      ]
     },
     "execution_count": 7,
     "metadata": {},
     "output_type": "execute_result"
    }
   ],
   "source": [
    "# word = \"mississippi\"\n",
    "word = \"mythopoetize\"\n",
    "# word = \"cat\"\n",
    "\n",
    "initial_states = process_word_for_six_states(word)\n",
    "\n",
    "initial_states"
   ]
  },
  {
   "cell_type": "code",
   "execution_count": 8,
   "id": "4c3da54c",
   "metadata": {
    "execution": {
     "iopub.execute_input": "2023-11-24T22:23:44.317155Z",
     "iopub.status.busy": "2023-11-24T22:23:44.317069Z",
     "iopub.status.idle": "2023-11-24T22:23:44.319452Z",
     "shell.execute_reply": "2023-11-24T22:23:44.319138Z"
    },
    "papermill": {
     "duration": 0.005907,
     "end_time": "2023-11-24T22:23:44.320079",
     "exception": false,
     "start_time": "2023-11-24T22:23:44.314172",
     "status": "completed"
    },
    "tags": []
   },
   "outputs": [
    {
     "data": {
      "text/plain": [
       "7"
      ]
     },
     "execution_count": 8,
     "metadata": {},
     "output_type": "execute_result"
    }
   ],
   "source": [
    "len(initial_states)"
   ]
  },
  {
   "cell_type": "code",
   "execution_count": 9,
   "id": "d5cffa5f",
   "metadata": {
    "execution": {
     "iopub.execute_input": "2023-11-24T22:23:44.326727Z",
     "iopub.status.busy": "2023-11-24T22:23:44.326580Z",
     "iopub.status.idle": "2023-11-24T22:23:44.329649Z",
     "shell.execute_reply": "2023-11-24T22:23:44.329220Z"
    },
    "papermill": {
     "duration": 0.007091,
     "end_time": "2023-11-24T22:23:44.330204",
     "exception": false,
     "start_time": "2023-11-24T22:23:44.323113",
     "status": "completed"
    },
    "tags": []
   },
   "outputs": [
    {
     "data": {
      "text/plain": [
       "{'allMasked': '____________',\n",
       " 'early': '_y__________',\n",
       " 'quarterRevealed': 'my__________',\n",
       " 'midRevealed': 'my__o_oe___e',\n",
       " 'midLateRevealed': 'myt_o_oeti_e',\n",
       " 'lateRevealed': 'mytho_oetize',\n",
       " 'nearEnd': 'mytho_oetize'}"
      ]
     },
     "execution_count": 9,
     "metadata": {},
     "output_type": "execute_result"
    }
   ],
   "source": [
    "initial_states"
   ]
  },
  {
   "cell_type": "markdown",
   "id": "01da2152",
   "metadata": {
    "papermill": {
     "duration": 0.002642,
     "end_time": "2023-11-24T22:23:44.335321",
     "exception": false,
     "start_time": "2023-11-24T22:23:44.332679",
     "status": "completed"
    },
    "tags": []
   },
   "source": [
    "##### Dataset Generation: Simulation"
   ]
  },
  {
   "cell_type": "code",
   "execution_count": 10,
   "id": "b3dfd089",
   "metadata": {},
   "outputs": [
    {
     "name": "stdout",
     "output_type": "stream",
     "text": [
      "Generated Initial States:  {'allMasked': '___________', 'early': 'm__________', 'quarterRevealed': 'm__________', 'midRevealed': 'm_______pp_', 'midLateRevealed': 'm_ss_ss_pp_', 'lateRevealed': 'm_ss_ss_pp_', 'nearEnd': 'm_ss_ss_pp_'}\n"
     ]
    }
   ],
   "source": [
    "word = \"mississippi\"\n",
    "\n",
    "initial_states = process_word_for_six_states(word)\n",
    "\n",
    "# print(initial_states)\n",
    "# Print generated initial states\n",
    "print(\"Generated Initial States: \", initial_states)"
   ]
  },
  {
   "cell_type": "code",
   "execution_count": 11,
   "id": "f65e7334",
   "metadata": {},
   "outputs": [
    {
     "name": "stdout",
     "output_type": "stream",
     "text": [
      "Generated Initial States:\n",
      "___________\n",
      "1: For initial state: ___________\n",
      "Guessed: 'd', New State: '___________', Correct: False\n",
      "Guessed: 'c', New State: '___________', Correct: False\n",
      "Guessed: 'u', New State: '___________', Correct: False\n",
      "Guessed: 'l', New State: '___________', Correct: False\n",
      "Guessed: 'p', New State: '________pp_', Correct: True\n",
      "Guessed: 'y', New State: '________pp_', Correct: False\n",
      "Guessed: 'i', New State: '_i__i__ippi', Correct: True\n",
      "Guessed: 'm', New State: 'mi__i__ippi', Correct: True\n",
      "Guessed: 'w', New State: 'mi__i__ippi', Correct: False\n",
      "m__________\n",
      "2: For initial state: m__________\n",
      "Guessed: 'd', New State: 'm__________', Correct: False\n",
      "Guessed: 'r', New State: 'm__________', Correct: False\n",
      "Guessed: 'i', New State: 'mi__i__i__i', Correct: True\n",
      "Guessed: 'f', New State: 'mi__i__i__i', Correct: False\n",
      "Guessed: 's', New State: 'mississi__i', Correct: True\n",
      "Guessed: 'p', New State: 'mississippi', Correct: True\n",
      "m__________\n",
      "3: For initial state: m__________\n",
      "Guessed: 'g', New State: 'm__________', Correct: False\n",
      "Guessed: 'i', New State: 'mi__i__i__i', Correct: True\n",
      "Guessed: 'x', New State: 'mi__i__i__i', Correct: False\n",
      "Guessed: 'p', New State: 'mi__i__ippi', Correct: True\n",
      "Guessed: 'k', New State: 'mi__i__ippi', Correct: False\n",
      "Guessed: 's', New State: 'mississippi', Correct: True\n",
      "m_______pp_\n",
      "4: For initial state: m_______pp_\n",
      "Guessed: 's', New State: 'm_ss_ss_pp_', Correct: True\n",
      "Guessed: 'i', New State: 'mississippi', Correct: True\n",
      "mi__i__ippi\n",
      "5: For initial state: mi__i__ippi\n",
      "Guessed: 's', New State: 'mississippi', Correct: True\n",
      "mi__i__ippi\n",
      "6: For initial state: mi__i__ippi\n",
      "Guessed: 's', New State: 'mississippi', Correct: True\n",
      "mi__i__ippi\n",
      "7: For initial state: mi__i__ippi\n",
      "Guessed: 's', New State: 'mississippi', Correct: True\n"
     ]
    }
   ],
   "source": [
    "from scr.game import simulate_game_progress, \\\n",
    "    play_game_with_a_word, process_word\n",
    "\n",
    "# Example word and initial state\n",
    "# Example usage\n",
    "word = \"mississippi\"\n",
    "# word = \"cat\"\n",
    "\n",
    "initial_states = process_word_for_six_states(word)\n",
    "\n",
    "# print(initial_states)\n",
    "# Print generated initial states\n",
    "print(\"Generated Initial States:\")\n",
    "i = 1 \n",
    "for state_name, initial_state in initial_states.items():\n",
    "    # Simulate the game\n",
    "    print(initial_state)\n",
    "    print(f\"{i}: For initial state: {initial_state}\")\n",
    "    won, game_progress = simulate_game_progress(\n",
    "        model=None,  # Assuming model is not used in this example\n",
    "        word=word, \n",
    "        initial_state=initial_state, \n",
    "        char_frequency={},  # Assuming char_frequency is not used in this example\n",
    "        max_word_length=len(word), \n",
    "        device=None,  # Assuming device is not used in this example\n",
    "        max_attempts=6, \n",
    "        normalize=True,\n",
    "        difficulty=\"medium\", \n",
    "        outcome_preference='win'\n",
    "    )\n",
    "\n",
    "    # Display game progress\n",
    "    for step in game_progress:\n",
    "        print(f\"Guessed: '{step[0]}', New State: '{step[1]}', Correct: {step[2]}\")\n",
    "\n",
    "        # break\n",
    "\n",
    "    i+=1\n",
    "\n",
    "    # break\n",
    "\n",
    "    # print(\"Game Result:\", \"Won\" if won else \"Lost\")"
   ]
  },
  {
   "cell_type": "markdown",
   "id": "8955b2cc",
   "metadata": {},
   "source": [
    "##### Writing Parquet"
   ]
  },
  {
   "cell_type": "code",
   "execution_count": 12,
   "id": "fe2eb7d1",
   "metadata": {},
   "outputs": [],
   "source": [
    "import pandas as pd\n",
    "import pyarrow as pa\n",
    "import pyarrow.parquet as pq\n",
    "from tqdm import tqdm\n",
    "from sklearn.model_selection import train_test_split\n",
    "\n",
    "# Assuming the function 'process_word_for_six_states' is defined elsewhere\n",
    "from scr.game import simulate_game_progress, process_word_for_six_states\n",
    "\n",
    "def process_batch_to_parquet(batch, file_path, start_game_counter):\n",
    "    game_counter = start_game_counter\n",
    "    data_for_parquet = []\n",
    "\n",
    "    for game_data in batch:\n",
    "        word, state_name, initial_state, difficulty, outcome, won, game_progress = game_data\n",
    "        if not game_progress:\n",
    "            continue\n",
    "\n",
    "        final_state = game_progress[-1][1]\n",
    "        guessed_states = [initial_state] + [state for _, state, _ in game_progress]\n",
    "        guessed_letters = [letter for letter, _, _ in game_progress]\n",
    "\n",
    "        data_for_parquet.append({\n",
    "            'game_id': game_counter,\n",
    "            'word': word,\n",
    "            'initial_state': initial_state,\n",
    "            'final_state': final_state,\n",
    "            'guessed_states': ','.join(guessed_states[:-1]),\n",
    "            'guessed_letters': ','.join(guessed_letters),\n",
    "            'game_state': state_name,\n",
    "            'difficulty': difficulty,\n",
    "            'outcome': outcome,\n",
    "            'word_length': len(word),\n",
    "            'won': won\n",
    "        })\n",
    "\n",
    "        game_counter += 1\n",
    "\n",
    "    df = pd.DataFrame(data_for_parquet)\n",
    "    table = pa.Table.from_pandas(df)\n",
    "    pq.write_to_dataset(table, root_path=file_path, compression='snappy')\n",
    "\n",
    "    return game_counter\n",
    "\n",
    "def generate_batch_for_word(word):\n",
    "    batch = []\n",
    "    initial_states = process_word_for_six_states(word)\n",
    "    games_generated = 0  # Counter for games generated\n",
    "\n",
    "    for state_name, initial_state in initial_states.items():\n",
    "        for difficulty in [\"easy\", \"medium\", \"hard\"]:\n",
    "            for outcome in [\"win\", \"lose\"]:\n",
    "                won, game_progress = simulate_game_progress(\n",
    "                    model=None, word=word, initial_state=initial_state,\n",
    "                    char_frequency={}, max_word_length=len(word),\n",
    "                    device=None, max_attempts=6, normalize=True,\n",
    "                    difficulty=difficulty, outcome_preference=outcome\n",
    "                )\n",
    "                batch.append((word, state_name, initial_state, \\\n",
    "                    difficulty, outcome, won, game_progress))\n",
    "                games_generated += 1  # Increment game counter\n",
    "\n",
    "    return batch, games_generated\n",
    "\n",
    "def main_execution(words, parquet_path):\n",
    "    game_counter = 0\n",
    "    games_per_word = len(initial_states) * 3 * 2  # 7 states, 3 difficulties, 2 outcomes\n",
    "\n",
    "    for word in tqdm(words, desc=\"Processing Words\"):\n",
    "        batch, games_generated = generate_batch_for_word(word)\n",
    "\n",
    "        # Update game count\n",
    "        game_counter += games_generated\n",
    "\n",
    "        # Process and save batch\n",
    "        process_batch_to_parquet(batch, parquet_path, game_counter)\n",
    "\n",
    "    print(f\"Total games processed: {game_counter}\")"
   ]
  },
  {
   "cell_type": "code",
   "execution_count": 13,
   "id": "8153b488",
   "metadata": {},
   "outputs": [
    {
     "name": "stderr",
     "output_type": "stream",
     "text": [
      "Processing Words: 100%|██████████| 207/207 [00:00<00:00, 285.70it/s]"
     ]
    },
    {
     "name": "stdout",
     "output_type": "stream",
     "text": [
      "Total games processed: 8694\n"
     ]
    },
    {
     "name": "stderr",
     "output_type": "stream",
     "text": [
      "\n"
     ]
    }
   ],
   "source": [
    "# =======================================================\n",
    "# Execute the main function\n",
    "main_execution(sampled_words_by_length, parquet_path)\n",
    "# ======================================================="
   ]
  },
  {
   "cell_type": "markdown",
   "id": "612692c7",
   "metadata": {},
   "source": [
    "##### Checking the dataset "
   ]
  },
  {
   "cell_type": "code",
   "execution_count": 14,
   "id": "fe078175",
   "metadata": {},
   "outputs": [
    {
     "name": "stdout",
     "output_type": "stream",
     "text": [
      "Total number of game sequences across all files: 8658\n"
     ]
    }
   ],
   "source": [
    "import pandas as pd\n",
    "from pathlib import Path\n",
    "\n",
    "\n",
    "# Find all Parquet files in the directory\n",
    "parquet_files = list(parquet_path.glob('*.parquet'))\n",
    "\n",
    "if parquet_files:\n",
    "    total_game_sequences = 0\n",
    "\n",
    "    # Iterate over each file and sum the number of game sequences\n",
    "    for file in parquet_files:\n",
    "        df = pd.read_parquet(file)\n",
    "        total_game_sequences += len(df)\n",
    "\n",
    "    print(f\"Total number of game sequences across all files: {total_game_sequences}\")\n",
    "else:\n",
    "    print(\"No Parquet files found in the specified directory.\")\n"
   ]
  },
  {
   "cell_type": "code",
   "execution_count": 15,
   "id": "d6bea88d",
   "metadata": {},
   "outputs": [
    {
     "name": "stdout",
     "output_type": "stream",
     "text": [
      "Total number of games in the dataset: 8658\n",
      "Null values in each column:\n",
      "game_id            0\n",
      "word               0\n",
      "initial_state      0\n",
      "final_state        0\n",
      "guessed_states     0\n",
      "guessed_letters    0\n",
      "game_state         0\n",
      "difficulty         0\n",
      "outcome            0\n",
      "word_length        0\n",
      "won                0\n",
      "dtype: int64\n",
      "\n",
      "Summary statistics:\n",
      "           game_id  word_length\n",
      "count  8658.000000  8658.000000\n",
      "mean   4375.514553    12.502426\n",
      "std    2506.980863     5.490101\n",
      "min      42.000000     1.000000\n",
      "25%    2206.250000     8.000000\n",
      "50%    4370.500000    12.000000\n",
      "75%    6534.750000    17.000000\n",
      "max    8735.000000    29.000000\n",
      "\n",
      "Number of unique words: 207\n",
      "\n",
      "Outcome distribution:\n",
      "outcome\n",
      "win     4329\n",
      "lose    4329\n",
      "Name: count, dtype: int64\n",
      "\n",
      "Difficulty distribution:\n",
      "difficulty\n",
      "easy      2886\n",
      "medium    2886\n",
      "hard      2886\n",
      "Name: count, dtype: int64\n",
      "\n",
      "Word Length Distribution:\n",
      "word_length\n",
      "9     714\n",
      "8     672\n",
      "10    630\n",
      "12    546\n",
      "7     546\n",
      "11    504\n",
      "13    462\n",
      "6     462\n",
      "14    420\n",
      "15    378\n",
      "18    378\n",
      "17    378\n",
      "16    378\n",
      "21    336\n",
      "19    336\n",
      "20    336\n",
      "5     294\n",
      "22    210\n",
      "4     168\n",
      "23    126\n",
      "3     114\n",
      "24     84\n",
      "2      72\n",
      "29     42\n",
      "25     42\n",
      "1      30\n",
      "Name: count, dtype: int64\n"
     ]
    }
   ],
   "source": [
    "import pandas as pd\n",
    "import glob\n",
    "from pathlib import Path\n",
    "\n",
    "# Use glob to find all Parquet files in the folder\n",
    "parquet_files = parquet_path.glob('*.parquet')\n",
    "\n",
    "# Read and concatenate all Parquet files into a single DataFrame\n",
    "df = pd.concat([pd.read_parquet(file) for file in \\\n",
    "    parquet_files], ignore_index=True)\n",
    "\n",
    "# # Display the first few rows of the DataFrame\n",
    "# print(df.head())\n",
    "\n",
    "# Get the total number of rows (games) in the DataFrame\n",
    "total_games = len(df)\n",
    "print(f\"Total number of games in the dataset: {total_games}\")\n",
    "\n",
    "# Additional checks and summary statistics\n",
    "print(\"Null values in each column:\")\n",
    "print(df.isnull().sum())\n",
    "\n",
    "print(\"\\nSummary statistics:\")\n",
    "print(df.describe())\n",
    "\n",
    "# Count the number of unique words or game states\n",
    "unique_words = df['word'].nunique()\n",
    "print(f\"\\nNumber of unique words: {unique_words}\")\n",
    "\n",
    "# Inspect the distribution of game outcomes, difficulties, etc.\n",
    "print(\"\\nOutcome distribution:\")\n",
    "print(df['outcome'].value_counts())\n",
    "\n",
    "print(\"\\nDifficulty distribution:\")\n",
    "print(df['difficulty'].value_counts())\n",
    "\n",
    "# Word length distribution\n",
    "print(\"\\nWord Length Distribution:\")\n",
    "print(df['word_length'].value_counts())"
   ]
  },
  {
   "cell_type": "code",
   "execution_count": 16,
   "id": "e5a2b185",
   "metadata": {},
   "outputs": [
    {
     "data": {
      "text/html": [
       "<div>\n",
       "<style scoped>\n",
       "    .dataframe tbody tr th:only-of-type {\n",
       "        vertical-align: middle;\n",
       "    }\n",
       "\n",
       "    .dataframe tbody tr th {\n",
       "        vertical-align: top;\n",
       "    }\n",
       "\n",
       "    .dataframe thead th {\n",
       "        text-align: right;\n",
       "    }\n",
       "</style>\n",
       "<table border=\"1\" class=\"dataframe\">\n",
       "  <thead>\n",
       "    <tr style=\"text-align: right;\">\n",
       "      <th></th>\n",
       "      <th>game_id</th>\n",
       "      <th>word</th>\n",
       "      <th>initial_state</th>\n",
       "      <th>final_state</th>\n",
       "      <th>guessed_states</th>\n",
       "      <th>guessed_letters</th>\n",
       "      <th>game_state</th>\n",
       "      <th>difficulty</th>\n",
       "      <th>outcome</th>\n",
       "      <th>word_length</th>\n",
       "      <th>won</th>\n",
       "    </tr>\n",
       "  </thead>\n",
       "  <tbody>\n",
       "    <tr>\n",
       "      <th>0</th>\n",
       "      <td>6930</td>\n",
       "      <td>overconscientiousness</td>\n",
       "      <td>_____________________</td>\n",
       "      <td>overconscientiousness</td>\n",
       "      <td>_____________________,_____________________,__...</td>\n",
       "      <td>f,u,d,v,t,o,c,r,e,i,q,s,z,n</td>\n",
       "      <td>allMasked</td>\n",
       "      <td>easy</td>\n",
       "      <td>win</td>\n",
       "      <td>21</td>\n",
       "      <td>True</td>\n",
       "    </tr>\n",
       "    <tr>\n",
       "      <th>1</th>\n",
       "      <td>6931</td>\n",
       "      <td>overconscientiousness</td>\n",
       "      <td>_____________________</td>\n",
       "      <td>overconscientiousness</td>\n",
       "      <td>_____________________,_____________________,__...</td>\n",
       "      <td>l,r,x,c,n,u,w,v,y,i,s,e,o,t</td>\n",
       "      <td>allMasked</td>\n",
       "      <td>easy</td>\n",
       "      <td>lose</td>\n",
       "      <td>21</td>\n",
       "      <td>True</td>\n",
       "    </tr>\n",
       "    <tr>\n",
       "      <th>2</th>\n",
       "      <td>6932</td>\n",
       "      <td>overconscientiousness</td>\n",
       "      <td>_____________________</td>\n",
       "      <td>o__r_o_s______ous__ss</td>\n",
       "      <td>_____________________,_____________________,__...</td>\n",
       "      <td>h,u,z,a,r,b,s,g,o,x</td>\n",
       "      <td>allMasked</td>\n",
       "      <td>medium</td>\n",
       "      <td>win</td>\n",
       "      <td>21</td>\n",
       "      <td>False</td>\n",
       "    </tr>\n",
       "    <tr>\n",
       "      <th>3</th>\n",
       "      <td>6933</td>\n",
       "      <td>overconscientiousness</td>\n",
       "      <td>_____________________</td>\n",
       "      <td>ov_r_o___i___io______</td>\n",
       "      <td>_____________________,_v___________________,_v...</td>\n",
       "      <td>v,j,f,z,o,r,k,i,p,d</td>\n",
       "      <td>allMasked</td>\n",
       "      <td>medium</td>\n",
       "      <td>lose</td>\n",
       "      <td>21</td>\n",
       "      <td>False</td>\n",
       "    </tr>\n",
       "    <tr>\n",
       "      <th>4</th>\n",
       "      <td>6934</td>\n",
       "      <td>overconscientiousness</td>\n",
       "      <td>_____________________</td>\n",
       "      <td>____c___c____________</td>\n",
       "      <td>_____________________,____c___c____________,__...</td>\n",
       "      <td>c,a,j,z,q,k,x</td>\n",
       "      <td>allMasked</td>\n",
       "      <td>hard</td>\n",
       "      <td>win</td>\n",
       "      <td>21</td>\n",
       "      <td>False</td>\n",
       "    </tr>\n",
       "    <tr>\n",
       "      <th>...</th>\n",
       "      <td>...</td>\n",
       "      <td>...</td>\n",
       "      <td>...</td>\n",
       "      <td>...</td>\n",
       "      <td>...</td>\n",
       "      <td>...</td>\n",
       "      <td>...</td>\n",
       "      <td>...</td>\n",
       "      <td>...</td>\n",
       "      <td>...</td>\n",
       "      <td>...</td>\n",
       "    </tr>\n",
       "    <tr>\n",
       "      <th>8653</th>\n",
       "      <td>499</td>\n",
       "      <td>discarded</td>\n",
       "      <td>_iscar_e_</td>\n",
       "      <td>discarded</td>\n",
       "      <td>_iscar_e_</td>\n",
       "      <td>d</td>\n",
       "      <td>nearEnd</td>\n",
       "      <td>easy</td>\n",
       "      <td>lose</td>\n",
       "      <td>9</td>\n",
       "      <td>True</td>\n",
       "    </tr>\n",
       "    <tr>\n",
       "      <th>8654</th>\n",
       "      <td>500</td>\n",
       "      <td>discarded</td>\n",
       "      <td>_iscar_e_</td>\n",
       "      <td>discarded</td>\n",
       "      <td>_iscar_e_</td>\n",
       "      <td>d</td>\n",
       "      <td>nearEnd</td>\n",
       "      <td>medium</td>\n",
       "      <td>win</td>\n",
       "      <td>9</td>\n",
       "      <td>True</td>\n",
       "    </tr>\n",
       "    <tr>\n",
       "      <th>8655</th>\n",
       "      <td>501</td>\n",
       "      <td>discarded</td>\n",
       "      <td>_iscar_e_</td>\n",
       "      <td>discarded</td>\n",
       "      <td>_iscar_e_,_iscar_e_,_iscar_e_</td>\n",
       "      <td>v,u,d</td>\n",
       "      <td>nearEnd</td>\n",
       "      <td>medium</td>\n",
       "      <td>lose</td>\n",
       "      <td>9</td>\n",
       "      <td>True</td>\n",
       "    </tr>\n",
       "    <tr>\n",
       "      <th>8656</th>\n",
       "      <td>502</td>\n",
       "      <td>discarded</td>\n",
       "      <td>_iscar_e_</td>\n",
       "      <td>_iscar_e_</td>\n",
       "      <td>_iscar_e_,_iscar_e_,_iscar_e_,_iscar_e_,_iscar...</td>\n",
       "      <td>k,p,x,o,l,v</td>\n",
       "      <td>nearEnd</td>\n",
       "      <td>hard</td>\n",
       "      <td>win</td>\n",
       "      <td>9</td>\n",
       "      <td>False</td>\n",
       "    </tr>\n",
       "    <tr>\n",
       "      <th>8657</th>\n",
       "      <td>503</td>\n",
       "      <td>discarded</td>\n",
       "      <td>_iscar_e_</td>\n",
       "      <td>_iscar_e_</td>\n",
       "      <td>_iscar_e_,_iscar_e_,_iscar_e_,_iscar_e_,_iscar...</td>\n",
       "      <td>x,t,w,l,p,n</td>\n",
       "      <td>nearEnd</td>\n",
       "      <td>hard</td>\n",
       "      <td>lose</td>\n",
       "      <td>9</td>\n",
       "      <td>False</td>\n",
       "    </tr>\n",
       "  </tbody>\n",
       "</table>\n",
       "<p>8658 rows × 11 columns</p>\n",
       "</div>"
      ],
      "text/plain": [
       "      game_id                   word          initial_state  \\\n",
       "0        6930  overconscientiousness  _____________________   \n",
       "1        6931  overconscientiousness  _____________________   \n",
       "2        6932  overconscientiousness  _____________________   \n",
       "3        6933  overconscientiousness  _____________________   \n",
       "4        6934  overconscientiousness  _____________________   \n",
       "...       ...                    ...                    ...   \n",
       "8653      499              discarded              _iscar_e_   \n",
       "8654      500              discarded              _iscar_e_   \n",
       "8655      501              discarded              _iscar_e_   \n",
       "8656      502              discarded              _iscar_e_   \n",
       "8657      503              discarded              _iscar_e_   \n",
       "\n",
       "                final_state  \\\n",
       "0     overconscientiousness   \n",
       "1     overconscientiousness   \n",
       "2     o__r_o_s______ous__ss   \n",
       "3     ov_r_o___i___io______   \n",
       "4     ____c___c____________   \n",
       "...                     ...   \n",
       "8653              discarded   \n",
       "8654              discarded   \n",
       "8655              discarded   \n",
       "8656              _iscar_e_   \n",
       "8657              _iscar_e_   \n",
       "\n",
       "                                         guessed_states  \\\n",
       "0     _____________________,_____________________,__...   \n",
       "1     _____________________,_____________________,__...   \n",
       "2     _____________________,_____________________,__...   \n",
       "3     _____________________,_v___________________,_v...   \n",
       "4     _____________________,____c___c____________,__...   \n",
       "...                                                 ...   \n",
       "8653                                          _iscar_e_   \n",
       "8654                                          _iscar_e_   \n",
       "8655                      _iscar_e_,_iscar_e_,_iscar_e_   \n",
       "8656  _iscar_e_,_iscar_e_,_iscar_e_,_iscar_e_,_iscar...   \n",
       "8657  _iscar_e_,_iscar_e_,_iscar_e_,_iscar_e_,_iscar...   \n",
       "\n",
       "                  guessed_letters game_state difficulty outcome  word_length  \\\n",
       "0     f,u,d,v,t,o,c,r,e,i,q,s,z,n  allMasked       easy     win           21   \n",
       "1     l,r,x,c,n,u,w,v,y,i,s,e,o,t  allMasked       easy    lose           21   \n",
       "2             h,u,z,a,r,b,s,g,o,x  allMasked     medium     win           21   \n",
       "3             v,j,f,z,o,r,k,i,p,d  allMasked     medium    lose           21   \n",
       "4                   c,a,j,z,q,k,x  allMasked       hard     win           21   \n",
       "...                           ...        ...        ...     ...          ...   \n",
       "8653                            d    nearEnd       easy    lose            9   \n",
       "8654                            d    nearEnd     medium     win            9   \n",
       "8655                        v,u,d    nearEnd     medium    lose            9   \n",
       "8656                  k,p,x,o,l,v    nearEnd       hard     win            9   \n",
       "8657                  x,t,w,l,p,n    nearEnd       hard    lose            9   \n",
       "\n",
       "        won  \n",
       "0      True  \n",
       "1      True  \n",
       "2     False  \n",
       "3     False  \n",
       "4     False  \n",
       "...     ...  \n",
       "8653   True  \n",
       "8654   True  \n",
       "8655   True  \n",
       "8656  False  \n",
       "8657  False  \n",
       "\n",
       "[8658 rows x 11 columns]"
      ]
     },
     "execution_count": 16,
     "metadata": {},
     "output_type": "execute_result"
    }
   ],
   "source": [
    "import pandas as pd\n",
    "\n",
    "# # Replace this with the path to your Parquet file\n",
    "# parquet_file_path = 'path/to/your/HangmanData.parquet'\n",
    "\n",
    "# Read the Parquet file\n",
    "df = pd.read_parquet(parquet_path)\n",
    "\n",
    "# Display the first few rows of the DataFrame\n",
    "df"
   ]
  },
  {
   "cell_type": "code",
   "execution_count": 17,
   "id": "7878ebe3",
   "metadata": {},
   "outputs": [
    {
     "name": "stdout",
     "output_type": "stream",
     "text": [
      "Total number of games in the dataset: 8658\n",
      "game_id            0\n",
      "word               0\n",
      "initial_state      0\n",
      "final_state        0\n",
      "guessed_states     0\n",
      "guessed_letters    0\n",
      "game_state         0\n",
      "difficulty         0\n",
      "outcome            0\n",
      "word_length        0\n",
      "won                0\n",
      "dtype: int64\n",
      "           game_id  word_length\n",
      "count  8658.000000  8658.000000\n",
      "mean   4375.514553    12.502426\n",
      "std    2506.980863     5.490101\n",
      "min      42.000000     1.000000\n",
      "25%    2206.250000     8.000000\n",
      "50%    4370.500000    12.000000\n",
      "75%    6534.750000    17.000000\n",
      "max    8735.000000    29.000000\n",
      "Number of unique words: 207\n",
      "outcome\n",
      "win     4329\n",
      "lose    4329\n",
      "Name: count, dtype: int64\n",
      "difficulty\n",
      "easy      2886\n",
      "medium    2886\n",
      "hard      2886\n",
      "Name: count, dtype: int64\n"
     ]
    }
   ],
   "source": [
    "# Get the total number of rows (games) in the DataFrame\n",
    "total_games = len(df)\n",
    "\n",
    "print(f\"Total number of games in the dataset: {total_games}\")\n",
    "\n",
    "# Additional checks you might want to perform:\n",
    "# - Check for any null values or anomalies in the data\n",
    "print(df.isnull().sum())\n",
    "\n",
    "# - Get a summary of the DataFrame\n",
    "print(df.describe())\n",
    "\n",
    "# - Count the number of unique words or game states\n",
    "unique_words = df['word'].nunique()\n",
    "print(f\"Number of unique words: {unique_words}\")\n",
    "\n",
    "# - Inspect the distribution of game outcomes, difficulties, etc.\n",
    "print(df['outcome'].value_counts())\n",
    "print(df['difficulty'].value_counts())"
   ]
  },
  {
   "cell_type": "markdown",
   "id": "43a7795d",
   "metadata": {},
   "source": [
    "##### Dataset Creation and train test split"
   ]
  },
  {
   "cell_type": "code",
   "execution_count": 1,
   "id": "0cbe602a",
   "metadata": {},
   "outputs": [
    {
     "ename": "NameError",
     "evalue": "name 'HangmanDataset' is not defined",
     "output_type": "error",
     "traceback": [
      "\u001b[0;31m---------------------------------------------------------------------------\u001b[0m",
      "\u001b[0;31mNameError\u001b[0m                                 Traceback (most recent call last)",
      "Cell \u001b[0;32mIn[1], line 2\u001b[0m\n\u001b[1;32m      1\u001b[0m \u001b[38;5;66;03m# Create datasets directly from the saved parquet files\u001b[39;00m\n\u001b[0;32m----> 2\u001b[0m hangman_dataset \u001b[38;5;241m=\u001b[39m \u001b[43mHangmanDataset\u001b[49m(parquet_path)\n",
      "\u001b[0;31mNameError\u001b[0m: name 'HangmanDataset' is not defined"
     ]
    }
   ],
   "source": [
    "# Create datasets directly from the saved parquet files\n",
    "hangman_dataset = HangmanDataset(parquet_path)\n",
    "# valid_dataset = HangmanDataset(parquet_valid_path)"
   ]
  },
  {
   "cell_type": "code",
   "execution_count": 19,
   "id": "87f36f97",
   "metadata": {},
   "outputs": [
    {
     "data": {
      "text/plain": [
       "{'game_id': 1407,\n",
       " 'word': 'maladapted',\n",
       " 'initial_state': ['_a_a_a_te_'],\n",
       " 'final_state': 'maladapted',\n",
       " 'guessed_states': ['_a_a_a_te_',\n",
       "  'ma_a_a_te_',\n",
       "  'ma_a_a_te_',\n",
       "  'ma_a_apte_',\n",
       "  'ma_a_apte_',\n",
       "  'mala_apte_'],\n",
       " 'guessed_letters': ['m', 'u', 'p', 'q', 'l', 'd'],\n",
       " 'game_state': 'midRevealed',\n",
       " 'difficulty': 'medium',\n",
       " 'outcome': 'lose',\n",
       " 'word_length': 10,\n",
       " 'won': False}"
      ]
     },
     "execution_count": 19,
     "metadata": {},
     "output_type": "execute_result"
    }
   ],
   "source": [
    "hangman_dataset[(29,)]"
   ]
  },
  {
   "cell_type": "code",
   "execution_count": 20,
   "id": "3e8561aa",
   "metadata": {},
   "outputs": [
    {
     "data": {
      "text/plain": [
       "{('easy', 'win'): 1443,\n",
       " ('easy', 'lose'): 1443,\n",
       " ('medium', 'win'): 1443,\n",
       " ('medium', 'lose'): 1443,\n",
       " ('hard', 'win'): 1443,\n",
       " ('hard', 'lose'): 1443}"
      ]
     },
     "execution_count": 20,
     "metadata": {},
     "output_type": "execute_result"
    }
   ],
   "source": [
    "hangman_dataset.get_group_info()"
   ]
  }
 ],
 "metadata": {
  "kernelspec": {
   "display_name": "optiver",
   "language": "python",
   "name": "python3"
  },
  "language_info": {
   "codemirror_mode": {
    "name": "ipython",
    "version": 3
   },
   "file_extension": ".py",
   "mimetype": "text/x-python",
   "name": "python",
   "nbconvert_exporter": "python",
   "pygments_lexer": "ipython3",
   "version": "3.10.13"
  },
  "papermill": {
   "default_parameters": {},
   "duration": null,
   "end_time": null,
   "environment_variables": {},
   "exception": null,
   "input_path": "/home/sayem/Desktop/Hangman/1_a_dataset_generation.ipynb",
   "output_path": "/home/sayem/Desktop/Hangman/1_a_dataset_generation.ipynb",
   "parameters": {},
   "start_time": "2023-11-24T22:23:41.671735",
   "version": "2.5.0"
  }
 },
 "nbformat": 4,
 "nbformat_minor": 5
}
