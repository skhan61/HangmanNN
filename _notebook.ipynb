{
 "cells": [
  {
   "cell_type": "markdown",
   "metadata": {},
   "source": [
    "##### Imports"
   ]
  },
  {
   "cell_type": "code",
   "execution_count": 1,
   "metadata": {},
   "outputs": [],
   "source": [
    "import sys\n",
    "from pathlib import Path\n",
    "import warnings\n",
    "\n",
    "import warnings\n",
    "import pandas as pd\n",
    "warnings.filterwarnings('ignore')\n",
    "\n",
    "pd.set_option('display.max_columns', 1000)\n",
    "pd.set_option('display.max_rows', 1000)\n",
    "\n",
    "import sys\n",
    "# Custom library paths\n",
    "sys.path.extend(['../', './scr'])\n",
    "\n",
    "from scr.utils import set_seed\n",
    "from scr.utils import read_words\n",
    "from pathlib import Path\n",
    "import random\n",
    "from collections import Counter, defaultdict\n",
    "import pickle\n",
    "from tqdm import tqdm\n",
    "from torch.utils.data import Dataset\n",
    "\n",
    "from scr.utils import read_words, save_words_to_file\n",
    "\n",
    "import pickle\n",
    "from pathlib import Path\n",
    "from scr.dataset import *\n",
    "from scr.utils import *\n",
    "# # For inference\n",
    "from scr.feature_engineering import *\n",
    "from scr.encoder import *\n",
    "from scr.trainer_ import *\n",
    "from scr.decoder import SimpleLSTM\n",
    "\n",
    "import gc\n",
    "\n",
    "set_seed(42)\n",
    "\n",
    "import torch\n",
    "import torch.nn as nn\n",
    "from pathlib import Path\n",
    "import random\n",
    "\n",
    "from scr.utils import print_scenarios\n",
    "torch.set_float32_matmul_precision('medium')\n",
    "from pathlib import Path\n",
    "\n",
    "# Device configuration\n",
    "device = torch.device(\"cuda\" if torch.cuda.is_available() else \"cpu\")\n",
    "\n",
    "# # Read and Shuffle Word List\n",
    "word_list = read_words('data/words_250000_train.txt') # , limit=10000)\n",
    "# word_list = read_words('data/250k.txt', limit=10000)\n",
    "\n",
    "random.shuffle(word_list)\n",
    "\n",
    "# Calculate Frequencies and Max Word Length\n",
    "word_frequencies = calculate_word_frequencies(word_list)\n",
    "char_frequency = calculate_char_frequencies(word_list)\n",
    "max_word_length = max(len(word) for word in word_list)"
   ]
  },
  {
   "cell_type": "markdown",
   "metadata": {},
   "source": [
    "##### Data Dir"
   ]
  },
  {
   "cell_type": "code",
   "execution_count": 2,
   "metadata": {},
   "outputs": [],
   "source": [
    "NUM_STRATIFIED_SAMPLES = 100 # This will be overwritten by Papermill\n",
    "\n",
    "NUM_WORD_SAMPLE = 1_00 # words for testing\n",
    "\n",
    "FAST_DEV_RUN = False\n",
    "\n",
    "MAX_EPOCH = 250"
   ]
  },
  {
   "cell_type": "code",
   "execution_count": 3,
   "metadata": {},
   "outputs": [
    {
     "name": "stdout",
     "output_type": "stream",
     "text": [
      "Length of the testing word list: 10048\n",
      "Sampled 230 unique words for testing.\n",
      "230\n"
     ]
    }
   ],
   "source": [
    "from pathlib import Path\n",
    "from scr.custom_sampler import *\n",
    "\n",
    "# Define the base directory and the paths for training and validation parquet files\n",
    "base_dataset_dir = Path(\"/media/sayem/510B93E12554BBD1/dataset/\")\n",
    "stratified_samples_dir = base_dataset_dir / str(NUM_STRATIFIED_SAMPLES)\n",
    "parquet_path = stratified_samples_dir / 'parquets'\n",
    "\n",
    "# Create directories for train and validation parquets if they don't exist\n",
    "parquet_path.mkdir(parents=True, exist_ok=True)\n",
    "# parquet_valid_path.mkdir(parents=True, exist_ok=True)\n",
    "\n",
    "# Define and create the directory for models\n",
    "models_dir = Path(\"/home/sayem/Desktop/Hangman/models\")\n",
    "models_dir.mkdir(parents=True, exist_ok=True)\n",
    "\n",
    "# Define your output directory\n",
    "# Define your output directory and logger directory\n",
    "output_dir = Path(\"/home/sayem/Desktop/Hangman/training_outputs\")\n",
    "logger_dir = output_dir / \"lightning_logs\"\n",
    "\n",
    "# Create the output and logger directories if they don't exist\n",
    "output_dir.mkdir(parents=True, exist_ok=True)\n",
    "logger_dir.mkdir(parents=True, exist_ok=True)\n",
    "\n",
    "# Define the file path for saving the testing words\n",
    "testing_words_file_path = stratified_samples_dir / \"testing_words.txt\"\n",
    "\n",
    "try:\n",
    "    testing_word_list = read_words(testing_words_file_path)\n",
    "    print(f\"Length of the testing word list: {len(testing_word_list)}\")\n",
    "    sampled_test_words = stratified_sample_by_length_and_uniqueness(testing_word_list, NUM_WORD_SAMPLE)\n",
    "    print(f\"Sampled {len(sampled_test_words)} unique words for testing.\")\n",
    "except FileNotFoundError:\n",
    "    print(f\"File not found: {testing_words_file_path}\")\n",
    "\n",
    "print(len(sampled_test_words))"
   ]
  },
  {
   "cell_type": "markdown",
   "metadata": {},
   "source": [
    "##### Dataset Loading and train test split"
   ]
  },
  {
   "cell_type": "code",
   "execution_count": 4,
   "metadata": {},
   "outputs": [],
   "source": [
    "# Create datasets directly from the saved parquet files\n",
    "hangman_dataset = HangmanDataset(parquet_path)\n",
    "# valid_dataset = HangmanDataset(parquet_valid_path)\n",
    "\n",
    "from scr.utils import *\n",
    "\n",
    "# Split the dataset into training and validation sets\n",
    "train_dataset, valid_dataset = hangman_dataset.split(test_size=0.2)"
   ]
  },
  {
   "cell_type": "code",
   "execution_count": 5,
   "metadata": {},
   "outputs": [
    {
     "name": "stdout",
     "output_type": "stream",
     "text": [
      "Total samples in original dataset: 8658\n",
      "Samples in training dataset: 6916\n",
      "Samples in validation dataset: 1742\n",
      "Training dataset sequence length distribution: {4: 456, 5: 412, 7: 936, 6: 344, 9: 666, 8: 852, 3: 597, 2: 1092, 11: 327, 14: 116, 10: 445, 12: 264, 18: 32, 17: 49, 15: 88, 16: 59, 13: 156, 19: 13, 20: 11, 21: 1}\n",
      "Validation dataset sequence length distribution: {4: 115, 5: 104, 7: 234, 6: 87, 9: 167, 8: 213, 3: 150, 2: 274, 11: 82, 14: 30, 10: 112, 12: 67, 18: 9, 17: 13, 15: 23, 16: 15, 13: 39, 19: 4, 20: 3, 21: 1}\n"
     ]
    }
   ],
   "source": [
    "def check_seq_len_distribution(dataset):\n",
    "    distribution = {}\n",
    "    for seq_len, indices in dataset.seq_len_index.items():\n",
    "        distribution[seq_len] = len(indices)\n",
    "    return distribution\n",
    "\n",
    "def check_seq_len_distribution(dataset):\n",
    "    distribution = {}\n",
    "    for seq_len, indices in dataset.seq_len_index.items():\n",
    "        distribution[seq_len] = len(indices)\n",
    "    return distribution\n",
    "\n",
    "# Check proportions\n",
    "print(f\"Total samples in original dataset: {len(hangman_dataset)}\")\n",
    "print(f\"Samples in training dataset: {len(train_dataset)}\")\n",
    "print(f\"Samples in validation dataset: {len(valid_dataset)}\")\n",
    "\n",
    "# Verify that the sum of train and validation samples equals the total samples\n",
    "assert len(train_dataset) + len(valid_dataset) == len(hangman_dataset), \"Mismatch in total sample count\"\n",
    "\n",
    "# Check sequence length distribution in each dataset\n",
    "train_distribution = check_seq_len_distribution(train_dataset)\n",
    "valid_distribution = check_seq_len_distribution(valid_dataset)\n",
    "\n",
    "print(\"Training dataset sequence length distribution:\", train_distribution)\n",
    "print(\"Validation dataset sequence length distribution:\", valid_distribution)\n",
    "\n",
    "# Ensure each sequence length is represented in both datasets\n",
    "assert set(train_distribution.keys()) == set(valid_distribution.keys()), \"Mismatch in sequence length representation\""
   ]
  },
  {
   "cell_type": "code",
   "execution_count": 6,
   "metadata": {},
   "outputs": [
    {
     "name": "stdout",
     "output_type": "stream",
     "text": [
      "Unique sequence lengths in training dataset: 20\n",
      "Unique sequence lengths in validation dataset: 20\n"
     ]
    }
   ],
   "source": [
    "def count_unique_seq_lens(dataset):\n",
    "    # Count the unique sequence lengths in the dataset\n",
    "    unique_seq_lens = len(dataset.seq_len_index)\n",
    "    return unique_seq_lens\n",
    "\n",
    "train_unique_seq_lens = count_unique_seq_lens(train_dataset)\n",
    "valid_unique_seq_lens = count_unique_seq_lens(valid_dataset)\n",
    "\n",
    "print(f\"Unique sequence lengths in training dataset: {train_unique_seq_lens}\")\n",
    "print(f\"Unique sequence lengths in validation dataset: {valid_unique_seq_lens}\")"
   ]
  },
  {
   "cell_type": "markdown",
   "metadata": {},
   "source": [
    "##### Model Initialization"
   ]
  },
  {
   "cell_type": "code",
   "execution_count": 7,
   "metadata": {},
   "outputs": [],
   "source": [
    "# Fixed parameters\n",
    "max_word_length = 29  # Maximum word length\n",
    "num_embeddings = 28   # Vocabulary size (fixed, based on unique characters in the game)\n",
    "num_features = 159     # Number of features per character\n",
    "missed_char_dim = 28  # Additional dimension for missed characters\n",
    "output_dim = 28       # Output dimension for the model\n",
    "char_feature_dim = 5  # Features per character\n",
    "additional_state_features = num_features \\\n",
    "    - max_word_length * char_feature_dim   # Additional features per state"
   ]
  },
  {
   "cell_type": "code",
   "execution_count": 8,
   "metadata": {},
   "outputs": [
    {
     "name": "stdout",
     "output_type": "stream",
     "text": [
      "Addition state fetatures: 14\n",
      "Model saved at /home/sayem/Desktop/Hangman/models/100_untrained_model.pth\n"
     ]
    }
   ],
   "source": [
    "# Tunable hyperparameters\n",
    "LEARNING_RATE = 0.0009279463391755308\n",
    "HIDDEN_DIM = 32 ### 32\n",
    "NUM_LAYERS = 1\n",
    "EMBEDDING_DIM = 50\n",
    "DROPOUT_PROB = 0.33\n",
    "\n",
    "L1_FACTOR = 0.0005236754641745983\n",
    "L2_FACTOR = 0.004375162823431166\n",
    "\n",
    "OPTIMIZER = 'RMSprop'\n",
    "\n",
    "print(f\"Addition state fetatures: {additional_state_features}\")\n",
    "# Initialize the Encoder\n",
    "\n",
    "encoder = Encoder(num_embeddings, EMBEDDING_DIM, max_word_length, \\\n",
    "    char_feature_dim, additional_state_features)\n",
    "\n",
    "input_dim = max_word_length * EMBEDDING_DIM + additional_state_features\n",
    "# Initialize the SimpleLSTM decoder\n",
    "decoder = SimpleLSTM(input_dim=input_dim, \n",
    "                     hidden_dim=HIDDEN_DIM, \n",
    "                     output_dim=output_dim, \n",
    "                     num_layers=NUM_LAYERS,\n",
    "                     missed_char_dim=missed_char_dim,\n",
    "                     dropout_prob=DROPOUT_PROB)\n",
    "\n",
    "\n",
    "# Initialize the HangmanModel\n",
    "lightning_model = HangmanModel(encoder, decoder, \n",
    "                LEARNING_RATE, char_frequency, \n",
    "                max_word_length, optimizer_type=OPTIMIZER, \\\n",
    "                l1_factor=L1_FACTOR,\n",
    "                l2_factor=L2_FACTOR, test_words=sampled_test_words)\n",
    "\n",
    "# Save the model's state dictionary\n",
    "untrained_model_file = models_dir / f\"{NUM_STRATIFIED_SAMPLES}_untrained_model.pth\"\n",
    "torch.save(lightning_model, untrained_model_file)\n",
    "print(f\"Model saved at {untrained_model_file}\")"
   ]
  },
  {
   "cell_type": "code",
   "execution_count": 9,
   "metadata": {},
   "outputs": [],
   "source": [
    "# # Load the entire LSTM model object\n",
    "# untrained_model_file_path = models_dir / f\"{NUM_STRATIFIED_SAMPLES}_trained_model.pth\"\n",
    "\n",
    "untrained_model = torch.load(untrained_model_file)"
   ]
  },
  {
   "cell_type": "code",
   "execution_count": 10,
   "metadata": {},
   "outputs": [],
   "source": [
    "word = 'apple'"
   ]
  },
  {
   "cell_type": "code",
   "execution_count": 11,
   "metadata": {},
   "outputs": [
    {
     "name": "stdout",
     "output_type": "stream",
     "text": [
      "Game Won: True\n",
      "Final Masked Word: apple\n",
      "Attempts Used: 5\n",
      "Sequence Length Stats: [{'masked_word': '_pp__', 'guess': 'p', 'correct_guess': True, 'attempts_remaining': 6, 'uncovered_letters': 2, 'correct_guesses_so_far': 1, 'incorrect_guesses_so_far': 0, 'guessed_letters': ['p']}, {'masked_word': '_ppl_', 'guess': 'l', 'correct_guess': True, 'attempts_remaining': 6, 'uncovered_letters': 3, 'correct_guesses_so_far': 2, 'incorrect_guesses_so_far': 0, 'guessed_letters': ['p', 'l']}, {'masked_word': '_ppl_', 'guess': 'h', 'correct_guess': False, 'attempts_remaining': 5, 'uncovered_letters': 3, 'correct_guesses_so_far': 2, 'incorrect_guesses_so_far': 1, 'guessed_letters': ['p', 'l', 'h']}, {'masked_word': '_ppl_', 'guess': 'y', 'correct_guess': False, 'attempts_remaining': 4, 'uncovered_letters': 3, 'correct_guesses_so_far': 2, 'incorrect_guesses_so_far': 2, 'guessed_letters': ['p', 'l', 'h', 'y']}, {'masked_word': '_ppl_', 'guess': 'u', 'correct_guess': False, 'attempts_remaining': 3, 'uncovered_letters': 3, 'correct_guesses_so_far': 2, 'incorrect_guesses_so_far': 3, 'guessed_letters': ['p', 'l', 'h', 'y', 'u']}, {'masked_word': '_pple', 'guess': 'e', 'correct_guess': True, 'attempts_remaining': 3, 'uncovered_letters': 4, 'correct_guesses_so_far': 3, 'incorrect_guesses_so_far': 3, 'guessed_letters': ['p', 'l', 'h', 'y', 'u', 'e']}, {'masked_word': '_pple', 'guess': 'm', 'correct_guess': False, 'attempts_remaining': 2, 'uncovered_letters': 4, 'correct_guesses_so_far': 3, 'incorrect_guesses_so_far': 4, 'guessed_letters': ['p', 'l', 'h', 'y', 'u', 'e', 'm']}, {'masked_word': '_pple', 'guess': 'i', 'correct_guess': False, 'attempts_remaining': 1, 'uncovered_letters': 4, 'correct_guesses_so_far': 3, 'incorrect_guesses_so_far': 5, 'guessed_letters': ['p', 'l', 'h', 'y', 'u', 'e', 'm', 'i']}, {'masked_word': 'apple', 'guess': 'a', 'correct_guess': True, 'attempts_remaining': 1, 'uncovered_letters': 5, 'correct_guesses_so_far': 4, 'incorrect_guesses_so_far': 5, 'guessed_letters': ['p', 'l', 'h', 'y', 'u', 'e', 'm', 'i', 'a']}]\n",
      "Sequence Length Evolution Summary: {'total_guesses': 9, 'seq_length_evolution': [2, 3, 3, 3, 3, 4, 4, 4, 5], 'final_uncovered_letters': 5, 'correct_guesses': 4, 'incorrect_guesses': 5}\n",
      "Simplified Summary: {'total_guesses': 9, 'final_uncovered_letters': 5, 'game_won': True}\n"
     ]
    }
   ],
   "source": [
    "# Assuming untrained_model, word, char_frequency, max_word_length are defined elsewhere\n",
    "result = play_game_with_a_word(untrained_model, word, char_frequency,\n",
    "                               max_word_length, max_attempts=6, normalize=True)\n",
    "\n",
    "# Unpack the results\n",
    "game_won, final_masked_word, attempts_used, seq_len_stats, seq_len_evolution_summary, simplified_summary = result\n",
    "\n",
    "# Print each result separately\n",
    "print(\"Game Won:\", game_won)\n",
    "print(\"Final Masked Word:\", final_masked_word)\n",
    "print(\"Attempts Used:\", attempts_used)\n",
    "print(\"Sequence Length Stats:\", seq_len_stats)\n",
    "print(\"Sequence Length Evolution Summary:\", seq_len_evolution_summary)\n",
    "print(\"Simplified Summary:\", simplified_summary)"
   ]
  },
  {
   "cell_type": "code",
   "execution_count": 12,
   "metadata": {},
   "outputs": [
    {
     "data": {
      "application/vnd.jupyter.widget-view+json": {
       "model_id": "757cd2dfab81450690de2041cf3ce82b",
       "version_major": 2,
       "version_minor": 0
      },
      "text/plain": [
       "Processing words:   0%|          | 0/230 [00:00<?, ?word/s]"
      ]
     },
     "metadata": {},
     "output_type": "display_data"
    }
   ],
   "source": [
    "\n",
    "# Example usage\n",
    "result = play_games_and_calculate_stats(untrained_model, \\\n",
    "    sampled_test_words, char_frequency, max_word_length)\n",
    "\n",
    "# print(f{result.keys()})\n",
    "\n",
    "# print(f\"Untrained model performence: {result['overall_win_rate']} % win rate\")\n",
    "\n",
    "# word_len_performance_metrics = result['length_wise_stats']\n",
    "\n",
    "# # print(performance_metrics)\n",
    "\n",
    "# from scr.utils import *\n",
    "\n",
    "# plot_hangman_stats(word_len_performance_metrics)\n",
    "\n",
    "# for length, data in word_len_performance_metrics.items():\n",
    "#     print(f\"Length {length}: Win Rate: {data['win_rate']}%, Average Attempts: {data['average_attempts_used']}\")"
   ]
  },
  {
   "cell_type": "code",
   "execution_count": 13,
   "metadata": {},
   "outputs": [
    {
     "data": {
      "text/plain": [
       "dict_keys(['stats', 'overall_win_rate', 'overall_avg_attempts', 'length_wise_stats', 'seq_len_level_stats', 'game_evolution_summaries', 'simplified_summaries'])"
      ]
     },
     "execution_count": 13,
     "metadata": {},
     "output_type": "execute_result"
    }
   ],
   "source": [
    "result.keys()"
   ]
  },
  {
   "cell_type": "code",
   "execution_count": 14,
   "metadata": {},
   "outputs": [
    {
     "name": "stdout",
     "output_type": "stream",
     "text": [
      "Total Guesses: 10, Mean Win Rate: 0.00%\n",
      "Total Guesses: 11, Mean Win Rate: 0.00%\n",
      "Total Guesses: 7, Mean Win Rate: 0.00%\n",
      "Total Guesses: 9, Mean Win Rate: 0.00%\n",
      "Total Guesses: 6, Mean Win Rate: 0.00%\n",
      "Total Guesses: 8, Mean Win Rate: 0.00%\n",
      "Total Guesses: 12, Mean Win Rate: 0.00%\n",
      "Total Guesses: 13, Mean Win Rate: 0.00%\n",
      "Total Guesses: 14, Mean Win Rate: 0.00%\n",
      "Total Guesses: 18, Mean Win Rate: 0.00%\n",
      "Total Guesses: 17, Mean Win Rate: 0.00%\n",
      "Total Guesses: 15, Mean Win Rate: 0.00%\n",
      "Total Guesses: 16, Mean Win Rate: 0.00%\n",
      "Total Guesses: 19, Mean Win Rate: 0.00%\n",
      "Total Guesses: 20, Mean Win Rate: 100.00%\n",
      "Total Guesses: 3, Mean Win Rate: 100.00%\n"
     ]
    }
   ],
   "source": [
    "# Example usage with the simplified_summaries data\n",
    "simplified_summaries = result[\"simplified_summaries\"]\n",
    "\n",
    "mean_win_rates = calculate_mean_win_rate_by_seq_length(simplified_summaries)\n",
    "\n",
    "# Print the mean win rates per unique total_guesses value\n",
    "for guesses, win_rate in mean_win_rates.items():\n",
    "    print(f\"Total Guesses: {guesses}, Mean Win Rate: {win_rate:.2f}%\")\n"
   ]
  },
  {
   "cell_type": "code",
   "execution_count": 15,
   "metadata": {},
   "outputs": [
    {
     "ename": "NameError",
     "evalue": "name 'eval_metrics' is not defined",
     "output_type": "error",
     "traceback": [
      "\u001b[0;31m---------------------------------------------------------------------------\u001b[0m",
      "\u001b[0;31mNameError\u001b[0m                                 Traceback (most recent call last)",
      "Cell \u001b[0;32mIn[15], line 1\u001b[0m\n\u001b[0;32m----> 1\u001b[0m \u001b[38;5;28mtype\u001b[39m(\u001b[43meval_metrics\u001b[49m[\u001b[38;5;124m\"\u001b[39m\u001b[38;5;124msimplified_summaries\u001b[39m\u001b[38;5;124m\"\u001b[39m][\u001b[38;5;241m0\u001b[39m])\n",
      "\u001b[0;31mNameError\u001b[0m: name 'eval_metrics' is not defined"
     ]
    }
   ],
   "source": [
    "type(eval_metrics[\"simplified_summaries\"][0])"
   ]
  },
  {
   "cell_type": "code",
   "execution_count": null,
   "metadata": {},
   "outputs": [],
   "source": [
    "STOP"
   ]
  },
  {
   "cell_type": "markdown",
   "metadata": {},
   "source": [
    "##### Data Module"
   ]
  },
  {
   "cell_type": "code",
   "execution_count": null,
   "metadata": {},
   "outputs": [],
   "source": [
    "from scr.data_module import *\n",
    "\n",
    "# Initialize Data Module\n",
    "initial_batch_size = 1024 # Set your initial batch size\n",
    "\n",
    "# Initialize Data Module with the required arguments\n",
    "data_module = HangmanDataModule(train_dataset, valid_dataset, \n",
    "                                initial_batch_size, \n",
    "                                new_custom_collate_fn)\n",
    "                                # performance_metrics=None)"
   ]
  },
  {
   "cell_type": "markdown",
   "metadata": {},
   "source": [
    "##### Testing on Untrained Model"
   ]
  },
  {
   "cell_type": "code",
   "execution_count": null,
   "metadata": {},
   "outputs": [],
   "source": [
    "## callbacks\n",
    "from pytorch_lightning.callbacks import Callback, EarlyStopping\n",
    "from scr.custom_callbacks import *\n",
    "\n",
    "# Setup EarlyStopping to monitor the test_win_rate\n",
    "early_stop_callback = EarlyStopping(\n",
    "    monitor='win_rate',\n",
    "    min_delta=0.00,\n",
    "    patience=10,\n",
    "    verbose=True,\n",
    "    mode='max'  # Maximize the win rate\n",
    ")\n",
    "\n",
    "step_level_early_stopping = StepLevelEarlyStopping(\n",
    "    monitor='val_miss_penalty', # Metric to monitor\n",
    "    min_delta=0.0,              # Minimum change to qualify as an improvement\n",
    "    patience=5                  # Number of steps with no improvement after which training will be stopped\n",
    ")"
   ]
  },
  {
   "cell_type": "code",
   "execution_count": null,
   "metadata": {},
   "outputs": [],
   "source": [
    "from pytorch_lightning.profilers import SimpleProfiler\n",
    "import pytorch_lightning as pl\n",
    "from scr.custom_callbacks import *\n",
    "from scr.dataset import *\n",
    "from scr.data_module import *\n",
    "from scr.trainer_ import *\n",
    "\n",
    "torch.cuda.empty_cache()\n",
    "\n",
    "# # Create Callbacks\n",
    "# loss_logging_callback = LossLoggingCallback()\n",
    "\n",
    "# , SchedulerSetupCallback()] # , loss_logging_callback]\n",
    "callbacks = [early_stop_callback] # , step_level_early_stopping] \n",
    "FAST_DEV_RUN = False\n",
    "# # Calculate the minimum percentage of validation batches\n",
    "# min_val_batches = 1 / len(data_module.val_dataloader())\n",
    "\n",
    "# # Create Trainer with Callbacks\n",
    "trainer = pl.Trainer(\n",
    "    default_root_dir=output_dir,\n",
    "    fast_dev_run=FAST_DEV_RUN, \n",
    "    max_epochs=MAX_EPOCH, \n",
    "    callbacks=callbacks,\n",
    "    num_sanity_val_steps=0,\n",
    "    # reload_dataloaders_every_n_epochs=1,\n",
    "    enable_progress_bar=True \n",
    "    # val_check_interval=0.5\n",
    "    # limit_train_batches=2,  # Limit the number of training batches to 2\n",
    "    # limit_val_batches=2     # Limit the number of validation batches to 2\n",
    ")\n",
    "\n",
    "# # # # # print(f\"Running for {NUM_STRATIFIED_SAMPLES} samples...\")\n",
    "# # # # print()\n",
    "# # # # # # # # # Assuming combined_eval_metrics is a list of dictionaries\n",
    "# combined_eval_metrics = trainer.validate(model=lightning_model, datamodule=data_module)\n",
    "\n",
    "# performance_metrics_dict = {k: v for d in combined_eval_metrics for k, v in d.items()}\n",
    "\n",
    "# # # # # # print(\"Converted Performance Metrics Dictb ionary:\", performance_metrics_dict)\n",
    "\n",
    "# # trainer.datamodule.update_performance_metrics(combined_eval_metrics)\n",
    "\n",
    "# data_module.update_performance_metrics(performance_metrics_dict)"
   ]
  },
  {
   "cell_type": "markdown",
   "metadata": {},
   "source": [
    "##### Tuning: lr"
   ]
  },
  {
   "cell_type": "code",
   "execution_count": null,
   "metadata": {},
   "outputs": [],
   "source": [
    "from pytorch_lightning.tuner.tuning import Tuner\n",
    "\n",
    "# Assuming lightning_model, train_loader, and val_loader are already defined\n",
    "# Initialize the tuner with your trainer\n",
    "tuner = Tuner(trainer)\n",
    "\n",
    "# Run the learning rate finder using the data module\n",
    "lr_finder = tuner.lr_find(model=lightning_model, \n",
    "                        datamodule=data_module)\n",
    "\n",
    "# Plot the learning rate finder results\n",
    "fig = lr_finder.plot(suggest=True)\n",
    "fig.show()\n",
    "\n",
    "# Get the suggested learning rate\n",
    "new_lr = lr_finder.suggestion()\n",
    "print(f\"Suggested Learning Rate: {new_lr}\")\n",
    "\n",
    "# Update model's learning rate\n",
    "lightning_model.learning_rate = new_lr\n",
    "\n",
    "# Optionally, you can view the results of the LR finder\n",
    "print(lr_finder.results)"
   ]
  },
  {
   "cell_type": "code",
   "execution_count": null,
   "metadata": {},
   "outputs": [],
   "source": [
    "# # Update model's learning rate\n",
    "# lightning_model.learning_rate = 0.017378008287493765 # new_lr"
   ]
  },
  {
   "cell_type": "markdown",
   "metadata": {},
   "source": [
    "##### Tuning: Batch"
   ]
  },
  {
   "cell_type": "code",
   "execution_count": null,
   "metadata": {},
   "outputs": [],
   "source": [
    "# # Assuming lightning_model is already defined\n",
    "# new_batch_size = tuner.scale_batch_size(\n",
    "#     model=lightning_model,\n",
    "#     datamodule=data_module,\n",
    "#     mode='power',  # or 'binsearch'\n",
    "#     steps_per_trial=10,\n",
    "#     init_val=1024,\n",
    "#     # max_trials=4\n",
    "# )\n",
    "\n",
    "# Update the batch size in the data module\n",
    "data_module.batch_size = 1024 # new_batch_size\n",
    "\n",
    "# print(f\"Tune Batch size: \", new_batch_size)"
   ]
  },
  {
   "cell_type": "markdown",
   "metadata": {},
   "source": [
    "##### Training"
   ]
  },
  {
   "cell_type": "code",
   "execution_count": null,
   "metadata": {},
   "outputs": [],
   "source": [
    "# # # # # Validate the model (if needed)\n",
    "# trainer.validate(model=lightning_model, datamodule=data_module)\n",
    "print(f\"Training Begin for {NUM_STRATIFIED_SAMPLES} words: {len(train_dataset)} Games\")\n",
    "\n",
    "# # # # # # Fit the model\n",
    "trainer.fit(lightning_model, data_module)\n",
    "\n",
    "# # Optionally print the profiler summary\n",
    "# # print(profiler.summary())\n",
    "\n",
    "# # Save the entire model\n",
    "# trained_model_file = models_dir / f\"{NUM_STRATIFIED_SAMPLES}_trained_model.pth\"\n",
    "# torch.save(lightning_model, trained_model_file)\n",
    "# print(f\"Model saved at {trained_model_file}\")"
   ]
  },
  {
   "cell_type": "code",
   "execution_count": null,
   "metadata": {},
   "outputs": [],
   "source": [
    "# Save the entire model\n",
    "trained_model_file = models_dir / f\"{NUM_STRATIFIED_SAMPLES}_trained_model.pth\"\n",
    "torch.save(lightning_model, trained_model_file)\n",
    "print(f\"Model saved at {trained_model_file}\")"
   ]
  },
  {
   "cell_type": "markdown",
   "metadata": {},
   "source": [
    "##### Testing"
   ]
  },
  {
   "cell_type": "code",
   "execution_count": null,
   "metadata": {},
   "outputs": [],
   "source": [
    "# Finding the maximum word length in the list\n",
    "max_word_length_in_list = max(len(word) for word in sampled_test_words)\n",
    "\n",
    "max_word_length_in_list"
   ]
  },
  {
   "cell_type": "code",
   "execution_count": null,
   "metadata": {},
   "outputs": [],
   "source": [
    "# # Load the entire LSTM model object\n",
    "# untrained_model_file_path = models_dir / f\"{NUM_STRATIFIED_SAMPLES}_trained_model.pth\"\n",
    "\n",
    "untrained_model = torch.load(untrained_model_file)\n",
    "\n",
    "# Example usage\n",
    "result = play_games_and_calculate_stats(untrained_model, \\\n",
    "    sampled_test_words, char_frequency, max_word_length)\n",
    "\n",
    "print(f\"Untrained model performence: {result['overall_win_rate']} % win rate\")\n",
    "\n",
    "performance_metrics = result['length_wise_stats']\n",
    "\n",
    "# print(performance_metrics)\n",
    "\n",
    "from scr.utils import *\n",
    "\n",
    "plot_hangman_stats(performance_metrics)\n",
    "\n",
    "for length, data in result[\"length_wise_stats\"].items():\n",
    "    print(f\"Length {length}: Win Rate: {data['win_rate']}%, Average Attempts: {data['average_attempts_used']}\")"
   ]
  },
  {
   "cell_type": "code",
   "execution_count": null,
   "metadata": {},
   "outputs": [],
   "source": [
    "# Load the entire LSTM model object\n",
    "\n",
    "trained_model_file_path = models_dir / f\"{NUM_STRATIFIED_SAMPLES}_trained_model.pth\"\n",
    "trained_model = torch.load(trained_model_file_path)\n",
    "\n",
    "# # If you want to use the model for inference\n",
    "# trained_model.eval()  # Set the model to evaluation mode\n",
    "\n",
    "from scr.game import *\n",
    "\n",
    "word = 'may'\n",
    "\n",
    "play_game_with_a_word(trained_model, \\\n",
    "    word, char_frequency, max_word_length)"
   ]
  },
  {
   "cell_type": "code",
   "execution_count": null,
   "metadata": {},
   "outputs": [],
   "source": [
    "# Example usage\n",
    "result = play_games_and_calculate_stats(trained_model, \\\n",
    "    sampled_test_words, char_frequency, max_word_length)\n",
    "\n",
    "print(f\"Overall Win Rate: {result['overall_win_rate']}%, Overall Average Attempts: {result['overall_avg_attempts']}\")\n",
    "\n",
    "# for length, data in result[\"length_wise_stats\"].items():\n",
    "#     print(f\"Length {length}: Win Rate: {data['win_rate']}%, Average Attempts: {data['average_attempts_used']}\")"
   ]
  },
  {
   "cell_type": "code",
   "execution_count": null,
   "metadata": {},
   "outputs": [],
   "source": [
    "performance_metrics = result['length_wise_stats']\n",
    "\n",
    "plot_hangman_stats(performance_metrics)"
   ]
  },
  {
   "cell_type": "code",
   "execution_count": null,
   "metadata": {},
   "outputs": [],
   "source": []
  }
 ],
 "metadata": {
  "kernelspec": {
   "display_name": "optiver",
   "language": "python",
   "name": "python3"
  },
  "language_info": {
   "codemirror_mode": {
    "name": "ipython",
    "version": 3
   },
   "file_extension": ".py",
   "mimetype": "text/x-python",
   "name": "python",
   "nbconvert_exporter": "python",
   "pygments_lexer": "ipython3",
   "version": "3.10.13"
  }
 },
 "nbformat": 4,
 "nbformat_minor": 2
}
