{
 "cells": [
  {
   "cell_type": "markdown",
   "id": "a62bd7e6",
   "metadata": {
    "papermill": {
     "duration": 0.002135,
     "end_time": "2023-11-24T22:23:42.367043",
     "exception": false,
     "start_time": "2023-11-24T22:23:42.364908",
     "status": "completed"
    },
    "tags": []
   },
   "source": [
    "##### Imports"
   ]
  },
  {
   "cell_type": "code",
   "execution_count": 1,
   "id": "323a72c9",
   "metadata": {
    "execution": {
     "iopub.execute_input": "2023-11-24T22:23:42.378753Z",
     "iopub.status.busy": "2023-11-24T22:23:42.378580Z",
     "iopub.status.idle": "2023-11-24T22:23:43.346735Z",
     "shell.execute_reply": "2023-11-24T22:23:43.346282Z"
    },
    "papermill": {
     "duration": 0.971674,
     "end_time": "2023-11-24T22:23:43.347691",
     "exception": false,
     "start_time": "2023-11-24T22:23:42.376017",
     "status": "completed"
    },
    "tags": []
   },
   "outputs": [],
   "source": [
    "import sys\n",
    "from pathlib import Path\n",
    "import warnings\n",
    "\n",
    "import warnings\n",
    "import pandas as pd\n",
    "warnings.filterwarnings('ignore')\n",
    "\n",
    "pd.set_option('display.max_columns', 1000)\n",
    "pd.set_option('display.max_rows', 1000)\n",
    "\n",
    "import pickle\n",
    "from pathlib import Path\n",
    "from scr.dataset import *\n",
    "from scr.game import *\n",
    "import gc\n",
    "from scr.utils import print_scenarios\n",
    "\n",
    "\n",
    "from pathlib import Path\n",
    "import random\n",
    "from collections import Counter, defaultdict\n",
    "import pickle\n",
    "from tqdm import tqdm\n",
    "from torch.utils.data import Dataset\n",
    "from scr.feature_engineering import \\\n",
    "    calculate_char_frequencies, calculate_word_frequencies\n",
    "from scr.utils import read_words, save_words_to_file\n",
    "\n",
    "import sys\n",
    "# Custom library paths\n",
    "sys.path.extend(['../', './scr'])\n",
    "\n",
    "from scr.utils import set_seed\n",
    "from scr.utils import read_words\n",
    "\n",
    "set_seed(42)\n",
    "\n",
    "import torch\n",
    "import torch.nn as nn\n",
    "from pathlib import Path\n",
    "import random\n",
    "\n",
    "torch.set_float32_matmul_precision('medium')\n",
    "\n",
    "# Device configuration\n",
    "device = torch.device(\"cuda\" if torch.cuda.is_available() else \"cpu\")\n",
    "\n",
    "# # Read and Shuffle Word List\n",
    "word_list = read_words('data/words_250000_train.txt') # , limit=10000)\n",
    "# word_list = read_words('data/250k.txt', limit=10000)\n",
    "random.shuffle(word_list)"
   ]
  },
  {
   "cell_type": "code",
   "execution_count": 2,
   "id": "945ee9c6",
   "metadata": {
    "execution": {
     "iopub.execute_input": "2023-11-24T22:23:43.360693Z",
     "iopub.status.busy": "2023-11-24T22:23:43.360496Z",
     "iopub.status.idle": "2023-11-24T22:23:43.362839Z",
     "shell.execute_reply": "2023-11-24T22:23:43.362546Z"
    },
    "papermill": {
     "duration": 0.012935,
     "end_time": "2023-11-24T22:23:43.363813",
     "exception": false,
     "start_time": "2023-11-24T22:23:43.350878",
     "status": "completed"
    },
    "tags": [
     "parameters"
    ]
   },
   "outputs": [],
   "source": [
    "# # Parameters\n",
    "# NUM_STRATIFIED_SAMPLES = None  # This will be overwritten by Papermill\n",
    "# base_dataset_dir = None        # This will be overwritten by Papermill\n",
    "\n",
    "# print(\"NUM_STRATIFIED_SAMPLES:\", NUM_STRATIFIED_SAMPLES)\n",
    "# print(\"base_dataset_dir:\", base_dataset_dir)\n",
    "\n",
    "# # Import necessary library\n",
    "# from pathlib import Path\n",
    "\n",
    "# # Validate if parameters are provided\n",
    "# if NUM_STRATIFIED_SAMPLES is None or base_dataset_dir is None:\n",
    "#     raise ValueError(\"NUM_STRATIFIED_SAMPLES and base_dataset_dir must be provided.\")\n",
    "\n",
    "# # Define the base directory on the specified drive\n",
    "# base_dataset_dir = Path(base_dataset_dir)\n",
    "\n",
    "# # Ensuring the directory exists\n",
    "# base_dataset_dir.mkdir(parents=True, exist_ok=True)\n",
    "\n",
    "# # Create a subdirectory for pickle files\n",
    "# pkls_dir = base_dataset_dir / 'pkl'\n",
    "# pkls_dir.mkdir(parents=True, exist_ok=True)"
   ]
  },
  {
   "cell_type": "code",
   "execution_count": 3,
   "metadata": {},
   "outputs": [],
   "source": [
    "from pathlib import Path\n",
    "\n",
    "NUM_STRATIFIED_SAMPLES = 500\n",
    "\n",
    "# Define the base directory\n",
    "base_dataset_dir = Path(f'./dataset/{NUM_STRATIFIED_SAMPLES}')\n",
    "# base_dataset_dir = Path(f\"/media/sayem/510B93E12554BBD1/dataset/{NUM_STRATIFIED_SAMPLES}\")\n",
    "\n",
    "# Ensuring the base directory and 'pkl' subdirectory exist\n",
    "base_dataset_dir.mkdir(parents=True, exist_ok=True)\n",
    "pkls_dir = base_dataset_dir / 'pkl'\n",
    "pkls_dir.mkdir(parents=True, exist_ok=True)\n"
   ]
  },
  {
   "cell_type": "code",
   "execution_count": 4,
   "id": "d927a799",
   "metadata": {
    "execution": {
     "iopub.execute_input": "2023-11-24T22:23:43.391740Z",
     "iopub.status.busy": "2023-11-24T22:23:43.391624Z",
     "iopub.status.idle": "2023-11-24T22:23:43.560403Z",
     "shell.execute_reply": "2023-11-24T22:23:43.559962Z"
    },
    "papermill": {
     "duration": 0.173511,
     "end_time": "2023-11-24T22:23:43.561690",
     "exception": false,
     "start_time": "2023-11-24T22:23:43.388179",
     "status": "completed"
    },
    "tags": []
   },
   "outputs": [],
   "source": [
    "# Splitting Dataset Function\n",
    "def split_dataset(word_list, train_ratio=0.7, val_ratio=0.15):\n",
    "    total_words = len(word_list)\n",
    "    train_size = int(total_words * train_ratio)\n",
    "    val_size = int(total_words * val_ratio)\n",
    "    random.shuffle(word_list)\n",
    "    return word_list[:train_size], word_list[train_size:train_size + val_size], \\\n",
    "        word_list[train_size + val_size:]\n",
    "\n",
    "\n",
    "# Splitting the word list\n",
    "train_words, val_words, test_words = split_dataset(word_list)\n",
    "\n",
    "# Save split datasets to files\n",
    "save_words_to_file(train_words, base_dataset_dir / 'train_words.txt')\n",
    "save_words_to_file(val_words, base_dataset_dir / 'val_words.txt')\n",
    "save_words_to_file(test_words, base_dataset_dir / 'test_words.txt')\n",
    "\n",
    "# Calculate Frequencies and Max Word Length\n",
    "word_frequencies = calculate_word_frequencies(train_words)\n",
    "char_frequency = calculate_char_frequencies(train_words)\n",
    "max_word_length = max(len(word) for word in train_words)"
   ]
  },
  {
   "cell_type": "code",
   "execution_count": 5,
   "id": "a8cc199b",
   "metadata": {
    "execution": {
     "iopub.execute_input": "2023-11-24T22:23:43.568919Z",
     "iopub.status.busy": "2023-11-24T22:23:43.568821Z",
     "iopub.status.idle": "2023-11-24T22:23:43.571482Z",
     "shell.execute_reply": "2023-11-24T22:23:43.571208Z"
    },
    "papermill": {
     "duration": 0.007294,
     "end_time": "2023-11-24T22:23:43.572518",
     "exception": false,
     "start_time": "2023-11-24T22:23:43.565224",
     "status": "completed"
    },
    "tags": []
   },
   "outputs": [
    {
     "data": {
      "text/plain": [
       "159110"
      ]
     },
     "execution_count": 5,
     "metadata": {},
     "output_type": "execute_result"
    }
   ],
   "source": [
    "len(train_words)"
   ]
  },
  {
   "cell_type": "code",
   "execution_count": 6,
   "id": "41e486f6",
   "metadata": {
    "execution": {
     "iopub.execute_input": "2023-11-24T22:23:43.579494Z",
     "iopub.status.busy": "2023-11-24T22:23:43.579377Z",
     "iopub.status.idle": "2023-11-24T22:23:43.640436Z",
     "shell.execute_reply": "2023-11-24T22:23:43.640019Z"
    },
    "papermill": {
     "duration": 0.065848,
     "end_time": "2023-11-24T22:23:43.641509",
     "exception": false,
     "start_time": "2023-11-24T22:23:43.575661",
     "status": "completed"
    },
    "tags": []
   },
   "outputs": [
    {
     "name": "stdout",
     "output_type": "stream",
     "text": [
      "Number of Statrified samples: 500\n"
     ]
    }
   ],
   "source": [
    "## we are taking starified samples from train_words\n",
    "\n",
    "from scr.custom_sampler import \\\n",
    "    stratified_sample_by_length_and_frequency, \\\n",
    "        stratified_sample_by_length\n",
    "\n",
    "print(f'Number of Statrified samples: {NUM_STRATIFIED_SAMPLES}')\n",
    "\n",
    "# sampled_words_by_length_and_frequency \\\n",
    "#     = stratified_sample_by_length_and_frequency(train_words, \\\n",
    "#     word_frequencies, \\\n",
    "#     NUM_STRATIFIED_SAMPLES)"
   ]
  },
  {
   "cell_type": "code",
   "execution_count": 7,
   "id": "0a80f1a6",
   "metadata": {
    "execution": {
     "iopub.execute_input": "2023-11-24T22:23:43.649388Z",
     "iopub.status.busy": "2023-11-24T22:23:43.649295Z",
     "iopub.status.idle": "2023-11-24T22:23:43.774544Z",
     "shell.execute_reply": "2023-11-24T22:23:43.774027Z"
    },
    "papermill": {
     "duration": 0.130344,
     "end_time": "2023-11-24T22:23:43.776005",
     "exception": false,
     "start_time": "2023-11-24T22:23:43.645661",
     "status": "completed"
    },
    "tags": []
   },
   "outputs": [],
   "source": [
    "from collections import Counter\n",
    "import matplotlib.pyplot as plt\n",
    "import numpy as np\n",
    "\n",
    "def analyze_hangman_sample_practicality(original_word_list, stratified_sampling_method, num_samples):\n",
    "    # Generate a stratified sample\n",
    "    stratified_sample = stratified_sampling_method(original_word_list, num_samples)\n",
    "\n",
    "    # Analyze and plot word length distributions\n",
    "    plot_stratified_sampling_analysis(original_word_list, stratified_sample)\n",
    "\n",
    "    # Get word length distributions\n",
    "    original_lengths, sampled_lengths = get_length_distributions(original_word_list, stratified_sample)\n",
    "\n",
    "    # Evaluate representation of word lengths\n",
    "    representation_evaluation = {length: sampled_lengths.get(length, 0) / original_lengths.get(length, 1)\n",
    "                                 for length in original_lengths}\n",
    "\n",
    "    # Plotting the quality of sampling\n",
    "    plt.figure(figsize=(10, 5))\n",
    "    plt.bar(representation_evaluation.keys(), \\\n",
    "        representation_evaluation.values(), color='purple', alpha=0.7)\n",
    "    plt.xlabel('Word Length')\n",
    "    plt.ylabel('Representation Ratio')\n",
    "    plt.title('Quality of Sampling Analysis')\n",
    "    plt.axhline(y=1, color='r', linestyle='--')\n",
    "    plt.show()\n",
    "\n",
    "    # Check for unique word inclusion\n",
    "    unique_inclusion = len(set(stratified_sample)) == len(set(original_word_list))\n",
    "\n",
    "    return representation_evaluation, unique_inclusion\n",
    "\n",
    "def plot_stratified_sampling_analysis(original_word_list, stratified_sampled_word_list):\n",
    "    original_lengths = Counter([len(word) for word in original_word_list])\n",
    "    sampled_lengths = Counter([len(word) for word in stratified_sampled_word_list])\n",
    "\n",
    "    unique_lengths = sorted(set(original_lengths.keys()) | set(sampled_lengths.keys()))\n",
    "    original_counts = [original_lengths[length] for length in unique_lengths]\n",
    "    sampled_counts = [sampled_lengths[length] for length in unique_lengths]\n",
    "\n",
    "    original_counts_normalized = np.array(original_counts) / sum(original_counts)\n",
    "    sampled_counts_normalized = np.array(sampled_counts) / sum(sampled_counts)\n",
    "\n",
    "    plt.figure(figsize=(12, 6))\n",
    "    plt.subplot(1, 2, 1)\n",
    "    plt.bar(unique_lengths, original_counts_normalized, color='blue', alpha=0.7)\n",
    "    plt.title('Normalized Original Word Length Distribution')\n",
    "    plt.xlabel('Word Length')\n",
    "    plt.ylabel('Normalized Frequency')\n",
    "\n",
    "    plt.subplot(1, 2, 2)\n",
    "    plt.bar(unique_lengths, sampled_counts_normalized, color='green', alpha=0.7)\n",
    "    plt.title('Normalized Stratified Sample Word Length Distribution')\n",
    "    plt.xlabel('Word Length')\n",
    "    plt.ylabel('Normalized Frequency')\n",
    "    plt.tight_layout()\n",
    "    plt.show()\n",
    "\n",
    "def get_length_distributions(original_word_list, stratified_sampled_word_list):\n",
    "    original_lengths = Counter([len(word) for word in original_word_list])\n",
    "    sampled_lengths = Counter([len(word) for word in stratified_sampled_word_list])\n",
    "    return original_lengths, sampled_lengths\n"
   ]
  },
  {
   "cell_type": "code",
   "execution_count": 8,
   "id": "5a004382",
   "metadata": {
    "execution": {
     "iopub.execute_input": "2023-11-24T22:23:43.805581Z",
     "iopub.status.busy": "2023-11-24T22:23:43.805340Z",
     "iopub.status.idle": "2023-11-24T22:23:44.145395Z",
     "shell.execute_reply": "2023-11-24T22:23:44.145033Z"
    },
    "papermill": {
     "duration": 0.366615,
     "end_time": "2023-11-24T22:23:44.146430",
     "exception": false,
     "start_time": "2023-11-24T22:23:43.779815",
     "status": "completed"
    },
    "tags": []
   },
   "outputs": [
    {
     "data": {
      "image/png": "[encoded data removed]",
      "text/plain": [
       "<Figure size 1200x600 with 2 Axes>"
      ]
     },
     "metadata": {},
     "output_type": "display_data"
    },
    {
     "data": {
      "image/png": "[encoded data removed]",
      "text/plain": [
       "<Figure size 1000x500 with 1 Axes>"
      ]
     },
     "metadata": {},
     "output_type": "display_data"
    }
   ],
   "source": [
    "representation_evaluation, unique_inclusion = analyze_hangman_sample_practicality(\n",
    "    word_list, \n",
    "    stratified_sample_by_length, \n",
    "    NUM_STRATIFIED_SAMPLES\n",
    ")"
   ]
  },
  {
   "cell_type": "code",
   "execution_count": 9,
   "id": "2177400a",
   "metadata": {
    "execution": {
     "iopub.execute_input": "2023-11-24T22:23:44.160860Z",
     "iopub.status.busy": "2023-11-24T22:23:44.160748Z",
     "iopub.status.idle": "2023-11-24T22:23:44.195781Z",
     "shell.execute_reply": "2023-11-24T22:23:44.195453Z"
    },
    "papermill": {
     "duration": 0.045769,
     "end_time": "2023-11-24T22:23:44.196612",
     "exception": false,
     "start_time": "2023-11-24T22:23:44.150843",
     "status": "completed"
    },
    "tags": []
   },
   "outputs": [],
   "source": [
    "sampled_words_by_length = stratified_sample_by_length(word_list, \\\n",
    "    NUM_STRATIFIED_SAMPLES)"
   ]
  },
  {
   "cell_type": "code",
   "execution_count": 10,
   "id": "536d046e",
   "metadata": {
    "execution": {
     "iopub.execute_input": "2023-11-24T22:23:44.201754Z",
     "iopub.status.busy": "2023-11-24T22:23:44.201648Z",
     "iopub.status.idle": "2023-11-24T22:23:44.204001Z",
     "shell.execute_reply": "2023-11-24T22:23:44.203734Z"
    },
    "papermill": {
     "duration": 0.0055,
     "end_time": "2023-11-24T22:23:44.204537",
     "exception": false,
     "start_time": "2023-11-24T22:23:44.199037",
     "status": "completed"
    },
    "tags": []
   },
   "outputs": [
    {
     "data": {
      "text/plain": [
       "False"
      ]
     },
     "execution_count": 10,
     "metadata": {},
     "output_type": "execute_result"
    }
   ],
   "source": [
    "unique_inclusion"
   ]
  },
  {
   "cell_type": "code",
   "execution_count": 11,
   "id": "aab53c5e",
   "metadata": {
    "execution": {
     "iopub.execute_input": "2023-11-24T22:23:44.209725Z",
     "iopub.status.busy": "2023-11-24T22:23:44.209635Z",
     "iopub.status.idle": "2023-11-24T22:23:44.211224Z",
     "shell.execute_reply": "2023-11-24T22:23:44.210997Z"
    },
    "papermill": {
     "duration": 0.004707,
     "end_time": "2023-11-24T22:23:44.211810",
     "exception": false,
     "start_time": "2023-11-24T22:23:44.207103",
     "status": "completed"
    },
    "tags": []
   },
   "outputs": [],
   "source": [
    "# sampled_words_by_length_and_frequency \\\n",
    "#     = stratified_sample_by_length_and_frequency(train_words, \\\n",
    "#     word_frequencies, \\\n",
    "#     NUM_STRATIFIED_SAMPLES)"
   ]
  },
  {
   "cell_type": "markdown",
   "id": "16e8a788",
   "metadata": {
    "papermill": {
     "duration": 0.002214,
     "end_time": "2023-11-24T22:23:44.216242",
     "exception": false,
     "start_time": "2023-11-24T22:23:44.214028",
     "status": "completed"
    },
    "tags": []
   },
   "source": [
    "##### Game Simulation: Data Reading and Feature Engineering"
   ]
  },
  {
   "cell_type": "code",
   "execution_count": 12,
   "id": "b315e978",
   "metadata": {
    "execution": {
     "iopub.execute_input": "2023-11-24T22:23:44.221455Z",
     "iopub.status.busy": "2023-11-24T22:23:44.221360Z",
     "iopub.status.idle": "2023-11-24T22:23:44.224188Z",
     "shell.execute_reply": "2023-11-24T22:23:44.223949Z"
    },
    "papermill": {
     "duration": 0.00626,
     "end_time": "2023-11-24T22:23:44.224717",
     "exception": false,
     "start_time": "2023-11-24T22:23:44.218457",
     "status": "completed"
    },
    "tags": []
   },
   "outputs": [],
   "source": [
    "def count_repetitive_characters(word):\n",
    "    char_count = {}\n",
    "    for char in word:\n",
    "        char_count[char] = char_count.get(char, 0) + 1\n",
    "    return sum(1 for count in char_count.values() if count > 1)\n",
    "\n",
    "def adaptive_mask_prob_and_variants(word):\n",
    "    word_length = len(word)\n",
    "    unique_char_count = len(set(word))\n",
    "    repetitive_char_count = count_repetitive_characters(word)\n",
    "\n",
    "    # Lower mask probability for longer and more unique words\n",
    "    if word_length <= 5:\n",
    "        mask_prob = 0.8 if repetitive_char_count > (word_length / 2) else 0.9\n",
    "    \n",
    "    elif word_length <= 8:\n",
    "        mask_prob = 0.6 if unique_char_count > 4 else 0.7\n",
    "    \n",
    "    else:\n",
    "        mask_prob = 0.4 if unique_char_count > 6 else 0.5\n",
    "\n",
    "    # Adjust max variants based on the complexity of the word\n",
    "    if unique_char_count <= 3 or repetitive_char_count > (word_length / 2):\n",
    "        max_variants = max(5, word_length)\n",
    "    \n",
    "    elif unique_char_count <= 6:\n",
    "        max_variants = max(10, word_length)\n",
    "    \n",
    "    else:\n",
    "        max_variants = min(15, word_length)\n",
    "\n",
    "    return mask_prob, max_variants\n"
   ]
  },
  {
   "cell_type": "code",
   "execution_count": 13,
   "id": "1cd3acf3",
   "metadata": {
    "execution": {
     "iopub.execute_input": "2023-11-24T22:23:44.229710Z",
     "iopub.status.busy": "2023-11-24T22:23:44.229623Z",
     "iopub.status.idle": "2023-11-24T22:23:44.231919Z",
     "shell.execute_reply": "2023-11-24T22:23:44.231674Z"
    },
    "papermill": {
     "duration": 0.005544,
     "end_time": "2023-11-24T22:23:44.232506",
     "exception": false,
     "start_time": "2023-11-24T22:23:44.226962",
     "status": "completed"
    },
    "tags": []
   },
   "outputs": [],
   "source": [
    "def modified_adaptive_mask_prob_and_variants(word, length_distribution):\n",
    "    word_length = len(word)\n",
    "    unique_char_count = len(set(word))\n",
    "    repetitive_char_count = count_repetitive_characters(word)\n",
    "\n",
    "    # Determine average word length from the distribution\n",
    "    avg_word_length = sum(length * count for length, count in \\\n",
    "        length_distribution.items()) / sum(length_distribution.values())\n",
    "\n",
    "    # Adjust the mask probability and max variants based on the average word length\n",
    "    if word_length <= avg_word_length:\n",
    "        mask_prob = 0.8 if repetitive_char_count > (word_length / 2) else 0.9\n",
    "        max_variants = max(5, word_length)\n",
    "    else:\n",
    "        mask_prob = 0.6 if unique_char_count > 4 else 0.7\n",
    "        max_variants = max(10, word_length)\n",
    "\n",
    "    return mask_prob, max_variants\n"
   ]
  },
  {
   "cell_type": "code",
   "execution_count": 14,
   "id": "32535445",
   "metadata": {
    "execution": {
     "iopub.execute_input": "2023-11-24T22:23:44.237402Z",
     "iopub.status.busy": "2023-11-24T22:23:44.237317Z",
     "iopub.status.idle": "2023-11-24T22:23:44.266925Z",
     "shell.execute_reply": "2023-11-24T22:23:44.266697Z"
    },
    "papermill": {
     "duration": 0.032854,
     "end_time": "2023-11-24T22:23:44.267593",
     "exception": false,
     "start_time": "2023-11-24T22:23:44.234739",
     "status": "completed"
    },
    "tags": []
   },
   "outputs": [
    {
     "data": {
      "text/plain": [
       "0.9"
      ]
     },
     "execution_count": 14,
     "metadata": {},
     "output_type": "execute_result"
    }
   ],
   "source": [
    "# Get the word length distributions for further analysis\n",
    "original_lengths_distribution, sampled_lengths_distribution \\\n",
    "    = get_length_distributions(word_list, sampled_words_by_length)\n",
    "\n",
    "\n",
    "word = \"noon\"\n",
    "mask_prob, max_variants \\\n",
    "    = modified_adaptive_mask_prob_and_variants(word, sampled_lengths_distribution)\n",
    "\n",
    "mask_prob"
   ]
  },
  {
   "cell_type": "code",
   "execution_count": 15,
   "id": "83ba8021",
   "metadata": {
    "execution": {
     "iopub.execute_input": "2023-11-24T22:23:44.276736Z",
     "iopub.status.busy": "2023-11-24T22:23:44.276605Z",
     "iopub.status.idle": "2023-11-24T22:23:44.278857Z",
     "shell.execute_reply": "2023-11-24T22:23:44.278637Z"
    },
    "papermill": {
     "duration": 0.00787,
     "end_time": "2023-11-24T22:23:44.279761",
     "exception": false,
     "start_time": "2023-11-24T22:23:44.271891",
     "status": "completed"
    },
    "tags": []
   },
   "outputs": [
    {
     "data": {
      "text/plain": [
       "0.9"
      ]
     },
     "execution_count": 15,
     "metadata": {},
     "output_type": "execute_result"
    }
   ],
   "source": [
    "word = \"noon\"\n",
    "mask_prob, max_variants = adaptive_mask_prob_and_variants(word)\n",
    "\n",
    "mask_prob"
   ]
  },
  {
   "cell_type": "code",
   "execution_count": 16,
   "id": "8db5d150",
   "metadata": {
    "execution": {
     "iopub.execute_input": "2023-11-24T22:23:44.289048Z",
     "iopub.status.busy": "2023-11-24T22:23:44.288964Z",
     "iopub.status.idle": "2023-11-24T22:23:44.290955Z",
     "shell.execute_reply": "2023-11-24T22:23:44.290741Z"
    },
    "papermill": {
     "duration": 0.007613,
     "end_time": "2023-11-24T22:23:44.291841",
     "exception": false,
     "start_time": "2023-11-24T22:23:44.284228",
     "status": "completed"
    },
    "tags": []
   },
   "outputs": [
    {
     "data": {
      "text/plain": [
       "5"
      ]
     },
     "execution_count": 16,
     "metadata": {},
     "output_type": "execute_result"
    }
   ],
   "source": [
    "max_variants"
   ]
  },
  {
   "cell_type": "markdown",
   "id": "cd0d326f",
   "metadata": {
    "papermill": {
     "duration": 0.004373,
     "end_time": "2023-11-24T22:23:44.300659",
     "exception": false,
     "start_time": "2023-11-24T22:23:44.296286",
     "status": "completed"
    },
    "tags": []
   },
   "source": [
    "##### Game State Simulation"
   ]
  },
  {
   "cell_type": "code",
   "execution_count": 17,
   "id": "2648f21f",
   "metadata": {
    "execution": {
     "iopub.execute_input": "2023-11-24T22:23:44.307917Z",
     "iopub.status.busy": "2023-11-24T22:23:44.307806Z",
     "iopub.status.idle": "2023-11-24T22:23:44.310853Z",
     "shell.execute_reply": "2023-11-24T22:23:44.310583Z"
    },
    "papermill": {
     "duration": 0.006444,
     "end_time": "2023-11-24T22:23:44.311540",
     "exception": false,
     "start_time": "2023-11-24T22:23:44.305096",
     "status": "completed"
    },
    "tags": []
   },
   "outputs": [
    {
     "name": "stdout",
     "output_type": "stream",
     "text": [
      "Generated Initial States:\n",
      "___________\n",
      "For initial state: ___________\n",
      "Guessed: 's', New State: '__ss_ss____', Correct: True\n",
      "Guessed: 'h', New State: '__ss_ss____', Correct: False\n",
      "Guessed: 'e', New State: '__ss_ss____', Correct: False\n",
      "Guessed: 'p', New State: '__ss_ss_pp_', Correct: True\n",
      "Guessed: 'f', New State: '__ss_ss_pp_', Correct: False\n",
      "Guessed: 'u', New State: '__ss_ss_pp_', Correct: False\n",
      "Guessed: 'i', New State: '_ississippi', Correct: True\n",
      "Guessed: 'v', New State: '_ississippi', Correct: False\n",
      "Guessed: 'm', New State: 'mississippi', Correct: True\n",
      "m_ss_ss____\n",
      "For initial state: m_ss_ss____\n",
      "Guessed: 'n', New State: 'm_ss_ss____', Correct: False\n",
      "Guessed: 'i', New State: 'mississi__i', Correct: True\n",
      "Guessed: 'l', New State: 'mississi__i', Correct: False\n",
      "Guessed: 'k', New State: 'mississi__i', Correct: False\n",
      "Guessed: 'j', New State: 'mississi__i', Correct: False\n",
      "Guessed: 'b', New State: 'mississi__i', Correct: False\n",
      "Guessed: 'p', New State: 'mississippi', Correct: True\n",
      "_ississi__i\n",
      "For initial state: _ississi__i\n",
      "Guessed: 'o', New State: '_ississi__i', Correct: False\n",
      "Guessed: 'a', New State: '_ississi__i', Correct: False\n",
      "Guessed: 'q', New State: '_ississi__i', Correct: False\n",
      "Guessed: 'f', New State: '_ississi__i', Correct: False\n",
      "Guessed: 'm', New State: 'mississi__i', Correct: True\n",
      "Guessed: 'p', New State: 'mississippi', Correct: True\n",
      "________pp_\n",
      "For initial state: ________pp_\n",
      "Guessed: 'i', New State: '_i__i__ippi', Correct: True\n",
      "Guessed: 'g', New State: '_i__i__ippi', Correct: False\n",
      "Guessed: 'f', New State: '_i__i__ippi', Correct: False\n",
      "Guessed: 'n', New State: '_i__i__ippi', Correct: False\n",
      "Guessed: 'm', New State: 'mi__i__ippi', Correct: True\n",
      "Guessed: 'a', New State: 'mi__i__ippi', Correct: False\n",
      "Guessed: 's', New State: 'mississippi', Correct: True\n",
      "m__________\n",
      "For initial state: m__________\n",
      "Guessed: 'l', New State: 'm__________', Correct: False\n",
      "Guessed: 's', New State: 'm_ss_ss____', Correct: True\n",
      "Guessed: 'q', New State: 'm_ss_ss____', Correct: False\n",
      "Guessed: 'p', New State: 'm_ss_ss_pp_', Correct: True\n",
      "Guessed: 'o', New State: 'm_ss_ss_pp_', Correct: False\n",
      "Guessed: 'w', New State: 'm_ss_ss_pp_', Correct: False\n",
      "Guessed: 'i', New State: 'mississippi', Correct: True\n",
      "_i__i__ippi\n",
      "For initial state: _i__i__ippi\n",
      "Guessed: 'd', New State: '_i__i__ippi', Correct: False\n",
      "Guessed: 'a', New State: '_i__i__ippi', Correct: False\n",
      "Guessed: 's', New State: '_ississippi', Correct: True\n",
      "Guessed: 'z', New State: '_ississippi', Correct: False\n",
      "Guessed: 'm', New State: 'mississippi', Correct: True\n",
      "__ss_ss____\n",
      "For initial state: __ss_ss____\n",
      "Guessed: 'm', New State: 'm_ss_ss____', Correct: True\n",
      "Guessed: 'b', New State: 'm_ss_ss____', Correct: False\n",
      "Guessed: 'k', New State: 'm_ss_ss____', Correct: False\n",
      "Guessed: 'y', New State: 'm_ss_ss____', Correct: False\n",
      "Guessed: 'a', New State: 'm_ss_ss____', Correct: False\n",
      "Guessed: 'g', New State: 'm_ss_ss____', Correct: False\n",
      "Guessed: 't', New State: 'm_ss_ss____', Correct: False\n",
      "_i__i__i__i\n",
      "For initial state: _i__i__i__i\n",
      "Guessed: 'w', New State: '_i__i__i__i', Correct: False\n",
      "Guessed: 'm', New State: 'mi__i__i__i', Correct: True\n",
      "Guessed: 'e', New State: 'mi__i__i__i', Correct: False\n",
      "Guessed: 'p', New State: 'mi__i__ippi', Correct: True\n",
      "Guessed: 's', New State: 'mississippi', Correct: True\n",
      "mi__i__i__i\n",
      "For initial state: mi__i__i__i\n",
      "Guessed: 'f', New State: 'mi__i__i__i', Correct: False\n",
      "Guessed: 's', New State: 'mississi__i', Correct: True\n",
      "Guessed: 'p', New State: 'mississippi', Correct: True\n",
      "__ss_ss_pp_\n",
      "For initial state: __ss_ss_pp_\n",
      "Guessed: 'i', New State: '_ississippi', Correct: True\n",
      "Guessed: 'b', New State: '_ississippi', Correct: False\n",
      "Guessed: 'm', New State: 'mississippi', Correct: True\n",
      "m_______pp_\n",
      "For initial state: m_______pp_\n",
      "Guessed: 'i', New State: 'mi__i__ippi', Correct: True\n",
      "Guessed: 's', New State: 'mississippi', Correct: True\n"
     ]
    }
   ],
   "source": [
    "from scr.game import simulate_game_progress, play_game_with_a_word, process_word\n",
    "\n",
    "# Example word and initial state\n",
    "# Example usage\n",
    "word = \"mississippi\"\n",
    "# word = \"cat\"\n",
    "# mask_prob, max_variants = adaptive_mask_prob_and_variants(word)\n",
    "\n",
    "\n",
    "mask_prob, max_variants \\\n",
    "    = modified_adaptive_mask_prob_and_variants(word, sampled_lengths_distribution)\n",
    "\n",
    "initial_states = process_word(word, mask_prob=mask_prob, \\\n",
    "    max_variants=max_variants)\n",
    "\n",
    "# Print generated initial states\n",
    "print(\"Generated Initial States:\")\n",
    "for initial_state in initial_states:\n",
    "    # Simulate the game\n",
    "    print(initial_state)\n",
    "    print(f\"For initial state: {initial_state}\")\n",
    "    won, game_progress = simulate_game_progress(\n",
    "        model=None,  # Assuming model is not used in this example\n",
    "        word=word, \n",
    "        initial_state=initial_state, \n",
    "        char_frequency={},  # Assuming char_frequency is not used in this example\n",
    "        max_word_length=len(word), \n",
    "        device=None,  # Assuming device is not used in this example\n",
    "        max_attempts=6, \n",
    "        normalize=True,\n",
    "        difficulty=\"medium\", \n",
    "        outcome_preference='win'\n",
    "    )\n",
    "\n",
    "    # Display game progress\n",
    "    for step in game_progress:\n",
    "        print(f\"Guessed: '{step[0]}', New State: '{step[1]}', Correct: {step[2]}\")\n",
    "\n",
    "        # break\n",
    "\n",
    "    # break\n",
    "\n",
    "    # print(\"Game Result:\", \"Won\" if won else \"Lost\")"
   ]
  },
  {
   "cell_type": "code",
   "execution_count": 18,
   "id": "4c3da54c",
   "metadata": {
    "execution": {
     "iopub.execute_input": "2023-11-24T22:23:44.317155Z",
     "iopub.status.busy": "2023-11-24T22:23:44.317069Z",
     "iopub.status.idle": "2023-11-24T22:23:44.319452Z",
     "shell.execute_reply": "2023-11-24T22:23:44.319138Z"
    },
    "papermill": {
     "duration": 0.005907,
     "end_time": "2023-11-24T22:23:44.320079",
     "exception": false,
     "start_time": "2023-11-24T22:23:44.314172",
     "status": "completed"
    },
    "tags": []
   },
   "outputs": [
    {
     "data": {
      "text/plain": [
       "11"
      ]
     },
     "execution_count": 18,
     "metadata": {},
     "output_type": "execute_result"
    }
   ],
   "source": [
    "len(initial_states)"
   ]
  },
  {
   "cell_type": "code",
   "execution_count": 19,
   "id": "d5cffa5f",
   "metadata": {
    "execution": {
     "iopub.execute_input": "2023-11-24T22:23:44.326727Z",
     "iopub.status.busy": "2023-11-24T22:23:44.326580Z",
     "iopub.status.idle": "2023-11-24T22:23:44.329649Z",
     "shell.execute_reply": "2023-11-24T22:23:44.329220Z"
    },
    "papermill": {
     "duration": 0.007091,
     "end_time": "2023-11-24T22:23:44.330204",
     "exception": false,
     "start_time": "2023-11-24T22:23:44.323113",
     "status": "completed"
    },
    "tags": []
   },
   "outputs": [
    {
     "data": {
      "text/plain": [
       "['___________',\n",
       " 'm_ss_ss____',\n",
       " '_ississi__i',\n",
       " '________pp_',\n",
       " 'm__________',\n",
       " '_i__i__ippi',\n",
       " '__ss_ss____',\n",
       " '_i__i__i__i',\n",
       " 'mi__i__i__i',\n",
       " '__ss_ss_pp_',\n",
       " 'm_______pp_']"
      ]
     },
     "execution_count": 19,
     "metadata": {},
     "output_type": "execute_result"
    }
   ],
   "source": [
    "initial_states"
   ]
  },
  {
   "cell_type": "markdown",
   "id": "01da2152",
   "metadata": {
    "papermill": {
     "duration": 0.002642,
     "end_time": "2023-11-24T22:23:44.335321",
     "exception": false,
     "start_time": "2023-11-24T22:23:44.332679",
     "status": "completed"
    },
    "tags": []
   },
   "source": [
    "##### Dataset Generation"
   ]
  },
  {
   "cell_type": "code",
   "execution_count": 20,
   "metadata": {},
   "outputs": [
    {
     "name": "stdout",
     "output_type": "stream",
     "text": [
      "Number words for state generation: 509\n"
     ]
    }
   ],
   "source": [
    "from scr.custom_sampler import stratified_sample_by_length_and_frequency\n",
    "\n",
    "# NUM_STRATIFIED_SAMPLES = 1000\n",
    "# Main loop\n",
    "iteration = 0\n",
    "\n",
    "sampled_words = stratified_sample_by_length_and_frequency(train_words, \\\n",
    "    word_frequencies, \\\n",
    "    NUM_STRATIFIED_SAMPLES)\n",
    "\n",
    "original_lengths_distribution, sampled_lengths_distribution \\\n",
    "    = get_length_distributions(word_list, sampled_words_by_length)\n",
    "\n",
    "print(f'Number words for state generation: {len(sampled_words)}')"
   ]
  },
  {
   "cell_type": "code",
   "execution_count": 21,
   "metadata": {},
   "outputs": [
    {
     "name": "stderr",
     "output_type": "stream",
     "text": [
      "                                                 \r"
     ]
    }
   ],
   "source": [
    "# ### one way to generate the dataset\n",
    "\n",
    "for word in tqdm(sampled_words, miniters=2, leave=False, mininterval=2.0): \n",
    "    \n",
    "    all_scenarios = []\n",
    "    \n",
    "    game_states = process_word_for_six_states(word)\n",
    "\n",
    "    for state_name, initial_state in game_states.items():\n",
    "        for difficulty in [\"easy\", \"medium\", \"hard\"]:\n",
    "            for outcome in [\"win\", \"lose\"]:\n",
    "                won, game_progress = simulate_game_progress(\n",
    "                    model=None, \n",
    "                    word=word, \n",
    "                    initial_state=initial_state, \n",
    "                    char_frequency=char_frequency, \n",
    "                    max_word_length=max_word_length, \n",
    "                    device=device, \n",
    "                    max_attempts=6, \n",
    "                    normalize=True, \n",
    "                    difficulty=difficulty, \n",
    "                    outcome_preference=outcome\n",
    "                )\n",
    "\n",
    "                scenario = {\n",
    "                    'word': word, \n",
    "                    'state': state_name,  # Added 'state' key\n",
    "                    'difficulty': difficulty,\n",
    "                    'outcome': outcome, \n",
    "                    'initial_state': initial_state,\n",
    "                    'data': (won, game_progress)\n",
    "                }\n",
    "                all_scenarios.append(scenario)\n",
    "\n",
    "    #             break\n",
    "    #         break\n",
    "    #     break\n",
    "    # break\n",
    "\n",
    "    # Create a directory for the current strarified samples\n",
    "    \n",
    "    current_batch_dir = pkls_dir / str(iteration)\n",
    "    current_batch_dir.mkdir(parents=True, exist_ok=True)\n",
    "\n",
    "    # print(all_scenarios)\n",
    "\n",
    "    # print(current_batch_dir)\n",
    "\n",
    "    for scenario in all_scenarios:\n",
    "        try:\n",
    "            game_states = [scenario['data']]\n",
    "            \n",
    "            difficulty = scenario['difficulty']\n",
    "            outcome = scenario['outcome']\n",
    "            state = scenario['state']\n",
    "            initial_state = scenario['initial_state']  # This should be the correct scope\n",
    "            file_path \\\n",
    "                = current_batch_dir \\\n",
    "                    / f\"{word}-from-{initial_state}-{state}-{difficulty}-{outcome}.pkl\"\n",
    "\n",
    "            # print(f\"Saving scenario for {word}: {file_path}\")\n",
    "\n",
    "            with open(file_path, 'wb') as file:\n",
    "                pickle.dump(game_states, file)\n",
    "\n",
    "            # print(f\"Saved {file_path}\")\n",
    "\n",
    "        except Exception as e:\n",
    "            print(f\"Error saving {file_path}: {e}\")\n",
    "\n",
    "    # Clear memory\n",
    "    del all_scenarios # , sampled_scenarios\n",
    "\n",
    "    # Manual garbage collection\n",
    "    gc.collect()\n",
    "\n",
    "    # train_words = [word for word in train_words if word not in sampled_words]\n",
    "    # print(len(train_words))\n",
    "    # print(iteration)\n",
    "    iteration += 1"
   ]
  },
  {
   "cell_type": "code",
   "execution_count": 22,
   "metadata": {},
   "outputs": [
    {
     "data": {
      "text/plain": [
       "PosixPath('dataset/500/pkl')"
      ]
     },
     "execution_count": 22,
     "metadata": {},
     "output_type": "execute_result"
    }
   ],
   "source": [
    "pkls_dir"
   ]
  },
  {
   "cell_type": "markdown",
   "id": "24c679a2",
   "metadata": {
    "papermill": {
     "duration": null,
     "end_time": null,
     "exception": null,
     "start_time": null,
     "status": "pending"
    },
    "tags": []
   },
   "source": [
    "##### Reading Checking"
   ]
  },
  {
   "cell_type": "code",
   "execution_count": 23,
   "id": "d2ee26b1",
   "metadata": {
    "papermill": {
     "duration": null,
     "end_time": null,
     "exception": null,
     "start_time": null,
     "status": "pending"
    },
    "tags": []
   },
   "outputs": [
    {
     "name": "stdout",
     "output_type": "stream",
     "text": [
      "Contents of dataset/500/pkl/13/homeostatic-from-___e_s___ic-nearEnd-easy-lose.pkl:\n",
      "Word: homeostatic\n",
      "State: nearEnd\n",
      "Difficulty: easy\n",
      "Outcome: lose\n",
      "Initial_state: ___e_s___ic\n",
      "  Game Won\n",
      "  Guessed 'k', State: ___e_s___ic, Correct: False\n",
      "  Guessed 'a', State: ___e_s_a_ic, Correct: True\n",
      "  Guessed 'm', State: __me_s_a_ic, Correct: True\n",
      "  Guessed 'o', State: _omeos_a_ic, Correct: True\n",
      "  Guessed 'h', State: homeos_a_ic, Correct: True\n",
      "  Guessed 't', State: homeostatic, Correct: True\n",
      "\n"
     ]
    }
   ],
   "source": [
    "import pickle\n",
    "from pathlib import Path\n",
    "\n",
    "pkl_list = []\n",
    "\n",
    "for batch_dir in sorted(pkls_dir.iterdir(), \\\n",
    "    key=lambda x: int(x.name) if x.name.isdigit() else float('inf')):\n",
    "\n",
    "    if batch_dir.is_dir():\n",
    "        pkl_files = list(batch_dir.glob(\"*.pkl\"))\n",
    "\n",
    "        for pkl_file in pkl_files:\n",
    "            with open(pkl_file, 'rb') as file:\n",
    "                game_data = pickle.load(file)\n",
    "\n",
    "                parts = pkl_file.stem.split('-from-')\n",
    "                word, remaining = parts[0], parts[1]\n",
    "                remaining_parts = remaining.split('-')\n",
    "                initial_state = remaining_parts[0]\n",
    "                state_name = remaining_parts[1]\n",
    "                difficulty = remaining_parts[2]\n",
    "                outcome = remaining_parts[3]\n",
    "\n",
    "                for data in game_data:\n",
    "                    game_won, guesses = data\n",
    "                    scenario = {\n",
    "                        'word': word,\n",
    "                        'state': state_name,\n",
    "                        'difficulty': difficulty,\n",
    "                        'outcome': outcome,\n",
    "                        'initial_state': initial_state,\n",
    "                        'data': (game_won, guesses)\n",
    "                    }\n",
    "                    pkl_list.append((pkl_file, scenario))\n",
    "\n",
    "# Example usage\n",
    "index_to_access = 1000\n",
    "if index_to_access < len(pkl_list):\n",
    "    file_path, scenario = pkl_list[index_to_access]\n",
    "    print(f\"Contents of {file_path}:\")\n",
    "    # Assuming print_scenarios is a defined function\n",
    "    print_scenarios([scenario])\n",
    "else:\n",
    "    print(f\"No pickle file at index {index_to_access}\")\n"
   ]
  },
  {
   "cell_type": "code",
   "execution_count": 24,
   "metadata": {},
   "outputs": [],
   "source": [
    "# ### one way to generate the dataset\n",
    "\n",
    "# for word in tqdm(sampled_words, miniters=2, leave=False, mininterval=2.0): \n",
    "#     # , miniters=2, leave=False, mininterval=2.0):\n",
    "#     # print(word)\n",
    "#     all_scenarios = []\n",
    "#     # Process the word to get initial masked states\n",
    "#     # initial_masked_states = process_word(word, mask_prob=0.9, max_variants=10)\n",
    "\n",
    "#     # mask_prob, max_variants = adaptive_mask_prob_and_variants(word)\n",
    "#     mask_prob, max_variants \\\n",
    "#         = modified_adaptive_mask_prob_and_variants(word, sampled_lengths_distribution)\n",
    "\n",
    "#     game_states = process_word(word, mask_prob=mask_prob, \\\n",
    "#         max_variants=max_variants)\n",
    "\n",
    "#     for initial_state in game_states:\n",
    "        \n",
    "#         difficulties = [\"easy\", \"medium\", \"hard\"]\n",
    "#         outcomes = [\"win\", \"lose\"]\n",
    "\n",
    "#         for difficulty in difficulties:\n",
    "#             for outcome in outcomes:\n",
    "#                 # print(f'{word} from initial state: {initial_state}: \\\n",
    "#                 # Difficulty: {difficulty}, Outcome: {outcome}')\n",
    "#                 won, game_progress = simulate_game_progress(\n",
    "#                                         model=None, \n",
    "#                                         word=word, \n",
    "#                                         initial_state=initial_state, \n",
    "#                                         char_frequency=char_frequency, \n",
    "#                                         max_word_length=max_word_length, \n",
    "#                                         device=device, \n",
    "#                                         max_attempts=6, \n",
    "#                                         normalize=True, \n",
    "#                                         difficulty=difficulty, \n",
    "#                                         outcome_preference=outcome\n",
    "#                                     )\n",
    "\n",
    "#                 # all_scenarios.append({'word': word, 'difficulty': difficulty, \\\n",
    "#                 #     'outcome': outcome, 'data': (won, game_progress)})\n",
    "\n",
    "#                 all_scenarios.append({\n",
    "#                             'word': word, \n",
    "#                             'difficulty': difficulty,\n",
    "#                             'outcome': outcome, \n",
    "#                             'initial_state': initial_state,  # Added 'initial_state' key\n",
    "#                             'data': (won, game_progress)\n",
    "#                         })  # all game state\n",
    "\n",
    "#     #             break\n",
    "#     #         break\n",
    "#     #     break\n",
    "#     # break\n",
    "\n",
    "\n",
    "    \n",
    "#     # Create a directory for the current strarified samples\n",
    "    \n",
    "#     current_batch_dir = pkls_dir / str(iteration)\n",
    "#     current_batch_dir.mkdir(parents=True, exist_ok=True)\n",
    "\n",
    "#     # print(all_scenarios)\n",
    "\n",
    "#     # print(current_batch_dir)\n",
    "\n",
    "#     for scenario in all_scenarios:\n",
    "#         try:\n",
    "#             game_states = [scenario['data']]\n",
    "#             difficulty = scenario['difficulty']\n",
    "#             outcome = scenario['outcome']\n",
    "#             initial_state = scenario['initial_state']  # This should be the correct scope\n",
    "#             file_path = current_batch_dir / f\"{word}_from_{initial_state}_{difficulty}_{outcome}.pkl\"\n",
    "\n",
    "#             # print(f\"Saving scenario for {word}: {file_path}\")\n",
    "\n",
    "#             with open(file_path, 'wb') as file:\n",
    "#                 pickle.dump(game_states, file)\n",
    "\n",
    "#             # print(f\"Saved {file_path}\")\n",
    "\n",
    "#         except Exception as e:\n",
    "#             print(f\"Error saving {file_path}: {e}\")\n",
    "\n",
    "#     # Clear memory\n",
    "#     del all_scenarios # , sampled_scenarios\n",
    "\n",
    "#     # Manual garbage collection\n",
    "#     gc.collect()\n",
    "\n",
    "#     # train_words = [word for word in train_words if word not in sampled_words]\n",
    "#     # print(len(train_words))\n",
    "#     # print(iteration)\n",
    "#     iteration += 1"
   ]
  },
  {
   "cell_type": "code",
   "execution_count": 25,
   "id": "cb3c2690",
   "metadata": {
    "papermill": {
     "duration": null,
     "end_time": null,
     "exception": null,
     "start_time": null,
     "status": "pending"
    },
    "tags": []
   },
   "outputs": [],
   "source": [
    "# pkl_list = []\n",
    "\n",
    "# # Iterate over all batch directories\n",
    "# for batch_dir in sorted(pkls_dir.iterdir(), key=lambda x: int(x.name) \\\n",
    "#     if x.name.isdigit() else float('inf')):\n",
    "#     if batch_dir.is_dir():\n",
    "#         # List all .pkl files in the current batch directory\n",
    "#         pkl_files = list(batch_dir.glob(\"*.pkl\"))\n",
    "\n",
    "#         for pkl_file in pkl_files:\n",
    "#             with open(pkl_file, 'rb') as file:\n",
    "#                 game_data = pickle.load(file)\n",
    "#                 # Extract information from file name\n",
    "#                 parts = pkl_file.stem.split('_from_')\n",
    "#                 word_and_state = parts[0].split('_')\n",
    "#                 word = '_'.join(word_and_state[:-1])\n",
    "#                 initial_state = word_and_state[-1]\n",
    "#                 difficulty, outcome = parts[1].split('_')[-2:]\n",
    "\n",
    "#                 # Assuming game_data is a list of tuples (game_won, guesses)\n",
    "#                 for data in game_data:\n",
    "#                     game_won, guesses = data\n",
    "#                     # Create a scenario dictionary for each data tuple\n",
    "#                     scenario = {\n",
    "#                         'word': word,\n",
    "#                         'difficulty': difficulty,\n",
    "#                         'outcome': outcome,\n",
    "#                         'data': (game_won, guesses)\n",
    "#                     }\n",
    "#                     pkl_list.append((pkl_file, scenario))  # Add scenario to the list\n",
    "\n",
    "# # Accessing an individual pickle file's content by index\n",
    "# index_to_access = 1000  # Change this index to access different files\n",
    "# if index_to_access < len(pkl_list):\n",
    "#     file_path, scenario = pkl_list[index_to_access]\n",
    "#     print(f\"Contents of {file_path}:\")\n",
    "#     print_scenarios([scenario])  # Wrap scenario in a list for the function\n",
    "# else:\n",
    "#     print(f\"No pickle file at index {index_to_access}\")"
   ]
  },
  {
   "cell_type": "code",
   "execution_count": null,
   "metadata": {},
   "outputs": [],
   "source": []
  }
 ],
 "metadata": {
  "kernelspec": {
   "display_name": "optiver",
   "language": "python",
   "name": "python3"
  },
  "language_info": {
   "codemirror_mode": {
    "name": "ipython",
    "version": 3
   },
   "file_extension": ".py",
   "mimetype": "text/x-python",
   "name": "python",
   "nbconvert_exporter": "python",
   "pygments_lexer": "ipython3",
   "version": "3.10.13"
  },
  "papermill": {
   "default_parameters": {},
   "duration": null,
   "end_time": null,
   "environment_variables": {},
   "exception": null,
   "input_path": "/home/sayem/Desktop/Hangman/1_a_dataset_generation.ipynb",
   "output_path": "/home/sayem/Desktop/Hangman/1_a_dataset_generation.ipynb",
   "parameters": {},
   "start_time": "2023-11-24T22:23:41.671735",
   "version": "2.5.0"
  }
 },
 "nbformat": 4,
 "nbformat_minor": 5
}
