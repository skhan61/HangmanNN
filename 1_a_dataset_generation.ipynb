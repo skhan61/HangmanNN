{
 "cells": [
  {
   "cell_type": "markdown",
   "metadata": {},
   "source": [
    "##### Imports"
   ]
  },
  {
   "cell_type": "code",
   "execution_count": 1,
   "metadata": {},
   "outputs": [],
   "source": [
    "import sys\n",
    "from pathlib import Path\n",
    "import warnings\n",
    "\n",
    "import warnings\n",
    "import pandas as pd\n",
    "warnings.filterwarnings('ignore')\n",
    "\n",
    "pd.set_option('display.max_columns', 1000)\n",
    "pd.set_option('display.max_rows', 1000)\n",
    "\n",
    "import pickle\n",
    "from pathlib import Path\n",
    "from scr.dataset import *\n",
    "from scr.game import *\n",
    "import gc\n",
    "from scr.utils import print_scenarios\n",
    "\n",
    "\n",
    "from pathlib import Path\n",
    "import random\n",
    "from collections import Counter, defaultdict\n",
    "import pickle\n",
    "from tqdm import tqdm\n",
    "from torch.utils.data import Dataset\n",
    "from scr.feature_engineering import \\\n",
    "    calculate_char_frequencies, calculate_word_frequencies\n",
    "from scr.utils import read_words, save_words_to_file\n",
    "\n",
    "import sys\n",
    "# Custom library paths\n",
    "sys.path.extend(['../', './scr'])\n",
    "\n",
    "from scr.utils import set_seed\n",
    "from scr.utils import read_words\n",
    "\n",
    "set_seed(42)\n",
    "\n",
    "import torch\n",
    "import torch.nn as nn\n",
    "from pathlib import Path\n",
    "import random\n",
    "\n",
    "torch.set_float32_matmul_precision('medium')\n",
    "\n",
    "# Device configuration\n",
    "device = torch.device(\"cuda\" if torch.cuda.is_available() else \"cpu\")\n",
    "\n",
    "# # Read and Shuffle Word List\n",
    "word_list = read_words('data/words_250000_train.txt') # , limit=10000)\n",
    "# word_list = read_words('data/250k.txt', limit=10000)\n",
    "random.shuffle(word_list)"
   ]
  },
  {
   "cell_type": "code",
   "execution_count": null,
   "metadata": {
    "tags": [
     "parameters"
    ]
   },
   "outputs": [],
   "source": [
    "# # Parameters\n",
    "# NUM_STRATIFIED_SAMPLES = None  # This will be overwritten by Papermill\n",
    "# base_dataset_dir = None        # This will be overwritten by Papermill\n",
    "\n",
    "# print(\"NUM_STRATIFIED_SAMPLES:\", NUM_STRATIFIED_SAMPLES)\n",
    "# print(\"base_dataset_dir:\", base_dataset_dir)\n",
    "\n",
    "# # Import necessary library\n",
    "# from pathlib import Path\n",
    "\n",
    "# # Validate if parameters are provided\n",
    "# if NUM_STRATIFIED_SAMPLES is None or base_dataset_dir is None:\n",
    "#     raise ValueError(\"NUM_STRATIFIED_SAMPLES and base_dataset_dir must be provided.\")\n",
    "\n",
    "# # Define the base directory on the specified drive\n",
    "# base_dataset_dir = Path(base_dataset_dir)\n",
    "\n",
    "# # Ensuring the directory exists\n",
    "# base_dataset_dir.mkdir(parents=True, exist_ok=True)\n",
    "\n",
    "# # Create a subdirectory for pickle files\n",
    "# pkls_dir = base_dataset_dir / 'pkl'\n",
    "# pkls_dir.mkdir(parents=True, exist_ok=True)"
   ]
  },
  {
   "cell_type": "code",
   "execution_count": 2,
   "metadata": {
    "tags": []
   },
   "outputs": [],
   "source": [
    "from pathlib import Path\n",
    "\n",
    "NUM_STRATIFIED_SAMPLES = 25000\n",
    "\n",
    "# # Define the base directory on the specified drive\n",
    "base_dataset_dir = Path(f\"/media/sayem/510B93E12554BBD1/dataset/{NUM_STRATIFIED_SAMPLES}\")\n",
    "\n",
    "# base_dataset_dir = Path(f'./dataset/{NUM_STRATIFIED_SAMPLES}')\n",
    "\n",
    "# Ensuring the directory exists\n",
    "base_dataset_dir.mkdir(parents=True, exist_ok=True)\n",
    "\n",
    "pkls_dir = base_dataset_dir / 'pkl'\n",
    "pkls_dir.mkdir(parents=True, exist_ok=True)"
   ]
  },
  {
   "cell_type": "code",
   "execution_count": 3,
   "metadata": {},
   "outputs": [
    {
     "data": {
      "text/plain": [
       "PosixPath('dataset/25000')"
      ]
     },
     "execution_count": 3,
     "metadata": {},
     "output_type": "execute_result"
    }
   ],
   "source": [
    "base_dataset_dir"
   ]
  },
  {
   "cell_type": "code",
   "execution_count": 4,
   "metadata": {},
   "outputs": [],
   "source": [
    "# Splitting Dataset Function\n",
    "def split_dataset(word_list, train_ratio=0.7, val_ratio=0.15):\n",
    "    total_words = len(word_list)\n",
    "    train_size = int(total_words * train_ratio)\n",
    "    val_size = int(total_words * val_ratio)\n",
    "    random.shuffle(word_list)\n",
    "    return word_list[:train_size], word_list[train_size:train_size + val_size], \\\n",
    "        word_list[train_size + val_size:]\n",
    "\n",
    "\n",
    "# Splitting the word list\n",
    "train_words, val_words, test_words = split_dataset(word_list)\n",
    "\n",
    "# Save split datasets to files\n",
    "save_words_to_file(train_words, base_dataset_dir / 'train_words.txt')\n",
    "save_words_to_file(val_words, base_dataset_dir / 'val_words.txt')\n",
    "save_words_to_file(test_words, base_dataset_dir / 'test_words.txt')\n",
    "\n",
    "# Calculate Frequencies and Max Word Length\n",
    "word_frequencies = calculate_word_frequencies(train_words)\n",
    "char_frequency = calculate_char_frequencies(train_words)\n",
    "max_word_length = max(len(word) for word in train_words)"
   ]
  },
  {
   "cell_type": "code",
   "execution_count": 5,
   "metadata": {},
   "outputs": [
    {
     "data": {
      "text/plain": [
       "159110"
      ]
     },
     "execution_count": 5,
     "metadata": {},
     "output_type": "execute_result"
    }
   ],
   "source": [
    "len(train_words)"
   ]
  },
  {
   "cell_type": "code",
   "execution_count": 6,
   "metadata": {},
   "outputs": [
    {
     "name": "stdout",
     "output_type": "stream",
     "text": [
      "Number of Statrified samples: 25000\n"
     ]
    }
   ],
   "source": [
    "## we are taking starified samples from train_words\n",
    "\n",
    "from scr.custom_sampler import \\\n",
    "    stratified_sample_by_length_and_frequency, \\\n",
    "        stratified_sample_by_length\n",
    "\n",
    "print(f'Number of Statrified samples: {NUM_STRATIFIED_SAMPLES}')\n",
    "\n",
    "# sampled_words_by_length_and_frequency \\\n",
    "#     = stratified_sample_by_length_and_frequency(train_words, \\\n",
    "#     word_frequencies, \\\n",
    "#     NUM_STRATIFIED_SAMPLES)"
   ]
  },
  {
   "cell_type": "code",
   "execution_count": 7,
   "metadata": {},
   "outputs": [],
   "source": [
    "from collections import Counter\n",
    "import matplotlib.pyplot as plt\n",
    "import numpy as np\n",
    "\n",
    "def analyze_hangman_sample_practicality(original_word_list, stratified_sampling_method, num_samples):\n",
    "    # Generate a stratified sample\n",
    "    stratified_sample = stratified_sampling_method(original_word_list, num_samples)\n",
    "\n",
    "    # Analyze and plot word length distributions\n",
    "    plot_stratified_sampling_analysis(original_word_list, stratified_sample)\n",
    "\n",
    "    # Get word length distributions\n",
    "    original_lengths, sampled_lengths = get_length_distributions(original_word_list, stratified_sample)\n",
    "\n",
    "    # Evaluate representation of word lengths\n",
    "    representation_evaluation = {length: sampled_lengths.get(length, 0) / original_lengths.get(length, 1)\n",
    "                                 for length in original_lengths}\n",
    "\n",
    "    # Plotting the quality of sampling\n",
    "    plt.figure(figsize=(10, 5))\n",
    "    plt.bar(representation_evaluation.keys(), \\\n",
    "        representation_evaluation.values(), color='purple', alpha=0.7)\n",
    "    plt.xlabel('Word Length')\n",
    "    plt.ylabel('Representation Ratio')\n",
    "    plt.title('Quality of Sampling Analysis')\n",
    "    plt.axhline(y=1, color='r', linestyle='--')\n",
    "    plt.show()\n",
    "\n",
    "    # Check for unique word inclusion\n",
    "    unique_inclusion = len(set(stratified_sample)) == len(set(original_word_list))\n",
    "\n",
    "    return representation_evaluation, unique_inclusion\n",
    "\n",
    "def plot_stratified_sampling_analysis(original_word_list, stratified_sampled_word_list):\n",
    "    original_lengths = Counter([len(word) for word in original_word_list])\n",
    "    sampled_lengths = Counter([len(word) for word in stratified_sampled_word_list])\n",
    "\n",
    "    unique_lengths = sorted(set(original_lengths.keys()) | set(sampled_lengths.keys()))\n",
    "    original_counts = [original_lengths[length] for length in unique_lengths]\n",
    "    sampled_counts = [sampled_lengths[length] for length in unique_lengths]\n",
    "\n",
    "    original_counts_normalized = np.array(original_counts) / sum(original_counts)\n",
    "    sampled_counts_normalized = np.array(sampled_counts) / sum(sampled_counts)\n",
    "\n",
    "    plt.figure(figsize=(12, 6))\n",
    "    plt.subplot(1, 2, 1)\n",
    "    plt.bar(unique_lengths, original_counts_normalized, color='blue', alpha=0.7)\n",
    "    plt.title('Normalized Original Word Length Distribution')\n",
    "    plt.xlabel('Word Length')\n",
    "    plt.ylabel('Normalized Frequency')\n",
    "\n",
    "    plt.subplot(1, 2, 2)\n",
    "    plt.bar(unique_lengths, sampled_counts_normalized, color='green', alpha=0.7)\n",
    "    plt.title('Normalized Stratified Sample Word Length Distribution')\n",
    "    plt.xlabel('Word Length')\n",
    "    plt.ylabel('Normalized Frequency')\n",
    "    plt.tight_layout()\n",
    "    plt.show()\n",
    "\n",
    "def get_length_distributions(original_word_list, stratified_sampled_word_list):\n",
    "    original_lengths = Counter([len(word) for word in original_word_list])\n",
    "    sampled_lengths = Counter([len(word) for word in stratified_sampled_word_list])\n",
    "    return original_lengths, sampled_lengths\n"
   ]
  },
  {
   "cell_type": "code",
   "execution_count": 8,
   "metadata": {},
   "outputs": [
    {
     "data": {
      "image/png": "[encoded data removed]",
      "text/plain": [
       "<Figure size 1200x600 with 2 Axes>"
      ]
     },
     "metadata": {},
     "output_type": "display_data"
    },
    {
     "data": {
      "image/png": "[encoded data removed]",
      "text/plain": [
       "<Figure size 1000x500 with 1 Axes>"
      ]
     },
     "metadata": {},
     "output_type": "display_data"
    }
   ],
   "source": [
    "representation_evaluation, unique_inclusion = analyze_hangman_sample_practicality(\n",
    "    word_list, \n",
    "    stratified_sample_by_length, \n",
    "    NUM_STRATIFIED_SAMPLES\n",
    ")"
   ]
  },
  {
   "cell_type": "code",
   "execution_count": 9,
   "metadata": {},
   "outputs": [],
   "source": [
    "sampled_words_by_length = stratified_sample_by_length(word_list, \\\n",
    "    NUM_STRATIFIED_SAMPLES)"
   ]
  },
  {
   "cell_type": "code",
   "execution_count": 10,
   "metadata": {},
   "outputs": [
    {
     "data": {
      "text/plain": [
       "False"
      ]
     },
     "execution_count": 10,
     "metadata": {},
     "output_type": "execute_result"
    }
   ],
   "source": [
    "unique_inclusion"
   ]
  },
  {
   "cell_type": "code",
   "execution_count": 11,
   "metadata": {},
   "outputs": [],
   "source": [
    "# sampled_words_by_length_and_frequency \\\n",
    "#     = stratified_sample_by_length_and_frequency(train_words, \\\n",
    "#     word_frequencies, \\\n",
    "#     NUM_STRATIFIED_SAMPLES)"
   ]
  },
  {
   "cell_type": "markdown",
   "metadata": {},
   "source": [
    "##### Game Simulation: Data Reading and Feature Engineering"
   ]
  },
  {
   "cell_type": "code",
   "execution_count": 12,
   "metadata": {},
   "outputs": [],
   "source": [
    "def count_repetitive_characters(word):\n",
    "    char_count = {}\n",
    "    for char in word:\n",
    "        char_count[char] = char_count.get(char, 0) + 1\n",
    "    return sum(1 for count in char_count.values() if count > 1)\n",
    "\n",
    "def adaptive_mask_prob_and_variants(word):\n",
    "    word_length = len(word)\n",
    "    unique_char_count = len(set(word))\n",
    "    repetitive_char_count = count_repetitive_characters(word)\n",
    "\n",
    "    # Lower mask probability for longer and more unique words\n",
    "    if word_length <= 5:\n",
    "        mask_prob = 0.8 if repetitive_char_count > (word_length / 2) else 0.9\n",
    "    \n",
    "    elif word_length <= 8:\n",
    "        mask_prob = 0.6 if unique_char_count > 4 else 0.7\n",
    "    \n",
    "    else:\n",
    "        mask_prob = 0.4 if unique_char_count > 6 else 0.5\n",
    "\n",
    "    # Adjust max variants based on the complexity of the word\n",
    "    if unique_char_count <= 3 or repetitive_char_count > (word_length / 2):\n",
    "        max_variants = max(5, word_length)\n",
    "    \n",
    "    elif unique_char_count <= 6:\n",
    "        max_variants = max(10, word_length)\n",
    "    \n",
    "    else:\n",
    "        max_variants = min(15, word_length)\n",
    "\n",
    "    return mask_prob, max_variants\n"
   ]
  },
  {
   "cell_type": "code",
   "execution_count": 13,
   "metadata": {},
   "outputs": [],
   "source": [
    "def modified_adaptive_mask_prob_and_variants(word, length_distribution):\n",
    "    word_length = len(word)\n",
    "    unique_char_count = len(set(word))\n",
    "    repetitive_char_count = count_repetitive_characters(word)\n",
    "\n",
    "    # Determine average word length from the distribution\n",
    "    avg_word_length = sum(length * count for length, count in \\\n",
    "        length_distribution.items()) / sum(length_distribution.values())\n",
    "\n",
    "    # Adjust the mask probability and max variants based on the average word length\n",
    "    if word_length <= avg_word_length:\n",
    "        mask_prob = 0.8 if repetitive_char_count > (word_length / 2) else 0.9\n",
    "        max_variants = max(5, word_length)\n",
    "    else:\n",
    "        mask_prob = 0.6 if unique_char_count > 4 else 0.7\n",
    "        max_variants = max(10, word_length)\n",
    "\n",
    "    return mask_prob, max_variants\n"
   ]
  },
  {
   "cell_type": "code",
   "execution_count": 14,
   "metadata": {},
   "outputs": [
    {
     "data": {
      "text/plain": [
       "0.9"
      ]
     },
     "execution_count": 14,
     "metadata": {},
     "output_type": "execute_result"
    }
   ],
   "source": [
    "# Get the word length distributions for further analysis\n",
    "original_lengths_distribution, sampled_lengths_distribution \\\n",
    "    = get_length_distributions(word_list, sampled_words_by_length)\n",
    "\n",
    "\n",
    "word = \"noon\"\n",
    "mask_prob, max_variants \\\n",
    "    = modified_adaptive_mask_prob_and_variants(word, sampled_lengths_distribution)\n",
    "\n",
    "mask_prob"
   ]
  },
  {
   "cell_type": "code",
   "execution_count": 15,
   "metadata": {},
   "outputs": [
    {
     "data": {
      "text/plain": [
       "0.9"
      ]
     },
     "execution_count": 15,
     "metadata": {},
     "output_type": "execute_result"
    }
   ],
   "source": [
    "word = \"noon\"\n",
    "mask_prob, max_variants = adaptive_mask_prob_and_variants(word)\n",
    "\n",
    "mask_prob"
   ]
  },
  {
   "cell_type": "code",
   "execution_count": 16,
   "metadata": {},
   "outputs": [
    {
     "data": {
      "text/plain": [
       "5"
      ]
     },
     "execution_count": 16,
     "metadata": {},
     "output_type": "execute_result"
    }
   ],
   "source": [
    "max_variants"
   ]
  },
  {
   "cell_type": "markdown",
   "metadata": {},
   "source": [
    "##### Game State Simulation"
   ]
  },
  {
   "cell_type": "code",
   "execution_count": 17,
   "metadata": {},
   "outputs": [
    {
     "name": "stdout",
     "output_type": "stream",
     "text": [
      "Generated Initial States:\n",
      "___________\n",
      "For initial state: ___________\n",
      "Guessed: 's', New State: '__ss_ss____', Correct: True\n",
      "Guessed: 'c', New State: '__ss_ss____', Correct: False\n",
      "Guessed: 'p', New State: '__ss_ss_pp_', Correct: True\n",
      "Guessed: 'm', New State: 'm_ss_ss_pp_', Correct: True\n",
      "Guessed: 'o', New State: 'm_ss_ss_pp_', Correct: False\n",
      "Guessed: 't', New State: 'm_ss_ss_pp_', Correct: False\n",
      "Guessed: 'i', New State: 'mississippi', Correct: True\n",
      "m_ss_ss____\n",
      "For initial state: m_ss_ss____\n",
      "Guessed: 'o', New State: 'm_ss_ss____', Correct: False\n",
      "Guessed: 'a', New State: 'm_ss_ss____', Correct: False\n",
      "Guessed: 'i', New State: 'mississi__i', Correct: True\n",
      "Guessed: 'w', New State: 'mississi__i', Correct: False\n",
      "Guessed: 'c', New State: 'mississi__i', Correct: False\n",
      "Guessed: 'l', New State: 'mississi__i', Correct: False\n",
      "Guessed: 'v', New State: 'mississi__i', Correct: False\n",
      "_i__i__ippi\n",
      "For initial state: _i__i__ippi\n",
      "Guessed: 's', New State: '_ississippi', Correct: True\n",
      "Guessed: 'm', New State: 'mississippi', Correct: True\n",
      "________pp_\n",
      "For initial state: ________pp_\n",
      "Guessed: 'v', New State: '________pp_', Correct: False\n",
      "Guessed: 'w', New State: '________pp_', Correct: False\n",
      "Guessed: 't', New State: '________pp_', Correct: False\n",
      "Guessed: 'f', New State: '________pp_', Correct: False\n",
      "Guessed: 'i', New State: '_i__i__ippi', Correct: True\n",
      "Guessed: 'm', New State: 'mi__i__ippi', Correct: True\n",
      "Guessed: 's', New State: 'mississippi', Correct: True\n",
      "__ss_ss____\n",
      "For initial state: __ss_ss____\n",
      "Guessed: 'j', New State: '__ss_ss____', Correct: False\n",
      "Guessed: 'm', New State: 'm_ss_ss____', Correct: True\n",
      "Guessed: 'x', New State: 'm_ss_ss____', Correct: False\n",
      "Guessed: 'i', New State: 'mississi__i', Correct: True\n",
      "Guessed: 'p', New State: 'mississippi', Correct: True\n",
      "mi__i__i__i\n",
      "For initial state: mi__i__i__i\n",
      "Guessed: 's', New State: 'mississi__i', Correct: True\n",
      "Guessed: 'd', New State: 'mississi__i', Correct: False\n",
      "Guessed: 'g', New State: 'mississi__i', Correct: False\n",
      "Guessed: 'x', New State: 'mississi__i', Correct: False\n",
      "Guessed: 'p', New State: 'mississippi', Correct: True\n",
      "m_______pp_\n",
      "For initial state: m_______pp_\n",
      "Guessed: 'g', New State: 'm_______pp_', Correct: False\n",
      "Guessed: 'w', New State: 'm_______pp_', Correct: False\n",
      "Guessed: 'i', New State: 'mi__i__ippi', Correct: True\n",
      "Guessed: 'x', New State: 'mi__i__ippi', Correct: False\n",
      "Guessed: 'j', New State: 'mi__i__ippi', Correct: False\n",
      "Guessed: 'z', New State: 'mi__i__ippi', Correct: False\n",
      "Guessed: 's', New State: 'mississippi', Correct: True\n",
      "_i__i__i__i\n",
      "For initial state: _i__i__i__i\n",
      "Guessed: 'k', New State: '_i__i__i__i', Correct: False\n",
      "Guessed: 'z', New State: '_i__i__i__i', Correct: False\n",
      "Guessed: 'u', New State: '_i__i__i__i', Correct: False\n",
      "Guessed: 's', New State: '_ississi__i', Correct: True\n",
      "Guessed: 't', New State: '_ississi__i', Correct: False\n",
      "Guessed: 'r', New State: '_ississi__i', Correct: False\n",
      "Guessed: 'm', New State: 'mississi__i', Correct: True\n",
      "Guessed: 'q', New State: 'mississi__i', Correct: False\n",
      "m__________\n",
      "For initial state: m__________\n",
      "Guessed: 'y', New State: 'm__________', Correct: False\n",
      "Guessed: 'g', New State: 'm__________', Correct: False\n",
      "Guessed: 'p', New State: 'm_______pp_', Correct: True\n",
      "Guessed: 'e', New State: 'm_______pp_', Correct: False\n",
      "Guessed: 'x', New State: 'm_______pp_', Correct: False\n",
      "Guessed: 'i', New State: 'mi__i__ippi', Correct: True\n",
      "Guessed: 's', New State: 'mississippi', Correct: True\n",
      "__ss_ss_pp_\n",
      "For initial state: __ss_ss_pp_\n",
      "Guessed: 'j', New State: '__ss_ss_pp_', Correct: False\n",
      "Guessed: 'q', New State: '__ss_ss_pp_', Correct: False\n",
      "Guessed: 'l', New State: '__ss_ss_pp_', Correct: False\n",
      "Guessed: 'n', New State: '__ss_ss_pp_', Correct: False\n",
      "Guessed: 'm', New State: 'm_ss_ss_pp_', Correct: True\n",
      "Guessed: 'i', New State: 'mississippi', Correct: True\n",
      "_ississi__i\n",
      "For initial state: _ississi__i\n",
      "Guessed: 'w', New State: '_ississi__i', Correct: False\n",
      "Guessed: 'p', New State: '_ississippi', Correct: True\n",
      "Guessed: 'b', New State: '_ississippi', Correct: False\n",
      "Guessed: 'm', New State: 'mississippi', Correct: True\n"
     ]
    }
   ],
   "source": [
    "from scr.game import simulate_game_progress, play_game_with_a_word, process_word\n",
    "\n",
    "# Example word and initial state\n",
    "# Example usage\n",
    "word = \"mississippi\"\n",
    "# word = \"cat\"\n",
    "# mask_prob, max_variants = adaptive_mask_prob_and_variants(word)\n",
    "\n",
    "\n",
    "mask_prob, max_variants \\\n",
    "    = modified_adaptive_mask_prob_and_variants(word, sampled_lengths_distribution)\n",
    "\n",
    "initial_states = process_word(word, mask_prob=mask_prob, \\\n",
    "    max_variants=max_variants)\n",
    "\n",
    "# Print generated initial states\n",
    "print(\"Generated Initial States:\")\n",
    "for initial_state in initial_states:\n",
    "    # Simulate the game\n",
    "    print(initial_state)\n",
    "    print(f\"For initial state: {initial_state}\")\n",
    "    won, game_progress = simulate_game_progress(\n",
    "        model=None,  # Assuming model is not used in this example\n",
    "        word=word, \n",
    "        initial_state=initial_state, \n",
    "        char_frequency={},  # Assuming char_frequency is not used in this example\n",
    "        max_word_length=len(word), \n",
    "        device=None,  # Assuming device is not used in this example\n",
    "        max_attempts=6, \n",
    "        normalize=True,\n",
    "        difficulty=\"medium\", \n",
    "        outcome_preference='win'\n",
    "    )\n",
    "\n",
    "    # Display game progress\n",
    "    for step in game_progress:\n",
    "        print(f\"Guessed: '{step[0]}', New State: '{step[1]}', Correct: {step[2]}\")\n",
    "\n",
    "        # break\n",
    "\n",
    "    # break\n",
    "\n",
    "    # print(\"Game Result:\", \"Won\" if won else \"Lost\")"
   ]
  },
  {
   "cell_type": "code",
   "execution_count": 18,
   "metadata": {},
   "outputs": [
    {
     "data": {
      "text/plain": [
       "11"
      ]
     },
     "execution_count": 18,
     "metadata": {},
     "output_type": "execute_result"
    }
   ],
   "source": [
    "len(initial_states)"
   ]
  },
  {
   "cell_type": "code",
   "execution_count": 19,
   "metadata": {},
   "outputs": [
    {
     "data": {
      "text/plain": [
       "['___________',\n",
       " 'm_ss_ss____',\n",
       " '_i__i__ippi',\n",
       " '________pp_',\n",
       " '__ss_ss____',\n",
       " 'mi__i__i__i',\n",
       " 'm_______pp_',\n",
       " '_i__i__i__i',\n",
       " 'm__________',\n",
       " '__ss_ss_pp_',\n",
       " '_ississi__i']"
      ]
     },
     "execution_count": 19,
     "metadata": {},
     "output_type": "execute_result"
    }
   ],
   "source": [
    "initial_states"
   ]
  },
  {
   "cell_type": "markdown",
   "metadata": {},
   "source": [
    "##### Dataset Generation"
   ]
  },
  {
   "cell_type": "code",
   "execution_count": 20,
   "metadata": {},
   "outputs": [
    {
     "name": "stdout",
     "output_type": "stream",
     "text": [
      "Number words for state generation: 25003\n"
     ]
    },
    {
     "name": "stderr",
     "output_type": "stream",
     "text": [
      "                                                     \r"
     ]
    }
   ],
   "source": [
    "from scr.custom_sampler import stratified_sample_by_length_and_frequency\n",
    "\n",
    "# NUM_STRATIFIED_SAMPLES = 1000\n",
    "# Main loop\n",
    "iteration = 0\n",
    "\n",
    "sampled_words = stratified_sample_by_length_and_frequency(train_words, \\\n",
    "    word_frequencies, \\\n",
    "    NUM_STRATIFIED_SAMPLES)\n",
    "\n",
    "original_lengths_distribution, sampled_lengths_distribution \\\n",
    "    = get_length_distributions(word_list, sampled_words_by_length)\n",
    "\n",
    "print(f'Number words for state generation: {len(sampled_words)}')\n",
    "\n",
    "for word in tqdm(sampled_words, miniters=2, leave=False, mininterval=2.0): \n",
    "    # , miniters=2, leave=False, mininterval=2.0):\n",
    "    # print(word)\n",
    "    all_scenarios = []\n",
    "    # Process the word to get initial masked states\n",
    "    # initial_masked_states = process_word(word, mask_prob=0.9, max_variants=10)\n",
    "\n",
    "    # mask_prob, max_variants = adaptive_mask_prob_and_variants(word)\n",
    "    mask_prob, max_variants \\\n",
    "        = modified_adaptive_mask_prob_and_variants(word, sampled_lengths_distribution)\n",
    "\n",
    "    game_states = process_word(word, mask_prob=mask_prob, \\\n",
    "        max_variants=max_variants)\n",
    "\n",
    "    for initial_state in game_states:\n",
    "        \n",
    "        difficulties = [\"easy\", \"medium\", \"hard\"]\n",
    "        outcomes = [\"win\", \"lose\"]\n",
    "\n",
    "        for difficulty in difficulties:\n",
    "            for outcome in outcomes:\n",
    "                # print(f'{word} from initial state: {initial_state}: \\\n",
    "                # Difficulty: {difficulty}, Outcome: {outcome}')\n",
    "                won, game_progress = simulate_game_progress(\n",
    "                                        model=None, \n",
    "                                        word=word, \n",
    "                                        initial_state=initial_state, \n",
    "                                        char_frequency=char_frequency, \n",
    "                                        max_word_length=max_word_length, \n",
    "                                        device=device, \n",
    "                                        max_attempts=6, \n",
    "                                        normalize=True, \n",
    "                                        difficulty=difficulty, \n",
    "                                        outcome_preference=outcome\n",
    "                                    )\n",
    "\n",
    "                # all_scenarios.append({'word': word, 'difficulty': difficulty, \\\n",
    "                #     'outcome': outcome, 'data': (won, game_progress)})\n",
    "\n",
    "                all_scenarios.append({\n",
    "                            'word': word, \n",
    "                            'difficulty': difficulty,\n",
    "                            'outcome': outcome, \n",
    "                            'initial_state': initial_state,  # Added 'initial_state' key\n",
    "                            'data': (won, game_progress)\n",
    "                        })  # all game state\n",
    "    \n",
    "    # Create a directory for the current strarified samples\n",
    "    \n",
    "    current_batch_dir = pkls_dir / str(iteration)\n",
    "    current_batch_dir.mkdir(parents=True, exist_ok=True)\n",
    "\n",
    "    # print(all_scenarios)\n",
    "\n",
    "    # print(current_batch_dir)\n",
    "\n",
    "    for scenario in all_scenarios:\n",
    "        try:\n",
    "            game_states = [scenario['data']]\n",
    "            difficulty = scenario['difficulty']\n",
    "            outcome = scenario['outcome']\n",
    "            initial_state = scenario['initial_state']  # This should be the correct scope\n",
    "            file_path = current_batch_dir / f\"{word}_from_{initial_state}_{difficulty}_{outcome}.pkl\"\n",
    "\n",
    "            # print(f\"Saving scenario for {word}: {file_path}\")\n",
    "\n",
    "            with open(file_path, 'wb') as file:\n",
    "                pickle.dump(game_states, file)\n",
    "\n",
    "            # print(f\"Saved {file_path}\")\n",
    "\n",
    "        except Exception as e:\n",
    "            print(f\"Error saving {file_path}: {e}\")\n",
    "\n",
    "    # Clear memory\n",
    "    del all_scenarios # , sampled_scenarios\n",
    "\n",
    "    # Manual garbage collection\n",
    "    gc.collect()\n",
    "\n",
    "    # train_words = [word for word in train_words if word not in sampled_words]\n",
    "    # print(len(train_words))\n",
    "    # print(iteration)\n",
    "    iteration += 1"
   ]
  },
  {
   "cell_type": "markdown",
   "metadata": {},
   "source": [
    "##### Reading Checking"
   ]
  },
  {
   "cell_type": "code",
   "execution_count": 21,
   "metadata": {},
   "outputs": [],
   "source": [
    "# pkl_list = []\n",
    "\n",
    "# for batch_dir in sorted(pkls_dir.iterdir(), \\\n",
    "#     key=lambda x: int(x.name) if x.name.isdigit() else float('inf')):\n",
    "#     if batch_dir.is_dir():\n",
    "#         pkl_files = list(batch_dir.glob(\"*.pkl\"))\n",
    "\n",
    "#         for pkl_file in pkl_files:\n",
    "#             with open(pkl_file, 'rb') as file:\n",
    "#                 game_data = pickle.load(file)\n",
    "\n",
    "#                 # Split the file name to extract word and initial state\n",
    "#                 parts = pkl_file.stem.split('_from_')\n",
    "#                 word = parts[0]  # The word is before '_from_'\n",
    "#                 remaining_parts = parts[1].split('_')\n",
    "#                 initial_state = remaining_parts[0]  # The initial state is right after '_from_'\n",
    "#                 difficulty, outcome = remaining_parts[1], remaining_parts[2]\n",
    "\n",
    "#                 for data in game_data:\n",
    "#                     game_won, guesses = data\n",
    "#                     scenario = {\n",
    "#                         'word': word,\n",
    "#                         'initial_state': initial_state,\n",
    "#                         'difficulty': difficulty,\n",
    "#                         'outcome': outcome,\n",
    "#                         'data': (game_won, guesses)\n",
    "#                     }\n",
    "#                     pkl_list.append((pkl_file, scenario))\n",
    "\n",
    "# index_to_access = 1000\n",
    "# if index_to_access < len(pkl_list):\n",
    "#     file_path, scenario = pkl_list[index_to_access]\n",
    "#     print(f\"Contents of {file_path}:\")\n",
    "#     print_scenarios([scenario])\n",
    "# else:\n",
    "#     print(f\"No pickle file at index {index_to_access}\")\n"
   ]
  },
  {
   "cell_type": "code",
   "execution_count": 22,
   "metadata": {},
   "outputs": [],
   "source": [
    "# pkl_list = []\n",
    "\n",
    "# # Iterate over all batch directories\n",
    "# for batch_dir in sorted(pkls_dir.iterdir(), key=lambda x: int(x.name) \\\n",
    "#     if x.name.isdigit() else float('inf')):\n",
    "#     if batch_dir.is_dir():\n",
    "#         # List all .pkl files in the current batch directory\n",
    "#         pkl_files = list(batch_dir.glob(\"*.pkl\"))\n",
    "\n",
    "#         for pkl_file in pkl_files:\n",
    "#             with open(pkl_file, 'rb') as file:\n",
    "#                 game_data = pickle.load(file)\n",
    "#                 # Extract information from file name\n",
    "#                 parts = pkl_file.stem.split('_from_')\n",
    "#                 word_and_state = parts[0].split('_')\n",
    "#                 word = '_'.join(word_and_state[:-1])\n",
    "#                 initial_state = word_and_state[-1]\n",
    "#                 difficulty, outcome = parts[1].split('_')[-2:]\n",
    "\n",
    "#                 # Assuming game_data is a list of tuples (game_won, guesses)\n",
    "#                 for data in game_data:\n",
    "#                     game_won, guesses = data\n",
    "#                     # Create a scenario dictionary for each data tuple\n",
    "#                     scenario = {\n",
    "#                         'word': word,\n",
    "#                         'difficulty': difficulty,\n",
    "#                         'outcome': outcome,\n",
    "#                         'data': (game_won, guesses)\n",
    "#                     }\n",
    "#                     pkl_list.append((pkl_file, scenario))  # Add scenario to the list\n",
    "\n",
    "# # Accessing an individual pickle file's content by index\n",
    "# index_to_access = 1000  # Change this index to access different files\n",
    "# if index_to_access < len(pkl_list):\n",
    "#     file_path, scenario = pkl_list[index_to_access]\n",
    "#     print(f\"Contents of {file_path}:\")\n",
    "#     print_scenarios([scenario])  # Wrap scenario in a list for the function\n",
    "# else:\n",
    "#     print(f\"No pickle file at index {index_to_access}\")"
   ]
  }
 ],
 "metadata": {
  "kernelspec": {
   "display_name": "optiver",
   "language": "python",
   "name": "python3"
  },
  "language_info": {
   "codemirror_mode": {
    "name": "ipython",
    "version": 3
   },
   "file_extension": ".py",
   "mimetype": "text/x-python",
   "name": "python",
   "nbconvert_exporter": "python",
   "pygments_lexer": "ipython3",
   "version": "3.10.13"
  }
 },
 "nbformat": 4,
 "nbformat_minor": 2
}
