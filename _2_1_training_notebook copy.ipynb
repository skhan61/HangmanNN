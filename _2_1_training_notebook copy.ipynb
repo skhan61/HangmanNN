{
 "cells": [
  {
   "cell_type": "markdown",
   "metadata": {},
   "source": [
    "##### Imports"
   ]
  },
  {
   "cell_type": "code",
   "execution_count": 1,
   "metadata": {},
   "outputs": [],
   "source": [
    "import sys\n",
    "from pathlib import Path\n",
    "import warnings\n",
    "\n",
    "import warnings\n",
    "import pandas as pd\n",
    "warnings.filterwarnings('ignore')\n",
    "\n",
    "pd.set_option('display.max_columns', 1000)\n",
    "pd.set_option('display.max_rows', 1000)\n",
    "\n",
    "import sys\n",
    "# Custom library paths\n",
    "sys.path.extend(['../', './scr'])\n",
    "\n",
    "from scr.utils import set_seed\n",
    "from scr.utils import read_words\n",
    "from pathlib import Path\n",
    "import random\n",
    "from collections import Counter, defaultdict\n",
    "import pickle\n",
    "from tqdm import tqdm\n",
    "from torch.utils.data import Dataset\n",
    "\n",
    "from scr.utils import read_words, save_words_to_file\n",
    "\n",
    "import pickle\n",
    "from pathlib import Path\n",
    "from scr.dataset import *\n",
    "from scr.utils import *\n",
    "# # For inference\n",
    "from scr.feature_engineering import *\n",
    "from scr.encoder import *\n",
    "from scr.trainer_ import *\n",
    "from scr.decoder import SimpleLSTM\n",
    "\n",
    "import gc\n",
    "\n",
    "set_seed(42)\n",
    "\n",
    "import torch\n",
    "import torch.nn as nn\n",
    "from pathlib import Path\n",
    "import random\n",
    "\n",
    "from scr.utils import print_scenarios\n",
    "torch.set_float32_matmul_precision('medium')\n",
    "from pathlib import Path\n",
    "\n",
    "# Device configuration\n",
    "device = torch.device(\"cuda\" if torch.cuda.is_available() else \"cpu\")\n",
    "\n",
    "# # Read and Shuffle Word List\n",
    "word_list = read_words('data/words_250000_train.txt') # , limit=10000)\n",
    "# word_list = read_words('data/250k.txt', limit=10000)\n",
    "\n",
    "random.shuffle(word_list)\n",
    "\n",
    "# Calculate Frequencies and Max Word Length\n",
    "word_frequencies = calculate_word_frequencies(word_list)\n",
    "char_frequency = calculate_char_frequencies(word_list)\n",
    "max_word_length = max(len(word) for word in word_list)"
   ]
  },
  {
   "cell_type": "markdown",
   "metadata": {},
   "source": [
    "##### Data Dir"
   ]
  },
  {
   "cell_type": "code",
   "execution_count": 2,
   "metadata": {},
   "outputs": [],
   "source": [
    "NUM_STRATIFIED_SAMPLES = 100 # This will be overwritten by Papermill\n",
    "\n",
    "NUM_WORD_SAMPLE = 1_00 # words for testing\n",
    "\n",
    "FAST_DEV_RUN = False\n",
    "\n",
    "MAX_EPOCH = 250"
   ]
  },
  {
   "cell_type": "code",
   "execution_count": 3,
   "metadata": {},
   "outputs": [
    {
     "name": "stdout",
     "output_type": "stream",
     "text": [
      "Length of the testing word list: 10048\n",
      "Sampled 230 unique words for testing.\n",
      "230\n"
     ]
    }
   ],
   "source": [
    "from pathlib import Path\n",
    "from scr.custom_sampler import *\n",
    "\n",
    "# Define the base directory and the paths for training and validation parquet files\n",
    "base_dataset_dir = Path(\"/media/sayem/510B93E12554BBD1/dataset/\")\n",
    "stratified_samples_dir = base_dataset_dir / str(NUM_STRATIFIED_SAMPLES)\n",
    "parquet_path = stratified_samples_dir / 'parquets'\n",
    "\n",
    "# Create directories for train and validation parquets if they don't exist\n",
    "parquet_path.mkdir(parents=True, exist_ok=True)\n",
    "# parquet_valid_path.mkdir(parents=True, exist_ok=True)\n",
    "\n",
    "# Define and create the directory for models\n",
    "models_dir = Path(\"/home/sayem/Desktop/Hangman/models\")\n",
    "models_dir.mkdir(parents=True, exist_ok=True)\n",
    "\n",
    "# Define your output directory\n",
    "# Define your output directory and logger directory\n",
    "output_dir = Path(\"/home/sayem/Desktop/Hangman/training_outputs\")\n",
    "logger_dir = output_dir / \"lightning_logs\"\n",
    "\n",
    "# Create the output and logger directories if they don't exist\n",
    "output_dir.mkdir(parents=True, exist_ok=True)\n",
    "logger_dir.mkdir(parents=True, exist_ok=True)\n",
    "\n",
    "# Define the file path for saving the testing words\n",
    "testing_words_file_path = stratified_samples_dir / \"testing_words.txt\"\n",
    "\n",
    "try:\n",
    "    testing_word_list = read_words(testing_words_file_path)\n",
    "    print(f\"Length of the testing word list: {len(testing_word_list)}\")\n",
    "    sampled_test_words = stratified_sample_by_length_and_uniqueness(testing_word_list, NUM_WORD_SAMPLE)\n",
    "    print(f\"Sampled {len(sampled_test_words)} unique words for testing.\")\n",
    "except FileNotFoundError:\n",
    "    print(f\"File not found: {testing_words_file_path}\")\n",
    "\n",
    "print(len(sampled_test_words))"
   ]
  },
  {
   "cell_type": "markdown",
   "metadata": {},
   "source": [
    "##### Dataset Loading and train test split"
   ]
  },
  {
   "cell_type": "code",
   "execution_count": 4,
   "metadata": {},
   "outputs": [],
   "source": [
    "# Create datasets directly from the saved parquet files\n",
    "hangman_dataset = HangmanDataset(parquet_path)\n",
    "# valid_dataset = HangmanDataset(parquet_valid_path)\n",
    "\n",
    "from scr.utils import *\n",
    "\n",
    "# Split the dataset into training and validation sets\n",
    "train_dataset, valid_dataset = hangman_dataset.split(test_size=0.2)"
   ]
  },
  {
   "cell_type": "code",
   "execution_count": 5,
   "metadata": {},
   "outputs": [
    {
     "name": "stdout",
     "output_type": "stream",
     "text": [
      "Total samples in original dataset: 8658\n",
      "Samples in training dataset: 6916\n",
      "Samples in validation dataset: 1742\n",
      "Training dataset sequence length distribution: {4: 456, 5: 412, 7: 936, 6: 344, 9: 666, 8: 852, 3: 597, 2: 1092, 11: 327, 14: 116, 10: 445, 12: 264, 18: 32, 17: 49, 15: 88, 16: 59, 13: 156, 19: 13, 20: 11, 21: 1}\n",
      "Validation dataset sequence length distribution: {4: 115, 5: 104, 7: 234, 6: 87, 9: 167, 8: 213, 3: 150, 2: 274, 11: 82, 14: 30, 10: 112, 12: 67, 18: 9, 17: 13, 15: 23, 16: 15, 13: 39, 19: 4, 20: 3, 21: 1}\n"
     ]
    }
   ],
   "source": [
    "def check_seq_len_distribution(dataset):\n",
    "    distribution = {}\n",
    "    for seq_len, indices in dataset.seq_len_index.items():\n",
    "        distribution[seq_len] = len(indices)\n",
    "    return distribution\n",
    "\n",
    "# Check proportions\n",
    "print(f\"Total samples in original dataset: {len(hangman_dataset)}\")\n",
    "print(f\"Samples in training dataset: {len(train_dataset)}\")\n",
    "print(f\"Samples in validation dataset: {len(valid_dataset)}\")\n",
    "\n",
    "# Verify that the sum of train and validation samples equals the total samples\n",
    "assert len(train_dataset) + len(valid_dataset) == len(hangman_dataset), \"Mismatch in total sample count\"\n",
    "\n",
    "# Check sequence length distribution in each dataset\n",
    "train_distribution = check_seq_len_distribution(train_dataset)\n",
    "valid_distribution = check_seq_len_distribution(valid_dataset)\n",
    "\n",
    "print(\"Training dataset sequence length distribution:\", train_distribution)\n",
    "print(\"Validation dataset sequence length distribution:\", valid_distribution)\n",
    "\n",
    "# Ensure each sequence length is represented in both datasets\n",
    "assert set(train_distribution.keys()) == set(valid_distribution.keys()), \"Mismatch in sequence length representation\""
   ]
  },
  {
   "cell_type": "code",
   "execution_count": 6,
   "metadata": {},
   "outputs": [
    {
     "name": "stdout",
     "output_type": "stream",
     "text": [
      "Unique sequence lengths in training dataset: 20\n",
      "Unique sequence lengths in validation dataset: 20\n"
     ]
    }
   ],
   "source": [
    "def count_unique_seq_lens(dataset):\n",
    "    # Count the unique sequence lengths in the dataset\n",
    "    unique_seq_lens = len(dataset.seq_len_index)\n",
    "    return unique_seq_lens\n",
    "\n",
    "train_unique_seq_lens = count_unique_seq_lens(train_dataset)\n",
    "valid_unique_seq_lens = count_unique_seq_lens(valid_dataset)\n",
    "\n",
    "print(f\"Unique sequence lengths in training dataset: {train_unique_seq_lens}\")\n",
    "print(f\"Unique sequence lengths in validation dataset: {valid_unique_seq_lens}\")"
   ]
  },
  {
   "cell_type": "markdown",
   "metadata": {},
   "source": [
    "##### Model Initialization"
   ]
  },
  {
   "cell_type": "code",
   "execution_count": 7,
   "metadata": {},
   "outputs": [],
   "source": [
    "# Fixed parameters\n",
    "max_word_length = 29  # Maximum word length\n",
    "num_embeddings = 28   # Vocabulary size (fixed, based on unique characters in the game)\n",
    "num_features = 160     # Number of features per character\n",
    "missed_char_dim = 28  # Additional dimension for missed characters\n",
    "output_dim = 28       # Output dimension for the model\n",
    "char_feature_dim = 5  # Features per character\n",
    "additional_state_features = num_features \\\n",
    "    - max_word_length * char_feature_dim   # Additional features per state"
   ]
  },
  {
   "cell_type": "code",
   "execution_count": 8,
   "metadata": {},
   "outputs": [
    {
     "name": "stdout",
     "output_type": "stream",
     "text": [
      "Addition state fetatures: 15\n",
      "Model saved at /home/sayem/Desktop/Hangman/models/100_untrained_model.pth\n"
     ]
    }
   ],
   "source": [
    "# Tunable hyperparameters\n",
    "LEARNING_RATE = 0.0005248074602497723\n",
    "HIDDEN_DIM = 32 ### 32\n",
    "NUM_LAYERS = 1\n",
    "EMBEDDING_DIM = 50\n",
    "DROPOUT_PROB = 0.33\n",
    "\n",
    "L1_FACTOR = 0.0005236754641745983\n",
    "L2_FACTOR = 0.004375162823431166\n",
    "\n",
    "OPTIMIZER = 'RMSprop'\n",
    "\n",
    "print(f\"Addition state fetatures: {additional_state_features}\")\n",
    "# Initialize the Encoder\n",
    "\n",
    "encoder = Encoder(num_embeddings, EMBEDDING_DIM, max_word_length, \\\n",
    "    char_feature_dim, additional_state_features)\n",
    "\n",
    "input_dim = max_word_length * EMBEDDING_DIM + additional_state_features\n",
    "# Initialize the SimpleLSTM decoder\n",
    "decoder = SimpleLSTM(input_dim=input_dim, \n",
    "                     hidden_dim=HIDDEN_DIM, \n",
    "                     output_dim=output_dim, \n",
    "                     num_layers=NUM_LAYERS,\n",
    "                     missed_char_dim=missed_char_dim,\n",
    "                     dropout_prob=DROPOUT_PROB)\n",
    "\n",
    "\n",
    "# Initialize the HangmanModel\n",
    "lightning_model = HangmanModel(encoder, decoder, \n",
    "                LEARNING_RATE, char_frequency, \n",
    "                max_word_length, optimizer_type=OPTIMIZER, \\\n",
    "                l1_factor=L1_FACTOR,\n",
    "                l2_factor=L2_FACTOR, test_words=sampled_test_words)\n",
    "\n",
    "# Save the model's state dictionary\n",
    "untrained_model_file = models_dir / f\"{NUM_STRATIFIED_SAMPLES}_untrained_model.pth\"\n",
    "torch.save(lightning_model, untrained_model_file)\n",
    "print(f\"Model saved at {untrained_model_file}\")"
   ]
  },
  {
   "cell_type": "markdown",
   "metadata": {},
   "source": [
    "##### Data Module"
   ]
  },
  {
   "cell_type": "code",
   "execution_count": 9,
   "metadata": {},
   "outputs": [],
   "source": [
    "from scr.data_module import *\n",
    "\n",
    "# Initialize Data Module\n",
    "initial_batch_size = 1024 # Set your initial batch size\n",
    "\n",
    "# Initialize Data Module with the required arguments\n",
    "data_module = HangmanDataModule(train_dataset, valid_dataset, \n",
    "                                initial_batch_size, \n",
    "                                new_custom_collate_fn)\n",
    "                                # performance_metrics=None)"
   ]
  },
  {
   "cell_type": "markdown",
   "metadata": {},
   "source": [
    "##### Testing on Untrained Model"
   ]
  },
  {
   "cell_type": "code",
   "execution_count": 10,
   "metadata": {},
   "outputs": [],
   "source": [
    "## callbacks\n",
    "from pytorch_lightning.callbacks import Callback, EarlyStopping\n",
    "from scr.custom_callbacks import *\n",
    "\n",
    "# Setup EarlyStopping to monitor the test_win_rate\n",
    "early_stop_callback = EarlyStopping(\n",
    "    monitor='win_rate',\n",
    "    min_delta=0.00,\n",
    "    patience=10,\n",
    "    verbose=True,\n",
    "    mode='max'  # Maximize the win rate\n",
    ")\n",
    "\n",
    "step_level_early_stopping = StepLevelEarlyStopping(\n",
    "    monitor='val_miss_penalty', # Metric to monitor\n",
    "    min_delta=0.0,              # Minimum change to qualify as an improvement\n",
    "    patience=5                  # Number of steps with no improvement after which training will be stopped\n",
    ")"
   ]
  },
  {
   "cell_type": "code",
   "execution_count": 11,
   "metadata": {},
   "outputs": [
    {
     "name": "stderr",
     "output_type": "stream",
     "text": [
      "GPU available: True (cuda), used: True\n",
      "TPU available: False, using: 0 TPU cores\n",
      "IPU available: False, using: 0 IPUs\n",
      "HPU available: False, using: 0 HPUs\n",
      "LOCAL_RANK: 0 - CUDA_VISIBLE_DEVICES: [0]\n"
     ]
    },
    {
     "data": {
      "application/vnd.jupyter.widget-view+json": {
       "model_id": "21b85f53aeee4d249a9a831b04e55586",
       "version_major": 2,
       "version_minor": 0
      },
      "text/plain": [
       "Validation: |          | 0/? [00:00<?, ?it/s]"
      ]
     },
     "metadata": {},
     "output_type": "display_data"
    },
    {
     "data": {
      "application/vnd.jupyter.widget-view+json": {
       "model_id": "c1868b0f5abd4ee898ab78a3fc1bce44",
       "version_major": 2,
       "version_minor": 0
      },
      "text/plain": [
       "Processing words:   0%|          | 0/230 [00:00<?, ?word/s]"
      ]
     },
     "metadata": {},
     "output_type": "display_data"
    },
    {
     "name": "stdout",
     "output_type": "stream",
     "text": [
      "Plot saved to /home/sayem/Desktop/Hangman/plots/win_rates_plot_epoch_0_2024-02-02_09-14-50.png\n",
      "────────────────────────────────────────────────────────────────────────────────────────────────────────────────────────\n",
      "         Validate metric                     DataLoader 0\n",
      "────────────────────────────────────────────────────────────────────────────────────────────────────────────────────────\n",
      "           avg_attempts                   5.908695697784424\n",
      "seq_length_miss_penalty_seq_len_10       0.03258084878325462\n",
      "seq_length_miss_penalty_seq_len_11       0.03190366178750992\n",
      "seq_length_miss_penalty_seq_len_12       0.03167107701301575\n",
      "seq_length_miss_penalty_seq_len_13       0.03085736744105816\n",
      "seq_length_miss_penalty_seq_len_14       0.03025578148663044\n",
      "seq_length_miss_penalty_seq_len_15       0.02953951433300972\n",
      "seq_length_miss_penalty_seq_len_16       0.02855563536286354\n",
      "seq_length_miss_penalty_seq_len_17       0.027806689962744713\n",
      "seq_length_miss_penalty_seq_len_18       0.027609966695308685\n",
      "seq_length_miss_penalty_seq_len_19       0.026005707681179047\n",
      "seq_length_miss_penalty_seq_len_2        0.03479127213358879\n",
      "seq_length_miss_penalty_seq_len_20       0.026316195726394653\n",
      "seq_length_miss_penalty_seq_len_21       0.025154301896691322\n",
      "seq_length_miss_penalty_seq_len_3        0.03313523530960083\n",
      "seq_length_miss_penalty_seq_len_4        0.031825531274080276\n",
      "seq_length_miss_penalty_seq_len_5        0.030685026198625565\n",
      "seq_length_miss_penalty_seq_len_6        0.030375009402632713\n",
      "seq_length_miss_penalty_seq_len_7        0.03030913881957531\n",
      "seq_length_miss_penalty_seq_len_8        0.030244046822190285\n",
      "seq_length_miss_penalty_seq_len_9        0.029009563848376274\n",
      "  seq_length_win_rate_seq_len_10                 0.0\n",
      "  seq_length_win_rate_seq_len_11           5.55555534362793\n",
      "  seq_length_win_rate_seq_len_12                 5.0\n",
      "  seq_length_win_rate_seq_len_13                 0.0\n",
      "  seq_length_win_rate_seq_len_14                 0.0\n",
      "  seq_length_win_rate_seq_len_15          14.285714149475098\n",
      "  seq_length_win_rate_seq_len_16                 0.0\n",
      "  seq_length_win_rate_seq_len_17                 0.0\n",
      "  seq_length_win_rate_seq_len_18                 20.0\n",
      "  seq_length_win_rate_seq_len_19                 50.0\n",
      "  seq_length_win_rate_seq_len_20                 80.0\n",
      "  seq_length_win_rate_seq_len_21                 0.0\n",
      "  seq_length_win_rate_seq_len_6                  0.0\n",
      "  seq_length_win_rate_seq_len_7                  8.0\n",
      "  seq_length_win_rate_seq_len_8           2.857142925262451\n",
      "  seq_length_win_rate_seq_len_9                  0.0\n",
      "          val_loss_epoch                  354.8350524902344\n",
      "      val_miss_penalty_epoch             0.03145803138613701\n",
      "             win_rate                     5.217391490936279\n",
      "────────────────────────────────────────────────────────────────────────────────────────────────────────────────────────\n"
     ]
    },
    {
     "data": {
      "image/png": "[encoded data removed]",
      "text/plain": [
       "<Figure size 1000x600 with 1 Axes>"
      ]
     },
     "metadata": {},
     "output_type": "display_data"
    }
   ],
   "source": [
    "from pytorch_lightning.profilers import SimpleProfiler\n",
    "import pytorch_lightning as pl\n",
    "from scr.custom_callbacks import *\n",
    "from scr.dataset import *\n",
    "from scr.data_module import *\n",
    "from scr.trainer_ import *\n",
    "\n",
    "torch.cuda.empty_cache()\n",
    "\n",
    "# # Create Callbacks\n",
    "# loss_logging_callback = LossLoggingCallback()\n",
    "\n",
    "# , SchedulerSetupCallback()] # , loss_logging_callback]\n",
    "callbacks = [early_stop_callback] # , step_level_early_stopping] \n",
    "FAST_DEV_RUN = False\n",
    "# # Calculate the minimum percentage of validation batches\n",
    "# min_val_batches = 1 / len(data_module.val_dataloader())\n",
    "\n",
    "# # Create Trainer with Callbacks\n",
    "trainer = pl.Trainer(\n",
    "    default_root_dir=output_dir,\n",
    "    fast_dev_run=FAST_DEV_RUN, \n",
    "    max_epochs=MAX_EPOCH, \n",
    "    callbacks=callbacks,\n",
    "    num_sanity_val_steps=0,\n",
    "    # reload_dataloaders_every_n_epochs=1,\n",
    "    enable_progress_bar=True \n",
    "    # val_check_interval=0.5\n",
    "    # limit_train_batches=2,  # Limit the number of training batches to 2\n",
    "    # limit_val_batches=2     # Limit the number of validation batches to 2\n",
    ")\n",
    "\n",
    "# # # # # print(f\"Running for {NUM_STRATIFIED_SAMPLES} samples...\")\n",
    "# # # # print()\n",
    "# # # # # # # # # # Assuming combined_eval_metrics is a list of dictionaries\n",
    "combined_eval_metrics = trainer.validate(model=lightning_model, datamodule=data_module)"
   ]
  },
  {
   "cell_type": "code",
   "execution_count": 12,
   "metadata": {},
   "outputs": [],
   "source": [
    "# performance_metrics_dict = {k: v for d in combined_eval_metrics for k, v in d.items()}\n",
    "\n",
    "# # # # # # print(\"Converted Performance Metrics Dictb ionary:\", performance_metrics_dict)\n",
    "\n",
    "# # data_module.update_performance_metrics(performance_metrics_dict)\n",
    "\n",
    "# performance_metrics_dict\n",
    "\n",
    "# composite_scores = calculate_composite_scores(performance_metrics_dict)\n",
    "\n",
    "# trainer.datamodule.update_performance_metrics(composite_scores)"
   ]
  },
  {
   "cell_type": "markdown",
   "metadata": {},
   "source": [
    "##### Tuning: lr"
   ]
  },
  {
   "cell_type": "code",
   "execution_count": 13,
   "metadata": {},
   "outputs": [],
   "source": [
    "# from pytorch_lightning.tuner.tuning import Tuner\n",
    "\n",
    "# # Assuming lightning_model, train_loader, and val_loader are already defined\n",
    "# # Initialize the tuner with your trainer\n",
    "# tuner = Tuner(trainer)\n",
    "\n",
    "# # Run the learning rate finder using the data module\n",
    "# lr_finder = tuner.lr_find(model=lightning_model, \n",
    "#                         datamodule=data_module)\n",
    "\n",
    "# # Plot the learning rate finder results\n",
    "# fig = lr_finder.plot(suggest=True)\n",
    "# fig.show()\n",
    "\n",
    "# # Get the suggested learning rate\n",
    "# new_lr = lr_finder.suggestion()\n",
    "# print(f\"Suggested Learning Rate: {new_lr}\")\n",
    "\n",
    "# # Update model's learning rate\n",
    "# lightning_model.learning_rate = new_lr\n",
    "\n",
    "# # Optionally, you can view the results of the LR finder\n",
    "# print(lr_finder.results)"
   ]
  },
  {
   "cell_type": "code",
   "execution_count": 14,
   "metadata": {},
   "outputs": [],
   "source": [
    "# # Update model's learning rate\n",
    "# lightning_model.learning_rate = 0.017378008287493765 # new_lr"
   ]
  },
  {
   "cell_type": "markdown",
   "metadata": {},
   "source": [
    "##### Tuning: Batch"
   ]
  },
  {
   "cell_type": "code",
   "execution_count": 15,
   "metadata": {},
   "outputs": [],
   "source": [
    "# # Assuming lightning_model is already defined\n",
    "# new_batch_size = tuner.scale_batch_size(\n",
    "#     model=lightning_model,\n",
    "#     datamodule=data_module,\n",
    "#     mode='power',  # or 'binsearch'\n",
    "#     steps_per_trial=10,\n",
    "#     init_val=1024,\n",
    "#     # max_trials=4\n",
    "# )\n",
    "\n",
    "# Update the batch size in the data module\n",
    "data_module.batch_size = 1024 # new_batch_size\n",
    "\n",
    "# print(f\"Tune Batch size: \", new_batch_size)"
   ]
  },
  {
   "cell_type": "markdown",
   "metadata": {},
   "source": [
    "##### Training"
   ]
  },
  {
   "cell_type": "code",
   "execution_count": 16,
   "metadata": {},
   "outputs": [
    {
     "name": "stderr",
     "output_type": "stream",
     "text": [
      "LOCAL_RANK: 0 - CUDA_VISIBLE_DEVICES: [0]\n",
      "\n",
      "  | Name    | Type       | Params\n",
      "---------------------------------------\n",
      "0 | encoder | Encoder    | 1.4 K \n",
      "1 | decoder | SimpleLSTM | 389 K \n",
      "---------------------------------------\n",
      "390 K     Trainable params\n",
      "0         Non-trainable params\n",
      "390 K     Total params\n",
      "1.562     Total estimated model params size (MB)\n"
     ]
    },
    {
     "name": "stdout",
     "output_type": "stream",
     "text": [
      "Training Begin for 100 words: 6916 Games\n"
     ]
    },
    {
     "data": {
      "application/vnd.jupyter.widget-view+json": {
       "model_id": "a8b4fd53d81d4d8fb0ebae6995fc5f0b",
       "version_major": 2,
       "version_minor": 0
      },
      "text/plain": [
       "Training: |          | 0/? [00:00<?, ?it/s]"
      ]
     },
     "metadata": {},
     "output_type": "display_data"
    },
    {
     "data": {
      "application/vnd.jupyter.widget-view+json": {
       "model_id": "d917b563deb94be7be23ace3a539a241",
       "version_major": 2,
       "version_minor": 0
      },
      "text/plain": [
       "Validation: |          | 0/? [00:00<?, ?it/s]"
      ]
     },
     "metadata": {},
     "output_type": "display_data"
    },
    {
     "data": {
      "application/vnd.jupyter.widget-view+json": {
       "model_id": "208ea2dcfa3d436495083699db9aaad5",
       "version_major": 2,
       "version_minor": 0
      },
      "text/plain": [
       "Processing words:   0%|          | 0/230 [00:00<?, ?word/s]"
      ]
     },
     "metadata": {},
     "output_type": "display_data"
    },
    {
     "name": "stderr",
     "output_type": "stream",
     "text": [
      "Metric win_rate improved. New best score: 6.087\n"
     ]
    },
    {
     "name": "stdout",
     "output_type": "stream",
     "text": [
      "Plot saved to /home/sayem/Desktop/Hangman/plots/win_rates_plot_epoch_0_2024-02-02_09-15-04.png\n"
     ]
    },
    {
     "data": {
      "application/vnd.jupyter.widget-view+json": {
       "model_id": "a9d5f824ce104de7b422c57b029368be",
       "version_major": 2,
       "version_minor": 0
      },
      "text/plain": [
       "Validation: |          | 0/? [00:00<?, ?it/s]"
      ]
     },
     "metadata": {},
     "output_type": "display_data"
    },
    {
     "data": {
      "application/vnd.jupyter.widget-view+json": {
       "model_id": "c2ff72010c6a464f9e452c53dee4eb62",
       "version_major": 2,
       "version_minor": 0
      },
      "text/plain": [
       "Processing words:   0%|          | 0/230 [00:00<?, ?word/s]"
      ]
     },
     "metadata": {},
     "output_type": "display_data"
    },
    {
     "name": "stdout",
     "output_type": "stream",
     "text": [
      "Plot saved to /home/sayem/Desktop/Hangman/plots/win_rates_plot_epoch_1_2024-02-02_09-15-16.png\n"
     ]
    },
    {
     "data": {
      "application/vnd.jupyter.widget-view+json": {
       "model_id": "86e49797e5c0483e9d8790543f55c65f",
       "version_major": 2,
       "version_minor": 0
      },
      "text/plain": [
       "Validation: |          | 0/? [00:00<?, ?it/s]"
      ]
     },
     "metadata": {},
     "output_type": "display_data"
    },
    {
     "data": {
      "application/vnd.jupyter.widget-view+json": {
       "model_id": "2a841fa8b4a24d8e95c66b1810cafc46",
       "version_major": 2,
       "version_minor": 0
      },
      "text/plain": [
       "Processing words:   0%|          | 0/230 [00:00<?, ?word/s]"
      ]
     },
     "metadata": {},
     "output_type": "display_data"
    },
    {
     "name": "stdout",
     "output_type": "stream",
     "text": [
      "Plot saved to /home/sayem/Desktop/Hangman/plots/win_rates_plot_epoch_2_2024-02-02_09-15-29.png\n"
     ]
    },
    {
     "data": {
      "application/vnd.jupyter.widget-view+json": {
       "model_id": "a022ff4923eb4a8393d923e44d65aec4",
       "version_major": 2,
       "version_minor": 0
      },
      "text/plain": [
       "Validation: |          | 0/? [00:00<?, ?it/s]"
      ]
     },
     "metadata": {},
     "output_type": "display_data"
    },
    {
     "data": {
      "application/vnd.jupyter.widget-view+json": {
       "model_id": "edfa34027e4e41ffa35e9a7a29e006fb",
       "version_major": 2,
       "version_minor": 0
      },
      "text/plain": [
       "Processing words:   0%|          | 0/230 [00:00<?, ?word/s]"
      ]
     },
     "metadata": {},
     "output_type": "display_data"
    },
    {
     "name": "stderr",
     "output_type": "stream",
     "text": [
      "Metric win_rate improved by 1.304 >= min_delta = 0.0. New best score: 7.391\n"
     ]
    },
    {
     "name": "stdout",
     "output_type": "stream",
     "text": [
      "Plot saved to /home/sayem/Desktop/Hangman/plots/win_rates_plot_epoch_3_2024-02-02_09-15-42.png\n"
     ]
    },
    {
     "data": {
      "application/vnd.jupyter.widget-view+json": {
       "model_id": "bbf5d385ab7c4de09e81311874a250aa",
       "version_major": 2,
       "version_minor": 0
      },
      "text/plain": [
       "Validation: |          | 0/? [00:00<?, ?it/s]"
      ]
     },
     "metadata": {},
     "output_type": "display_data"
    },
    {
     "data": {
      "application/vnd.jupyter.widget-view+json": {
       "model_id": "9f6ff4b3d5ee40f7a8735f513438d844",
       "version_major": 2,
       "version_minor": 0
      },
      "text/plain": [
       "Processing words:   0%|          | 0/230 [00:00<?, ?word/s]"
      ]
     },
     "metadata": {},
     "output_type": "display_data"
    },
    {
     "name": "stderr",
     "output_type": "stream",
     "text": [
      "Metric win_rate improved by 1.739 >= min_delta = 0.0. New best score: 9.130\n"
     ]
    },
    {
     "name": "stdout",
     "output_type": "stream",
     "text": [
      "Plot saved to /home/sayem/Desktop/Hangman/plots/win_rates_plot_epoch_4_2024-02-02_09-15-55.png\n"
     ]
    },
    {
     "data": {
      "application/vnd.jupyter.widget-view+json": {
       "model_id": "f6927cde03a2442fa66b06be2edaa998",
       "version_major": 2,
       "version_minor": 0
      },
      "text/plain": [
       "Validation: |          | 0/? [00:00<?, ?it/s]"
      ]
     },
     "metadata": {},
     "output_type": "display_data"
    },
    {
     "data": {
      "application/vnd.jupyter.widget-view+json": {
       "model_id": "3f6f578b7dcb47289f504807893ae66c",
       "version_major": 2,
       "version_minor": 0
      },
      "text/plain": [
       "Processing words:   0%|          | 0/230 [00:00<?, ?word/s]"
      ]
     },
     "metadata": {},
     "output_type": "display_data"
    }
   ],
   "source": [
    "# # # # # Validate the model (if needed)\n",
    "# trainer.validate(model=lightning_model, datamodule=data_module)\n",
    "print(f\"Training Begin for {NUM_STRATIFIED_SAMPLES} words: {len(train_dataset)} Games\")\n",
    "\n",
    "# # # # # # Fit the model\n",
    "trainer.fit(lightning_model, data_module)\n",
    "\n",
    "# # Optionally print the profiler summary\n",
    "# # print(profiler.summary())\n",
    "\n",
    "# # Save the entire model\n",
    "# trained_model_file = models_dir / f\"{NUM_STRATIFIED_SAMPLES}_trained_model.pth\"\n",
    "# torch.save(lightning_model, trained_model_file)\n",
    "# print(f\"Model saved at {trained_model_file}\")"
   ]
  },
  {
   "cell_type": "code",
   "execution_count": null,
   "metadata": {},
   "outputs": [],
   "source": [
    "# Save the entire model\n",
    "trained_model_file = models_dir / f\"{NUM_STRATIFIED_SAMPLES}_trained_model.pth\"\n",
    "torch.save(lightning_model, trained_model_file)\n",
    "print(f\"Model saved at {trained_model_file}\")"
   ]
  },
  {
   "cell_type": "markdown",
   "metadata": {},
   "source": [
    "##### Testing"
   ]
  },
  {
   "cell_type": "code",
   "execution_count": null,
   "metadata": {},
   "outputs": [],
   "source": [
    "# Load the entire LSTM model object\n",
    "\n",
    "trained_model_file_path = models_dir / f\"{NUM_STRATIFIED_SAMPLES}_trained_model.pth\"\n",
    "trained_model = torch.load(trained_model_file_path)\n",
    "\n",
    "# # # If you want to use the model for inference\n",
    "# # trained_model.eval()  # Set the model to evaluation mode\n",
    "\n",
    "# from scr.game import *\n",
    "\n",
    "# word = 'may'\n",
    "\n",
    "# play_game_with_a_word(trained_model, \\\n",
    "#     word, char_frequency, max_word_length)"
   ]
  },
  {
   "cell_type": "code",
   "execution_count": null,
   "metadata": {},
   "outputs": [],
   "source": [
    "# Example usage\n",
    "result = play_games_and_calculate_stats(trained_model, \\\n",
    "    sampled_test_words, char_frequency, max_word_length)\n",
    "\n",
    "print(f\"Overall Win Rate: {result['overall_win_rate']}%, Overall Average Attempts: {result['overall_avg_attempts']}\")\n",
    "\n",
    "# for length, data in result[\"length_wise_stats\"].items():\n",
    "#     print(f\"Length {length}: Win Rate: {data['win_rate']}%, Average Attempts: {data['average_attempts_used']}\")"
   ]
  }
 ],
 "metadata": {
  "kernelspec": {
   "display_name": "optiver",
   "language": "python",
   "name": "python3"
  },
  "language_info": {
   "codemirror_mode": {
    "name": "ipython",
    "version": 3
   },
   "file_extension": ".py",
   "mimetype": "text/x-python",
   "name": "python",
   "nbconvert_exporter": "python",
   "pygments_lexer": "ipython3",
   "version": "3.10.13"
  }
 },
 "nbformat": 4,
 "nbformat_minor": 2
}
