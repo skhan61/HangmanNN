{
 "cells": [
  {
   "cell_type": "markdown",
   "metadata": {},
   "source": [
    "##### Imports"
   ]
  },
  {
   "cell_type": "code",
   "execution_count": 1,
   "metadata": {},
   "outputs": [],
   "source": [
    "import sys\n",
    "from pathlib import Path\n",
    "import warnings\n",
    "\n",
    "import warnings\n",
    "import pandas as pd\n",
    "warnings.filterwarnings('ignore')\n",
    "\n",
    "pd.set_option('display.max_columns', 1000)\n",
    "pd.set_option('display.max_rows', 1000)\n",
    "\n",
    "import sys\n",
    "# Custom library paths\n",
    "sys.path.extend(['../', './scr'])\n",
    "\n",
    "from scr.utils import set_seed\n",
    "from scr.utils import read_words\n",
    "\n",
    "set_seed(42)\n",
    "\n",
    "import torch\n",
    "import torch.nn as nn\n",
    "\n",
    "torch.set_float32_matmul_precision('medium')\n",
    "\n",
    "# Device configuration\n",
    "device = torch.device(\"cuda\" if torch.cuda.is_available() else \"cpu\")"
   ]
  },
  {
   "cell_type": "markdown",
   "metadata": {},
   "source": [
    "##### Data Reading and Feature Engineering"
   ]
  },
  {
   "cell_type": "code",
   "execution_count": 2,
   "metadata": {},
   "outputs": [],
   "source": [
    "from scr.feature_engineering import build_feature_set, \\\n",
    "    process_single_word_inference\n",
    "from scr.utils import *\n",
    "\n",
    "import random\n",
    "\n",
    "# MASK_PROB = 0.5\n",
    "\n",
    "# Limit the number of words to a smaller number for debugging\n",
    "word_list = read_words('/home/sayem/Desktop/Hangman/words_250000_train.txt', limit=None)\n",
    "# word_list = word_list[:100]\n",
    "# # # Randomly select 1000 words\n",
    "# # unseen_words = random.sample(word_list, 1000)c"
   ]
  },
  {
   "cell_type": "code",
   "execution_count": 3,
   "metadata": {},
   "outputs": [],
   "source": [
    "import torch\n",
    "from scr.feature_engineering import add_features_for_training, \\\n",
    "    calculate_char_frequencies\n",
    "    \n",
    "import random\n",
    "# # Initialize lists for features, labels, missed characters, and original words\n",
    "# all_features, all_labels, all_missed_chars, original_words = [], [], [], []\n",
    "\n",
    "char_frequency = calculate_char_frequencies(word_list)\n",
    "max_word_length = max(len(word) for word in word_list)\n",
    "MASK_PROB = 0.5\n",
    "NGRAM_N = 3\n",
    "\n",
    "from scr.dataset import HangmanDataset, collate_fn\n",
    "from torch.utils.data import DataLoader, Dataset\n",
    "\n",
    "dataset = HangmanDataset(word_list, \\\n",
    "    char_frequency, max_word_length, MASK_PROB, NGRAM_N)\n",
    "\n",
    "\n",
    "# data_loader = DataLoader(dataset, batch_size=3, \\\n",
    "#     shuffle=True, collate_fn=collate_fn)\n",
    "\n",
    "# # Example of iterating over the DataLoader\n",
    "# i = 0\n",
    "# for i, batch in enumerate(data_loader):\n",
    "#     inputs, labels, miss_chars, lengths, original_words = batch\n",
    "    \n",
    "#     i += 1\n",
    "\n",
    "#     # print(inputs.shape)\n",
    "#     # print(labels.shape)\n",
    "#     # print(missed_chars.shape)\n",
    "#     # print(lengths.shape)\n",
    "#     # print(original_words)\n",
    "#     # print()\n",
    "\n",
    "#     # break\n",
    "\n",
    "# print(len(dataset))\n",
    "# print(i)"
   ]
  },
  {
   "cell_type": "code",
   "execution_count": 4,
   "metadata": {},
   "outputs": [],
   "source": [
    "# # For inference\n",
    "from scr.feature_engineering import process_single_word_inference\n",
    "\n",
    "# Example usage\n",
    "inference_word = \"_p_\"\n",
    "inference_features, inference_missed_chars = \\\n",
    "    process_single_word_inference(inference_word, \\\n",
    "        char_frequency, max_word_length, ngram_n=NGRAM_N)"
   ]
  },
  {
   "cell_type": "markdown",
   "metadata": {},
   "source": [
    "##### Model Building"
   ]
  },
  {
   "cell_type": "code",
   "execution_count": 5,
   "metadata": {},
   "outputs": [],
   "source": [
    "# In your main script or Jupyter Notebook\n",
    "from scr.model import RNN\n",
    "from scr.feature_engineering import process_single_word_inference, \\\n",
    "    char_to_idx, idx_to_char, calculate_char_frequencies, \\\n",
    "        get_missed_characters\n",
    "\n",
    "# Configuration for the RNN model\n",
    "# Configuration for the RNN model\n",
    "config = {\n",
    "    'rnn': 'LSTM',\n",
    "    'vocab_size': 27,  # Assuming 26 letters + 1 for underscore\n",
    "    'hidden_dim': 512,\n",
    "    'num_layers': 2,\n",
    "    'embedding_dim': 200,\n",
    "    'output_mid_features': 200,\n",
    "    'miss_linear_dim': 150,\n",
    "    'dropout': 0.3, \n",
    "    'use_embedding': True,\n",
    "    'lr': 1e-05, \n",
    "    'input_feature_size': 5, # Number of features excluding the embedding dimension\n",
    "    'step_size': 15, \n",
    "    'gamma': 0.341,\n",
    "    'use_cuda': True  # Set to True to use CUDA, False to use CPU\n",
    "}\n"
   ]
  },
  {
   "cell_type": "code",
   "execution_count": 6,
   "metadata": {},
   "outputs": [],
   "source": [
    "from scr.game import guess_character\n",
    "from scr.game import play_game_with_a_word\n",
    "\n",
    "# Initialize RNN model\n",
    "model = RNN(config)\n",
    "model = model.to(device)\n",
    "\n",
    "model.save_model('models/model.pth')\n",
    "device = torch.device(\"cuda\" if torch.cuda.is_available() else \"cpu\")\n",
    "\n",
    "# # for i in range(1000):\n",
    "# #     print('Playing', i, 'th game')\n",
    "# #     success = play_a_game(model, word_to_guess, char_frequency, max_word_length, device)\n",
    "# #     if success:\n",
    "# #         print(\"Won the game!\")\n",
    "# #     else:\n",
    "# #         print(\"Lost the game!\")\n",
    "# #     # time.sleep(0.5)  # DO NOT REMOVE\n",
    "\n",
    "# [total_practice_runs, total_recorded_runs, total_recorded_successes, total_practice_successes] = api.my_status() # Get my game stats: (# of tries, # of wins)\n",
    "# practice_success_rate = total_practice_successes / total_practice_runs\n",
    "# print('Ran %d practice games out of an allotted 100,000. Practice success rate so far = %.3f' % (total_practice_runs, practice_success_rate))"
   ]
  },
  {
   "cell_type": "code",
   "execution_count": 8,
   "metadata": {},
   "outputs": [
    {
     "name": "stdout",
     "output_type": "stream",
     "text": [
      "Guessed: c, Word: _ _ _ _ _, Attempts remaining: 5\n",
      "Guessed: t, Word: _ _ _ _ _, Attempts remaining: 4\n",
      "Guessed: p, Word: _ _ _ _ _, Attempts remaining: 3\n",
      "Guessed: k, Word: _ _ _ _ _, Attempts remaining: 2\n",
      "Guessed: i, Word: _ _ _ _ _, Attempts remaining: 1\n",
      "Guessed: x, Word: _ _ _ _ _, Attempts remaining: 0\n"
     ]
    }
   ],
   "source": [
    "word = '_ _ b'\n",
    "won, final_word, attempts = play_game_with_a_word(model, word, char_frequency, \\\n",
    "    max_word_length, device, max_attempts=6, normalize=True)"
   ]
  },
  {
   "cell_type": "code",
   "execution_count": 9,
   "metadata": {},
   "outputs": [
    {
     "data": {
      "text/plain": [
       "False"
      ]
     },
     "execution_count": 9,
     "metadata": {},
     "output_type": "execute_result"
    }
   ],
   "source": [
    "won"
   ]
  },
  {
   "cell_type": "code",
   "execution_count": 10,
   "metadata": {},
   "outputs": [
    {
     "data": {
      "text/plain": [
       "'_____'"
      ]
     },
     "execution_count": 10,
     "metadata": {},
     "output_type": "execute_result"
    }
   ],
   "source": [
    "final_word"
   ]
  },
  {
   "cell_type": "code",
   "execution_count": 13,
   "metadata": {},
   "outputs": [
    {
     "name": "stdout",
     "output_type": "stream",
     "text": [
      "___\n",
      "Guessed: t, Word: _ _ _, Attempts remaining: 5\n",
      "Guessed: c, Word: _ _ _, Attempts remaining: 4\n",
      "Guessed: p, Word: _ _ _, Attempts remaining: 3\n",
      "Guessed: k, Word: _ _ _, Attempts remaining: 2\n",
      "Guessed: i, Word: _ _ _, Attempts remaining: 1\n",
      "Guessed: x, Word: _ _ _, Attempts remaining: 0\n",
      "python\n",
      "Guessed: t, Word: _ _ t _ _ _, Attempts remaining: 6\n",
      "Guessed: p, Word: p _ t _ _ _, Attempts remaining: 6\n",
      "Guessed: c, Word: p _ t _ _ _, Attempts remaining: 5\n",
      "Guessed: k, Word: p _ t _ _ _, Attempts remaining: 4\n",
      "Guessed: i, Word: p _ t _ _ _, Attempts remaining: 3\n",
      "Guessed: f, Word: p _ t _ _ _, Attempts remaining: 2\n",
      "Guessed: s, Word: p _ t _ _ _, Attempts remaining: 1\n",
      "Guessed: h, Word: p _ t h _ _, Attempts remaining: 1\n",
      "Guessed: u, Word: p _ t h _ _, Attempts remaining: 0\n",
      "openai\n",
      "Guessed: t, Word: _ _ _ _ _ _, Attempts remaining: 5\n",
      "Guessed: k, Word: _ _ _ _ _ _, Attempts remaining: 4\n",
      "Guessed: p, Word: _ p _ _ _ _, Attempts remaining: 4\n",
      "Guessed: c, Word: _ p _ _ _ _, Attempts remaining: 3\n",
      "Guessed: i, Word: _ p _ _ _ i, Attempts remaining: 3\n",
      "Guessed: f, Word: _ p _ _ _ i, Attempts remaining: 2\n",
      "Guessed: u, Word: _ p _ _ _ i, Attempts remaining: 1\n",
      "Guessed: s, Word: _ p _ _ _ i, Attempts remaining: 0\n"
     ]
    }
   ],
   "source": [
    "from scr.game import simulate_hangman_games\n",
    "# Example usage with a word list\n",
    "word_list = [\"___\", \"python\", \"openai\"]\n",
    "# num_games = 1000\n",
    "game_results = simulate_hangman_games(model, char_to_idx, \\\n",
    "    idx_to_char, char_frequency, max_word_length, device, \\\n",
    "        word_list=word_list, num_games=num_games)"
   ]
  },
  {
   "cell_type": "code",
   "execution_count": 14,
   "metadata": {},
   "outputs": [
    {
     "data": {
      "text/plain": [
       "(0.3333333333333333, 6.0, {3: 1.0})"
      ]
     },
     "execution_count": 14,
     "metadata": {},
     "output_type": "execute_result"
    }
   ],
   "source": [
    "game_results"
   ]
  },
  {
   "cell_type": "code",
   "execution_count": null,
   "metadata": {},
   "outputs": [],
   "source": [
    "# current_masked_word = \"_i___l__\"\n",
    "\n",
    "# # missed_chars = get_missed_characters(word, char_to_idx)\n",
    "\n",
    "# predicted_char = predict_next_character(model, current_masked_word, \\\n",
    "#     char_frequency, max_word_length, device=device, use_initial_guess=True)\n",
    "\n",
    "# # predicted_index = predict_next_character_beam_search(model, current_masked_word, \\\n",
    "# #     missed_chars, \\\n",
    "# #     char_frequency, max_word_length, \\\n",
    "# #     device, normalize=True, beam_width=3)\n",
    "        \n",
    "# # predicted_char = idx_to_char[predicted_index]\n",
    "\n",
    "# predicted_char"
   ]
  },
  {
   "cell_type": "markdown",
   "metadata": {},
   "source": [
    "##### Playing Games"
   ]
  },
  {
   "cell_type": "markdown",
   "metadata": {},
   "source": [
    "##### Train"
   ]
  },
  {
   "cell_type": "code",
   "execution_count": null,
   "metadata": {},
   "outputs": [],
   "source": [
    "from torch.nn.utils.rnn import pad_sequence\n",
    "import torch\n",
    "from torch.utils.data import DataLoader\n",
    "\n",
    "def train_one_epoch(model, data_loader, device=device):\n",
    "    total_actual_penalty = 0\n",
    "    total_miss_penalty = 0\n",
    "    total_batches = 0\n",
    "\n",
    "    model.train()\n",
    "    model.to(device)\n",
    "\n",
    "    for i, batch in enumerate(data_loader):\n",
    "        inputs, labels, miss_chars, lengths, original_words = batch\n",
    "\n",
    "        inputs = inputs.to(device)\n",
    "        labels = labels.to(device)\n",
    "        miss_chars = miss_chars.to(device)\n",
    "        # lengths = lengths.to(device)  # Uncomment this if lengths need to be on the device\n",
    "\n",
    "        outputs = model(inputs, lengths, miss_chars)\n",
    "       \n",
    "        actual_penalty, miss_penalty = model.calculate_loss(outputs, labels, \\\n",
    "            lengths, miss_chars, vocab_size=27)\n",
    "\n",
    "    \n",
    "        total_actual_penalty += actual_penalty.item()\n",
    "        total_miss_penalty += miss_penalty.item()\n",
    "        total_batches += 1\n",
    "\n",
    "        model.optimizer.zero_grad()\n",
    "        actual_penalty.backward()\n",
    "        model.optimizer.step()\n",
    "\n",
    "    avg_actual_penalty = total_actual_penalty / total_batches if total_batches > 0 else 0\n",
    "    avg_miss_penalty = total_miss_penalty / total_batches if total_batches > 0 else 0\n",
    "    return avg_actual_penalty, avg_miss_penalty\n",
    "\n",
    "\n",
    "    avg_actual_penalty = total_actual_penalty / total_batches if total_batches > 0 else 0\n",
    "    avg_miss_penalty = total_miss_penalty / total_batches if total_batches > 0 else 0\n",
    "    return avg_actual_penalty, avg_miss_penalty"
   ]
  },
  {
   "cell_type": "code",
   "execution_count": null,
   "metadata": {},
   "outputs": [],
   "source": [
    "from torch.utils.data import DataLoader\n",
    "from sklearn.model_selection import train_test_split\n",
    "from torch.utils.data import DataLoader, Subset\n",
    "\n",
    "# Split the dataset indices into training and testing sets (80% train, 20% test)\n",
    "train_indices, test_indices = \\\n",
    "    train_test_split(range(len(dataset)), train_size=0.8, random_state=42)\n",
    "\n",
    "# Create subsets for training and testing\n",
    "train_dataset = Subset(dataset, train_indices)\n",
    "test_dataset = Subset(dataset, test_indices)\n",
    "\n",
    "# Create DataLoaders for the training and test datasets\n",
    "train_loader = DataLoader(train_dataset, batch_size=32, shuffle=True, collate_fn=collate_fn)\n",
    "test_loader = DataLoader(test_dataset, batch_size=32, shuffle=False, collate_fn=collate_fn)\n",
    "\n",
    "num_epochs = 20\n",
    "\n",
    "for epoch in range(num_epochs):\n",
    "    # Training step\n",
    "    avg_actual_penalty, avg_miss_penalty = train_one_epoch(model, train_loader, device)\n",
    "\n",
    "    print(f\"Epoch {epoch+1}: Training data - Avg Actual Penalty: {avg_actual_penalty}, Avg Miss Penalty: {avg_miss_penalty}\")\n",
    "\n",
    "    # Validation step\n",
    "    \n",
    "    avg_actual_penalty, avg_miss_penalty = train_one_epoch(model, test_loader, device)\n",
    "    print(f\"Epoch {epoch+1}: Testing data - Avg Actual Penalty: {avg_actual_penalty}, Avg Miss Penalty: {avg_miss_penalty}\")\n",
    "\n",
    "    print()\n",
    "\n",
    "# win_rate, average_attempts, win_rate_by_length = validate_one_epoch(model, val_loader, \\\n",
    "#     char_to_idx, idx_to_char, char_frequency, max_word_length, device)"
   ]
  },
  {
   "cell_type": "code",
   "execution_count": null,
   "metadata": {},
   "outputs": [],
   "source": [
    "STOP"
   ]
  },
  {
   "cell_type": "code",
   "execution_count": null,
   "metadata": {},
   "outputs": [],
   "source": [
    "from scr.game import simulate_games"
   ]
  },
  {
   "cell_type": "code",
   "execution_count": null,
   "metadata": {},
   "outputs": [],
   "source": []
  },
  {
   "cell_type": "code",
   "execution_count": null,
   "metadata": {},
   "outputs": [],
   "source": []
  },
  {
   "cell_type": "code",
   "execution_count": null,
   "metadata": {},
   "outputs": [],
   "source": []
  },
  {
   "cell_type": "code",
   "execution_count": null,
   "metadata": {},
   "outputs": [],
   "source": []
  },
  {
   "cell_type": "code",
   "execution_count": null,
   "metadata": {},
   "outputs": [],
   "source": []
  },
  {
   "cell_type": "code",
   "execution_count": null,
   "metadata": {},
   "outputs": [],
   "source": [
    "import optuna\n",
    "from sklearn.model_selection import KFold\n",
    "import torch\n",
    "from torch.utils.data import DataLoader, Subset\n",
    "from scr.model import RNN\n",
    "from torch.optim.lr_scheduler import StepLR\n",
    "from scr.utils import *\n",
    "from scr.early_stopping import EarlyStopping\n",
    "\n",
    "N_GAMES_PER_EPOCH = 10 ** 3\n",
    "MAX_ATTEMPTS = 6\n",
    "\n",
    "def objective(trial, dataset, static_config, num_epochs):\n",
    "    dynamic_config = optuna_dynamic_hyperparameters(trial)\n",
    "    config = {**static_config, **dynamic_config}\n",
    "    # print(f\"Trial {trial.number}: Configuration - {config}\")\n",
    "\n",
    "    kfold = KFold(n_splits=5, shuffle=True)\n",
    "    aggregated_metrics = []\n",
    "\n",
    "    best_objective_value = float('-inf')\n",
    "    best_model_state = None\n",
    "\n",
    "    for fold, (train_idx, val_idx) in enumerate(kfold.split(dataset)):\n",
    "        # print(f\"Starting Fold {fold + 1}\")\n",
    "        train_loader, val_loader = get_data_loaders(dataset, train_idx, val_idx)\n",
    "        model, optimizer = initialize_model(config)\n",
    "\n",
    "        scheduler = StepLR(optimizer, step_size=trial.suggest_int(\"step_size\", 5, 20), \\\n",
    "            gamma=trial.suggest_float(\"gamma\", 0.1, 0.5))\n",
    "        \n",
    "        early_stopping = EarlyStopping(patience=10, delta=0.001)  # Early stopping instance\n",
    "\n",
    "\n",
    "        for epoch in range(num_epochs):\n",
    "            _, _ = train_one_epoch(model, train_loader)\n",
    "\n",
    "            scheduler.step()\n",
    "            win_rate, average_attempts, win_rate_by_length = simulate_games(\n",
    "                    model=model,\n",
    "                    word_list=None,  # Not using a word list in this scenario\n",
    "                    char_to_idx=char_to_idx, \n",
    "                    idx_to_char=idx_to_char,\n",
    "                    char_frequency=char_frequency, \n",
    "                    max_word_length=max_word_length, \n",
    "                    device=device, \n",
    "                    val_loader=val_loader,  # Pass the validation DataLoader\n",
    "                    max_games_per_epoch=N_GAMES_PER_EPOCH,  # Number of games for validation\n",
    "                    normalize=True, \n",
    "                    max_attempts=MAX_ATTEMPTS\n",
    "            \n",
    "            )\n",
    "\n",
    "    #         win_rate, average_attempts, win_rate_by_length = validate_one_epoch(model, \\\n",
    "    #             val_loader, char_to_idx, idx_to_char, char_frequency, max_word_length, device)\n",
    "\n",
    "            aggregated_metrics.append((win_rate, average_attempts, win_rate_by_length))\n",
    "\n",
    "            objective_value = calculate_objective_value(win_rate, \\\n",
    "                average_attempts, win_rate_by_length)\n",
    "            \n",
    "            trial.report(objective_value, epoch)\n",
    "\n",
    "            if objective_value > best_objective_value:\n",
    "                best_objective_value = objective_value\n",
    "                best_model_state = model.state_dict()  # Update best model state\n",
    "\n",
    "            # Check early stopping\n",
    "            if early_stopping(objective_value):\n",
    "                break  # Stop the current fold if early stopping criteria are met\n",
    "\n",
    "            # Pruning check\n",
    "            if trial.should_prune():\n",
    "                return process_aggregated_metrics(aggregated_metrics)\n",
    "\n",
    "    # Save the best model at the end of the trial\n",
    "    if best_model_state:\n",
    "        model.load_state_dict(best_model_state)\n",
    "        model.save_model()  # Save the model using your custom method\n",
    "\n",
    "    final_objective_value = process_aggregated_metrics(aggregated_metrics)\n",
    "    \n",
    "    return final_objective_value\n",
    "\n",
    "\n",
    "def calculate_objective_value(win_rate_percentage, avg_attempts_per_game, \\\n",
    "    win_rate_by_word_length):\n",
    "    # Define weights for each metric\n",
    "    weight_for_win_rate = 0.7  # Higher weight for win rate\n",
    "    weight_for_average_attempts = 0.3  # Lower weight for average attempts\n",
    "\n",
    "    # Normalize win rate (converting percentage to a range of 0 to 1)\n",
    "    normalized_win_rate = win_rate_percentage / 100\n",
    "\n",
    "    # Normalize average attempts (assuming max attempts per game is known)\n",
    "    max_attempts_per_game = 6  # Example: maximum number of attempts allowed\n",
    "    normalized_avg_attempts = avg_attempts_per_game / max_attempts_per_game\n",
    "\n",
    "    # Normalize win rate by word length\n",
    "    normalized_win_rate_by_length = normalize_win_rate_by_length(win_rate_by_word_length)\n",
    "\n",
    "    # Combine metrics into a single objective value\n",
    "    objective_value = (weight_for_win_rate * normalized_win_rate) - \\\n",
    "                      (weight_for_average_attempts * normalized_avg_attempts) + \\\n",
    "                      normalized_win_rate_by_length\n",
    "    return objective_value\n",
    "\n",
    "def normalize_win_rate_by_length(win_rate_by_length_dict):\n",
    "    # Example logic for normalization\n",
    "    max_possible_win_rate = 1  # Maximum win rate (100% as a decimal)\n",
    "    normalized_scores = {length: win_rate / max_possible_win_rate for \\\n",
    "        length, win_rate in win_rate_by_length_dict.items()}\n",
    "    # Average the normalized win rates across all word lengths\n",
    "    average_normalized_score = sum(normalized_scores.values()) / len(normalized_scores)\n",
    "    return average_normalized_score\n",
    "\n",
    "def process_aggregated_metrics(aggregated_metrics):\n",
    "    # Initialize sums for each metric\n",
    "    sum_win_rate = 0\n",
    "    sum_average_attempts = 0\n",
    "    sum_win_rate_by_length = {}\n",
    "\n",
    "    # Process each set of metrics\n",
    "    for win_rate, average_attempts, win_rate_by_length in aggregated_metrics:\n",
    "        sum_win_rate += win_rate\n",
    "        sum_average_attempts += average_attempts\n",
    "        for length, rate in win_rate_by_length.items():\n",
    "            sum_win_rate_by_length[length] = sum_win_rate_by_length.get(length, 0) + rate\n",
    "\n",
    "    # Calculate averages\n",
    "    num_entries = len(aggregated_metrics)\n",
    "    avg_win_rate = sum_win_rate / num_entries\n",
    "    avg_average_attempts = sum_average_attempts / num_entries\n",
    "    avg_win_rate_by_length = {length: rate / num_entries for length, \\\n",
    "        rate in sum_win_rate_by_length.items()}\n",
    "\n",
    "    # Now calculate the final objective value using these averages\n",
    "    final_objective_value = calculate_objective_value(avg_win_rate, \\\n",
    "        avg_average_attempts, avg_win_rate_by_length)\n",
    "    return final_objective_value\n",
    "\n",
    "\n",
    "# Utility functions (for cleaner code)\n",
    "def get_data_loaders(dataset, train_idx, val_idx):\n",
    "    train_subset = Subset(dataset, train_idx)\n",
    "    val_subset = Subset(dataset, val_idx)\n",
    "    train_loader = DataLoader(train_subset, batch_size=32, \\\n",
    "        shuffle=True, collate_fn=collate_fn)\n",
    "    val_loader = DataLoader(val_subset, batch_size=32, \\\n",
    "        shuffle=False, collate_fn=collate_fn)\n",
    "    return train_loader, val_loader\n",
    "\n",
    "def initialize_model(config):\n",
    "    model = RNN(config)\n",
    "    optimizer = torch.optim.Adam(model.parameters(), lr=config['lr'])\n",
    "    model.to(torch.device(\"cuda\" if torch.cuda.is_available() else \"cpu\"))\n",
    "    return model, optimizer\n",
    "\n",
    "# Utility functions\n",
    "def optuna_dynamic_hyperparameters(trial):\n",
    "    # Define and return dynamic hyperparameters based on the trial\n",
    "    lr = trial.suggest_float('lr', 1e-5, 1e-3, log=True)\n",
    "    hidden_dim = trial.suggest_categorical('hidden_dim', [128, 256, 512])\n",
    "    embedding_dim = trial.suggest_categorical('embedding_dim', [50, 100, 150])\n",
    "    output_mid_features = trial.suggest_categorical('output_mid_features', [50, 100, 200])\n",
    "    miss_linear_dim = trial.suggest_categorical('miss_linear_dim', [50, 100, 150])\n",
    "    dropout = trial.suggest_float('dropout', 0.2, 0.5)\n",
    "    num_layers = trial.suggest_int('num_layers', 1, 3)\n",
    "\n",
    "    return {\n",
    "        'lr': lr,\n",
    "        'hidden_dim': hidden_dim,\n",
    "        'embedding_dim': embedding_dim,\n",
    "        'output_mid_features': output_mid_features,\n",
    "        'miss_linear_dim': miss_linear_dim,\n",
    "        'dropout': dropout,\n",
    "        'num_layers': num_layers\n",
    "    }"
   ]
  },
  {
   "cell_type": "code",
   "execution_count": null,
   "metadata": {},
   "outputs": [],
   "source": [
    "from pathlib import Path\n",
    "\n",
    "# Define your models directory path\n",
    "models_dir = Path('models/notebook_2')\n",
    "\n",
    "# Create the directory if it does not exist\n",
    "models_dir.mkdir(parents=True, exist_ok=True)\n",
    "\n",
    "# # Assuming missed_chars_tensor is a list of tensors for missed characters\n",
    "# dataset = HangmanDataset(features, \\\n",
    "#     labels, missed_chars, original_words)\n",
    "\n",
    "# Static configuration\n",
    "static_config = {\n",
    "    'rnn': 'LSTM',\n",
    "    'vocab_size': 27,  # 26 English alphabets + 1 (e.g., for underscore)\n",
    "    'use_embedding': True,  # Typically a design choice\n",
    "    'input_feature_size': 5,  # Based on your feature engineering strategy\n",
    "    'models': str(models_dir)\n",
    "}\n",
    "\n",
    "# Device configuration\n",
    "device = torch.device(\"cuda\" if torch.cuda.is_available() else \"cpu\")\n",
    "\n",
    "# Define num_epochs for training in each fold\n",
    "num_epochs = 4 # Adjust as needed\n",
    "N_TRIAL = 3\n",
    "\n",
    "# ====================================================== #\n",
    "# Define the direction for the objective: 'maximize' or 'minimize'\n",
    "direction = 'maximize'  # Adjust based on your objective function\n",
    "\n",
    "study = optuna.create_study(direction=direction)\n",
    "study.optimize(lambda trial: objective(trial, dataset, \\\n",
    "    static_config, num_epochs), n_trials=N_TRIAL)\n",
    "# ====================================================== #"
   ]
  },
  {
   "cell_type": "code",
   "execution_count": null,
   "metadata": {},
   "outputs": [],
   "source": [
    "best_params = study.best_params\n",
    "# Output the best hyperparameters\n",
    "print(\"Best trial:\")\n",
    "trial = study.best_trial\n",
    "print(f\"Value: {trial.value}\")\n",
    "print(\"Params: \")\n",
    "for key, value in trial.params.items():\n",
    "    print(f\"    {key}: {value}\")"
   ]
  },
  {
   "cell_type": "code",
   "execution_count": null,
   "metadata": {},
   "outputs": [],
   "source": [
    "best_trial = study.best_trial\n",
    "print(f\"Best trial number: {best_trial.number}\")\n",
    "\n",
    "# Assuming model saving includes the trial number in the filename\n",
    "best_model_filename = f\"models/trial_{best_trial.number+1}/LSTM.pth\"\n",
    "best_model = RNN.load_model(RNN, best_model_filename, device)"
   ]
  },
  {
   "cell_type": "code",
   "execution_count": null,
   "metadata": {},
   "outputs": [],
   "source": [
    "STOP"
   ]
  },
  {
   "cell_type": "code",
   "execution_count": null,
   "metadata": {},
   "outputs": [],
   "source": [
    "# Merge the two dictionaries to form a single configuration\n",
    "config = {**static_config, **best_params}\n",
    "\n",
    "config"
   ]
  },
  {
   "cell_type": "code",
   "execution_count": null,
   "metadata": {},
   "outputs": [],
   "source": [
    "# Merge the two dictionaries to form a single configuration\n",
    "config = {**static_config, **best_params}\n",
    "\n",
    "# Initialize the RNN model with the combined configuration\n",
    "model = RNN(config)\n",
    "\n",
    "model = model.to(device)\n",
    "\n",
    "# model.load_model(config['LSTM'], 2, 256, trial_number=10)"
   ]
  },
  {
   "cell_type": "code",
   "execution_count": null,
   "metadata": {},
   "outputs": [],
   "source": [
    "STOP"
   ]
  },
  {
   "cell_type": "markdown",
   "metadata": {},
   "source": [
    "##### Testing on unknown data"
   ]
  },
  {
   "cell_type": "code",
   "execution_count": null,
   "metadata": {},
   "outputs": [],
   "source": [
    "%%capture\n",
    "\n",
    "from scr.game import predict_next_character, simulate_game\n",
    "from scr.model import RNN\n",
    "import random\n",
    "# random.seed(400)\n",
    "# Your existing code for initializing the model, etc.\n",
    "\n",
    "import random\n",
    "\n",
    "def play_multiple_games(model, num_games, word_list, \\\n",
    "    char_to_idx, idx_to_char, char_frequency, max_word_length, device):\n",
    "    game_results = []\n",
    "    \n",
    "    sampled_words = random.sample(word_list, num_games)  # Select unique words\n",
    "\n",
    "    for random_word in sampled_words:\n",
    "        with torch.no_grad():\n",
    "            won, final_word, attempts_used = simulate_game(\n",
    "                model, \n",
    "                random_word, \n",
    "                char_to_idx, \n",
    "                idx_to_char, \n",
    "                char_frequency, \n",
    "                max_word_length, \n",
    "                device, \n",
    "                normalize=True, \n",
    "                max_attempts=6\n",
    "            )\n",
    "        game_results.append((won, final_word, attempts_used))\n",
    "\n",
    "    return game_results\n",
    "\n",
    "# Example usage\n",
    "num_games = 10**3\n",
    "results = play_multiple_games(model, num_games, \\\n",
    "    word_list, char_to_idx, idx_to_char, \\\n",
    "        char_frequency, max_word_length, device)\n",
    "\n",
    "# Analyzing results\n",
    "total_wins = sum(result[0] for result in results)\n",
    "win_rate = (total_wins / num_games) * 100\n"
   ]
  },
  {
   "cell_type": "code",
   "execution_count": null,
   "metadata": {},
   "outputs": [],
   "source": []
  }
 ],
 "metadata": {
  "kernelspec": {
   "display_name": "optiver",
   "language": "python",
   "name": "python3"
  },
  "language_info": {
   "codemirror_mode": {
    "name": "ipython",
    "version": 3
   },
   "file_extension": ".py",
   "mimetype": "text/x-python",
   "name": "python",
   "nbconvert_exporter": "python",
   "pygments_lexer": "ipython3",
   "version": "3.10.13"
  }
 },
 "nbformat": 4,
 "nbformat_minor": 2
}
