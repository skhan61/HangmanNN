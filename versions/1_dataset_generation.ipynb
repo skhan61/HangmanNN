{
 "cells": [
  {
   "cell_type": "markdown",
   "id": "a62bd7e6",
   "metadata": {
    "papermill": {
     "duration": 0.002135,
     "end_time": "2023-11-24T22:23:42.367043",
     "exception": false,
     "start_time": "2023-11-24T22:23:42.364908",
     "status": "completed"
    },
    "tags": []
   },
   "source": [
    "##### Imports"
   ]
  },
  {
   "cell_type": "code",
   "execution_count": null,
   "id": "323a72c9",
   "metadata": {
    "execution": {
     "iopub.execute_input": "2023-11-24T22:23:42.378753Z",
     "iopub.status.busy": "2023-11-24T22:23:42.378580Z",
     "iopub.status.idle": "2023-11-24T22:23:43.346735Z",
     "shell.execute_reply": "2023-11-24T22:23:43.346282Z"
    },
    "papermill": {
     "duration": 0.971674,
     "end_time": "2023-11-24T22:23:43.347691",
     "exception": false,
     "start_time": "2023-11-24T22:23:42.376017",
     "status": "completed"
    },
    "tags": []
   },
   "outputs": [],
   "source": [
    "import sys\n",
    "from pathlib import Path\n",
    "import warnings\n",
    "from torch.utils.data import Dataset\n",
    "\n",
    "import warnings\n",
    "import pandas as pd\n",
    "warnings.filterwarnings('ignore')\n",
    "\n",
    "pd.set_option('display.max_columns', 1000)\n",
    "pd.set_option('display.max_rows', 1000)\n",
    "\n",
    "import pickle\n",
    "from pathlib import Path\n",
    "from scr.dataset import *\n",
    "# from scr.game import *\n",
    "from scr.feature_engineering import *\n",
    "# from scr.plot_utils import *\n",
    "import gc\n",
    "from scr.utils import print_scenarios\n",
    "\n",
    "\n",
    "from pathlib import Path\n",
    "import random\n",
    "from collections import Counter, defaultdict\n",
    "import pickle\n",
    "from tqdm import tqdm\n",
    "from torch.utils.data import Dataset\n",
    "\n",
    "from scr.utils import read_words, save_words_to_file\n",
    "\n",
    "import sys\n",
    "# Custom library paths\n",
    "sys.path.extend(['../', './scr'])\n",
    "\n",
    "from scr.utils import set_seed\n",
    "from scr.utils import read_words\n",
    "\n",
    "set_seed(42)\n",
    "\n",
    "import torch\n",
    "import torch.nn as nn\n",
    "from pathlib import Path\n",
    "import random\n",
    "\n",
    "torch.set_float32_matmul_precision('medium')\n",
    "\n",
    "# Device configuration\n",
    "device = torch.device(\"cuda\" if torch.cuda.is_available() else \"cpu\")\n",
    "\n",
    "# # Read and Shuffle Word List\n",
    "word_list = read_words('data/words_250000_train.txt') # , limit=10000)\n",
    "# word_list = read_words('data/250k.txt', limit=10000)\n",
    "\n",
    "random.shuffle(word_list)"
   ]
  },
  {
   "cell_type": "code",
   "execution_count": null,
   "id": "1ef82d19",
   "metadata": {},
   "outputs": [],
   "source": [
    "# import h5py\n",
    "# import json\n",
    "\n",
    "# # Sample Hangman game data\n",
    "# games_data = [\n",
    "#     {\n",
    "#         'guessed_states': ['___b____e', 'a_aba___e', 'anaba__ne', 'anaba_ine'],\n",
    "#         'guessed_letters': ['a', 'n', 'i', 's'],\n",
    "#         'word': 'anabasine',\n",
    "#         'initial_state': '___b_____',\n",
    "#         'attributes': {'game_state': 'early', 'difficulty': 'easy', 'outcome': 'win', \n",
    "#                           'word_length': 9}\n",
    "#     },\n",
    "#     {\n",
    "#         'guessed_states': ['__c______', '_a_a_____'],\n",
    "#         'guessed_letters': ['c', 'a'],\n",
    "#         'word': 'cacophony',\n",
    "#         'initial_state': '__c______',\n",
    "#         'attributes': {'game_state': 'mid', 'difficulty': 'hard', 'outcome': 'lose', \n",
    "#                             'word_length': 9}\n",
    "#     }\n",
    "    \n",
    "#     # ... more games\n",
    "# ]\n",
    "\n",
    "# # Creating the HDF5 file\n",
    "# with h5py.File('HangmanData.h5', 'w') as f:\n",
    "#     for i, game in enumerate(games_data):\n",
    "#         # Create a group for each game\n",
    "#         game_group = f.create_group(f'game_{i+1}')\n",
    "\n",
    "#         # Serialize and store each part of the game data\n",
    "#         for key, value in game.items():\n",
    "#             if isinstance(value, dict):\n",
    "#                 # If the value is a dictionary, serialize it to JSON\n",
    "#                 value = json.dumps(value)\n",
    "#             game_group.create_dataset(key, data=value)"
   ]
  },
  {
   "cell_type": "markdown",
   "id": "05e2750e",
   "metadata": {},
   "source": [
    "##### Data reading and Params Settings"
   ]
  },
  {
   "cell_type": "code",
   "execution_count": null,
   "id": "a52a0793",
   "metadata": {
    "tags": [
     "parameters"
    ]
   },
   "outputs": [],
   "source": [
    "#### Papermil if need\n",
    " \n",
    "NUM_STRATIFIED_SAMPLES = 1_000 # This will be overwritten by Papermill\n",
    "\n",
    "# Define the base directory\n",
    "base_dataset_dir = Path(\"/media/sayem/510B93E12554BBD1/dataset/\")\n",
    "\n",
    "# Create a subdirectory for the stratified samples\n",
    "stratified_samples_dir = base_dataset_dir / str(NUM_STRATIFIED_SAMPLES)\n",
    "stratified_samples_dir.mkdir(parents=True, exist_ok=True)\n",
    "\n",
    "print(stratified_samples_dir)"
   ]
  },
  {
   "cell_type": "code",
   "execution_count": null,
   "id": "d927a799",
   "metadata": {
    "execution": {
     "iopub.execute_input": "2023-11-24T22:23:43.391740Z",
     "iopub.status.busy": "2023-11-24T22:23:43.391624Z",
     "iopub.status.idle": "2023-11-24T22:23:43.560403Z",
     "shell.execute_reply": "2023-11-24T22:23:43.559962Z"
    },
    "papermill": {
     "duration": 0.173511,
     "end_time": "2023-11-24T22:23:43.561690",
     "exception": false,
     "start_time": "2023-11-24T22:23:43.388179",
     "status": "completed"
    },
    "tags": []
   },
   "outputs": [],
   "source": [
    "# Splitting Dataset Function\n",
    "import random\n",
    "\n",
    "def split_dataset(word_list, train_ratio=0.8):\n",
    "    total_words = len(word_list)\n",
    "    train_size = int(total_words * train_ratio)\n",
    "    random.shuffle(word_list)\n",
    "    return word_list[:train_size], word_list[train_size:]\n",
    "\n",
    "# Splitting the word list\n",
    "train_words, test_words = split_dataset(word_list)\n",
    "\n",
    "# Save split datasets to files\n",
    "save_words_to_file(train_words, stratified_samples_dir / 'train_words.txt')\n",
    "save_words_to_file(test_words, stratified_samples_dir / 'test_words.txt')\n",
    "\n",
    "# Calculate Frequencies and Max Word Length\n",
    "word_frequencies = calculate_word_frequencies(train_words)\n",
    "char_frequency = calculate_char_frequencies(train_words)\n",
    "max_word_length = max(len(word) for word in train_words)"
   ]
  },
  {
   "cell_type": "code",
   "execution_count": null,
   "id": "a8cc199b",
   "metadata": {
    "execution": {
     "iopub.execute_input": "2023-11-24T22:23:43.568919Z",
     "iopub.status.busy": "2023-11-24T22:23:43.568821Z",
     "iopub.status.idle": "2023-11-24T22:23:43.571482Z",
     "shell.execute_reply": "2023-11-24T22:23:43.571208Z"
    },
    "papermill": {
     "duration": 0.007294,
     "end_time": "2023-11-24T22:23:43.572518",
     "exception": false,
     "start_time": "2023-11-24T22:23:43.565224",
     "status": "completed"
    },
    "tags": []
   },
   "outputs": [],
   "source": [
    "len(train_words)"
   ]
  },
  {
   "cell_type": "markdown",
   "id": "469a87ce",
   "metadata": {},
   "source": [
    "##### Stratified Sample Generation"
   ]
  },
  {
   "cell_type": "code",
   "execution_count": null,
   "id": "41e486f6",
   "metadata": {
    "execution": {
     "iopub.execute_input": "2023-11-24T22:23:43.579494Z",
     "iopub.status.busy": "2023-11-24T22:23:43.579377Z",
     "iopub.status.idle": "2023-11-24T22:23:43.640436Z",
     "shell.execute_reply": "2023-11-24T22:23:43.640019Z"
    },
    "papermill": {
     "duration": 0.065848,
     "end_time": "2023-11-24T22:23:43.641509",
     "exception": false,
     "start_time": "2023-11-24T22:23:43.575661",
     "status": "completed"
    },
    "tags": []
   },
   "outputs": [],
   "source": [
    "## we are taking starified samples from train_words\n",
    "\n",
    "from scr.custom_sampler import \\\n",
    "    stratified_sample_by_length_and_frequency, \\\n",
    "        stratified_sample_by_length, stratified_sample_by_length_and_uniqueness\n",
    "\n",
    "print(f'Number of Statrified samples: {NUM_STRATIFIED_SAMPLES}')\n",
    "\n",
    "# sampled_words_by_length_and_frequency \\\n",
    "#     = stratified_sample_by_length_and_frequency(train_words, \\\n",
    "#     word_frequencies, \\\n",
    "#     NUM_STRATIFIED_SAMPLES)\n",
    "\n",
    "sampled_words_by_length = stratified_sample_by_length_and_uniqueness(word_list, \\\n",
    "    NUM_STRATIFIED_SAMPLES)\n",
    "\n",
    "\n",
    "print(len(sampled_words_by_length))"
   ]
  },
  {
   "cell_type": "markdown",
   "id": "cd0d326f",
   "metadata": {
    "papermill": {
     "duration": 0.004373,
     "end_time": "2023-11-24T22:23:44.300659",
     "exception": false,
     "start_time": "2023-11-24T22:23:44.296286",
     "status": "completed"
    },
    "tags": []
   },
   "source": [
    "##### Intial State Simulation Testing"
   ]
  },
  {
   "cell_type": "code",
   "execution_count": null,
   "id": "ae53fccc",
   "metadata": {},
   "outputs": [],
   "source": [
    "from scr.game import *"
   ]
  },
  {
   "cell_type": "code",
   "execution_count": null,
   "id": "1415477e",
   "metadata": {},
   "outputs": [],
   "source": [
    "# word = \"mississippi\"\n",
    "word = \"mythopoetize\"\n",
    "# word = \"cat\"\n",
    "\n",
    "initial_states = process_word_for_six_states(word)\n",
    "\n",
    "initial_states"
   ]
  },
  {
   "cell_type": "code",
   "execution_count": null,
   "id": "4c3da54c",
   "metadata": {
    "execution": {
     "iopub.execute_input": "2023-11-24T22:23:44.317155Z",
     "iopub.status.busy": "2023-11-24T22:23:44.317069Z",
     "iopub.status.idle": "2023-11-24T22:23:44.319452Z",
     "shell.execute_reply": "2023-11-24T22:23:44.319138Z"
    },
    "papermill": {
     "duration": 0.005907,
     "end_time": "2023-11-24T22:23:44.320079",
     "exception": false,
     "start_time": "2023-11-24T22:23:44.314172",
     "status": "completed"
    },
    "tags": []
   },
   "outputs": [],
   "source": [
    "len(initial_states)"
   ]
  },
  {
   "cell_type": "code",
   "execution_count": null,
   "id": "d5cffa5f",
   "metadata": {
    "execution": {
     "iopub.execute_input": "2023-11-24T22:23:44.326727Z",
     "iopub.status.busy": "2023-11-24T22:23:44.326580Z",
     "iopub.status.idle": "2023-11-24T22:23:44.329649Z",
     "shell.execute_reply": "2023-11-24T22:23:44.329220Z"
    },
    "papermill": {
     "duration": 0.007091,
     "end_time": "2023-11-24T22:23:44.330204",
     "exception": false,
     "start_time": "2023-11-24T22:23:44.323113",
     "status": "completed"
    },
    "tags": []
   },
   "outputs": [],
   "source": [
    "initial_states"
   ]
  },
  {
   "cell_type": "markdown",
   "id": "01da2152",
   "metadata": {
    "papermill": {
     "duration": 0.002642,
     "end_time": "2023-11-24T22:23:44.335321",
     "exception": false,
     "start_time": "2023-11-24T22:23:44.332679",
     "status": "completed"
    },
    "tags": []
   },
   "source": [
    "##### Dataset Generation: Simulation"
   ]
  },
  {
   "cell_type": "code",
   "execution_count": null,
   "id": "b3dfd089",
   "metadata": {},
   "outputs": [],
   "source": [
    "word = \"mississippi\"\n",
    "\n",
    "initial_states = process_word_for_six_states(word)\n",
    "\n",
    "# print(initial_states)\n",
    "# Print generated initial states\n",
    "print(\"Generated Initial States: \", initial_states)"
   ]
  },
  {
   "cell_type": "code",
   "execution_count": null,
   "id": "f65e7334",
   "metadata": {},
   "outputs": [],
   "source": [
    "from scr.game import simulate_game_progress, \\\n",
    "    play_game_with_a_word, process_word\n",
    "\n",
    "# Example word and initial state\n",
    "# Example usage\n",
    "word = \"mississippi\"\n",
    "# word = \"cat\"\n",
    "\n",
    "initial_states = process_word_for_six_states(word)\n",
    "\n",
    "# print(initial_states)\n",
    "# Print generated initial states\n",
    "print(\"Generated Initial States:\")\n",
    "for state_name, initial_state in initial_states.items():\n",
    "    # Simulate the game\n",
    "    print(initial_state)\n",
    "    print(f\"For initial state: {initial_state}\")\n",
    "    won, game_progress = simulate_game_progress(\n",
    "        model=None,  # Assuming model is not used in this example\n",
    "        word=word, \n",
    "        initial_state=initial_state, \n",
    "        char_frequency={},  # Assuming char_frequency is not used in this example\n",
    "        max_word_length=len(word), \n",
    "        device=None,  # Assuming device is not used in this example\n",
    "        max_attempts=6, \n",
    "        normalize=True,\n",
    "        difficulty=\"medium\", \n",
    "        outcome_preference='win'\n",
    "    )\n",
    "\n",
    "    # Display game progress\n",
    "    for step in game_progress:\n",
    "        print(f\"Guessed: '{step[0]}', New State: '{step[1]}', Correct: {step[2]}\")\n",
    "\n",
    "        # break\n",
    "\n",
    "    # break\n",
    "\n",
    "    # print(\"Game Result:\", \"Won\" if won else \"Lost\")"
   ]
  },
  {
   "cell_type": "markdown",
   "id": "8955b2cc",
   "metadata": {},
   "source": [
    "##### Writing Parquet"
   ]
  },
  {
   "cell_type": "code",
   "execution_count": null,
   "id": "e1db0003",
   "metadata": {},
   "outputs": [],
   "source": [
    "import pandas as pd\n",
    "import pyarrow as pa\n",
    "import pyarrow.parquet as pq\n",
    "from tqdm import tqdm\n",
    "\n",
    "# Assuming functions 'simulate_game_progress' and 'process_word_for_six_states' are defined elsewhere\n",
    "\n",
    "def process_batch_to_parquet(batch, file_path, start_game_counter):\n",
    "    game_counter = start_game_counter\n",
    "    data_for_parquet = []\n",
    "\n",
    "    for game_data in batch:\n",
    "        word, state_name, initial_state, difficulty, outcome, won, game_progress = game_data\n",
    "        if not game_progress:\n",
    "            continue\n",
    "\n",
    "        final_state = game_progress[-1][1]  # Get the final state from game_progress\n",
    "\n",
    "        guessed_states = [initial_state] + [state for _, state, _ in game_progress]\n",
    "        guessed_letters = [letter for letter, _, _ in game_progress]\n",
    "\n",
    "        data_for_parquet.append({\n",
    "            'game_id': game_counter,\n",
    "            'word': word,\n",
    "            'initial_state': initial_state,\n",
    "            'final_state': final_state,\n",
    "            'guessed_states': ','.join(guessed_states[:-1]),\n",
    "            'guessed_letters': ','.join(guessed_letters),\n",
    "            'game_state': state_name,\n",
    "            'difficulty': difficulty,\n",
    "            'outcome': outcome,\n",
    "            'word_length': len(word),\n",
    "            'won': won\n",
    "        })\n",
    "\n",
    "        game_counter += 1\n",
    "\n",
    "    df = pd.DataFrame(data_for_parquet)\n",
    "    table = pa.Table.from_pandas(df)\n",
    "    pq.write_to_dataset(table, root_path=file_path, compression='snappy') #, existing_data_behavior='append')\n",
    "\n",
    "    return game_counter\n",
    "\n",
    "def generate_batch(start_index, end_index, sampled_words, game_states_func):\n",
    "    batch = []\n",
    "    for i in range(start_index, end_index):\n",
    "        word = sampled_words[i]\n",
    "        game_states = game_states_func(word)\n",
    "        for state_name, initial_state in game_states.items():\n",
    "            for difficulty in [\"easy\", \"medium\", \"hard\"]:\n",
    "                for outcome in [\"win\", \"lose\"]:\n",
    "                    won, game_progress = simulate_game_progress(\n",
    "                        model=None, word=word, initial_state=initial_state,\n",
    "                        char_frequency=char_frequency, max_word_length=max_word_length,\n",
    "                        device=device, max_attempts=6, normalize=True,\n",
    "                        difficulty=difficulty, outcome_preference=outcome\n",
    "                    )\n",
    "                    \n",
    "                    batch.append((word, state_name, initial_state, difficulty, outcome, won, game_progress))\n",
    "    return batch\n",
    "\n",
    "def main_execution(sampled_words, game_states_func, batch_size, parquet_file_path):\n",
    "    game_counter = 1\n",
    "    total_words = len(sampled_words)\n",
    "\n",
    "    print(f\"Total number of words: \", total_words)\n",
    "\n",
    "    # i = 0\n",
    "\n",
    "    for start_index in tqdm(range(0, total_words, batch_size), desc=\"Processing Batches\"):\n",
    "        end_index = min(start_index + batch_size, total_words)\n",
    "        batch = generate_batch(start_index, end_index, sampled_words, game_states_func)\n",
    "        game_counter = process_batch_to_parquet(batch, parquet_file_path, game_counter)\n",
    "\n",
    "        # if i < 5:\n",
    "        #     i+=1\n",
    "        #     break\n",
    "\n",
    "    print(f\"Total games processed: {game_counter - 1}\")\n",
    "\n",
    "# Execute the main function\n",
    "# Main execution\n",
    "batch_size = 1000  # Adjust based on your requirements\n",
    "\n",
    "parquet_file_path = Path(stratified_samples_dir) / \"parquets\"\n",
    "parquet_file_path.mkdir(exist_ok=True, parents=True)\n",
    "\n",
    "main_execution(sampled_words_by_length, process_word_for_six_states, batch_size, parquet_file_path)"
   ]
  },
  {
   "cell_type": "code",
   "execution_count": null,
   "id": "ebf345d0",
   "metadata": {},
   "outputs": [],
   "source": [
    "parquet_file_path"
   ]
  },
  {
   "cell_type": "code",
   "execution_count": null,
   "id": "6d1359cf",
   "metadata": {},
   "outputs": [],
   "source": [
    "import pandas as pd\n",
    "\n",
    "# # Replace this with the path to your Parquet file\n",
    "# parquet_file_path = 'path/to/your/HangmanData.parquet'\n",
    "\n",
    "# Read the Parquet file\n",
    "df = pd.read_parquet(parquet_file_path)\n",
    "\n",
    "# Display the first few rows of the DataFrame\n",
    "df"
   ]
  },
  {
   "cell_type": "code",
   "execution_count": null,
   "id": "b3a8c199",
   "metadata": {},
   "outputs": [],
   "source": [
    "# Get the total number of rows (games) in the DataFrame\n",
    "total_games = len(df)\n",
    "\n",
    "print(f\"Total number of games in the dataset: {total_games}\")\n",
    "\n",
    "# Additional checks you might want to perform:\n",
    "# - Check for any null values or anomalies in the data\n",
    "print(df.isnull().sum())\n",
    "\n",
    "# - Get a summary of the DataFrame\n",
    "print(df.describe())\n",
    "\n",
    "# - Count the number of unique words or game states\n",
    "unique_words = df['word'].nunique()\n",
    "print(f\"Number of unique words: {unique_words}\")\n",
    "\n",
    "# - Inspect the distribution of game outcomes, difficulties, etc.\n",
    "print(df['outcome'].value_counts())\n",
    "print(df['difficulty'].value_counts())"
   ]
  },
  {
   "cell_type": "markdown",
   "id": "5d1057e0",
   "metadata": {},
   "source": [
    "##### Reading Checking"
   ]
  },
  {
   "cell_type": "code",
   "execution_count": null,
   "id": "c04a076a",
   "metadata": {},
   "outputs": [],
   "source": [
    "import os\n",
    "import json\n",
    "from pathlib import Path\n",
    "from sklearn.model_selection import train_test_split\n",
    "\n",
    "# # Assuming HangmanDataset class and other necessary variables are defined\n",
    "# # parquet_file_path, NUM_STRATIFIED_SAMPLES, stratified_samples_dir\n",
    "\n",
    "# def split_dataset(directory, test_size=0.20, random_state=42):\n",
    "#     # Get the list of all parquet files\n",
    "#     parquet_files = sorted([f for f in os.listdir(directory) if f.endswith('.parquet')])\n",
    "\n",
    "#     # Split the list of files\n",
    "#     train_files, valid_files = train_test_split(parquet_files, \n",
    "#                     test_size=test_size, random_state=random_state)\n",
    "\n",
    "#     # Construct the full path for each file\n",
    "#     train_files = [os.path.join(directory, f) for f in train_files]\n",
    "#     valid_files = [os.path.join(directory, f) for f in valid_files]\n",
    "\n",
    "#     return train_files, valid_files\n",
    "\n",
    "import os\n",
    "import pandas as pd\n",
    "from sklearn.model_selection import train_test_split\n",
    "\n",
    "def split_dataset(directory, test_size=0.20, random_state=42):\n",
    "    train_dfs = []\n",
    "    valid_dfs = []\n",
    "\n",
    "    # Read each parquet file, perform train-test split, and store in lists\n",
    "    for f in os.listdir(directory):\n",
    "        if f.endswith('.parquet'):\n",
    "            file_path = os.path.join(directory, f)\n",
    "            df = pd.read_parquet(file_path)\n",
    "\n",
    "            # Split the data from this file\n",
    "            train_df, valid_df = train_test_split(df, test_size=test_size, random_state=random_state)\n",
    "            train_dfs.append(train_df)\n",
    "            valid_dfs.append(valid_df)\n",
    "\n",
    "    # Concatenate all the train and validation splits\n",
    "    full_train_data = pd.concat(train_dfs, ignore_index=True)\n",
    "    full_valid_data = pd.concat(valid_dfs, ignore_index=True)\n",
    "\n",
    "    return full_train_data, full_valid_data\n",
    "\n",
    "\n",
    "# Split the dataset and obtain file paths\n",
    "train_files, valid_files = split_dataset(parquet_file_path)\n",
    "\n",
    "# Create the directory if it doesn't exist\n",
    "Path(stratified_samples_dir).mkdir(parents=True, exist_ok=True)\n",
    "\n",
    "# Define file paths for saving the dataset file paths\n",
    "train_file_path = os.path.join(stratified_samples_dir, f'{NUM_STRATIFIED_SAMPLES}_train_files.json')\n",
    "valid_file_path = os.path.join(stratified_samples_dir, f'{NUM_STRATIFIED_SAMPLES}_valid_files.json')\n",
    "\n",
    "# Save the train and validation file paths\n",
    "with open(train_file_path, 'w') as f:\n",
    "    json.dump(train_files, f)\n",
    "with open(valid_file_path, 'w') as f:\n",
    "    json.dump(valid_files, f)\n",
    "\n",
    "\n",
    "print(f\"stratified_samples_dir: \", stratified_samples_dir)\n",
    "\n",
    "# # Define file paths for saving the dataset file paths\n",
    "# train_file_path = os.path.join(stratified_samples_dir, f'{NUM_STRATIFIED_SAMPLES}_train_files.json')\n",
    "# valid_file_path = os.path.join(stratified_samples_dir, f'{NUM_STRATIFIED_SAMPLES}_valid_files.json')\n",
    "\n",
    "# Load\n",
    "with open(train_file_path, 'r') as f:\n",
    "    train_files = json.load(f)\n",
    "\n",
    "with open(valid_file_path, 'r') as f:\n",
    "    valid_files = json.load(f)\n",
    "\n",
    "# Recreate the datasets using the saved file paths\n",
    "# Assuming HangmanDataset is your custom dataset class\n",
    "train_dataset = HangmanDataset(train_files)\n",
    "valid_dataset = HangmanDataset(valid_files)\n",
    "\n",
    "\n"
   ]
  },
  {
   "cell_type": "code",
   "execution_count": null,
   "id": "a575e3eb",
   "metadata": {},
   "outputs": [],
   "source": [
    "train_dataset[0]"
   ]
  },
  {
   "cell_type": "code",
   "execution_count": null,
   "id": "9fc7f82a",
   "metadata": {},
   "outputs": [],
   "source": [
    "len(train_dataset)"
   ]
  },
  {
   "cell_type": "code",
   "execution_count": null,
   "id": "452b23e5",
   "metadata": {},
   "outputs": [],
   "source": [
    "# Assuming hangman_dataset is already loaded and its total size is known\n",
    "total_size = len(train_dataset)\n",
    "last_element_index = total_size - 1\n",
    "\n",
    "# Access the last element\n",
    "last_data = train_dataset[last_element_index]"
   ]
  },
  {
   "cell_type": "code",
   "execution_count": null,
   "id": "250ec069",
   "metadata": {},
   "outputs": [],
   "source": [
    "last_data"
   ]
  }
 ],
 "metadata": {
  "kernelspec": {
   "display_name": "optiver",
   "language": "python",
   "name": "python3"
  },
  "language_info": {
   "codemirror_mode": {
    "name": "ipython",
    "version": 3
   },
   "file_extension": ".py",
   "mimetype": "text/x-python",
   "name": "python",
   "nbconvert_exporter": "python",
   "pygments_lexer": "ipython3",
   "version": "3.10.13"
  },
  "papermill": {
   "default_parameters": {},
   "duration": null,
   "end_time": null,
   "environment_variables": {},
   "exception": null,
   "input_path": "/home/sayem/Desktop/Hangman/1_a_dataset_generation.ipynb",
   "output_path": "/home/sayem/Desktop/Hangman/1_a_dataset_generation.ipynb",
   "parameters": {},
   "start_time": "2023-11-24T22:23:41.671735",
   "version": "2.5.0"
  }
 },
 "nbformat": 4,
 "nbformat_minor": 5
}
