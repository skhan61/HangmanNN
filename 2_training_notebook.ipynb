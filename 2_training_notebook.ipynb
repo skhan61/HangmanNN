{
 "cells": [
  {
   "cell_type": "markdown",
   "metadata": {},
   "source": [
    "##### Imports"
   ]
  },
  {
   "cell_type": "code",
   "execution_count": 1,
   "metadata": {},
   "outputs": [],
   "source": [
    "import sys\n",
    "from pathlib import Path\n",
    "import warnings\n",
    "\n",
    "import warnings\n",
    "import pandas as pd\n",
    "warnings.filterwarnings('ignore')\n",
    "\n",
    "pd.set_option('display.max_columns', 1000)\n",
    "pd.set_option('display.max_rows', 1000)\n",
    "\n",
    "import random\n",
    "from collections import Counter\n",
    "from scr.utils import read_words\n",
    "import gc\n",
    "\n",
    "\n",
    "import sys\n",
    "# Custom library paths\n",
    "sys.path.extend(['../', './scr'])\n",
    "\n",
    "from scr.utils import set_seed\n",
    "from scr.utils import read_words\n",
    "\n",
    "# set_seed(42)\n",
    "\n",
    "import torch\n",
    "import torch.nn as nn\n",
    "\n",
    "torch.set_float32_matmul_precision('medium')\n",
    "\n",
    "# Device configuration\n",
    "device = torch.device(\"cuda\" if torch.cuda.is_available() else \"cpu\")"
   ]
  },
  {
   "cell_type": "markdown",
   "metadata": {},
   "source": [
    "##### Data Reading and Feature Engineering"
   ]
  },
  {
   "cell_type": "code",
   "execution_count": 2,
   "metadata": {},
   "outputs": [
    {
     "name": "stdout",
     "output_type": "stream",
     "text": [
      "File not found: dataset/1000/train_words.txt\n",
      "File not found: dataset/1000/test_words.txt\n",
      "File not found: dataset/1000/val_words.txt\n"
     ]
    }
   ],
   "source": [
    "\"\"\"\n",
    "This code cell performs the following operations for a Hangman game dataset preparation:\n",
    "\n",
    "1. Set a constant `NUM_STRATIFIED_SAMPLES` for the number of samples to be used.\n",
    "\n",
    "2. Check and define the base directory path for storing the dataset. The base directory is named based on the number of stratified samples and is located within a 'dataset' folder in the current working directory.\n",
    "\n",
    "3. Create the base directory if it doesn't exist, along with a subdirectory named 'pkl' for storing pickle files.\n",
    "\n",
    "4. Define paths for training, testing, and validation word lists within the base directory. These are expected to be text files containing words for each respective dataset split.\n",
    "\n",
    "5. Check if these files exist in the specified paths. If they do, read the words from these files into respective variables (`train_words`, `test_words`, `val_words`). If any of the files are not found, print a message indicating the file is missing.\n",
    "\n",
    "Note: The functions `read_words` and `write_words` used in the code are assumed to be defined in the 'scr.utils' module for reading and writing words from/to text files.\n",
    "\"\"\"\n",
    "\n",
    "import os\n",
    "from pathlib import Path\n",
    "from scr.utils import *\n",
    "\n",
    "NUM_STRATIFIED_SAMPLES = 1000\n",
    "\n",
    "# # Check current working directory\n",
    "# current_dir = os.getcwd()\n",
    "# print(\"Current Working Directory:\", current_dir)\n",
    "\n",
    "# Define the base directory where you want to save the datase/t\n",
    "base_dataset_dir = Path(f'./dataset/{NUM_STRATIFIED_SAMPLES}')\n",
    "# Define the base directory on the specified drive\n",
    "# base_dataset_dir = Path(f\"/media/sayem/510B93E12554BBD1/dataset/{NUM_STRATIFIED_SAMPLES}\")\n",
    "\n",
    "# Ensure the base directory exists\n",
    "base_dataset_dir.mkdir(parents=True, exist_ok=True)\n",
    "\n",
    "pkls_dir = base_dataset_dir / 'pkl'\n",
    "pkls_dir.mkdir(parents=True, exist_ok=True)\n",
    "\n",
    "# Adjust these paths if necessary\n",
    "train_words_path = base_dataset_dir / 'train_words.txt'\n",
    "test_words_path = base_dataset_dir / 'test_words.txt'\n",
    "val_words_path = base_dataset_dir / 'val_words.txt'\n",
    "\n",
    "# Check if files exist before reading\n",
    "if train_words_path.exists():\n",
    "    train_words = read_words(train_words_path)\n",
    "else:\n",
    "    print(f\"File not found: {train_words_path}\")\n",
    "\n",
    "if test_words_path.exists():\n",
    "    test_words = read_words(test_words_path)\n",
    "else:\n",
    "    print(f\"File not found: {test_words_path}\")\n",
    "\n",
    "if val_words_path.exists():\n",
    "    val_words = read_words(val_words_path)\n",
    "else:\n",
    "    print(f\"File not found: {val_words_path}\")\n"
   ]
  },
  {
   "cell_type": "markdown",
   "metadata": {},
   "source": [
    "##### Testing Single Word inferece Pipeline"
   ]
  },
  {
   "cell_type": "code",
   "execution_count": 3,
   "metadata": {},
   "outputs": [],
   "source": [
    "# # For inference\n",
    "from scr.feature_engineering import *\n",
    "\n",
    "# from scr.feature_engineering import build_feature_set, \\\n",
    "#     process_single_word_inference, calculate_char_frequencies, \\\n",
    "#         calculate_word_frequencies\n",
    "from scr.utils import *\n",
    "\n",
    "word_list = read_words('data/words_250000_train.txt')\n",
    "word_frequencies = calculate_word_frequencies(word_list)\n",
    "char_frequency = calculate_char_frequencies(word_list)\n",
    "max_word_length = max(len(word) for word in word_list)\n",
    "\n",
    "# # Example usage\n",
    "# # Example usage\n",
    "# game_state = \"_pp_e\"\n",
    "# max_seq_length = 6  # Set this to the maximum number of turns in your game\n",
    "\n",
    "# # Now include max_seq_length in the function call\n",
    "# # for testing the function\n",
    "# sequence_features, sequence_missed_chars = \\\n",
    "#     process_game_sequence([game_state], char_frequency, max_word_length, max_seq_length)"
   ]
  },
  {
   "cell_type": "code",
   "execution_count": 4,
   "metadata": {},
   "outputs": [],
   "source": [
    "# batch_size = 1\n",
    "# # Reshaping to separate features\n",
    "# reshaped_features = sequence_features.view(batch_size, max_seq_length, max_word_length, -1)\n",
    "# # Extracting the character indices\n",
    "# char_indices = reshaped_features[:, :, :, 0]"
   ]
  },
  {
   "cell_type": "code",
   "execution_count": 5,
   "metadata": {},
   "outputs": [],
   "source": [
    "# # Example of processing a batch of games\n",
    "# batch_of_games = [['_ppl_']]\n",
    "# char_frequency = calculate_char_frequencies(word_list)\n",
    "# max_word_length = max_word_length  # Assuming this is the maximum word length\n",
    "# max_seq_length = max_seq_length  # Maximum number of states (guesses) per game\n",
    "\n",
    "# # Example of processing a batch of games\n",
    "# batch_features, batch_missed_characters = process_batch_of_games(batch_of_games, \\\n",
    "#     char_frequency, max_word_length, max_seq_length)\n",
    "# print(batch_features.shape)  # Expected shape: [2, 6, max_word_length * num_features]\n",
    "# print(batch_missed_characters.shape)  # Expected shape: [2, 6, len(char_to_idx)]"
   ]
  },
  {
   "cell_type": "code",
   "execution_count": 6,
   "metadata": {},
   "outputs": [],
   "source": [
    "# batch_size = 1\n",
    "# # Reshaping to separate features\n",
    "# reshaped_features = batch_features.view(batch_size, max_seq_length, max_word_length, -1)\n",
    "# # Extracting the character indices\n",
    "# char_indices = reshaped_features[:, :, :, 0]"
   ]
  },
  {
   "cell_type": "code",
   "execution_count": 7,
   "metadata": {},
   "outputs": [],
   "source": [
    "# # Example of processing a batch of games\n",
    "# batch_of_games = [['_ppl_', 'appl_', 'apple'], ['_a__l_', 'ba__l_', 'ball_'], ['_a__l_', 'ba__l_', 'ball_']]\n",
    "# # batch_of_games = [['_ppl_']]\n",
    "# batch_size = len(batch_of_games)\n",
    "# char_frequency = calculate_char_frequencies(word_list)\n",
    "# max_word_length = max_word_length  # Assuming this is the maximum word length\n",
    "# max_seq_length = max_seq_length  # Maximum number of states (guesses) per game\n",
    "\n",
    "# # Example of processing a batch of games\n",
    "# batch_features, batch_missed_characters \\\n",
    "#     = process_batch_of_games(batch_of_games, \\\n",
    "#         char_frequency, max_word_length, max_seq_length)\n",
    "# print(batch_features.shape)  # Expected shape: [2, 6, max_word_length * num_features]\n",
    "# print(batch_missed_characters.shape)  # Expected shape: [2, 6, len(char_to_idx)]"
   ]
  },
  {
   "cell_type": "code",
   "execution_count": 8,
   "metadata": {},
   "outputs": [],
   "source": [
    "# # Reshaping to separate features\n",
    "# reshaped_features = batch_features.view(batch_size, \\\n",
    "#     max_seq_length, max_word_length, -1)\n",
    "# # Extracting the character indices\n",
    "# char_indices = reshaped_features[:, :, :, 0]"
   ]
  },
  {
   "cell_type": "markdown",
   "metadata": {},
   "source": [
    "##### Model Building"
   ]
  },
  {
   "cell_type": "code",
   "execution_count": 9,
   "metadata": {},
   "outputs": [],
   "source": [
    "from scr.simple_model import SimpleLSTM\n",
    "from scr.base_model import BaseModel\n",
    "\n",
    "# Instantiate and test the model\n",
    "config = {\n",
    "    'embedding_dim': 200,\n",
    "    'hidden_dim': 256,\n",
    "    'num_layers': 2,\n",
    "    'vocab_size': 27,\n",
    "    'max_word_length': max_word_length,\n",
    "    'input_feature_size': 5,\n",
    "    'use_embedding': True,\n",
    "    'miss_linear_dim': 50\n",
    "}\n",
    "\n",
    "model = SimpleLSTM(config)\n",
    "# x_lens = torch.tensor([max_seq_length] * batch_size, dtype=torch.long)\n",
    "# output = model(batch_features, x_lens, batch_missed_characters)\n",
    "# with torch.no_grad():\n",
    "#     output = model(batch_features, x_lens, batch_missed_characters)\n",
    "#     print(\"Output shape:\", output.shape)\n",
    "\n",
    "# Assuming 'model' is your trained model instance\n",
    "model.save_model(file_path='models/model.pth')"
   ]
  },
  {
   "cell_type": "code",
   "execution_count": 10,
   "metadata": {},
   "outputs": [],
   "source": [
    "from pathlib import Path\n",
    "import torch\n",
    "\n",
    "# Assuming the saved model file is 'models/model.pth'\n",
    "model_file_path = 'models/model.pth'\n",
    "\n",
    "# Specify the device to load the model onto\n",
    "device = torch.device(\"cuda\" if torch.cuda.is_available() else \"cpu\")\n",
    "\n",
    "# Load the model\n",
    "loaded_model = BaseModel.load_model(SimpleLSTM, model_file_path)\n",
    "# Now `loaded_model` is an instance of `SimpleLSTM` with the state and config loaded"
   ]
  },
  {
   "cell_type": "markdown",
   "metadata": {},
   "source": [
    "##### Playing Games Untrain NN"
   ]
  },
  {
   "cell_type": "code",
   "execution_count": 11,
   "metadata": {},
   "outputs": [],
   "source": [
    "%%capture\n",
    "\"\"\"\n",
    "Hangman Game Simulation with Neural Network Integration\n",
    "--------------------------------------------------------\n",
    "\n",
    "Overview:\n",
    "---------\n",
    "This code is designed to integrate a neural network (NN) model into a Hangman game simulation. \n",
    "It tests the model's ability to predict characters in the context of the game, using an untrained model \n",
    "as a baseline. The code covers several aspects, including character prediction, game state updates, \n",
    "and overall game logic.\n",
    "\n",
    "Key Components:\n",
    "---------------\n",
    "1. `guess_character` Function:\n",
    "   - Core function that predicts the next character in the Hangman game.\n",
    "   - Takes parameters like the current game state, character frequency, NN model, and device configuration.\n",
    "   - Processes the current masked word and predicts the next character using the model's output.\n",
    "   - Applies softmax to get a probability distribution and excludes already guessed characters.\n",
    "   - Implements a fallback strategy to choose the most common unguessed character if needed.\n",
    "\n",
    "2. `guess` Function:\n",
    "   - Wrapper function that calls `guess_character`.\n",
    "   - Cleans and preprocesses the word for guessing.\n",
    "   - Manages the list of already guessed letters.\n",
    "\n",
    "3. `play_game_with_a_word` Function: mimic api:\n",
    "   - Simulates an entire Hangman game with a given word.\n",
    "   - Manages the game state, including guessed letters, remaining attempts, and masked word.\n",
    "   - Calls `guess` function to make guesses and updates the game state accordingly.\n",
    "   - Determines the game outcome (win/lose) based on the guesses and the word to be guessed.\n",
    "\n",
    "4. Testing with Sample Words:\n",
    "   - The code tests the game logic with a set of sample words.\n",
    "   - Each word is used to play a complete game, showcasing the model's predictions and the game's progression.\n",
    "   - The results (win/lose, final word state, and number of attempts used) are printed for each test word.\n",
    "\n",
    "Purpose of Testing:\n",
    "-------------------\n",
    "- To assess the NN model's character prediction capabilities in a game scenario.\n",
    "- To verify the game logic, including the updating of the game state and the effectiveness of the fallback strategy.\n",
    "- To identify areas for potential improvement or adjustment in both the model and the game logic.\n",
    "\n",
    "Importance:\n",
    "-----------\n",
    "- This testing phase is crucial for understanding how the model behaves with different inputs and varying game states.\n",
    "- It provides insights into the model's performance before and after training, highlighting its learning progress.\n",
    "- The tests help ensure that the integration of the model with the Hangman game logic is functioning as expected.\n",
    "\n",
    "Next Steps:\n",
    "-----------\n",
    "- Evaluate the model's performance with these initial tests and identify areas for improvement.\n",
    "- Train the model with appropriate datasets to enhance its prediction accuracy.\n",
    "- Continuously test the model with new game states to ensure robust performance.\n",
    "- Refine the game logic and fallback strategies based on test outcomes.\n",
    "\n",
    "Conclusion:\n",
    "-----------\n",
    "This setup forms a foundational part of developing an AI-powered Hangman game. \n",
    "It bridges the gap between NN models and game mechanics, \n",
    "paving the way for creating an intelligent game-playing agent.\n",
    "\n",
    "\"\"\""
   ]
  },
  {
   "cell_type": "code",
   "execution_count": 12,
   "metadata": {},
   "outputs": [
    {
     "name": "stdout",
     "output_type": "stream",
     "text": [
      "Guessed Character: x\n"
     ]
    }
   ],
   "source": [
    "from scr.game import guess_character, guess\n",
    "\n",
    "# Define the game state\n",
    "game_state = '_a_'  # The current state of the word being guessed\n",
    "\n",
    "# Define dummy guessed letters (if any have been guessed)\n",
    "guessed_letters = []  # No letters guessed yet\n",
    "\n",
    "# Call the guess function\n",
    "# # Testing the guess fucntion with NN integration\n",
    "model = loaded_model\n",
    "# model.to(device)  # Make sure model is on the correct device\n",
    "# # tensor = tensor.to(device)\n",
    "char = guess(model, game_state, char_frequency, \\\n",
    "        max_word_length, device, guessed_letters)\n",
    "\n",
    "# Print the guessed character\n",
    "print(\"Guessed Character:\", char)"
   ]
  },
  {
   "cell_type": "code",
   "execution_count": 13,
   "metadata": {},
   "outputs": [
    {
     "name": "stdout",
     "output_type": "stream",
     "text": [
      "False _____ 6\n"
     ]
    }
   ],
   "source": [
    "from scr.game import play_game_with_a_word\n",
    "game_state = 'apple'\n",
    "won, final_word, attempts = play_game_with_a_word(model, game_state, char_frequency, \\\n",
    "    max_word_length, device, max_attempts=6, normalize=True)\n",
    "\n",
    "print(won, final_word, attempts)"
   ]
  },
  {
   "cell_type": "code",
   "execution_count": 14,
   "metadata": {},
   "outputs": [
    {
     "name": "stdout",
     "output_type": "stream",
     "text": [
      "apple\n",
      "False _____ 6\n",
      "\n",
      "kale\n",
      "False ____ 6\n",
      "\n",
      "moon\n",
      "False moo_ 6\n",
      "\n",
      "missisippi\n",
      "False mi__i_ippi 6\n",
      "\n"
     ]
    }
   ],
   "source": [
    "words = ['apple', 'kale', 'moon', 'missisippi']\n",
    "set_seed(412)\n",
    "\n",
    "# Model interacting with my/dummy api\n",
    "# For validation\n",
    "for word in words:\n",
    "    print(word)\n",
    "    won, final_word, attempts = play_game_with_a_word(\n",
    "        model, word, char_frequency, \\\n",
    "        max_word_length, device, max_attempts=6, normalize=True)\n",
    "\n",
    "    print(won, final_word, attempts)\n",
    "    print()"
   ]
  },
  {
   "cell_type": "markdown",
   "metadata": {},
   "source": [
    "##### Building Dataset From States"
   ]
  },
  {
   "cell_type": "code",
   "execution_count": 15,
   "metadata": {},
   "outputs": [],
   "source": [
    "# ## Reading all pkls and inpect\n",
    "\n",
    "# pkl_list = []\n",
    "\n",
    "# for batch_dir in sorted(pkls_dir.iterdir(), key=lambda x: int(x.name) \\\n",
    "#     if x.name.isdigit() else float('inf')):\n",
    "#     if batch_dir.is_dir():\n",
    "#         pkl_files = list(batch_dir.glob(\"*.pkl\"))\n",
    "\n",
    "#         for pkl_file in pkl_files:\n",
    "#             with open(pkl_file, 'rb') as file:\n",
    "#                 game_data = pickle.load(file)\n",
    "\n",
    "#                 # print(game_data)\n",
    "\n",
    "#                 # Splitting the file name\n",
    "#                 parts = pkl_file.stem.split('_from_')\n",
    "#                 word = parts[0]  # Extracting the word\n",
    "#                 # Further splitting to extract initial state, difficulty, and outcome\n",
    "#                 remaining = parts[1].split('_')\n",
    "#                 initial_state = '_'.join(remaining[:-2])  # Joining to form the initial state\n",
    "#                 # print(initial_state)\n",
    "#                 difficulty, outcome = remaining[-2], remaining[-1]\n",
    "\n",
    "#                 for state_data in game_data:\n",
    "#                     game_won, guesses = state_data\n",
    "#                     scenario = {\n",
    "#                         'word': word,\n",
    "#                         'initial_state': initial_state,\n",
    "#                         'difficulty': difficulty,\n",
    "#                         'outcome': outcome,\n",
    "#                         'data': (game_won, guesses)\n",
    "#                     }\n",
    "#                     pkl_list.append((pkl_file, scenario))\n",
    "\n",
    "# index_to_access = 1000\n",
    "# if index_to_access < len(pkl_list):\n",
    "#     file_path, scenario = pkl_list[index_to_access]\n",
    "#     print(f\"Contents of {file_path}:\")\n",
    "#     print()\n",
    "#     print_scenarios([scenario])\n",
    "# else:\n",
    "#     print(f\"No pickle file at index {index_to_access}\")\n",
    "\n",
    "\n",
    "# print(list(pkl_list[0]))"
   ]
  },
  {
   "cell_type": "code",
   "execution_count": 16,
   "metadata": {},
   "outputs": [
    {
     "data": {
      "text/plain": [
       "PosixPath('dataset/1000/pkl')"
      ]
     },
     "execution_count": 16,
     "metadata": {},
     "output_type": "execute_result"
    }
   ],
   "source": [
    "pkls_dir"
   ]
  },
  {
   "cell_type": "code",
   "execution_count": 17,
   "metadata": {},
   "outputs": [],
   "source": [
    "from scr.dataset import ProcessedHangmanDataset\n",
    "from sklearn.model_selection import train_test_split\n",
    "\n",
    "# # Load the dataset\n",
    "processed_dataset = ProcessedHangmanDataset(pkls_dir, \\\n",
    "    char_frequency, max_word_length)\n",
    "\n",
    "# Convert PyTorch dataset to a list for train_test_split\n",
    "dataset_list = [processed_dataset[i] for i in range(len(processed_dataset))]\n",
    "\n",
    "# # Perform an 80%-20% train-test split\n",
    "# train_data, test_data = train_test_split(dataset_list, test_size=0.20, random_state=42)"
   ]
  },
  {
   "cell_type": "code",
   "execution_count": 18,
   "metadata": {},
   "outputs": [
    {
     "data": {
      "text/plain": [
       "[]"
      ]
     },
     "execution_count": 18,
     "metadata": {},
     "output_type": "execute_result"
    }
   ],
   "source": [
    "dataset_list"
   ]
  },
  {
   "cell_type": "code",
   "execution_count": 19,
   "metadata": {},
   "outputs": [
    {
     "name": "stdout",
     "output_type": "stream",
     "text": [
      "0\n"
     ]
    }
   ],
   "source": [
    "print(len(processed_dataset))"
   ]
  },
  {
   "cell_type": "code",
   "execution_count": 20,
   "metadata": {},
   "outputs": [
    {
     "ename": "IndexError",
     "evalue": "list index out of range",
     "output_type": "error",
     "traceback": [
      "\u001b[0;31m---------------------------------------------------------------------------\u001b[0m",
      "\u001b[0;31mIndexError\u001b[0m                                Traceback (most recent call last)",
      "\u001b[1;32m/home/sayem/Desktop/Hangman/2_training_notebook.ipynb Cell 26\u001b[0m line \u001b[0;36m1\n\u001b[0;32m----> <a href='vscode-notebook-cell:/home/sayem/Desktop/Hangman/2_training_notebook.ipynb#X34sZmlsZQ%3D%3D?line=0'>1</a>\u001b[0m processed_dataset[\u001b[39m100\u001b[39;49m]\n",
      "File \u001b[0;32m~/Desktop/Hangman/scr/dataset.py:67\u001b[0m, in \u001b[0;36mProcessedHangmanDataset.__getitem__\u001b[0;34m(self, idx)\u001b[0m\n\u001b[1;32m     66\u001b[0m \u001b[39mdef\u001b[39;00m \u001b[39m__getitem__\u001b[39m(\u001b[39mself\u001b[39m, idx):\n\u001b[0;32m---> 67\u001b[0m     game_states, labels, additional_info \u001b[39m=\u001b[39m \u001b[39mself\u001b[39;49m\u001b[39m.\u001b[39;49mdata[idx]\n\u001b[1;32m     68\u001b[0m     \u001b[39mreturn\u001b[39;00m game_states, labels, additional_info\n",
      "\u001b[0;31mIndexError\u001b[0m: list index out of range"
     ]
    }
   ],
   "source": [
    "processed_dataset[100]"
   ]
  },
  {
   "cell_type": "code",
   "execution_count": null,
   "metadata": {},
   "outputs": [
    {
     "data": {
      "text/plain": [
       "(['_en_ood', '_en_ood', '_en_ood', '_en_ood', '_en_ood', '_en_ood', 'ken_ood'],\n",
       " ['a', 'u', 'm', 'h', 's', 'k', 'b'],\n",
       " {'word': 'kenwood',\n",
       "  'initial_state': '_en_oo_',\n",
       "  'difficulty': 'hard',\n",
       "  'outcome': 'win'})"
      ]
     },
     "execution_count": 20,
     "metadata": {},
     "output_type": "execute_result"
    }
   ],
   "source": [
    "processed_dataset[1000]"
   ]
  },
  {
   "cell_type": "code",
   "execution_count": null,
   "metadata": {},
   "outputs": [],
   "source": [
    "%%capture\n",
    "\"\"\"\n",
    "[\n",
    "    ['_ _ _ _', '_ a _ _', 'a p _ _'],  # Game 1\n",
    "    ['_ _ _ _', '_ _ _ l', '_ a _ l'],  # Game 2\n",
    "    # ... more games ...\n",
    "]\n",
    "\n",
    "\"\"\""
   ]
  },
  {
   "cell_type": "code",
   "execution_count": null,
   "metadata": {},
   "outputs": [],
   "source": [
    "from torch.nn.utils.rnn import pad_sequence\n",
    "import torch\n",
    "\n",
    "def custom_collate_fn(batch):\n",
    "    batch_features, batch_missed_chars, batch_labels, batch_lengths = [], [], [], []\n",
    "    max_seq_length = 0  # Variable to track the maximum sequence length in the batch\n",
    "\n",
    "    # First, process each game to find the maximum sequence length\n",
    "    for item in batch:\n",
    "        game_states, labels, _ = item\n",
    "        if not game_states:\n",
    "            continue\n",
    "        max_seq_length = max(max_seq_length, len(game_states))\n",
    "\n",
    "    # Now, process each game again to pad sequences and collect batch data\n",
    "    for item in batch:\n",
    "        game_states, labels, _ = item\n",
    "        if not game_states:\n",
    "            continue\n",
    "\n",
    "        game_features, game_missed_chars = process_game_sequence(\n",
    "            game_states, char_frequency, max_word_length, len(game_states))\n",
    "\n",
    "        # Record the original length of each game state sequence\n",
    "        original_length = len(game_states)\n",
    "        batch_lengths.append(original_length)\n",
    "\n",
    "        # Pad each game's features and missed characters to the maximum sequence length\n",
    "        if original_length < max_seq_length:\n",
    "            padding_length = max_seq_length - original_length\n",
    "\n",
    "            # Create padding tensor for game_features\n",
    "            padding_tensor_features = torch.zeros(padding_length, game_features.shape[1])\n",
    "            game_features_padded = torch.cat([game_features, padding_tensor_features], dim=0)\n",
    "\n",
    "            # Create a separate padding tensor for game_missed_chars\n",
    "            padding_tensor_missed_chars = \\\n",
    "                torch.zeros(padding_length, game_missed_chars.shape[1])\n",
    "            game_missed_chars_padded = \\\n",
    "                torch.cat([game_missed_chars, padding_tensor_missed_chars], dim=0)\n",
    "        else:\n",
    "            game_features_padded = game_features\n",
    "            game_missed_chars_padded = game_missed_chars\n",
    "\n",
    "        batch_features.append(game_features_padded)\n",
    "        batch_missed_chars.append(game_missed_chars_padded)\n",
    "        batch_labels.extend([char_to_idx[label] for label in labels])\n",
    "\n",
    "    # Before stacking, check if the lists are empty\n",
    "    if not batch_features or not batch_missed_chars:\n",
    "        # Handle empty batch here, maybe skip or return None\n",
    "        print(\"Encountered an empty batch\")\n",
    "        return None, None, None, None\n",
    "\n",
    "    # Stack all games to form the batch\n",
    "    batch_features_stacked = torch.stack(batch_features)\n",
    "    batch_missed_chars_stacked = torch.stack(batch_missed_chars)\n",
    "    labels_tensor = torch.tensor(batch_labels, dtype=torch.long)\n",
    "    lengths_tensor = torch.tensor(batch_lengths, dtype=torch.long)\n",
    "\n",
    "    return batch_features_stacked, lengths_tensor, batch_missed_chars_stacked, labels_tensor\n"
   ]
  },
  {
   "cell_type": "code",
   "execution_count": null,
   "metadata": {},
   "outputs": [],
   "source": [
    "from scr.custom_sampler import PerformanceBasedSampler\n",
    "\n",
    "import random\n",
    "from collections import defaultdict  # Add this line\n",
    "from torch.utils.data import Sampler\n",
    "\n",
    "# The rest of your PerformanceBasedSampler class and test function remains the same\n",
    "\n",
    "\n",
    "def test_performance_based_sampler(dataset, performance_metrics, \\\n",
    "    target_win_rate=0.6, max_weight=120):\n",
    "    # Create the sampler\n",
    "    sampler = PerformanceBasedSampler(dataset, performance_metrics, \\\n",
    "        target_win_rate, max_weight)\n",
    "\n",
    "    # Generate indices using the sampler\n",
    "    indices = sampler.generate_indices()\n",
    "\n",
    "    # Analyze the distribution of the sampled data\n",
    "    distribution_analysis = analyze_sampler_distribution(indices, dataset)\n",
    "\n",
    "    # # Print the results for review\n",
    "    # print(\"Sampler Distribution Analysis:\")\n",
    "    # print(distribution_analysis)\n",
    "\n",
    "    return analyze_sampler_distribution(indices, dataset)\n",
    "\n",
    "    # Additional checks can be performed here based on specific requirements\n",
    "    # For example, checking if certain types of words are over/underrepresented\n",
    "\n",
    "def analyze_sampler_distribution(indices, dataset):\n",
    "    # print(f\"Number of indices: {len(indices)}\")  # Debug print\n",
    "    # if indices:\n",
    "    #     print(f\"Sample index: {indices[0]}\")  # Debug print\n",
    "\n",
    "    distribution = {\n",
    "        'word_length': defaultdict(int),\n",
    "        'difficulty': defaultdict(int),\n",
    "        'outcome': defaultdict(int)\n",
    "    }\n",
    "\n",
    "    for idx in indices:\n",
    "        _, _, additional_info = dataset[idx]\n",
    "        word_length = len(additional_info['word'])\n",
    "        difficulty = additional_info['difficulty']\n",
    "        outcome = additional_info['outcome']\n",
    "\n",
    "        distribution['word_length'][word_length] += 1\n",
    "        distribution['difficulty'][difficulty] += 1\n",
    "        distribution['outcome'][outcome] += 1\n",
    "\n",
    "    return distribution\n",
    "\n",
    "# # Call the test function again\n",
    "# test_performance_based_sampler(processed_dataset, \\\n",
    "#     performance_metrics, target_win_rate=0.6, max_weight=120)"
   ]
  },
  {
   "cell_type": "code",
   "execution_count": null,
   "metadata": {},
   "outputs": [],
   "source": [
    "import matplotlib.pyplot as plt\n",
    "from pathlib import Path\n",
    "\n",
    "def plot_sampler_distribution(distribution_analysis, save_path=None, epoch=None):\n",
    "    # Plotting settings\n",
    "    plt.figure(figsize=(15, 5))\n",
    "\n",
    "    # Plot for word length distribution\n",
    "    plt.subplot(1, 3, 1)\n",
    "    plt.bar(distribution_analysis['word_length'].keys(), \\\n",
    "        distribution_analysis['word_length'].values(), color='blue')\n",
    "    plt.title(\"Word Length Distribution\")\n",
    "    plt.xlabel(\"Word Length\")\n",
    "    plt.ylabel(\"Frequency\")\n",
    "\n",
    "    # Plot for difficulty distribution\n",
    "    plt.subplot(1, 3, 2)\n",
    "    plt.bar(distribution_analysis['difficulty'].keys(), \\\n",
    "        distribution_analysis['difficulty'].values(), color='green')\n",
    "    plt.title(\"Difficulty Distribution\")\n",
    "    plt.xlabel(\"Difficulty\")\n",
    "    plt.ylabel(\"Frequency\")\n",
    "\n",
    "    # Plot for outcome distribution\n",
    "    plt.subplot(1, 3, 3)\n",
    "    plt.bar(distribution_analysis['outcome'].keys(), \\\n",
    "        distribution_analysis['outcome'].values(), color='red')\n",
    "    plt.title(\"Outcome Distribution\")\n",
    "    plt.xlabel(\"Outcome\")\n",
    "    plt.ylabel(\"Frequency\")\n",
    "\n",
    "    plt.tight_layout()\n",
    "\n",
    "    # Determine the path for saving the plot using pathlib\n",
    "    if save_path is None:\n",
    "        directory = Path('plots/sampler_dist')\n",
    "        directory.mkdir(parents=True, exist_ok=True)\n",
    "        file_name = f\"epoch_{epoch}.png\" if epoch is not None else \"untrain_model_stats.png\"\n",
    "        save_path = directory / file_name\n",
    "\n",
    "    plt.savefig(save_path)\n",
    "    plt.close()\n",
    "\n",
    "# Example usage\n",
    "# plot_sampler_distribution(your_distribution_data, save_path=None, epoch=1)  # Save for a specific epoch\n",
    "# plot_sampler_distribution(your_distribution_data, save_path=None)  # Save for untrained model\n",
    "\n",
    "\n",
    "# Example usage\n",
    "# plot_sampler_distribution(your_distribution_data, save_path=None, epoch=1)  # Save for a specific epoch\n",
    "# plot_sampler_distribution(your_distribution_data, save_path=None)  # Save for untrained model\n",
    "\n",
    "\n",
    "# # # Use this function to plot the distribution analysis\n",
    "# distribution_analysis = test_performance_based_sampler(processed_dataset, \\\n",
    "#     performance_metrics, target_win_rate=0.6, max_weight=120)\n",
    "# plot_sampler_distribution(distribution_analysis)\n"
   ]
  },
  {
   "cell_type": "code",
   "execution_count": null,
   "metadata": {},
   "outputs": [],
   "source": [
    "import torch.nn.functional as F\n",
    "\n",
    "def pad_and_reshape_labels(labels, model_output_shape):\n",
    "    batch_size, sequence_length, num_classes = model_output_shape\n",
    "\n",
    "    # Calculate the total number of elements needed\n",
    "    total_elements = batch_size * sequence_length\n",
    "\n",
    "    # Pad the labels to the correct total length\n",
    "    padded_labels = F.pad(input=labels, pad=(0, total_elements - labels.numel()), value=0)\n",
    "\n",
    "    # Reshape the labels to match the batch and sequence length\n",
    "    reshaped_labels = padded_labels.view(batch_size, sequence_length)\n",
    "\n",
    "    # Convert to one-hot encoding\n",
    "    one_hot_labels = F.one_hot(reshaped_labels, num_classes=num_classes).float()\n",
    "\n",
    "    return one_hot_labels"
   ]
  },
  {
   "cell_type": "code",
   "execution_count": null,
   "metadata": {},
   "outputs": [],
   "source": [
    "from torch.utils.data import DataLoader\n",
    "from scr.custom_sampler import PerformanceBasedSampler\n",
    "\n",
    "# Initialize your custom sampler with the dataset and performance metrics\n",
    "sampler = PerformanceBasedSampler(processed_dataset, performance_metrics)\n",
    "\n",
    "# Set batch size\n",
    "batch_size = 64\n",
    "\n",
    "# Initialize DataLoader with the custom sampler, instead of shuffle\n",
    "# data_loader = DataLoader(processed_dataset, \\\n",
    "#     batch_size=batch_size, sampler=sampler, collate_fn=custom_collate_fn)\n",
    "\n",
    "data_loader = DataLoader(processed_dataset, \\\n",
    "    batch_size=batch_size, collate_fn=custom_collate_fn)\n",
    "\n",
    "i = 0\n",
    "# Iterate over the DataLoader\n",
    "for i, batch in enumerate(data_loader):\n",
    "    if batch[0] is None:\n",
    "        print(\"Encountered an empty batch\")\n",
    "        continue  # Skip empty batches\n",
    "\n",
    "    game_states_batch, lengths_batch, missed_chars_batch, labels_batch = batch\n",
    "    \n",
    "    print(\"Game States Batch Shape:\", game_states_batch.shape)\n",
    "    print(\"Lengths Batch Shape:\", lengths_batch.shape)\n",
    "    print(\"Missed Chars Batch Shape:\", missed_chars_batch.shape)\n",
    "    print(\"Labels Batch Shape:\", labels_batch.shape)\n",
    "\n",
    "    # # Assuming 'model' is your trained model\n",
    "    out = model(game_states_batch, lengths_batch, missed_chars_batch)\n",
    "    # Usage example\n",
    "    model_output_shape = out.shape  # Assuming 'out' is the model output with shape [32, 9, 27]\n",
    "    reshaped_labels = pad_and_reshape_labels(labels_batch, model_output_shape)\n",
    "    print(\"Model Output Shape:\", model_output_shape)\n",
    "    print(\"reshape_labels shape: \", reshaped_labels.shape)\n",
    "\n",
    "    loss, miss_penalty = model.calculate_loss(out, reshaped_labels, lengths_batch, missed_chars_batch, \\\n",
    "        27)\n",
    "\n",
    "    # print(loss)\n",
    "\n",
    "    # # # print(i)\n",
    "    # break\n"
   ]
  },
  {
   "cell_type": "code",
   "execution_count": null,
   "metadata": {},
   "outputs": [],
   "source": [
    "STOP"
   ]
  },
  {
   "cell_type": "markdown",
   "metadata": {},
   "source": [
    "##### Training Pipeline"
   ]
  },
  {
   "cell_type": "code",
   "execution_count": null,
   "metadata": {},
   "outputs": [],
   "source": [
    "from torch.nn.utils.rnn import pad_sequence\n",
    "import torch\n",
    "from torch.utils.data import DataLoader\n",
    "\n",
    "\n",
    "def train_on_data_loader(model, data_loader, device, optimizer):\n",
    "    model.train()  # Set the model to training mode\n",
    "    model.to(device)\n",
    "    total_loss = 0\n",
    "    total_miss_penalty = 0\n",
    "    total_batches = 0\n",
    "\n",
    "    for batch in data_loader:\n",
    "        if batch[0] is None:\n",
    "            print(\"Encountered an empty batch\")\n",
    "            continue  # Skip empty batches\n",
    "\n",
    "        game_states_batch, lengths_batch, missed_chars_batch, labels_batch = batch\n",
    "        game_states_batch, lengths_batch, missed_chars_batch \\\n",
    "            = game_states_batch.to(device), \\\n",
    "            lengths_batch, missed_chars_batch.to(device)\n",
    "\n",
    "        # Assuming 'model' is your trained model\n",
    "        outputs = model(game_states_batch, lengths_batch, missed_chars_batch)\n",
    "\n",
    "        # Reshape labels to match model output\n",
    "        reshaped_labels = pad_and_reshape_labels(labels_batch, outputs.shape)\n",
    "        reshaped_labels = reshaped_labels.to(device)\n",
    "\n",
    "        # Compute loss and miss penalty\n",
    "        loss, miss_penalty = model.calculate_loss(outputs, reshaped_labels, \\\n",
    "            lengths_batch, missed_chars_batch, 27)\n",
    "\n",
    "        # Backpropagation\n",
    "        optimizer.zero_grad()\n",
    "        loss.backward()\n",
    "        optimizer.step()\n",
    "\n",
    "        total_loss += loss.item()\n",
    "        total_miss_penalty += miss_penalty.item()\n",
    "        total_batches += 1\n",
    "\n",
    "    average_loss = total_loss / total_batches if total_batches > 0 else 0\n",
    "    average_miss_penalty = total_miss_penalty / total_batches if total_batches > 0 else 0\n",
    "    return average_loss, average_miss_penalty\n"
   ]
  },
  {
   "cell_type": "code",
   "execution_count": null,
   "metadata": {},
   "outputs": [],
   "source": [
    "from scr.feature_engineering import idx_to_char, char_to_idx\n",
    "\n",
    "def validate_hangman(model, data_loader, device):\n",
    "    model.eval()\n",
    "    total_loss = 0\n",
    "    total_miss_penalty = 0\n",
    "    correct_char_predictions = 0\n",
    "    correct_word_predictions = 0\n",
    "    total_char_predictions = 0\n",
    "    total_words = 0\n",
    "\n",
    "    with torch.no_grad():\n",
    "        for batch in data_loader:\n",
    "            batch_features_tensor, batch_missed_chars_tensor, \\\n",
    "                batch_labels_tensor, batch_full_words = batch\n",
    "\n",
    "            # game_states_batch, guessed_chars_batch, labels_batch = \\\n",
    "            #     game_states_batch.to(device), guessed_chars_batch.to(device), labels_batch.to(device)\n",
    "\n",
    "            batch_size = 1\n",
    "            max_seq_length = 1\n",
    "\n",
    "            sequence_lengths = torch.tensor([max_seq_length]\n",
    "                                            * batch_size, dtype=torch.long).cpu()\n",
    "\n",
    "            # Model's inference for character prediction\n",
    "            output = model(batch_features_tensor, sequence_lengths, batch_missed_chars_tensor)\n",
    "\n",
    "            # Calculate loss and miss penalty - assuming model has a method for this\n",
    "            loss, miss_penalty = model.calculate_loss(output, labels_batch, guessed_chars_batch)\n",
    "            total_loss += loss.item()\n",
    "            total_miss_penalty += miss_penalty.item()\n",
    "\n",
    "            for idx, (sequence_length, full_word) in enumerate(zip(guessed_chars_batch, full_words)):\n",
    "                last_char_position = sequence_length.item() - 1\n",
    "                probabilities = torch.softmax(output[idx, last_char_position, :], dim=-1)\n",
    "                \n",
    "                # Exclude already guessed characters\n",
    "                guessed_indices = [char_to_idx[char] for char in guessed_chars_batch[idx] if char in char_to_idx]\n",
    "                probabilities[torch.tensor(guessed_indices, dtype=torch.long, device=device)] = 0\n",
    "\n",
    "                # Predict the best character\n",
    "                best_char_index = torch.argmax(probabilities).item()\n",
    "                guessed_char = idx_to_char[best_char_index]\n",
    "\n",
    "                # Update character-level accuracy\n",
    "                correct_char_predictions += int(guessed_char == full_word[last_char_position])\n",
    "                total_char_predictions += 1\n",
    "\n",
    "                # Update word-level accuracy\n",
    "                predicted_word = ''.join([idx_to_char[char_idx] for char_idx in output[idx].argmax(dim=-1)])\n",
    "                correct_word_predictions += int(predicted_word == full_word)\n",
    "\n",
    "            total_words += len(full_words)\n",
    "\n",
    "    avg_loss = total_loss / len(data_loader)\n",
    "    avg_miss_penalty = total_miss_penalty / len(data_loader)\n",
    "    char_accuracy = correct_char_predictions / total_char_predictions\n",
    "    word_accuracy = correct_word_predictions / total_words\n",
    "\n",
    "    return avg_loss, avg_miss_penalty, char_accuracy, word_accuracy"
   ]
  },
  {
   "cell_type": "code",
   "execution_count": null,
   "metadata": {},
   "outputs": [],
   "source": [
    "from collections import defaultdict\n",
    "\n",
    "def validate_model(model, val_words, char_frequency, \\\n",
    "    max_word_length, device, max_attempts=6, normalize=True, \\\n",
    "        number_of_games=1000):\n",
    "    total_wins, total_attempts, total_games = 0, 0, 0\n",
    "    word_stats = {}\n",
    "    word_length_stats = defaultdict(lambda: {\"wins\": 0, \\\n",
    "        \"losses\": 0, \"total_attempts\": 0, \"games\": 0})\n",
    "\n",
    "    for word in val_words:\n",
    "        if total_games >= number_of_games:\n",
    "            break\n",
    "\n",
    "        word_length = len(word)\n",
    "        masked_word = \"_\" * word_length\n",
    "        won, final_word, attempts = play_game_with_a_word(model, word, \\\n",
    "            char_frequency, max_word_length, device, max_attempts, normalize)\n",
    "\n",
    "        # Update word-specific stats\n",
    "        word_stats[word] = {\n",
    "            \"won\": won,\n",
    "            \"final_word\": final_word,\n",
    "            \"attempts_used\": attempts\n",
    "        }\n",
    "\n",
    "        # Update word length-specific stats\n",
    "        word_length_stats[word_length][\"games\"] += 1\n",
    "        word_length_stats[word_length][\"total_attempts\"] += attempts\n",
    "        if won:\n",
    "            word_length_stats[word_length][\"wins\"] += 1\n",
    "        else:\n",
    "            word_length_stats[word_length][\"losses\"] += 1\n",
    "\n",
    "        # Update overall stats\n",
    "        total_wins += int(won)\n",
    "        total_attempts += attempts\n",
    "        total_games += 1\n",
    "\n",
    "    win_rate = total_wins / total_games if total_games > 0 else 0\n",
    "    avg_attempts = total_attempts / total_games if total_games > 0 else 0\n",
    "\n",
    "    # Calculating detailed statistics for each word length\n",
    "    for length, stats in word_length_stats.items():\n",
    "        stats[\"win_rate\"] = stats[\"wins\"] / stats[\"games\"]\n",
    "        stats[\"avg_attempts\"] = stats[\"total_attempts\"] / stats[\"games\"]\n",
    "\n",
    "    return {\n",
    "        \"win_rate\": win_rate,\n",
    "        \"average_attempts\": avg_attempts,\n",
    "        \"total_games\": total_games,\n",
    "        \"total_wins\": total_wins,\n",
    "        \"total_losses\": total_games - total_wins,\n",
    "        \"word_stats\": word_stats,\n",
    "        \"word_length_stats\": dict(word_length_stats)  # Convert defaultdict to dict for readability\n",
    "    }\n",
    "\n",
    "from collections import defaultdict\n",
    "\n",
    "def calculate_character_metrics(final_word, original_word):\n",
    "    true_positives, false_positives, false_negatives = defaultdict(int), \\\n",
    "        defaultdict(int), defaultdict(int)\n",
    "\n",
    "    for char in set(original_word):\n",
    "        if char in final_word:  # If the char is in the guessed word\n",
    "            if char in original_word:  # If the char is also in the original word\n",
    "                true_positives[char] += 1\n",
    "            else:\n",
    "                false_positives[char] += 1\n",
    "        else:\n",
    "            if char in original_word:  # If the char is in the original word but not in the guess\n",
    "                false_negatives[char] += 1\n",
    "\n",
    "    return true_positives, false_positives, false_negatives"
   ]
  },
  {
   "cell_type": "markdown",
   "metadata": {},
   "source": [
    "##### Performence testing of Untrain Model"
   ]
  },
  {
   "cell_type": "code",
   "execution_count": null,
   "metadata": {},
   "outputs": [],
   "source": [
    "import matplotlib.pyplot as plt\n",
    "from pathlib import Path\n",
    "from scr.plot_utils import plot_word_stats\n",
    "\n",
    "validation_on_dataset = validate_model(model, val_words, \\\n",
    "    char_frequency, max_word_length, device, max_attempts=6, \\\n",
    "        normalize=True, number_of_games=1000)\n",
    "\n",
    "# Example usage\n",
    "# epoch_number = 1\n",
    "save_path = 'plots/untrain_model_stats.png'  # Example custom path\n",
    "plot_word_stats(validation_on_dataset['word_length_stats'], save_path)"
   ]
  },
  {
   "cell_type": "markdown",
   "metadata": {},
   "source": [
    "##### Train"
   ]
  },
  {
   "cell_type": "code",
   "execution_count": null,
   "metadata": {},
   "outputs": [],
   "source": [
    "def update_performance_metrics(metrics, validation_results):\n",
    "    \"\"\"\n",
    "    Update the initial performance metrics based on the results of the validation.\n",
    "\n",
    "    Args:\n",
    "    - metrics (dict): The current performance metrics.\n",
    "    - validation_results (dict): The results from the validation phase.\n",
    "\n",
    "    Returns:\n",
    "    - None: The function updates the metrics in place.\n",
    "    \"\"\"\n",
    "    for word_length, stats in validation_results.get('word_length_stats', {}).items():\n",
    "        win_rate = stats.get(\"win_rate\", 0)\n",
    "        avg_attempts = stats.get(\"avg_attempts\", 0)\n",
    "\n",
    "        # Ensure the word length entry exists\n",
    "        if word_length not in metrics:\n",
    "            metrics[word_length] = {\"easy\": {}, \"medium\": {}, \"hard\": {}}\n",
    "\n",
    "        for difficulty in [\"easy\", \"medium\", \"hard\"]:\n",
    "            # Update or initialize metrics for each difficulty level\n",
    "            metrics[word_length][difficulty]['win'] = {\"win_rate\": win_rate, \"max_attempts\": avg_attempts}\n",
    "            metrics[word_length][difficulty]['lose'] = {\"win_rate\": 1 - win_rate, \"max_attempts\": avg_attempts + 1}\n"
   ]
  },
  {
   "cell_type": "code",
   "execution_count": null,
   "metadata": {},
   "outputs": [],
   "source": [
    "from scr.simple_model import SimpleLSTM\n",
    "from scr.base_model import BaseModel\n",
    "\n",
    "# Instantiate and test the model\n",
    "config = {\n",
    "    'embedding_dim': 200,\n",
    "    'hidden_dim': 256,\n",
    "    'num_layers': 2,\n",
    "    'vocab_size': 27,\n",
    "    'max_word_length': max_word_length,\n",
    "    'input_feature_size': 5,\n",
    "    'use_embedding': True,\n",
    "    'miss_linear_dim': 50,\n",
    "    'lr': 0.0001\n",
    "}\n",
    "\n",
    "model = SimpleLSTM(config)\n",
    "# x_lens = torch.tensor([max_seq_length] * batch_size, dtype=torch.long)\n",
    "# output = model(batch_features, x_lens, batch_missed_characters)\n",
    "# with torch.no_grad():\n",
    "#     output = model(batch_features, x_lens, batch_missed_characters)\n",
    "#     print(\"Output shape:\", output.shape)\n",
    "\n",
    "# Assuming 'model' is your trained model instance\n",
    "model.save_model(file_path='models/model.pth')"
   ]
  },
  {
   "cell_type": "code",
   "execution_count": null,
   "metadata": {},
   "outputs": [
    {
     "name": "stdout",
     "output_type": "stream",
     "text": [
      "{4: {'easy': {'win': {'win_rate': 0.636346420154477, 'max_attempts': 8}, 'lose': {'win_rate': 0.36365357984552305, 'max_attempts': 9}}, 'medium': {'win': {'win_rate': 0.6653949260720473, 'max_attempts': 10}, 'lose': {'win_rate': 0.3346050739279527, 'max_attempts': 11}}, 'hard': {'win': {'win_rate': 0.6623314774505196, 'max_attempts': 7}, 'lose': {'win_rate': 0.33766852254948043, 'max_attempts': 8}}}, 5: {'easy': {'win': {'win_rate': 0.5286305149608064, 'max_attempts': 10}, 'lose': {'win_rate': 0.4713694850391936, 'max_attempts': 11}}, 'medium': {'win': {'win_rate': 0.6069551925106758, 'max_attempts': 5}, 'lose': {'win_rate': 0.39304480748932424, 'max_attempts': 6}}, 'hard': {'win': {'win_rate': 0.6668464773909362, 'max_attempts': 5}, 'lose': {'win_rate': 0.33315352260906383, 'max_attempts': 6}}}, 6: {'easy': {'win': {'win_rate': 0.4793910104401178, 'max_attempts': 5}, 'lose': {'win_rate': 0.5206089895598822, 'max_attempts': 6}}, 'medium': {'win': {'win_rate': 0.5735922430947795, 'max_attempts': 5}, 'lose': {'win_rate': 0.4264077569052205, 'max_attempts': 6}}, 'hard': {'win': {'win_rate': 0.6250574168962706, 'max_attempts': 10}, 'lose': {'win_rate': 0.3749425831037294, 'max_attempts': 11}}}}\n"
     ]
    }
   ],
   "source": [
    "import random\n",
    "\n",
    "def generate_initial_performance_metrics(word_lengths, \\\n",
    "    difficulties, win_rate_range, max_attempts_range):\n",
    "    metrics = {}\n",
    "    for length in word_lengths:\n",
    "        metrics[length] = {}\n",
    "        for difficulty in difficulties:\n",
    "            win_rate = random.uniform(*win_rate_range)\n",
    "            max_attempts = random.randint(*max_attempts_range)\n",
    "            metrics[length][difficulty] = {\n",
    "                \"win\": {\"win_rate\": win_rate, \"max_attempts\": max_attempts},\n",
    "                \"lose\": {\"win_rate\": 1 - win_rate, \"max_attempts\": max_attempts + 1}  \n",
    "                # Slightly higher max_attempts for 'lose' scenario\n",
    "            }\n",
    "    return metrics\n",
    "\n",
    "# Example usage\n",
    "word_lengths = [4, 5, 6]  # Example word lengths\n",
    "difficulties = [\"easy\", \"medium\", \"hard\"]  # Difficulty categories\n",
    "win_rate_range = (0.4, 0.7)  # Range for random win rates\n",
    "max_attempts_range = (5, 10)  # Range for random max attempts\n",
    "\n",
    "initial_performance_metrics = \\\n",
    "    generate_initial_performance_metrics(word_lengths, \\\n",
    "        difficulties, win_rate_range, max_attempts_range)\n",
    "\n",
    "print(initial_performance_metrics)"
   ]
  },
  {
   "cell_type": "code",
   "execution_count": null,
   "metadata": {},
   "outputs": [],
   "source": [
    "distribution_analysis = test_performance_based_sampler(processed_dataset, \\\n",
    "    performance_metrics=initial_performance_metrics, target_win_rate=0.6, max_weight=120)\n",
    "plot_sampler_distribution(distribution_analysis)"
   ]
  },
  {
   "cell_type": "code",
   "execution_count": null,
   "metadata": {},
   "outputs": [
    {
     "name": "stderr",
     "output_type": "stream",
     "text": [
      "Epochs:   5%|▌         | 1/20 [00:13<04:24, 13.92s/it]"
     ]
    },
    {
     "name": "stdout",
     "output_type": "stream",
     "text": [
      "{4: {'easy': {'win': {'win_rate': 0.13333333333333333, 'max_attempts': 5.833333333333333}, 'lose': {'win_rate': 0.8666666666666667, 'max_attempts': 6.833333333333333}}, 'medium': {'win': {'win_rate': 0.13333333333333333, 'max_attempts': 5.833333333333333}, 'lose': {'win_rate': 0.8666666666666667, 'max_attempts': 6.833333333333333}}, 'hard': {'win': {'win_rate': 0.13333333333333333, 'max_attempts': 5.833333333333333}, 'lose': {'win_rate': 0.8666666666666667, 'max_attempts': 6.833333333333333}}}, 5: {'easy': {'win': {'win_rate': 0.03636363636363636, 'max_attempts': 5.890909090909091}, 'lose': {'win_rate': 0.9636363636363636, 'max_attempts': 6.890909090909091}}, 'medium': {'win': {'win_rate': 0.03636363636363636, 'max_attempts': 5.890909090909091}, 'lose': {'win_rate': 0.9636363636363636, 'max_attempts': 6.890909090909091}}, 'hard': {'win': {'win_rate': 0.03636363636363636, 'max_attempts': 5.890909090909091}, 'lose': {'win_rate': 0.9636363636363636, 'max_attempts': 6.890909090909091}}}, 6: {'easy': {'win': {'win_rate': 0.0547945205479452, 'max_attempts': 5.890410958904109}, 'lose': {'win_rate': 0.9452054794520548, 'max_attempts': 6.890410958904109}}, 'medium': {'win': {'win_rate': 0.0547945205479452, 'max_attempts': 5.890410958904109}, 'lose': {'win_rate': 0.9452054794520548, 'max_attempts': 6.890410958904109}}, 'hard': {'win': {'win_rate': 0.0547945205479452, 'max_attempts': 5.890410958904109}, 'lose': {'win_rate': 0.9452054794520548, 'max_attempts': 6.890410958904109}}}, 15: {'easy': {'win': {'win_rate': 0.22727272727272727, 'max_attempts': 5.7272727272727275}, 'lose': {'win_rate': 0.7727272727272727, 'max_attempts': 6.7272727272727275}}, 'medium': {'win': {'win_rate': 0.22727272727272727, 'max_attempts': 5.7272727272727275}, 'lose': {'win_rate': 0.7727272727272727, 'max_attempts': 6.7272727272727275}}, 'hard': {'win': {'win_rate': 0.22727272727272727, 'max_attempts': 5.7272727272727275}, 'lose': {'win_rate': 0.7727272727272727, 'max_attempts': 6.7272727272727275}}}, 13: {'easy': {'win': {'win_rate': 0.23943661971830985, 'max_attempts': 5.633802816901408}, 'lose': {'win_rate': 0.7605633802816901, 'max_attempts': 6.633802816901408}}, 'medium': {'win': {'win_rate': 0.23943661971830985, 'max_attempts': 5.633802816901408}, 'lose': {'win_rate': 0.7605633802816901, 'max_attempts': 6.633802816901408}}, 'hard': {'win': {'win_rate': 0.23943661971830985, 'max_attempts': 5.633802816901408}, 'lose': {'win_rate': 0.7605633802816901, 'max_attempts': 6.633802816901408}}}, 11: {'easy': {'win': {'win_rate': 0.1836734693877551, 'max_attempts': 5.642857142857143}, 'lose': {'win_rate': 0.8163265306122449, 'max_attempts': 6.642857142857143}}, 'medium': {'win': {'win_rate': 0.1836734693877551, 'max_attempts': 5.642857142857143}, 'lose': {'win_rate': 0.8163265306122449, 'max_attempts': 6.642857142857143}}, 'hard': {'win': {'win_rate': 0.1836734693877551, 'max_attempts': 5.642857142857143}, 'lose': {'win_rate': 0.8163265306122449, 'max_attempts': 6.642857142857143}}}, 9: {'easy': {'win': {'win_rate': 0.15602836879432624, 'max_attempts': 5.666666666666667}, 'lose': {'win_rate': 0.8439716312056738, 'max_attempts': 6.666666666666667}}, 'medium': {'win': {'win_rate': 0.15602836879432624, 'max_attempts': 5.666666666666667}, 'lose': {'win_rate': 0.8439716312056738, 'max_attempts': 6.666666666666667}}, 'hard': {'win': {'win_rate': 0.15602836879432624, 'max_attempts': 5.666666666666667}, 'lose': {'win_rate': 0.8439716312056738, 'max_attempts': 6.666666666666667}}}, 12: {'easy': {'win': {'win_rate': 0.16, 'max_attempts': 5.653333333333333}, 'lose': {'win_rate': 0.84, 'max_attempts': 6.653333333333333}}, 'medium': {'win': {'win_rate': 0.16, 'max_attempts': 5.653333333333333}, 'lose': {'win_rate': 0.84, 'max_attempts': 6.653333333333333}}, 'hard': {'win': {'win_rate': 0.16, 'max_attempts': 5.653333333333333}, 'lose': {'win_rate': 0.84, 'max_attempts': 6.653333333333333}}}, 18: {'easy': {'win': {'win_rate': 0.25, 'max_attempts': 5.75}, 'lose': {'win_rate': 0.75, 'max_attempts': 6.75}}, 'medium': {'win': {'win_rate': 0.25, 'max_attempts': 5.75}, 'lose': {'win_rate': 0.75, 'max_attempts': 6.75}}, 'hard': {'win': {'win_rate': 0.25, 'max_attempts': 5.75}, 'lose': {'win_rate': 0.75, 'max_attempts': 6.75}}}, 8: {'easy': {'win': {'win_rate': 0.09523809523809523, 'max_attempts': 5.836734693877551}, 'lose': {'win_rate': 0.9047619047619048, 'max_attempts': 6.836734693877551}}, 'medium': {'win': {'win_rate': 0.09523809523809523, 'max_attempts': 5.836734693877551}, 'lose': {'win_rate': 0.9047619047619048, 'max_attempts': 6.836734693877551}}, 'hard': {'win': {'win_rate': 0.09523809523809523, 'max_attempts': 5.836734693877551}, 'lose': {'win_rate': 0.9047619047619048, 'max_attempts': 6.836734693877551}}}, 14: {'easy': {'win': {'win_rate': 0.19047619047619047, 'max_attempts': 5.5476190476190474}, 'lose': {'win_rate': 0.8095238095238095, 'max_attempts': 6.5476190476190474}}, 'medium': {'win': {'win_rate': 0.19047619047619047, 'max_attempts': 5.5476190476190474}, 'lose': {'win_rate': 0.8095238095238095, 'max_attempts': 6.5476190476190474}}, 'hard': {'win': {'win_rate': 0.19047619047619047, 'max_attempts': 5.5476190476190474}, 'lose': {'win_rate': 0.8095238095238095, 'max_attempts': 6.5476190476190474}}}, 10: {'easy': {'win': {'win_rate': 0.12727272727272726, 'max_attempts': 5.781818181818182}, 'lose': {'win_rate': 0.8727272727272728, 'max_attempts': 6.781818181818182}}, 'medium': {'win': {'win_rate': 0.12727272727272726, 'max_attempts': 5.781818181818182}, 'lose': {'win_rate': 0.8727272727272728, 'max_attempts': 6.781818181818182}}, 'hard': {'win': {'win_rate': 0.12727272727272726, 'max_attempts': 5.781818181818182}, 'lose': {'win_rate': 0.8727272727272728, 'max_attempts': 6.781818181818182}}}, 7: {'easy': {'win': {'win_rate': 0.09, 'max_attempts': 5.79}, 'lose': {'win_rate': 0.91, 'max_attempts': 6.79}}, 'medium': {'win': {'win_rate': 0.09, 'max_attempts': 5.79}, 'lose': {'win_rate': 0.91, 'max_attempts': 6.79}}, 'hard': {'win': {'win_rate': 0.09, 'max_attempts': 5.79}, 'lose': {'win_rate': 0.91, 'max_attempts': 6.79}}}, 19: {'easy': {'win': {'win_rate': 0.0, 'max_attempts': 6.0}, 'lose': {'win_rate': 1.0, 'max_attempts': 7.0}}, 'medium': {'win': {'win_rate': 0.0, 'max_attempts': 6.0}, 'lose': {'win_rate': 1.0, 'max_attempts': 7.0}}, 'hard': {'win': {'win_rate': 0.0, 'max_attempts': 6.0}, 'lose': {'win_rate': 1.0, 'max_attempts': 7.0}}}, 16: {'easy': {'win': {'win_rate': 0.3333333333333333, 'max_attempts': 5.333333333333333}, 'lose': {'win_rate': 0.6666666666666667, 'max_attempts': 6.333333333333333}}, 'medium': {'win': {'win_rate': 0.3333333333333333, 'max_attempts': 5.333333333333333}, 'lose': {'win_rate': 0.6666666666666667, 'max_attempts': 6.333333333333333}}, 'hard': {'win': {'win_rate': 0.3333333333333333, 'max_attempts': 5.333333333333333}, 'lose': {'win_rate': 0.6666666666666667, 'max_attempts': 6.333333333333333}}}, 24: {'easy': {'win': {'win_rate': 0.0, 'max_attempts': 6.0}, 'lose': {'win_rate': 1.0, 'max_attempts': 7.0}}, 'medium': {'win': {'win_rate': 0.0, 'max_attempts': 6.0}, 'lose': {'win_rate': 1.0, 'max_attempts': 7.0}}, 'hard': {'win': {'win_rate': 0.0, 'max_attempts': 6.0}, 'lose': {'win_rate': 1.0, 'max_attempts': 7.0}}}, 17: {'easy': {'win': {'win_rate': 0.2, 'max_attempts': 5.6}, 'lose': {'win_rate': 0.8, 'max_attempts': 6.6}}, 'medium': {'win': {'win_rate': 0.2, 'max_attempts': 5.6}, 'lose': {'win_rate': 0.8, 'max_attempts': 6.6}}, 'hard': {'win': {'win_rate': 0.2, 'max_attempts': 5.6}, 'lose': {'win_rate': 0.8, 'max_attempts': 6.6}}}, 1: {'easy': {'win': {'win_rate': 0.0, 'max_attempts': 6.0}, 'lose': {'win_rate': 1.0, 'max_attempts': 7.0}}, 'medium': {'win': {'win_rate': 0.0, 'max_attempts': 6.0}, 'lose': {'win_rate': 1.0, 'max_attempts': 7.0}}, 'hard': {'win': {'win_rate': 0.0, 'max_attempts': 6.0}, 'lose': {'win_rate': 1.0, 'max_attempts': 7.0}}}, 3: {'easy': {'win': {'win_rate': 0.16666666666666666, 'max_attempts': 5.833333333333333}, 'lose': {'win_rate': 0.8333333333333334, 'max_attempts': 6.833333333333333}}, 'medium': {'win': {'win_rate': 0.16666666666666666, 'max_attempts': 5.833333333333333}, 'lose': {'win_rate': 0.8333333333333334, 'max_attempts': 6.833333333333333}}, 'hard': {'win': {'win_rate': 0.16666666666666666, 'max_attempts': 5.833333333333333}, 'lose': {'win_rate': 0.8333333333333334, 'max_attempts': 6.833333333333333}}}, 20: {'easy': {'win': {'win_rate': 0.0, 'max_attempts': 6.0}, 'lose': {'win_rate': 1.0, 'max_attempts': 7.0}}, 'medium': {'win': {'win_rate': 0.0, 'max_attempts': 6.0}, 'lose': {'win_rate': 1.0, 'max_attempts': 7.0}}, 'hard': {'win': {'win_rate': 0.0, 'max_attempts': 6.0}, 'lose': {'win_rate': 1.0, 'max_attempts': 7.0}}}, 2: {'easy': {'win': {'win_rate': 0.0, 'max_attempts': 6.0}, 'lose': {'win_rate': 1.0, 'max_attempts': 7.0}}, 'medium': {'win': {'win_rate': 0.0, 'max_attempts': 6.0}, 'lose': {'win_rate': 1.0, 'max_attempts': 7.0}}, 'hard': {'win': {'win_rate': 0.0, 'max_attempts': 6.0}, 'lose': {'win_rate': 1.0, 'max_attempts': 7.0}}}}\n",
      "Epoch 1: Training - Avg Loss: 0.0505321335978806, Avg Miss Penalty: 0.12756598070263864\n",
      "Epoch 1: Validation - Win Rate: 0.137\n"
     ]
    },
    {
     "name": "stderr",
     "output_type": "stream",
     "text": [
      "Epochs:  10%|█         | 2/20 [00:27<04:10, 13.92s/it]"
     ]
    },
    {
     "name": "stdout",
     "output_type": "stream",
     "text": [
      "{4: {'easy': {'win': {'win_rate': 0.13333333333333333, 'max_attempts': 5.833333333333333}, 'lose': {'win_rate': 0.8666666666666667, 'max_attempts': 6.833333333333333}}, 'medium': {'win': {'win_rate': 0.13333333333333333, 'max_attempts': 5.833333333333333}, 'lose': {'win_rate': 0.8666666666666667, 'max_attempts': 6.833333333333333}}, 'hard': {'win': {'win_rate': 0.13333333333333333, 'max_attempts': 5.833333333333333}, 'lose': {'win_rate': 0.8666666666666667, 'max_attempts': 6.833333333333333}}}, 5: {'easy': {'win': {'win_rate': 0.03636363636363636, 'max_attempts': 5.890909090909091}, 'lose': {'win_rate': 0.9636363636363636, 'max_attempts': 6.890909090909091}}, 'medium': {'win': {'win_rate': 0.03636363636363636, 'max_attempts': 5.890909090909091}, 'lose': {'win_rate': 0.9636363636363636, 'max_attempts': 6.890909090909091}}, 'hard': {'win': {'win_rate': 0.03636363636363636, 'max_attempts': 5.890909090909091}, 'lose': {'win_rate': 0.9636363636363636, 'max_attempts': 6.890909090909091}}}, 6: {'easy': {'win': {'win_rate': 0.0547945205479452, 'max_attempts': 5.890410958904109}, 'lose': {'win_rate': 0.9452054794520548, 'max_attempts': 6.890410958904109}}, 'medium': {'win': {'win_rate': 0.0547945205479452, 'max_attempts': 5.890410958904109}, 'lose': {'win_rate': 0.9452054794520548, 'max_attempts': 6.890410958904109}}, 'hard': {'win': {'win_rate': 0.0547945205479452, 'max_attempts': 5.890410958904109}, 'lose': {'win_rate': 0.9452054794520548, 'max_attempts': 6.890410958904109}}}, 15: {'easy': {'win': {'win_rate': 0.22727272727272727, 'max_attempts': 5.7272727272727275}, 'lose': {'win_rate': 0.7727272727272727, 'max_attempts': 6.7272727272727275}}, 'medium': {'win': {'win_rate': 0.22727272727272727, 'max_attempts': 5.7272727272727275}, 'lose': {'win_rate': 0.7727272727272727, 'max_attempts': 6.7272727272727275}}, 'hard': {'win': {'win_rate': 0.22727272727272727, 'max_attempts': 5.7272727272727275}, 'lose': {'win_rate': 0.7727272727272727, 'max_attempts': 6.7272727272727275}}}, 13: {'easy': {'win': {'win_rate': 0.23943661971830985, 'max_attempts': 5.633802816901408}, 'lose': {'win_rate': 0.7605633802816901, 'max_attempts': 6.633802816901408}}, 'medium': {'win': {'win_rate': 0.23943661971830985, 'max_attempts': 5.633802816901408}, 'lose': {'win_rate': 0.7605633802816901, 'max_attempts': 6.633802816901408}}, 'hard': {'win': {'win_rate': 0.23943661971830985, 'max_attempts': 5.633802816901408}, 'lose': {'win_rate': 0.7605633802816901, 'max_attempts': 6.633802816901408}}}, 11: {'easy': {'win': {'win_rate': 0.1836734693877551, 'max_attempts': 5.642857142857143}, 'lose': {'win_rate': 0.8163265306122449, 'max_attempts': 6.642857142857143}}, 'medium': {'win': {'win_rate': 0.1836734693877551, 'max_attempts': 5.642857142857143}, 'lose': {'win_rate': 0.8163265306122449, 'max_attempts': 6.642857142857143}}, 'hard': {'win': {'win_rate': 0.1836734693877551, 'max_attempts': 5.642857142857143}, 'lose': {'win_rate': 0.8163265306122449, 'max_attempts': 6.642857142857143}}}, 9: {'easy': {'win': {'win_rate': 0.15602836879432624, 'max_attempts': 5.666666666666667}, 'lose': {'win_rate': 0.8439716312056738, 'max_attempts': 6.666666666666667}}, 'medium': {'win': {'win_rate': 0.15602836879432624, 'max_attempts': 5.666666666666667}, 'lose': {'win_rate': 0.8439716312056738, 'max_attempts': 6.666666666666667}}, 'hard': {'win': {'win_rate': 0.15602836879432624, 'max_attempts': 5.666666666666667}, 'lose': {'win_rate': 0.8439716312056738, 'max_attempts': 6.666666666666667}}}, 12: {'easy': {'win': {'win_rate': 0.16, 'max_attempts': 5.653333333333333}, 'lose': {'win_rate': 0.84, 'max_attempts': 6.653333333333333}}, 'medium': {'win': {'win_rate': 0.16, 'max_attempts': 5.653333333333333}, 'lose': {'win_rate': 0.84, 'max_attempts': 6.653333333333333}}, 'hard': {'win': {'win_rate': 0.16, 'max_attempts': 5.653333333333333}, 'lose': {'win_rate': 0.84, 'max_attempts': 6.653333333333333}}}, 18: {'easy': {'win': {'win_rate': 0.25, 'max_attempts': 5.75}, 'lose': {'win_rate': 0.75, 'max_attempts': 6.75}}, 'medium': {'win': {'win_rate': 0.25, 'max_attempts': 5.75}, 'lose': {'win_rate': 0.75, 'max_attempts': 6.75}}, 'hard': {'win': {'win_rate': 0.25, 'max_attempts': 5.75}, 'lose': {'win_rate': 0.75, 'max_attempts': 6.75}}}, 8: {'easy': {'win': {'win_rate': 0.09523809523809523, 'max_attempts': 5.836734693877551}, 'lose': {'win_rate': 0.9047619047619048, 'max_attempts': 6.836734693877551}}, 'medium': {'win': {'win_rate': 0.09523809523809523, 'max_attempts': 5.836734693877551}, 'lose': {'win_rate': 0.9047619047619048, 'max_attempts': 6.836734693877551}}, 'hard': {'win': {'win_rate': 0.09523809523809523, 'max_attempts': 5.836734693877551}, 'lose': {'win_rate': 0.9047619047619048, 'max_attempts': 6.836734693877551}}}, 14: {'easy': {'win': {'win_rate': 0.19047619047619047, 'max_attempts': 5.5476190476190474}, 'lose': {'win_rate': 0.8095238095238095, 'max_attempts': 6.5476190476190474}}, 'medium': {'win': {'win_rate': 0.19047619047619047, 'max_attempts': 5.5476190476190474}, 'lose': {'win_rate': 0.8095238095238095, 'max_attempts': 6.5476190476190474}}, 'hard': {'win': {'win_rate': 0.19047619047619047, 'max_attempts': 5.5476190476190474}, 'lose': {'win_rate': 0.8095238095238095, 'max_attempts': 6.5476190476190474}}}, 10: {'easy': {'win': {'win_rate': 0.12727272727272726, 'max_attempts': 5.781818181818182}, 'lose': {'win_rate': 0.8727272727272728, 'max_attempts': 6.781818181818182}}, 'medium': {'win': {'win_rate': 0.12727272727272726, 'max_attempts': 5.781818181818182}, 'lose': {'win_rate': 0.8727272727272728, 'max_attempts': 6.781818181818182}}, 'hard': {'win': {'win_rate': 0.12727272727272726, 'max_attempts': 5.781818181818182}, 'lose': {'win_rate': 0.8727272727272728, 'max_attempts': 6.781818181818182}}}, 7: {'easy': {'win': {'win_rate': 0.09, 'max_attempts': 5.79}, 'lose': {'win_rate': 0.91, 'max_attempts': 6.79}}, 'medium': {'win': {'win_rate': 0.09, 'max_attempts': 5.79}, 'lose': {'win_rate': 0.91, 'max_attempts': 6.79}}, 'hard': {'win': {'win_rate': 0.09, 'max_attempts': 5.79}, 'lose': {'win_rate': 0.91, 'max_attempts': 6.79}}}, 19: {'easy': {'win': {'win_rate': 0.0, 'max_attempts': 6.0}, 'lose': {'win_rate': 1.0, 'max_attempts': 7.0}}, 'medium': {'win': {'win_rate': 0.0, 'max_attempts': 6.0}, 'lose': {'win_rate': 1.0, 'max_attempts': 7.0}}, 'hard': {'win': {'win_rate': 0.0, 'max_attempts': 6.0}, 'lose': {'win_rate': 1.0, 'max_attempts': 7.0}}}, 16: {'easy': {'win': {'win_rate': 0.3333333333333333, 'max_attempts': 5.333333333333333}, 'lose': {'win_rate': 0.6666666666666667, 'max_attempts': 6.333333333333333}}, 'medium': {'win': {'win_rate': 0.3333333333333333, 'max_attempts': 5.333333333333333}, 'lose': {'win_rate': 0.6666666666666667, 'max_attempts': 6.333333333333333}}, 'hard': {'win': {'win_rate': 0.3333333333333333, 'max_attempts': 5.333333333333333}, 'lose': {'win_rate': 0.6666666666666667, 'max_attempts': 6.333333333333333}}}, 24: {'easy': {'win': {'win_rate': 0.0, 'max_attempts': 6.0}, 'lose': {'win_rate': 1.0, 'max_attempts': 7.0}}, 'medium': {'win': {'win_rate': 0.0, 'max_attempts': 6.0}, 'lose': {'win_rate': 1.0, 'max_attempts': 7.0}}, 'hard': {'win': {'win_rate': 0.0, 'max_attempts': 6.0}, 'lose': {'win_rate': 1.0, 'max_attempts': 7.0}}}, 17: {'easy': {'win': {'win_rate': 0.2, 'max_attempts': 5.6}, 'lose': {'win_rate': 0.8, 'max_attempts': 6.6}}, 'medium': {'win': {'win_rate': 0.2, 'max_attempts': 5.6}, 'lose': {'win_rate': 0.8, 'max_attempts': 6.6}}, 'hard': {'win': {'win_rate': 0.2, 'max_attempts': 5.6}, 'lose': {'win_rate': 0.8, 'max_attempts': 6.6}}}, 1: {'easy': {'win': {'win_rate': 0.0, 'max_attempts': 6.0}, 'lose': {'win_rate': 1.0, 'max_attempts': 7.0}}, 'medium': {'win': {'win_rate': 0.0, 'max_attempts': 6.0}, 'lose': {'win_rate': 1.0, 'max_attempts': 7.0}}, 'hard': {'win': {'win_rate': 0.0, 'max_attempts': 6.0}, 'lose': {'win_rate': 1.0, 'max_attempts': 7.0}}}, 3: {'easy': {'win': {'win_rate': 0.16666666666666666, 'max_attempts': 5.833333333333333}, 'lose': {'win_rate': 0.8333333333333334, 'max_attempts': 6.833333333333333}}, 'medium': {'win': {'win_rate': 0.16666666666666666, 'max_attempts': 5.833333333333333}, 'lose': {'win_rate': 0.8333333333333334, 'max_attempts': 6.833333333333333}}, 'hard': {'win': {'win_rate': 0.16666666666666666, 'max_attempts': 5.833333333333333}, 'lose': {'win_rate': 0.8333333333333334, 'max_attempts': 6.833333333333333}}}, 20: {'easy': {'win': {'win_rate': 0.0, 'max_attempts': 6.0}, 'lose': {'win_rate': 1.0, 'max_attempts': 7.0}}, 'medium': {'win': {'win_rate': 0.0, 'max_attempts': 6.0}, 'lose': {'win_rate': 1.0, 'max_attempts': 7.0}}, 'hard': {'win': {'win_rate': 0.0, 'max_attempts': 6.0}, 'lose': {'win_rate': 1.0, 'max_attempts': 7.0}}}, 2: {'easy': {'win': {'win_rate': 0.0, 'max_attempts': 6.0}, 'lose': {'win_rate': 1.0, 'max_attempts': 7.0}}, 'medium': {'win': {'win_rate': 0.0, 'max_attempts': 6.0}, 'lose': {'win_rate': 1.0, 'max_attempts': 7.0}}, 'hard': {'win': {'win_rate': 0.0, 'max_attempts': 6.0}, 'lose': {'win_rate': 1.0, 'max_attempts': 7.0}}}}\n",
      "Epoch 2: Training - Avg Loss: 0.025460664974525572, Avg Miss Penalty: 0.051950703002512456\n",
      "Epoch 2: Validation - Win Rate: 0.137\n"
     ]
    },
    {
     "name": "stderr",
     "output_type": "stream",
     "text": [
      "Epochs:  15%|█▌        | 3/20 [00:41<03:57, 13.95s/it]"
     ]
    },
    {
     "name": "stdout",
     "output_type": "stream",
     "text": [
      "{4: {'easy': {'win': {'win_rate': 0.13333333333333333, 'max_attempts': 5.833333333333333}, 'lose': {'win_rate': 0.8666666666666667, 'max_attempts': 6.833333333333333}}, 'medium': {'win': {'win_rate': 0.13333333333333333, 'max_attempts': 5.833333333333333}, 'lose': {'win_rate': 0.8666666666666667, 'max_attempts': 6.833333333333333}}, 'hard': {'win': {'win_rate': 0.13333333333333333, 'max_attempts': 5.833333333333333}, 'lose': {'win_rate': 0.8666666666666667, 'max_attempts': 6.833333333333333}}}, 5: {'easy': {'win': {'win_rate': 0.03636363636363636, 'max_attempts': 5.890909090909091}, 'lose': {'win_rate': 0.9636363636363636, 'max_attempts': 6.890909090909091}}, 'medium': {'win': {'win_rate': 0.03636363636363636, 'max_attempts': 5.890909090909091}, 'lose': {'win_rate': 0.9636363636363636, 'max_attempts': 6.890909090909091}}, 'hard': {'win': {'win_rate': 0.03636363636363636, 'max_attempts': 5.890909090909091}, 'lose': {'win_rate': 0.9636363636363636, 'max_attempts': 6.890909090909091}}}, 6: {'easy': {'win': {'win_rate': 0.0547945205479452, 'max_attempts': 5.890410958904109}, 'lose': {'win_rate': 0.9452054794520548, 'max_attempts': 6.890410958904109}}, 'medium': {'win': {'win_rate': 0.0547945205479452, 'max_attempts': 5.890410958904109}, 'lose': {'win_rate': 0.9452054794520548, 'max_attempts': 6.890410958904109}}, 'hard': {'win': {'win_rate': 0.0547945205479452, 'max_attempts': 5.890410958904109}, 'lose': {'win_rate': 0.9452054794520548, 'max_attempts': 6.890410958904109}}}, 15: {'easy': {'win': {'win_rate': 0.22727272727272727, 'max_attempts': 5.7272727272727275}, 'lose': {'win_rate': 0.7727272727272727, 'max_attempts': 6.7272727272727275}}, 'medium': {'win': {'win_rate': 0.22727272727272727, 'max_attempts': 5.7272727272727275}, 'lose': {'win_rate': 0.7727272727272727, 'max_attempts': 6.7272727272727275}}, 'hard': {'win': {'win_rate': 0.22727272727272727, 'max_attempts': 5.7272727272727275}, 'lose': {'win_rate': 0.7727272727272727, 'max_attempts': 6.7272727272727275}}}, 13: {'easy': {'win': {'win_rate': 0.23943661971830985, 'max_attempts': 5.633802816901408}, 'lose': {'win_rate': 0.7605633802816901, 'max_attempts': 6.633802816901408}}, 'medium': {'win': {'win_rate': 0.23943661971830985, 'max_attempts': 5.633802816901408}, 'lose': {'win_rate': 0.7605633802816901, 'max_attempts': 6.633802816901408}}, 'hard': {'win': {'win_rate': 0.23943661971830985, 'max_attempts': 5.633802816901408}, 'lose': {'win_rate': 0.7605633802816901, 'max_attempts': 6.633802816901408}}}, 11: {'easy': {'win': {'win_rate': 0.1836734693877551, 'max_attempts': 5.642857142857143}, 'lose': {'win_rate': 0.8163265306122449, 'max_attempts': 6.642857142857143}}, 'medium': {'win': {'win_rate': 0.1836734693877551, 'max_attempts': 5.642857142857143}, 'lose': {'win_rate': 0.8163265306122449, 'max_attempts': 6.642857142857143}}, 'hard': {'win': {'win_rate': 0.1836734693877551, 'max_attempts': 5.642857142857143}, 'lose': {'win_rate': 0.8163265306122449, 'max_attempts': 6.642857142857143}}}, 9: {'easy': {'win': {'win_rate': 0.15602836879432624, 'max_attempts': 5.666666666666667}, 'lose': {'win_rate': 0.8439716312056738, 'max_attempts': 6.666666666666667}}, 'medium': {'win': {'win_rate': 0.15602836879432624, 'max_attempts': 5.666666666666667}, 'lose': {'win_rate': 0.8439716312056738, 'max_attempts': 6.666666666666667}}, 'hard': {'win': {'win_rate': 0.15602836879432624, 'max_attempts': 5.666666666666667}, 'lose': {'win_rate': 0.8439716312056738, 'max_attempts': 6.666666666666667}}}, 12: {'easy': {'win': {'win_rate': 0.16, 'max_attempts': 5.653333333333333}, 'lose': {'win_rate': 0.84, 'max_attempts': 6.653333333333333}}, 'medium': {'win': {'win_rate': 0.16, 'max_attempts': 5.653333333333333}, 'lose': {'win_rate': 0.84, 'max_attempts': 6.653333333333333}}, 'hard': {'win': {'win_rate': 0.16, 'max_attempts': 5.653333333333333}, 'lose': {'win_rate': 0.84, 'max_attempts': 6.653333333333333}}}, 18: {'easy': {'win': {'win_rate': 0.25, 'max_attempts': 5.75}, 'lose': {'win_rate': 0.75, 'max_attempts': 6.75}}, 'medium': {'win': {'win_rate': 0.25, 'max_attempts': 5.75}, 'lose': {'win_rate': 0.75, 'max_attempts': 6.75}}, 'hard': {'win': {'win_rate': 0.25, 'max_attempts': 5.75}, 'lose': {'win_rate': 0.75, 'max_attempts': 6.75}}}, 8: {'easy': {'win': {'win_rate': 0.09523809523809523, 'max_attempts': 5.836734693877551}, 'lose': {'win_rate': 0.9047619047619048, 'max_attempts': 6.836734693877551}}, 'medium': {'win': {'win_rate': 0.09523809523809523, 'max_attempts': 5.836734693877551}, 'lose': {'win_rate': 0.9047619047619048, 'max_attempts': 6.836734693877551}}, 'hard': {'win': {'win_rate': 0.09523809523809523, 'max_attempts': 5.836734693877551}, 'lose': {'win_rate': 0.9047619047619048, 'max_attempts': 6.836734693877551}}}, 14: {'easy': {'win': {'win_rate': 0.19047619047619047, 'max_attempts': 5.5476190476190474}, 'lose': {'win_rate': 0.8095238095238095, 'max_attempts': 6.5476190476190474}}, 'medium': {'win': {'win_rate': 0.19047619047619047, 'max_attempts': 5.5476190476190474}, 'lose': {'win_rate': 0.8095238095238095, 'max_attempts': 6.5476190476190474}}, 'hard': {'win': {'win_rate': 0.19047619047619047, 'max_attempts': 5.5476190476190474}, 'lose': {'win_rate': 0.8095238095238095, 'max_attempts': 6.5476190476190474}}}, 10: {'easy': {'win': {'win_rate': 0.12727272727272726, 'max_attempts': 5.781818181818182}, 'lose': {'win_rate': 0.8727272727272728, 'max_attempts': 6.781818181818182}}, 'medium': {'win': {'win_rate': 0.12727272727272726, 'max_attempts': 5.781818181818182}, 'lose': {'win_rate': 0.8727272727272728, 'max_attempts': 6.781818181818182}}, 'hard': {'win': {'win_rate': 0.12727272727272726, 'max_attempts': 5.781818181818182}, 'lose': {'win_rate': 0.8727272727272728, 'max_attempts': 6.781818181818182}}}, 7: {'easy': {'win': {'win_rate': 0.09, 'max_attempts': 5.79}, 'lose': {'win_rate': 0.91, 'max_attempts': 6.79}}, 'medium': {'win': {'win_rate': 0.09, 'max_attempts': 5.79}, 'lose': {'win_rate': 0.91, 'max_attempts': 6.79}}, 'hard': {'win': {'win_rate': 0.09, 'max_attempts': 5.79}, 'lose': {'win_rate': 0.91, 'max_attempts': 6.79}}}, 19: {'easy': {'win': {'win_rate': 0.0, 'max_attempts': 6.0}, 'lose': {'win_rate': 1.0, 'max_attempts': 7.0}}, 'medium': {'win': {'win_rate': 0.0, 'max_attempts': 6.0}, 'lose': {'win_rate': 1.0, 'max_attempts': 7.0}}, 'hard': {'win': {'win_rate': 0.0, 'max_attempts': 6.0}, 'lose': {'win_rate': 1.0, 'max_attempts': 7.0}}}, 16: {'easy': {'win': {'win_rate': 0.3333333333333333, 'max_attempts': 5.333333333333333}, 'lose': {'win_rate': 0.6666666666666667, 'max_attempts': 6.333333333333333}}, 'medium': {'win': {'win_rate': 0.3333333333333333, 'max_attempts': 5.333333333333333}, 'lose': {'win_rate': 0.6666666666666667, 'max_attempts': 6.333333333333333}}, 'hard': {'win': {'win_rate': 0.3333333333333333, 'max_attempts': 5.333333333333333}, 'lose': {'win_rate': 0.6666666666666667, 'max_attempts': 6.333333333333333}}}, 24: {'easy': {'win': {'win_rate': 0.0, 'max_attempts': 6.0}, 'lose': {'win_rate': 1.0, 'max_attempts': 7.0}}, 'medium': {'win': {'win_rate': 0.0, 'max_attempts': 6.0}, 'lose': {'win_rate': 1.0, 'max_attempts': 7.0}}, 'hard': {'win': {'win_rate': 0.0, 'max_attempts': 6.0}, 'lose': {'win_rate': 1.0, 'max_attempts': 7.0}}}, 17: {'easy': {'win': {'win_rate': 0.2, 'max_attempts': 5.6}, 'lose': {'win_rate': 0.8, 'max_attempts': 6.6}}, 'medium': {'win': {'win_rate': 0.2, 'max_attempts': 5.6}, 'lose': {'win_rate': 0.8, 'max_attempts': 6.6}}, 'hard': {'win': {'win_rate': 0.2, 'max_attempts': 5.6}, 'lose': {'win_rate': 0.8, 'max_attempts': 6.6}}}, 1: {'easy': {'win': {'win_rate': 0.0, 'max_attempts': 6.0}, 'lose': {'win_rate': 1.0, 'max_attempts': 7.0}}, 'medium': {'win': {'win_rate': 0.0, 'max_attempts': 6.0}, 'lose': {'win_rate': 1.0, 'max_attempts': 7.0}}, 'hard': {'win': {'win_rate': 0.0, 'max_attempts': 6.0}, 'lose': {'win_rate': 1.0, 'max_attempts': 7.0}}}, 3: {'easy': {'win': {'win_rate': 0.16666666666666666, 'max_attempts': 5.833333333333333}, 'lose': {'win_rate': 0.8333333333333334, 'max_attempts': 6.833333333333333}}, 'medium': {'win': {'win_rate': 0.16666666666666666, 'max_attempts': 5.833333333333333}, 'lose': {'win_rate': 0.8333333333333334, 'max_attempts': 6.833333333333333}}, 'hard': {'win': {'win_rate': 0.16666666666666666, 'max_attempts': 5.833333333333333}, 'lose': {'win_rate': 0.8333333333333334, 'max_attempts': 6.833333333333333}}}, 20: {'easy': {'win': {'win_rate': 0.0, 'max_attempts': 6.0}, 'lose': {'win_rate': 1.0, 'max_attempts': 7.0}}, 'medium': {'win': {'win_rate': 0.0, 'max_attempts': 6.0}, 'lose': {'win_rate': 1.0, 'max_attempts': 7.0}}, 'hard': {'win': {'win_rate': 0.0, 'max_attempts': 6.0}, 'lose': {'win_rate': 1.0, 'max_attempts': 7.0}}}, 2: {'easy': {'win': {'win_rate': 0.0, 'max_attempts': 6.0}, 'lose': {'win_rate': 1.0, 'max_attempts': 7.0}}, 'medium': {'win': {'win_rate': 0.0, 'max_attempts': 6.0}, 'lose': {'win_rate': 1.0, 'max_attempts': 7.0}}, 'hard': {'win': {'win_rate': 0.0, 'max_attempts': 6.0}, 'lose': {'win_rate': 1.0, 'max_attempts': 7.0}}}}\n",
      "Epoch 3: Training - Avg Loss: 0.020223240368068218, Avg Miss Penalty: 0.030993615882471202\n",
      "Epoch 3: Validation - Win Rate: 0.137\n"
     ]
    },
    {
     "name": "stderr",
     "output_type": "stream",
     "text": [
      "Epochs:  20%|██        | 4/20 [00:55<03:43, 14.00s/it]"
     ]
    },
    {
     "name": "stdout",
     "output_type": "stream",
     "text": [
      "Epoch 00004: reducing learning rate of group 0 to 5.0000e-05.\n",
      "{4: {'easy': {'win': {'win_rate': 0.13333333333333333, 'max_attempts': 5.833333333333333}, 'lose': {'win_rate': 0.8666666666666667, 'max_attempts': 6.833333333333333}}, 'medium': {'win': {'win_rate': 0.13333333333333333, 'max_attempts': 5.833333333333333}, 'lose': {'win_rate': 0.8666666666666667, 'max_attempts': 6.833333333333333}}, 'hard': {'win': {'win_rate': 0.13333333333333333, 'max_attempts': 5.833333333333333}, 'lose': {'win_rate': 0.8666666666666667, 'max_attempts': 6.833333333333333}}}, 5: {'easy': {'win': {'win_rate': 0.03636363636363636, 'max_attempts': 5.890909090909091}, 'lose': {'win_rate': 0.9636363636363636, 'max_attempts': 6.890909090909091}}, 'medium': {'win': {'win_rate': 0.03636363636363636, 'max_attempts': 5.890909090909091}, 'lose': {'win_rate': 0.9636363636363636, 'max_attempts': 6.890909090909091}}, 'hard': {'win': {'win_rate': 0.03636363636363636, 'max_attempts': 5.890909090909091}, 'lose': {'win_rate': 0.9636363636363636, 'max_attempts': 6.890909090909091}}}, 6: {'easy': {'win': {'win_rate': 0.0547945205479452, 'max_attempts': 5.890410958904109}, 'lose': {'win_rate': 0.9452054794520548, 'max_attempts': 6.890410958904109}}, 'medium': {'win': {'win_rate': 0.0547945205479452, 'max_attempts': 5.890410958904109}, 'lose': {'win_rate': 0.9452054794520548, 'max_attempts': 6.890410958904109}}, 'hard': {'win': {'win_rate': 0.0547945205479452, 'max_attempts': 5.890410958904109}, 'lose': {'win_rate': 0.9452054794520548, 'max_attempts': 6.890410958904109}}}, 15: {'easy': {'win': {'win_rate': 0.22727272727272727, 'max_attempts': 5.7272727272727275}, 'lose': {'win_rate': 0.7727272727272727, 'max_attempts': 6.7272727272727275}}, 'medium': {'win': {'win_rate': 0.22727272727272727, 'max_attempts': 5.7272727272727275}, 'lose': {'win_rate': 0.7727272727272727, 'max_attempts': 6.7272727272727275}}, 'hard': {'win': {'win_rate': 0.22727272727272727, 'max_attempts': 5.7272727272727275}, 'lose': {'win_rate': 0.7727272727272727, 'max_attempts': 6.7272727272727275}}}, 13: {'easy': {'win': {'win_rate': 0.23943661971830985, 'max_attempts': 5.633802816901408}, 'lose': {'win_rate': 0.7605633802816901, 'max_attempts': 6.633802816901408}}, 'medium': {'win': {'win_rate': 0.23943661971830985, 'max_attempts': 5.633802816901408}, 'lose': {'win_rate': 0.7605633802816901, 'max_attempts': 6.633802816901408}}, 'hard': {'win': {'win_rate': 0.23943661971830985, 'max_attempts': 5.633802816901408}, 'lose': {'win_rate': 0.7605633802816901, 'max_attempts': 6.633802816901408}}}, 11: {'easy': {'win': {'win_rate': 0.1836734693877551, 'max_attempts': 5.642857142857143}, 'lose': {'win_rate': 0.8163265306122449, 'max_attempts': 6.642857142857143}}, 'medium': {'win': {'win_rate': 0.1836734693877551, 'max_attempts': 5.642857142857143}, 'lose': {'win_rate': 0.8163265306122449, 'max_attempts': 6.642857142857143}}, 'hard': {'win': {'win_rate': 0.1836734693877551, 'max_attempts': 5.642857142857143}, 'lose': {'win_rate': 0.8163265306122449, 'max_attempts': 6.642857142857143}}}, 9: {'easy': {'win': {'win_rate': 0.15602836879432624, 'max_attempts': 5.666666666666667}, 'lose': {'win_rate': 0.8439716312056738, 'max_attempts': 6.666666666666667}}, 'medium': {'win': {'win_rate': 0.15602836879432624, 'max_attempts': 5.666666666666667}, 'lose': {'win_rate': 0.8439716312056738, 'max_attempts': 6.666666666666667}}, 'hard': {'win': {'win_rate': 0.15602836879432624, 'max_attempts': 5.666666666666667}, 'lose': {'win_rate': 0.8439716312056738, 'max_attempts': 6.666666666666667}}}, 12: {'easy': {'win': {'win_rate': 0.16, 'max_attempts': 5.653333333333333}, 'lose': {'win_rate': 0.84, 'max_attempts': 6.653333333333333}}, 'medium': {'win': {'win_rate': 0.16, 'max_attempts': 5.653333333333333}, 'lose': {'win_rate': 0.84, 'max_attempts': 6.653333333333333}}, 'hard': {'win': {'win_rate': 0.16, 'max_attempts': 5.653333333333333}, 'lose': {'win_rate': 0.84, 'max_attempts': 6.653333333333333}}}, 18: {'easy': {'win': {'win_rate': 0.25, 'max_attempts': 5.75}, 'lose': {'win_rate': 0.75, 'max_attempts': 6.75}}, 'medium': {'win': {'win_rate': 0.25, 'max_attempts': 5.75}, 'lose': {'win_rate': 0.75, 'max_attempts': 6.75}}, 'hard': {'win': {'win_rate': 0.25, 'max_attempts': 5.75}, 'lose': {'win_rate': 0.75, 'max_attempts': 6.75}}}, 8: {'easy': {'win': {'win_rate': 0.09523809523809523, 'max_attempts': 5.836734693877551}, 'lose': {'win_rate': 0.9047619047619048, 'max_attempts': 6.836734693877551}}, 'medium': {'win': {'win_rate': 0.09523809523809523, 'max_attempts': 5.836734693877551}, 'lose': {'win_rate': 0.9047619047619048, 'max_attempts': 6.836734693877551}}, 'hard': {'win': {'win_rate': 0.09523809523809523, 'max_attempts': 5.836734693877551}, 'lose': {'win_rate': 0.9047619047619048, 'max_attempts': 6.836734693877551}}}, 14: {'easy': {'win': {'win_rate': 0.19047619047619047, 'max_attempts': 5.5476190476190474}, 'lose': {'win_rate': 0.8095238095238095, 'max_attempts': 6.5476190476190474}}, 'medium': {'win': {'win_rate': 0.19047619047619047, 'max_attempts': 5.5476190476190474}, 'lose': {'win_rate': 0.8095238095238095, 'max_attempts': 6.5476190476190474}}, 'hard': {'win': {'win_rate': 0.19047619047619047, 'max_attempts': 5.5476190476190474}, 'lose': {'win_rate': 0.8095238095238095, 'max_attempts': 6.5476190476190474}}}, 10: {'easy': {'win': {'win_rate': 0.12727272727272726, 'max_attempts': 5.781818181818182}, 'lose': {'win_rate': 0.8727272727272728, 'max_attempts': 6.781818181818182}}, 'medium': {'win': {'win_rate': 0.12727272727272726, 'max_attempts': 5.781818181818182}, 'lose': {'win_rate': 0.8727272727272728, 'max_attempts': 6.781818181818182}}, 'hard': {'win': {'win_rate': 0.12727272727272726, 'max_attempts': 5.781818181818182}, 'lose': {'win_rate': 0.8727272727272728, 'max_attempts': 6.781818181818182}}}, 7: {'easy': {'win': {'win_rate': 0.09, 'max_attempts': 5.79}, 'lose': {'win_rate': 0.91, 'max_attempts': 6.79}}, 'medium': {'win': {'win_rate': 0.09, 'max_attempts': 5.79}, 'lose': {'win_rate': 0.91, 'max_attempts': 6.79}}, 'hard': {'win': {'win_rate': 0.09, 'max_attempts': 5.79}, 'lose': {'win_rate': 0.91, 'max_attempts': 6.79}}}, 19: {'easy': {'win': {'win_rate': 0.0, 'max_attempts': 6.0}, 'lose': {'win_rate': 1.0, 'max_attempts': 7.0}}, 'medium': {'win': {'win_rate': 0.0, 'max_attempts': 6.0}, 'lose': {'win_rate': 1.0, 'max_attempts': 7.0}}, 'hard': {'win': {'win_rate': 0.0, 'max_attempts': 6.0}, 'lose': {'win_rate': 1.0, 'max_attempts': 7.0}}}, 16: {'easy': {'win': {'win_rate': 0.3333333333333333, 'max_attempts': 5.333333333333333}, 'lose': {'win_rate': 0.6666666666666667, 'max_attempts': 6.333333333333333}}, 'medium': {'win': {'win_rate': 0.3333333333333333, 'max_attempts': 5.333333333333333}, 'lose': {'win_rate': 0.6666666666666667, 'max_attempts': 6.333333333333333}}, 'hard': {'win': {'win_rate': 0.3333333333333333, 'max_attempts': 5.333333333333333}, 'lose': {'win_rate': 0.6666666666666667, 'max_attempts': 6.333333333333333}}}, 24: {'easy': {'win': {'win_rate': 0.0, 'max_attempts': 6.0}, 'lose': {'win_rate': 1.0, 'max_attempts': 7.0}}, 'medium': {'win': {'win_rate': 0.0, 'max_attempts': 6.0}, 'lose': {'win_rate': 1.0, 'max_attempts': 7.0}}, 'hard': {'win': {'win_rate': 0.0, 'max_attempts': 6.0}, 'lose': {'win_rate': 1.0, 'max_attempts': 7.0}}}, 17: {'easy': {'win': {'win_rate': 0.2, 'max_attempts': 5.6}, 'lose': {'win_rate': 0.8, 'max_attempts': 6.6}}, 'medium': {'win': {'win_rate': 0.2, 'max_attempts': 5.6}, 'lose': {'win_rate': 0.8, 'max_attempts': 6.6}}, 'hard': {'win': {'win_rate': 0.2, 'max_attempts': 5.6}, 'lose': {'win_rate': 0.8, 'max_attempts': 6.6}}}, 1: {'easy': {'win': {'win_rate': 0.0, 'max_attempts': 6.0}, 'lose': {'win_rate': 1.0, 'max_attempts': 7.0}}, 'medium': {'win': {'win_rate': 0.0, 'max_attempts': 6.0}, 'lose': {'win_rate': 1.0, 'max_attempts': 7.0}}, 'hard': {'win': {'win_rate': 0.0, 'max_attempts': 6.0}, 'lose': {'win_rate': 1.0, 'max_attempts': 7.0}}}, 3: {'easy': {'win': {'win_rate': 0.16666666666666666, 'max_attempts': 5.833333333333333}, 'lose': {'win_rate': 0.8333333333333334, 'max_attempts': 6.833333333333333}}, 'medium': {'win': {'win_rate': 0.16666666666666666, 'max_attempts': 5.833333333333333}, 'lose': {'win_rate': 0.8333333333333334, 'max_attempts': 6.833333333333333}}, 'hard': {'win': {'win_rate': 0.16666666666666666, 'max_attempts': 5.833333333333333}, 'lose': {'win_rate': 0.8333333333333334, 'max_attempts': 6.833333333333333}}}, 20: {'easy': {'win': {'win_rate': 0.0, 'max_attempts': 6.0}, 'lose': {'win_rate': 1.0, 'max_attempts': 7.0}}, 'medium': {'win': {'win_rate': 0.0, 'max_attempts': 6.0}, 'lose': {'win_rate': 1.0, 'max_attempts': 7.0}}, 'hard': {'win': {'win_rate': 0.0, 'max_attempts': 6.0}, 'lose': {'win_rate': 1.0, 'max_attempts': 7.0}}}, 2: {'easy': {'win': {'win_rate': 0.0, 'max_attempts': 6.0}, 'lose': {'win_rate': 1.0, 'max_attempts': 7.0}}, 'medium': {'win': {'win_rate': 0.0, 'max_attempts': 6.0}, 'lose': {'win_rate': 1.0, 'max_attempts': 7.0}}, 'hard': {'win': {'win_rate': 0.0, 'max_attempts': 6.0}, 'lose': {'win_rate': 1.0, 'max_attempts': 7.0}}}}\n",
      "Epoch 4: Training - Avg Loss: 0.018065535929054022, Avg Miss Penalty: 0.022366593452170493\n",
      "Epoch 4: Validation - Win Rate: 0.137\n"
     ]
    },
    {
     "name": "stderr",
     "output_type": "stream",
     "text": [
      "Epochs:  25%|██▌       | 5/20 [01:09<03:29, 13.97s/it]"
     ]
    },
    {
     "name": "stdout",
     "output_type": "stream",
     "text": [
      "{4: {'easy': {'win': {'win_rate': 0.13333333333333333, 'max_attempts': 5.833333333333333}, 'lose': {'win_rate': 0.8666666666666667, 'max_attempts': 6.833333333333333}}, 'medium': {'win': {'win_rate': 0.13333333333333333, 'max_attempts': 5.833333333333333}, 'lose': {'win_rate': 0.8666666666666667, 'max_attempts': 6.833333333333333}}, 'hard': {'win': {'win_rate': 0.13333333333333333, 'max_attempts': 5.833333333333333}, 'lose': {'win_rate': 0.8666666666666667, 'max_attempts': 6.833333333333333}}}, 5: {'easy': {'win': {'win_rate': 0.03636363636363636, 'max_attempts': 5.890909090909091}, 'lose': {'win_rate': 0.9636363636363636, 'max_attempts': 6.890909090909091}}, 'medium': {'win': {'win_rate': 0.03636363636363636, 'max_attempts': 5.890909090909091}, 'lose': {'win_rate': 0.9636363636363636, 'max_attempts': 6.890909090909091}}, 'hard': {'win': {'win_rate': 0.03636363636363636, 'max_attempts': 5.890909090909091}, 'lose': {'win_rate': 0.9636363636363636, 'max_attempts': 6.890909090909091}}}, 6: {'easy': {'win': {'win_rate': 0.0547945205479452, 'max_attempts': 5.890410958904109}, 'lose': {'win_rate': 0.9452054794520548, 'max_attempts': 6.890410958904109}}, 'medium': {'win': {'win_rate': 0.0547945205479452, 'max_attempts': 5.890410958904109}, 'lose': {'win_rate': 0.9452054794520548, 'max_attempts': 6.890410958904109}}, 'hard': {'win': {'win_rate': 0.0547945205479452, 'max_attempts': 5.890410958904109}, 'lose': {'win_rate': 0.9452054794520548, 'max_attempts': 6.890410958904109}}}, 15: {'easy': {'win': {'win_rate': 0.22727272727272727, 'max_attempts': 5.7272727272727275}, 'lose': {'win_rate': 0.7727272727272727, 'max_attempts': 6.7272727272727275}}, 'medium': {'win': {'win_rate': 0.22727272727272727, 'max_attempts': 5.7272727272727275}, 'lose': {'win_rate': 0.7727272727272727, 'max_attempts': 6.7272727272727275}}, 'hard': {'win': {'win_rate': 0.22727272727272727, 'max_attempts': 5.7272727272727275}, 'lose': {'win_rate': 0.7727272727272727, 'max_attempts': 6.7272727272727275}}}, 13: {'easy': {'win': {'win_rate': 0.23943661971830985, 'max_attempts': 5.633802816901408}, 'lose': {'win_rate': 0.7605633802816901, 'max_attempts': 6.633802816901408}}, 'medium': {'win': {'win_rate': 0.23943661971830985, 'max_attempts': 5.633802816901408}, 'lose': {'win_rate': 0.7605633802816901, 'max_attempts': 6.633802816901408}}, 'hard': {'win': {'win_rate': 0.23943661971830985, 'max_attempts': 5.633802816901408}, 'lose': {'win_rate': 0.7605633802816901, 'max_attempts': 6.633802816901408}}}, 11: {'easy': {'win': {'win_rate': 0.1836734693877551, 'max_attempts': 5.642857142857143}, 'lose': {'win_rate': 0.8163265306122449, 'max_attempts': 6.642857142857143}}, 'medium': {'win': {'win_rate': 0.1836734693877551, 'max_attempts': 5.642857142857143}, 'lose': {'win_rate': 0.8163265306122449, 'max_attempts': 6.642857142857143}}, 'hard': {'win': {'win_rate': 0.1836734693877551, 'max_attempts': 5.642857142857143}, 'lose': {'win_rate': 0.8163265306122449, 'max_attempts': 6.642857142857143}}}, 9: {'easy': {'win': {'win_rate': 0.15602836879432624, 'max_attempts': 5.666666666666667}, 'lose': {'win_rate': 0.8439716312056738, 'max_attempts': 6.666666666666667}}, 'medium': {'win': {'win_rate': 0.15602836879432624, 'max_attempts': 5.666666666666667}, 'lose': {'win_rate': 0.8439716312056738, 'max_attempts': 6.666666666666667}}, 'hard': {'win': {'win_rate': 0.15602836879432624, 'max_attempts': 5.666666666666667}, 'lose': {'win_rate': 0.8439716312056738, 'max_attempts': 6.666666666666667}}}, 12: {'easy': {'win': {'win_rate': 0.16, 'max_attempts': 5.653333333333333}, 'lose': {'win_rate': 0.84, 'max_attempts': 6.653333333333333}}, 'medium': {'win': {'win_rate': 0.16, 'max_attempts': 5.653333333333333}, 'lose': {'win_rate': 0.84, 'max_attempts': 6.653333333333333}}, 'hard': {'win': {'win_rate': 0.16, 'max_attempts': 5.653333333333333}, 'lose': {'win_rate': 0.84, 'max_attempts': 6.653333333333333}}}, 18: {'easy': {'win': {'win_rate': 0.25, 'max_attempts': 5.75}, 'lose': {'win_rate': 0.75, 'max_attempts': 6.75}}, 'medium': {'win': {'win_rate': 0.25, 'max_attempts': 5.75}, 'lose': {'win_rate': 0.75, 'max_attempts': 6.75}}, 'hard': {'win': {'win_rate': 0.25, 'max_attempts': 5.75}, 'lose': {'win_rate': 0.75, 'max_attempts': 6.75}}}, 8: {'easy': {'win': {'win_rate': 0.09523809523809523, 'max_attempts': 5.836734693877551}, 'lose': {'win_rate': 0.9047619047619048, 'max_attempts': 6.836734693877551}}, 'medium': {'win': {'win_rate': 0.09523809523809523, 'max_attempts': 5.836734693877551}, 'lose': {'win_rate': 0.9047619047619048, 'max_attempts': 6.836734693877551}}, 'hard': {'win': {'win_rate': 0.09523809523809523, 'max_attempts': 5.836734693877551}, 'lose': {'win_rate': 0.9047619047619048, 'max_attempts': 6.836734693877551}}}, 14: {'easy': {'win': {'win_rate': 0.19047619047619047, 'max_attempts': 5.5476190476190474}, 'lose': {'win_rate': 0.8095238095238095, 'max_attempts': 6.5476190476190474}}, 'medium': {'win': {'win_rate': 0.19047619047619047, 'max_attempts': 5.5476190476190474}, 'lose': {'win_rate': 0.8095238095238095, 'max_attempts': 6.5476190476190474}}, 'hard': {'win': {'win_rate': 0.19047619047619047, 'max_attempts': 5.5476190476190474}, 'lose': {'win_rate': 0.8095238095238095, 'max_attempts': 6.5476190476190474}}}, 10: {'easy': {'win': {'win_rate': 0.12727272727272726, 'max_attempts': 5.781818181818182}, 'lose': {'win_rate': 0.8727272727272728, 'max_attempts': 6.781818181818182}}, 'medium': {'win': {'win_rate': 0.12727272727272726, 'max_attempts': 5.781818181818182}, 'lose': {'win_rate': 0.8727272727272728, 'max_attempts': 6.781818181818182}}, 'hard': {'win': {'win_rate': 0.12727272727272726, 'max_attempts': 5.781818181818182}, 'lose': {'win_rate': 0.8727272727272728, 'max_attempts': 6.781818181818182}}}, 7: {'easy': {'win': {'win_rate': 0.09, 'max_attempts': 5.79}, 'lose': {'win_rate': 0.91, 'max_attempts': 6.79}}, 'medium': {'win': {'win_rate': 0.09, 'max_attempts': 5.79}, 'lose': {'win_rate': 0.91, 'max_attempts': 6.79}}, 'hard': {'win': {'win_rate': 0.09, 'max_attempts': 5.79}, 'lose': {'win_rate': 0.91, 'max_attempts': 6.79}}}, 19: {'easy': {'win': {'win_rate': 0.0, 'max_attempts': 6.0}, 'lose': {'win_rate': 1.0, 'max_attempts': 7.0}}, 'medium': {'win': {'win_rate': 0.0, 'max_attempts': 6.0}, 'lose': {'win_rate': 1.0, 'max_attempts': 7.0}}, 'hard': {'win': {'win_rate': 0.0, 'max_attempts': 6.0}, 'lose': {'win_rate': 1.0, 'max_attempts': 7.0}}}, 16: {'easy': {'win': {'win_rate': 0.3333333333333333, 'max_attempts': 5.333333333333333}, 'lose': {'win_rate': 0.6666666666666667, 'max_attempts': 6.333333333333333}}, 'medium': {'win': {'win_rate': 0.3333333333333333, 'max_attempts': 5.333333333333333}, 'lose': {'win_rate': 0.6666666666666667, 'max_attempts': 6.333333333333333}}, 'hard': {'win': {'win_rate': 0.3333333333333333, 'max_attempts': 5.333333333333333}, 'lose': {'win_rate': 0.6666666666666667, 'max_attempts': 6.333333333333333}}}, 24: {'easy': {'win': {'win_rate': 0.0, 'max_attempts': 6.0}, 'lose': {'win_rate': 1.0, 'max_attempts': 7.0}}, 'medium': {'win': {'win_rate': 0.0, 'max_attempts': 6.0}, 'lose': {'win_rate': 1.0, 'max_attempts': 7.0}}, 'hard': {'win': {'win_rate': 0.0, 'max_attempts': 6.0}, 'lose': {'win_rate': 1.0, 'max_attempts': 7.0}}}, 17: {'easy': {'win': {'win_rate': 0.2, 'max_attempts': 5.6}, 'lose': {'win_rate': 0.8, 'max_attempts': 6.6}}, 'medium': {'win': {'win_rate': 0.2, 'max_attempts': 5.6}, 'lose': {'win_rate': 0.8, 'max_attempts': 6.6}}, 'hard': {'win': {'win_rate': 0.2, 'max_attempts': 5.6}, 'lose': {'win_rate': 0.8, 'max_attempts': 6.6}}}, 1: {'easy': {'win': {'win_rate': 0.0, 'max_attempts': 6.0}, 'lose': {'win_rate': 1.0, 'max_attempts': 7.0}}, 'medium': {'win': {'win_rate': 0.0, 'max_attempts': 6.0}, 'lose': {'win_rate': 1.0, 'max_attempts': 7.0}}, 'hard': {'win': {'win_rate': 0.0, 'max_attempts': 6.0}, 'lose': {'win_rate': 1.0, 'max_attempts': 7.0}}}, 3: {'easy': {'win': {'win_rate': 0.16666666666666666, 'max_attempts': 5.833333333333333}, 'lose': {'win_rate': 0.8333333333333334, 'max_attempts': 6.833333333333333}}, 'medium': {'win': {'win_rate': 0.16666666666666666, 'max_attempts': 5.833333333333333}, 'lose': {'win_rate': 0.8333333333333334, 'max_attempts': 6.833333333333333}}, 'hard': {'win': {'win_rate': 0.16666666666666666, 'max_attempts': 5.833333333333333}, 'lose': {'win_rate': 0.8333333333333334, 'max_attempts': 6.833333333333333}}}, 20: {'easy': {'win': {'win_rate': 0.0, 'max_attempts': 6.0}, 'lose': {'win_rate': 1.0, 'max_attempts': 7.0}}, 'medium': {'win': {'win_rate': 0.0, 'max_attempts': 6.0}, 'lose': {'win_rate': 1.0, 'max_attempts': 7.0}}, 'hard': {'win': {'win_rate': 0.0, 'max_attempts': 6.0}, 'lose': {'win_rate': 1.0, 'max_attempts': 7.0}}}, 2: {'easy': {'win': {'win_rate': 0.0, 'max_attempts': 6.0}, 'lose': {'win_rate': 1.0, 'max_attempts': 7.0}}, 'medium': {'win': {'win_rate': 0.0, 'max_attempts': 6.0}, 'lose': {'win_rate': 1.0, 'max_attempts': 7.0}}, 'hard': {'win': {'win_rate': 0.0, 'max_attempts': 6.0}, 'lose': {'win_rate': 1.0, 'max_attempts': 7.0}}}}\n",
      "Epoch 5: Training - Avg Loss: 0.01787057868205011, Avg Miss Penalty: 0.018584012193605302\n",
      "Epoch 5: Validation - Win Rate: 0.137\n"
     ]
    },
    {
     "name": "stderr",
     "output_type": "stream",
     "text": [
      "Epochs:  30%|███       | 6/20 [01:23<03:14, 13.92s/it]"
     ]
    },
    {
     "name": "stdout",
     "output_type": "stream",
     "text": [
      "{4: {'easy': {'win': {'win_rate': 0.13333333333333333, 'max_attempts': 5.833333333333333}, 'lose': {'win_rate': 0.8666666666666667, 'max_attempts': 6.833333333333333}}, 'medium': {'win': {'win_rate': 0.13333333333333333, 'max_attempts': 5.833333333333333}, 'lose': {'win_rate': 0.8666666666666667, 'max_attempts': 6.833333333333333}}, 'hard': {'win': {'win_rate': 0.13333333333333333, 'max_attempts': 5.833333333333333}, 'lose': {'win_rate': 0.8666666666666667, 'max_attempts': 6.833333333333333}}}, 5: {'easy': {'win': {'win_rate': 0.03636363636363636, 'max_attempts': 5.890909090909091}, 'lose': {'win_rate': 0.9636363636363636, 'max_attempts': 6.890909090909091}}, 'medium': {'win': {'win_rate': 0.03636363636363636, 'max_attempts': 5.890909090909091}, 'lose': {'win_rate': 0.9636363636363636, 'max_attempts': 6.890909090909091}}, 'hard': {'win': {'win_rate': 0.03636363636363636, 'max_attempts': 5.890909090909091}, 'lose': {'win_rate': 0.9636363636363636, 'max_attempts': 6.890909090909091}}}, 6: {'easy': {'win': {'win_rate': 0.0547945205479452, 'max_attempts': 5.890410958904109}, 'lose': {'win_rate': 0.9452054794520548, 'max_attempts': 6.890410958904109}}, 'medium': {'win': {'win_rate': 0.0547945205479452, 'max_attempts': 5.890410958904109}, 'lose': {'win_rate': 0.9452054794520548, 'max_attempts': 6.890410958904109}}, 'hard': {'win': {'win_rate': 0.0547945205479452, 'max_attempts': 5.890410958904109}, 'lose': {'win_rate': 0.9452054794520548, 'max_attempts': 6.890410958904109}}}, 15: {'easy': {'win': {'win_rate': 0.22727272727272727, 'max_attempts': 5.7272727272727275}, 'lose': {'win_rate': 0.7727272727272727, 'max_attempts': 6.7272727272727275}}, 'medium': {'win': {'win_rate': 0.22727272727272727, 'max_attempts': 5.7272727272727275}, 'lose': {'win_rate': 0.7727272727272727, 'max_attempts': 6.7272727272727275}}, 'hard': {'win': {'win_rate': 0.22727272727272727, 'max_attempts': 5.7272727272727275}, 'lose': {'win_rate': 0.7727272727272727, 'max_attempts': 6.7272727272727275}}}, 13: {'easy': {'win': {'win_rate': 0.23943661971830985, 'max_attempts': 5.633802816901408}, 'lose': {'win_rate': 0.7605633802816901, 'max_attempts': 6.633802816901408}}, 'medium': {'win': {'win_rate': 0.23943661971830985, 'max_attempts': 5.633802816901408}, 'lose': {'win_rate': 0.7605633802816901, 'max_attempts': 6.633802816901408}}, 'hard': {'win': {'win_rate': 0.23943661971830985, 'max_attempts': 5.633802816901408}, 'lose': {'win_rate': 0.7605633802816901, 'max_attempts': 6.633802816901408}}}, 11: {'easy': {'win': {'win_rate': 0.1836734693877551, 'max_attempts': 5.642857142857143}, 'lose': {'win_rate': 0.8163265306122449, 'max_attempts': 6.642857142857143}}, 'medium': {'win': {'win_rate': 0.1836734693877551, 'max_attempts': 5.642857142857143}, 'lose': {'win_rate': 0.8163265306122449, 'max_attempts': 6.642857142857143}}, 'hard': {'win': {'win_rate': 0.1836734693877551, 'max_attempts': 5.642857142857143}, 'lose': {'win_rate': 0.8163265306122449, 'max_attempts': 6.642857142857143}}}, 9: {'easy': {'win': {'win_rate': 0.15602836879432624, 'max_attempts': 5.666666666666667}, 'lose': {'win_rate': 0.8439716312056738, 'max_attempts': 6.666666666666667}}, 'medium': {'win': {'win_rate': 0.15602836879432624, 'max_attempts': 5.666666666666667}, 'lose': {'win_rate': 0.8439716312056738, 'max_attempts': 6.666666666666667}}, 'hard': {'win': {'win_rate': 0.15602836879432624, 'max_attempts': 5.666666666666667}, 'lose': {'win_rate': 0.8439716312056738, 'max_attempts': 6.666666666666667}}}, 12: {'easy': {'win': {'win_rate': 0.16, 'max_attempts': 5.653333333333333}, 'lose': {'win_rate': 0.84, 'max_attempts': 6.653333333333333}}, 'medium': {'win': {'win_rate': 0.16, 'max_attempts': 5.653333333333333}, 'lose': {'win_rate': 0.84, 'max_attempts': 6.653333333333333}}, 'hard': {'win': {'win_rate': 0.16, 'max_attempts': 5.653333333333333}, 'lose': {'win_rate': 0.84, 'max_attempts': 6.653333333333333}}}, 18: {'easy': {'win': {'win_rate': 0.25, 'max_attempts': 5.75}, 'lose': {'win_rate': 0.75, 'max_attempts': 6.75}}, 'medium': {'win': {'win_rate': 0.25, 'max_attempts': 5.75}, 'lose': {'win_rate': 0.75, 'max_attempts': 6.75}}, 'hard': {'win': {'win_rate': 0.25, 'max_attempts': 5.75}, 'lose': {'win_rate': 0.75, 'max_attempts': 6.75}}}, 8: {'easy': {'win': {'win_rate': 0.09523809523809523, 'max_attempts': 5.836734693877551}, 'lose': {'win_rate': 0.9047619047619048, 'max_attempts': 6.836734693877551}}, 'medium': {'win': {'win_rate': 0.09523809523809523, 'max_attempts': 5.836734693877551}, 'lose': {'win_rate': 0.9047619047619048, 'max_attempts': 6.836734693877551}}, 'hard': {'win': {'win_rate': 0.09523809523809523, 'max_attempts': 5.836734693877551}, 'lose': {'win_rate': 0.9047619047619048, 'max_attempts': 6.836734693877551}}}, 14: {'easy': {'win': {'win_rate': 0.19047619047619047, 'max_attempts': 5.5476190476190474}, 'lose': {'win_rate': 0.8095238095238095, 'max_attempts': 6.5476190476190474}}, 'medium': {'win': {'win_rate': 0.19047619047619047, 'max_attempts': 5.5476190476190474}, 'lose': {'win_rate': 0.8095238095238095, 'max_attempts': 6.5476190476190474}}, 'hard': {'win': {'win_rate': 0.19047619047619047, 'max_attempts': 5.5476190476190474}, 'lose': {'win_rate': 0.8095238095238095, 'max_attempts': 6.5476190476190474}}}, 10: {'easy': {'win': {'win_rate': 0.12727272727272726, 'max_attempts': 5.781818181818182}, 'lose': {'win_rate': 0.8727272727272728, 'max_attempts': 6.781818181818182}}, 'medium': {'win': {'win_rate': 0.12727272727272726, 'max_attempts': 5.781818181818182}, 'lose': {'win_rate': 0.8727272727272728, 'max_attempts': 6.781818181818182}}, 'hard': {'win': {'win_rate': 0.12727272727272726, 'max_attempts': 5.781818181818182}, 'lose': {'win_rate': 0.8727272727272728, 'max_attempts': 6.781818181818182}}}, 7: {'easy': {'win': {'win_rate': 0.09, 'max_attempts': 5.79}, 'lose': {'win_rate': 0.91, 'max_attempts': 6.79}}, 'medium': {'win': {'win_rate': 0.09, 'max_attempts': 5.79}, 'lose': {'win_rate': 0.91, 'max_attempts': 6.79}}, 'hard': {'win': {'win_rate': 0.09, 'max_attempts': 5.79}, 'lose': {'win_rate': 0.91, 'max_attempts': 6.79}}}, 19: {'easy': {'win': {'win_rate': 0.0, 'max_attempts': 6.0}, 'lose': {'win_rate': 1.0, 'max_attempts': 7.0}}, 'medium': {'win': {'win_rate': 0.0, 'max_attempts': 6.0}, 'lose': {'win_rate': 1.0, 'max_attempts': 7.0}}, 'hard': {'win': {'win_rate': 0.0, 'max_attempts': 6.0}, 'lose': {'win_rate': 1.0, 'max_attempts': 7.0}}}, 16: {'easy': {'win': {'win_rate': 0.3333333333333333, 'max_attempts': 5.333333333333333}, 'lose': {'win_rate': 0.6666666666666667, 'max_attempts': 6.333333333333333}}, 'medium': {'win': {'win_rate': 0.3333333333333333, 'max_attempts': 5.333333333333333}, 'lose': {'win_rate': 0.6666666666666667, 'max_attempts': 6.333333333333333}}, 'hard': {'win': {'win_rate': 0.3333333333333333, 'max_attempts': 5.333333333333333}, 'lose': {'win_rate': 0.6666666666666667, 'max_attempts': 6.333333333333333}}}, 24: {'easy': {'win': {'win_rate': 0.0, 'max_attempts': 6.0}, 'lose': {'win_rate': 1.0, 'max_attempts': 7.0}}, 'medium': {'win': {'win_rate': 0.0, 'max_attempts': 6.0}, 'lose': {'win_rate': 1.0, 'max_attempts': 7.0}}, 'hard': {'win': {'win_rate': 0.0, 'max_attempts': 6.0}, 'lose': {'win_rate': 1.0, 'max_attempts': 7.0}}}, 17: {'easy': {'win': {'win_rate': 0.2, 'max_attempts': 5.6}, 'lose': {'win_rate': 0.8, 'max_attempts': 6.6}}, 'medium': {'win': {'win_rate': 0.2, 'max_attempts': 5.6}, 'lose': {'win_rate': 0.8, 'max_attempts': 6.6}}, 'hard': {'win': {'win_rate': 0.2, 'max_attempts': 5.6}, 'lose': {'win_rate': 0.8, 'max_attempts': 6.6}}}, 1: {'easy': {'win': {'win_rate': 0.0, 'max_attempts': 6.0}, 'lose': {'win_rate': 1.0, 'max_attempts': 7.0}}, 'medium': {'win': {'win_rate': 0.0, 'max_attempts': 6.0}, 'lose': {'win_rate': 1.0, 'max_attempts': 7.0}}, 'hard': {'win': {'win_rate': 0.0, 'max_attempts': 6.0}, 'lose': {'win_rate': 1.0, 'max_attempts': 7.0}}}, 3: {'easy': {'win': {'win_rate': 0.16666666666666666, 'max_attempts': 5.833333333333333}, 'lose': {'win_rate': 0.8333333333333334, 'max_attempts': 6.833333333333333}}, 'medium': {'win': {'win_rate': 0.16666666666666666, 'max_attempts': 5.833333333333333}, 'lose': {'win_rate': 0.8333333333333334, 'max_attempts': 6.833333333333333}}, 'hard': {'win': {'win_rate': 0.16666666666666666, 'max_attempts': 5.833333333333333}, 'lose': {'win_rate': 0.8333333333333334, 'max_attempts': 6.833333333333333}}}, 20: {'easy': {'win': {'win_rate': 0.0, 'max_attempts': 6.0}, 'lose': {'win_rate': 1.0, 'max_attempts': 7.0}}, 'medium': {'win': {'win_rate': 0.0, 'max_attempts': 6.0}, 'lose': {'win_rate': 1.0, 'max_attempts': 7.0}}, 'hard': {'win': {'win_rate': 0.0, 'max_attempts': 6.0}, 'lose': {'win_rate': 1.0, 'max_attempts': 7.0}}}, 2: {'easy': {'win': {'win_rate': 0.0, 'max_attempts': 6.0}, 'lose': {'win_rate': 1.0, 'max_attempts': 7.0}}, 'medium': {'win': {'win_rate': 0.0, 'max_attempts': 6.0}, 'lose': {'win_rate': 1.0, 'max_attempts': 7.0}}, 'hard': {'win': {'win_rate': 0.0, 'max_attempts': 6.0}, 'lose': {'win_rate': 1.0, 'max_attempts': 7.0}}}}\n",
      "Epoch 6: Training - Avg Loss: 0.01716691644396633, Avg Miss Penalty: 0.017089717742055654\n",
      "Epoch 6: Validation - Win Rate: 0.137\n"
     ]
    },
    {
     "name": "stderr",
     "output_type": "stream",
     "text": [
      "Epochs:  35%|███▌      | 7/20 [01:37<03:00, 13.88s/it]"
     ]
    },
    {
     "name": "stdout",
     "output_type": "stream",
     "text": [
      "Epoch 00007: reducing learning rate of group 0 to 2.5000e-05.\n",
      "{4: {'easy': {'win': {'win_rate': 0.13333333333333333, 'max_attempts': 5.833333333333333}, 'lose': {'win_rate': 0.8666666666666667, 'max_attempts': 6.833333333333333}}, 'medium': {'win': {'win_rate': 0.13333333333333333, 'max_attempts': 5.833333333333333}, 'lose': {'win_rate': 0.8666666666666667, 'max_attempts': 6.833333333333333}}, 'hard': {'win': {'win_rate': 0.13333333333333333, 'max_attempts': 5.833333333333333}, 'lose': {'win_rate': 0.8666666666666667, 'max_attempts': 6.833333333333333}}}, 5: {'easy': {'win': {'win_rate': 0.03636363636363636, 'max_attempts': 5.890909090909091}, 'lose': {'win_rate': 0.9636363636363636, 'max_attempts': 6.890909090909091}}, 'medium': {'win': {'win_rate': 0.03636363636363636, 'max_attempts': 5.890909090909091}, 'lose': {'win_rate': 0.9636363636363636, 'max_attempts': 6.890909090909091}}, 'hard': {'win': {'win_rate': 0.03636363636363636, 'max_attempts': 5.890909090909091}, 'lose': {'win_rate': 0.9636363636363636, 'max_attempts': 6.890909090909091}}}, 6: {'easy': {'win': {'win_rate': 0.0547945205479452, 'max_attempts': 5.890410958904109}, 'lose': {'win_rate': 0.9452054794520548, 'max_attempts': 6.890410958904109}}, 'medium': {'win': {'win_rate': 0.0547945205479452, 'max_attempts': 5.890410958904109}, 'lose': {'win_rate': 0.9452054794520548, 'max_attempts': 6.890410958904109}}, 'hard': {'win': {'win_rate': 0.0547945205479452, 'max_attempts': 5.890410958904109}, 'lose': {'win_rate': 0.9452054794520548, 'max_attempts': 6.890410958904109}}}, 15: {'easy': {'win': {'win_rate': 0.22727272727272727, 'max_attempts': 5.7272727272727275}, 'lose': {'win_rate': 0.7727272727272727, 'max_attempts': 6.7272727272727275}}, 'medium': {'win': {'win_rate': 0.22727272727272727, 'max_attempts': 5.7272727272727275}, 'lose': {'win_rate': 0.7727272727272727, 'max_attempts': 6.7272727272727275}}, 'hard': {'win': {'win_rate': 0.22727272727272727, 'max_attempts': 5.7272727272727275}, 'lose': {'win_rate': 0.7727272727272727, 'max_attempts': 6.7272727272727275}}}, 13: {'easy': {'win': {'win_rate': 0.23943661971830985, 'max_attempts': 5.633802816901408}, 'lose': {'win_rate': 0.7605633802816901, 'max_attempts': 6.633802816901408}}, 'medium': {'win': {'win_rate': 0.23943661971830985, 'max_attempts': 5.633802816901408}, 'lose': {'win_rate': 0.7605633802816901, 'max_attempts': 6.633802816901408}}, 'hard': {'win': {'win_rate': 0.23943661971830985, 'max_attempts': 5.633802816901408}, 'lose': {'win_rate': 0.7605633802816901, 'max_attempts': 6.633802816901408}}}, 11: {'easy': {'win': {'win_rate': 0.1836734693877551, 'max_attempts': 5.642857142857143}, 'lose': {'win_rate': 0.8163265306122449, 'max_attempts': 6.642857142857143}}, 'medium': {'win': {'win_rate': 0.1836734693877551, 'max_attempts': 5.642857142857143}, 'lose': {'win_rate': 0.8163265306122449, 'max_attempts': 6.642857142857143}}, 'hard': {'win': {'win_rate': 0.1836734693877551, 'max_attempts': 5.642857142857143}, 'lose': {'win_rate': 0.8163265306122449, 'max_attempts': 6.642857142857143}}}, 9: {'easy': {'win': {'win_rate': 0.15602836879432624, 'max_attempts': 5.666666666666667}, 'lose': {'win_rate': 0.8439716312056738, 'max_attempts': 6.666666666666667}}, 'medium': {'win': {'win_rate': 0.15602836879432624, 'max_attempts': 5.666666666666667}, 'lose': {'win_rate': 0.8439716312056738, 'max_attempts': 6.666666666666667}}, 'hard': {'win': {'win_rate': 0.15602836879432624, 'max_attempts': 5.666666666666667}, 'lose': {'win_rate': 0.8439716312056738, 'max_attempts': 6.666666666666667}}}, 12: {'easy': {'win': {'win_rate': 0.16, 'max_attempts': 5.653333333333333}, 'lose': {'win_rate': 0.84, 'max_attempts': 6.653333333333333}}, 'medium': {'win': {'win_rate': 0.16, 'max_attempts': 5.653333333333333}, 'lose': {'win_rate': 0.84, 'max_attempts': 6.653333333333333}}, 'hard': {'win': {'win_rate': 0.16, 'max_attempts': 5.653333333333333}, 'lose': {'win_rate': 0.84, 'max_attempts': 6.653333333333333}}}, 18: {'easy': {'win': {'win_rate': 0.25, 'max_attempts': 5.75}, 'lose': {'win_rate': 0.75, 'max_attempts': 6.75}}, 'medium': {'win': {'win_rate': 0.25, 'max_attempts': 5.75}, 'lose': {'win_rate': 0.75, 'max_attempts': 6.75}}, 'hard': {'win': {'win_rate': 0.25, 'max_attempts': 5.75}, 'lose': {'win_rate': 0.75, 'max_attempts': 6.75}}}, 8: {'easy': {'win': {'win_rate': 0.09523809523809523, 'max_attempts': 5.836734693877551}, 'lose': {'win_rate': 0.9047619047619048, 'max_attempts': 6.836734693877551}}, 'medium': {'win': {'win_rate': 0.09523809523809523, 'max_attempts': 5.836734693877551}, 'lose': {'win_rate': 0.9047619047619048, 'max_attempts': 6.836734693877551}}, 'hard': {'win': {'win_rate': 0.09523809523809523, 'max_attempts': 5.836734693877551}, 'lose': {'win_rate': 0.9047619047619048, 'max_attempts': 6.836734693877551}}}, 14: {'easy': {'win': {'win_rate': 0.19047619047619047, 'max_attempts': 5.5476190476190474}, 'lose': {'win_rate': 0.8095238095238095, 'max_attempts': 6.5476190476190474}}, 'medium': {'win': {'win_rate': 0.19047619047619047, 'max_attempts': 5.5476190476190474}, 'lose': {'win_rate': 0.8095238095238095, 'max_attempts': 6.5476190476190474}}, 'hard': {'win': {'win_rate': 0.19047619047619047, 'max_attempts': 5.5476190476190474}, 'lose': {'win_rate': 0.8095238095238095, 'max_attempts': 6.5476190476190474}}}, 10: {'easy': {'win': {'win_rate': 0.12727272727272726, 'max_attempts': 5.781818181818182}, 'lose': {'win_rate': 0.8727272727272728, 'max_attempts': 6.781818181818182}}, 'medium': {'win': {'win_rate': 0.12727272727272726, 'max_attempts': 5.781818181818182}, 'lose': {'win_rate': 0.8727272727272728, 'max_attempts': 6.781818181818182}}, 'hard': {'win': {'win_rate': 0.12727272727272726, 'max_attempts': 5.781818181818182}, 'lose': {'win_rate': 0.8727272727272728, 'max_attempts': 6.781818181818182}}}, 7: {'easy': {'win': {'win_rate': 0.09, 'max_attempts': 5.79}, 'lose': {'win_rate': 0.91, 'max_attempts': 6.79}}, 'medium': {'win': {'win_rate': 0.09, 'max_attempts': 5.79}, 'lose': {'win_rate': 0.91, 'max_attempts': 6.79}}, 'hard': {'win': {'win_rate': 0.09, 'max_attempts': 5.79}, 'lose': {'win_rate': 0.91, 'max_attempts': 6.79}}}, 19: {'easy': {'win': {'win_rate': 0.0, 'max_attempts': 6.0}, 'lose': {'win_rate': 1.0, 'max_attempts': 7.0}}, 'medium': {'win': {'win_rate': 0.0, 'max_attempts': 6.0}, 'lose': {'win_rate': 1.0, 'max_attempts': 7.0}}, 'hard': {'win': {'win_rate': 0.0, 'max_attempts': 6.0}, 'lose': {'win_rate': 1.0, 'max_attempts': 7.0}}}, 16: {'easy': {'win': {'win_rate': 0.3333333333333333, 'max_attempts': 5.333333333333333}, 'lose': {'win_rate': 0.6666666666666667, 'max_attempts': 6.333333333333333}}, 'medium': {'win': {'win_rate': 0.3333333333333333, 'max_attempts': 5.333333333333333}, 'lose': {'win_rate': 0.6666666666666667, 'max_attempts': 6.333333333333333}}, 'hard': {'win': {'win_rate': 0.3333333333333333, 'max_attempts': 5.333333333333333}, 'lose': {'win_rate': 0.6666666666666667, 'max_attempts': 6.333333333333333}}}, 24: {'easy': {'win': {'win_rate': 0.0, 'max_attempts': 6.0}, 'lose': {'win_rate': 1.0, 'max_attempts': 7.0}}, 'medium': {'win': {'win_rate': 0.0, 'max_attempts': 6.0}, 'lose': {'win_rate': 1.0, 'max_attempts': 7.0}}, 'hard': {'win': {'win_rate': 0.0, 'max_attempts': 6.0}, 'lose': {'win_rate': 1.0, 'max_attempts': 7.0}}}, 17: {'easy': {'win': {'win_rate': 0.2, 'max_attempts': 5.6}, 'lose': {'win_rate': 0.8, 'max_attempts': 6.6}}, 'medium': {'win': {'win_rate': 0.2, 'max_attempts': 5.6}, 'lose': {'win_rate': 0.8, 'max_attempts': 6.6}}, 'hard': {'win': {'win_rate': 0.2, 'max_attempts': 5.6}, 'lose': {'win_rate': 0.8, 'max_attempts': 6.6}}}, 1: {'easy': {'win': {'win_rate': 0.0, 'max_attempts': 6.0}, 'lose': {'win_rate': 1.0, 'max_attempts': 7.0}}, 'medium': {'win': {'win_rate': 0.0, 'max_attempts': 6.0}, 'lose': {'win_rate': 1.0, 'max_attempts': 7.0}}, 'hard': {'win': {'win_rate': 0.0, 'max_attempts': 6.0}, 'lose': {'win_rate': 1.0, 'max_attempts': 7.0}}}, 3: {'easy': {'win': {'win_rate': 0.16666666666666666, 'max_attempts': 5.833333333333333}, 'lose': {'win_rate': 0.8333333333333334, 'max_attempts': 6.833333333333333}}, 'medium': {'win': {'win_rate': 0.16666666666666666, 'max_attempts': 5.833333333333333}, 'lose': {'win_rate': 0.8333333333333334, 'max_attempts': 6.833333333333333}}, 'hard': {'win': {'win_rate': 0.16666666666666666, 'max_attempts': 5.833333333333333}, 'lose': {'win_rate': 0.8333333333333334, 'max_attempts': 6.833333333333333}}}, 20: {'easy': {'win': {'win_rate': 0.0, 'max_attempts': 6.0}, 'lose': {'win_rate': 1.0, 'max_attempts': 7.0}}, 'medium': {'win': {'win_rate': 0.0, 'max_attempts': 6.0}, 'lose': {'win_rate': 1.0, 'max_attempts': 7.0}}, 'hard': {'win': {'win_rate': 0.0, 'max_attempts': 6.0}, 'lose': {'win_rate': 1.0, 'max_attempts': 7.0}}}, 2: {'easy': {'win': {'win_rate': 0.0, 'max_attempts': 6.0}, 'lose': {'win_rate': 1.0, 'max_attempts': 7.0}}, 'medium': {'win': {'win_rate': 0.0, 'max_attempts': 6.0}, 'lose': {'win_rate': 1.0, 'max_attempts': 7.0}}, 'hard': {'win': {'win_rate': 0.0, 'max_attempts': 6.0}, 'lose': {'win_rate': 1.0, 'max_attempts': 7.0}}}}\n",
      "Epoch 7: Training - Avg Loss: 0.017132705729454755, Avg Miss Penalty: 0.015466577070765198\n",
      "Epoch 7: Validation - Win Rate: 0.137\n"
     ]
    },
    {
     "name": "stderr",
     "output_type": "stream",
     "text": [
      "Epochs:  40%|████      | 8/20 [01:51<02:46, 13.91s/it]"
     ]
    },
    {
     "name": "stdout",
     "output_type": "stream",
     "text": [
      "{4: {'easy': {'win': {'win_rate': 0.13333333333333333, 'max_attempts': 5.833333333333333}, 'lose': {'win_rate': 0.8666666666666667, 'max_attempts': 6.833333333333333}}, 'medium': {'win': {'win_rate': 0.13333333333333333, 'max_attempts': 5.833333333333333}, 'lose': {'win_rate': 0.8666666666666667, 'max_attempts': 6.833333333333333}}, 'hard': {'win': {'win_rate': 0.13333333333333333, 'max_attempts': 5.833333333333333}, 'lose': {'win_rate': 0.8666666666666667, 'max_attempts': 6.833333333333333}}}, 5: {'easy': {'win': {'win_rate': 0.03636363636363636, 'max_attempts': 5.890909090909091}, 'lose': {'win_rate': 0.9636363636363636, 'max_attempts': 6.890909090909091}}, 'medium': {'win': {'win_rate': 0.03636363636363636, 'max_attempts': 5.890909090909091}, 'lose': {'win_rate': 0.9636363636363636, 'max_attempts': 6.890909090909091}}, 'hard': {'win': {'win_rate': 0.03636363636363636, 'max_attempts': 5.890909090909091}, 'lose': {'win_rate': 0.9636363636363636, 'max_attempts': 6.890909090909091}}}, 6: {'easy': {'win': {'win_rate': 0.0547945205479452, 'max_attempts': 5.890410958904109}, 'lose': {'win_rate': 0.9452054794520548, 'max_attempts': 6.890410958904109}}, 'medium': {'win': {'win_rate': 0.0547945205479452, 'max_attempts': 5.890410958904109}, 'lose': {'win_rate': 0.9452054794520548, 'max_attempts': 6.890410958904109}}, 'hard': {'win': {'win_rate': 0.0547945205479452, 'max_attempts': 5.890410958904109}, 'lose': {'win_rate': 0.9452054794520548, 'max_attempts': 6.890410958904109}}}, 15: {'easy': {'win': {'win_rate': 0.22727272727272727, 'max_attempts': 5.7272727272727275}, 'lose': {'win_rate': 0.7727272727272727, 'max_attempts': 6.7272727272727275}}, 'medium': {'win': {'win_rate': 0.22727272727272727, 'max_attempts': 5.7272727272727275}, 'lose': {'win_rate': 0.7727272727272727, 'max_attempts': 6.7272727272727275}}, 'hard': {'win': {'win_rate': 0.22727272727272727, 'max_attempts': 5.7272727272727275}, 'lose': {'win_rate': 0.7727272727272727, 'max_attempts': 6.7272727272727275}}}, 13: {'easy': {'win': {'win_rate': 0.23943661971830985, 'max_attempts': 5.633802816901408}, 'lose': {'win_rate': 0.7605633802816901, 'max_attempts': 6.633802816901408}}, 'medium': {'win': {'win_rate': 0.23943661971830985, 'max_attempts': 5.633802816901408}, 'lose': {'win_rate': 0.7605633802816901, 'max_attempts': 6.633802816901408}}, 'hard': {'win': {'win_rate': 0.23943661971830985, 'max_attempts': 5.633802816901408}, 'lose': {'win_rate': 0.7605633802816901, 'max_attempts': 6.633802816901408}}}, 11: {'easy': {'win': {'win_rate': 0.1836734693877551, 'max_attempts': 5.642857142857143}, 'lose': {'win_rate': 0.8163265306122449, 'max_attempts': 6.642857142857143}}, 'medium': {'win': {'win_rate': 0.1836734693877551, 'max_attempts': 5.642857142857143}, 'lose': {'win_rate': 0.8163265306122449, 'max_attempts': 6.642857142857143}}, 'hard': {'win': {'win_rate': 0.1836734693877551, 'max_attempts': 5.642857142857143}, 'lose': {'win_rate': 0.8163265306122449, 'max_attempts': 6.642857142857143}}}, 9: {'easy': {'win': {'win_rate': 0.15602836879432624, 'max_attempts': 5.666666666666667}, 'lose': {'win_rate': 0.8439716312056738, 'max_attempts': 6.666666666666667}}, 'medium': {'win': {'win_rate': 0.15602836879432624, 'max_attempts': 5.666666666666667}, 'lose': {'win_rate': 0.8439716312056738, 'max_attempts': 6.666666666666667}}, 'hard': {'win': {'win_rate': 0.15602836879432624, 'max_attempts': 5.666666666666667}, 'lose': {'win_rate': 0.8439716312056738, 'max_attempts': 6.666666666666667}}}, 12: {'easy': {'win': {'win_rate': 0.16, 'max_attempts': 5.653333333333333}, 'lose': {'win_rate': 0.84, 'max_attempts': 6.653333333333333}}, 'medium': {'win': {'win_rate': 0.16, 'max_attempts': 5.653333333333333}, 'lose': {'win_rate': 0.84, 'max_attempts': 6.653333333333333}}, 'hard': {'win': {'win_rate': 0.16, 'max_attempts': 5.653333333333333}, 'lose': {'win_rate': 0.84, 'max_attempts': 6.653333333333333}}}, 18: {'easy': {'win': {'win_rate': 0.25, 'max_attempts': 5.75}, 'lose': {'win_rate': 0.75, 'max_attempts': 6.75}}, 'medium': {'win': {'win_rate': 0.25, 'max_attempts': 5.75}, 'lose': {'win_rate': 0.75, 'max_attempts': 6.75}}, 'hard': {'win': {'win_rate': 0.25, 'max_attempts': 5.75}, 'lose': {'win_rate': 0.75, 'max_attempts': 6.75}}}, 8: {'easy': {'win': {'win_rate': 0.09523809523809523, 'max_attempts': 5.836734693877551}, 'lose': {'win_rate': 0.9047619047619048, 'max_attempts': 6.836734693877551}}, 'medium': {'win': {'win_rate': 0.09523809523809523, 'max_attempts': 5.836734693877551}, 'lose': {'win_rate': 0.9047619047619048, 'max_attempts': 6.836734693877551}}, 'hard': {'win': {'win_rate': 0.09523809523809523, 'max_attempts': 5.836734693877551}, 'lose': {'win_rate': 0.9047619047619048, 'max_attempts': 6.836734693877551}}}, 14: {'easy': {'win': {'win_rate': 0.19047619047619047, 'max_attempts': 5.5476190476190474}, 'lose': {'win_rate': 0.8095238095238095, 'max_attempts': 6.5476190476190474}}, 'medium': {'win': {'win_rate': 0.19047619047619047, 'max_attempts': 5.5476190476190474}, 'lose': {'win_rate': 0.8095238095238095, 'max_attempts': 6.5476190476190474}}, 'hard': {'win': {'win_rate': 0.19047619047619047, 'max_attempts': 5.5476190476190474}, 'lose': {'win_rate': 0.8095238095238095, 'max_attempts': 6.5476190476190474}}}, 10: {'easy': {'win': {'win_rate': 0.12727272727272726, 'max_attempts': 5.781818181818182}, 'lose': {'win_rate': 0.8727272727272728, 'max_attempts': 6.781818181818182}}, 'medium': {'win': {'win_rate': 0.12727272727272726, 'max_attempts': 5.781818181818182}, 'lose': {'win_rate': 0.8727272727272728, 'max_attempts': 6.781818181818182}}, 'hard': {'win': {'win_rate': 0.12727272727272726, 'max_attempts': 5.781818181818182}, 'lose': {'win_rate': 0.8727272727272728, 'max_attempts': 6.781818181818182}}}, 7: {'easy': {'win': {'win_rate': 0.09, 'max_attempts': 5.79}, 'lose': {'win_rate': 0.91, 'max_attempts': 6.79}}, 'medium': {'win': {'win_rate': 0.09, 'max_attempts': 5.79}, 'lose': {'win_rate': 0.91, 'max_attempts': 6.79}}, 'hard': {'win': {'win_rate': 0.09, 'max_attempts': 5.79}, 'lose': {'win_rate': 0.91, 'max_attempts': 6.79}}}, 19: {'easy': {'win': {'win_rate': 0.0, 'max_attempts': 6.0}, 'lose': {'win_rate': 1.0, 'max_attempts': 7.0}}, 'medium': {'win': {'win_rate': 0.0, 'max_attempts': 6.0}, 'lose': {'win_rate': 1.0, 'max_attempts': 7.0}}, 'hard': {'win': {'win_rate': 0.0, 'max_attempts': 6.0}, 'lose': {'win_rate': 1.0, 'max_attempts': 7.0}}}, 16: {'easy': {'win': {'win_rate': 0.3333333333333333, 'max_attempts': 5.333333333333333}, 'lose': {'win_rate': 0.6666666666666667, 'max_attempts': 6.333333333333333}}, 'medium': {'win': {'win_rate': 0.3333333333333333, 'max_attempts': 5.333333333333333}, 'lose': {'win_rate': 0.6666666666666667, 'max_attempts': 6.333333333333333}}, 'hard': {'win': {'win_rate': 0.3333333333333333, 'max_attempts': 5.333333333333333}, 'lose': {'win_rate': 0.6666666666666667, 'max_attempts': 6.333333333333333}}}, 24: {'easy': {'win': {'win_rate': 0.0, 'max_attempts': 6.0}, 'lose': {'win_rate': 1.0, 'max_attempts': 7.0}}, 'medium': {'win': {'win_rate': 0.0, 'max_attempts': 6.0}, 'lose': {'win_rate': 1.0, 'max_attempts': 7.0}}, 'hard': {'win': {'win_rate': 0.0, 'max_attempts': 6.0}, 'lose': {'win_rate': 1.0, 'max_attempts': 7.0}}}, 17: {'easy': {'win': {'win_rate': 0.2, 'max_attempts': 5.6}, 'lose': {'win_rate': 0.8, 'max_attempts': 6.6}}, 'medium': {'win': {'win_rate': 0.2, 'max_attempts': 5.6}, 'lose': {'win_rate': 0.8, 'max_attempts': 6.6}}, 'hard': {'win': {'win_rate': 0.2, 'max_attempts': 5.6}, 'lose': {'win_rate': 0.8, 'max_attempts': 6.6}}}, 1: {'easy': {'win': {'win_rate': 0.0, 'max_attempts': 6.0}, 'lose': {'win_rate': 1.0, 'max_attempts': 7.0}}, 'medium': {'win': {'win_rate': 0.0, 'max_attempts': 6.0}, 'lose': {'win_rate': 1.0, 'max_attempts': 7.0}}, 'hard': {'win': {'win_rate': 0.0, 'max_attempts': 6.0}, 'lose': {'win_rate': 1.0, 'max_attempts': 7.0}}}, 3: {'easy': {'win': {'win_rate': 0.16666666666666666, 'max_attempts': 5.833333333333333}, 'lose': {'win_rate': 0.8333333333333334, 'max_attempts': 6.833333333333333}}, 'medium': {'win': {'win_rate': 0.16666666666666666, 'max_attempts': 5.833333333333333}, 'lose': {'win_rate': 0.8333333333333334, 'max_attempts': 6.833333333333333}}, 'hard': {'win': {'win_rate': 0.16666666666666666, 'max_attempts': 5.833333333333333}, 'lose': {'win_rate': 0.8333333333333334, 'max_attempts': 6.833333333333333}}}, 20: {'easy': {'win': {'win_rate': 0.0, 'max_attempts': 6.0}, 'lose': {'win_rate': 1.0, 'max_attempts': 7.0}}, 'medium': {'win': {'win_rate': 0.0, 'max_attempts': 6.0}, 'lose': {'win_rate': 1.0, 'max_attempts': 7.0}}, 'hard': {'win': {'win_rate': 0.0, 'max_attempts': 6.0}, 'lose': {'win_rate': 1.0, 'max_attempts': 7.0}}}, 2: {'easy': {'win': {'win_rate': 0.0, 'max_attempts': 6.0}, 'lose': {'win_rate': 1.0, 'max_attempts': 7.0}}, 'medium': {'win': {'win_rate': 0.0, 'max_attempts': 6.0}, 'lose': {'win_rate': 1.0, 'max_attempts': 7.0}}, 'hard': {'win': {'win_rate': 0.0, 'max_attempts': 6.0}, 'lose': {'win_rate': 1.0, 'max_attempts': 7.0}}}}\n",
      "Epoch 8: Training - Avg Loss: 0.016773439524695278, Avg Miss Penalty: 0.013969547534361481\n",
      "Epoch 8: Validation - Win Rate: 0.137\n"
     ]
    },
    {
     "name": "stderr",
     "output_type": "stream",
     "text": [
      "Epochs:  45%|████▌     | 9/20 [02:05<02:33, 13.93s/it]"
     ]
    },
    {
     "name": "stdout",
     "output_type": "stream",
     "text": [
      "{4: {'easy': {'win': {'win_rate': 0.13333333333333333, 'max_attempts': 5.833333333333333}, 'lose': {'win_rate': 0.8666666666666667, 'max_attempts': 6.833333333333333}}, 'medium': {'win': {'win_rate': 0.13333333333333333, 'max_attempts': 5.833333333333333}, 'lose': {'win_rate': 0.8666666666666667, 'max_attempts': 6.833333333333333}}, 'hard': {'win': {'win_rate': 0.13333333333333333, 'max_attempts': 5.833333333333333}, 'lose': {'win_rate': 0.8666666666666667, 'max_attempts': 6.833333333333333}}}, 5: {'easy': {'win': {'win_rate': 0.03636363636363636, 'max_attempts': 5.890909090909091}, 'lose': {'win_rate': 0.9636363636363636, 'max_attempts': 6.890909090909091}}, 'medium': {'win': {'win_rate': 0.03636363636363636, 'max_attempts': 5.890909090909091}, 'lose': {'win_rate': 0.9636363636363636, 'max_attempts': 6.890909090909091}}, 'hard': {'win': {'win_rate': 0.03636363636363636, 'max_attempts': 5.890909090909091}, 'lose': {'win_rate': 0.9636363636363636, 'max_attempts': 6.890909090909091}}}, 6: {'easy': {'win': {'win_rate': 0.0547945205479452, 'max_attempts': 5.890410958904109}, 'lose': {'win_rate': 0.9452054794520548, 'max_attempts': 6.890410958904109}}, 'medium': {'win': {'win_rate': 0.0547945205479452, 'max_attempts': 5.890410958904109}, 'lose': {'win_rate': 0.9452054794520548, 'max_attempts': 6.890410958904109}}, 'hard': {'win': {'win_rate': 0.0547945205479452, 'max_attempts': 5.890410958904109}, 'lose': {'win_rate': 0.9452054794520548, 'max_attempts': 6.890410958904109}}}, 15: {'easy': {'win': {'win_rate': 0.22727272727272727, 'max_attempts': 5.7272727272727275}, 'lose': {'win_rate': 0.7727272727272727, 'max_attempts': 6.7272727272727275}}, 'medium': {'win': {'win_rate': 0.22727272727272727, 'max_attempts': 5.7272727272727275}, 'lose': {'win_rate': 0.7727272727272727, 'max_attempts': 6.7272727272727275}}, 'hard': {'win': {'win_rate': 0.22727272727272727, 'max_attempts': 5.7272727272727275}, 'lose': {'win_rate': 0.7727272727272727, 'max_attempts': 6.7272727272727275}}}, 13: {'easy': {'win': {'win_rate': 0.23943661971830985, 'max_attempts': 5.633802816901408}, 'lose': {'win_rate': 0.7605633802816901, 'max_attempts': 6.633802816901408}}, 'medium': {'win': {'win_rate': 0.23943661971830985, 'max_attempts': 5.633802816901408}, 'lose': {'win_rate': 0.7605633802816901, 'max_attempts': 6.633802816901408}}, 'hard': {'win': {'win_rate': 0.23943661971830985, 'max_attempts': 5.633802816901408}, 'lose': {'win_rate': 0.7605633802816901, 'max_attempts': 6.633802816901408}}}, 11: {'easy': {'win': {'win_rate': 0.1836734693877551, 'max_attempts': 5.642857142857143}, 'lose': {'win_rate': 0.8163265306122449, 'max_attempts': 6.642857142857143}}, 'medium': {'win': {'win_rate': 0.1836734693877551, 'max_attempts': 5.642857142857143}, 'lose': {'win_rate': 0.8163265306122449, 'max_attempts': 6.642857142857143}}, 'hard': {'win': {'win_rate': 0.1836734693877551, 'max_attempts': 5.642857142857143}, 'lose': {'win_rate': 0.8163265306122449, 'max_attempts': 6.642857142857143}}}, 9: {'easy': {'win': {'win_rate': 0.15602836879432624, 'max_attempts': 5.666666666666667}, 'lose': {'win_rate': 0.8439716312056738, 'max_attempts': 6.666666666666667}}, 'medium': {'win': {'win_rate': 0.15602836879432624, 'max_attempts': 5.666666666666667}, 'lose': {'win_rate': 0.8439716312056738, 'max_attempts': 6.666666666666667}}, 'hard': {'win': {'win_rate': 0.15602836879432624, 'max_attempts': 5.666666666666667}, 'lose': {'win_rate': 0.8439716312056738, 'max_attempts': 6.666666666666667}}}, 12: {'easy': {'win': {'win_rate': 0.16, 'max_attempts': 5.653333333333333}, 'lose': {'win_rate': 0.84, 'max_attempts': 6.653333333333333}}, 'medium': {'win': {'win_rate': 0.16, 'max_attempts': 5.653333333333333}, 'lose': {'win_rate': 0.84, 'max_attempts': 6.653333333333333}}, 'hard': {'win': {'win_rate': 0.16, 'max_attempts': 5.653333333333333}, 'lose': {'win_rate': 0.84, 'max_attempts': 6.653333333333333}}}, 18: {'easy': {'win': {'win_rate': 0.25, 'max_attempts': 5.75}, 'lose': {'win_rate': 0.75, 'max_attempts': 6.75}}, 'medium': {'win': {'win_rate': 0.25, 'max_attempts': 5.75}, 'lose': {'win_rate': 0.75, 'max_attempts': 6.75}}, 'hard': {'win': {'win_rate': 0.25, 'max_attempts': 5.75}, 'lose': {'win_rate': 0.75, 'max_attempts': 6.75}}}, 8: {'easy': {'win': {'win_rate': 0.09523809523809523, 'max_attempts': 5.836734693877551}, 'lose': {'win_rate': 0.9047619047619048, 'max_attempts': 6.836734693877551}}, 'medium': {'win': {'win_rate': 0.09523809523809523, 'max_attempts': 5.836734693877551}, 'lose': {'win_rate': 0.9047619047619048, 'max_attempts': 6.836734693877551}}, 'hard': {'win': {'win_rate': 0.09523809523809523, 'max_attempts': 5.836734693877551}, 'lose': {'win_rate': 0.9047619047619048, 'max_attempts': 6.836734693877551}}}, 14: {'easy': {'win': {'win_rate': 0.19047619047619047, 'max_attempts': 5.5476190476190474}, 'lose': {'win_rate': 0.8095238095238095, 'max_attempts': 6.5476190476190474}}, 'medium': {'win': {'win_rate': 0.19047619047619047, 'max_attempts': 5.5476190476190474}, 'lose': {'win_rate': 0.8095238095238095, 'max_attempts': 6.5476190476190474}}, 'hard': {'win': {'win_rate': 0.19047619047619047, 'max_attempts': 5.5476190476190474}, 'lose': {'win_rate': 0.8095238095238095, 'max_attempts': 6.5476190476190474}}}, 10: {'easy': {'win': {'win_rate': 0.12727272727272726, 'max_attempts': 5.781818181818182}, 'lose': {'win_rate': 0.8727272727272728, 'max_attempts': 6.781818181818182}}, 'medium': {'win': {'win_rate': 0.12727272727272726, 'max_attempts': 5.781818181818182}, 'lose': {'win_rate': 0.8727272727272728, 'max_attempts': 6.781818181818182}}, 'hard': {'win': {'win_rate': 0.12727272727272726, 'max_attempts': 5.781818181818182}, 'lose': {'win_rate': 0.8727272727272728, 'max_attempts': 6.781818181818182}}}, 7: {'easy': {'win': {'win_rate': 0.09, 'max_attempts': 5.79}, 'lose': {'win_rate': 0.91, 'max_attempts': 6.79}}, 'medium': {'win': {'win_rate': 0.09, 'max_attempts': 5.79}, 'lose': {'win_rate': 0.91, 'max_attempts': 6.79}}, 'hard': {'win': {'win_rate': 0.09, 'max_attempts': 5.79}, 'lose': {'win_rate': 0.91, 'max_attempts': 6.79}}}, 19: {'easy': {'win': {'win_rate': 0.0, 'max_attempts': 6.0}, 'lose': {'win_rate': 1.0, 'max_attempts': 7.0}}, 'medium': {'win': {'win_rate': 0.0, 'max_attempts': 6.0}, 'lose': {'win_rate': 1.0, 'max_attempts': 7.0}}, 'hard': {'win': {'win_rate': 0.0, 'max_attempts': 6.0}, 'lose': {'win_rate': 1.0, 'max_attempts': 7.0}}}, 16: {'easy': {'win': {'win_rate': 0.3333333333333333, 'max_attempts': 5.333333333333333}, 'lose': {'win_rate': 0.6666666666666667, 'max_attempts': 6.333333333333333}}, 'medium': {'win': {'win_rate': 0.3333333333333333, 'max_attempts': 5.333333333333333}, 'lose': {'win_rate': 0.6666666666666667, 'max_attempts': 6.333333333333333}}, 'hard': {'win': {'win_rate': 0.3333333333333333, 'max_attempts': 5.333333333333333}, 'lose': {'win_rate': 0.6666666666666667, 'max_attempts': 6.333333333333333}}}, 24: {'easy': {'win': {'win_rate': 0.0, 'max_attempts': 6.0}, 'lose': {'win_rate': 1.0, 'max_attempts': 7.0}}, 'medium': {'win': {'win_rate': 0.0, 'max_attempts': 6.0}, 'lose': {'win_rate': 1.0, 'max_attempts': 7.0}}, 'hard': {'win': {'win_rate': 0.0, 'max_attempts': 6.0}, 'lose': {'win_rate': 1.0, 'max_attempts': 7.0}}}, 17: {'easy': {'win': {'win_rate': 0.2, 'max_attempts': 5.6}, 'lose': {'win_rate': 0.8, 'max_attempts': 6.6}}, 'medium': {'win': {'win_rate': 0.2, 'max_attempts': 5.6}, 'lose': {'win_rate': 0.8, 'max_attempts': 6.6}}, 'hard': {'win': {'win_rate': 0.2, 'max_attempts': 5.6}, 'lose': {'win_rate': 0.8, 'max_attempts': 6.6}}}, 1: {'easy': {'win': {'win_rate': 0.0, 'max_attempts': 6.0}, 'lose': {'win_rate': 1.0, 'max_attempts': 7.0}}, 'medium': {'win': {'win_rate': 0.0, 'max_attempts': 6.0}, 'lose': {'win_rate': 1.0, 'max_attempts': 7.0}}, 'hard': {'win': {'win_rate': 0.0, 'max_attempts': 6.0}, 'lose': {'win_rate': 1.0, 'max_attempts': 7.0}}}, 3: {'easy': {'win': {'win_rate': 0.16666666666666666, 'max_attempts': 5.833333333333333}, 'lose': {'win_rate': 0.8333333333333334, 'max_attempts': 6.833333333333333}}, 'medium': {'win': {'win_rate': 0.16666666666666666, 'max_attempts': 5.833333333333333}, 'lose': {'win_rate': 0.8333333333333334, 'max_attempts': 6.833333333333333}}, 'hard': {'win': {'win_rate': 0.16666666666666666, 'max_attempts': 5.833333333333333}, 'lose': {'win_rate': 0.8333333333333334, 'max_attempts': 6.833333333333333}}}, 20: {'easy': {'win': {'win_rate': 0.0, 'max_attempts': 6.0}, 'lose': {'win_rate': 1.0, 'max_attempts': 7.0}}, 'medium': {'win': {'win_rate': 0.0, 'max_attempts': 6.0}, 'lose': {'win_rate': 1.0, 'max_attempts': 7.0}}, 'hard': {'win': {'win_rate': 0.0, 'max_attempts': 6.0}, 'lose': {'win_rate': 1.0, 'max_attempts': 7.0}}}, 2: {'easy': {'win': {'win_rate': 0.0, 'max_attempts': 6.0}, 'lose': {'win_rate': 1.0, 'max_attempts': 7.0}}, 'medium': {'win': {'win_rate': 0.0, 'max_attempts': 6.0}, 'lose': {'win_rate': 1.0, 'max_attempts': 7.0}}, 'hard': {'win': {'win_rate': 0.0, 'max_attempts': 6.0}, 'lose': {'win_rate': 1.0, 'max_attempts': 7.0}}}}\n",
      "Epoch 9: Training - Avg Loss: 0.017048624088056387, Avg Miss Penalty: 0.01385560380294919\n",
      "Epoch 9: Validation - Win Rate: 0.137\n"
     ]
    },
    {
     "name": "stderr",
     "output_type": "stream",
     "text": [
      "Epochs:  50%|█████     | 10/20 [02:19<02:19, 13.97s/it]"
     ]
    },
    {
     "name": "stdout",
     "output_type": "stream",
     "text": [
      "Epoch 00010: reducing learning rate of group 0 to 1.2500e-05.\n",
      "{4: {'easy': {'win': {'win_rate': 0.13333333333333333, 'max_attempts': 5.833333333333333}, 'lose': {'win_rate': 0.8666666666666667, 'max_attempts': 6.833333333333333}}, 'medium': {'win': {'win_rate': 0.13333333333333333, 'max_attempts': 5.833333333333333}, 'lose': {'win_rate': 0.8666666666666667, 'max_attempts': 6.833333333333333}}, 'hard': {'win': {'win_rate': 0.13333333333333333, 'max_attempts': 5.833333333333333}, 'lose': {'win_rate': 0.8666666666666667, 'max_attempts': 6.833333333333333}}}, 5: {'easy': {'win': {'win_rate': 0.03636363636363636, 'max_attempts': 5.890909090909091}, 'lose': {'win_rate': 0.9636363636363636, 'max_attempts': 6.890909090909091}}, 'medium': {'win': {'win_rate': 0.03636363636363636, 'max_attempts': 5.890909090909091}, 'lose': {'win_rate': 0.9636363636363636, 'max_attempts': 6.890909090909091}}, 'hard': {'win': {'win_rate': 0.03636363636363636, 'max_attempts': 5.890909090909091}, 'lose': {'win_rate': 0.9636363636363636, 'max_attempts': 6.890909090909091}}}, 6: {'easy': {'win': {'win_rate': 0.0547945205479452, 'max_attempts': 5.890410958904109}, 'lose': {'win_rate': 0.9452054794520548, 'max_attempts': 6.890410958904109}}, 'medium': {'win': {'win_rate': 0.0547945205479452, 'max_attempts': 5.890410958904109}, 'lose': {'win_rate': 0.9452054794520548, 'max_attempts': 6.890410958904109}}, 'hard': {'win': {'win_rate': 0.0547945205479452, 'max_attempts': 5.890410958904109}, 'lose': {'win_rate': 0.9452054794520548, 'max_attempts': 6.890410958904109}}}, 15: {'easy': {'win': {'win_rate': 0.22727272727272727, 'max_attempts': 5.7272727272727275}, 'lose': {'win_rate': 0.7727272727272727, 'max_attempts': 6.7272727272727275}}, 'medium': {'win': {'win_rate': 0.22727272727272727, 'max_attempts': 5.7272727272727275}, 'lose': {'win_rate': 0.7727272727272727, 'max_attempts': 6.7272727272727275}}, 'hard': {'win': {'win_rate': 0.22727272727272727, 'max_attempts': 5.7272727272727275}, 'lose': {'win_rate': 0.7727272727272727, 'max_attempts': 6.7272727272727275}}}, 13: {'easy': {'win': {'win_rate': 0.23943661971830985, 'max_attempts': 5.633802816901408}, 'lose': {'win_rate': 0.7605633802816901, 'max_attempts': 6.633802816901408}}, 'medium': {'win': {'win_rate': 0.23943661971830985, 'max_attempts': 5.633802816901408}, 'lose': {'win_rate': 0.7605633802816901, 'max_attempts': 6.633802816901408}}, 'hard': {'win': {'win_rate': 0.23943661971830985, 'max_attempts': 5.633802816901408}, 'lose': {'win_rate': 0.7605633802816901, 'max_attempts': 6.633802816901408}}}, 11: {'easy': {'win': {'win_rate': 0.1836734693877551, 'max_attempts': 5.642857142857143}, 'lose': {'win_rate': 0.8163265306122449, 'max_attempts': 6.642857142857143}}, 'medium': {'win': {'win_rate': 0.1836734693877551, 'max_attempts': 5.642857142857143}, 'lose': {'win_rate': 0.8163265306122449, 'max_attempts': 6.642857142857143}}, 'hard': {'win': {'win_rate': 0.1836734693877551, 'max_attempts': 5.642857142857143}, 'lose': {'win_rate': 0.8163265306122449, 'max_attempts': 6.642857142857143}}}, 9: {'easy': {'win': {'win_rate': 0.15602836879432624, 'max_attempts': 5.666666666666667}, 'lose': {'win_rate': 0.8439716312056738, 'max_attempts': 6.666666666666667}}, 'medium': {'win': {'win_rate': 0.15602836879432624, 'max_attempts': 5.666666666666667}, 'lose': {'win_rate': 0.8439716312056738, 'max_attempts': 6.666666666666667}}, 'hard': {'win': {'win_rate': 0.15602836879432624, 'max_attempts': 5.666666666666667}, 'lose': {'win_rate': 0.8439716312056738, 'max_attempts': 6.666666666666667}}}, 12: {'easy': {'win': {'win_rate': 0.16, 'max_attempts': 5.653333333333333}, 'lose': {'win_rate': 0.84, 'max_attempts': 6.653333333333333}}, 'medium': {'win': {'win_rate': 0.16, 'max_attempts': 5.653333333333333}, 'lose': {'win_rate': 0.84, 'max_attempts': 6.653333333333333}}, 'hard': {'win': {'win_rate': 0.16, 'max_attempts': 5.653333333333333}, 'lose': {'win_rate': 0.84, 'max_attempts': 6.653333333333333}}}, 18: {'easy': {'win': {'win_rate': 0.25, 'max_attempts': 5.75}, 'lose': {'win_rate': 0.75, 'max_attempts': 6.75}}, 'medium': {'win': {'win_rate': 0.25, 'max_attempts': 5.75}, 'lose': {'win_rate': 0.75, 'max_attempts': 6.75}}, 'hard': {'win': {'win_rate': 0.25, 'max_attempts': 5.75}, 'lose': {'win_rate': 0.75, 'max_attempts': 6.75}}}, 8: {'easy': {'win': {'win_rate': 0.09523809523809523, 'max_attempts': 5.836734693877551}, 'lose': {'win_rate': 0.9047619047619048, 'max_attempts': 6.836734693877551}}, 'medium': {'win': {'win_rate': 0.09523809523809523, 'max_attempts': 5.836734693877551}, 'lose': {'win_rate': 0.9047619047619048, 'max_attempts': 6.836734693877551}}, 'hard': {'win': {'win_rate': 0.09523809523809523, 'max_attempts': 5.836734693877551}, 'lose': {'win_rate': 0.9047619047619048, 'max_attempts': 6.836734693877551}}}, 14: {'easy': {'win': {'win_rate': 0.19047619047619047, 'max_attempts': 5.5476190476190474}, 'lose': {'win_rate': 0.8095238095238095, 'max_attempts': 6.5476190476190474}}, 'medium': {'win': {'win_rate': 0.19047619047619047, 'max_attempts': 5.5476190476190474}, 'lose': {'win_rate': 0.8095238095238095, 'max_attempts': 6.5476190476190474}}, 'hard': {'win': {'win_rate': 0.19047619047619047, 'max_attempts': 5.5476190476190474}, 'lose': {'win_rate': 0.8095238095238095, 'max_attempts': 6.5476190476190474}}}, 10: {'easy': {'win': {'win_rate': 0.12727272727272726, 'max_attempts': 5.781818181818182}, 'lose': {'win_rate': 0.8727272727272728, 'max_attempts': 6.781818181818182}}, 'medium': {'win': {'win_rate': 0.12727272727272726, 'max_attempts': 5.781818181818182}, 'lose': {'win_rate': 0.8727272727272728, 'max_attempts': 6.781818181818182}}, 'hard': {'win': {'win_rate': 0.12727272727272726, 'max_attempts': 5.781818181818182}, 'lose': {'win_rate': 0.8727272727272728, 'max_attempts': 6.781818181818182}}}, 7: {'easy': {'win': {'win_rate': 0.09, 'max_attempts': 5.79}, 'lose': {'win_rate': 0.91, 'max_attempts': 6.79}}, 'medium': {'win': {'win_rate': 0.09, 'max_attempts': 5.79}, 'lose': {'win_rate': 0.91, 'max_attempts': 6.79}}, 'hard': {'win': {'win_rate': 0.09, 'max_attempts': 5.79}, 'lose': {'win_rate': 0.91, 'max_attempts': 6.79}}}, 19: {'easy': {'win': {'win_rate': 0.0, 'max_attempts': 6.0}, 'lose': {'win_rate': 1.0, 'max_attempts': 7.0}}, 'medium': {'win': {'win_rate': 0.0, 'max_attempts': 6.0}, 'lose': {'win_rate': 1.0, 'max_attempts': 7.0}}, 'hard': {'win': {'win_rate': 0.0, 'max_attempts': 6.0}, 'lose': {'win_rate': 1.0, 'max_attempts': 7.0}}}, 16: {'easy': {'win': {'win_rate': 0.3333333333333333, 'max_attempts': 5.333333333333333}, 'lose': {'win_rate': 0.6666666666666667, 'max_attempts': 6.333333333333333}}, 'medium': {'win': {'win_rate': 0.3333333333333333, 'max_attempts': 5.333333333333333}, 'lose': {'win_rate': 0.6666666666666667, 'max_attempts': 6.333333333333333}}, 'hard': {'win': {'win_rate': 0.3333333333333333, 'max_attempts': 5.333333333333333}, 'lose': {'win_rate': 0.6666666666666667, 'max_attempts': 6.333333333333333}}}, 24: {'easy': {'win': {'win_rate': 0.0, 'max_attempts': 6.0}, 'lose': {'win_rate': 1.0, 'max_attempts': 7.0}}, 'medium': {'win': {'win_rate': 0.0, 'max_attempts': 6.0}, 'lose': {'win_rate': 1.0, 'max_attempts': 7.0}}, 'hard': {'win': {'win_rate': 0.0, 'max_attempts': 6.0}, 'lose': {'win_rate': 1.0, 'max_attempts': 7.0}}}, 17: {'easy': {'win': {'win_rate': 0.2, 'max_attempts': 5.6}, 'lose': {'win_rate': 0.8, 'max_attempts': 6.6}}, 'medium': {'win': {'win_rate': 0.2, 'max_attempts': 5.6}, 'lose': {'win_rate': 0.8, 'max_attempts': 6.6}}, 'hard': {'win': {'win_rate': 0.2, 'max_attempts': 5.6}, 'lose': {'win_rate': 0.8, 'max_attempts': 6.6}}}, 1: {'easy': {'win': {'win_rate': 0.0, 'max_attempts': 6.0}, 'lose': {'win_rate': 1.0, 'max_attempts': 7.0}}, 'medium': {'win': {'win_rate': 0.0, 'max_attempts': 6.0}, 'lose': {'win_rate': 1.0, 'max_attempts': 7.0}}, 'hard': {'win': {'win_rate': 0.0, 'max_attempts': 6.0}, 'lose': {'win_rate': 1.0, 'max_attempts': 7.0}}}, 3: {'easy': {'win': {'win_rate': 0.16666666666666666, 'max_attempts': 5.833333333333333}, 'lose': {'win_rate': 0.8333333333333334, 'max_attempts': 6.833333333333333}}, 'medium': {'win': {'win_rate': 0.16666666666666666, 'max_attempts': 5.833333333333333}, 'lose': {'win_rate': 0.8333333333333334, 'max_attempts': 6.833333333333333}}, 'hard': {'win': {'win_rate': 0.16666666666666666, 'max_attempts': 5.833333333333333}, 'lose': {'win_rate': 0.8333333333333334, 'max_attempts': 6.833333333333333}}}, 20: {'easy': {'win': {'win_rate': 0.0, 'max_attempts': 6.0}, 'lose': {'win_rate': 1.0, 'max_attempts': 7.0}}, 'medium': {'win': {'win_rate': 0.0, 'max_attempts': 6.0}, 'lose': {'win_rate': 1.0, 'max_attempts': 7.0}}, 'hard': {'win': {'win_rate': 0.0, 'max_attempts': 6.0}, 'lose': {'win_rate': 1.0, 'max_attempts': 7.0}}}, 2: {'easy': {'win': {'win_rate': 0.0, 'max_attempts': 6.0}, 'lose': {'win_rate': 1.0, 'max_attempts': 7.0}}, 'medium': {'win': {'win_rate': 0.0, 'max_attempts': 6.0}, 'lose': {'win_rate': 1.0, 'max_attempts': 7.0}}, 'hard': {'win': {'win_rate': 0.0, 'max_attempts': 6.0}, 'lose': {'win_rate': 1.0, 'max_attempts': 7.0}}}}\n",
      "Epoch 10: Training - Avg Loss: 0.01687810877338052, Avg Miss Penalty: 0.013275417522527278\n",
      "Epoch 10: Validation - Win Rate: 0.137\n"
     ]
    },
    {
     "name": "stderr",
     "output_type": "stream",
     "text": [
      "Epochs:  55%|█████▌    | 11/20 [02:33<02:05, 13.95s/it]"
     ]
    },
    {
     "name": "stdout",
     "output_type": "stream",
     "text": [
      "{4: {'easy': {'win': {'win_rate': 0.13333333333333333, 'max_attempts': 5.833333333333333}, 'lose': {'win_rate': 0.8666666666666667, 'max_attempts': 6.833333333333333}}, 'medium': {'win': {'win_rate': 0.13333333333333333, 'max_attempts': 5.833333333333333}, 'lose': {'win_rate': 0.8666666666666667, 'max_attempts': 6.833333333333333}}, 'hard': {'win': {'win_rate': 0.13333333333333333, 'max_attempts': 5.833333333333333}, 'lose': {'win_rate': 0.8666666666666667, 'max_attempts': 6.833333333333333}}}, 5: {'easy': {'win': {'win_rate': 0.03636363636363636, 'max_attempts': 5.890909090909091}, 'lose': {'win_rate': 0.9636363636363636, 'max_attempts': 6.890909090909091}}, 'medium': {'win': {'win_rate': 0.03636363636363636, 'max_attempts': 5.890909090909091}, 'lose': {'win_rate': 0.9636363636363636, 'max_attempts': 6.890909090909091}}, 'hard': {'win': {'win_rate': 0.03636363636363636, 'max_attempts': 5.890909090909091}, 'lose': {'win_rate': 0.9636363636363636, 'max_attempts': 6.890909090909091}}}, 6: {'easy': {'win': {'win_rate': 0.0547945205479452, 'max_attempts': 5.890410958904109}, 'lose': {'win_rate': 0.9452054794520548, 'max_attempts': 6.890410958904109}}, 'medium': {'win': {'win_rate': 0.0547945205479452, 'max_attempts': 5.890410958904109}, 'lose': {'win_rate': 0.9452054794520548, 'max_attempts': 6.890410958904109}}, 'hard': {'win': {'win_rate': 0.0547945205479452, 'max_attempts': 5.890410958904109}, 'lose': {'win_rate': 0.9452054794520548, 'max_attempts': 6.890410958904109}}}, 15: {'easy': {'win': {'win_rate': 0.22727272727272727, 'max_attempts': 5.7272727272727275}, 'lose': {'win_rate': 0.7727272727272727, 'max_attempts': 6.7272727272727275}}, 'medium': {'win': {'win_rate': 0.22727272727272727, 'max_attempts': 5.7272727272727275}, 'lose': {'win_rate': 0.7727272727272727, 'max_attempts': 6.7272727272727275}}, 'hard': {'win': {'win_rate': 0.22727272727272727, 'max_attempts': 5.7272727272727275}, 'lose': {'win_rate': 0.7727272727272727, 'max_attempts': 6.7272727272727275}}}, 13: {'easy': {'win': {'win_rate': 0.23943661971830985, 'max_attempts': 5.633802816901408}, 'lose': {'win_rate': 0.7605633802816901, 'max_attempts': 6.633802816901408}}, 'medium': {'win': {'win_rate': 0.23943661971830985, 'max_attempts': 5.633802816901408}, 'lose': {'win_rate': 0.7605633802816901, 'max_attempts': 6.633802816901408}}, 'hard': {'win': {'win_rate': 0.23943661971830985, 'max_attempts': 5.633802816901408}, 'lose': {'win_rate': 0.7605633802816901, 'max_attempts': 6.633802816901408}}}, 11: {'easy': {'win': {'win_rate': 0.1836734693877551, 'max_attempts': 5.642857142857143}, 'lose': {'win_rate': 0.8163265306122449, 'max_attempts': 6.642857142857143}}, 'medium': {'win': {'win_rate': 0.1836734693877551, 'max_attempts': 5.642857142857143}, 'lose': {'win_rate': 0.8163265306122449, 'max_attempts': 6.642857142857143}}, 'hard': {'win': {'win_rate': 0.1836734693877551, 'max_attempts': 5.642857142857143}, 'lose': {'win_rate': 0.8163265306122449, 'max_attempts': 6.642857142857143}}}, 9: {'easy': {'win': {'win_rate': 0.15602836879432624, 'max_attempts': 5.666666666666667}, 'lose': {'win_rate': 0.8439716312056738, 'max_attempts': 6.666666666666667}}, 'medium': {'win': {'win_rate': 0.15602836879432624, 'max_attempts': 5.666666666666667}, 'lose': {'win_rate': 0.8439716312056738, 'max_attempts': 6.666666666666667}}, 'hard': {'win': {'win_rate': 0.15602836879432624, 'max_attempts': 5.666666666666667}, 'lose': {'win_rate': 0.8439716312056738, 'max_attempts': 6.666666666666667}}}, 12: {'easy': {'win': {'win_rate': 0.16, 'max_attempts': 5.653333333333333}, 'lose': {'win_rate': 0.84, 'max_attempts': 6.653333333333333}}, 'medium': {'win': {'win_rate': 0.16, 'max_attempts': 5.653333333333333}, 'lose': {'win_rate': 0.84, 'max_attempts': 6.653333333333333}}, 'hard': {'win': {'win_rate': 0.16, 'max_attempts': 5.653333333333333}, 'lose': {'win_rate': 0.84, 'max_attempts': 6.653333333333333}}}, 18: {'easy': {'win': {'win_rate': 0.25, 'max_attempts': 5.75}, 'lose': {'win_rate': 0.75, 'max_attempts': 6.75}}, 'medium': {'win': {'win_rate': 0.25, 'max_attempts': 5.75}, 'lose': {'win_rate': 0.75, 'max_attempts': 6.75}}, 'hard': {'win': {'win_rate': 0.25, 'max_attempts': 5.75}, 'lose': {'win_rate': 0.75, 'max_attempts': 6.75}}}, 8: {'easy': {'win': {'win_rate': 0.09523809523809523, 'max_attempts': 5.836734693877551}, 'lose': {'win_rate': 0.9047619047619048, 'max_attempts': 6.836734693877551}}, 'medium': {'win': {'win_rate': 0.09523809523809523, 'max_attempts': 5.836734693877551}, 'lose': {'win_rate': 0.9047619047619048, 'max_attempts': 6.836734693877551}}, 'hard': {'win': {'win_rate': 0.09523809523809523, 'max_attempts': 5.836734693877551}, 'lose': {'win_rate': 0.9047619047619048, 'max_attempts': 6.836734693877551}}}, 14: {'easy': {'win': {'win_rate': 0.19047619047619047, 'max_attempts': 5.5476190476190474}, 'lose': {'win_rate': 0.8095238095238095, 'max_attempts': 6.5476190476190474}}, 'medium': {'win': {'win_rate': 0.19047619047619047, 'max_attempts': 5.5476190476190474}, 'lose': {'win_rate': 0.8095238095238095, 'max_attempts': 6.5476190476190474}}, 'hard': {'win': {'win_rate': 0.19047619047619047, 'max_attempts': 5.5476190476190474}, 'lose': {'win_rate': 0.8095238095238095, 'max_attempts': 6.5476190476190474}}}, 10: {'easy': {'win': {'win_rate': 0.12727272727272726, 'max_attempts': 5.781818181818182}, 'lose': {'win_rate': 0.8727272727272728, 'max_attempts': 6.781818181818182}}, 'medium': {'win': {'win_rate': 0.12727272727272726, 'max_attempts': 5.781818181818182}, 'lose': {'win_rate': 0.8727272727272728, 'max_attempts': 6.781818181818182}}, 'hard': {'win': {'win_rate': 0.12727272727272726, 'max_attempts': 5.781818181818182}, 'lose': {'win_rate': 0.8727272727272728, 'max_attempts': 6.781818181818182}}}, 7: {'easy': {'win': {'win_rate': 0.09, 'max_attempts': 5.79}, 'lose': {'win_rate': 0.91, 'max_attempts': 6.79}}, 'medium': {'win': {'win_rate': 0.09, 'max_attempts': 5.79}, 'lose': {'win_rate': 0.91, 'max_attempts': 6.79}}, 'hard': {'win': {'win_rate': 0.09, 'max_attempts': 5.79}, 'lose': {'win_rate': 0.91, 'max_attempts': 6.79}}}, 19: {'easy': {'win': {'win_rate': 0.0, 'max_attempts': 6.0}, 'lose': {'win_rate': 1.0, 'max_attempts': 7.0}}, 'medium': {'win': {'win_rate': 0.0, 'max_attempts': 6.0}, 'lose': {'win_rate': 1.0, 'max_attempts': 7.0}}, 'hard': {'win': {'win_rate': 0.0, 'max_attempts': 6.0}, 'lose': {'win_rate': 1.0, 'max_attempts': 7.0}}}, 16: {'easy': {'win': {'win_rate': 0.3333333333333333, 'max_attempts': 5.333333333333333}, 'lose': {'win_rate': 0.6666666666666667, 'max_attempts': 6.333333333333333}}, 'medium': {'win': {'win_rate': 0.3333333333333333, 'max_attempts': 5.333333333333333}, 'lose': {'win_rate': 0.6666666666666667, 'max_attempts': 6.333333333333333}}, 'hard': {'win': {'win_rate': 0.3333333333333333, 'max_attempts': 5.333333333333333}, 'lose': {'win_rate': 0.6666666666666667, 'max_attempts': 6.333333333333333}}}, 24: {'easy': {'win': {'win_rate': 0.0, 'max_attempts': 6.0}, 'lose': {'win_rate': 1.0, 'max_attempts': 7.0}}, 'medium': {'win': {'win_rate': 0.0, 'max_attempts': 6.0}, 'lose': {'win_rate': 1.0, 'max_attempts': 7.0}}, 'hard': {'win': {'win_rate': 0.0, 'max_attempts': 6.0}, 'lose': {'win_rate': 1.0, 'max_attempts': 7.0}}}, 17: {'easy': {'win': {'win_rate': 0.2, 'max_attempts': 5.6}, 'lose': {'win_rate': 0.8, 'max_attempts': 6.6}}, 'medium': {'win': {'win_rate': 0.2, 'max_attempts': 5.6}, 'lose': {'win_rate': 0.8, 'max_attempts': 6.6}}, 'hard': {'win': {'win_rate': 0.2, 'max_attempts': 5.6}, 'lose': {'win_rate': 0.8, 'max_attempts': 6.6}}}, 1: {'easy': {'win': {'win_rate': 0.0, 'max_attempts': 6.0}, 'lose': {'win_rate': 1.0, 'max_attempts': 7.0}}, 'medium': {'win': {'win_rate': 0.0, 'max_attempts': 6.0}, 'lose': {'win_rate': 1.0, 'max_attempts': 7.0}}, 'hard': {'win': {'win_rate': 0.0, 'max_attempts': 6.0}, 'lose': {'win_rate': 1.0, 'max_attempts': 7.0}}}, 3: {'easy': {'win': {'win_rate': 0.16666666666666666, 'max_attempts': 5.833333333333333}, 'lose': {'win_rate': 0.8333333333333334, 'max_attempts': 6.833333333333333}}, 'medium': {'win': {'win_rate': 0.16666666666666666, 'max_attempts': 5.833333333333333}, 'lose': {'win_rate': 0.8333333333333334, 'max_attempts': 6.833333333333333}}, 'hard': {'win': {'win_rate': 0.16666666666666666, 'max_attempts': 5.833333333333333}, 'lose': {'win_rate': 0.8333333333333334, 'max_attempts': 6.833333333333333}}}, 20: {'easy': {'win': {'win_rate': 0.0, 'max_attempts': 6.0}, 'lose': {'win_rate': 1.0, 'max_attempts': 7.0}}, 'medium': {'win': {'win_rate': 0.0, 'max_attempts': 6.0}, 'lose': {'win_rate': 1.0, 'max_attempts': 7.0}}, 'hard': {'win': {'win_rate': 0.0, 'max_attempts': 6.0}, 'lose': {'win_rate': 1.0, 'max_attempts': 7.0}}}, 2: {'easy': {'win': {'win_rate': 0.0, 'max_attempts': 6.0}, 'lose': {'win_rate': 1.0, 'max_attempts': 7.0}}, 'medium': {'win': {'win_rate': 0.0, 'max_attempts': 6.0}, 'lose': {'win_rate': 1.0, 'max_attempts': 7.0}}, 'hard': {'win': {'win_rate': 0.0, 'max_attempts': 6.0}, 'lose': {'win_rate': 1.0, 'max_attempts': 7.0}}}}\n",
      "Epoch 11: Training - Avg Loss: 0.016538047604262827, Avg Miss Penalty: 0.012861316301859915\n",
      "Epoch 11: Validation - Win Rate: 0.137\n"
     ]
    },
    {
     "name": "stderr",
     "output_type": "stream",
     "text": [
      "Epochs:  60%|██████    | 12/20 [02:47<01:51, 13.96s/it]"
     ]
    },
    {
     "name": "stdout",
     "output_type": "stream",
     "text": [
      "{4: {'easy': {'win': {'win_rate': 0.13333333333333333, 'max_attempts': 5.833333333333333}, 'lose': {'win_rate': 0.8666666666666667, 'max_attempts': 6.833333333333333}}, 'medium': {'win': {'win_rate': 0.13333333333333333, 'max_attempts': 5.833333333333333}, 'lose': {'win_rate': 0.8666666666666667, 'max_attempts': 6.833333333333333}}, 'hard': {'win': {'win_rate': 0.13333333333333333, 'max_attempts': 5.833333333333333}, 'lose': {'win_rate': 0.8666666666666667, 'max_attempts': 6.833333333333333}}}, 5: {'easy': {'win': {'win_rate': 0.03636363636363636, 'max_attempts': 5.890909090909091}, 'lose': {'win_rate': 0.9636363636363636, 'max_attempts': 6.890909090909091}}, 'medium': {'win': {'win_rate': 0.03636363636363636, 'max_attempts': 5.890909090909091}, 'lose': {'win_rate': 0.9636363636363636, 'max_attempts': 6.890909090909091}}, 'hard': {'win': {'win_rate': 0.03636363636363636, 'max_attempts': 5.890909090909091}, 'lose': {'win_rate': 0.9636363636363636, 'max_attempts': 6.890909090909091}}}, 6: {'easy': {'win': {'win_rate': 0.0547945205479452, 'max_attempts': 5.890410958904109}, 'lose': {'win_rate': 0.9452054794520548, 'max_attempts': 6.890410958904109}}, 'medium': {'win': {'win_rate': 0.0547945205479452, 'max_attempts': 5.890410958904109}, 'lose': {'win_rate': 0.9452054794520548, 'max_attempts': 6.890410958904109}}, 'hard': {'win': {'win_rate': 0.0547945205479452, 'max_attempts': 5.890410958904109}, 'lose': {'win_rate': 0.9452054794520548, 'max_attempts': 6.890410958904109}}}, 15: {'easy': {'win': {'win_rate': 0.22727272727272727, 'max_attempts': 5.7272727272727275}, 'lose': {'win_rate': 0.7727272727272727, 'max_attempts': 6.7272727272727275}}, 'medium': {'win': {'win_rate': 0.22727272727272727, 'max_attempts': 5.7272727272727275}, 'lose': {'win_rate': 0.7727272727272727, 'max_attempts': 6.7272727272727275}}, 'hard': {'win': {'win_rate': 0.22727272727272727, 'max_attempts': 5.7272727272727275}, 'lose': {'win_rate': 0.7727272727272727, 'max_attempts': 6.7272727272727275}}}, 13: {'easy': {'win': {'win_rate': 0.23943661971830985, 'max_attempts': 5.633802816901408}, 'lose': {'win_rate': 0.7605633802816901, 'max_attempts': 6.633802816901408}}, 'medium': {'win': {'win_rate': 0.23943661971830985, 'max_attempts': 5.633802816901408}, 'lose': {'win_rate': 0.7605633802816901, 'max_attempts': 6.633802816901408}}, 'hard': {'win': {'win_rate': 0.23943661971830985, 'max_attempts': 5.633802816901408}, 'lose': {'win_rate': 0.7605633802816901, 'max_attempts': 6.633802816901408}}}, 11: {'easy': {'win': {'win_rate': 0.1836734693877551, 'max_attempts': 5.642857142857143}, 'lose': {'win_rate': 0.8163265306122449, 'max_attempts': 6.642857142857143}}, 'medium': {'win': {'win_rate': 0.1836734693877551, 'max_attempts': 5.642857142857143}, 'lose': {'win_rate': 0.8163265306122449, 'max_attempts': 6.642857142857143}}, 'hard': {'win': {'win_rate': 0.1836734693877551, 'max_attempts': 5.642857142857143}, 'lose': {'win_rate': 0.8163265306122449, 'max_attempts': 6.642857142857143}}}, 9: {'easy': {'win': {'win_rate': 0.15602836879432624, 'max_attempts': 5.666666666666667}, 'lose': {'win_rate': 0.8439716312056738, 'max_attempts': 6.666666666666667}}, 'medium': {'win': {'win_rate': 0.15602836879432624, 'max_attempts': 5.666666666666667}, 'lose': {'win_rate': 0.8439716312056738, 'max_attempts': 6.666666666666667}}, 'hard': {'win': {'win_rate': 0.15602836879432624, 'max_attempts': 5.666666666666667}, 'lose': {'win_rate': 0.8439716312056738, 'max_attempts': 6.666666666666667}}}, 12: {'easy': {'win': {'win_rate': 0.16, 'max_attempts': 5.653333333333333}, 'lose': {'win_rate': 0.84, 'max_attempts': 6.653333333333333}}, 'medium': {'win': {'win_rate': 0.16, 'max_attempts': 5.653333333333333}, 'lose': {'win_rate': 0.84, 'max_attempts': 6.653333333333333}}, 'hard': {'win': {'win_rate': 0.16, 'max_attempts': 5.653333333333333}, 'lose': {'win_rate': 0.84, 'max_attempts': 6.653333333333333}}}, 18: {'easy': {'win': {'win_rate': 0.25, 'max_attempts': 5.75}, 'lose': {'win_rate': 0.75, 'max_attempts': 6.75}}, 'medium': {'win': {'win_rate': 0.25, 'max_attempts': 5.75}, 'lose': {'win_rate': 0.75, 'max_attempts': 6.75}}, 'hard': {'win': {'win_rate': 0.25, 'max_attempts': 5.75}, 'lose': {'win_rate': 0.75, 'max_attempts': 6.75}}}, 8: {'easy': {'win': {'win_rate': 0.09523809523809523, 'max_attempts': 5.836734693877551}, 'lose': {'win_rate': 0.9047619047619048, 'max_attempts': 6.836734693877551}}, 'medium': {'win': {'win_rate': 0.09523809523809523, 'max_attempts': 5.836734693877551}, 'lose': {'win_rate': 0.9047619047619048, 'max_attempts': 6.836734693877551}}, 'hard': {'win': {'win_rate': 0.09523809523809523, 'max_attempts': 5.836734693877551}, 'lose': {'win_rate': 0.9047619047619048, 'max_attempts': 6.836734693877551}}}, 14: {'easy': {'win': {'win_rate': 0.19047619047619047, 'max_attempts': 5.5476190476190474}, 'lose': {'win_rate': 0.8095238095238095, 'max_attempts': 6.5476190476190474}}, 'medium': {'win': {'win_rate': 0.19047619047619047, 'max_attempts': 5.5476190476190474}, 'lose': {'win_rate': 0.8095238095238095, 'max_attempts': 6.5476190476190474}}, 'hard': {'win': {'win_rate': 0.19047619047619047, 'max_attempts': 5.5476190476190474}, 'lose': {'win_rate': 0.8095238095238095, 'max_attempts': 6.5476190476190474}}}, 10: {'easy': {'win': {'win_rate': 0.12727272727272726, 'max_attempts': 5.781818181818182}, 'lose': {'win_rate': 0.8727272727272728, 'max_attempts': 6.781818181818182}}, 'medium': {'win': {'win_rate': 0.12727272727272726, 'max_attempts': 5.781818181818182}, 'lose': {'win_rate': 0.8727272727272728, 'max_attempts': 6.781818181818182}}, 'hard': {'win': {'win_rate': 0.12727272727272726, 'max_attempts': 5.781818181818182}, 'lose': {'win_rate': 0.8727272727272728, 'max_attempts': 6.781818181818182}}}, 7: {'easy': {'win': {'win_rate': 0.09, 'max_attempts': 5.79}, 'lose': {'win_rate': 0.91, 'max_attempts': 6.79}}, 'medium': {'win': {'win_rate': 0.09, 'max_attempts': 5.79}, 'lose': {'win_rate': 0.91, 'max_attempts': 6.79}}, 'hard': {'win': {'win_rate': 0.09, 'max_attempts': 5.79}, 'lose': {'win_rate': 0.91, 'max_attempts': 6.79}}}, 19: {'easy': {'win': {'win_rate': 0.0, 'max_attempts': 6.0}, 'lose': {'win_rate': 1.0, 'max_attempts': 7.0}}, 'medium': {'win': {'win_rate': 0.0, 'max_attempts': 6.0}, 'lose': {'win_rate': 1.0, 'max_attempts': 7.0}}, 'hard': {'win': {'win_rate': 0.0, 'max_attempts': 6.0}, 'lose': {'win_rate': 1.0, 'max_attempts': 7.0}}}, 16: {'easy': {'win': {'win_rate': 0.3333333333333333, 'max_attempts': 5.333333333333333}, 'lose': {'win_rate': 0.6666666666666667, 'max_attempts': 6.333333333333333}}, 'medium': {'win': {'win_rate': 0.3333333333333333, 'max_attempts': 5.333333333333333}, 'lose': {'win_rate': 0.6666666666666667, 'max_attempts': 6.333333333333333}}, 'hard': {'win': {'win_rate': 0.3333333333333333, 'max_attempts': 5.333333333333333}, 'lose': {'win_rate': 0.6666666666666667, 'max_attempts': 6.333333333333333}}}, 24: {'easy': {'win': {'win_rate': 0.0, 'max_attempts': 6.0}, 'lose': {'win_rate': 1.0, 'max_attempts': 7.0}}, 'medium': {'win': {'win_rate': 0.0, 'max_attempts': 6.0}, 'lose': {'win_rate': 1.0, 'max_attempts': 7.0}}, 'hard': {'win': {'win_rate': 0.0, 'max_attempts': 6.0}, 'lose': {'win_rate': 1.0, 'max_attempts': 7.0}}}, 17: {'easy': {'win': {'win_rate': 0.2, 'max_attempts': 5.6}, 'lose': {'win_rate': 0.8, 'max_attempts': 6.6}}, 'medium': {'win': {'win_rate': 0.2, 'max_attempts': 5.6}, 'lose': {'win_rate': 0.8, 'max_attempts': 6.6}}, 'hard': {'win': {'win_rate': 0.2, 'max_attempts': 5.6}, 'lose': {'win_rate': 0.8, 'max_attempts': 6.6}}}, 1: {'easy': {'win': {'win_rate': 0.0, 'max_attempts': 6.0}, 'lose': {'win_rate': 1.0, 'max_attempts': 7.0}}, 'medium': {'win': {'win_rate': 0.0, 'max_attempts': 6.0}, 'lose': {'win_rate': 1.0, 'max_attempts': 7.0}}, 'hard': {'win': {'win_rate': 0.0, 'max_attempts': 6.0}, 'lose': {'win_rate': 1.0, 'max_attempts': 7.0}}}, 3: {'easy': {'win': {'win_rate': 0.16666666666666666, 'max_attempts': 5.833333333333333}, 'lose': {'win_rate': 0.8333333333333334, 'max_attempts': 6.833333333333333}}, 'medium': {'win': {'win_rate': 0.16666666666666666, 'max_attempts': 5.833333333333333}, 'lose': {'win_rate': 0.8333333333333334, 'max_attempts': 6.833333333333333}}, 'hard': {'win': {'win_rate': 0.16666666666666666, 'max_attempts': 5.833333333333333}, 'lose': {'win_rate': 0.8333333333333334, 'max_attempts': 6.833333333333333}}}, 20: {'easy': {'win': {'win_rate': 0.0, 'max_attempts': 6.0}, 'lose': {'win_rate': 1.0, 'max_attempts': 7.0}}, 'medium': {'win': {'win_rate': 0.0, 'max_attempts': 6.0}, 'lose': {'win_rate': 1.0, 'max_attempts': 7.0}}, 'hard': {'win': {'win_rate': 0.0, 'max_attempts': 6.0}, 'lose': {'win_rate': 1.0, 'max_attempts': 7.0}}}, 2: {'easy': {'win': {'win_rate': 0.0, 'max_attempts': 6.0}, 'lose': {'win_rate': 1.0, 'max_attempts': 7.0}}, 'medium': {'win': {'win_rate': 0.0, 'max_attempts': 6.0}, 'lose': {'win_rate': 1.0, 'max_attempts': 7.0}}, 'hard': {'win': {'win_rate': 0.0, 'max_attempts': 6.0}, 'lose': {'win_rate': 1.0, 'max_attempts': 7.0}}}}\n",
      "Epoch 12: Training - Avg Loss: 0.017428796971216798, Avg Miss Penalty: 0.012757961708121001\n",
      "Epoch 12: Validation - Win Rate: 0.137\n"
     ]
    },
    {
     "name": "stderr",
     "output_type": "stream",
     "text": [
      "Epochs:  65%|██████▌   | 13/20 [03:01<01:37, 13.96s/it]"
     ]
    },
    {
     "name": "stdout",
     "output_type": "stream",
     "text": [
      "Epoch 00013: reducing learning rate of group 0 to 6.2500e-06.\n",
      "{4: {'easy': {'win': {'win_rate': 0.13333333333333333, 'max_attempts': 5.833333333333333}, 'lose': {'win_rate': 0.8666666666666667, 'max_attempts': 6.833333333333333}}, 'medium': {'win': {'win_rate': 0.13333333333333333, 'max_attempts': 5.833333333333333}, 'lose': {'win_rate': 0.8666666666666667, 'max_attempts': 6.833333333333333}}, 'hard': {'win': {'win_rate': 0.13333333333333333, 'max_attempts': 5.833333333333333}, 'lose': {'win_rate': 0.8666666666666667, 'max_attempts': 6.833333333333333}}}, 5: {'easy': {'win': {'win_rate': 0.03636363636363636, 'max_attempts': 5.890909090909091}, 'lose': {'win_rate': 0.9636363636363636, 'max_attempts': 6.890909090909091}}, 'medium': {'win': {'win_rate': 0.03636363636363636, 'max_attempts': 5.890909090909091}, 'lose': {'win_rate': 0.9636363636363636, 'max_attempts': 6.890909090909091}}, 'hard': {'win': {'win_rate': 0.03636363636363636, 'max_attempts': 5.890909090909091}, 'lose': {'win_rate': 0.9636363636363636, 'max_attempts': 6.890909090909091}}}, 6: {'easy': {'win': {'win_rate': 0.0547945205479452, 'max_attempts': 5.890410958904109}, 'lose': {'win_rate': 0.9452054794520548, 'max_attempts': 6.890410958904109}}, 'medium': {'win': {'win_rate': 0.0547945205479452, 'max_attempts': 5.890410958904109}, 'lose': {'win_rate': 0.9452054794520548, 'max_attempts': 6.890410958904109}}, 'hard': {'win': {'win_rate': 0.0547945205479452, 'max_attempts': 5.890410958904109}, 'lose': {'win_rate': 0.9452054794520548, 'max_attempts': 6.890410958904109}}}, 15: {'easy': {'win': {'win_rate': 0.22727272727272727, 'max_attempts': 5.7272727272727275}, 'lose': {'win_rate': 0.7727272727272727, 'max_attempts': 6.7272727272727275}}, 'medium': {'win': {'win_rate': 0.22727272727272727, 'max_attempts': 5.7272727272727275}, 'lose': {'win_rate': 0.7727272727272727, 'max_attempts': 6.7272727272727275}}, 'hard': {'win': {'win_rate': 0.22727272727272727, 'max_attempts': 5.7272727272727275}, 'lose': {'win_rate': 0.7727272727272727, 'max_attempts': 6.7272727272727275}}}, 13: {'easy': {'win': {'win_rate': 0.23943661971830985, 'max_attempts': 5.633802816901408}, 'lose': {'win_rate': 0.7605633802816901, 'max_attempts': 6.633802816901408}}, 'medium': {'win': {'win_rate': 0.23943661971830985, 'max_attempts': 5.633802816901408}, 'lose': {'win_rate': 0.7605633802816901, 'max_attempts': 6.633802816901408}}, 'hard': {'win': {'win_rate': 0.23943661971830985, 'max_attempts': 5.633802816901408}, 'lose': {'win_rate': 0.7605633802816901, 'max_attempts': 6.633802816901408}}}, 11: {'easy': {'win': {'win_rate': 0.1836734693877551, 'max_attempts': 5.642857142857143}, 'lose': {'win_rate': 0.8163265306122449, 'max_attempts': 6.642857142857143}}, 'medium': {'win': {'win_rate': 0.1836734693877551, 'max_attempts': 5.642857142857143}, 'lose': {'win_rate': 0.8163265306122449, 'max_attempts': 6.642857142857143}}, 'hard': {'win': {'win_rate': 0.1836734693877551, 'max_attempts': 5.642857142857143}, 'lose': {'win_rate': 0.8163265306122449, 'max_attempts': 6.642857142857143}}}, 9: {'easy': {'win': {'win_rate': 0.15602836879432624, 'max_attempts': 5.666666666666667}, 'lose': {'win_rate': 0.8439716312056738, 'max_attempts': 6.666666666666667}}, 'medium': {'win': {'win_rate': 0.15602836879432624, 'max_attempts': 5.666666666666667}, 'lose': {'win_rate': 0.8439716312056738, 'max_attempts': 6.666666666666667}}, 'hard': {'win': {'win_rate': 0.15602836879432624, 'max_attempts': 5.666666666666667}, 'lose': {'win_rate': 0.8439716312056738, 'max_attempts': 6.666666666666667}}}, 12: {'easy': {'win': {'win_rate': 0.16, 'max_attempts': 5.653333333333333}, 'lose': {'win_rate': 0.84, 'max_attempts': 6.653333333333333}}, 'medium': {'win': {'win_rate': 0.16, 'max_attempts': 5.653333333333333}, 'lose': {'win_rate': 0.84, 'max_attempts': 6.653333333333333}}, 'hard': {'win': {'win_rate': 0.16, 'max_attempts': 5.653333333333333}, 'lose': {'win_rate': 0.84, 'max_attempts': 6.653333333333333}}}, 18: {'easy': {'win': {'win_rate': 0.25, 'max_attempts': 5.75}, 'lose': {'win_rate': 0.75, 'max_attempts': 6.75}}, 'medium': {'win': {'win_rate': 0.25, 'max_attempts': 5.75}, 'lose': {'win_rate': 0.75, 'max_attempts': 6.75}}, 'hard': {'win': {'win_rate': 0.25, 'max_attempts': 5.75}, 'lose': {'win_rate': 0.75, 'max_attempts': 6.75}}}, 8: {'easy': {'win': {'win_rate': 0.09523809523809523, 'max_attempts': 5.836734693877551}, 'lose': {'win_rate': 0.9047619047619048, 'max_attempts': 6.836734693877551}}, 'medium': {'win': {'win_rate': 0.09523809523809523, 'max_attempts': 5.836734693877551}, 'lose': {'win_rate': 0.9047619047619048, 'max_attempts': 6.836734693877551}}, 'hard': {'win': {'win_rate': 0.09523809523809523, 'max_attempts': 5.836734693877551}, 'lose': {'win_rate': 0.9047619047619048, 'max_attempts': 6.836734693877551}}}, 14: {'easy': {'win': {'win_rate': 0.19047619047619047, 'max_attempts': 5.5476190476190474}, 'lose': {'win_rate': 0.8095238095238095, 'max_attempts': 6.5476190476190474}}, 'medium': {'win': {'win_rate': 0.19047619047619047, 'max_attempts': 5.5476190476190474}, 'lose': {'win_rate': 0.8095238095238095, 'max_attempts': 6.5476190476190474}}, 'hard': {'win': {'win_rate': 0.19047619047619047, 'max_attempts': 5.5476190476190474}, 'lose': {'win_rate': 0.8095238095238095, 'max_attempts': 6.5476190476190474}}}, 10: {'easy': {'win': {'win_rate': 0.12727272727272726, 'max_attempts': 5.781818181818182}, 'lose': {'win_rate': 0.8727272727272728, 'max_attempts': 6.781818181818182}}, 'medium': {'win': {'win_rate': 0.12727272727272726, 'max_attempts': 5.781818181818182}, 'lose': {'win_rate': 0.8727272727272728, 'max_attempts': 6.781818181818182}}, 'hard': {'win': {'win_rate': 0.12727272727272726, 'max_attempts': 5.781818181818182}, 'lose': {'win_rate': 0.8727272727272728, 'max_attempts': 6.781818181818182}}}, 7: {'easy': {'win': {'win_rate': 0.09, 'max_attempts': 5.79}, 'lose': {'win_rate': 0.91, 'max_attempts': 6.79}}, 'medium': {'win': {'win_rate': 0.09, 'max_attempts': 5.79}, 'lose': {'win_rate': 0.91, 'max_attempts': 6.79}}, 'hard': {'win': {'win_rate': 0.09, 'max_attempts': 5.79}, 'lose': {'win_rate': 0.91, 'max_attempts': 6.79}}}, 19: {'easy': {'win': {'win_rate': 0.0, 'max_attempts': 6.0}, 'lose': {'win_rate': 1.0, 'max_attempts': 7.0}}, 'medium': {'win': {'win_rate': 0.0, 'max_attempts': 6.0}, 'lose': {'win_rate': 1.0, 'max_attempts': 7.0}}, 'hard': {'win': {'win_rate': 0.0, 'max_attempts': 6.0}, 'lose': {'win_rate': 1.0, 'max_attempts': 7.0}}}, 16: {'easy': {'win': {'win_rate': 0.3333333333333333, 'max_attempts': 5.333333333333333}, 'lose': {'win_rate': 0.6666666666666667, 'max_attempts': 6.333333333333333}}, 'medium': {'win': {'win_rate': 0.3333333333333333, 'max_attempts': 5.333333333333333}, 'lose': {'win_rate': 0.6666666666666667, 'max_attempts': 6.333333333333333}}, 'hard': {'win': {'win_rate': 0.3333333333333333, 'max_attempts': 5.333333333333333}, 'lose': {'win_rate': 0.6666666666666667, 'max_attempts': 6.333333333333333}}}, 24: {'easy': {'win': {'win_rate': 0.0, 'max_attempts': 6.0}, 'lose': {'win_rate': 1.0, 'max_attempts': 7.0}}, 'medium': {'win': {'win_rate': 0.0, 'max_attempts': 6.0}, 'lose': {'win_rate': 1.0, 'max_attempts': 7.0}}, 'hard': {'win': {'win_rate': 0.0, 'max_attempts': 6.0}, 'lose': {'win_rate': 1.0, 'max_attempts': 7.0}}}, 17: {'easy': {'win': {'win_rate': 0.2, 'max_attempts': 5.6}, 'lose': {'win_rate': 0.8, 'max_attempts': 6.6}}, 'medium': {'win': {'win_rate': 0.2, 'max_attempts': 5.6}, 'lose': {'win_rate': 0.8, 'max_attempts': 6.6}}, 'hard': {'win': {'win_rate': 0.2, 'max_attempts': 5.6}, 'lose': {'win_rate': 0.8, 'max_attempts': 6.6}}}, 1: {'easy': {'win': {'win_rate': 0.0, 'max_attempts': 6.0}, 'lose': {'win_rate': 1.0, 'max_attempts': 7.0}}, 'medium': {'win': {'win_rate': 0.0, 'max_attempts': 6.0}, 'lose': {'win_rate': 1.0, 'max_attempts': 7.0}}, 'hard': {'win': {'win_rate': 0.0, 'max_attempts': 6.0}, 'lose': {'win_rate': 1.0, 'max_attempts': 7.0}}}, 3: {'easy': {'win': {'win_rate': 0.16666666666666666, 'max_attempts': 5.833333333333333}, 'lose': {'win_rate': 0.8333333333333334, 'max_attempts': 6.833333333333333}}, 'medium': {'win': {'win_rate': 0.16666666666666666, 'max_attempts': 5.833333333333333}, 'lose': {'win_rate': 0.8333333333333334, 'max_attempts': 6.833333333333333}}, 'hard': {'win': {'win_rate': 0.16666666666666666, 'max_attempts': 5.833333333333333}, 'lose': {'win_rate': 0.8333333333333334, 'max_attempts': 6.833333333333333}}}, 20: {'easy': {'win': {'win_rate': 0.0, 'max_attempts': 6.0}, 'lose': {'win_rate': 1.0, 'max_attempts': 7.0}}, 'medium': {'win': {'win_rate': 0.0, 'max_attempts': 6.0}, 'lose': {'win_rate': 1.0, 'max_attempts': 7.0}}, 'hard': {'win': {'win_rate': 0.0, 'max_attempts': 6.0}, 'lose': {'win_rate': 1.0, 'max_attempts': 7.0}}}, 2: {'easy': {'win': {'win_rate': 0.0, 'max_attempts': 6.0}, 'lose': {'win_rate': 1.0, 'max_attempts': 7.0}}, 'medium': {'win': {'win_rate': 0.0, 'max_attempts': 6.0}, 'lose': {'win_rate': 1.0, 'max_attempts': 7.0}}, 'hard': {'win': {'win_rate': 0.0, 'max_attempts': 6.0}, 'lose': {'win_rate': 1.0, 'max_attempts': 7.0}}}}\n",
      "Epoch 13: Training - Avg Loss: 0.016934329783543943, Avg Miss Penalty: 0.012615198059938848\n",
      "Epoch 13: Validation - Win Rate: 0.137\n"
     ]
    },
    {
     "name": "stderr",
     "output_type": "stream",
     "text": [
      "Epochs:  70%|███████   | 14/20 [03:15<01:23, 13.97s/it]"
     ]
    },
    {
     "name": "stdout",
     "output_type": "stream",
     "text": [
      "{4: {'easy': {'win': {'win_rate': 0.13333333333333333, 'max_attempts': 5.833333333333333}, 'lose': {'win_rate': 0.8666666666666667, 'max_attempts': 6.833333333333333}}, 'medium': {'win': {'win_rate': 0.13333333333333333, 'max_attempts': 5.833333333333333}, 'lose': {'win_rate': 0.8666666666666667, 'max_attempts': 6.833333333333333}}, 'hard': {'win': {'win_rate': 0.13333333333333333, 'max_attempts': 5.833333333333333}, 'lose': {'win_rate': 0.8666666666666667, 'max_attempts': 6.833333333333333}}}, 5: {'easy': {'win': {'win_rate': 0.03636363636363636, 'max_attempts': 5.890909090909091}, 'lose': {'win_rate': 0.9636363636363636, 'max_attempts': 6.890909090909091}}, 'medium': {'win': {'win_rate': 0.03636363636363636, 'max_attempts': 5.890909090909091}, 'lose': {'win_rate': 0.9636363636363636, 'max_attempts': 6.890909090909091}}, 'hard': {'win': {'win_rate': 0.03636363636363636, 'max_attempts': 5.890909090909091}, 'lose': {'win_rate': 0.9636363636363636, 'max_attempts': 6.890909090909091}}}, 6: {'easy': {'win': {'win_rate': 0.0547945205479452, 'max_attempts': 5.890410958904109}, 'lose': {'win_rate': 0.9452054794520548, 'max_attempts': 6.890410958904109}}, 'medium': {'win': {'win_rate': 0.0547945205479452, 'max_attempts': 5.890410958904109}, 'lose': {'win_rate': 0.9452054794520548, 'max_attempts': 6.890410958904109}}, 'hard': {'win': {'win_rate': 0.0547945205479452, 'max_attempts': 5.890410958904109}, 'lose': {'win_rate': 0.9452054794520548, 'max_attempts': 6.890410958904109}}}, 15: {'easy': {'win': {'win_rate': 0.22727272727272727, 'max_attempts': 5.7272727272727275}, 'lose': {'win_rate': 0.7727272727272727, 'max_attempts': 6.7272727272727275}}, 'medium': {'win': {'win_rate': 0.22727272727272727, 'max_attempts': 5.7272727272727275}, 'lose': {'win_rate': 0.7727272727272727, 'max_attempts': 6.7272727272727275}}, 'hard': {'win': {'win_rate': 0.22727272727272727, 'max_attempts': 5.7272727272727275}, 'lose': {'win_rate': 0.7727272727272727, 'max_attempts': 6.7272727272727275}}}, 13: {'easy': {'win': {'win_rate': 0.23943661971830985, 'max_attempts': 5.633802816901408}, 'lose': {'win_rate': 0.7605633802816901, 'max_attempts': 6.633802816901408}}, 'medium': {'win': {'win_rate': 0.23943661971830985, 'max_attempts': 5.633802816901408}, 'lose': {'win_rate': 0.7605633802816901, 'max_attempts': 6.633802816901408}}, 'hard': {'win': {'win_rate': 0.23943661971830985, 'max_attempts': 5.633802816901408}, 'lose': {'win_rate': 0.7605633802816901, 'max_attempts': 6.633802816901408}}}, 11: {'easy': {'win': {'win_rate': 0.1836734693877551, 'max_attempts': 5.642857142857143}, 'lose': {'win_rate': 0.8163265306122449, 'max_attempts': 6.642857142857143}}, 'medium': {'win': {'win_rate': 0.1836734693877551, 'max_attempts': 5.642857142857143}, 'lose': {'win_rate': 0.8163265306122449, 'max_attempts': 6.642857142857143}}, 'hard': {'win': {'win_rate': 0.1836734693877551, 'max_attempts': 5.642857142857143}, 'lose': {'win_rate': 0.8163265306122449, 'max_attempts': 6.642857142857143}}}, 9: {'easy': {'win': {'win_rate': 0.15602836879432624, 'max_attempts': 5.666666666666667}, 'lose': {'win_rate': 0.8439716312056738, 'max_attempts': 6.666666666666667}}, 'medium': {'win': {'win_rate': 0.15602836879432624, 'max_attempts': 5.666666666666667}, 'lose': {'win_rate': 0.8439716312056738, 'max_attempts': 6.666666666666667}}, 'hard': {'win': {'win_rate': 0.15602836879432624, 'max_attempts': 5.666666666666667}, 'lose': {'win_rate': 0.8439716312056738, 'max_attempts': 6.666666666666667}}}, 12: {'easy': {'win': {'win_rate': 0.16, 'max_attempts': 5.653333333333333}, 'lose': {'win_rate': 0.84, 'max_attempts': 6.653333333333333}}, 'medium': {'win': {'win_rate': 0.16, 'max_attempts': 5.653333333333333}, 'lose': {'win_rate': 0.84, 'max_attempts': 6.653333333333333}}, 'hard': {'win': {'win_rate': 0.16, 'max_attempts': 5.653333333333333}, 'lose': {'win_rate': 0.84, 'max_attempts': 6.653333333333333}}}, 18: {'easy': {'win': {'win_rate': 0.25, 'max_attempts': 5.75}, 'lose': {'win_rate': 0.75, 'max_attempts': 6.75}}, 'medium': {'win': {'win_rate': 0.25, 'max_attempts': 5.75}, 'lose': {'win_rate': 0.75, 'max_attempts': 6.75}}, 'hard': {'win': {'win_rate': 0.25, 'max_attempts': 5.75}, 'lose': {'win_rate': 0.75, 'max_attempts': 6.75}}}, 8: {'easy': {'win': {'win_rate': 0.09523809523809523, 'max_attempts': 5.836734693877551}, 'lose': {'win_rate': 0.9047619047619048, 'max_attempts': 6.836734693877551}}, 'medium': {'win': {'win_rate': 0.09523809523809523, 'max_attempts': 5.836734693877551}, 'lose': {'win_rate': 0.9047619047619048, 'max_attempts': 6.836734693877551}}, 'hard': {'win': {'win_rate': 0.09523809523809523, 'max_attempts': 5.836734693877551}, 'lose': {'win_rate': 0.9047619047619048, 'max_attempts': 6.836734693877551}}}, 14: {'easy': {'win': {'win_rate': 0.19047619047619047, 'max_attempts': 5.5476190476190474}, 'lose': {'win_rate': 0.8095238095238095, 'max_attempts': 6.5476190476190474}}, 'medium': {'win': {'win_rate': 0.19047619047619047, 'max_attempts': 5.5476190476190474}, 'lose': {'win_rate': 0.8095238095238095, 'max_attempts': 6.5476190476190474}}, 'hard': {'win': {'win_rate': 0.19047619047619047, 'max_attempts': 5.5476190476190474}, 'lose': {'win_rate': 0.8095238095238095, 'max_attempts': 6.5476190476190474}}}, 10: {'easy': {'win': {'win_rate': 0.12727272727272726, 'max_attempts': 5.781818181818182}, 'lose': {'win_rate': 0.8727272727272728, 'max_attempts': 6.781818181818182}}, 'medium': {'win': {'win_rate': 0.12727272727272726, 'max_attempts': 5.781818181818182}, 'lose': {'win_rate': 0.8727272727272728, 'max_attempts': 6.781818181818182}}, 'hard': {'win': {'win_rate': 0.12727272727272726, 'max_attempts': 5.781818181818182}, 'lose': {'win_rate': 0.8727272727272728, 'max_attempts': 6.781818181818182}}}, 7: {'easy': {'win': {'win_rate': 0.09, 'max_attempts': 5.79}, 'lose': {'win_rate': 0.91, 'max_attempts': 6.79}}, 'medium': {'win': {'win_rate': 0.09, 'max_attempts': 5.79}, 'lose': {'win_rate': 0.91, 'max_attempts': 6.79}}, 'hard': {'win': {'win_rate': 0.09, 'max_attempts': 5.79}, 'lose': {'win_rate': 0.91, 'max_attempts': 6.79}}}, 19: {'easy': {'win': {'win_rate': 0.0, 'max_attempts': 6.0}, 'lose': {'win_rate': 1.0, 'max_attempts': 7.0}}, 'medium': {'win': {'win_rate': 0.0, 'max_attempts': 6.0}, 'lose': {'win_rate': 1.0, 'max_attempts': 7.0}}, 'hard': {'win': {'win_rate': 0.0, 'max_attempts': 6.0}, 'lose': {'win_rate': 1.0, 'max_attempts': 7.0}}}, 16: {'easy': {'win': {'win_rate': 0.3333333333333333, 'max_attempts': 5.333333333333333}, 'lose': {'win_rate': 0.6666666666666667, 'max_attempts': 6.333333333333333}}, 'medium': {'win': {'win_rate': 0.3333333333333333, 'max_attempts': 5.333333333333333}, 'lose': {'win_rate': 0.6666666666666667, 'max_attempts': 6.333333333333333}}, 'hard': {'win': {'win_rate': 0.3333333333333333, 'max_attempts': 5.333333333333333}, 'lose': {'win_rate': 0.6666666666666667, 'max_attempts': 6.333333333333333}}}, 24: {'easy': {'win': {'win_rate': 0.0, 'max_attempts': 6.0}, 'lose': {'win_rate': 1.0, 'max_attempts': 7.0}}, 'medium': {'win': {'win_rate': 0.0, 'max_attempts': 6.0}, 'lose': {'win_rate': 1.0, 'max_attempts': 7.0}}, 'hard': {'win': {'win_rate': 0.0, 'max_attempts': 6.0}, 'lose': {'win_rate': 1.0, 'max_attempts': 7.0}}}, 17: {'easy': {'win': {'win_rate': 0.2, 'max_attempts': 5.6}, 'lose': {'win_rate': 0.8, 'max_attempts': 6.6}}, 'medium': {'win': {'win_rate': 0.2, 'max_attempts': 5.6}, 'lose': {'win_rate': 0.8, 'max_attempts': 6.6}}, 'hard': {'win': {'win_rate': 0.2, 'max_attempts': 5.6}, 'lose': {'win_rate': 0.8, 'max_attempts': 6.6}}}, 1: {'easy': {'win': {'win_rate': 0.0, 'max_attempts': 6.0}, 'lose': {'win_rate': 1.0, 'max_attempts': 7.0}}, 'medium': {'win': {'win_rate': 0.0, 'max_attempts': 6.0}, 'lose': {'win_rate': 1.0, 'max_attempts': 7.0}}, 'hard': {'win': {'win_rate': 0.0, 'max_attempts': 6.0}, 'lose': {'win_rate': 1.0, 'max_attempts': 7.0}}}, 3: {'easy': {'win': {'win_rate': 0.16666666666666666, 'max_attempts': 5.833333333333333}, 'lose': {'win_rate': 0.8333333333333334, 'max_attempts': 6.833333333333333}}, 'medium': {'win': {'win_rate': 0.16666666666666666, 'max_attempts': 5.833333333333333}, 'lose': {'win_rate': 0.8333333333333334, 'max_attempts': 6.833333333333333}}, 'hard': {'win': {'win_rate': 0.16666666666666666, 'max_attempts': 5.833333333333333}, 'lose': {'win_rate': 0.8333333333333334, 'max_attempts': 6.833333333333333}}}, 20: {'easy': {'win': {'win_rate': 0.0, 'max_attempts': 6.0}, 'lose': {'win_rate': 1.0, 'max_attempts': 7.0}}, 'medium': {'win': {'win_rate': 0.0, 'max_attempts': 6.0}, 'lose': {'win_rate': 1.0, 'max_attempts': 7.0}}, 'hard': {'win': {'win_rate': 0.0, 'max_attempts': 6.0}, 'lose': {'win_rate': 1.0, 'max_attempts': 7.0}}}, 2: {'easy': {'win': {'win_rate': 0.0, 'max_attempts': 6.0}, 'lose': {'win_rate': 1.0, 'max_attempts': 7.0}}, 'medium': {'win': {'win_rate': 0.0, 'max_attempts': 6.0}, 'lose': {'win_rate': 1.0, 'max_attempts': 7.0}}, 'hard': {'win': {'win_rate': 0.0, 'max_attempts': 6.0}, 'lose': {'win_rate': 1.0, 'max_attempts': 7.0}}}}\n",
      "Epoch 14: Training - Avg Loss: 0.016095102904364465, Avg Miss Penalty: 0.012266010837629437\n",
      "Epoch 14: Validation - Win Rate: 0.137\n"
     ]
    },
    {
     "name": "stderr",
     "output_type": "stream",
     "text": [
      "Epochs:  75%|███████▌  | 15/20 [03:29<01:09, 13.96s/it]"
     ]
    },
    {
     "name": "stdout",
     "output_type": "stream",
     "text": [
      "{4: {'easy': {'win': {'win_rate': 0.13333333333333333, 'max_attempts': 5.833333333333333}, 'lose': {'win_rate': 0.8666666666666667, 'max_attempts': 6.833333333333333}}, 'medium': {'win': {'win_rate': 0.13333333333333333, 'max_attempts': 5.833333333333333}, 'lose': {'win_rate': 0.8666666666666667, 'max_attempts': 6.833333333333333}}, 'hard': {'win': {'win_rate': 0.13333333333333333, 'max_attempts': 5.833333333333333}, 'lose': {'win_rate': 0.8666666666666667, 'max_attempts': 6.833333333333333}}}, 5: {'easy': {'win': {'win_rate': 0.03636363636363636, 'max_attempts': 5.890909090909091}, 'lose': {'win_rate': 0.9636363636363636, 'max_attempts': 6.890909090909091}}, 'medium': {'win': {'win_rate': 0.03636363636363636, 'max_attempts': 5.890909090909091}, 'lose': {'win_rate': 0.9636363636363636, 'max_attempts': 6.890909090909091}}, 'hard': {'win': {'win_rate': 0.03636363636363636, 'max_attempts': 5.890909090909091}, 'lose': {'win_rate': 0.9636363636363636, 'max_attempts': 6.890909090909091}}}, 6: {'easy': {'win': {'win_rate': 0.0547945205479452, 'max_attempts': 5.890410958904109}, 'lose': {'win_rate': 0.9452054794520548, 'max_attempts': 6.890410958904109}}, 'medium': {'win': {'win_rate': 0.0547945205479452, 'max_attempts': 5.890410958904109}, 'lose': {'win_rate': 0.9452054794520548, 'max_attempts': 6.890410958904109}}, 'hard': {'win': {'win_rate': 0.0547945205479452, 'max_attempts': 5.890410958904109}, 'lose': {'win_rate': 0.9452054794520548, 'max_attempts': 6.890410958904109}}}, 15: {'easy': {'win': {'win_rate': 0.22727272727272727, 'max_attempts': 5.7272727272727275}, 'lose': {'win_rate': 0.7727272727272727, 'max_attempts': 6.7272727272727275}}, 'medium': {'win': {'win_rate': 0.22727272727272727, 'max_attempts': 5.7272727272727275}, 'lose': {'win_rate': 0.7727272727272727, 'max_attempts': 6.7272727272727275}}, 'hard': {'win': {'win_rate': 0.22727272727272727, 'max_attempts': 5.7272727272727275}, 'lose': {'win_rate': 0.7727272727272727, 'max_attempts': 6.7272727272727275}}}, 13: {'easy': {'win': {'win_rate': 0.23943661971830985, 'max_attempts': 5.633802816901408}, 'lose': {'win_rate': 0.7605633802816901, 'max_attempts': 6.633802816901408}}, 'medium': {'win': {'win_rate': 0.23943661971830985, 'max_attempts': 5.633802816901408}, 'lose': {'win_rate': 0.7605633802816901, 'max_attempts': 6.633802816901408}}, 'hard': {'win': {'win_rate': 0.23943661971830985, 'max_attempts': 5.633802816901408}, 'lose': {'win_rate': 0.7605633802816901, 'max_attempts': 6.633802816901408}}}, 11: {'easy': {'win': {'win_rate': 0.1836734693877551, 'max_attempts': 5.642857142857143}, 'lose': {'win_rate': 0.8163265306122449, 'max_attempts': 6.642857142857143}}, 'medium': {'win': {'win_rate': 0.1836734693877551, 'max_attempts': 5.642857142857143}, 'lose': {'win_rate': 0.8163265306122449, 'max_attempts': 6.642857142857143}}, 'hard': {'win': {'win_rate': 0.1836734693877551, 'max_attempts': 5.642857142857143}, 'lose': {'win_rate': 0.8163265306122449, 'max_attempts': 6.642857142857143}}}, 9: {'easy': {'win': {'win_rate': 0.15602836879432624, 'max_attempts': 5.666666666666667}, 'lose': {'win_rate': 0.8439716312056738, 'max_attempts': 6.666666666666667}}, 'medium': {'win': {'win_rate': 0.15602836879432624, 'max_attempts': 5.666666666666667}, 'lose': {'win_rate': 0.8439716312056738, 'max_attempts': 6.666666666666667}}, 'hard': {'win': {'win_rate': 0.15602836879432624, 'max_attempts': 5.666666666666667}, 'lose': {'win_rate': 0.8439716312056738, 'max_attempts': 6.666666666666667}}}, 12: {'easy': {'win': {'win_rate': 0.16, 'max_attempts': 5.653333333333333}, 'lose': {'win_rate': 0.84, 'max_attempts': 6.653333333333333}}, 'medium': {'win': {'win_rate': 0.16, 'max_attempts': 5.653333333333333}, 'lose': {'win_rate': 0.84, 'max_attempts': 6.653333333333333}}, 'hard': {'win': {'win_rate': 0.16, 'max_attempts': 5.653333333333333}, 'lose': {'win_rate': 0.84, 'max_attempts': 6.653333333333333}}}, 18: {'easy': {'win': {'win_rate': 0.25, 'max_attempts': 5.75}, 'lose': {'win_rate': 0.75, 'max_attempts': 6.75}}, 'medium': {'win': {'win_rate': 0.25, 'max_attempts': 5.75}, 'lose': {'win_rate': 0.75, 'max_attempts': 6.75}}, 'hard': {'win': {'win_rate': 0.25, 'max_attempts': 5.75}, 'lose': {'win_rate': 0.75, 'max_attempts': 6.75}}}, 8: {'easy': {'win': {'win_rate': 0.09523809523809523, 'max_attempts': 5.836734693877551}, 'lose': {'win_rate': 0.9047619047619048, 'max_attempts': 6.836734693877551}}, 'medium': {'win': {'win_rate': 0.09523809523809523, 'max_attempts': 5.836734693877551}, 'lose': {'win_rate': 0.9047619047619048, 'max_attempts': 6.836734693877551}}, 'hard': {'win': {'win_rate': 0.09523809523809523, 'max_attempts': 5.836734693877551}, 'lose': {'win_rate': 0.9047619047619048, 'max_attempts': 6.836734693877551}}}, 14: {'easy': {'win': {'win_rate': 0.19047619047619047, 'max_attempts': 5.5476190476190474}, 'lose': {'win_rate': 0.8095238095238095, 'max_attempts': 6.5476190476190474}}, 'medium': {'win': {'win_rate': 0.19047619047619047, 'max_attempts': 5.5476190476190474}, 'lose': {'win_rate': 0.8095238095238095, 'max_attempts': 6.5476190476190474}}, 'hard': {'win': {'win_rate': 0.19047619047619047, 'max_attempts': 5.5476190476190474}, 'lose': {'win_rate': 0.8095238095238095, 'max_attempts': 6.5476190476190474}}}, 10: {'easy': {'win': {'win_rate': 0.12727272727272726, 'max_attempts': 5.781818181818182}, 'lose': {'win_rate': 0.8727272727272728, 'max_attempts': 6.781818181818182}}, 'medium': {'win': {'win_rate': 0.12727272727272726, 'max_attempts': 5.781818181818182}, 'lose': {'win_rate': 0.8727272727272728, 'max_attempts': 6.781818181818182}}, 'hard': {'win': {'win_rate': 0.12727272727272726, 'max_attempts': 5.781818181818182}, 'lose': {'win_rate': 0.8727272727272728, 'max_attempts': 6.781818181818182}}}, 7: {'easy': {'win': {'win_rate': 0.09, 'max_attempts': 5.79}, 'lose': {'win_rate': 0.91, 'max_attempts': 6.79}}, 'medium': {'win': {'win_rate': 0.09, 'max_attempts': 5.79}, 'lose': {'win_rate': 0.91, 'max_attempts': 6.79}}, 'hard': {'win': {'win_rate': 0.09, 'max_attempts': 5.79}, 'lose': {'win_rate': 0.91, 'max_attempts': 6.79}}}, 19: {'easy': {'win': {'win_rate': 0.0, 'max_attempts': 6.0}, 'lose': {'win_rate': 1.0, 'max_attempts': 7.0}}, 'medium': {'win': {'win_rate': 0.0, 'max_attempts': 6.0}, 'lose': {'win_rate': 1.0, 'max_attempts': 7.0}}, 'hard': {'win': {'win_rate': 0.0, 'max_attempts': 6.0}, 'lose': {'win_rate': 1.0, 'max_attempts': 7.0}}}, 16: {'easy': {'win': {'win_rate': 0.3333333333333333, 'max_attempts': 5.333333333333333}, 'lose': {'win_rate': 0.6666666666666667, 'max_attempts': 6.333333333333333}}, 'medium': {'win': {'win_rate': 0.3333333333333333, 'max_attempts': 5.333333333333333}, 'lose': {'win_rate': 0.6666666666666667, 'max_attempts': 6.333333333333333}}, 'hard': {'win': {'win_rate': 0.3333333333333333, 'max_attempts': 5.333333333333333}, 'lose': {'win_rate': 0.6666666666666667, 'max_attempts': 6.333333333333333}}}, 24: {'easy': {'win': {'win_rate': 0.0, 'max_attempts': 6.0}, 'lose': {'win_rate': 1.0, 'max_attempts': 7.0}}, 'medium': {'win': {'win_rate': 0.0, 'max_attempts': 6.0}, 'lose': {'win_rate': 1.0, 'max_attempts': 7.0}}, 'hard': {'win': {'win_rate': 0.0, 'max_attempts': 6.0}, 'lose': {'win_rate': 1.0, 'max_attempts': 7.0}}}, 17: {'easy': {'win': {'win_rate': 0.2, 'max_attempts': 5.6}, 'lose': {'win_rate': 0.8, 'max_attempts': 6.6}}, 'medium': {'win': {'win_rate': 0.2, 'max_attempts': 5.6}, 'lose': {'win_rate': 0.8, 'max_attempts': 6.6}}, 'hard': {'win': {'win_rate': 0.2, 'max_attempts': 5.6}, 'lose': {'win_rate': 0.8, 'max_attempts': 6.6}}}, 1: {'easy': {'win': {'win_rate': 0.0, 'max_attempts': 6.0}, 'lose': {'win_rate': 1.0, 'max_attempts': 7.0}}, 'medium': {'win': {'win_rate': 0.0, 'max_attempts': 6.0}, 'lose': {'win_rate': 1.0, 'max_attempts': 7.0}}, 'hard': {'win': {'win_rate': 0.0, 'max_attempts': 6.0}, 'lose': {'win_rate': 1.0, 'max_attempts': 7.0}}}, 3: {'easy': {'win': {'win_rate': 0.16666666666666666, 'max_attempts': 5.833333333333333}, 'lose': {'win_rate': 0.8333333333333334, 'max_attempts': 6.833333333333333}}, 'medium': {'win': {'win_rate': 0.16666666666666666, 'max_attempts': 5.833333333333333}, 'lose': {'win_rate': 0.8333333333333334, 'max_attempts': 6.833333333333333}}, 'hard': {'win': {'win_rate': 0.16666666666666666, 'max_attempts': 5.833333333333333}, 'lose': {'win_rate': 0.8333333333333334, 'max_attempts': 6.833333333333333}}}, 20: {'easy': {'win': {'win_rate': 0.0, 'max_attempts': 6.0}, 'lose': {'win_rate': 1.0, 'max_attempts': 7.0}}, 'medium': {'win': {'win_rate': 0.0, 'max_attempts': 6.0}, 'lose': {'win_rate': 1.0, 'max_attempts': 7.0}}, 'hard': {'win': {'win_rate': 0.0, 'max_attempts': 6.0}, 'lose': {'win_rate': 1.0, 'max_attempts': 7.0}}}, 2: {'easy': {'win': {'win_rate': 0.0, 'max_attempts': 6.0}, 'lose': {'win_rate': 1.0, 'max_attempts': 7.0}}, 'medium': {'win': {'win_rate': 0.0, 'max_attempts': 6.0}, 'lose': {'win_rate': 1.0, 'max_attempts': 7.0}}, 'hard': {'win': {'win_rate': 0.0, 'max_attempts': 6.0}, 'lose': {'win_rate': 1.0, 'max_attempts': 7.0}}}}\n",
      "Epoch 15: Training - Avg Loss: 0.017069784202612938, Avg Miss Penalty: 0.012285930919460952\n",
      "Epoch 15: Validation - Win Rate: 0.137\n"
     ]
    },
    {
     "name": "stderr",
     "output_type": "stream",
     "text": [
      "Epochs:  80%|████████  | 16/20 [03:43<00:55, 13.99s/it]"
     ]
    },
    {
     "name": "stdout",
     "output_type": "stream",
     "text": [
      "Epoch 00016: reducing learning rate of group 0 to 3.1250e-06.\n",
      "{4: {'easy': {'win': {'win_rate': 0.13333333333333333, 'max_attempts': 5.833333333333333}, 'lose': {'win_rate': 0.8666666666666667, 'max_attempts': 6.833333333333333}}, 'medium': {'win': {'win_rate': 0.13333333333333333, 'max_attempts': 5.833333333333333}, 'lose': {'win_rate': 0.8666666666666667, 'max_attempts': 6.833333333333333}}, 'hard': {'win': {'win_rate': 0.13333333333333333, 'max_attempts': 5.833333333333333}, 'lose': {'win_rate': 0.8666666666666667, 'max_attempts': 6.833333333333333}}}, 5: {'easy': {'win': {'win_rate': 0.03636363636363636, 'max_attempts': 5.890909090909091}, 'lose': {'win_rate': 0.9636363636363636, 'max_attempts': 6.890909090909091}}, 'medium': {'win': {'win_rate': 0.03636363636363636, 'max_attempts': 5.890909090909091}, 'lose': {'win_rate': 0.9636363636363636, 'max_attempts': 6.890909090909091}}, 'hard': {'win': {'win_rate': 0.03636363636363636, 'max_attempts': 5.890909090909091}, 'lose': {'win_rate': 0.9636363636363636, 'max_attempts': 6.890909090909091}}}, 6: {'easy': {'win': {'win_rate': 0.0547945205479452, 'max_attempts': 5.890410958904109}, 'lose': {'win_rate': 0.9452054794520548, 'max_attempts': 6.890410958904109}}, 'medium': {'win': {'win_rate': 0.0547945205479452, 'max_attempts': 5.890410958904109}, 'lose': {'win_rate': 0.9452054794520548, 'max_attempts': 6.890410958904109}}, 'hard': {'win': {'win_rate': 0.0547945205479452, 'max_attempts': 5.890410958904109}, 'lose': {'win_rate': 0.9452054794520548, 'max_attempts': 6.890410958904109}}}, 15: {'easy': {'win': {'win_rate': 0.22727272727272727, 'max_attempts': 5.7272727272727275}, 'lose': {'win_rate': 0.7727272727272727, 'max_attempts': 6.7272727272727275}}, 'medium': {'win': {'win_rate': 0.22727272727272727, 'max_attempts': 5.7272727272727275}, 'lose': {'win_rate': 0.7727272727272727, 'max_attempts': 6.7272727272727275}}, 'hard': {'win': {'win_rate': 0.22727272727272727, 'max_attempts': 5.7272727272727275}, 'lose': {'win_rate': 0.7727272727272727, 'max_attempts': 6.7272727272727275}}}, 13: {'easy': {'win': {'win_rate': 0.23943661971830985, 'max_attempts': 5.633802816901408}, 'lose': {'win_rate': 0.7605633802816901, 'max_attempts': 6.633802816901408}}, 'medium': {'win': {'win_rate': 0.23943661971830985, 'max_attempts': 5.633802816901408}, 'lose': {'win_rate': 0.7605633802816901, 'max_attempts': 6.633802816901408}}, 'hard': {'win': {'win_rate': 0.23943661971830985, 'max_attempts': 5.633802816901408}, 'lose': {'win_rate': 0.7605633802816901, 'max_attempts': 6.633802816901408}}}, 11: {'easy': {'win': {'win_rate': 0.1836734693877551, 'max_attempts': 5.642857142857143}, 'lose': {'win_rate': 0.8163265306122449, 'max_attempts': 6.642857142857143}}, 'medium': {'win': {'win_rate': 0.1836734693877551, 'max_attempts': 5.642857142857143}, 'lose': {'win_rate': 0.8163265306122449, 'max_attempts': 6.642857142857143}}, 'hard': {'win': {'win_rate': 0.1836734693877551, 'max_attempts': 5.642857142857143}, 'lose': {'win_rate': 0.8163265306122449, 'max_attempts': 6.642857142857143}}}, 9: {'easy': {'win': {'win_rate': 0.15602836879432624, 'max_attempts': 5.666666666666667}, 'lose': {'win_rate': 0.8439716312056738, 'max_attempts': 6.666666666666667}}, 'medium': {'win': {'win_rate': 0.15602836879432624, 'max_attempts': 5.666666666666667}, 'lose': {'win_rate': 0.8439716312056738, 'max_attempts': 6.666666666666667}}, 'hard': {'win': {'win_rate': 0.15602836879432624, 'max_attempts': 5.666666666666667}, 'lose': {'win_rate': 0.8439716312056738, 'max_attempts': 6.666666666666667}}}, 12: {'easy': {'win': {'win_rate': 0.16, 'max_attempts': 5.653333333333333}, 'lose': {'win_rate': 0.84, 'max_attempts': 6.653333333333333}}, 'medium': {'win': {'win_rate': 0.16, 'max_attempts': 5.653333333333333}, 'lose': {'win_rate': 0.84, 'max_attempts': 6.653333333333333}}, 'hard': {'win': {'win_rate': 0.16, 'max_attempts': 5.653333333333333}, 'lose': {'win_rate': 0.84, 'max_attempts': 6.653333333333333}}}, 18: {'easy': {'win': {'win_rate': 0.25, 'max_attempts': 5.75}, 'lose': {'win_rate': 0.75, 'max_attempts': 6.75}}, 'medium': {'win': {'win_rate': 0.25, 'max_attempts': 5.75}, 'lose': {'win_rate': 0.75, 'max_attempts': 6.75}}, 'hard': {'win': {'win_rate': 0.25, 'max_attempts': 5.75}, 'lose': {'win_rate': 0.75, 'max_attempts': 6.75}}}, 8: {'easy': {'win': {'win_rate': 0.09523809523809523, 'max_attempts': 5.836734693877551}, 'lose': {'win_rate': 0.9047619047619048, 'max_attempts': 6.836734693877551}}, 'medium': {'win': {'win_rate': 0.09523809523809523, 'max_attempts': 5.836734693877551}, 'lose': {'win_rate': 0.9047619047619048, 'max_attempts': 6.836734693877551}}, 'hard': {'win': {'win_rate': 0.09523809523809523, 'max_attempts': 5.836734693877551}, 'lose': {'win_rate': 0.9047619047619048, 'max_attempts': 6.836734693877551}}}, 14: {'easy': {'win': {'win_rate': 0.19047619047619047, 'max_attempts': 5.5476190476190474}, 'lose': {'win_rate': 0.8095238095238095, 'max_attempts': 6.5476190476190474}}, 'medium': {'win': {'win_rate': 0.19047619047619047, 'max_attempts': 5.5476190476190474}, 'lose': {'win_rate': 0.8095238095238095, 'max_attempts': 6.5476190476190474}}, 'hard': {'win': {'win_rate': 0.19047619047619047, 'max_attempts': 5.5476190476190474}, 'lose': {'win_rate': 0.8095238095238095, 'max_attempts': 6.5476190476190474}}}, 10: {'easy': {'win': {'win_rate': 0.12727272727272726, 'max_attempts': 5.781818181818182}, 'lose': {'win_rate': 0.8727272727272728, 'max_attempts': 6.781818181818182}}, 'medium': {'win': {'win_rate': 0.12727272727272726, 'max_attempts': 5.781818181818182}, 'lose': {'win_rate': 0.8727272727272728, 'max_attempts': 6.781818181818182}}, 'hard': {'win': {'win_rate': 0.12727272727272726, 'max_attempts': 5.781818181818182}, 'lose': {'win_rate': 0.8727272727272728, 'max_attempts': 6.781818181818182}}}, 7: {'easy': {'win': {'win_rate': 0.09, 'max_attempts': 5.79}, 'lose': {'win_rate': 0.91, 'max_attempts': 6.79}}, 'medium': {'win': {'win_rate': 0.09, 'max_attempts': 5.79}, 'lose': {'win_rate': 0.91, 'max_attempts': 6.79}}, 'hard': {'win': {'win_rate': 0.09, 'max_attempts': 5.79}, 'lose': {'win_rate': 0.91, 'max_attempts': 6.79}}}, 19: {'easy': {'win': {'win_rate': 0.0, 'max_attempts': 6.0}, 'lose': {'win_rate': 1.0, 'max_attempts': 7.0}}, 'medium': {'win': {'win_rate': 0.0, 'max_attempts': 6.0}, 'lose': {'win_rate': 1.0, 'max_attempts': 7.0}}, 'hard': {'win': {'win_rate': 0.0, 'max_attempts': 6.0}, 'lose': {'win_rate': 1.0, 'max_attempts': 7.0}}}, 16: {'easy': {'win': {'win_rate': 0.3333333333333333, 'max_attempts': 5.333333333333333}, 'lose': {'win_rate': 0.6666666666666667, 'max_attempts': 6.333333333333333}}, 'medium': {'win': {'win_rate': 0.3333333333333333, 'max_attempts': 5.333333333333333}, 'lose': {'win_rate': 0.6666666666666667, 'max_attempts': 6.333333333333333}}, 'hard': {'win': {'win_rate': 0.3333333333333333, 'max_attempts': 5.333333333333333}, 'lose': {'win_rate': 0.6666666666666667, 'max_attempts': 6.333333333333333}}}, 24: {'easy': {'win': {'win_rate': 0.0, 'max_attempts': 6.0}, 'lose': {'win_rate': 1.0, 'max_attempts': 7.0}}, 'medium': {'win': {'win_rate': 0.0, 'max_attempts': 6.0}, 'lose': {'win_rate': 1.0, 'max_attempts': 7.0}}, 'hard': {'win': {'win_rate': 0.0, 'max_attempts': 6.0}, 'lose': {'win_rate': 1.0, 'max_attempts': 7.0}}}, 17: {'easy': {'win': {'win_rate': 0.2, 'max_attempts': 5.6}, 'lose': {'win_rate': 0.8, 'max_attempts': 6.6}}, 'medium': {'win': {'win_rate': 0.2, 'max_attempts': 5.6}, 'lose': {'win_rate': 0.8, 'max_attempts': 6.6}}, 'hard': {'win': {'win_rate': 0.2, 'max_attempts': 5.6}, 'lose': {'win_rate': 0.8, 'max_attempts': 6.6}}}, 1: {'easy': {'win': {'win_rate': 0.0, 'max_attempts': 6.0}, 'lose': {'win_rate': 1.0, 'max_attempts': 7.0}}, 'medium': {'win': {'win_rate': 0.0, 'max_attempts': 6.0}, 'lose': {'win_rate': 1.0, 'max_attempts': 7.0}}, 'hard': {'win': {'win_rate': 0.0, 'max_attempts': 6.0}, 'lose': {'win_rate': 1.0, 'max_attempts': 7.0}}}, 3: {'easy': {'win': {'win_rate': 0.16666666666666666, 'max_attempts': 5.833333333333333}, 'lose': {'win_rate': 0.8333333333333334, 'max_attempts': 6.833333333333333}}, 'medium': {'win': {'win_rate': 0.16666666666666666, 'max_attempts': 5.833333333333333}, 'lose': {'win_rate': 0.8333333333333334, 'max_attempts': 6.833333333333333}}, 'hard': {'win': {'win_rate': 0.16666666666666666, 'max_attempts': 5.833333333333333}, 'lose': {'win_rate': 0.8333333333333334, 'max_attempts': 6.833333333333333}}}, 20: {'easy': {'win': {'win_rate': 0.0, 'max_attempts': 6.0}, 'lose': {'win_rate': 1.0, 'max_attempts': 7.0}}, 'medium': {'win': {'win_rate': 0.0, 'max_attempts': 6.0}, 'lose': {'win_rate': 1.0, 'max_attempts': 7.0}}, 'hard': {'win': {'win_rate': 0.0, 'max_attempts': 6.0}, 'lose': {'win_rate': 1.0, 'max_attempts': 7.0}}}, 2: {'easy': {'win': {'win_rate': 0.0, 'max_attempts': 6.0}, 'lose': {'win_rate': 1.0, 'max_attempts': 7.0}}, 'medium': {'win': {'win_rate': 0.0, 'max_attempts': 6.0}, 'lose': {'win_rate': 1.0, 'max_attempts': 7.0}}, 'hard': {'win': {'win_rate': 0.0, 'max_attempts': 6.0}, 'lose': {'win_rate': 1.0, 'max_attempts': 7.0}}}}\n",
      "Epoch 16: Training - Avg Loss: 0.017436380428262056, Avg Miss Penalty: 0.012259512254968286\n",
      "Epoch 16: Validation - Win Rate: 0.137\n"
     ]
    },
    {
     "name": "stderr",
     "output_type": "stream",
     "text": [
      "Epochs:  85%|████████▌ | 17/20 [03:57<00:42, 14.03s/it]"
     ]
    },
    {
     "name": "stdout",
     "output_type": "stream",
     "text": [
      "{4: {'easy': {'win': {'win_rate': 0.13333333333333333, 'max_attempts': 5.833333333333333}, 'lose': {'win_rate': 0.8666666666666667, 'max_attempts': 6.833333333333333}}, 'medium': {'win': {'win_rate': 0.13333333333333333, 'max_attempts': 5.833333333333333}, 'lose': {'win_rate': 0.8666666666666667, 'max_attempts': 6.833333333333333}}, 'hard': {'win': {'win_rate': 0.13333333333333333, 'max_attempts': 5.833333333333333}, 'lose': {'win_rate': 0.8666666666666667, 'max_attempts': 6.833333333333333}}}, 5: {'easy': {'win': {'win_rate': 0.03636363636363636, 'max_attempts': 5.890909090909091}, 'lose': {'win_rate': 0.9636363636363636, 'max_attempts': 6.890909090909091}}, 'medium': {'win': {'win_rate': 0.03636363636363636, 'max_attempts': 5.890909090909091}, 'lose': {'win_rate': 0.9636363636363636, 'max_attempts': 6.890909090909091}}, 'hard': {'win': {'win_rate': 0.03636363636363636, 'max_attempts': 5.890909090909091}, 'lose': {'win_rate': 0.9636363636363636, 'max_attempts': 6.890909090909091}}}, 6: {'easy': {'win': {'win_rate': 0.0547945205479452, 'max_attempts': 5.890410958904109}, 'lose': {'win_rate': 0.9452054794520548, 'max_attempts': 6.890410958904109}}, 'medium': {'win': {'win_rate': 0.0547945205479452, 'max_attempts': 5.890410958904109}, 'lose': {'win_rate': 0.9452054794520548, 'max_attempts': 6.890410958904109}}, 'hard': {'win': {'win_rate': 0.0547945205479452, 'max_attempts': 5.890410958904109}, 'lose': {'win_rate': 0.9452054794520548, 'max_attempts': 6.890410958904109}}}, 15: {'easy': {'win': {'win_rate': 0.22727272727272727, 'max_attempts': 5.7272727272727275}, 'lose': {'win_rate': 0.7727272727272727, 'max_attempts': 6.7272727272727275}}, 'medium': {'win': {'win_rate': 0.22727272727272727, 'max_attempts': 5.7272727272727275}, 'lose': {'win_rate': 0.7727272727272727, 'max_attempts': 6.7272727272727275}}, 'hard': {'win': {'win_rate': 0.22727272727272727, 'max_attempts': 5.7272727272727275}, 'lose': {'win_rate': 0.7727272727272727, 'max_attempts': 6.7272727272727275}}}, 13: {'easy': {'win': {'win_rate': 0.23943661971830985, 'max_attempts': 5.633802816901408}, 'lose': {'win_rate': 0.7605633802816901, 'max_attempts': 6.633802816901408}}, 'medium': {'win': {'win_rate': 0.23943661971830985, 'max_attempts': 5.633802816901408}, 'lose': {'win_rate': 0.7605633802816901, 'max_attempts': 6.633802816901408}}, 'hard': {'win': {'win_rate': 0.23943661971830985, 'max_attempts': 5.633802816901408}, 'lose': {'win_rate': 0.7605633802816901, 'max_attempts': 6.633802816901408}}}, 11: {'easy': {'win': {'win_rate': 0.1836734693877551, 'max_attempts': 5.642857142857143}, 'lose': {'win_rate': 0.8163265306122449, 'max_attempts': 6.642857142857143}}, 'medium': {'win': {'win_rate': 0.1836734693877551, 'max_attempts': 5.642857142857143}, 'lose': {'win_rate': 0.8163265306122449, 'max_attempts': 6.642857142857143}}, 'hard': {'win': {'win_rate': 0.1836734693877551, 'max_attempts': 5.642857142857143}, 'lose': {'win_rate': 0.8163265306122449, 'max_attempts': 6.642857142857143}}}, 9: {'easy': {'win': {'win_rate': 0.15602836879432624, 'max_attempts': 5.666666666666667}, 'lose': {'win_rate': 0.8439716312056738, 'max_attempts': 6.666666666666667}}, 'medium': {'win': {'win_rate': 0.15602836879432624, 'max_attempts': 5.666666666666667}, 'lose': {'win_rate': 0.8439716312056738, 'max_attempts': 6.666666666666667}}, 'hard': {'win': {'win_rate': 0.15602836879432624, 'max_attempts': 5.666666666666667}, 'lose': {'win_rate': 0.8439716312056738, 'max_attempts': 6.666666666666667}}}, 12: {'easy': {'win': {'win_rate': 0.16, 'max_attempts': 5.653333333333333}, 'lose': {'win_rate': 0.84, 'max_attempts': 6.653333333333333}}, 'medium': {'win': {'win_rate': 0.16, 'max_attempts': 5.653333333333333}, 'lose': {'win_rate': 0.84, 'max_attempts': 6.653333333333333}}, 'hard': {'win': {'win_rate': 0.16, 'max_attempts': 5.653333333333333}, 'lose': {'win_rate': 0.84, 'max_attempts': 6.653333333333333}}}, 18: {'easy': {'win': {'win_rate': 0.25, 'max_attempts': 5.75}, 'lose': {'win_rate': 0.75, 'max_attempts': 6.75}}, 'medium': {'win': {'win_rate': 0.25, 'max_attempts': 5.75}, 'lose': {'win_rate': 0.75, 'max_attempts': 6.75}}, 'hard': {'win': {'win_rate': 0.25, 'max_attempts': 5.75}, 'lose': {'win_rate': 0.75, 'max_attempts': 6.75}}}, 8: {'easy': {'win': {'win_rate': 0.09523809523809523, 'max_attempts': 5.836734693877551}, 'lose': {'win_rate': 0.9047619047619048, 'max_attempts': 6.836734693877551}}, 'medium': {'win': {'win_rate': 0.09523809523809523, 'max_attempts': 5.836734693877551}, 'lose': {'win_rate': 0.9047619047619048, 'max_attempts': 6.836734693877551}}, 'hard': {'win': {'win_rate': 0.09523809523809523, 'max_attempts': 5.836734693877551}, 'lose': {'win_rate': 0.9047619047619048, 'max_attempts': 6.836734693877551}}}, 14: {'easy': {'win': {'win_rate': 0.19047619047619047, 'max_attempts': 5.5476190476190474}, 'lose': {'win_rate': 0.8095238095238095, 'max_attempts': 6.5476190476190474}}, 'medium': {'win': {'win_rate': 0.19047619047619047, 'max_attempts': 5.5476190476190474}, 'lose': {'win_rate': 0.8095238095238095, 'max_attempts': 6.5476190476190474}}, 'hard': {'win': {'win_rate': 0.19047619047619047, 'max_attempts': 5.5476190476190474}, 'lose': {'win_rate': 0.8095238095238095, 'max_attempts': 6.5476190476190474}}}, 10: {'easy': {'win': {'win_rate': 0.12727272727272726, 'max_attempts': 5.781818181818182}, 'lose': {'win_rate': 0.8727272727272728, 'max_attempts': 6.781818181818182}}, 'medium': {'win': {'win_rate': 0.12727272727272726, 'max_attempts': 5.781818181818182}, 'lose': {'win_rate': 0.8727272727272728, 'max_attempts': 6.781818181818182}}, 'hard': {'win': {'win_rate': 0.12727272727272726, 'max_attempts': 5.781818181818182}, 'lose': {'win_rate': 0.8727272727272728, 'max_attempts': 6.781818181818182}}}, 7: {'easy': {'win': {'win_rate': 0.09, 'max_attempts': 5.79}, 'lose': {'win_rate': 0.91, 'max_attempts': 6.79}}, 'medium': {'win': {'win_rate': 0.09, 'max_attempts': 5.79}, 'lose': {'win_rate': 0.91, 'max_attempts': 6.79}}, 'hard': {'win': {'win_rate': 0.09, 'max_attempts': 5.79}, 'lose': {'win_rate': 0.91, 'max_attempts': 6.79}}}, 19: {'easy': {'win': {'win_rate': 0.0, 'max_attempts': 6.0}, 'lose': {'win_rate': 1.0, 'max_attempts': 7.0}}, 'medium': {'win': {'win_rate': 0.0, 'max_attempts': 6.0}, 'lose': {'win_rate': 1.0, 'max_attempts': 7.0}}, 'hard': {'win': {'win_rate': 0.0, 'max_attempts': 6.0}, 'lose': {'win_rate': 1.0, 'max_attempts': 7.0}}}, 16: {'easy': {'win': {'win_rate': 0.3333333333333333, 'max_attempts': 5.333333333333333}, 'lose': {'win_rate': 0.6666666666666667, 'max_attempts': 6.333333333333333}}, 'medium': {'win': {'win_rate': 0.3333333333333333, 'max_attempts': 5.333333333333333}, 'lose': {'win_rate': 0.6666666666666667, 'max_attempts': 6.333333333333333}}, 'hard': {'win': {'win_rate': 0.3333333333333333, 'max_attempts': 5.333333333333333}, 'lose': {'win_rate': 0.6666666666666667, 'max_attempts': 6.333333333333333}}}, 24: {'easy': {'win': {'win_rate': 0.0, 'max_attempts': 6.0}, 'lose': {'win_rate': 1.0, 'max_attempts': 7.0}}, 'medium': {'win': {'win_rate': 0.0, 'max_attempts': 6.0}, 'lose': {'win_rate': 1.0, 'max_attempts': 7.0}}, 'hard': {'win': {'win_rate': 0.0, 'max_attempts': 6.0}, 'lose': {'win_rate': 1.0, 'max_attempts': 7.0}}}, 17: {'easy': {'win': {'win_rate': 0.2, 'max_attempts': 5.6}, 'lose': {'win_rate': 0.8, 'max_attempts': 6.6}}, 'medium': {'win': {'win_rate': 0.2, 'max_attempts': 5.6}, 'lose': {'win_rate': 0.8, 'max_attempts': 6.6}}, 'hard': {'win': {'win_rate': 0.2, 'max_attempts': 5.6}, 'lose': {'win_rate': 0.8, 'max_attempts': 6.6}}}, 1: {'easy': {'win': {'win_rate': 0.0, 'max_attempts': 6.0}, 'lose': {'win_rate': 1.0, 'max_attempts': 7.0}}, 'medium': {'win': {'win_rate': 0.0, 'max_attempts': 6.0}, 'lose': {'win_rate': 1.0, 'max_attempts': 7.0}}, 'hard': {'win': {'win_rate': 0.0, 'max_attempts': 6.0}, 'lose': {'win_rate': 1.0, 'max_attempts': 7.0}}}, 3: {'easy': {'win': {'win_rate': 0.16666666666666666, 'max_attempts': 5.833333333333333}, 'lose': {'win_rate': 0.8333333333333334, 'max_attempts': 6.833333333333333}}, 'medium': {'win': {'win_rate': 0.16666666666666666, 'max_attempts': 5.833333333333333}, 'lose': {'win_rate': 0.8333333333333334, 'max_attempts': 6.833333333333333}}, 'hard': {'win': {'win_rate': 0.16666666666666666, 'max_attempts': 5.833333333333333}, 'lose': {'win_rate': 0.8333333333333334, 'max_attempts': 6.833333333333333}}}, 20: {'easy': {'win': {'win_rate': 0.0, 'max_attempts': 6.0}, 'lose': {'win_rate': 1.0, 'max_attempts': 7.0}}, 'medium': {'win': {'win_rate': 0.0, 'max_attempts': 6.0}, 'lose': {'win_rate': 1.0, 'max_attempts': 7.0}}, 'hard': {'win': {'win_rate': 0.0, 'max_attempts': 6.0}, 'lose': {'win_rate': 1.0, 'max_attempts': 7.0}}}, 2: {'easy': {'win': {'win_rate': 0.0, 'max_attempts': 6.0}, 'lose': {'win_rate': 1.0, 'max_attempts': 7.0}}, 'medium': {'win': {'win_rate': 0.0, 'max_attempts': 6.0}, 'lose': {'win_rate': 1.0, 'max_attempts': 7.0}}, 'hard': {'win': {'win_rate': 0.0, 'max_attempts': 6.0}, 'lose': {'win_rate': 1.0, 'max_attempts': 7.0}}}}\n",
      "Epoch 17: Training - Avg Loss: 0.016935017751529814, Avg Miss Penalty: 0.01213453565724194\n",
      "Epoch 17: Validation - Win Rate: 0.137\n"
     ]
    },
    {
     "name": "stderr",
     "output_type": "stream",
     "text": [
      "Epochs:  90%|█████████ | 18/20 [04:11<00:28, 14.17s/it]"
     ]
    },
    {
     "name": "stdout",
     "output_type": "stream",
     "text": [
      "{4: {'easy': {'win': {'win_rate': 0.13333333333333333, 'max_attempts': 5.833333333333333}, 'lose': {'win_rate': 0.8666666666666667, 'max_attempts': 6.833333333333333}}, 'medium': {'win': {'win_rate': 0.13333333333333333, 'max_attempts': 5.833333333333333}, 'lose': {'win_rate': 0.8666666666666667, 'max_attempts': 6.833333333333333}}, 'hard': {'win': {'win_rate': 0.13333333333333333, 'max_attempts': 5.833333333333333}, 'lose': {'win_rate': 0.8666666666666667, 'max_attempts': 6.833333333333333}}}, 5: {'easy': {'win': {'win_rate': 0.03636363636363636, 'max_attempts': 5.890909090909091}, 'lose': {'win_rate': 0.9636363636363636, 'max_attempts': 6.890909090909091}}, 'medium': {'win': {'win_rate': 0.03636363636363636, 'max_attempts': 5.890909090909091}, 'lose': {'win_rate': 0.9636363636363636, 'max_attempts': 6.890909090909091}}, 'hard': {'win': {'win_rate': 0.03636363636363636, 'max_attempts': 5.890909090909091}, 'lose': {'win_rate': 0.9636363636363636, 'max_attempts': 6.890909090909091}}}, 6: {'easy': {'win': {'win_rate': 0.0547945205479452, 'max_attempts': 5.890410958904109}, 'lose': {'win_rate': 0.9452054794520548, 'max_attempts': 6.890410958904109}}, 'medium': {'win': {'win_rate': 0.0547945205479452, 'max_attempts': 5.890410958904109}, 'lose': {'win_rate': 0.9452054794520548, 'max_attempts': 6.890410958904109}}, 'hard': {'win': {'win_rate': 0.0547945205479452, 'max_attempts': 5.890410958904109}, 'lose': {'win_rate': 0.9452054794520548, 'max_attempts': 6.890410958904109}}}, 15: {'easy': {'win': {'win_rate': 0.22727272727272727, 'max_attempts': 5.7272727272727275}, 'lose': {'win_rate': 0.7727272727272727, 'max_attempts': 6.7272727272727275}}, 'medium': {'win': {'win_rate': 0.22727272727272727, 'max_attempts': 5.7272727272727275}, 'lose': {'win_rate': 0.7727272727272727, 'max_attempts': 6.7272727272727275}}, 'hard': {'win': {'win_rate': 0.22727272727272727, 'max_attempts': 5.7272727272727275}, 'lose': {'win_rate': 0.7727272727272727, 'max_attempts': 6.7272727272727275}}}, 13: {'easy': {'win': {'win_rate': 0.23943661971830985, 'max_attempts': 5.633802816901408}, 'lose': {'win_rate': 0.7605633802816901, 'max_attempts': 6.633802816901408}}, 'medium': {'win': {'win_rate': 0.23943661971830985, 'max_attempts': 5.633802816901408}, 'lose': {'win_rate': 0.7605633802816901, 'max_attempts': 6.633802816901408}}, 'hard': {'win': {'win_rate': 0.23943661971830985, 'max_attempts': 5.633802816901408}, 'lose': {'win_rate': 0.7605633802816901, 'max_attempts': 6.633802816901408}}}, 11: {'easy': {'win': {'win_rate': 0.1836734693877551, 'max_attempts': 5.642857142857143}, 'lose': {'win_rate': 0.8163265306122449, 'max_attempts': 6.642857142857143}}, 'medium': {'win': {'win_rate': 0.1836734693877551, 'max_attempts': 5.642857142857143}, 'lose': {'win_rate': 0.8163265306122449, 'max_attempts': 6.642857142857143}}, 'hard': {'win': {'win_rate': 0.1836734693877551, 'max_attempts': 5.642857142857143}, 'lose': {'win_rate': 0.8163265306122449, 'max_attempts': 6.642857142857143}}}, 9: {'easy': {'win': {'win_rate': 0.15602836879432624, 'max_attempts': 5.666666666666667}, 'lose': {'win_rate': 0.8439716312056738, 'max_attempts': 6.666666666666667}}, 'medium': {'win': {'win_rate': 0.15602836879432624, 'max_attempts': 5.666666666666667}, 'lose': {'win_rate': 0.8439716312056738, 'max_attempts': 6.666666666666667}}, 'hard': {'win': {'win_rate': 0.15602836879432624, 'max_attempts': 5.666666666666667}, 'lose': {'win_rate': 0.8439716312056738, 'max_attempts': 6.666666666666667}}}, 12: {'easy': {'win': {'win_rate': 0.16, 'max_attempts': 5.653333333333333}, 'lose': {'win_rate': 0.84, 'max_attempts': 6.653333333333333}}, 'medium': {'win': {'win_rate': 0.16, 'max_attempts': 5.653333333333333}, 'lose': {'win_rate': 0.84, 'max_attempts': 6.653333333333333}}, 'hard': {'win': {'win_rate': 0.16, 'max_attempts': 5.653333333333333}, 'lose': {'win_rate': 0.84, 'max_attempts': 6.653333333333333}}}, 18: {'easy': {'win': {'win_rate': 0.25, 'max_attempts': 5.75}, 'lose': {'win_rate': 0.75, 'max_attempts': 6.75}}, 'medium': {'win': {'win_rate': 0.25, 'max_attempts': 5.75}, 'lose': {'win_rate': 0.75, 'max_attempts': 6.75}}, 'hard': {'win': {'win_rate': 0.25, 'max_attempts': 5.75}, 'lose': {'win_rate': 0.75, 'max_attempts': 6.75}}}, 8: {'easy': {'win': {'win_rate': 0.09523809523809523, 'max_attempts': 5.836734693877551}, 'lose': {'win_rate': 0.9047619047619048, 'max_attempts': 6.836734693877551}}, 'medium': {'win': {'win_rate': 0.09523809523809523, 'max_attempts': 5.836734693877551}, 'lose': {'win_rate': 0.9047619047619048, 'max_attempts': 6.836734693877551}}, 'hard': {'win': {'win_rate': 0.09523809523809523, 'max_attempts': 5.836734693877551}, 'lose': {'win_rate': 0.9047619047619048, 'max_attempts': 6.836734693877551}}}, 14: {'easy': {'win': {'win_rate': 0.19047619047619047, 'max_attempts': 5.5476190476190474}, 'lose': {'win_rate': 0.8095238095238095, 'max_attempts': 6.5476190476190474}}, 'medium': {'win': {'win_rate': 0.19047619047619047, 'max_attempts': 5.5476190476190474}, 'lose': {'win_rate': 0.8095238095238095, 'max_attempts': 6.5476190476190474}}, 'hard': {'win': {'win_rate': 0.19047619047619047, 'max_attempts': 5.5476190476190474}, 'lose': {'win_rate': 0.8095238095238095, 'max_attempts': 6.5476190476190474}}}, 10: {'easy': {'win': {'win_rate': 0.12727272727272726, 'max_attempts': 5.781818181818182}, 'lose': {'win_rate': 0.8727272727272728, 'max_attempts': 6.781818181818182}}, 'medium': {'win': {'win_rate': 0.12727272727272726, 'max_attempts': 5.781818181818182}, 'lose': {'win_rate': 0.8727272727272728, 'max_attempts': 6.781818181818182}}, 'hard': {'win': {'win_rate': 0.12727272727272726, 'max_attempts': 5.781818181818182}, 'lose': {'win_rate': 0.8727272727272728, 'max_attempts': 6.781818181818182}}}, 7: {'easy': {'win': {'win_rate': 0.09, 'max_attempts': 5.79}, 'lose': {'win_rate': 0.91, 'max_attempts': 6.79}}, 'medium': {'win': {'win_rate': 0.09, 'max_attempts': 5.79}, 'lose': {'win_rate': 0.91, 'max_attempts': 6.79}}, 'hard': {'win': {'win_rate': 0.09, 'max_attempts': 5.79}, 'lose': {'win_rate': 0.91, 'max_attempts': 6.79}}}, 19: {'easy': {'win': {'win_rate': 0.0, 'max_attempts': 6.0}, 'lose': {'win_rate': 1.0, 'max_attempts': 7.0}}, 'medium': {'win': {'win_rate': 0.0, 'max_attempts': 6.0}, 'lose': {'win_rate': 1.0, 'max_attempts': 7.0}}, 'hard': {'win': {'win_rate': 0.0, 'max_attempts': 6.0}, 'lose': {'win_rate': 1.0, 'max_attempts': 7.0}}}, 16: {'easy': {'win': {'win_rate': 0.3333333333333333, 'max_attempts': 5.333333333333333}, 'lose': {'win_rate': 0.6666666666666667, 'max_attempts': 6.333333333333333}}, 'medium': {'win': {'win_rate': 0.3333333333333333, 'max_attempts': 5.333333333333333}, 'lose': {'win_rate': 0.6666666666666667, 'max_attempts': 6.333333333333333}}, 'hard': {'win': {'win_rate': 0.3333333333333333, 'max_attempts': 5.333333333333333}, 'lose': {'win_rate': 0.6666666666666667, 'max_attempts': 6.333333333333333}}}, 24: {'easy': {'win': {'win_rate': 0.0, 'max_attempts': 6.0}, 'lose': {'win_rate': 1.0, 'max_attempts': 7.0}}, 'medium': {'win': {'win_rate': 0.0, 'max_attempts': 6.0}, 'lose': {'win_rate': 1.0, 'max_attempts': 7.0}}, 'hard': {'win': {'win_rate': 0.0, 'max_attempts': 6.0}, 'lose': {'win_rate': 1.0, 'max_attempts': 7.0}}}, 17: {'easy': {'win': {'win_rate': 0.2, 'max_attempts': 5.6}, 'lose': {'win_rate': 0.8, 'max_attempts': 6.6}}, 'medium': {'win': {'win_rate': 0.2, 'max_attempts': 5.6}, 'lose': {'win_rate': 0.8, 'max_attempts': 6.6}}, 'hard': {'win': {'win_rate': 0.2, 'max_attempts': 5.6}, 'lose': {'win_rate': 0.8, 'max_attempts': 6.6}}}, 1: {'easy': {'win': {'win_rate': 0.0, 'max_attempts': 6.0}, 'lose': {'win_rate': 1.0, 'max_attempts': 7.0}}, 'medium': {'win': {'win_rate': 0.0, 'max_attempts': 6.0}, 'lose': {'win_rate': 1.0, 'max_attempts': 7.0}}, 'hard': {'win': {'win_rate': 0.0, 'max_attempts': 6.0}, 'lose': {'win_rate': 1.0, 'max_attempts': 7.0}}}, 3: {'easy': {'win': {'win_rate': 0.16666666666666666, 'max_attempts': 5.833333333333333}, 'lose': {'win_rate': 0.8333333333333334, 'max_attempts': 6.833333333333333}}, 'medium': {'win': {'win_rate': 0.16666666666666666, 'max_attempts': 5.833333333333333}, 'lose': {'win_rate': 0.8333333333333334, 'max_attempts': 6.833333333333333}}, 'hard': {'win': {'win_rate': 0.16666666666666666, 'max_attempts': 5.833333333333333}, 'lose': {'win_rate': 0.8333333333333334, 'max_attempts': 6.833333333333333}}}, 20: {'easy': {'win': {'win_rate': 0.0, 'max_attempts': 6.0}, 'lose': {'win_rate': 1.0, 'max_attempts': 7.0}}, 'medium': {'win': {'win_rate': 0.0, 'max_attempts': 6.0}, 'lose': {'win_rate': 1.0, 'max_attempts': 7.0}}, 'hard': {'win': {'win_rate': 0.0, 'max_attempts': 6.0}, 'lose': {'win_rate': 1.0, 'max_attempts': 7.0}}}, 2: {'easy': {'win': {'win_rate': 0.0, 'max_attempts': 6.0}, 'lose': {'win_rate': 1.0, 'max_attempts': 7.0}}, 'medium': {'win': {'win_rate': 0.0, 'max_attempts': 6.0}, 'lose': {'win_rate': 1.0, 'max_attempts': 7.0}}, 'hard': {'win': {'win_rate': 0.0, 'max_attempts': 6.0}, 'lose': {'win_rate': 1.0, 'max_attempts': 7.0}}}}\n",
      "Epoch 18: Training - Avg Loss: 0.01757190250791609, Avg Miss Penalty: 0.012119631539098919\n",
      "Epoch 18: Validation - Win Rate: 0.137\n"
     ]
    },
    {
     "name": "stderr",
     "output_type": "stream",
     "text": [
      "Epochs:  95%|█████████▌| 19/20 [04:26<00:14, 14.18s/it]"
     ]
    },
    {
     "name": "stdout",
     "output_type": "stream",
     "text": [
      "Epoch 00019: reducing learning rate of group 0 to 1.5625e-06.\n",
      "{4: {'easy': {'win': {'win_rate': 0.13333333333333333, 'max_attempts': 5.833333333333333}, 'lose': {'win_rate': 0.8666666666666667, 'max_attempts': 6.833333333333333}}, 'medium': {'win': {'win_rate': 0.13333333333333333, 'max_attempts': 5.833333333333333}, 'lose': {'win_rate': 0.8666666666666667, 'max_attempts': 6.833333333333333}}, 'hard': {'win': {'win_rate': 0.13333333333333333, 'max_attempts': 5.833333333333333}, 'lose': {'win_rate': 0.8666666666666667, 'max_attempts': 6.833333333333333}}}, 5: {'easy': {'win': {'win_rate': 0.03636363636363636, 'max_attempts': 5.890909090909091}, 'lose': {'win_rate': 0.9636363636363636, 'max_attempts': 6.890909090909091}}, 'medium': {'win': {'win_rate': 0.03636363636363636, 'max_attempts': 5.890909090909091}, 'lose': {'win_rate': 0.9636363636363636, 'max_attempts': 6.890909090909091}}, 'hard': {'win': {'win_rate': 0.03636363636363636, 'max_attempts': 5.890909090909091}, 'lose': {'win_rate': 0.9636363636363636, 'max_attempts': 6.890909090909091}}}, 6: {'easy': {'win': {'win_rate': 0.0547945205479452, 'max_attempts': 5.890410958904109}, 'lose': {'win_rate': 0.9452054794520548, 'max_attempts': 6.890410958904109}}, 'medium': {'win': {'win_rate': 0.0547945205479452, 'max_attempts': 5.890410958904109}, 'lose': {'win_rate': 0.9452054794520548, 'max_attempts': 6.890410958904109}}, 'hard': {'win': {'win_rate': 0.0547945205479452, 'max_attempts': 5.890410958904109}, 'lose': {'win_rate': 0.9452054794520548, 'max_attempts': 6.890410958904109}}}, 15: {'easy': {'win': {'win_rate': 0.22727272727272727, 'max_attempts': 5.7272727272727275}, 'lose': {'win_rate': 0.7727272727272727, 'max_attempts': 6.7272727272727275}}, 'medium': {'win': {'win_rate': 0.22727272727272727, 'max_attempts': 5.7272727272727275}, 'lose': {'win_rate': 0.7727272727272727, 'max_attempts': 6.7272727272727275}}, 'hard': {'win': {'win_rate': 0.22727272727272727, 'max_attempts': 5.7272727272727275}, 'lose': {'win_rate': 0.7727272727272727, 'max_attempts': 6.7272727272727275}}}, 13: {'easy': {'win': {'win_rate': 0.23943661971830985, 'max_attempts': 5.633802816901408}, 'lose': {'win_rate': 0.7605633802816901, 'max_attempts': 6.633802816901408}}, 'medium': {'win': {'win_rate': 0.23943661971830985, 'max_attempts': 5.633802816901408}, 'lose': {'win_rate': 0.7605633802816901, 'max_attempts': 6.633802816901408}}, 'hard': {'win': {'win_rate': 0.23943661971830985, 'max_attempts': 5.633802816901408}, 'lose': {'win_rate': 0.7605633802816901, 'max_attempts': 6.633802816901408}}}, 11: {'easy': {'win': {'win_rate': 0.1836734693877551, 'max_attempts': 5.642857142857143}, 'lose': {'win_rate': 0.8163265306122449, 'max_attempts': 6.642857142857143}}, 'medium': {'win': {'win_rate': 0.1836734693877551, 'max_attempts': 5.642857142857143}, 'lose': {'win_rate': 0.8163265306122449, 'max_attempts': 6.642857142857143}}, 'hard': {'win': {'win_rate': 0.1836734693877551, 'max_attempts': 5.642857142857143}, 'lose': {'win_rate': 0.8163265306122449, 'max_attempts': 6.642857142857143}}}, 9: {'easy': {'win': {'win_rate': 0.15602836879432624, 'max_attempts': 5.666666666666667}, 'lose': {'win_rate': 0.8439716312056738, 'max_attempts': 6.666666666666667}}, 'medium': {'win': {'win_rate': 0.15602836879432624, 'max_attempts': 5.666666666666667}, 'lose': {'win_rate': 0.8439716312056738, 'max_attempts': 6.666666666666667}}, 'hard': {'win': {'win_rate': 0.15602836879432624, 'max_attempts': 5.666666666666667}, 'lose': {'win_rate': 0.8439716312056738, 'max_attempts': 6.666666666666667}}}, 12: {'easy': {'win': {'win_rate': 0.16, 'max_attempts': 5.653333333333333}, 'lose': {'win_rate': 0.84, 'max_attempts': 6.653333333333333}}, 'medium': {'win': {'win_rate': 0.16, 'max_attempts': 5.653333333333333}, 'lose': {'win_rate': 0.84, 'max_attempts': 6.653333333333333}}, 'hard': {'win': {'win_rate': 0.16, 'max_attempts': 5.653333333333333}, 'lose': {'win_rate': 0.84, 'max_attempts': 6.653333333333333}}}, 18: {'easy': {'win': {'win_rate': 0.25, 'max_attempts': 5.75}, 'lose': {'win_rate': 0.75, 'max_attempts': 6.75}}, 'medium': {'win': {'win_rate': 0.25, 'max_attempts': 5.75}, 'lose': {'win_rate': 0.75, 'max_attempts': 6.75}}, 'hard': {'win': {'win_rate': 0.25, 'max_attempts': 5.75}, 'lose': {'win_rate': 0.75, 'max_attempts': 6.75}}}, 8: {'easy': {'win': {'win_rate': 0.09523809523809523, 'max_attempts': 5.836734693877551}, 'lose': {'win_rate': 0.9047619047619048, 'max_attempts': 6.836734693877551}}, 'medium': {'win': {'win_rate': 0.09523809523809523, 'max_attempts': 5.836734693877551}, 'lose': {'win_rate': 0.9047619047619048, 'max_attempts': 6.836734693877551}}, 'hard': {'win': {'win_rate': 0.09523809523809523, 'max_attempts': 5.836734693877551}, 'lose': {'win_rate': 0.9047619047619048, 'max_attempts': 6.836734693877551}}}, 14: {'easy': {'win': {'win_rate': 0.19047619047619047, 'max_attempts': 5.5476190476190474}, 'lose': {'win_rate': 0.8095238095238095, 'max_attempts': 6.5476190476190474}}, 'medium': {'win': {'win_rate': 0.19047619047619047, 'max_attempts': 5.5476190476190474}, 'lose': {'win_rate': 0.8095238095238095, 'max_attempts': 6.5476190476190474}}, 'hard': {'win': {'win_rate': 0.19047619047619047, 'max_attempts': 5.5476190476190474}, 'lose': {'win_rate': 0.8095238095238095, 'max_attempts': 6.5476190476190474}}}, 10: {'easy': {'win': {'win_rate': 0.12727272727272726, 'max_attempts': 5.781818181818182}, 'lose': {'win_rate': 0.8727272727272728, 'max_attempts': 6.781818181818182}}, 'medium': {'win': {'win_rate': 0.12727272727272726, 'max_attempts': 5.781818181818182}, 'lose': {'win_rate': 0.8727272727272728, 'max_attempts': 6.781818181818182}}, 'hard': {'win': {'win_rate': 0.12727272727272726, 'max_attempts': 5.781818181818182}, 'lose': {'win_rate': 0.8727272727272728, 'max_attempts': 6.781818181818182}}}, 7: {'easy': {'win': {'win_rate': 0.09, 'max_attempts': 5.79}, 'lose': {'win_rate': 0.91, 'max_attempts': 6.79}}, 'medium': {'win': {'win_rate': 0.09, 'max_attempts': 5.79}, 'lose': {'win_rate': 0.91, 'max_attempts': 6.79}}, 'hard': {'win': {'win_rate': 0.09, 'max_attempts': 5.79}, 'lose': {'win_rate': 0.91, 'max_attempts': 6.79}}}, 19: {'easy': {'win': {'win_rate': 0.0, 'max_attempts': 6.0}, 'lose': {'win_rate': 1.0, 'max_attempts': 7.0}}, 'medium': {'win': {'win_rate': 0.0, 'max_attempts': 6.0}, 'lose': {'win_rate': 1.0, 'max_attempts': 7.0}}, 'hard': {'win': {'win_rate': 0.0, 'max_attempts': 6.0}, 'lose': {'win_rate': 1.0, 'max_attempts': 7.0}}}, 16: {'easy': {'win': {'win_rate': 0.3333333333333333, 'max_attempts': 5.333333333333333}, 'lose': {'win_rate': 0.6666666666666667, 'max_attempts': 6.333333333333333}}, 'medium': {'win': {'win_rate': 0.3333333333333333, 'max_attempts': 5.333333333333333}, 'lose': {'win_rate': 0.6666666666666667, 'max_attempts': 6.333333333333333}}, 'hard': {'win': {'win_rate': 0.3333333333333333, 'max_attempts': 5.333333333333333}, 'lose': {'win_rate': 0.6666666666666667, 'max_attempts': 6.333333333333333}}}, 24: {'easy': {'win': {'win_rate': 0.0, 'max_attempts': 6.0}, 'lose': {'win_rate': 1.0, 'max_attempts': 7.0}}, 'medium': {'win': {'win_rate': 0.0, 'max_attempts': 6.0}, 'lose': {'win_rate': 1.0, 'max_attempts': 7.0}}, 'hard': {'win': {'win_rate': 0.0, 'max_attempts': 6.0}, 'lose': {'win_rate': 1.0, 'max_attempts': 7.0}}}, 17: {'easy': {'win': {'win_rate': 0.2, 'max_attempts': 5.6}, 'lose': {'win_rate': 0.8, 'max_attempts': 6.6}}, 'medium': {'win': {'win_rate': 0.2, 'max_attempts': 5.6}, 'lose': {'win_rate': 0.8, 'max_attempts': 6.6}}, 'hard': {'win': {'win_rate': 0.2, 'max_attempts': 5.6}, 'lose': {'win_rate': 0.8, 'max_attempts': 6.6}}}, 1: {'easy': {'win': {'win_rate': 0.0, 'max_attempts': 6.0}, 'lose': {'win_rate': 1.0, 'max_attempts': 7.0}}, 'medium': {'win': {'win_rate': 0.0, 'max_attempts': 6.0}, 'lose': {'win_rate': 1.0, 'max_attempts': 7.0}}, 'hard': {'win': {'win_rate': 0.0, 'max_attempts': 6.0}, 'lose': {'win_rate': 1.0, 'max_attempts': 7.0}}}, 3: {'easy': {'win': {'win_rate': 0.16666666666666666, 'max_attempts': 5.833333333333333}, 'lose': {'win_rate': 0.8333333333333334, 'max_attempts': 6.833333333333333}}, 'medium': {'win': {'win_rate': 0.16666666666666666, 'max_attempts': 5.833333333333333}, 'lose': {'win_rate': 0.8333333333333334, 'max_attempts': 6.833333333333333}}, 'hard': {'win': {'win_rate': 0.16666666666666666, 'max_attempts': 5.833333333333333}, 'lose': {'win_rate': 0.8333333333333334, 'max_attempts': 6.833333333333333}}}, 20: {'easy': {'win': {'win_rate': 0.0, 'max_attempts': 6.0}, 'lose': {'win_rate': 1.0, 'max_attempts': 7.0}}, 'medium': {'win': {'win_rate': 0.0, 'max_attempts': 6.0}, 'lose': {'win_rate': 1.0, 'max_attempts': 7.0}}, 'hard': {'win': {'win_rate': 0.0, 'max_attempts': 6.0}, 'lose': {'win_rate': 1.0, 'max_attempts': 7.0}}}, 2: {'easy': {'win': {'win_rate': 0.0, 'max_attempts': 6.0}, 'lose': {'win_rate': 1.0, 'max_attempts': 7.0}}, 'medium': {'win': {'win_rate': 0.0, 'max_attempts': 6.0}, 'lose': {'win_rate': 1.0, 'max_attempts': 7.0}}, 'hard': {'win': {'win_rate': 0.0, 'max_attempts': 6.0}, 'lose': {'win_rate': 1.0, 'max_attempts': 7.0}}}}\n",
      "Epoch 19: Training - Avg Loss: 0.017166757700033487, Avg Miss Penalty: 0.01190513544715941\n",
      "Epoch 19: Validation - Win Rate: 0.137\n"
     ]
    },
    {
     "name": "stderr",
     "output_type": "stream",
     "text": [
      "Epochs: 100%|██████████| 20/20 [04:40<00:00, 14.01s/it]"
     ]
    },
    {
     "name": "stdout",
     "output_type": "stream",
     "text": [
      "{4: {'easy': {'win': {'win_rate': 0.13333333333333333, 'max_attempts': 5.833333333333333}, 'lose': {'win_rate': 0.8666666666666667, 'max_attempts': 6.833333333333333}}, 'medium': {'win': {'win_rate': 0.13333333333333333, 'max_attempts': 5.833333333333333}, 'lose': {'win_rate': 0.8666666666666667, 'max_attempts': 6.833333333333333}}, 'hard': {'win': {'win_rate': 0.13333333333333333, 'max_attempts': 5.833333333333333}, 'lose': {'win_rate': 0.8666666666666667, 'max_attempts': 6.833333333333333}}}, 5: {'easy': {'win': {'win_rate': 0.03636363636363636, 'max_attempts': 5.890909090909091}, 'lose': {'win_rate': 0.9636363636363636, 'max_attempts': 6.890909090909091}}, 'medium': {'win': {'win_rate': 0.03636363636363636, 'max_attempts': 5.890909090909091}, 'lose': {'win_rate': 0.9636363636363636, 'max_attempts': 6.890909090909091}}, 'hard': {'win': {'win_rate': 0.03636363636363636, 'max_attempts': 5.890909090909091}, 'lose': {'win_rate': 0.9636363636363636, 'max_attempts': 6.890909090909091}}}, 6: {'easy': {'win': {'win_rate': 0.0547945205479452, 'max_attempts': 5.890410958904109}, 'lose': {'win_rate': 0.9452054794520548, 'max_attempts': 6.890410958904109}}, 'medium': {'win': {'win_rate': 0.0547945205479452, 'max_attempts': 5.890410958904109}, 'lose': {'win_rate': 0.9452054794520548, 'max_attempts': 6.890410958904109}}, 'hard': {'win': {'win_rate': 0.0547945205479452, 'max_attempts': 5.890410958904109}, 'lose': {'win_rate': 0.9452054794520548, 'max_attempts': 6.890410958904109}}}, 15: {'easy': {'win': {'win_rate': 0.22727272727272727, 'max_attempts': 5.7272727272727275}, 'lose': {'win_rate': 0.7727272727272727, 'max_attempts': 6.7272727272727275}}, 'medium': {'win': {'win_rate': 0.22727272727272727, 'max_attempts': 5.7272727272727275}, 'lose': {'win_rate': 0.7727272727272727, 'max_attempts': 6.7272727272727275}}, 'hard': {'win': {'win_rate': 0.22727272727272727, 'max_attempts': 5.7272727272727275}, 'lose': {'win_rate': 0.7727272727272727, 'max_attempts': 6.7272727272727275}}}, 13: {'easy': {'win': {'win_rate': 0.23943661971830985, 'max_attempts': 5.633802816901408}, 'lose': {'win_rate': 0.7605633802816901, 'max_attempts': 6.633802816901408}}, 'medium': {'win': {'win_rate': 0.23943661971830985, 'max_attempts': 5.633802816901408}, 'lose': {'win_rate': 0.7605633802816901, 'max_attempts': 6.633802816901408}}, 'hard': {'win': {'win_rate': 0.23943661971830985, 'max_attempts': 5.633802816901408}, 'lose': {'win_rate': 0.7605633802816901, 'max_attempts': 6.633802816901408}}}, 11: {'easy': {'win': {'win_rate': 0.1836734693877551, 'max_attempts': 5.642857142857143}, 'lose': {'win_rate': 0.8163265306122449, 'max_attempts': 6.642857142857143}}, 'medium': {'win': {'win_rate': 0.1836734693877551, 'max_attempts': 5.642857142857143}, 'lose': {'win_rate': 0.8163265306122449, 'max_attempts': 6.642857142857143}}, 'hard': {'win': {'win_rate': 0.1836734693877551, 'max_attempts': 5.642857142857143}, 'lose': {'win_rate': 0.8163265306122449, 'max_attempts': 6.642857142857143}}}, 9: {'easy': {'win': {'win_rate': 0.15602836879432624, 'max_attempts': 5.666666666666667}, 'lose': {'win_rate': 0.8439716312056738, 'max_attempts': 6.666666666666667}}, 'medium': {'win': {'win_rate': 0.15602836879432624, 'max_attempts': 5.666666666666667}, 'lose': {'win_rate': 0.8439716312056738, 'max_attempts': 6.666666666666667}}, 'hard': {'win': {'win_rate': 0.15602836879432624, 'max_attempts': 5.666666666666667}, 'lose': {'win_rate': 0.8439716312056738, 'max_attempts': 6.666666666666667}}}, 12: {'easy': {'win': {'win_rate': 0.16, 'max_attempts': 5.653333333333333}, 'lose': {'win_rate': 0.84, 'max_attempts': 6.653333333333333}}, 'medium': {'win': {'win_rate': 0.16, 'max_attempts': 5.653333333333333}, 'lose': {'win_rate': 0.84, 'max_attempts': 6.653333333333333}}, 'hard': {'win': {'win_rate': 0.16, 'max_attempts': 5.653333333333333}, 'lose': {'win_rate': 0.84, 'max_attempts': 6.653333333333333}}}, 18: {'easy': {'win': {'win_rate': 0.25, 'max_attempts': 5.75}, 'lose': {'win_rate': 0.75, 'max_attempts': 6.75}}, 'medium': {'win': {'win_rate': 0.25, 'max_attempts': 5.75}, 'lose': {'win_rate': 0.75, 'max_attempts': 6.75}}, 'hard': {'win': {'win_rate': 0.25, 'max_attempts': 5.75}, 'lose': {'win_rate': 0.75, 'max_attempts': 6.75}}}, 8: {'easy': {'win': {'win_rate': 0.09523809523809523, 'max_attempts': 5.836734693877551}, 'lose': {'win_rate': 0.9047619047619048, 'max_attempts': 6.836734693877551}}, 'medium': {'win': {'win_rate': 0.09523809523809523, 'max_attempts': 5.836734693877551}, 'lose': {'win_rate': 0.9047619047619048, 'max_attempts': 6.836734693877551}}, 'hard': {'win': {'win_rate': 0.09523809523809523, 'max_attempts': 5.836734693877551}, 'lose': {'win_rate': 0.9047619047619048, 'max_attempts': 6.836734693877551}}}, 14: {'easy': {'win': {'win_rate': 0.19047619047619047, 'max_attempts': 5.5476190476190474}, 'lose': {'win_rate': 0.8095238095238095, 'max_attempts': 6.5476190476190474}}, 'medium': {'win': {'win_rate': 0.19047619047619047, 'max_attempts': 5.5476190476190474}, 'lose': {'win_rate': 0.8095238095238095, 'max_attempts': 6.5476190476190474}}, 'hard': {'win': {'win_rate': 0.19047619047619047, 'max_attempts': 5.5476190476190474}, 'lose': {'win_rate': 0.8095238095238095, 'max_attempts': 6.5476190476190474}}}, 10: {'easy': {'win': {'win_rate': 0.12727272727272726, 'max_attempts': 5.781818181818182}, 'lose': {'win_rate': 0.8727272727272728, 'max_attempts': 6.781818181818182}}, 'medium': {'win': {'win_rate': 0.12727272727272726, 'max_attempts': 5.781818181818182}, 'lose': {'win_rate': 0.8727272727272728, 'max_attempts': 6.781818181818182}}, 'hard': {'win': {'win_rate': 0.12727272727272726, 'max_attempts': 5.781818181818182}, 'lose': {'win_rate': 0.8727272727272728, 'max_attempts': 6.781818181818182}}}, 7: {'easy': {'win': {'win_rate': 0.09, 'max_attempts': 5.79}, 'lose': {'win_rate': 0.91, 'max_attempts': 6.79}}, 'medium': {'win': {'win_rate': 0.09, 'max_attempts': 5.79}, 'lose': {'win_rate': 0.91, 'max_attempts': 6.79}}, 'hard': {'win': {'win_rate': 0.09, 'max_attempts': 5.79}, 'lose': {'win_rate': 0.91, 'max_attempts': 6.79}}}, 19: {'easy': {'win': {'win_rate': 0.0, 'max_attempts': 6.0}, 'lose': {'win_rate': 1.0, 'max_attempts': 7.0}}, 'medium': {'win': {'win_rate': 0.0, 'max_attempts': 6.0}, 'lose': {'win_rate': 1.0, 'max_attempts': 7.0}}, 'hard': {'win': {'win_rate': 0.0, 'max_attempts': 6.0}, 'lose': {'win_rate': 1.0, 'max_attempts': 7.0}}}, 16: {'easy': {'win': {'win_rate': 0.3333333333333333, 'max_attempts': 5.333333333333333}, 'lose': {'win_rate': 0.6666666666666667, 'max_attempts': 6.333333333333333}}, 'medium': {'win': {'win_rate': 0.3333333333333333, 'max_attempts': 5.333333333333333}, 'lose': {'win_rate': 0.6666666666666667, 'max_attempts': 6.333333333333333}}, 'hard': {'win': {'win_rate': 0.3333333333333333, 'max_attempts': 5.333333333333333}, 'lose': {'win_rate': 0.6666666666666667, 'max_attempts': 6.333333333333333}}}, 24: {'easy': {'win': {'win_rate': 0.0, 'max_attempts': 6.0}, 'lose': {'win_rate': 1.0, 'max_attempts': 7.0}}, 'medium': {'win': {'win_rate': 0.0, 'max_attempts': 6.0}, 'lose': {'win_rate': 1.0, 'max_attempts': 7.0}}, 'hard': {'win': {'win_rate': 0.0, 'max_attempts': 6.0}, 'lose': {'win_rate': 1.0, 'max_attempts': 7.0}}}, 17: {'easy': {'win': {'win_rate': 0.2, 'max_attempts': 5.6}, 'lose': {'win_rate': 0.8, 'max_attempts': 6.6}}, 'medium': {'win': {'win_rate': 0.2, 'max_attempts': 5.6}, 'lose': {'win_rate': 0.8, 'max_attempts': 6.6}}, 'hard': {'win': {'win_rate': 0.2, 'max_attempts': 5.6}, 'lose': {'win_rate': 0.8, 'max_attempts': 6.6}}}, 1: {'easy': {'win': {'win_rate': 0.0, 'max_attempts': 6.0}, 'lose': {'win_rate': 1.0, 'max_attempts': 7.0}}, 'medium': {'win': {'win_rate': 0.0, 'max_attempts': 6.0}, 'lose': {'win_rate': 1.0, 'max_attempts': 7.0}}, 'hard': {'win': {'win_rate': 0.0, 'max_attempts': 6.0}, 'lose': {'win_rate': 1.0, 'max_attempts': 7.0}}}, 3: {'easy': {'win': {'win_rate': 0.16666666666666666, 'max_attempts': 5.833333333333333}, 'lose': {'win_rate': 0.8333333333333334, 'max_attempts': 6.833333333333333}}, 'medium': {'win': {'win_rate': 0.16666666666666666, 'max_attempts': 5.833333333333333}, 'lose': {'win_rate': 0.8333333333333334, 'max_attempts': 6.833333333333333}}, 'hard': {'win': {'win_rate': 0.16666666666666666, 'max_attempts': 5.833333333333333}, 'lose': {'win_rate': 0.8333333333333334, 'max_attempts': 6.833333333333333}}}, 20: {'easy': {'win': {'win_rate': 0.0, 'max_attempts': 6.0}, 'lose': {'win_rate': 1.0, 'max_attempts': 7.0}}, 'medium': {'win': {'win_rate': 0.0, 'max_attempts': 6.0}, 'lose': {'win_rate': 1.0, 'max_attempts': 7.0}}, 'hard': {'win': {'win_rate': 0.0, 'max_attempts': 6.0}, 'lose': {'win_rate': 1.0, 'max_attempts': 7.0}}}, 2: {'easy': {'win': {'win_rate': 0.0, 'max_attempts': 6.0}, 'lose': {'win_rate': 1.0, 'max_attempts': 7.0}}, 'medium': {'win': {'win_rate': 0.0, 'max_attempts': 6.0}, 'lose': {'win_rate': 1.0, 'max_attempts': 7.0}}, 'hard': {'win': {'win_rate': 0.0, 'max_attempts': 6.0}, 'lose': {'win_rate': 1.0, 'max_attempts': 7.0}}}}\n",
      "Epoch 20: Training - Avg Loss: 0.017327642254531383, Avg Miss Penalty: 0.012109976494684815\n",
      "Epoch 20: Validation - Win Rate: 0.137\n",
      "Training completed\n"
     ]
    },
    {
     "name": "stderr",
     "output_type": "stream",
     "text": [
      "\n"
     ]
    }
   ],
   "source": [
    "import torch\n",
    "from torch.utils.data import DataLoader\n",
    "from pathlib import Path\n",
    "import gc\n",
    "from tqdm import tqdm\n",
    "from scr.custom_sampler import PerformanceBasedSampler, update_sampler\n",
    "from torch.optim.lr_scheduler import ReduceLROnPlateau\n",
    "\n",
    "\n",
    "# Device configuration\n",
    "device = torch.device(\"cuda\" if torch.cuda.is_available() else \"cpu\")\n",
    "# Assuming the existence of necessary functions, model setup, and collate_fn\n",
    "\n",
    "num_epochs = 20\n",
    "batch_size = 256\n",
    "# initial_performance_metrics = {}\n",
    "\n",
    "shuffle = True\n",
    "\n",
    "optimizer = model.optimizer\n",
    "\n",
    "# Initialize the scheduler for the optimizer\n",
    "scheduler = ReduceLROnPlateau(model.optimizer, mode='max', factor=0.5, \\\n",
    "    patience=2, verbose=True)\n",
    "\n",
    "# plot_word_stats(word_length_stats)\n",
    "\n",
    "all_epochs_performance_metrics = {}\n",
    "\n",
    "for epoch in tqdm(range(num_epochs), desc='Epochs'):\n",
    "    \n",
    "    distribution_analysis = test_performance_based_sampler(processed_dataset, \\\n",
    "                    performance_metrics=initial_performance_metrics, \\\n",
    "                        target_win_rate=0.6, max_weight=120)\n",
    "    \n",
    "    plot_sampler_distribution(distribution_analysis, epoch=epoch)\n",
    "\n",
    "    # print(initial_performance_metrics)\n",
    "    \n",
    "    # Update the sampler for the current epoch\n",
    "    sampler = PerformanceBasedSampler(processed_dataset, initial_performance_metrics)\n",
    "    data_loader = DataLoader(processed_dataset, \\\n",
    "        batch_size=batch_size, sampler=sampler, collate_fn=custom_collate_fn)\n",
    "\n",
    "    # Train on this epoch's data\n",
    "    avg_loss, avg_miss_penalty = train_on_data_loader(model, \\\n",
    "        data_loader, device, optimizer)\n",
    "\n",
    "    # Validation step\n",
    "    model.eval()\n",
    "    with torch.no_grad():\n",
    "        validation_results = validate_model(model, val_words, char_frequency, \\\n",
    "            max_word_length, device, max_attempts=6, normalize=True, number_of_games=1000)\n",
    "    \n",
    "    # Update performance metrics and scheduler\n",
    "    \n",
    "    update_performance_metrics(initial_performance_metrics, validation_results)\n",
    "    scheduler.step(validation_results['win_rate'])\n",
    "\n",
    "    print(initial_performance_metrics)\n",
    "\n",
    "    # Print epoch summary\n",
    "    print(f\"Epoch {epoch+1}: Training - Avg Loss: {avg_loss}, Avg Miss Penalty: {avg_miss_penalty}\")\n",
    "    print(f\"Epoch {epoch+1}: Validation - Win Rate: {validation_results['win_rate']}\")\n",
    "\n",
    "    gc.collect()\n",
    "\n",
    "print('Training completed')\n"
   ]
  },
  {
   "cell_type": "code",
   "execution_count": null,
   "metadata": {},
   "outputs": [
    {
     "ename": "NameError",
     "evalue": "name 'STOP' is not defined",
     "output_type": "error",
     "traceback": [
      "\u001b[0;31m---------------------------------------------------------------------------\u001b[0m",
      "\u001b[0;31mNameError\u001b[0m                                 Traceback (most recent call last)",
      "\u001b[1;32m/home/sayem/Desktop/Hangman/2_training_notebook.ipynb Cell 45\u001b[0m line \u001b[0;36m1\n\u001b[0;32m----> <a href='vscode-notebook-cell:/home/sayem/Desktop/Hangman/2_training_notebook.ipynb#X62sZmlsZQ%3D%3D?line=0'>1</a>\u001b[0m STOP\n",
      "\u001b[0;31mNameError\u001b[0m: name 'STOP' is not defined"
     ]
    }
   ],
   "source": [
    "STOP"
   ]
  },
  {
   "cell_type": "markdown",
   "metadata": {},
   "source": [
    "##### Tuning"
   ]
  },
  {
   "cell_type": "code",
   "execution_count": null,
   "metadata": {},
   "outputs": [],
   "source": [
    "import torch\n",
    "from torch.utils.data import DataLoader, Subset\n",
    "from sklearn.model_selection import KFold\n",
    "from scr.model import RNN\n",
    "from torch.optim.lr_scheduler import StepLR\n",
    "from scr.utils import *\n",
    "from scr.early_stopping import EarlyStopping\n",
    "import optuna\n",
    "\n",
    "N_GAMES_PER_EPOCH = 10 ** 3\n",
    "MAX_ATTEMPTS = 6\n",
    "NUM_EPOCHS = 20\n",
    "\n",
    "def objective(trial, dataset, static_config, num_epochs):\n",
    "    dynamic_config = optuna_dynamic_hyperparameters(trial)\n",
    "    config = {**static_config, **dynamic_config}\n",
    "    # print(f\"Trial {trial.number}: Configuration - {config}\")\n",
    "\n",
    "    kfold = KFold(n_splits=5, shuffle=True)\n",
    "    aggregated_metrics = []\n",
    "\n",
    "    best_objective_value = float('-inf')\n",
    "    best_model_state = None\n",
    "\n",
    "    for fold, (train_idx, val_idx) in enumerate(kfold.split(dataset)):\n",
    "        # print(f\"Starting Fold {fold + 1}\")\n",
    "        train_loader, val_loader = get_data_loaders(dataset, train_idx, val_idx)\n",
    "        model, optimizer = initialize_model(config)\n",
    "\n",
    "        scheduler = StepLR(optimizer, step_size=trial.suggest_int(\"step_size\", 5, 20), \\\n",
    "            gamma=trial.suggest_float(\"gamma\", 0.1, 0.5))\n",
    "        \n",
    "        early_stopping = EarlyStopping(patience=10, delta=0.001)  # Early stopping instance\n",
    "\n",
    "\n",
    "        for epoch in range(num_epochs):\n",
    "            _, _ = train_one_epoch(model, train_loader)\n",
    "\n",
    "            scheduler.step()\n",
    "            win_rate, average_attempts, win_rate_by_length = simulate_games(\n",
    "                    model=model,\n",
    "                    word_list=None,  # Not using a word list in this scenario\n",
    "                    char_to_idx=char_to_idx, \n",
    "                    idx_to_char=idx_to_char,\n",
    "                    char_frequency=char_frequency, \n",
    "                    max_word_length=max_word_length, \n",
    "                    device=device, \n",
    "                    val_loader=val_loader,  # Pass the validation DataLoader\n",
    "                    max_games_per_epoch=N_GAMES_PER_EPOCH,  # Number of games for validation\n",
    "                    normalize=True, \n",
    "                    max_attempts=MAX_ATTEMPTS\n",
    "            \n",
    "            )\n",
    "\n",
    "            for epoch in range(num_epochs):\n",
    "    # Training step\n",
    "    avg_actual_penalty, avg_miss_penalty = train_one_epoch(model, train_loader, device)\n",
    "\n",
    "    print(f\"Epoch {epoch+1}: Training data - Avg Actual Penalty: {avg_actual_penalty}, Avg Miss Penalty: {avg_miss_penalty}\")\n",
    "\n",
    "    # Validation step\n",
    "\n",
    "    # win_rate, average_attempts, win_rate_by_length \\\n",
    "    #     = simulate_hangman_games(model, char_to_idx, idx_to_char, \\\n",
    "    #         char_frequency, max_word_length, device, word_list=None, \\\n",
    "    #     val_loader=test_loader, num_games=1000, max_attempts=6, normalize=True)\n",
    "\n",
    "    \n",
    "    avg_actual_penalty, avg_miss_penalty = train_one_epoch(model, train_loader, device)\n",
    "\n",
    "\n",
    "    win_rate, average_attempts, win_rate_by_length \\\n",
    "        = simulate_hangman_games(model, char_to_idx, idx_to_char, \\\n",
    "            char_frequency, max_word_length, device, word_list=None, \\\n",
    "        val_loader=test_loader, num_games=1000, max_attempts=6, normalize=True)\n",
    "\n",
    "    #         win_rate, average_attempts, win_rate_by_length = validate_one_epoch(model, \\\n",
    "    #             val_loader, char_to_idx, idx_to_char, char_frequency, max_word_length, device)\n",
    "\n",
    "            aggregated_metrics.append((win_rate, average_attempts, win_rate_by_length))\n",
    "\n",
    "            objective_value = calculate_objective_value(win_rate, \\\n",
    "                average_attempts, win_rate_by_length)\n",
    "            \n",
    "            trial.report(objective_value, epoch)\n",
    "\n",
    "            if objective_value > best_objective_value:\n",
    "                best_objective_value = objective_value\n",
    "                best_model_state = model.state_dict()  # Update best model state\n",
    "\n",
    "            # Check early stopping\n",
    "            if early_stopping(objective_value):\n",
    "                break  # Stop the current fold if early stopping criteria are met\n",
    "\n",
    "            # Pruning check\n",
    "            if trial.should_prune():\n",
    "                return process_aggregated_metrics(aggregated_metrics)\n",
    "\n",
    "    # Save the best model at the end of the trial\n",
    "    if best_model_state:\n",
    "        model.load_state_dict(best_model_state)\n",
    "        model.save_model()  # Save the model using your custom method\n",
    "\n",
    "    final_objective_value = process_aggregated_metrics(aggregated_metrics)\n",
    "    \n",
    "    return final_objective_value\n",
    "\n",
    "\n",
    "def calculate_objective_value(win_rate_percentage, avg_attempts_per_game, \\\n",
    "    win_rate_by_word_length):\n",
    "    # Define weights for each metric\n",
    "    weight_for_win_rate = 0.7  # Higher weight for win rate\n",
    "    weight_for_average_attempts = 0.3  # Lower weight for average attempts\n",
    "\n",
    "    # Normalize win rate (converting percentage to a range of 0 to 1)\n",
    "    normalized_win_rate = win_rate_percentage / 100\n",
    "\n",
    "    # Normalize average attempts (assuming max attempts per game is known)\n",
    "    max_attempts_per_game = 6  # Example: maximum number of attempts allowed\n",
    "    normalized_avg_attempts = avg_attempts_per_game / max_attempts_per_game\n",
    "\n",
    "    # Normalize win rate by word length\n",
    "    normalized_win_rate_by_length = normalize_win_rate_by_length(win_rate_by_word_length)\n",
    "\n",
    "    # Combine metrics into a single objective value\n",
    "    objective_value = (weight_for_win_rate * normalized_win_rate) - \\\n",
    "                      (weight_for_average_attempts * normalized_avg_attempts) + \\\n",
    "                      normalized_win_rate_by_length\n",
    "    return objective_value\n",
    "\n",
    "def normalize_win_rate_by_length(win_rate_by_length_dict):\n",
    "    # Example logic for normalization\n",
    "    max_possible_win_rate = 1  # Maximum win rate (100% as a decimal)\n",
    "    normalized_scores = {length: win_rate / max_possible_win_rate for \\\n",
    "        length, win_rate in win_rate_by_length_dict.items()}\n",
    "    # Average the normalized win rates across all word lengths\n",
    "    average_normalized_score = sum(normalized_scores.values()) / len(normalized_scores)\n",
    "    return average_normalized_score\n",
    "\n",
    "def process_aggregated_metrics(aggregated_metrics):\n",
    "    # Initialize sums for each metric\n",
    "    sum_win_rate = 0\n",
    "    sum_average_attempts = 0\n",
    "    sum_win_rate_by_length = {}\n",
    "\n",
    "    # Process each set of metrics\n",
    "    for win_rate, average_attempts, win_rate_by_length in aggregated_metrics:\n",
    "        sum_win_rate += win_rate\n",
    "        sum_average_attempts += average_attempts\n",
    "        for length, rate in win_rate_by_length.items():\n",
    "            sum_win_rate_by_length[length] = sum_win_rate_by_length.get(length, 0) + rate\n",
    "\n",
    "    # Calculate averages\n",
    "    num_entries = len(aggregated_metrics)\n",
    "    avg_win_rate = sum_win_rate / num_entries\n",
    "    avg_average_attempts = sum_average_attempts / num_entries\n",
    "    avg_win_rate_by_length = {length: rate / num_entries for length, \\\n",
    "        rate in sum_win_rate_by_length.items()}\n",
    "\n",
    "    # Now calculate the final objective value using these averages\n",
    "    final_objective_value = calculate_objective_value(avg_win_rate, \\\n",
    "        avg_average_attempts, avg_win_rate_by_length)\n",
    "    return final_objective_value\n",
    "\n",
    "\n",
    "# Utility functions (for cleaner code)\n",
    "def get_data_loaders(dataset, train_idx, val_idx):\n",
    "    train_subset = Subset(dataset, train_idx)\n",
    "    val_subset = Subset(dataset, val_idx)\n",
    "    train_loader = DataLoader(train_subset, batch_size=32, \\\n",
    "        shuffle=True, collate_fn=collate_fn)\n",
    "    val_loader = DataLoader(val_subset, batch_size=32, \\\n",
    "        shuffle=False, collate_fn=collate_fn)\n",
    "    return train_loader, val_loader\n",
    "\n",
    "def initialize_model(config):\n",
    "    model = RNN(config)\n",
    "    optimizer = torch.optim.Adam(model.parameters(), lr=config['lr'])\n",
    "    model.to(torch.device(\"cuda\" if torch.cuda.is_available() else \"cpu\"))\n",
    "    return model, optimizer\n",
    "\n",
    "# Utility functions\n",
    "def optuna_dynamic_hyperparameters(trial):\n",
    "    # Define and return dynamic hyperparameters based on the trial\n",
    "    lr = trial.suggest_float('lr', 1e-5, 1e-3, log=True)\n",
    "    hidden_dim = trial.suggest_categorical('hidden_dim', [128, 256, 512])\n",
    "    embedding_dim = trial.suggest_categorical('embedding_dim', [50, 100, 150])\n",
    "    output_mid_features = trial.suggest_categorical('output_mid_features', [50, 100, 200])\n",
    "    miss_linear_dim = trial.suggest_categorical('miss_linear_dim', [50, 100, 150])\n",
    "    dropout = trial.suggest_float('dropout', 0.2, 0.5)\n",
    "    num_layers = trial.suggest_int('num_layers', 1, 3)\n",
    "\n",
    "    return {\n",
    "        'lr': lr,\n",
    "        'hidden_dim': hidden_dim,\n",
    "        'embedding_dim': embedding_dim,\n",
    "        'output_mid_features': output_mid_features,\n",
    "        'miss_linear_dim': miss_linear_dim,\n",
    "        'dropout': dropout,\n",
    "        'num_layers': num_layers\n",
    "    }"
   ]
  },
  {
   "cell_type": "code",
   "execution_count": null,
   "metadata": {},
   "outputs": [],
   "source": [
    "from pathlib import Path\n",
    "\n",
    "# Define your models directory path\n",
    "models_dir = Path('models/notebook_2')\n",
    "\n",
    "# Create the directory if it does not exist\n",
    "models_dir.mkdir(parents=True, exist_ok=True)\n",
    "\n",
    "# # Assuming missed_chars_tensor is a list of tensors for missed characters\n",
    "# dataset = HangmanDataset(features, \\\n",
    "#     labels, missed_chars, original_words)\n",
    "\n",
    "# Static configuration\n",
    "static_config = {\n",
    "    'rnn': 'LSTM',\n",
    "    'vocab_size': 27,  # 26 English alphabets + 1 (e.g., for underscore)\n",
    "    'use_embedding': True,  # Typically a design choice\n",
    "    'input_feature_size': 5,  # Based on your feature engineering strategy\n",
    "    'models': str(models_dir)\n",
    "}\n",
    "\n",
    "# Device configuration\n",
    "device = torch.device(\"cuda\" if torch.cuda.is_available() else \"cpu\")\n",
    "\n",
    "# Define num_epochs for training in each fold\n",
    "num_epochs = 4 # Adjust as needed\n",
    "N_TRIAL = 3\n",
    "\n",
    "# ====================================================== #\n",
    "# Define the direction for the objective: 'maximize' or 'minimize'\n",
    "direction = 'maximize'  # Adjust based on your objective function\n",
    "\n",
    "study = optuna.create_study(direction=direction)\n",
    "study.optimize(lambda trial: objective(trial, dataset, \\\n",
    "    static_config, num_epochs), n_trials=N_TRIAL)\n",
    "# ====================================================== #"
   ]
  },
  {
   "cell_type": "code",
   "execution_count": null,
   "metadata": {},
   "outputs": [],
   "source": [
    "best_params = study.best_params\n",
    "# Output the best hyperparameters\n",
    "print(\"Best trial:\")\n",
    "trial = study.best_trial\n",
    "print(f\"Value: {trial.value}\")\n",
    "print(\"Params: \")\n",
    "for key, value in trial.params.items():\n",
    "    print(f\"    {key}: {value}\")"
   ]
  },
  {
   "cell_type": "code",
   "execution_count": null,
   "metadata": {},
   "outputs": [],
   "source": [
    "best_trial = study.best_trial\n",
    "print(f\"Best trial number: {best_trial.number}\")\n",
    "\n",
    "# Assuming model saving includes the trial number in the filename\n",
    "best_model_filename = f\"models/trial_{best_trial.number+1}/LSTM.pth\"\n",
    "best_model = RNN.load_model(RNN, best_model_filename, device)"
   ]
  },
  {
   "cell_type": "code",
   "execution_count": null,
   "metadata": {},
   "outputs": [],
   "source": [
    "STOP"
   ]
  },
  {
   "cell_type": "code",
   "execution_count": null,
   "metadata": {},
   "outputs": [],
   "source": [
    "# Merge the two dictionaries to form a single configuration\n",
    "config = {**static_config, **best_params}\n",
    "\n",
    "config"
   ]
  },
  {
   "cell_type": "code",
   "execution_count": null,
   "metadata": {},
   "outputs": [],
   "source": [
    "# Merge the two dictionaries to form a single configuration\n",
    "config = {**static_config, **best_params}\n",
    "\n",
    "# Initialize the RNN model with the combined configuration\n",
    "model = RNN(config)\n",
    "\n",
    "model = model.to(device)\n",
    "\n",
    "# model.load_model(config['LSTM'], 2, 256, trial_number=10)"
   ]
  },
  {
   "cell_type": "code",
   "execution_count": null,
   "metadata": {},
   "outputs": [],
   "source": [
    "STOP"
   ]
  },
  {
   "cell_type": "markdown",
   "metadata": {},
   "source": [
    "##### Testing on unknown data"
   ]
  },
  {
   "cell_type": "code",
   "execution_count": null,
   "metadata": {},
   "outputs": [],
   "source": [
    "%%capture\n",
    "\n",
    "from scr.game import predict_next_character, simulate_game\n",
    "from scr.model import RNN\n",
    "import random\n",
    "# random.seed(400)\n",
    "# Your existing code for initializing the model, etc.\n",
    "\n",
    "import random\n",
    "\n",
    "def play_multiple_games(model, num_games, word_list, \\\n",
    "    char_to_idx, idx_to_char, char_frequency, max_word_length, device):\n",
    "    game_results = []\n",
    "    \n",
    "    sampled_words = random.sample(word_list, num_games)  # Select unique words\n",
    "\n",
    "    for random_word in sampled_words:\n",
    "        with torch.no_grad():\n",
    "            won, final_word, attempts_used = simulate_game(\n",
    "                model, \n",
    "                random_word, \n",
    "                char_to_idx, \n",
    "                idx_to_char, \n",
    "                char_frequency, \n",
    "                max_word_length, \n",
    "                device, \n",
    "                normalize=True, \n",
    "                max_attempts=6\n",
    "            )\n",
    "        game_results.append((won, final_word, attempts_used))\n",
    "\n",
    "    return game_results\n",
    "\n",
    "# Example usage\n",
    "num_games = 10**3\n",
    "results = play_multiple_games(model, num_games, \\\n",
    "    word_list, char_to_idx, idx_to_char, \\\n",
    "        char_frequency, max_word_length, device)\n",
    "\n",
    "# Analyzing results\n",
    "total_wins = sum(result[0] for result in results)\n",
    "win_rate = (total_wins / num_games) * 100\n"
   ]
  },
  {
   "cell_type": "code",
   "execution_count": null,
   "metadata": {},
   "outputs": [],
   "source": []
  }
 ],
 "metadata": {
  "kernelspec": {
   "display_name": "optiver",
   "language": "python",
   "name": "python3"
  },
  "language_info": {
   "codemirror_mode": {
    "name": "ipython",
    "version": 3
   },
   "file_extension": ".py",
   "mimetype": "text/x-python",
   "name": "python",
   "nbconvert_exporter": "python",
   "pygments_lexer": "ipython3",
   "version": "3.10.13"
  }
 },
 "nbformat": 4,
 "nbformat_minor": 2
}
