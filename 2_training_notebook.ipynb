{
 "cells": [
  {
   "cell_type": "markdown",
   "metadata": {},
   "source": [
    "##### Imports"
   ]
  },
  {
   "cell_type": "code",
   "execution_count": 1,
   "metadata": {},
   "outputs": [],
   "source": [
    "import sys\n",
    "from pathlib import Path\n",
    "import warnings\n",
    "\n",
    "import warnings\n",
    "import pandas as pd\n",
    "warnings.filterwarnings('ignore')\n",
    "\n",
    "pd.set_option('display.max_columns', 1000)\n",
    "pd.set_option('display.max_rows', 1000)\n",
    "\n",
    "import sys\n",
    "# Custom library paths\n",
    "sys.path.extend(['../', './scr'])\n",
    "\n",
    "from scr.utils import set_seed\n",
    "from scr.utils import read_words\n",
    "from pathlib import Path\n",
    "import random\n",
    "from collections import Counter, defaultdict\n",
    "import pickle\n",
    "from tqdm import tqdm\n",
    "from torch.utils.data import Dataset\n",
    "\n",
    "from scr.utils import read_words, save_words_to_file\n",
    "\n",
    "import pickle\n",
    "from pathlib import Path\n",
    "from scr.dataset import *\n",
    "\n",
    "import gc\n",
    "\n",
    "set_seed(42)\n",
    "\n",
    "import torch\n",
    "import torch.nn as nn\n",
    "from pathlib import Path\n",
    "import random\n",
    "\n",
    "from scr.utils import print_scenarios\n",
    "torch.set_float32_matmul_precision('medium')\n",
    "from pathlib import Path\n",
    "\n",
    "# Device configuration\n",
    "device = torch.device(\"cuda\" if torch.cuda.is_available() else \"cpu\")\n",
    "\n",
    "# # Read and Shuffle Word List\n",
    "word_list = read_words('data/words_250000_train.txt') # , limit=10000)\n",
    "# word_list = read_words('data/250k.txt', limit=10000)\n",
    "random.shuffle(word_list)\n",
    "\n",
    "# base_dataset_dir = Path('dataset/pkl')"
   ]
  },
  {
   "cell_type": "markdown",
   "metadata": {},
   "source": [
    "##### Reading Data"
   ]
  },
  {
   "cell_type": "code",
   "execution_count": 2,
   "metadata": {},
   "outputs": [
    {
     "name": "stdout",
     "output_type": "stream",
     "text": [
      "/media/sayem/510B93E12554BBD1/dataset/1000\n"
     ]
    }
   ],
   "source": [
    "#### Papermil if need\n",
    " \n",
    "NUM_STRATIFIED_SAMPLES = 1_000 # This will be overwritten by Papermill\n",
    "\n",
    "# Define the base directory\n",
    "base_dataset_dir = Path(\"/media/sayem/510B93E12554BBD1/dataset/\")\n",
    "\n",
    "# Create a subdirectory for the stratified samples\n",
    "stratified_samples_dir = base_dataset_dir / str(NUM_STRATIFIED_SAMPLES)\n",
    "stratified_samples_dir.mkdir(parents=True, exist_ok=True)\n",
    "\n",
    "print(stratified_samples_dir)"
   ]
  },
  {
   "cell_type": "code",
   "execution_count": 3,
   "metadata": {},
   "outputs": [
    {
     "name": "stdout",
     "output_type": "stream",
     "text": [
      "Loaded 181840 train words from /media/sayem/510B93E12554BBD1/dataset/1000/train_words.txt\n"
     ]
    }
   ],
   "source": [
    "parquet_file_path = Path(stratified_samples_dir) / \"parquets\"\n",
    "parquet_file_path.mkdir(exist_ok=True, parents=True)\n",
    "\n",
    "# Paths to the words files\n",
    "train_words_file_path = stratified_samples_dir / 'train_words.txt'\n",
    "test_words_file_path = stratified_samples_dir / 'test_words.txt'\n",
    "\n",
    "# Read the words from the files\n",
    "try:\n",
    "    train_words = read_words(train_words_file_path)\n",
    "    print(f\"Loaded {len(train_words)} train words from {train_words_file_path}\")\n",
    "except FileNotFoundError:\n",
    "    print(f\"File not found: {train_words_file_path}\")"
   ]
  },
  {
   "cell_type": "code",
   "execution_count": 4,
   "metadata": {},
   "outputs": [],
   "source": [
    "# # For inference\n",
    "from scr.feature_engineering import *\n",
    "\n",
    "word_frequencies = calculate_word_frequencies(word_list)\n",
    "char_frequency = calculate_char_frequencies(word_list)\n",
    "max_word_length = max(len(word) for word in word_list)"
   ]
  },
  {
   "cell_type": "markdown",
   "metadata": {},
   "source": [
    "##### Model Building"
   ]
  },
  {
   "cell_type": "markdown",
   "metadata": {},
   "source": [
    "##### Dataset Loading and train-test split"
   ]
  },
  {
   "cell_type": "code",
   "execution_count": 5,
   "metadata": {},
   "outputs": [],
   "source": [
    "# from torch.utils.data import DataLoader\n",
    "# from scr.dataset import HangmanDataset  # Assuming HangmanDataset is your custom dataset class\n",
    "# from sklearn.model_selection import train_test_split\n",
    "# from scr.feature_engineering import process_batch_of_games\n",
    "# from pathlib import Path\n",
    "\n",
    "# import pandas as pd\n",
    "# import os\n",
    "# from sklearn.model_selection import train_test_split\n",
    "\n",
    "# import gc\n",
    "\n",
    "\n",
    "# def combine_and_split_dataset(directory, test_size=0.20, random_state=42):\n",
    "#     # Read all parquet files into one DataFrame\n",
    "#     all_data = pd.concat([pd.read_parquet(os.path.join(directory, f)) for f in \\\n",
    "#         os.listdir(directory) if f.endswith('.parquet')], ignore_index=True)\n",
    "\n",
    "#     # Split the DataFrame into train and validation DataFrames\n",
    "#     train_df, valid_df = train_test_split(all_data, test_size=test_size, random_state=random_state)\n",
    "\n",
    "#     # Optionally, save these DataFrames to new parquet files\n",
    "#     train_df.to_parquet(os.path.join(directory, 'train_combined.parquet'))\n",
    "#     valid_df.to_parquet(os.path.join(directory, 'valid_combined.parquet'))\n",
    "\n",
    "#     return 'train_combined.parquet', 'valid_combined.parquet'\n",
    "\n",
    "# # Split the dataset\n",
    "# train_file, valid_file = combine_and_split_dataset(parquet_file_path)\n",
    "\n",
    "# # Create dataset instances\n",
    "# train_dataset = HangmanDataset([os.path.join(parquet_file_path, train_file)])\n",
    "# valid_dataset = HangmanDataset([os.path.join(parquet_file_path, valid_file)])\n",
    "\n",
    "\n",
    "# gc.collect()"
   ]
  },
  {
   "cell_type": "code",
   "execution_count": 6,
   "metadata": {},
   "outputs": [],
   "source": [
    "import pandas as pd\n",
    "import os\n",
    "from sklearn.model_selection import train_test_split\n",
    "\n",
    "import pandas as pd\n",
    "import os\n",
    "from sklearn.model_selection import train_test_split\n",
    "\n",
    "def split_each_parquet(directory, test_size=0.20, random_state=42):\n",
    "    train_files, valid_files = [], []\n",
    "\n",
    "    for file in os.listdir(directory):\n",
    "        if file.endswith('.parquet'):\n",
    "            file_path = os.path.join(directory, file)\n",
    "            df = pd.read_parquet(file_path)\n",
    "\n",
    "            # Skip splitting if DataFrame has only one row\n",
    "            if len(df) <= 1:\n",
    "                continue\n",
    "\n",
    "            # Split the DataFrame\n",
    "            train_df, valid_df = train_test_split(df, test_size=test_size, random_state=random_state)\n",
    "\n",
    "            # Save split DataFrames to new parquet files\n",
    "            train_file = os.path.join(directory, f'train_{file}')\n",
    "            valid_file = os.path.join(directory, f'valid_{file}')\n",
    "            train_df.to_parquet(train_file)\n",
    "            valid_df.to_parquet(valid_file)\n",
    "\n",
    "            train_files.append(train_file)\n",
    "            valid_files.append(valid_file)\n",
    "\n",
    "    return train_files, valid_files\n",
    "\n",
    "# Example usage\n",
    "train_files, valid_files = split_each_parquet(parquet_file_path)\n",
    "\n",
    "# Create dataset instances\n",
    "train_dataset = HangmanDataset(train_files)\n",
    "valid_dataset = HangmanDataset(valid_files)"
   ]
  },
  {
   "cell_type": "code",
   "execution_count": 7,
   "metadata": {},
   "outputs": [
    {
     "data": {
      "text/plain": [
       "True"
      ]
     },
     "execution_count": 7,
     "metadata": {},
     "output_type": "execute_result"
    }
   ],
   "source": [
    "len(train_dataset) > len(valid_dataset)"
   ]
  },
  {
   "cell_type": "code",
   "execution_count": 8,
   "metadata": {},
   "outputs": [],
   "source": [
    "# Usage\n",
    "from scr.model import *\n",
    "\n",
    "lstm_model = SimpleLSTM(input_dim=145, hidden_dim=256, output_dim=28, \n",
    "                                num_layers=2, missed_char_dim=28)\n",
    "\n",
    "from scr.trainer import *\n",
    "\n",
    "# # Usage\n",
    "# lstm_model = SimpleLSTM(input_dim=145, hidden_dim=256, output_dim=28, \n",
    "#                                 num_layers=2, missed_char_dim=28)\n",
    "\n",
    "lightning_model = HangmanModel(lstm_model, learning_rate=0.0001, \n",
    "                            char_frequency=char_frequency, \n",
    "                            max_word_length=max_word_length)\n",
    "\n",
    "train_loader = DataLoader(train_dataset, batch_size=512, \n",
    "                          collate_fn=custom_collate_fn, \n",
    "                          shuffle=True, \n",
    "                          num_workers=15,  # Adjust based on your system\n",
    "                          prefetch_factor=2)  # Adjust based on your needs\n",
    "                          \n",
    "val_loader = DataLoader(valid_dataset, batch_size=512, \n",
    "                          collate_fn=custom_collate_fn, \n",
    "                          shuffle=True, \n",
    "                          num_workers=15,  # Adjust based on your system\n",
    "                          prefetch_factor=2)  # Adjust based on your needs"
   ]
  },
  {
   "cell_type": "code",
   "execution_count": 9,
   "metadata": {},
   "outputs": [
    {
     "name": "stdout",
     "output_type": "stream",
     "text": [
      "Loaded 45460 test words from /media/sayem/510B93E12554BBD1/dataset/1000/test_words.txt\n"
     ]
    },
    {
     "name": "stderr",
     "output_type": "stream",
     "text": [
      "Processing words: 100%|██████████| 45460/45460 [03:08<00:00, 240.84word/s]"
     ]
    },
    {
     "name": "stdout",
     "output_type": "stream",
     "text": [
      "Overall Win Rate: 0.21557413110426749%, Overall Average Attempts: 5.996304443466784\n",
      "Length 5: Win Rate: 0.3975265017667844%, Average Attempts: 5.992049469964664\n",
      "Length 11: Win Rate: 0.08835873647006848%, Average Attempts: 5.998674618952949\n",
      "Length 8: Win Rate: 0.1658649859014762%, Average Attempts: 5.997512025211478\n",
      "Length 17: Win Rate: 0.0%, Average Attempts: 6.0\n",
      "Length 6: Win Rate: 0.3343621399176955%, Average Attempts: 5.993312757201646\n",
      "Length 9: Win Rate: 0.12944983818770225%, Average Attempts: 5.998543689320388\n",
      "Length 3: Win Rate: 4.207920792079208%, Average Attempts: 5.8861386138613865\n",
      "Length 7: Win Rate: 0.18960940462646947%, Average Attempts: 5.997914296549109\n",
      "Length 12: Win Rate: 0.027210884353741496%, Average Attempts: 5.999727891156462\n",
      "Length 10: Win Rate: 0.1466544454628781%, Average Attempts: 5.998533455545371\n",
      "Length 15: Win Rate: 0.0%, Average Attempts: 6.0\n",
      "Length 13: Win Rate: 0.194325689856199%, Average Attempts: 5.997279440342013\n",
      "Length 16: Win Rate: 0.33112582781456956%, Average Attempts: 5.995033112582782\n",
      "Length 4: Win Rate: 0.48169556840077066%, Average Attempts: 5.992292870905588\n",
      "Length 14: Win Rate: 0.17142857142857143%, Average Attempts: 5.998285714285714\n",
      "Length 20: Win Rate: 0.0%, Average Attempts: 6.0\n",
      "Length 18: Win Rate: 0.0%, Average Attempts: 6.0\n",
      "Length 19: Win Rate: 0.0%, Average Attempts: 6.0\n",
      "Length 21: Win Rate: 0.0%, Average Attempts: 6.0\n",
      "Length 2: Win Rate: 6.666666666666667%, Average Attempts: 5.844444444444444\n",
      "Length 22: Win Rate: 0.0%, Average Attempts: 6.0\n",
      "Length 1: Win Rate: 0.0%, Average Attempts: 6.0\n",
      "Length 23: Win Rate: 0.0%, Average Attempts: 6.0\n",
      "Length 25: Win Rate: 0.0%, Average Attempts: 6.0\n",
      "Length 28: Win Rate: 0.0%, Average Attempts: 6.0\n"
     ]
    },
    {
     "name": "stderr",
     "output_type": "stream",
     "text": [
      "\n"
     ]
    }
   ],
   "source": [
    "from scr.game import *\n",
    "# Read the words from the file\n",
    "try:\n",
    "    test_words = read_words(test_words_file_path)\n",
    "    print(f\"Loaded {len(test_words)} test words from {test_words_file_path}\")\n",
    "except FileNotFoundError:\n",
    "    print(f\"File not found: {test_words_file_path}\")\n",
    "\n",
    "# Example usage\n",
    "result = play_games_and_calculate_stats(lstm_model, test_words, char_frequency, max_word_length)\n",
    "\n",
    "print(f\"Overall Win Rate: {result['overall_win_rate']}%, Overall Average Attempts: {result['overall_avg_attempts']}\")\n",
    "for length, data in result[\"length_wise_stats\"].items():\n",
    "    print(f\"Length {length}: Win Rate: {data['win_rate']}%, Average Attempts: {data['average_attempts_used']}\")"
   ]
  },
  {
   "cell_type": "code",
   "execution_count": 10,
   "metadata": {},
   "outputs": [],
   "source": [
    "from pytorch_lightning.callbacks import EarlyStopping\n",
    "\n",
    "# EarlyStopping callback monitors 'val_loss' and stops training after 3 epochs if it doesn't improve\n",
    "early_stop_callback = EarlyStopping(\n",
    "    monitor='val_miss_penalty',  # Monitor the validation miss penalty\n",
    "    min_delta=0.00,  # Minimum change to qualify as an improvement\n",
    "    patience=3,  # Number of epochs with no improvement after which training will be stopped\n",
    "    verbose=True,\n",
    "    mode='min'  # 'min' mode means training will stop when the quantity monitored has stopped decreasing\n",
    ")"
   ]
  },
  {
   "cell_type": "code",
   "execution_count": 13,
   "metadata": {},
   "outputs": [],
   "source": [
    "from pytorch_lightning.profilers import SimpleProfiler\n",
    "\n",
    "# # Create a PyTorch Lightning trainer and train the model\n",
    "# profiler = SimpleProfiler()\n",
    "\n",
    "# trainer = pl.Trainer(max_epochs=15, callbacks=[early_stop_callback]) # , profiler=profiler)\n",
    "# trainer.fit(lightning_model, train_loader, val_loader)\n",
    "# # print(profiler.summary())\n",
    "\n",
    "\n",
    "# from pathlib import Path\n",
    "# import torch\n",
    "# import pytorch_lightning as pl\n",
    "\n",
    "# # Assuming 'lightning_model' is your HangmanModel instance\n",
    "\n",
    "# Create a 'models' directory within the base directory\n",
    "models_dir = Path('./models')\n",
    "models_dir.mkdir(exist_ok=True)\n",
    "\n",
    "# Define the path for saving the entire LSTM model object\n",
    "torch_model_save_path = models_dir / 'full_simple_lstm_model.pth'\n",
    "\n",
    "# # Save the entire LSTM model object\n",
    "# torch.save(lightning_model.model, torch_model_save_path)\n",
    "\n",
    "# print(f\"Entire LSTM model saved at: {torch_model_save_path}\")"
   ]
  },
  {
   "cell_type": "markdown",
   "metadata": {},
   "source": [
    "##### Testing"
   ]
  },
  {
   "cell_type": "code",
   "execution_count": 14,
   "metadata": {},
   "outputs": [
    {
     "data": {
      "text/plain": [
       "SimpleLSTM(\n",
       "  (lstm): LSTM(145, 256, num_layers=2, batch_first=True, bidirectional=True)\n",
       "  (miss_linear): Linear(in_features=28, out_features=256, bias=True)\n",
       "  (linear): Linear(in_features=768, out_features=28, bias=True)\n",
       ")"
      ]
     },
     "execution_count": 14,
     "metadata": {},
     "output_type": "execute_result"
    }
   ],
   "source": [
    "# Load the entire LSTM model object\n",
    "loaded_lstm_model = torch.load(torch_model_save_path)\n",
    "\n",
    "# If you want to use the model for inference\n",
    "loaded_lstm_model.eval()  # Set the model to evaluation mode"
   ]
  },
  {
   "cell_type": "code",
   "execution_count": 15,
   "metadata": {},
   "outputs": [
    {
     "data": {
      "text/plain": [
       "(False, '_a_', 6)"
      ]
     },
     "execution_count": 15,
     "metadata": {},
     "output_type": "execute_result"
    }
   ],
   "source": [
    "from scr.game import *\n",
    "\n",
    "word = 'may'\n",
    "\n",
    "play_game_with_a_word(loaded_lstm_model, word, char_frequency, max_word_length)"
   ]
  },
  {
   "cell_type": "code",
   "execution_count": 16,
   "metadata": {},
   "outputs": [
    {
     "name": "stdout",
     "output_type": "stream",
     "text": [
      "Loaded 45460 test words from /media/sayem/510B93E12554BBD1/dataset/1000/test_words.txt\n"
     ]
    },
    {
     "name": "stderr",
     "output_type": "stream",
     "text": [
      "Processing words: 100%|██████████| 45460/45460 [04:13<00:00, 179.13word/s]"
     ]
    },
    {
     "name": "stdout",
     "output_type": "stream",
     "text": [
      "Overall Win Rate: 13.46678398592169%, Overall Average Attempts: 5.7239771227452705\n",
      "Length 5: Win Rate: 8.92226148409894%, Average Attempts: 5.819787985865724\n",
      "Length 11: Win Rate: 15.065164568146674%, Average Attempts: 5.695604152860614\n",
      "Length 8: Win Rate: 9.935312655498423%, Average Attempts: 5.803615856692653\n",
      "Length 17: Win Rate: 34.68208092485549%, Average Attempts: 5.300578034682081\n",
      "Length 6: Win Rate: 8.770576131687243%, Average Attempts: 5.816872427983539\n",
      "Length 9: Win Rate: 11.440129449838189%, Average Attempts: 5.760194174757282\n",
      "Length 3: Win Rate: 6.435643564356436%, Average Attempts: 5.861386138613861\n",
      "Length 7: Win Rate: 9.082290481607888%, Average Attempts: 5.807925673113386\n",
      "Length 12: Win Rate: 16.57142857142857%, Average Attempts: 5.658775510204082\n",
      "Length 10: Win Rate: 13.327222731439047%, Average Attempts: 5.732722273143905\n",
      "Length 15: Win Rate: 27.735849056603772%, Average Attempts: 5.413207547169812\n",
      "Length 13: Win Rate: 21.10376991838321%, Average Attempts: 5.57870190439176\n",
      "Length 16: Win Rate: 30.79470198675497%, Average Attempts: 5.3658940397351\n",
      "Length 4: Win Rate: 6.454720616570328%, Average Attempts: 5.883429672447013\n",
      "Length 14: Win Rate: 22.114285714285714%, Average Attempts: 5.533714285714286\n",
      "Length 20: Win Rate: 45.83333333333333%, Average Attempts: 4.895833333333333\n",
      "Length 18: Win Rate: 40.93567251461988%, Average Attempts: 5.169590643274854\n",
      "Length 19: Win Rate: 47.25274725274725%, Average Attempts: 4.868131868131868\n",
      "Length 21: Win Rate: 50.0%, Average Attempts: 4.95\n",
      "Length 2: Win Rate: 2.2222222222222223%, Average Attempts: 5.933333333333334\n",
      "Length 22: Win Rate: 44.44444444444444%, Average Attempts: 5.111111111111111\n",
      "Length 1: Win Rate: 33.33333333333333%, Average Attempts: 5.333333333333333\n",
      "Length 23: Win Rate: 25.0%, Average Attempts: 5.75\n",
      "Length 25: Win Rate: 100.0%, Average Attempts: 4.0\n",
      "Length 28: Win Rate: 0.0%, Average Attempts: 6.0\n"
     ]
    },
    {
     "name": "stderr",
     "output_type": "stream",
     "text": [
      "\n"
     ]
    }
   ],
   "source": [
    "from scr.game import *\n",
    "# Read the words from the file\n",
    "try:\n",
    "    test_words = read_words(test_words_file_path)\n",
    "    print(f\"Loaded {len(test_words)} test words from {test_words_file_path}\")\n",
    "except FileNotFoundError:\n",
    "    print(f\"File not found: {test_words_file_path}\")\n",
    "\n",
    "# Example usage\n",
    "result = play_games_and_calculate_stats(loaded_lstm_model, test_words, char_frequency, max_word_length)\n",
    "\n",
    "print(f\"Overall Win Rate: {result['overall_win_rate']}%, Overall Average Attempts: {result['overall_avg_attempts']}\")\n",
    "for length, data in result[\"length_wise_stats\"].items():\n",
    "    print(f\"Length {length}: Win Rate: {data['win_rate']}%, Average Attempts: {data['average_attempts_used']}\")"
   ]
  }
 ],
 "metadata": {
  "kernelspec": {
   "display_name": "optiver",
   "language": "python",
   "name": "python3"
  },
  "language_info": {
   "codemirror_mode": {
    "name": "ipython",
    "version": 3
   },
   "file_extension": ".py",
   "mimetype": "text/x-python",
   "name": "python",
   "nbconvert_exporter": "python",
   "pygments_lexer": "ipython3",
   "version": "3.10.13"
  }
 },
 "nbformat": 4,
 "nbformat_minor": 2
}
