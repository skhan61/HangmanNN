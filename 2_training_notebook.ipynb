{
 "cells": [
  {
   "cell_type": "markdown",
   "metadata": {},
   "source": [
    "##### Imports"
   ]
  },
  {
   "cell_type": "code",
   "execution_count": 1,
   "metadata": {},
   "outputs": [],
   "source": [
    "import sys\n",
    "from pathlib import Path\n",
    "import warnings\n",
    "\n",
    "import warnings\n",
    "import pandas as pd\n",
    "warnings.filterwarnings('ignore')\n",
    "\n",
    "pd.set_option('display.max_columns', 1000)\n",
    "pd.set_option('display.max_rows', 1000)\n",
    "\n",
    "import sys\n",
    "# Custom library paths\n",
    "sys.path.extend(['../', './scr'])\n",
    "\n",
    "from scr.utils import set_seed\n",
    "from scr.utils import read_words\n",
    "from pathlib import Path\n",
    "import random\n",
    "from collections import Counter, defaultdict\n",
    "import pickle\n",
    "from tqdm import tqdm\n",
    "from torch.utils.data import Dataset\n",
    "\n",
    "from scr.utils import read_words, save_words_to_file\n",
    "\n",
    "import pickle\n",
    "from pathlib import Path\n",
    "from scr.dataset import *\n",
    "from scr.utils import *\n",
    "# # For inference\n",
    "from scr.feature_engineering import *\n",
    "\n",
    "import gc\n",
    "\n",
    "set_seed(42)\n",
    "\n",
    "import torch\n",
    "import torch.nn as nn\n",
    "from pathlib import Path\n",
    "import random\n",
    "\n",
    "from scr.utils import print_scenarios\n",
    "torch.set_float32_matmul_precision('medium')\n",
    "from pathlib import Path\n",
    "\n",
    "# Device configuration\n",
    "device = torch.device(\"cuda\" if torch.cuda.is_available() else \"cpu\")\n",
    "\n",
    "# # Read and Shuffle Word List\n",
    "word_list = read_words('data/words_250000_train.txt') # , limit=10000)\n",
    "# word_list = read_words('data/250k.txt', limit=10000)\n",
    "\n",
    "random.shuffle(word_list)\n",
    "\n",
    "# Calculate Frequencies and Max Word Length\n",
    "word_frequencies = calculate_word_frequencies(word_list)\n",
    "char_frequency = calculate_char_frequencies(word_list)\n",
    "max_word_length = max(len(word) for word in word_list)"
   ]
  },
  {
   "cell_type": "markdown",
   "metadata": {},
   "source": [
    "##### Data Dir"
   ]
  },
  {
   "cell_type": "code",
   "execution_count": 2,
   "metadata": {},
   "outputs": [],
   "source": [
    "NUM_STRATIFIED_SAMPLES = 1_00 # This will be overwritten by Papermill\n",
    "\n",
    "NUM_WORD_SAMPLE = 20_000 # words for testing\n",
    "\n",
    "FAST_DEV_RUN = False\n",
    "\n",
    "MAX_EPOCH = 25"
   ]
  },
  {
   "cell_type": "code",
   "execution_count": 3,
   "metadata": {},
   "outputs": [
    {
     "name": "stdout",
     "output_type": "stream",
     "text": [
      "Length of the testing word list: 10048\n",
      "Sampled 10048 unique words for testing.\n",
      "10048\n"
     ]
    }
   ],
   "source": [
    "from pathlib import Path\n",
    "\n",
    "# Define the base directory and the paths for training and validation parquet files\n",
    "base_dataset_dir = Path(\"/media/sayem/510B93E12554BBD1/dataset/\")\n",
    "stratified_samples_dir = base_dataset_dir / str(NUM_STRATIFIED_SAMPLES)\n",
    "parquet_train_path = stratified_samples_dir / 'train_parquets'\n",
    "parquet_valid_path = stratified_samples_dir / 'valid_parquets'\n",
    "\n",
    "# Create directories for train and validation parquets if they don't exist\n",
    "parquet_train_path.mkdir(parents=True, exist_ok=True)\n",
    "parquet_valid_path.mkdir(parents=True, exist_ok=True)\n",
    "\n",
    "# Define and create the directory for models\n",
    "models_dir = Path(\"/home/sayem/Desktop/Hangman/models\")\n",
    "models_dir.mkdir(parents=True, exist_ok=True)\n",
    "\n",
    "# Define your output directory\n",
    "# Define your output directory and logger directory\n",
    "output_dir = Path(\"/home/sayem/Desktop/Hangman/training_outputs\")\n",
    "logger_dir = output_dir / \"lightning_logs\"\n",
    "\n",
    "# Create the output and logger directories if they don't exist\n",
    "output_dir.mkdir(parents=True, exist_ok=True)\n",
    "logger_dir.mkdir(parents=True, exist_ok=True)\n",
    "\n",
    "# Define the file path for saving the testing words\n",
    "testing_words_file_path = stratified_samples_dir / \"testing_words.txt\"\n",
    "\n",
    "try:\n",
    "    testing_word_list = read_words(testing_words_file_path)\n",
    "    print(f\"Length of the testing word list: {len(testing_word_list)}\")\n",
    "    sampled_test_words = sample_words(testing_word_list, NUM_WORD_SAMPLE)\n",
    "    print(f\"Sampled {len(sampled_test_words)} unique words for testing.\")\n",
    "except FileNotFoundError:\n",
    "    print(f\"File not found: {testing_words_file_path}\")\n",
    "\n",
    "print(len(sampled_test_words))"
   ]
  },
  {
   "cell_type": "markdown",
   "metadata": {},
   "source": [
    "##### Dataset Loading"
   ]
  },
  {
   "cell_type": "code",
   "execution_count": 4,
   "metadata": {},
   "outputs": [
    {
     "name": "stdout",
     "output_type": "stream",
     "text": [
      "6894\n",
      "1764\n"
     ]
    }
   ],
   "source": [
    "# Create datasets directly from the saved parquet files\n",
    "train_dataset = HangmanDataset(parquet_train_path)\n",
    "valid_dataset = HangmanDataset(parquet_valid_path)\n",
    "\n",
    "print(len(train_dataset))\n",
    "print(len(valid_dataset))\n",
    "\n",
    "assert len(train_dataset) > len(valid_dataset)"
   ]
  },
  {
   "cell_type": "markdown",
   "metadata": {},
   "source": [
    "##### Model Initialization"
   ]
  },
  {
   "cell_type": "code",
   "execution_count": 5,
   "metadata": {},
   "outputs": [],
   "source": [
    "# Usage\n",
    "from scr.encoder import *\n",
    "from scr.trainer_ import *\n",
    "from scr.decoder import SimpleLSTM\n",
    "\n",
    "# Fixed parameters\n",
    "max_word_length = 29  # Maximum word length\n",
    "num_embeddings = 28   # Vocabulary size (fixed, based on unique characters in the game)\n",
    "num_features = 5      # Number of features per character (could be considered tunable) -> not tunable\n",
    "missed_char_dim = 28  \n",
    "output_dim = 28\n",
    "\n",
    "# Tunable hyperparameters in uppercase\n",
    "LEARNING_RATE = 1e-5\n",
    "HIDDEN_DIM = 256\n",
    "NUM_LAYERS = 3\n",
    "EMBEDDING_DIM = 50\n",
    "\n",
    "# Initialize the Encoder\n",
    "encoder = Encoder(num_embeddings=num_embeddings, \n",
    "                  embedding_dim=EMBEDDING_DIM, \n",
    "                  num_features=num_features)\n",
    "\n",
    "# Calculate the input dimension for the LSTM (SimpleLSTM decoder)\n",
    "input_dim = max_word_length * EMBEDDING_DIM \\\n",
    "    + (num_features - 1) * max_word_length\n",
    "\n",
    "# Initialize the SimpleLSTM decoder\n",
    "decoder = SimpleLSTM(input_dim=input_dim, \n",
    "                     hidden_dim=HIDDEN_DIM, \n",
    "                     output_dim=output_dim, \n",
    "                     num_layers=NUM_LAYERS,\n",
    "                     missed_char_dim=missed_char_dim)  # Using the fixed parameter"
   ]
  },
  {
   "cell_type": "code",
   "execution_count": 6,
   "metadata": {},
   "outputs": [
    {
     "name": "stdout",
     "output_type": "stream",
     "text": [
      "Model saved at /home/sayem/Desktop/Hangman/models/100_untrained_model.pth\n"
     ]
    }
   ],
   "source": [
    "# Initialize the HangmanModel\n",
    "lightning_model = HangmanModel(encoder, decoder, \n",
    "                    LEARNING_RATE, char_frequency, \n",
    "                    max_word_length, test_words=sampled_test_words)\n",
    "\n",
    "# Save the model's state dictionary\n",
    "untrained_model_file = models_dir / f\"{NUM_STRATIFIED_SAMPLES}_untrained_model.pth\"\n",
    "torch.save(lightning_model, untrained_model_file)\n",
    "print(f\"Model saved at {untrained_model_file}\")"
   ]
  },
  {
   "cell_type": "markdown",
   "metadata": {},
   "source": [
    "##### Eval Untrain Model for Initial Performence"
   ]
  },
  {
   "cell_type": "code",
   "execution_count": 7,
   "metadata": {},
   "outputs": [
    {
     "data": {
      "application/vnd.jupyter.widget-view+json": {
       "model_id": "104a5b958ae142fd90607ef757a285e0",
       "version_major": 2,
       "version_minor": 0
      },
      "text/plain": [
       "Processing words:   0%|          | 0/10048 [00:00<?, ?word/s]"
      ]
     },
     "metadata": {},
     "output_type": "display_data"
    },
    {
     "name": "stdout",
     "output_type": "stream",
     "text": [
      "Untrained model performence: 0.0696656050955414 % win rate\n"
     ]
    }
   ],
   "source": [
    "# # Load the entire LSTM model object\n",
    "# untrained_model_file_path = models_dir / f\"{NUM_STRATIFIED_SAMPLES}_trained_model.pth\"\n",
    "\n",
    "untrained_model = torch.load(untrained_model_file)\n",
    "\n",
    "# Example usage\n",
    "result = play_games_and_calculate_stats(untrained_model, \\\n",
    "    sampled_test_words, char_frequency, max_word_length)\n",
    "\n",
    "print(f\"Untrained model performence: {result['overall_win_rate']} % win rate\")\n",
    "\n",
    "performance_metrics = result['length_wise_stats']\n",
    "\n",
    "# print(performance_metrics)"
   ]
  },
  {
   "cell_type": "markdown",
   "metadata": {},
   "source": [
    "##### Data Module"
   ]
  },
  {
   "cell_type": "code",
   "execution_count": 8,
   "metadata": {},
   "outputs": [],
   "source": [
    "from scr.data_module import *\n",
    "\n",
    "# Initialize Data Module\n",
    "initial_batch_size = 128  # Set your initial batch size\n",
    "\n",
    "# Initialize Data Module with the required arguments\n",
    "data_module = HangmanDataModule(train_dataset, valid_dataset, \n",
    "                                initial_batch_size, \n",
    "                                custom_collate_fn, \n",
    "                                performance_metrics=performance_metrics, \n",
    "                                threshold_win_rate=50)"
   ]
  },
  {
   "cell_type": "markdown",
   "metadata": {},
   "source": [
    "##### Testing on Untrained Model"
   ]
  },
  {
   "cell_type": "code",
   "execution_count": 9,
   "metadata": {},
   "outputs": [
    {
     "name": "stderr",
     "output_type": "stream",
     "text": [
      "GPU available: True (cuda), used: True\n",
      "TPU available: False, using: 0 TPU cores\n",
      "IPU available: False, using: 0 IPUs\n",
      "HPU available: False, using: 0 HPUs\n"
     ]
    }
   ],
   "source": [
    "from pytorch_lightning.profilers import SimpleProfiler\n",
    "import pytorch_lightning as pl\n",
    "from scr.custom_callbacks import *\n",
    "from scr.dataset import *\n",
    "from scr.data_module import *\n",
    "from scr.trainer_ import *\n",
    "\n",
    "# # Create Callbacks\n",
    "# loss_logging_callback = LossLoggingCallback()\n",
    "\n",
    "callbacks = [early_stop_callback] # , SchedulerSetupCallback()] # , loss_logging_callback]\n",
    "\n",
    "# FAST_DEV_RUN = False\n",
    "# # Calculate the minimum percentage of validation batches\n",
    "# min_val_batches = 1 / len(data_module.val_dataloader())\n",
    "\n",
    "# # Create Trainer with Callbacks\n",
    "trainer = pl.Trainer(\n",
    "    default_root_dir=output_dir,\n",
    "    fast_dev_run=FAST_DEV_RUN, \n",
    "    max_epochs=MAX_EPOCH, \n",
    "    callbacks=callbacks,\n",
    "    num_sanity_val_steps=0,\n",
    "    # limit_train_batches=2,  # Limit the number of training batches to 2\n",
    "    # limit_val_batches=2     # Limit the number of validation batches to 2\n",
    ")\n",
    "\n",
    "# # # print(f\"Running for {NUM_STRATIFIED_SAMPLES} samples...\")\n",
    "# print()\n",
    "# # # # # # # # # Validate the model (if needed)\n",
    "# # trainer.validate(model=lightning_model, datamodule=data_module)\n",
    "# print(f\"Training Begin for {NUM_STRATIFIED_SAMPLES} words: {len(train_dataset)} Games\")\n",
    "# # # # # # # Fit the model\n",
    "# trainer.fit(lightning_model, data_module)"
   ]
  },
  {
   "cell_type": "markdown",
   "metadata": {},
   "source": [
    "##### Tuning: lr"
   ]
  },
  {
   "cell_type": "code",
   "execution_count": 10,
   "metadata": {},
   "outputs": [
    {
     "name": "stderr",
     "output_type": "stream",
     "text": [
      "LOCAL_RANK: 0 - CUDA_VISIBLE_DEVICES: [0]\n"
     ]
    },
    {
     "data": {
      "application/vnd.jupyter.widget-view+json": {
       "model_id": "bfa4eb8cedb64299816c1b8593eac12e",
       "version_major": 2,
       "version_minor": 0
      },
      "text/plain": [
       "Processing words:   0%|          | 0/10048 [00:00<?, ?word/s]"
      ]
     },
     "metadata": {},
     "output_type": "display_data"
    },
    {
     "data": {
      "application/vnd.jupyter.widget-view+json": {
       "model_id": "4e9dff2531a641929bbd24925d106a42",
       "version_major": 2,
       "version_minor": 0
      },
      "text/plain": [
       "Finding best initial lr:   0%|          | 0/100 [00:00<?, ?it/s]"
      ]
     },
     "metadata": {},
     "output_type": "display_data"
    },
    {
     "data": {
      "application/vnd.jupyter.widget-view+json": {
       "model_id": "a1be971c057444f8a8064a12c5c575dd",
       "version_major": 2,
       "version_minor": 0
      },
      "text/plain": [
       "Processing words:   0%|          | 0/10048 [00:00<?, ?word/s]"
      ]
     },
     "metadata": {},
     "output_type": "display_data"
    },
    {
     "data": {
      "application/vnd.jupyter.widget-view+json": {
       "model_id": "2ee974068256436987f83500b22baf6f",
       "version_major": 2,
       "version_minor": 0
      },
      "text/plain": [
       "Processing words:   0%|          | 0/10048 [00:00<?, ?word/s]"
      ]
     },
     "metadata": {},
     "output_type": "display_data"
    },
    {
     "name": "stderr",
     "output_type": "stream",
     "text": [
      "LR finder stopped early after 98 steps due to diverging loss.\n",
      "Learning rate set to 0.5754399373371567\n",
      "Restoring states from the checkpoint path at /home/sayem/Desktop/Hangman/training_outputs/.lr_find_859bf2bb-ba2e-4523-9395-986f5ced015d.ckpt\n",
      "Restored all states from the checkpoint at /home/sayem/Desktop/Hangman/training_outputs/.lr_find_859bf2bb-ba2e-4523-9395-986f5ced015d.ckpt\n"
     ]
    },
    {
     "name": "stdout",
     "output_type": "stream",
     "text": [
      "Suggested Learning Rate: 0.5754399373371567\n",
      "{'lr': [1e-08, 1.4454397707459274e-08, 1.7378008287493753e-08, 2.0892961308540398e-08, 2.51188643150958e-08, 3.019951720402016e-08, 3.630780547701014e-08, 4.36515832240166e-08, 5.248074602497726e-08, 6.309573444801934e-08, 7.585775750291837e-08, 9.120108393559096e-08, 1.0964781961431852e-07, 1.3182567385564074e-07, 1.5848931924611133e-07, 1.9054607179632475e-07, 2.2908676527677735e-07, 2.7542287033381663e-07, 3.311311214825911e-07, 3.9810717055349735e-07, 4.786300923226383e-07, 5.75439937337157e-07, 6.918309709189366e-07, 8.317637711026709e-07, 1e-06, 1.2022644346174132e-06, 1.445439770745928e-06, 1.7378008287493761e-06, 2.089296130854039e-06, 2.5118864315095797e-06, 3.0199517204020163e-06, 3.630780547701014e-06, 4.365158322401661e-06, 5.248074602497728e-06, 6.3095734448019305e-06, 7.585775750291836e-06, 9.120108393559096e-06, 1.0964781961431852e-05, 1.3182567385564076e-05, 1.584893192461114e-05, 1.9054607179632464e-05, 2.2908676527677725e-05, 2.7542287033381663e-05, 3.311311214825911e-05, 3.9810717055349735e-05, 4.786300923226385e-05, 5.7543993733715664e-05, 6.918309709189363e-05, 8.317637711026709e-05, 0.0001, 0.00012022644346174131, 0.0001445439770745928, 0.00017378008287493763, 0.0002089296130854041, 0.0002511886431509582, 0.0003019951720402019, 0.000363078054770101, 0.0004365158322401656, 0.0005248074602497723, 0.000630957344480193, 0.0007585775750291836, 0.0009120108393559097, 0.0010964781961431851, 0.0013182567385564075, 0.001584893192461114, 0.0019054607179632484, 0.0022908676527677745, 0.002754228703338169, 0.003311311214825908, 0.003981071705534969, 0.00478630092322638, 0.005754399373371567, 0.006918309709189364, 0.008317637711026709, 0.01, 0.012022644346174132, 0.01445439770745928, 0.017378008287493765, 0.02089296130854041, 0.025118864315095822, 0.030199517204020192, 0.036307805477010104, 0.04365158322401657, 0.05248074602497723, 0.0630957344480193, 0.07585775750291836, 0.09120108393559097, 0.10964781961431852, 0.13182567385564073, 0.15848931924611143, 0.19054607179632482, 0.2290867652767775, 0.2754228703338169, 0.3311311214825908, 0.3981071705534969, 0.47863009232263803, 0.5754399373371567, 0.6918309709189363], 'loss': [1101.0124437736729, 1467.9677453402378, 1651.4070158896375, 1761.4397227324316, 1834.7694916762023, 1887.126788772566, 1926.3771209934039, 1956.8869697148257, 1981.2797049564103, 2001.2230265345308, 2017.8301536507588, 2031.8699531727636, 2043.892787917199, 2054.302859513107, 2063.4017072946267, 2071.4197884691134, 2078.538878783945, 2084.8990215471017, 2090.6154661735823, 2095.77885075499, 2100.46446876055, 2104.734425678203, 2108.6407400033518, 2112.2262591641443, 2115.527226315625, 2118.5751072730773, 2121.396113725311, 2124.013202595007, 2126.446101354622, 2128.710607990915, 2130.8219814405734, 2132.7924900411026, 2134.6326887630435, 2136.3517833388846, 2137.9573614258265, 2139.455783376246, 2140.8524990566566, 2142.1505389494314, 2143.353117546164, 2144.4616212528404, 2145.4759634472684, 2146.394979470674, 2147.2156065535746, 2147.934033529417, 2148.5432937405476, 2149.0349762789892, 2149.3984394709896, 2149.619176702858, 2149.6805649071407, 2149.561821980675, 2149.2373289432453, 2148.6758221311816, 2147.8404434683166, 2146.687880874274, 2145.1629815340575, 2143.2041046504914, 2140.736528591491, 2137.6730831782975, 2133.9109481252003, 2129.3312112300528, 2123.7949539216097, 2117.1445494100158, 2109.200297651696, 2099.7611348095215, 2088.6094861418196, 2075.513455753871, 2060.240847966377, 2042.5741576930436, 2022.3448680424722, 1999.4789182023965, 1974.0809338635968, 1946.5386997301325, 1917.7031910485819, 1889.131934832432, 1863.4883190233984, 1845.095199781341, 1838.5172847969075, 1843.9880218492297, 1861.289812552263, 1889.9995681081, 1929.3255219217804, 1978.117214988481, 2034.6434859820006, 2096.2641819130527, 2159.763607067549, 2220.3392095641507, 2272.7222324952836, 2308.832269936705, 2319.3160811988005, 2290.528968795768, 2206.7766396273573, 2043.2380926432904, 1779.7407852891854, 1372.5674147794984, 796.0784252780855, -73.62918564051395, -1364.660889299112, -3377.659141366252]}\n"
     ]
    },
    {
     "data": {
      "image/png": "[encoded data removed]",
      "text/plain": [
       "<Figure size 640x480 with 1 Axes>"
      ]
     },
     "metadata": {},
     "output_type": "display_data"
    }
   ],
   "source": [
    "from pytorch_lightning.tuner.tuning import Tuner\n",
    "\n",
    "# Assuming lightning_model, train_loader, and val_loader are already defined\n",
    "# Initialize the tuner with your trainer\n",
    "tuner = Tuner(trainer)\n",
    "\n",
    "# Run the learning rate finder using the data module\n",
    "lr_finder = tuner.lr_find(model=lightning_model, datamodule=data_module)\n",
    "\n",
    "# Plot the learning rate finder results\n",
    "fig = lr_finder.plot(suggest=True)\n",
    "fig.show()\n",
    "\n",
    "# Get the suggested learning rate\n",
    "new_lr = lr_finder.suggestion()\n",
    "print(f\"Suggested Learning Rate: {new_lr}\")\n",
    "\n",
    "# Update model's learning rate\n",
    "lightning_model.learning_rate = new_lr\n",
    "\n",
    "# Optionally, you can view the results of the LR finder\n",
    "print(lr_finder.results)"
   ]
  },
  {
   "cell_type": "markdown",
   "metadata": {},
   "source": [
    "##### Tuning: Batch"
   ]
  },
  {
   "cell_type": "code",
   "execution_count": 11,
   "metadata": {},
   "outputs": [
    {
     "name": "stderr",
     "output_type": "stream",
     "text": [
      "LOCAL_RANK: 0 - CUDA_VISIBLE_DEVICES: [0]\n"
     ]
    },
    {
     "data": {
      "application/vnd.jupyter.widget-view+json": {
       "model_id": "cf5334a7e6454538983da17c8eaf6cb1",
       "version_major": 2,
       "version_minor": 0
      },
      "text/plain": [
       "Processing words:   0%|          | 0/10048 [00:00<?, ?word/s]"
      ]
     },
     "metadata": {},
     "output_type": "display_data"
    }
   ],
   "source": [
    "# Assuming lightning_model is already defined\n",
    "new_batch_size = tuner.scale_batch_size(\n",
    "    model=lightning_model,\n",
    "    datamodule=data_module,\n",
    "    mode='power',  # or 'binsearch'\n",
    "    steps_per_trial=10,\n",
    "    init_val=32,\n",
    "    max_trials=4\n",
    ")\n",
    "\n",
    "# Update the batch size in the data module\n",
    "data_module.batch_size = new_batch_size\n",
    "\n",
    "print(f\"Tune Batch size: \", new_batch_size)"
   ]
  },
  {
   "cell_type": "markdown",
   "metadata": {},
   "source": [
    "##### Training"
   ]
  },
  {
   "cell_type": "code",
   "execution_count": null,
   "metadata": {},
   "outputs": [
    {
     "name": "stderr",
     "output_type": "stream",
     "text": [
      "LOCAL_RANK: 0 - CUDA_VISIBLE_DEVICES: [0]\n",
      "\n",
      "  | Name    | Type       | Params\n",
      "---------------------------------------\n",
      "0 | encoder | Encoder    | 1.4 K \n",
      "1 | decoder | SimpleLSTM | 6.9 M \n",
      "---------------------------------------\n",
      "6.9 M     Trainable params\n",
      "0         Non-trainable params\n",
      "6.9 M     Total params\n",
      "27.737    Total estimated model params size (MB)\n"
     ]
    },
    {
     "name": "stdout",
     "output_type": "stream",
     "text": [
      "Training Begin for 100 words: 6894 Games\n"
     ]
    },
    {
     "data": {
      "application/vnd.jupyter.widget-view+json": {
       "model_id": "db3f1078c8ad4147acea0660a1506987",
       "version_major": 2,
       "version_minor": 0
      },
      "text/plain": [
       "Training: |          | 0/? [00:00<?, ?it/s]"
      ]
     },
     "metadata": {},
     "output_type": "display_data"
    },
    {
     "data": {
      "application/vnd.jupyter.widget-view+json": {
       "model_id": "fa238b7eb2124ddf9f3e277ef831192c",
       "version_major": 2,
       "version_minor": 0
      },
      "text/plain": [
       "Validation: |          | 0/? [00:00<?, ?it/s]"
      ]
     },
     "metadata": {},
     "output_type": "display_data"
    },
    {
     "data": {
      "application/vnd.jupyter.widget-view+json": {
       "model_id": "d3dfbfdd30a94b8e93a3122646c1516d",
       "version_major": 2,
       "version_minor": 0
      },
      "text/plain": [
       "Processing words:   0%|          | 0/1000 [00:00<?, ?word/s]"
      ]
     },
     "metadata": {},
     "output_type": "display_data"
    },
    {
     "name": "stderr",
     "output_type": "stream",
     "text": [
      "Metric test_win_rate improved. New best score: 13.000\n"
     ]
    },
    {
     "data": {
      "application/vnd.jupyter.widget-view+json": {
       "model_id": "209504464b8848a5bda4b5835c576d77",
       "version_major": 2,
       "version_minor": 0
      },
      "text/plain": [
       "Validation: |          | 0/? [00:00<?, ?it/s]"
      ]
     },
     "metadata": {},
     "output_type": "display_data"
    },
    {
     "data": {
      "application/vnd.jupyter.widget-view+json": {
       "model_id": "275cddecde6a4cdbbe178cf229ebaa02",
       "version_major": 2,
       "version_minor": 0
      },
      "text/plain": [
       "Processing words:   0%|          | 0/1000 [00:00<?, ?word/s]"
      ]
     },
     "metadata": {},
     "output_type": "display_data"
    },
    {
     "name": "stderr",
     "output_type": "stream",
     "text": [
      "Metric test_win_rate improved by 2.600 >= min_delta = 0.0. New best score: 15.600\n"
     ]
    },
    {
     "data": {
      "application/vnd.jupyter.widget-view+json": {
       "model_id": "9e26d28fea8548a19d41ce6915fb304e",
       "version_major": 2,
       "version_minor": 0
      },
      "text/plain": [
       "Validation: |          | 0/? [00:00<?, ?it/s]"
      ]
     },
     "metadata": {},
     "output_type": "display_data"
    }
   ],
   "source": [
    "# # # # # Validate the model (if needed)\n",
    "# trainer.validate(model=lightning_model, datamodule=data_module)\n",
    "print(f\"Training Begin for {NUM_STRATIFIED_SAMPLES} words: {len(train_dataset)} Games\")\n",
    "# # # # # # Fit the model\n",
    "trainer.fit(lightning_model, data_module)\n",
    "\n",
    "# # Optionally print the profiler summary\n",
    "# # print(profiler.summary())\n",
    "\n",
    "# Save the entire model\n",
    "trained_model_file = models_dir / f\"{NUM_STRATIFIED_SAMPLES}_trained_model.pth\"\n",
    "torch.save(lightning_model, trained_model_file)\n",
    "print(f\"Model saved at {trained_model_file}\")"
   ]
  },
  {
   "cell_type": "code",
   "execution_count": null,
   "metadata": {},
   "outputs": [],
   "source": [
    "trainer.datamodule.train_dataloader().batch_size"
   ]
  },
  {
   "cell_type": "markdown",
   "metadata": {},
   "source": [
    "##### Testing"
   ]
  },
  {
   "cell_type": "code",
   "execution_count": null,
   "metadata": {},
   "outputs": [],
   "source": [
    "trained_model_file_path = models_dir / f\"{NUM_STRATIFIED_SAMPLES}_trained_model.pth\"\n",
    "trained_model = torch.load(trained_model_file_path)\n",
    "print(type(trained_model))"
   ]
  },
  {
   "cell_type": "code",
   "execution_count": null,
   "metadata": {},
   "outputs": [],
   "source": [
    "# Load the entire LSTM model object\n",
    "\n",
    "trained_model_file_path = models_dir / f\"{NUM_STRATIFIED_SAMPLES}_trained_model.pth\"\n",
    "trained_model = torch.load(trained_model_file_path)\n",
    "\n",
    "# # If you want to use the model for inference\n",
    "# trained_model.eval()  # Set the model to evaluation mode\n",
    "\n",
    "from scr.game import *\n",
    "\n",
    "word = 'may'\n",
    "\n",
    "play_game_with_a_word(trained_model, \\\n",
    "    word, char_frequency, max_word_length)"
   ]
  },
  {
   "cell_type": "code",
   "execution_count": null,
   "metadata": {},
   "outputs": [],
   "source": [
    "NUM_STRATIFIED_SAMPLES"
   ]
  },
  {
   "cell_type": "code",
   "execution_count": null,
   "metadata": {},
   "outputs": [],
   "source": [
    "# Example usage\n",
    "result = play_games_and_calculate_stats(trained_model, \\\n",
    "    sampled_test_words, char_frequency, max_word_length)\n",
    "\n",
    "print(f\"Overall Win Rate: {result['overall_win_rate']}%, Overall Average Attempts: {result['overall_avg_attempts']}\")\n",
    "\n",
    "for length, data in result[\"length_wise_stats\"].items():\n",
    "    print(f\"Length {length}: Win Rate: {data['win_rate']}%, Average Attempts: {data['average_attempts_used']}\")"
   ]
  },
  {
   "cell_type": "code",
   "execution_count": null,
   "metadata": {},
   "outputs": [],
   "source": [
    "# # Load the entire LSTM model object\n",
    "# untrained_model_file_path = models_dir / f\"{NUM_STRATIFIED_SAMPLES}_trained_model.pth\"\n",
    "untrained_model = torch.load(untrained_model_file)\n",
    "\n",
    "# # If you want to use the model for inference\n",
    "# trained_model.eval()  # Set the model to evaluation mode\n",
    "\n",
    "from scr.game import *\n",
    "\n",
    "word = 'may'\n",
    "\n",
    "play_game_with_a_word(untrained_model, \\\n",
    "    word, char_frequency, max_word_length)\n",
    "\n",
    "# Example usage\n",
    "result = play_games_and_calculate_stats(untrained_model, \\\n",
    "    sampled_test_words, char_frequency, max_word_length)\n",
    "\n",
    "print(f\"Overall Win Rate: {result['overall_win_rate']}%, Overall Average Attempts: {result['overall_avg_attempts']}\")\n",
    "\n",
    "for length, data in result[\"length_wise_stats\"].items():\n",
    "    print(f\"Length {length}: Win Rate: {data['win_rate']}%, Average Attempts: {data['average_attempts_used']}\")"
   ]
  },
  {
   "cell_type": "code",
   "execution_count": null,
   "metadata": {},
   "outputs": [],
   "source": []
  }
 ],
 "metadata": {
  "kernelspec": {
   "display_name": "optiver",
   "language": "python",
   "name": "python3"
  },
  "language_info": {
   "codemirror_mode": {
    "name": "ipython",
    "version": 3
   },
   "file_extension": ".py",
   "mimetype": "text/x-python",
   "name": "python",
   "nbconvert_exporter": "python",
   "pygments_lexer": "ipython3",
   "version": "3.10.13"
  }
 },
 "nbformat": 4,
 "nbformat_minor": 2
}
