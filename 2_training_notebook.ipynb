{
 "cells": [
  {
   "cell_type": "markdown",
   "metadata": {},
   "source": [
    "##### Imports"
   ]
  },
  {
   "cell_type": "code",
   "execution_count": 1,
   "metadata": {},
   "outputs": [],
   "source": [
    "import sys\n",
    "from pathlib import Path\n",
    "import warnings\n",
    "\n",
    "import warnings\n",
    "import pandas as pd\n",
    "warnings.filterwarnings('ignore')\n",
    "\n",
    "pd.set_option('display.max_columns', 1000)\n",
    "pd.set_option('display.max_rows', 1000)\n",
    "\n",
    "import sys\n",
    "# Custom library paths\n",
    "sys.path.extend(['../', './scr'])\n",
    "\n",
    "from scr.utils import set_seed\n",
    "from scr.utils import read_words\n",
    "from pathlib import Path\n",
    "import random\n",
    "from collections import Counter, defaultdict\n",
    "import pickle\n",
    "from tqdm import tqdm\n",
    "from torch.utils.data import Dataset\n",
    "\n",
    "from scr.utils import read_words, save_words_to_file\n",
    "\n",
    "import pickle\n",
    "from pathlib import Path\n",
    "from scr.dataset import *\n",
    "from scr.utils import *\n",
    "# # For inference\n",
    "from scr.feature_engineering import *\n",
    "\n",
    "import gc\n",
    "\n",
    "set_seed(42)\n",
    "\n",
    "import torch\n",
    "import torch.nn as nn\n",
    "from pathlib import Path\n",
    "import random\n",
    "\n",
    "from scr.utils import print_scenarios\n",
    "torch.set_float32_matmul_precision('medium')\n",
    "from pathlib import Path\n",
    "\n",
    "# Device configuration\n",
    "device = torch.device(\"cuda\" if torch.cuda.is_available() else \"cpu\")\n",
    "\n",
    "# # Read and Shuffle Word List\n",
    "word_list = read_words('data/words_250000_train.txt') # , limit=10000)\n",
    "# word_list = read_words('data/250k.txt', limit=10000)\n",
    "\n",
    "random.shuffle(word_list)\n",
    "\n",
    "# Calculate Frequencies and Max Word Length\n",
    "word_frequencies = calculate_word_frequencies(word_list)\n",
    "char_frequency = calculate_char_frequencies(word_list)\n",
    "max_word_length = max(len(word) for word in word_list)"
   ]
  },
  {
   "cell_type": "markdown",
   "metadata": {},
   "source": [
    "##### Data Dir"
   ]
  },
  {
   "cell_type": "code",
   "execution_count": 2,
   "metadata": {},
   "outputs": [],
   "source": [
    "NUM_STRATIFIED_SAMPLES = 100 # This will be overwritten by Papermill\n",
    "\n",
    "NUM_WORD_SAMPLE = 1000 # words for testing\n",
    "\n",
    "FAST_DEV_RUN = False\n",
    "\n",
    "MAX_EPOCH = 15"
   ]
  },
  {
   "cell_type": "code",
   "execution_count": 3,
   "metadata": {},
   "outputs": [
    {
     "name": "stdout",
     "output_type": "stream",
     "text": [
      "Sampled 1000 unique words for testing.\n",
      "1000\n"
     ]
    }
   ],
   "source": [
    "from pathlib import Path\n",
    "\n",
    "# Define the base directory and the paths for training and validation parquet files\n",
    "base_dataset_dir = Path(\"/media/sayem/510B93E12554BBD1/dataset/\")\n",
    "stratified_samples_dir = base_dataset_dir / str(NUM_STRATIFIED_SAMPLES)\n",
    "parquet_train_path = stratified_samples_dir / 'train_parquets'\n",
    "parquet_valid_path = stratified_samples_dir / 'valid_parquets'\n",
    "\n",
    "# Create directories for train and validation parquets if they don't exist\n",
    "parquet_train_path.mkdir(parents=True, exist_ok=True)\n",
    "parquet_valid_path.mkdir(parents=True, exist_ok=True)\n",
    "\n",
    "# Define and create the directory for models\n",
    "models_dir = Path(\"/home/sayem/Desktop/Hangman/models\")\n",
    "models_dir.mkdir(parents=True, exist_ok=True)\n",
    "\n",
    "# Define your output directory\n",
    "# Define your output directory and logger directory\n",
    "output_dir = Path(\"/home/sayem/Desktop/Hangman/training_outputs\")\n",
    "logger_dir = output_dir / \"lightning_logs\"\n",
    "\n",
    "# Create the output and logger directories if they don't exist\n",
    "output_dir.mkdir(parents=True, exist_ok=True)\n",
    "logger_dir.mkdir(parents=True, exist_ok=True)\n",
    "\n",
    "# Define the file path for saving the testing words\n",
    "testing_words_file_path = stratified_samples_dir / \"testing_words.txt\"\n",
    "\n",
    "try:\n",
    "    testing_word_list = read_words(testing_words_file_path)\n",
    "    sampled_test_words = sample_words(testing_word_list, NUM_WORD_SAMPLE)\n",
    "    print(f\"Sampled {len(sampled_test_words)} unique words for testing.\")\n",
    "except FileNotFoundError:\n",
    "    print(f\"File not found: {testing_words_file_path}\")\n",
    "\n",
    "print(len(sampled_test_words))"
   ]
  },
  {
   "cell_type": "markdown",
   "metadata": {},
   "source": [
    "##### Dataset Loading"
   ]
  },
  {
   "cell_type": "code",
   "execution_count": 4,
   "metadata": {},
   "outputs": [
    {
     "name": "stdout",
     "output_type": "stream",
     "text": [
      "6894\n",
      "1764\n"
     ]
    }
   ],
   "source": [
    "# Create datasets directly from the saved parquet files\n",
    "train_dataset = HangmanDataset(parquet_train_path)\n",
    "valid_dataset = HangmanDataset(parquet_valid_path)\n",
    "\n",
    "print(len(train_dataset))\n",
    "print(len(valid_dataset))\n",
    "\n",
    "assert len(train_dataset) > len(valid_dataset)"
   ]
  },
  {
   "cell_type": "markdown",
   "metadata": {},
   "source": [
    "##### Model Initialization"
   ]
  },
  {
   "cell_type": "code",
   "execution_count": 5,
   "metadata": {},
   "outputs": [],
   "source": [
    "# from scr.model import HangmanNN\n",
    "# # Usage\n",
    "# from scr.model import *\n",
    "# from scr.trainer import *\n",
    "# # from scr.trainer import *  # Import other necessary modules if required\n",
    "\n",
    "# # Define your parameters\n",
    "# embedding_dim = 145\n",
    "# hidden_dim = 256\n",
    "# output_dim = 28\n",
    "# num_layers = 2\n",
    "# missed_char_dim = 28\n",
    "# num_embeddings = 100  # Example value, adjust as needed\n",
    "# num_additional_features = 4  # Example value, adjust as needed\n",
    "# dropout_rate = 0.5  # Optional, since it has a default value\n",
    "\n",
    "# # Initialize the HangmanNN model\n",
    "# lstm_model = HangmanNN(embedding_dim=embedding_dim, hidden_dim=hidden_dim,\n",
    "#                           output_dim=output_dim, num_layers=num_layers,\n",
    "#                           missed_char_dim=missed_char_dim, \n",
    "#                           num_embeddings=num_embeddings,\n",
    "#                           num_additional_features=num_additional_features, \n",
    "#                           dropout_rate=dropout_rate)"
   ]
  },
  {
   "cell_type": "code",
   "execution_count": 6,
   "metadata": {},
   "outputs": [
    {
     "name": "stdout",
     "output_type": "stream",
     "text": [
      "Model saved at /home/sayem/Desktop/Hangman/models/100_untrained_model.pth\n"
     ]
    }
   ],
   "source": [
    "# Usage\n",
    "from scr.model import *\n",
    "from scr.trainer import *\n",
    "\n",
    "lstm_model = SimpleLSTM(input_dim=145, hidden_dim=256, output_dim=28, \n",
    "                                num_layers=2, missed_char_dim=28)\n",
    "\n",
    "# Save the model's state dictionary\n",
    "model_file = models_dir / f\"{NUM_STRATIFIED_SAMPLES}_untrained_model.pth\"\n",
    "torch.save(lstm_model, model_file)\n",
    "print(f\"Model saved at {model_file}\")"
   ]
  },
  {
   "cell_type": "markdown",
   "metadata": {},
   "source": [
    "##### Testing on Untrained Model"
   ]
  },
  {
   "cell_type": "code",
   "execution_count": 7,
   "metadata": {},
   "outputs": [
    {
     "name": "stderr",
     "output_type": "stream",
     "text": [
      "GPU available: True (cuda), used: True\n",
      "TPU available: False, using: 0 TPU cores\n",
      "IPU available: False, using: 0 IPUs\n",
      "HPU available: False, using: 0 HPUs\n",
      "LOCAL_RANK: 0 - CUDA_VISIBLE_DEVICES: [0]\n"
     ]
    },
    {
     "data": {
      "application/vnd.jupyter.widget-view+json": {
       "model_id": "6c01167a888e45e79f1e92afa409400d",
       "version_major": 2,
       "version_minor": 0
      },
      "text/plain": [
       "Validation: |          | 0/? [00:00<?, ?it/s]"
      ]
     },
     "metadata": {},
     "output_type": "display_data"
    },
    {
     "name": "stderr",
     "output_type": "stream",
     "text": [
      "Processing words: 100%|██████████| 1000/1000 [00:04<00:00, 241.54word/s]\n"
     ]
    },
    {
     "name": "stdout",
     "output_type": "stream",
     "text": [
      "────────────────────────────────────────────────────────────────────────────────────────────────────────────────────────\n",
      "     Validate metric           DataLoader 0\n",
      "────────────────────────────────────────────────────────────────────────────────────────────────────────────────────────\n",
      "  overall_avg_attempts       5.99399995803833\n",
      "      test_win_rate         0.30000001192092896\n",
      "     val_loss_epoch         0.45484036207199097\n",
      " val_miss_penalty_epoch    0.054456859827041626\n",
      "────────────────────────────────────────────────────────────────────────────────────────────────────────────────────────\n"
     ]
    },
    {
     "data": {
      "text/plain": [
       "[{'val_loss_epoch': 0.45484036207199097,\n",
       "  'val_miss_penalty_epoch': 0.054456859827041626,\n",
       "  'test_win_rate': 0.30000001192092896,\n",
       "  'overall_avg_attempts': 5.99399995803833}]"
      ]
     },
     "execution_count": 7,
     "metadata": {},
     "output_type": "execute_result"
    }
   ],
   "source": [
    "from pytorch_lightning.profilers import SimpleProfiler\n",
    "import pytorch_lightning as pl\n",
    "from scr.custom_callbacks import *\n",
    "from scr.dataset import *\n",
    "from scr.data_module import *\n",
    "\n",
    "learning_rate = 0.19\n",
    "\n",
    "lightning_model = HangmanModel(lstm_model, learning_rate, char_frequency, \n",
    "                               max_word_length, test_words=sampled_test_words)\n",
    "\n",
    "# Initialize Data Module\n",
    "initial_batch_size = 32  # Set your initial batch size\n",
    "\n",
    "# Initialize Data Module with the required arguments\n",
    "data_module = HangmanDataModule(train_dataset, valid_dataset, \n",
    "                                initial_batch_size, \n",
    "                                custom_collate_fn)\n",
    "\n",
    "# # Create Callbacks\n",
    "# loss_logging_callback = LossLoggingCallback()\n",
    "\n",
    "callbacks = [early_stop_callback] # , loss_logging_callback]\n",
    "\n",
    "# FAST_DEV_RUN = False\n",
    "# # Calculate the minimum percentage of validation batches\n",
    "# min_val_batches = 1 / len(data_module.val_dataloader())\n",
    "\n",
    "# # Create Trainer with Callbacks\n",
    "trainer = pl.Trainer(\n",
    "    default_root_dir=output_dir,\n",
    "    fast_dev_run=FAST_DEV_RUN, \n",
    "    max_epochs=MAX_EPOCH, \n",
    "    callbacks=callbacks,\n",
    "    # limit_train_batches=2,  # Limit the number of training batches to 2\n",
    "    # limit_val_batches=2     # Limit the number of validation batches to 2\n",
    ")\n",
    "\n",
    "# # # # Validate the model (if needed)\n",
    "trainer.validate(model=lightning_model, datamodule=data_module)\n",
    "# # print(f\"Training Begin...\")\n",
    "# # # Fit the model\n",
    "# trainer.fit(lightning_model, data_module)"
   ]
  },
  {
   "cell_type": "markdown",
   "metadata": {},
   "source": [
    "##### Tuning: lr"
   ]
  },
  {
   "cell_type": "code",
   "execution_count": 8,
   "metadata": {},
   "outputs": [
    {
     "name": "stderr",
     "output_type": "stream",
     "text": [
      "LOCAL_RANK: 0 - CUDA_VISIBLE_DEVICES: [0]\n"
     ]
    },
    {
     "name": "stdout",
     "output_type": "stream",
     "text": [
      "From RandomSampler...\n"
     ]
    },
    {
     "name": "stderr",
     "output_type": "stream",
     "text": [
      "Processing words: 100%|██████████| 1000/1000 [00:06<00:00, 155.64word/s]\n"
     ]
    },
    {
     "data": {
      "application/vnd.jupyter.widget-view+json": {
       "model_id": "ff6edee64a0d41dda8354f0607d0398f",
       "version_major": 2,
       "version_minor": 0
      },
      "text/plain": [
       "Finding best initial lr:   0%|          | 0/100 [00:00<?, ?it/s]"
      ]
     },
     "metadata": {},
     "output_type": "display_data"
    },
    {
     "name": "stderr",
     "output_type": "stream",
     "text": [
      "Processing words: 100%|██████████| 1000/1000 [00:07<00:00, 137.33word/s]\n",
      "LR finder stopped early after 92 steps due to diverging loss.\n",
      "Learning rate set to 0.19054607179632482\n",
      "Restoring states from the checkpoint path at /home/sayem/Desktop/Hangman/training_outputs/.lr_find_600fdbe5-003d-4992-89f4-4ba92675db63.ckpt\n",
      "Restored all states from the checkpoint at /home/sayem/Desktop/Hangman/training_outputs/.lr_find_600fdbe5-003d-4992-89f4-4ba92675db63.ckpt\n"
     ]
    },
    {
     "name": "stdout",
     "output_type": "stream",
     "text": [
      "Suggested Learning Rate: 0.19054607179632482\n",
      "{'lr': [1e-08, 1.4454397707459274e-08, 1.7378008287493753e-08, 2.0892961308540398e-08, 2.51188643150958e-08, 3.019951720402016e-08, 3.630780547701014e-08, 4.36515832240166e-08, 5.248074602497726e-08, 6.309573444801934e-08, 7.585775750291837e-08, 9.120108393559096e-08, 1.0964781961431852e-07, 1.3182567385564074e-07, 1.5848931924611133e-07, 1.9054607179632475e-07, 2.2908676527677735e-07, 2.7542287033381663e-07, 3.311311214825911e-07, 3.9810717055349735e-07, 4.786300923226383e-07, 5.75439937337157e-07, 6.918309709189366e-07, 8.317637711026709e-07, 1e-06, 1.2022644346174132e-06, 1.445439770745928e-06, 1.7378008287493761e-06, 2.089296130854039e-06, 2.5118864315095797e-06, 3.0199517204020163e-06, 3.630780547701014e-06, 4.365158322401661e-06, 5.248074602497728e-06, 6.3095734448019305e-06, 7.585775750291836e-06, 9.120108393559096e-06, 1.0964781961431852e-05, 1.3182567385564076e-05, 1.584893192461114e-05, 1.9054607179632464e-05, 2.2908676527677725e-05, 2.7542287033381663e-05, 3.311311214825911e-05, 3.9810717055349735e-05, 4.786300923226385e-05, 5.7543993733715664e-05, 6.918309709189363e-05, 8.317637711026709e-05, 0.0001, 0.00012022644346174131, 0.0001445439770745928, 0.00017378008287493763, 0.0002089296130854041, 0.0002511886431509582, 0.0003019951720402019, 0.000363078054770101, 0.0004365158322401656, 0.0005248074602497723, 0.000630957344480193, 0.0007585775750291836, 0.0009120108393559097, 0.0010964781961431851, 0.0013182567385564075, 0.001584893192461114, 0.0019054607179632484, 0.0022908676527677745, 0.002754228703338169, 0.003311311214825908, 0.003981071705534969, 0.00478630092322638, 0.005754399373371567, 0.006918309709189364, 0.008317637711026709, 0.01, 0.012022644346174132, 0.01445439770745928, 0.017378008287493765, 0.02089296130854041, 0.025118864315095822, 0.030199517204020192, 0.036307805477010104, 0.04365158322401657, 0.05248074602497723, 0.0630957344480193, 0.07585775750291836, 0.09120108393559097, 0.10964781961431852, 0.13182567385564073, 0.15848931924611143, 0.19054607179632482, 0.2290867652767775], 'loss': [385.6487235637622, 514.1892382440524, 578.4263963487786, 616.9593753840777, 642.6476451050398, 660.9871277947988, 674.7364618467875, 685.4237064468547, 693.9683056195812, 700.9567346113824, 706.7750183010862, 711.6960126906089, 715.9090301461332, 719.5531802070295, 722.7461530110711, 725.5591417418915, 728.0521473286059, 730.2790733381318, 732.2831481875133, 734.0949170957808, 735.7374549658351, 737.2359266039768, 738.6041674876641, 739.8585456300168, 741.0142051359768, 742.0834087234999, 743.0745181853227, 743.9925084558548, 744.8468979548161, 745.6402971156036, 746.3796267212753, 747.0731755182045, 747.7207940664601, 748.3243255905057, 748.8860528502138, 749.4099208559735, 749.8968491426253, 750.3507161906836, 750.7705121080805, 751.1585396574071, 751.5131991733692, 751.8370945048475, 752.1236519436054, 752.3763391350477, 752.5888560355594, 752.7607132508538, 752.8870878101216, 752.9620687004517, 752.9823624816346, 752.9391233943021, 752.8211259245606, 752.6221770160381, 752.3261268430826, 751.9187712755697, 751.3800872824444, 750.6898040376476, 749.8173823664715, 748.7338509951564, 747.4044465772495, 745.7841471917204, 743.8228055588235, 741.4627753143457, 738.6416206075356, 735.2819341112246, 731.2999373951857, 726.6092264447976, 721.1128506369726, 714.7188615109739, 707.3432329722422, 698.9226442875372, 689.4407579910268, 678.9616868813825, 667.6701241025678, 655.9650712223647, 644.5306595363481, 634.5334034087919, 627.0725097069197, 621.6350283344098, 617.4861467048328, 613.607025088338, 608.7787222786864, 601.5275492791006, 589.981434633587, 571.7221556694695, 542.5383036781665, 500.5444181406379, 438.2187571300494, 343.53563499590405, 196.2246444500984, -33.57354730460952, -402.125048903641, -921.497970006943]}\n"
     ]
    },
    {
     "data": {
      "image/png": "[encoded data removed]",
      "text/plain": [
       "<Figure size 640x480 with 1 Axes>"
      ]
     },
     "metadata": {},
     "output_type": "display_data"
    }
   ],
   "source": [
    "from pytorch_lightning.tuner.tuning import Tuner\n",
    "\n",
    "# Assuming lightning_model, train_loader, and val_loader are already defined\n",
    "# Initialize the tuner with your trainer\n",
    "tuner = Tuner(trainer)\n",
    "\n",
    "# Run the learning rate finder using the data module\n",
    "lr_finder = tuner.lr_find(model=lightning_model, datamodule=data_module)\n",
    "\n",
    "# Plot the learning rate finder results\n",
    "fig = lr_finder.plot(suggest=True)\n",
    "fig.show()\n",
    "\n",
    "# Get the suggested learning rate\n",
    "new_lr = lr_finder.suggestion()\n",
    "print(f\"Suggested Learning Rate: {new_lr}\")\n",
    "\n",
    "# Update model's learning rate\n",
    "lightning_model.learning_rate = new_lr\n",
    "\n",
    "# Optionally, you can view the results of the LR finder\n",
    "print(lr_finder.results)"
   ]
  },
  {
   "cell_type": "markdown",
   "metadata": {},
   "source": [
    "##### Tuning: Batch"
   ]
  },
  {
   "cell_type": "code",
   "execution_count": 9,
   "metadata": {},
   "outputs": [
    {
     "name": "stderr",
     "output_type": "stream",
     "text": [
      "LOCAL_RANK: 0 - CUDA_VISIBLE_DEVICES: [0]\n"
     ]
    },
    {
     "name": "stdout",
     "output_type": "stream",
     "text": [
      "From RandomSampler...\n"
     ]
    },
    {
     "name": "stderr",
     "output_type": "stream",
     "text": [
      "Processing words: 100%|██████████| 1000/1000 [00:04<00:00, 221.13word/s]\n",
      "`Trainer.fit` stopped: `max_steps=3` reached.\n",
      "Batch size 256 succeeded, trying batch size 512\n"
     ]
    },
    {
     "name": "stdout",
     "output_type": "stream",
     "text": [
      "From RandomSampler...\n"
     ]
    },
    {
     "name": "stderr",
     "output_type": "stream",
     "text": [
      "Processing words: 100%|██████████| 1000/1000 [00:08<00:00, 122.61word/s]\n",
      "`Trainer.fit` stopped: `max_steps=3` reached.\n",
      "Batch size 512 succeeded, trying batch size 1024\n"
     ]
    },
    {
     "name": "stdout",
     "output_type": "stream",
     "text": [
      "From RandomSampler...\n"
     ]
    },
    {
     "name": "stderr",
     "output_type": "stream",
     "text": [
      "Processing words: 100%|██████████| 1000/1000 [00:08<00:00, 124.86word/s]\n",
      "`Trainer.fit` stopped: `max_steps=3` reached.\n",
      "Batch size 1024 succeeded, trying batch size 2048\n"
     ]
    },
    {
     "name": "stdout",
     "output_type": "stream",
     "text": [
      "From RandomSampler...\n"
     ]
    },
    {
     "name": "stderr",
     "output_type": "stream",
     "text": [
      "Processing words: 100%|██████████| 1000/1000 [00:07<00:00, 131.69word/s]\n",
      "`Trainer.fit` stopped: `max_steps=3` reached.\n",
      "Batch size 2048 succeeded, trying batch size 4096\n"
     ]
    },
    {
     "name": "stdout",
     "output_type": "stream",
     "text": [
      "From RandomSampler...\n"
     ]
    },
    {
     "name": "stderr",
     "output_type": "stream",
     "text": [
      "Finished batch size finder, will continue with full run using batch size 4096\n"
     ]
    },
    {
     "name": "stdout",
     "output_type": "stream",
     "text": [
      "From RandomSampler...\n"
     ]
    },
    {
     "name": "stderr",
     "output_type": "stream",
     "text": [
      "Restoring states from the checkpoint path at /home/sayem/Desktop/Hangman/training_outputs/.scale_batch_size_57ac3ffa-ce92-4c64-a053-a162a36b12a1.ckpt\n",
      "Restored all states from the checkpoint at /home/sayem/Desktop/Hangman/training_outputs/.scale_batch_size_57ac3ffa-ce92-4c64-a053-a162a36b12a1.ckpt\n"
     ]
    },
    {
     "name": "stdout",
     "output_type": "stream",
     "text": [
      "Tune Batch size:  4096\n"
     ]
    }
   ],
   "source": [
    "# Assuming lightning_model is already defined\n",
    "new_batch_size = tuner.scale_batch_size(\n",
    "    model=lightning_model,\n",
    "    datamodule=data_module,\n",
    "    mode='power',  # or 'binsearch'\n",
    "    steps_per_trial=3,\n",
    "    init_val=256,\n",
    "    max_trials=4\n",
    ")\n",
    "\n",
    "# Update the batch size in the data module\n",
    "data_module.batch_size = new_batch_size\n",
    "\n",
    "print(f\"Tune Batch size: \", new_batch_size)"
   ]
  },
  {
   "cell_type": "markdown",
   "metadata": {},
   "source": [
    "##### Training"
   ]
  },
  {
   "cell_type": "code",
   "execution_count": 10,
   "metadata": {},
   "outputs": [
    {
     "name": "stderr",
     "output_type": "stream",
     "text": [
      "LOCAL_RANK: 0 - CUDA_VISIBLE_DEVICES: [0]\n",
      "\n",
      "  | Name  | Type       | Params\n",
      "-------------------------------------\n",
      "0 | model | SimpleLSTM | 2.4 M \n",
      "-------------------------------------\n",
      "2.4 M     Trainable params\n",
      "0         Non-trainable params\n",
      "2.4 M     Total params\n",
      "9.725     Total estimated model params size (MB)\n"
     ]
    },
    {
     "name": "stdout",
     "output_type": "stream",
     "text": [
      "Training Begin...\n"
     ]
    },
    {
     "data": {
      "application/vnd.jupyter.widget-view+json": {
       "model_id": "7349668bfb824d67b4789d3985c04476",
       "version_major": 2,
       "version_minor": 0
      },
      "text/plain": [
       "Sanity Checking: |          | 0/? [00:00<?, ?it/s]"
      ]
     },
     "metadata": {},
     "output_type": "display_data"
    },
    {
     "name": "stderr",
     "output_type": "stream",
     "text": [
      "Processing words: 100%|██████████| 1000/1000 [00:04<00:00, 224.85word/s]"
     ]
    },
    {
     "name": "stdout",
     "output_type": "stream",
     "text": [
      "From RandomSampler...\n"
     ]
    },
    {
     "name": "stderr",
     "output_type": "stream",
     "text": [
      "\n"
     ]
    },
    {
     "data": {
      "application/vnd.jupyter.widget-view+json": {
       "model_id": "e208b009e0c043098753c1dd17a5e9fb",
       "version_major": 2,
       "version_minor": 0
      },
      "text/plain": [
       "Training: |          | 0/? [00:00<?, ?it/s]"
      ]
     },
     "metadata": {},
     "output_type": "display_data"
    },
    {
     "data": {
      "application/vnd.jupyter.widget-view+json": {
       "model_id": "66fb8f660a524bcd8a41f5985e2f542a",
       "version_major": 2,
       "version_minor": 0
      },
      "text/plain": [
       "Validation: |          | 0/? [00:00<?, ?it/s]"
      ]
     },
     "metadata": {},
     "output_type": "display_data"
    },
    {
     "name": "stderr",
     "output_type": "stream",
     "text": [
      "\n",
      "\u001b[A\n",
      "\u001b[A\n",
      "\u001b[A\n",
      "\u001b[A\n",
      "\u001b[A\n",
      "\u001b[A\n",
      "\u001b[A\n",
      "\u001b[A\n",
      "\u001b[A\n",
      "\u001b[A\n",
      "\u001b[A\n",
      "\u001b[A\n",
      "\u001b[A\n",
      "\u001b[A\n",
      "\u001b[A\n",
      "\u001b[A\n",
      "\u001b[A\n",
      "\u001b[A\n",
      "\u001b[A\n",
      "\u001b[A\n",
      "\u001b[A\n",
      "\u001b[A\n",
      "\u001b[A\n",
      "\u001b[A\n",
      "\u001b[A\n",
      "\u001b[A\n",
      "\u001b[A\n",
      "\u001b[A\n",
      "\u001b[A\n",
      "\u001b[A\n",
      "\u001b[A\n",
      "\u001b[A\n",
      "\u001b[A\n",
      "\u001b[A\n",
      "\u001b[A\n",
      "\u001b[A\n",
      "\u001b[A\n",
      "\u001b[A\n",
      "\u001b[A\n",
      "\u001b[A\n",
      "\u001b[A\n",
      "\u001b[A\n",
      "\u001b[A\n",
      "\u001b[A\n",
      "\u001b[A\n",
      "\u001b[A\n",
      "\u001b[A\n",
      "\u001b[A\n",
      "\u001b[A\n",
      "\u001b[A\n",
      "\u001b[A\n",
      "Processing words: 100%|██████████| 1000/1000 [00:05<00:00, 184.38word/s]\n",
      "Metric test_win_rate improved. New best score: 11.100\n"
     ]
    },
    {
     "data": {
      "application/vnd.jupyter.widget-view+json": {
       "model_id": "1bc07dd41a9f4ad08908aa6c5a790a3a",
       "version_major": 2,
       "version_minor": 0
      },
      "text/plain": [
       "Validation: |          | 0/? [00:00<?, ?it/s]"
      ]
     },
     "metadata": {},
     "output_type": "display_data"
    },
    {
     "name": "stderr",
     "output_type": "stream",
     "text": [
      "\n",
      "\u001b[A\n",
      "\u001b[A\n",
      "\u001b[A\n",
      "\u001b[A\n",
      "\u001b[A\n",
      "\u001b[A\n",
      "\u001b[A\n",
      "\u001b[A\n",
      "\u001b[A\n",
      "\u001b[A\n",
      "\u001b[A\n",
      "\u001b[A\n",
      "\u001b[A\n",
      "\u001b[A\n",
      "\u001b[A\n",
      "\u001b[A\n",
      "\u001b[A\n",
      "\u001b[A\n",
      "\u001b[A\n",
      "\u001b[A\n",
      "\u001b[A\n",
      "\u001b[A\n",
      "\u001b[A\n",
      "\u001b[A\n",
      "\u001b[A\n",
      "\u001b[A\n",
      "\u001b[A\n",
      "\u001b[A\n",
      "\u001b[A\n",
      "\u001b[A\n",
      "\u001b[A\n",
      "\u001b[A\n",
      "\u001b[A\n",
      "\u001b[A\n",
      "\u001b[A\n",
      "\u001b[A\n",
      "\u001b[A\n",
      "\u001b[A\n",
      "\u001b[A\n",
      "\u001b[A\n",
      "\u001b[A\n",
      "\u001b[A\n",
      "\u001b[A\n",
      "\u001b[A\n",
      "\u001b[A\n",
      "\u001b[A\n",
      "\u001b[A\n",
      "\u001b[A\n",
      "\u001b[A\n",
      "\u001b[A\n",
      "\u001b[A\n",
      "Processing words: 100%|██████████| 1000/1000 [00:05<00:00, 184.39word/s]\n"
     ]
    }
   ],
   "source": [
    "print(f\"Training Begin...\")\n",
    "\n",
    "# Fit the model\n",
    "trainer.fit(lightning_model, data_module)\n",
    "\n",
    "# Optionally print the profiler summary\n",
    "# print(profiler.summary())\n",
    "\n",
    "# Save the model's state dictionary \n",
    "trained_model_file = models_dir / f\"{NUM_STRATIFIED_SAMPLES}_trained_model.pth\"\n",
    "torch.save(lightning_model.state_dict(), trained_model_file)\n",
    "print(f\"Model saved at {trained_model_file}\")"
   ]
  },
  {
   "cell_type": "markdown",
   "metadata": {},
   "source": [
    "##### Testing"
   ]
  },
  {
   "cell_type": "code",
   "execution_count": null,
   "metadata": {},
   "outputs": [],
   "source": [
    "# Load the entire LSTM model object\n",
    "trained_model_file_path = models_dir / f\"{NUM_STRATIFIED_SAMPLES}_trained_model.pth\"\n",
    "trained_model = torch.load(trained_model_file_path)\n",
    "\n",
    "# # If you want to use the model for inference\n",
    "# trained_model.eval()  # Set the model to evaluation mode\n",
    "\n",
    "from scr.game import *\n",
    "\n",
    "word = 'may'\n",
    "\n",
    "play_game_with_a_word(trained_model, \\\n",
    "    word, char_frequency, max_word_length)"
   ]
  },
  {
   "cell_type": "code",
   "execution_count": null,
   "metadata": {},
   "outputs": [],
   "source": [
    "NUM_STRATIFIED_SAMPLES"
   ]
  },
  {
   "cell_type": "code",
   "execution_count": null,
   "metadata": {},
   "outputs": [],
   "source": [
    "# Example usage\n",
    "result = play_games_and_calculate_stats(trained_model, \\\n",
    "    sampled_test_words, char_frequency, max_word_length)\n",
    "\n",
    "print(f\"Overall Win Rate: {result['overall_win_rate']}%, Overall Average Attempts: {result['overall_avg_attempts']}\")\n",
    "\n",
    "for length, data in result[\"length_wise_stats\"].items():\n",
    "    print(f\"Length {length}: Win Rate: {data['win_rate']}%, Average Attempts: {data['average_attempts_used']}\")"
   ]
  }
 ],
 "metadata": {
  "kernelspec": {
   "display_name": "optiver",
   "language": "python",
   "name": "python3"
  },
  "language_info": {
   "codemirror_mode": {
    "name": "ipython",
    "version": 3
   },
   "file_extension": ".py",
   "mimetype": "text/x-python",
   "name": "python",
   "nbconvert_exporter": "python",
   "pygments_lexer": "ipython3",
   "version": "3.10.13"
  }
 },
 "nbformat": 4,
 "nbformat_minor": 2
}
