{
 "cells": [
  {
   "cell_type": "markdown",
   "id": "a62bd7e6",
   "metadata": {
    "papermill": {
     "duration": 0.002135,
     "end_time": "2023-11-24T22:23:42.367043",
     "exception": false,
     "start_time": "2023-11-24T22:23:42.364908",
     "status": "completed"
    },
    "tags": []
   },
   "source": [
    "##### Imports"
   ]
  },
  {
   "cell_type": "code",
   "execution_count": 1,
   "id": "323a72c9",
   "metadata": {
    "execution": {
     "iopub.execute_input": "2023-11-24T22:23:42.378753Z",
     "iopub.status.busy": "2023-11-24T22:23:42.378580Z",
     "iopub.status.idle": "2023-11-24T22:23:43.346735Z",
     "shell.execute_reply": "2023-11-24T22:23:43.346282Z"
    },
    "papermill": {
     "duration": 0.971674,
     "end_time": "2023-11-24T22:23:43.347691",
     "exception": false,
     "start_time": "2023-11-24T22:23:42.376017",
     "status": "completed"
    },
    "tags": []
   },
   "outputs": [],
   "source": [
    "import sys\n",
    "from pathlib import Path\n",
    "import warnings\n",
    "from torch.utils.data import Dataset\n",
    "\n",
    "import warnings\n",
    "import pandas as pd\n",
    "warnings.filterwarnings('ignore')\n",
    "\n",
    "pd.set_option('display.max_columns', 1000)\n",
    "pd.set_option('display.max_rows', 1000)\n",
    "\n",
    "import pickle\n",
    "from pathlib import Path\n",
    "from scr.dataset import *\n",
    "# from scr.game import *\n",
    "from scr.feature_engineering import *\n",
    "# from scr.plot_utils import *\n",
    "import gc\n",
    "from scr.utils import print_scenarios\n",
    "\n",
    "\n",
    "from pathlib import Path\n",
    "import random\n",
    "from collections import Counter, defaultdict\n",
    "import pickle\n",
    "from tqdm import tqdm\n",
    "from torch.utils.data import Dataset\n",
    "\n",
    "from scr.utils import read_words, save_words_to_file\n",
    "\n",
    "import sys\n",
    "# Custom library paths\n",
    "sys.path.extend(['../', './scr'])\n",
    "\n",
    "from scr.utils import set_seed\n",
    "from scr.utils import read_words\n",
    "\n",
    "set_seed(42)\n",
    "\n",
    "import torch\n",
    "import torch.nn as nn\n",
    "from pathlib import Path\n",
    "import random\n",
    "\n",
    "torch.set_float32_matmul_precision('medium')\n",
    "\n",
    "# Device configuration\n",
    "device = torch.device(\"cuda\" if torch.cuda.is_available() else \"cpu\")\n",
    "\n",
    "# # Read and Shuffle Word List\n",
    "word_list = read_words('data/words_250000_train.txt') # , limit=10000)\n",
    "# word_list = read_words('data/250k.txt', limit=10000)\n",
    "\n",
    "random.shuffle(word_list)"
   ]
  },
  {
   "cell_type": "code",
   "execution_count": 2,
   "id": "1ef82d19",
   "metadata": {},
   "outputs": [],
   "source": [
    "# import h5py\n",
    "# import json\n",
    "\n",
    "# # Sample Hangman game data\n",
    "# games_data = [\n",
    "#     {\n",
    "#         'guessed_states': ['___b____e', 'a_aba___e', 'anaba__ne', 'anaba_ine'],\n",
    "#         'guessed_letters': ['a', 'n', 'i', 's'],\n",
    "#         'word': 'anabasine',\n",
    "#         'initial_state': '___b_____',\n",
    "#         'attributes': {'game_state': 'early', 'difficulty': 'easy', 'outcome': 'win', \n",
    "#                           'word_length': 9}\n",
    "#     },\n",
    "#     {\n",
    "#         'guessed_states': ['__c______', '_a_a_____'],\n",
    "#         'guessed_letters': ['c', 'a'],\n",
    "#         'word': 'cacophony',\n",
    "#         'initial_state': '__c______',\n",
    "#         'attributes': {'game_state': 'mid', 'difficulty': 'hard', 'outcome': 'lose', \n",
    "#                             'word_length': 9}\n",
    "#     }\n",
    "    \n",
    "#     # ... more games\n",
    "# ]\n",
    "\n",
    "# # Creating the HDF5 file\n",
    "# with h5py.File('HangmanData.h5', 'w') as f:\n",
    "#     for i, game in enumerate(games_data):\n",
    "#         # Create a group for each game\n",
    "#         game_group = f.create_group(f'game_{i+1}')\n",
    "\n",
    "#         # Serialize and store each part of the game data\n",
    "#         for key, value in game.items():\n",
    "#             if isinstance(value, dict):\n",
    "#                 # If the value is a dictionary, serialize it to JSON\n",
    "#                 value = json.dumps(value)\n",
    "#             game_group.create_dataset(key, data=value)"
   ]
  },
  {
   "cell_type": "markdown",
   "id": "05e2750e",
   "metadata": {},
   "source": [
    "##### Data reading and Params Settings"
   ]
  },
  {
   "cell_type": "code",
   "execution_count": 3,
   "id": "a52a0793",
   "metadata": {
    "tags": [
     "parameters"
    ]
   },
   "outputs": [
    {
     "name": "stdout",
     "output_type": "stream",
     "text": [
      "/media/sayem/510B93E12554BBD1/dataset/50000\n"
     ]
    }
   ],
   "source": [
    "#### Papermil if need\n",
    " \n",
    "NUM_STRATIFIED_SAMPLES = 50_000 # This will be overwritten by Papermill\n",
    "\n",
    "# Define the base directory\n",
    "base_dataset_dir = Path(\"/media/sayem/510B93E12554BBD1/dataset/\")\n",
    "\n",
    "# Create a subdirectory for the stratified samples\n",
    "stratified_samples_dir = base_dataset_dir / str(NUM_STRATIFIED_SAMPLES)\n",
    "stratified_samples_dir.mkdir(parents=True, exist_ok=True)\n",
    "\n",
    "print(stratified_samples_dir)"
   ]
  },
  {
   "cell_type": "code",
   "execution_count": 4,
   "id": "d927a799",
   "metadata": {
    "execution": {
     "iopub.execute_input": "2023-11-24T22:23:43.391740Z",
     "iopub.status.busy": "2023-11-24T22:23:43.391624Z",
     "iopub.status.idle": "2023-11-24T22:23:43.560403Z",
     "shell.execute_reply": "2023-11-24T22:23:43.559962Z"
    },
    "papermill": {
     "duration": 0.173511,
     "end_time": "2023-11-24T22:23:43.561690",
     "exception": false,
     "start_time": "2023-11-24T22:23:43.388179",
     "status": "completed"
    },
    "tags": []
   },
   "outputs": [],
   "source": [
    "# Splitting Dataset Function\n",
    "import random\n",
    "\n",
    "def split_dataset(word_list, train_ratio=0.8):\n",
    "    total_words = len(word_list)\n",
    "    train_size = int(total_words * train_ratio)\n",
    "    random.shuffle(word_list)\n",
    "    return word_list[:train_size], word_list[train_size:]\n",
    "\n",
    "# Splitting the word list\n",
    "train_words, test_words = split_dataset(word_list)\n",
    "\n",
    "# Save split datasets to files\n",
    "save_words_to_file(train_words, stratified_samples_dir / 'train_words.txt')\n",
    "save_words_to_file(test_words, stratified_samples_dir / 'test_words.txt')\n",
    "\n",
    "# Calculate Frequencies and Max Word Length\n",
    "word_frequencies = calculate_word_frequencies(train_words)\n",
    "char_frequency = calculate_char_frequencies(train_words)\n",
    "max_word_length = max(len(word) for word in train_words)"
   ]
  },
  {
   "cell_type": "code",
   "execution_count": 5,
   "id": "a8cc199b",
   "metadata": {
    "execution": {
     "iopub.execute_input": "2023-11-24T22:23:43.568919Z",
     "iopub.status.busy": "2023-11-24T22:23:43.568821Z",
     "iopub.status.idle": "2023-11-24T22:23:43.571482Z",
     "shell.execute_reply": "2023-11-24T22:23:43.571208Z"
    },
    "papermill": {
     "duration": 0.007294,
     "end_time": "2023-11-24T22:23:43.572518",
     "exception": false,
     "start_time": "2023-11-24T22:23:43.565224",
     "status": "completed"
    },
    "tags": []
   },
   "outputs": [
    {
     "data": {
      "text/plain": [
       "181840"
      ]
     },
     "execution_count": 5,
     "metadata": {},
     "output_type": "execute_result"
    }
   ],
   "source": [
    "len(train_words)"
   ]
  },
  {
   "cell_type": "markdown",
   "id": "469a87ce",
   "metadata": {},
   "source": [
    "##### Stratified Sample Generation"
   ]
  },
  {
   "cell_type": "code",
   "execution_count": 6,
   "id": "41e486f6",
   "metadata": {
    "execution": {
     "iopub.execute_input": "2023-11-24T22:23:43.579494Z",
     "iopub.status.busy": "2023-11-24T22:23:43.579377Z",
     "iopub.status.idle": "2023-11-24T22:23:43.640436Z",
     "shell.execute_reply": "2023-11-24T22:23:43.640019Z"
    },
    "papermill": {
     "duration": 0.065848,
     "end_time": "2023-11-24T22:23:43.641509",
     "exception": false,
     "start_time": "2023-11-24T22:23:43.575661",
     "status": "completed"
    },
    "tags": []
   },
   "outputs": [
    {
     "name": "stdout",
     "output_type": "stream",
     "text": [
      "Number of Statrified samples: 50000\n",
      "50021\n"
     ]
    }
   ],
   "source": [
    "## we are taking starified samples from train_words\n",
    "\n",
    "from scr.custom_sampler import \\\n",
    "    stratified_sample_by_length_and_frequency, \\\n",
    "        stratified_sample_by_length, stratified_sample_by_length_and_uniqueness\n",
    "\n",
    "print(f'Number of Statrified samples: {NUM_STRATIFIED_SAMPLES}')\n",
    "\n",
    "# sampled_words_by_length_and_frequency \\\n",
    "#     = stratified_sample_by_length_and_frequency(train_words, \\\n",
    "#     word_frequencies, \\\n",
    "#     NUM_STRATIFIED_SAMPLES)\n",
    "\n",
    "sampled_words_by_length = stratified_sample_by_length_and_uniqueness(word_list, \\\n",
    "    NUM_STRATIFIED_SAMPLES)\n",
    "\n",
    "\n",
    "print(len(sampled_words_by_length))"
   ]
  },
  {
   "cell_type": "markdown",
   "id": "cd0d326f",
   "metadata": {
    "papermill": {
     "duration": 0.004373,
     "end_time": "2023-11-24T22:23:44.300659",
     "exception": false,
     "start_time": "2023-11-24T22:23:44.296286",
     "status": "completed"
    },
    "tags": []
   },
   "source": [
    "##### Intial State Simulation Testing"
   ]
  },
  {
   "cell_type": "code",
   "execution_count": 7,
   "id": "ae53fccc",
   "metadata": {},
   "outputs": [],
   "source": [
    "from scr.game import *"
   ]
  },
  {
   "cell_type": "code",
   "execution_count": 8,
   "id": "1415477e",
   "metadata": {},
   "outputs": [
    {
     "data": {
      "text/plain": [
       "{'allMasked': '____________',\n",
       " 'early': '__t_____t___',\n",
       " 'quarterRevealed': '__t_____ti__',\n",
       " 'midRevealed': '__th____tiz_',\n",
       " 'midLateRevealed': 'myth____tiz_',\n",
       " 'lateRevealed': 'mytho_oetize',\n",
       " 'nearEnd': 'mytho_oetize'}"
      ]
     },
     "execution_count": 8,
     "metadata": {},
     "output_type": "execute_result"
    }
   ],
   "source": [
    "# word = \"mississippi\"\n",
    "word = \"mythopoetize\"\n",
    "# word = \"cat\"\n",
    "\n",
    "initial_states = process_word_for_six_states(word)\n",
    "\n",
    "initial_states"
   ]
  },
  {
   "cell_type": "code",
   "execution_count": 9,
   "id": "4c3da54c",
   "metadata": {
    "execution": {
     "iopub.execute_input": "2023-11-24T22:23:44.317155Z",
     "iopub.status.busy": "2023-11-24T22:23:44.317069Z",
     "iopub.status.idle": "2023-11-24T22:23:44.319452Z",
     "shell.execute_reply": "2023-11-24T22:23:44.319138Z"
    },
    "papermill": {
     "duration": 0.005907,
     "end_time": "2023-11-24T22:23:44.320079",
     "exception": false,
     "start_time": "2023-11-24T22:23:44.314172",
     "status": "completed"
    },
    "tags": []
   },
   "outputs": [
    {
     "data": {
      "text/plain": [
       "7"
      ]
     },
     "execution_count": 9,
     "metadata": {},
     "output_type": "execute_result"
    }
   ],
   "source": [
    "len(initial_states)"
   ]
  },
  {
   "cell_type": "code",
   "execution_count": 10,
   "id": "d5cffa5f",
   "metadata": {
    "execution": {
     "iopub.execute_input": "2023-11-24T22:23:44.326727Z",
     "iopub.status.busy": "2023-11-24T22:23:44.326580Z",
     "iopub.status.idle": "2023-11-24T22:23:44.329649Z",
     "shell.execute_reply": "2023-11-24T22:23:44.329220Z"
    },
    "papermill": {
     "duration": 0.007091,
     "end_time": "2023-11-24T22:23:44.330204",
     "exception": false,
     "start_time": "2023-11-24T22:23:44.323113",
     "status": "completed"
    },
    "tags": []
   },
   "outputs": [
    {
     "data": {
      "text/plain": [
       "{'allMasked': '____________',\n",
       " 'early': '__t_____t___',\n",
       " 'quarterRevealed': '__t_____ti__',\n",
       " 'midRevealed': '__th____tiz_',\n",
       " 'midLateRevealed': 'myth____tiz_',\n",
       " 'lateRevealed': 'mytho_oetize',\n",
       " 'nearEnd': 'mytho_oetize'}"
      ]
     },
     "execution_count": 10,
     "metadata": {},
     "output_type": "execute_result"
    }
   ],
   "source": [
    "initial_states"
   ]
  },
  {
   "cell_type": "markdown",
   "id": "01da2152",
   "metadata": {
    "papermill": {
     "duration": 0.002642,
     "end_time": "2023-11-24T22:23:44.335321",
     "exception": false,
     "start_time": "2023-11-24T22:23:44.332679",
     "status": "completed"
    },
    "tags": []
   },
   "source": [
    "##### Dataset Generation: Simulation"
   ]
  },
  {
   "cell_type": "code",
   "execution_count": 11,
   "id": "b3dfd089",
   "metadata": {},
   "outputs": [
    {
     "name": "stdout",
     "output_type": "stream",
     "text": [
      "Generated Initial States:  {'allMasked': '___________', 'early': 'm__________', 'quarterRevealed': 'm__________', 'midRevealed': 'm_ss_ss____', 'midLateRevealed': 'mississi__i', 'lateRevealed': 'mississi__i', 'nearEnd': 'mississi__i'}\n"
     ]
    }
   ],
   "source": [
    "word = \"mississippi\"\n",
    "\n",
    "initial_states = process_word_for_six_states(word)\n",
    "\n",
    "# print(initial_states)\n",
    "# Print generated initial states\n",
    "print(\"Generated Initial States: \", initial_states)"
   ]
  },
  {
   "cell_type": "code",
   "execution_count": 12,
   "id": "f65e7334",
   "metadata": {},
   "outputs": [
    {
     "name": "stdout",
     "output_type": "stream",
     "text": [
      "Generated Initial States:\n",
      "___________\n",
      "For initial state: ___________\n",
      "Guessed: 't', New State: '___________', Correct: False\n",
      "Guessed: 'r', New State: '___________', Correct: False\n",
      "Guessed: 'p', New State: '________pp_', Correct: True\n",
      "Guessed: 'm', New State: 'm_______pp_', Correct: True\n",
      "Guessed: 'z', New State: 'm_______pp_', Correct: False\n",
      "Guessed: 'i', New State: 'mi__i__ippi', Correct: True\n",
      "Guessed: 's', New State: 'mississippi', Correct: True\n",
      "__ss_ss____\n",
      "For initial state: __ss_ss____\n",
      "Guessed: 'm', New State: 'm_ss_ss____', Correct: True\n",
      "Guessed: 'p', New State: 'm_ss_ss_pp_', Correct: True\n",
      "Guessed: 'i', New State: 'mississippi', Correct: True\n",
      "__ss_ss____\n",
      "For initial state: __ss_ss____\n",
      "Guessed: 'm', New State: 'm_ss_ss____', Correct: True\n",
      "Guessed: 'j', New State: 'm_ss_ss____', Correct: False\n",
      "Guessed: 'f', New State: 'm_ss_ss____', Correct: False\n",
      "Guessed: 'y', New State: 'm_ss_ss____', Correct: False\n",
      "Guessed: 'p', New State: 'm_ss_ss_pp_', Correct: True\n",
      "Guessed: 'i', New State: 'mississippi', Correct: True\n",
      "__ss_ss_pp_\n",
      "For initial state: __ss_ss_pp_\n",
      "Guessed: 'h', New State: '__ss_ss_pp_', Correct: False\n",
      "Guessed: 'g', New State: '__ss_ss_pp_', Correct: False\n",
      "Guessed: 'a', New State: '__ss_ss_pp_', Correct: False\n",
      "Guessed: 'w', New State: '__ss_ss_pp_', Correct: False\n",
      "Guessed: 'y', New State: '__ss_ss_pp_', Correct: False\n",
      "Guessed: 'm', New State: 'm_ss_ss_pp_', Correct: True\n",
      "Guessed: 'd', New State: 'm_ss_ss_pp_', Correct: False\n",
      "_ississippi\n",
      "For initial state: _ississippi\n",
      "Guessed: 'm', New State: 'mississippi', Correct: True\n",
      "_ississippi\n",
      "For initial state: _ississippi\n",
      "Guessed: 'm', New State: 'mississippi', Correct: True\n",
      "_ississippi\n",
      "For initial state: _ississippi\n",
      "Guessed: 'm', New State: 'mississippi', Correct: True\n"
     ]
    }
   ],
   "source": [
    "from scr.game import simulate_game_progress, \\\n",
    "    play_game_with_a_word, process_word\n",
    "\n",
    "# Example word and initial state\n",
    "# Example usage\n",
    "word = \"mississippi\"\n",
    "# word = \"cat\"\n",
    "\n",
    "initial_states = process_word_for_six_states(word)\n",
    "\n",
    "# print(initial_states)\n",
    "# Print generated initial states\n",
    "print(\"Generated Initial States:\")\n",
    "for state_name, initial_state in initial_states.items():\n",
    "    # Simulate the game\n",
    "    print(initial_state)\n",
    "    print(f\"For initial state: {initial_state}\")\n",
    "    won, game_progress = simulate_game_progress(\n",
    "        model=None,  # Assuming model is not used in this example\n",
    "        word=word, \n",
    "        initial_state=initial_state, \n",
    "        char_frequency={},  # Assuming char_frequency is not used in this example\n",
    "        max_word_length=len(word), \n",
    "        device=None,  # Assuming device is not used in this example\n",
    "        max_attempts=6, \n",
    "        normalize=True,\n",
    "        difficulty=\"medium\", \n",
    "        outcome_preference='win'\n",
    "    )\n",
    "\n",
    "    # Display game progress\n",
    "    for step in game_progress:\n",
    "        print(f\"Guessed: '{step[0]}', New State: '{step[1]}', Correct: {step[2]}\")\n",
    "\n",
    "        # break\n",
    "\n",
    "    # break\n",
    "\n",
    "    # print(\"Game Result:\", \"Won\" if won else \"Lost\")"
   ]
  },
  {
   "cell_type": "markdown",
   "id": "8955b2cc",
   "metadata": {},
   "source": [
    "##### Writing Parquet"
   ]
  },
  {
   "cell_type": "code",
   "execution_count": 13,
   "id": "e1db0003",
   "metadata": {},
   "outputs": [
    {
     "name": "stdout",
     "output_type": "stream",
     "text": [
      "Total number of words:  50021\n"
     ]
    },
    {
     "name": "stderr",
     "output_type": "stream",
     "text": [
      "Processing Batches:   0%|          | 0/51 [00:00<?, ?it/s]"
     ]
    },
    {
     "name": "stderr",
     "output_type": "stream",
     "text": [
      "Processing Batches: 100%|██████████| 51/51 [00:51<00:00,  1.01s/it]"
     ]
    },
    {
     "name": "stdout",
     "output_type": "stream",
     "text": [
      "Total games processed: 2100726\n"
     ]
    },
    {
     "name": "stderr",
     "output_type": "stream",
     "text": [
      "\n"
     ]
    }
   ],
   "source": [
    "import pandas as pd\n",
    "import pyarrow as pa\n",
    "import pyarrow.parquet as pq\n",
    "from tqdm import tqdm\n",
    "\n",
    "# Assuming functions 'simulate_game_progress' and 'process_word_for_six_states' are defined elsewhere\n",
    "\n",
    "def process_batch_to_parquet(batch, file_path, start_game_counter):\n",
    "    game_counter = start_game_counter\n",
    "    data_for_parquet = []\n",
    "\n",
    "    for game_data in batch:\n",
    "        word, state_name, initial_state, difficulty, outcome, won, game_progress = game_data\n",
    "        if not game_progress:\n",
    "            continue\n",
    "\n",
    "        final_state = game_progress[-1][1]  # Get the final state from game_progress\n",
    "\n",
    "        guessed_states = [initial_state] + [state for _, state, _ in game_progress]\n",
    "        guessed_letters = [letter for letter, _, _ in game_progress]\n",
    "\n",
    "        data_for_parquet.append({\n",
    "            'game_id': game_counter,\n",
    "            'word': word,\n",
    "            'initial_state': initial_state,\n",
    "            'final_state': final_state,\n",
    "            'guessed_states': ','.join(guessed_states[:-1]),\n",
    "            'guessed_letters': ','.join(guessed_letters),\n",
    "            'game_state': state_name,\n",
    "            'difficulty': difficulty,\n",
    "            'outcome': outcome,\n",
    "            'word_length': len(word),\n",
    "            'won': won\n",
    "        })\n",
    "\n",
    "        game_counter += 1\n",
    "\n",
    "    df = pd.DataFrame(data_for_parquet)\n",
    "    table = pa.Table.from_pandas(df)\n",
    "    pq.write_to_dataset(table, root_path=file_path, compression='snappy') #, existing_data_behavior='append')\n",
    "\n",
    "    return game_counter\n",
    "\n",
    "def generate_batch(start_index, end_index, sampled_words, game_states_func):\n",
    "    batch = []\n",
    "    for i in range(start_index, end_index):\n",
    "        word = sampled_words[i]\n",
    "        game_states = game_states_func(word)\n",
    "        for state_name, initial_state in game_states.items():\n",
    "            for difficulty in [\"easy\", \"medium\", \"hard\"]:\n",
    "                for outcome in [\"win\", \"lose\"]:\n",
    "                    won, game_progress = simulate_game_progress(\n",
    "                        model=None, word=word, initial_state=initial_state,\n",
    "                        char_frequency=char_frequency, max_word_length=max_word_length,\n",
    "                        device=device, max_attempts=6, normalize=True,\n",
    "                        difficulty=difficulty, outcome_preference=outcome\n",
    "                    )\n",
    "                    batch.append((word, state_name, initial_state, difficulty, outcome, won, game_progress))\n",
    "    return batch\n",
    "\n",
    "def main_execution(sampled_words, game_states_func, batch_size, parquet_file_path):\n",
    "    game_counter = 1\n",
    "    total_words = len(sampled_words)\n",
    "\n",
    "    print(f\"Total number of words: \", total_words)\n",
    "\n",
    "    for start_index in tqdm(range(0, total_words, batch_size), desc=\"Processing Batches\"):\n",
    "        end_index = min(start_index + batch_size, total_words)\n",
    "        batch = generate_batch(start_index, end_index, sampled_words, game_states_func)\n",
    "        game_counter = process_batch_to_parquet(batch, parquet_file_path, game_counter)\n",
    "\n",
    "    print(f\"Total games processed: {game_counter - 1}\")\n",
    "\n",
    "# Execute the main function\n",
    "# Main execution\n",
    "batch_size = 1000  # Adjust based on your requirements\n",
    "\n",
    "parquet_file_path = Path(stratified_samples_dir) / \"parquets\"\n",
    "parquet_file_path.mkdir(exist_ok=True, parents=True)\n",
    "\n",
    "main_execution(sampled_words_by_length, process_word_for_six_states, batch_size, parquet_file_path)"
   ]
  },
  {
   "cell_type": "code",
   "execution_count": 14,
   "id": "ebf345d0",
   "metadata": {},
   "outputs": [
    {
     "data": {
      "text/plain": [
       "PosixPath('/media/sayem/510B93E12554BBD1/dataset/50000/parquets')"
      ]
     },
     "execution_count": 14,
     "metadata": {},
     "output_type": "execute_result"
    }
   ],
   "source": [
    "parquet_file_path"
   ]
  },
  {
   "cell_type": "code",
   "execution_count": 15,
   "id": "6d1359cf",
   "metadata": {},
   "outputs": [
    {
     "data": {
      "text/html": [
       "<div>\n",
       "<style scoped>\n",
       "    .dataframe tbody tr th:only-of-type {\n",
       "        vertical-align: middle;\n",
       "    }\n",
       "\n",
       "    .dataframe tbody tr th {\n",
       "        vertical-align: top;\n",
       "    }\n",
       "\n",
       "    .dataframe thead th {\n",
       "        text-align: right;\n",
       "    }\n",
       "</style>\n",
       "<table border=\"1\" class=\"dataframe\">\n",
       "  <thead>\n",
       "    <tr style=\"text-align: right;\">\n",
       "      <th></th>\n",
       "      <th>game_id</th>\n",
       "      <th>word</th>\n",
       "      <th>initial_state</th>\n",
       "      <th>final_state</th>\n",
       "      <th>guessed_states</th>\n",
       "      <th>guessed_letters</th>\n",
       "      <th>game_state</th>\n",
       "      <th>difficulty</th>\n",
       "      <th>outcome</th>\n",
       "      <th>word_length</th>\n",
       "      <th>won</th>\n",
       "    </tr>\n",
       "  </thead>\n",
       "  <tbody>\n",
       "    <tr>\n",
       "      <th>0</th>\n",
       "      <td>672001</td>\n",
       "      <td>corabecan</td>\n",
       "      <td>_________</td>\n",
       "      <td>corabecan</td>\n",
       "      <td>_________,_________,c_____c__,c_____c__,c_r___...</td>\n",
       "      <td>v,c,j,r,o,e,n,a,b</td>\n",
       "      <td>allMasked</td>\n",
       "      <td>easy</td>\n",
       "      <td>win</td>\n",
       "      <td>9</td>\n",
       "      <td>True</td>\n",
       "    </tr>\n",
       "    <tr>\n",
       "      <th>1</th>\n",
       "      <td>672002</td>\n",
       "      <td>corabecan</td>\n",
       "      <td>_________</td>\n",
       "      <td>corabecan</td>\n",
       "      <td>_________,_________,c_____c__,c_____c__,co____...</td>\n",
       "      <td>h,c,w,o,b,n,e,a,r</td>\n",
       "      <td>allMasked</td>\n",
       "      <td>easy</td>\n",
       "      <td>lose</td>\n",
       "      <td>9</td>\n",
       "      <td>True</td>\n",
       "    </tr>\n",
       "    <tr>\n",
       "      <th>2</th>\n",
       "      <td>672003</td>\n",
       "      <td>corabecan</td>\n",
       "      <td>_________</td>\n",
       "      <td>_orabe_an</td>\n",
       "      <td>_________,_________,_____e___,_____e___,_____e...</td>\n",
       "      <td>s,e,p,k,r,n,t,o,q,b,a,d</td>\n",
       "      <td>allMasked</td>\n",
       "      <td>medium</td>\n",
       "      <td>win</td>\n",
       "      <td>9</td>\n",
       "      <td>False</td>\n",
       "    </tr>\n",
       "    <tr>\n",
       "      <th>3</th>\n",
       "      <td>672004</td>\n",
       "      <td>corabecan</td>\n",
       "      <td>_________</td>\n",
       "      <td>corabecan</td>\n",
       "      <td>_________,____b____,____b____,____b____,____b_...</td>\n",
       "      <td>b,z,q,n,c,r,k,o,e,w,a</td>\n",
       "      <td>allMasked</td>\n",
       "      <td>medium</td>\n",
       "      <td>lose</td>\n",
       "      <td>9</td>\n",
       "      <td>True</td>\n",
       "    </tr>\n",
       "    <tr>\n",
       "      <th>4</th>\n",
       "      <td>672005</td>\n",
       "      <td>corabecan</td>\n",
       "      <td>_________</td>\n",
       "      <td>___a_e_a_</td>\n",
       "      <td>_________,_________,_____e___,_____e___,_____e...</td>\n",
       "      <td>s,e,d,l,x,h,a,i</td>\n",
       "      <td>allMasked</td>\n",
       "      <td>hard</td>\n",
       "      <td>win</td>\n",
       "      <td>9</td>\n",
       "      <td>False</td>\n",
       "    </tr>\n",
       "  </tbody>\n",
       "</table>\n",
       "</div>"
      ],
      "text/plain": [
       "   game_id       word initial_state final_state  \\\n",
       "0   672001  corabecan     _________   corabecan   \n",
       "1   672002  corabecan     _________   corabecan   \n",
       "2   672003  corabecan     _________   _orabe_an   \n",
       "3   672004  corabecan     _________   corabecan   \n",
       "4   672005  corabecan     _________   ___a_e_a_   \n",
       "\n",
       "                                      guessed_states          guessed_letters  \\\n",
       "0  _________,_________,c_____c__,c_____c__,c_r___...        v,c,j,r,o,e,n,a,b   \n",
       "1  _________,_________,c_____c__,c_____c__,co____...        h,c,w,o,b,n,e,a,r   \n",
       "2  _________,_________,_____e___,_____e___,_____e...  s,e,p,k,r,n,t,o,q,b,a,d   \n",
       "3  _________,____b____,____b____,____b____,____b_...    b,z,q,n,c,r,k,o,e,w,a   \n",
       "4  _________,_________,_____e___,_____e___,_____e...          s,e,d,l,x,h,a,i   \n",
       "\n",
       "  game_state difficulty outcome  word_length    won  \n",
       "0  allMasked       easy     win            9   True  \n",
       "1  allMasked       easy    lose            9   True  \n",
       "2  allMasked     medium     win            9  False  \n",
       "3  allMasked     medium    lose            9   True  \n",
       "4  allMasked       hard     win            9  False  "
      ]
     },
     "execution_count": 15,
     "metadata": {},
     "output_type": "execute_result"
    }
   ],
   "source": [
    "import pandas as pd\n",
    "\n",
    "# # Replace this with the path to your Parquet file\n",
    "# parquet_file_path = 'path/to/your/HangmanData.parquet'\n",
    "\n",
    "# Read the Parquet file\n",
    "df = pd.read_parquet(parquet_file_path)\n",
    "\n",
    "# Display the first few rows of the DataFrame\n",
    "df.head()"
   ]
  },
  {
   "cell_type": "code",
   "execution_count": 16,
   "id": "b3a8c199",
   "metadata": {},
   "outputs": [
    {
     "name": "stdout",
     "output_type": "stream",
     "text": [
      "Total number of games in the dataset: 2100726\n",
      "game_id            0\n",
      "word               0\n",
      "initial_state      0\n",
      "final_state        0\n",
      "guessed_states     0\n",
      "guessed_letters    0\n",
      "game_state         0\n",
      "difficulty         0\n",
      "outcome            0\n",
      "word_length        0\n",
      "won                0\n",
      "dtype: int64\n",
      "            game_id   word_length\n",
      "count  2.100726e+06  2.100726e+06\n",
      "mean   1.050364e+06  9.353329e+00\n",
      "std    6.064275e+05  2.991878e+00\n",
      "min    1.000000e+00  1.000000e+00\n",
      "25%    5.251822e+05  7.000000e+00\n",
      "50%    1.050364e+06  9.000000e+00\n",
      "75%    1.575545e+06  1.100000e+01\n",
      "max    2.100726e+06  2.900000e+01\n",
      "Number of unique words: 50021\n",
      "outcome\n",
      "win     1050363\n",
      "lose    1050363\n",
      "Name: count, dtype: int64\n",
      "difficulty\n",
      "easy      700242\n",
      "medium    700242\n",
      "hard      700242\n",
      "Name: count, dtype: int64\n"
     ]
    }
   ],
   "source": [
    "# Get the total number of rows (games) in the DataFrame\n",
    "total_games = len(df)\n",
    "\n",
    "print(f\"Total number of games in the dataset: {total_games}\")\n",
    "\n",
    "# Additional checks you might want to perform:\n",
    "# - Check for any null values or anomalies in the data\n",
    "print(df.isnull().sum())\n",
    "\n",
    "# - Get a summary of the DataFrame\n",
    "print(df.describe())\n",
    "\n",
    "# - Count the number of unique words or game states\n",
    "unique_words = df['word'].nunique()\n",
    "print(f\"Number of unique words: {unique_words}\")\n",
    "\n",
    "# - Inspect the distribution of game outcomes, difficulties, etc.\n",
    "print(df['outcome'].value_counts())\n",
    "print(df['difficulty'].value_counts())\n"
   ]
  },
  {
   "cell_type": "markdown",
   "id": "5d1057e0",
   "metadata": {},
   "source": [
    "##### Reading Checking"
   ]
  },
  {
   "cell_type": "code",
   "execution_count": 17,
   "id": "c04a076a",
   "metadata": {},
   "outputs": [],
   "source": [
    "import os\n",
    "from sklearn.model_selection import train_test_split\n",
    "\n",
    "# Assuming the HangmanDataset class is already defined as above\n",
    "\n",
    "def split_dataset(directory, test_size=0.20, random_state=42):\n",
    "    # Get the list of all parquet files\n",
    "    parquet_files = sorted([f for f in os.listdir(directory) if f.endswith('.parquet')])\n",
    "\n",
    "    # Split the list of files\n",
    "    train_files, valid_files = train_test_split(parquet_files, \\\n",
    "        test_size=test_size, random_state=random_state)\n",
    "\n",
    "    # Construct the full path for each file\n",
    "    train_files = [os.path.join(directory, f) for f in train_files]\n",
    "    valid_files = [os.path.join(directory, f) for f in valid_files]\n",
    "\n",
    "    return train_files, valid_files\n",
    "\n",
    "# # Directory containing the dataset\n",
    "# parquet_file_path = '/media/sayem/510B93E12554BBD1/dataset/250000/parquets'\n",
    "\n",
    "# Split the dataset\n",
    "train_files, valid_files = split_dataset(parquet_file_path)\n",
    "\n",
    "# Create dataset instances\n",
    "train_dataset = HangmanDataset(train_files)\n",
    "valid_dataset = HangmanDataset(valid_files)"
   ]
  },
  {
   "cell_type": "code",
   "execution_count": 18,
   "id": "a575e3eb",
   "metadata": {},
   "outputs": [
    {
     "data": {
      "text/plain": [
       "{'game_id': 588001,\n",
       " 'word': 'ultramicrometer',\n",
       " 'initial_state': ['_______________'],\n",
       " 'final_state': 'ultramicrometer',\n",
       " 'guessed_states': ['_______________',\n",
       "  '______i________',\n",
       "  '______i________',\n",
       "  '___r__i_r_____r',\n",
       "  '___r__i_r__e_er',\n",
       "  '___r__i_r__e_er',\n",
       "  'u__r__i_r__e_er',\n",
       "  'ul_r__i_r__e_er',\n",
       "  'ul_ra_i_r__e_er',\n",
       "  'ultra_i_r__eter',\n",
       "  'ultra_i_ro_eter',\n",
       "  'ultra_icro_eter'],\n",
       " 'guessed_letters': ['i',\n",
       "  'y',\n",
       "  'r',\n",
       "  'e',\n",
       "  'p',\n",
       "  'u',\n",
       "  'l',\n",
       "  'a',\n",
       "  't',\n",
       "  'o',\n",
       "  'c',\n",
       "  'm'],\n",
       " 'game_state': 'allMasked',\n",
       " 'difficulty': 'easy',\n",
       " 'outcome': 'win',\n",
       " 'word_length': 15,\n",
       " 'won': False}"
      ]
     },
     "execution_count": 18,
     "metadata": {},
     "output_type": "execute_result"
    }
   ],
   "source": [
    "train_dataset[0]"
   ]
  },
  {
   "cell_type": "code",
   "execution_count": 19,
   "id": "9fc7f82a",
   "metadata": {},
   "outputs": [
    {
     "data": {
      "text/plain": [
       "1638726"
      ]
     },
     "execution_count": 19,
     "metadata": {},
     "output_type": "execute_result"
    }
   ],
   "source": [
    "len(train_dataset)"
   ]
  },
  {
   "cell_type": "code",
   "execution_count": 20,
   "id": "452b23e5",
   "metadata": {},
   "outputs": [],
   "source": [
    "# Assuming hangman_dataset is already loaded and its total size is known\n",
    "total_size = len(train_dataset)\n",
    "last_element_index = total_size - 1\n",
    "\n",
    "# Access the last element\n",
    "last_data = train_dataset[last_element_index]"
   ]
  },
  {
   "cell_type": "code",
   "execution_count": 21,
   "id": "250ec069",
   "metadata": {},
   "outputs": [
    {
     "data": {
      "text/plain": [
       "{'game_id': 1260000,\n",
       " 'word': 'sickishness',\n",
       " 'initial_state': ['_icki_hne__'],\n",
       " 'final_state': 'sickishness',\n",
       " 'guessed_states': ['_icki_hne__', '_icki_hne__'],\n",
       " 'guessed_letters': ['q', 's'],\n",
       " 'game_state': 'nearEnd',\n",
       " 'difficulty': 'hard',\n",
       " 'outcome': 'lose',\n",
       " 'word_length': 11,\n",
       " 'won': False}"
      ]
     },
     "execution_count": 21,
     "metadata": {},
     "output_type": "execute_result"
    }
   ],
   "source": [
    "last_data"
   ]
  }
 ],
 "metadata": {
  "kernelspec": {
   "display_name": "optiver",
   "language": "python",
   "name": "python3"
  },
  "language_info": {
   "codemirror_mode": {
    "name": "ipython",
    "version": 3
   },
   "file_extension": ".py",
   "mimetype": "text/x-python",
   "name": "python",
   "nbconvert_exporter": "python",
   "pygments_lexer": "ipython3",
   "version": "3.10.13"
  },
  "papermill": {
   "default_parameters": {},
   "duration": null,
   "end_time": null,
   "environment_variables": {},
   "exception": null,
   "input_path": "/home/sayem/Desktop/Hangman/1_a_dataset_generation.ipynb",
   "output_path": "/home/sayem/Desktop/Hangman/1_a_dataset_generation.ipynb",
   "parameters": {},
   "start_time": "2023-11-24T22:23:41.671735",
   "version": "2.5.0"
  }
 },
 "nbformat": 4,
 "nbformat_minor": 5
}
