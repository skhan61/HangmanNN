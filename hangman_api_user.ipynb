{
 "cells": [
  {
   "cell_type": "markdown",
   "metadata": {},
   "source": [
    "# Trexquant Interview Project (The Hangman Game)\n",
    "\n",
    "* Copyright Trexquant Investment LP. All Rights Reserved. \n",
    "* Redistribution of this question without written consent from Trexquant is prohibited"
   ]
  },
  {
   "cell_type": "markdown",
   "metadata": {},
   "source": [
    "## Instruction:\n",
    "For this coding test, your mission is to write an algorithm that plays the game of Hangman through our API server. \n",
    "\n",
    "When a user plays Hangman, the server first selects a secret word at random from a list. The server then returns a row of underscores (space separated)—one for each letter in the secret word—and asks the user to guess a letter. If the user guesses a letter that is in the word, the word is redisplayed with all instances of that letter shown in the correct positions, along with any letters correctly guessed on previous turns. If the letter does not appear in the word, the user is charged with an incorrect guess. The user keeps guessing letters until either (1) the user has correctly guessed all the letters in the word\n",
    "or (2) the user has made six incorrect guesses.\n",
    "\n",
    "You are required to write a \"guess\" function that takes current word (with underscores) as input and returns a guess letter. You will use the API codes below to play 1,000 Hangman games. You have the opportunity to practice before you want to start recording your game results.\n",
    "\n",
    "Your algorithm is permitted to use a training set of approximately 250,000 dictionary words. Your algorithm will be tested on an entirely disjoint set of 250,000 dictionary words. Please note that this means the words that you will ultimately be tested on do NOT appear in the dictionary that you are given. You are not permitted to use any dictionary other than the training dictionary we provided. This requirement will be strictly enforced by code review.\n",
    "\n",
    "You are provided with a basic, working algorithm. This algorithm will match the provided masked string (e.g. a _ _ l e) to all possible words in the dictionary, tabulate the frequency of letters appearing in these possible words, and then guess the letter with the highest frequency of appearence that has not already been guessed. If there are no remaining words that match then it will default back to the character frequency distribution of the entire dictionary.\n",
    "\n",
    "This benchmark strategy is successful approximately 18% of the time. Your task is to design an algorithm that significantly outperforms this benchmark."
   ]
  },
  {
   "cell_type": "code",
   "execution_count": 1,
   "metadata": {
    "jupyter": {
     "outputs_hidden": true
    },
    "scrolled": true
   },
   "outputs": [],
   "source": [
    "import json\n",
    "import requests\n",
    "import random\n",
    "import string\n",
    "import secrets\n",
    "import time\n",
    "import re\n",
    "import collections\n",
    "\n",
    "try:\n",
    "    from urllib.parse import parse_qs, urlencode, urlparse\n",
    "except ImportError:\n",
    "    from urlparse import parse_qs, urlparse\n",
    "    from urllib import urlencode\n",
    "\n",
    "from requests.packages.urllib3.exceptions import InsecureRequestWarning\n",
    "\n",
    "requests.packages.urllib3.disable_warnings(InsecureRequestWarning)"
   ]
  },
  {
   "cell_type": "code",
   "execution_count": 2,
   "metadata": {},
   "outputs": [],
   "source": [
    "import sys\n",
    "import torch\n",
    "# Custom library paths\n",
    "sys.path.extend(['../', './scr'])\n",
    "\n",
    "# Device configuration\n",
    "device = torch.device(\"cuda\" if torch.cuda.is_available() else \"cpu\")"
   ]
  },
  {
   "cell_type": "code",
   "execution_count": 3,
   "metadata": {
    "jupyter": {
     "outputs_hidden": true
    }
   },
   "outputs": [],
   "source": [
    "import requests\n",
    "import collections\n",
    "import time\n",
    "# # from scr.game import predict_next_character\n",
    "# from scr.simple_model import SimpleLSTM  # Assuming RNN is defined in this module\n",
    "# from scr.base_model import BaseModel  # Import the ModelCheckpointManager\n",
    "# from collections import Counter\n",
    "from scr.guess import guess_character\n",
    "\n",
    "# model_class = SimpleLSTM\n",
    "\n",
    "# # Device configuration\n",
    "# device = torch.device(\"cuda\" if torch.cuda.is_available() else \"cpu\")\n",
    "\n",
    "# print(device)\n",
    "\n",
    "def get_access_token_from_file(file_path):\n",
    "    with open(file_path, 'r') as file:\n",
    "        return file.readline().strip()\n",
    "\n",
    "# Read the access token from file\n",
    "access_token = get_access_token_from_file(\"hangman_api_creds.txt\")\n",
    "\n",
    "from pathlib import Path\n",
    "import torch\n",
    "\n",
    "# # Assuming the saved model file is 'models/model.pth'\n",
    "# model_file_path = 'models/model.pth'\n",
    "\n",
    "# # Specify the device to load the model onto\n",
    "# device = torch.device(\"cuda\" if torch.cuda.is_available() else \"cpu\")\n",
    "\n",
    "# # Load the model\n",
    "# loaded_model = BaseModel.load_model(SimpleLSTM, model_file_path)\n",
    "\n",
    "class HangmanAPI(object):\n",
    "    def __init__(self, model, access_token=access_token, session=None, timeout=2000):\n",
    "\n",
    "        self.access_token = access_token\n",
    "        self.timeout = timeout\n",
    "\n",
    "        self.hangman_url = self.determine_hangman_url()\n",
    "        self.access_token = access_token\n",
    "        self.session = session or requests.Session()\n",
    "        self.timeout = timeout\n",
    "        self.guessed_letters = []\n",
    "        # self.repetitive_pred_counter = Counter()\n",
    "        # self.device = device\n",
    "\n",
    "        # print(self.device)\n",
    "\n",
    "        full_dictionary_location = \"data/words_250000_train.txt\"\n",
    "        self.full_dictionary = self.build_dictionary(full_dictionary_location)\n",
    "        self.char_frequency = collections.Counter(\"\".join(self.full_dictionary))\n",
    "\n",
    "        self.max_word_length = len(max(self.full_dictionary, key=len))\n",
    "        self.model = model\n",
    "\n",
    "    @staticmethod\n",
    "    def determine_hangman_url():\n",
    "        links = ['https://trexsim.com', 'https://sg.trexsim.com']\n",
    "        data = {link: 0 for link in links}\n",
    "        for link in links:\n",
    "            for _ in range(10):\n",
    "                start_time = time.time()\n",
    "                requests.get(link)\n",
    "                data[link] += time.time() - start_time\n",
    "        link = sorted(data.items(), key=lambda x: x[1])[0][0]\n",
    "        return f'{link}/trexsim/hangman'\n",
    "\n",
    "    def build_dictionary(self, file_location):\n",
    "        with open(file_location, 'r') as file:\n",
    "            return [line.strip() for line in file]\n",
    "\n",
    "    # def load_model_once(self, model_class, model_path):\n",
    "    #     return BaseModel.load_model(model_class, model_path)\n",
    "\n",
    "        # word == state here\n",
    "    def guess(self, word):\n",
    "        cleaned_word = \"\".join(char.lower()\n",
    "                            for char in word if char.isalpha() or char == '_')\n",
    "        # print(cleaned_word)\n",
    "\n",
    "        # Predict the next character using the updated guess_character function\n",
    "        guessed_char = guess_character(\n",
    "            self.model, cleaned_word,\n",
    "            self.char_frequency,\n",
    "            self.max_word_length,\n",
    "            self.guessed_letters  # Pass the list of guessed letters\n",
    "        )\n",
    "\n",
    "        # guessed_char =  get_random_character()\n",
    "\n",
    "        # Add the new guess to the guessed letters list\n",
    "        if guessed_char not in self.guessed_letters:\n",
    "            self.guessed_letters.append(guessed_char)\n",
    "\n",
    "        return guessed_char\n",
    "\n",
    "\n",
    "\n",
    "    # def guess(self, word):\n",
    "    #     cleaned_word = \"\".join(char.lower() for char in word if \\\n",
    "    #         char.isalpha() or char == '_')\n",
    "\n",
    "    #     # print(self.loaded_model)\n",
    "\n",
    "    #     # print(f'device before guess: ', device)\n",
    "\n",
    "    #     # Predict the next character using the updated guess_character function\n",
    "    #     guessed_char = guess_character(\n",
    "    #         self.loaded_model, cleaned_word,\n",
    "    #         self.char_frequency,\n",
    "    #         self.max_word_length,\n",
    "    #         device,\n",
    "    #         self.guessed_letters  # Pass the list of guessed letters\n",
    "    #     )\n",
    "\n",
    "    #     # Add the new guess to the guessed letters list\n",
    "    #     if guessed_char not in self.guessed_letters:\n",
    "    #         self.guessed_letters.append(guessed_char)\n",
    "        \n",
    "    #     return guessed_char\n",
    "\n",
    "    ##########################################################\n",
    "    # You'll likely not need to modify any of the code below #\n",
    "    ##########################################################\n",
    "    \n",
    "    def build_dictionary(self, dictionary_file_location):\n",
    "        text_file = open(dictionary_file_location,\"r\")\n",
    "        full_dictionary = text_file.read().splitlines()\n",
    "        text_file.close()\n",
    "        return full_dictionary\n",
    "                \n",
    "    def start_game(self, practice=True, verbose=True):\n",
    "        # reset guessed letters to empty set and current plausible dictionary to the full dictionary\n",
    "        self.guessed_letters = []\n",
    "        self.current_dictionary = self.full_dictionary\n",
    "                         \n",
    "        response = self.request(\"/new_game\", {\"practice\":practice})\n",
    "        if response.get('status')==\"approved\":\n",
    "            game_id = response.get('game_id')\n",
    "            word = response.get('word')\n",
    "            # print(word)\n",
    "            tries_remains = response.get('tries_remains')\n",
    "            if verbose:\n",
    "                print(\"Successfully start a new game! Game ID: {0}. # of tries remaining: {1}. Word: {2}.\".format(game_id, \\\n",
    "                tries_remains, word))\n",
    "            \n",
    "            while tries_remains>0:\n",
    "                # get guessed letter from user code\n",
    "                guess_letter = self.guess(word)\n",
    "                    \n",
    "                # append guessed letter to guessed letters field in hangman object\n",
    "                self.guessed_letters.append(guess_letter)\n",
    "\n",
    "                if verbose:\n",
    "                    print(\"Guessing letter: {0}\".format(guess_letter))\n",
    "                    \n",
    "                try:    \n",
    "                    res = self.request(\"/guess_letter\", {\"request\":\"guess_letter\", \\\n",
    "                        \"game_id\":game_id, \"letter\":guess_letter})\n",
    "                except HangmanAPIError:\n",
    "                    print('HangmanAPIError exception caught on request.')\n",
    "                    continue\n",
    "                except Exception as e:\n",
    "                    print('Other exception caught on request.')\n",
    "                    raise e\n",
    "               \n",
    "                if verbose:\n",
    "                    print(\"Sever response: {0}\".format(res))\n",
    "                    \n",
    "                status = res.get('status')\n",
    "                tries_remains = res.get('tries_remains')\n",
    "\n",
    "                if status==\"success\":\n",
    "                    if verbose:\n",
    "                        print(\"Successfully finished game: {0}\".format(game_id))\n",
    "                    return True\n",
    "                elif status==\"failed\":\n",
    "                    reason = res.get('reason', '# of tries exceeded!')\n",
    "                    if verbose:\n",
    "                        print(\"Failed game: {0}. Because of: {1}\".format(game_id, reason))\n",
    "                    return False\n",
    "                elif status==\"ongoing\":\n",
    "                    word = res.get('word')\n",
    "        else:\n",
    "            if verbose:\n",
    "                print(\"Failed to start a new game\")\n",
    "        return status==\"success\"\n",
    "        \n",
    "    def my_status(self):\n",
    "        return self.request(\"/my_status\", {})\n",
    "    \n",
    "    def request(\n",
    "            self, path, args=None, post_args=None, method=None):\n",
    "        if args is None:\n",
    "            args = dict()\n",
    "        if post_args is not None:\n",
    "            method = \"POST\"\n",
    "\n",
    "        # Add `access_token` to post_args or args if it has not already been\n",
    "        # included.\n",
    "        if self.access_token:\n",
    "            # If post_args exists, we assume that args either does not exists\n",
    "            # or it does not need `access_token`.\n",
    "            if post_args and \"access_token\" not in post_args:\n",
    "                post_args[\"access_token\"] = self.access_token\n",
    "            elif \"access_token\" not in args:\n",
    "                args[\"access_token\"] = self.access_token\n",
    "\n",
    "        time.sleep(0.2)\n",
    "\n",
    "        num_retry, time_sleep = 50, 2\n",
    "        for it in range(num_retry):\n",
    "            try:\n",
    "                response = self.session.request(\n",
    "                    method or \"GET\",\n",
    "                    self.hangman_url + path,\n",
    "                    timeout=self.timeout,\n",
    "                    params=args,\n",
    "                    data=post_args,\n",
    "                    verify=False\n",
    "                )\n",
    "                break\n",
    "            except requests.HTTPError as e:\n",
    "                response = json.loads(e.read())\n",
    "                raise HangmanAPIError(response)\n",
    "            except requests.exceptions.SSLError as e:\n",
    "                if it + 1 == num_retry:\n",
    "                    raise\n",
    "                time.sleep(time_sleep)\n",
    "\n",
    "        headers = response.headers\n",
    "        if 'json' in headers['content-type']:\n",
    "            result = response.json()\n",
    "        elif \"access_token\" in parse_qs(response.text):\n",
    "            query_str = parse_qs(response.text)\n",
    "            if \"access_token\" in query_str:\n",
    "                result = {\"access_token\": query_str[\"access_token\"][0]}\n",
    "                if \"expires\" in query_str:\n",
    "                    result[\"expires\"] = query_str[\"expires\"][0]\n",
    "            else:\n",
    "                raise HangmanAPIError(response.json())\n",
    "        else:\n",
    "            raise HangmanAPIError('Maintype was not text, or querystring')\n",
    "\n",
    "        if result and isinstance(result, dict) and result.get(\"error\"):\n",
    "            raise HangmanAPIError(result)\n",
    "        return result\n",
    "    \n",
    "class HangmanAPIError(Exception):\n",
    "    def __init__(self, result):\n",
    "        self.result = result\n",
    "        self.code = None\n",
    "        try:\n",
    "            self.type = result[\"error_code\"]\n",
    "        except (KeyError, TypeError):\n",
    "            self.type = \"\"\n",
    "\n",
    "        try:\n",
    "            self.message = result[\"error_description\"]\n",
    "        except (KeyError, TypeError):\n",
    "            try:\n",
    "                self.message = result[\"error\"][\"message\"]\n",
    "                self.code = result[\"error\"].get(\"code\")\n",
    "                if not self.type:\n",
    "                    self.type = result[\"error\"].get(\"type\", \"\")\n",
    "            except (KeyError, TypeError):\n",
    "                try:\n",
    "                    self.message = result[\"error_msg\"]\n",
    "                except (KeyError, TypeError):\n",
    "                    self.message = result\n",
    "\n",
    "        Exception.__init__(self, self.message)"
   ]
  },
  {
   "cell_type": "markdown",
   "metadata": {},
   "source": [
    "# API Usage Examples"
   ]
  },
  {
   "cell_type": "markdown",
   "metadata": {},
   "source": [
    "## To start a new game:\n",
    "1. Make sure you have implemented your own \"guess\" method.\n",
    "2. Use the access_token that we sent you to create your HangmanAPI object. \n",
    "3. Start a game by calling \"start_game\" method.\n",
    "4. If you wish to test your function without being recorded, set \"practice\" parameter to 1.\n",
    "5. Note: You have a rate limit of 20 new games per minute. DO NOT start more than 20 new games within one minute."
   ]
  },
  {
   "cell_type": "code",
   "execution_count": 4,
   "metadata": {},
   "outputs": [],
   "source": [
    "# # Device configuration\n",
    "# device = torch.device(\"cuda\" if torch.cuda.is_available() else \"cpu\")\n",
    "# Define the path for saving the entire LSTM model object\n",
    "# Create a 'models' directory within the base directory\n",
    "models_dir = Path('./models')\n",
    "models_dir.mkdir(exist_ok=True)\n",
    "\n",
    "torch_model_save_path = models_dir / 'full_simple_lstm_model.pth'\n",
    "\n",
    "# Load the entire LSTM model object\n",
    "model = torch.load(torch_model_save_path)\n",
    "\n",
    "# If you want to use the model for inference\n",
    "model.eval()  # Set the model to evaluation mode\n",
    "\n",
    "# Create an instance of HangmanAPI\n",
    "api = HangmanAPI(model, access_token, timeout=2000)"
   ]
  },
  {
   "cell_type": "code",
   "execution_count": 5,
   "metadata": {
    "jupyter": {
     "outputs_hidden": true
    }
   },
   "outputs": [],
   "source": [
    "# api = HangmanAPI(access_token=access_token, timeout=2000)"
   ]
  },
  {
   "cell_type": "markdown",
   "metadata": {},
   "source": [
    "## Playing practice games:\n",
    "You can use the command below to play up to 100,000 practice games."
   ]
  },
  {
   "cell_type": "code",
   "execution_count": 6,
   "metadata": {
    "jupyter": {
     "outputs_hidden": true
    },
    "scrolled": true
   },
   "outputs": [
    {
     "name": "stdout",
     "output_type": "stream",
     "text": [
      "Successfully start a new game! Game ID: 70cd8c4cf608. # of tries remaining: 6. Word: _ _ _ _ _ _ _ _ _ _ _ _ .\n",
      "Guessing letter: e\n",
      "Sever response: {'game_id': '70cd8c4cf608', 'status': 'ongoing', 'tries_remains': 6, 'word': '_ e _ e _ _ _ _ _ _ _ _ '}\n",
      "Guessing letter: s\n",
      "Sever response: {'game_id': '70cd8c4cf608', 'status': 'ongoing', 'tries_remains': 6, 'word': '_ e _ e _ _ _ _ _ _ _ s '}\n",
      "Guessing letter: d\n",
      "Sever response: {'game_id': '70cd8c4cf608', 'status': 'ongoing', 'tries_remains': 5, 'word': '_ e _ e _ _ _ _ _ _ _ s '}\n",
      "Guessing letter: o\n",
      "Sever response: {'game_id': '70cd8c4cf608', 'status': 'ongoing', 'tries_remains': 5, 'word': '_ e _ e _ o _ o _ o _ s '}\n",
      "Guessing letter: t\n",
      "Sever response: {'game_id': '70cd8c4cf608', 'status': 'ongoing', 'tries_remains': 5, 'word': '_ e t e _ o _ o _ o _ s '}\n",
      "Guessing letter: u\n",
      "Sever response: {'game_id': '70cd8c4cf608', 'status': 'ongoing', 'tries_remains': 5, 'word': '_ e t e _ o _ o _ o u s '}\n",
      "Guessing letter: a\n",
      "Sever response: {'game_id': '70cd8c4cf608', 'status': 'ongoing', 'tries_remains': 4, 'word': '_ e t e _ o _ o _ o u s '}\n",
      "Guessing letter: k\n",
      "Sever response: {'game_id': '70cd8c4cf608', 'status': 'ongoing', 'tries_remains': 3, 'word': '_ e t e _ o _ o _ o u s '}\n",
      "Guessing letter: l\n",
      "Sever response: {'game_id': '70cd8c4cf608', 'status': 'ongoing', 'tries_remains': 3, 'word': '_ e t e _ o l o _ o u s '}\n",
      "Guessing letter: v\n",
      "Sever response: {'game_id': '70cd8c4cf608', 'status': 'ongoing', 'tries_remains': 2, 'word': '_ e t e _ o l o _ o u s '}\n",
      "Guessing letter: m\n",
      "Sever response: {'game_id': '70cd8c4cf608', 'status': 'ongoing', 'tries_remains': 1, 'word': '_ e t e _ o l o _ o u s '}\n",
      "Guessing letter: n\n",
      "Sever response: {'game_id': '70cd8c4cf608', 'status': 'failed', 'tries_remains': 0, 'word': '_ e t e _ o l o _ o u s '}\n",
      "Failed game: 70cd8c4cf608. Because of: # of tries exceeded!\n",
      "run 98 practice games out of an allotted 100,000. practice success rate so far = 0.031\n"
     ]
    }
   ],
   "source": [
    "api.start_game(practice=1,verbose=True)\n",
    "[total_practice_runs,total_recorded_runs,total_recorded_successes,total_practice_successes] = api.my_status() # Get my game stats: (# of tries, # of wins)\n",
    "practice_success_rate = total_practice_successes / total_practice_runs\n",
    "print('run %d practice games out of an allotted 100,000. practice success rate so far = %.3f' % (total_practice_runs, practice_success_rate))"
   ]
  },
  {
   "cell_type": "code",
   "execution_count": 7,
   "metadata": {},
   "outputs": [],
   "source": [
    "# for i in range(1000):\n",
    "#     print('Playing', i, 'th game')\n",
    "#     success = api.start_game(practice=1, verbose=True)\n",
    "#     if success:\n",
    "#         print(\"Won the game!\")\n",
    "#     else:\n",
    "#         print(\"Lost the game!\")\n",
    "#     time.sleep(0.5)  # DO NOT REMOVE\n",
    "\n",
    "# [total_practice_runs, total_recorded_runs, total_recorded_successes, total_practice_successes] = api.my_status() # Get my game stats: (# of tries, # of wins)\n",
    "# practice_success_rate = total_practice_successes / total_practice_runs\n",
    "# print('Ran %d practice games out of an allotted 100,000. Practice success rate so far = %.3f' % (total_practice_runs, practice_success_rate))"
   ]
  },
  {
   "cell_type": "code",
   "execution_count": 8,
   "metadata": {},
   "outputs": [
    {
     "ename": "NameError",
     "evalue": "name 'STOP' is not defined",
     "output_type": "error",
     "traceback": [
      "\u001b[0;31m---------------------------------------------------------------------------\u001b[0m",
      "\u001b[0;31mNameError\u001b[0m                                 Traceback (most recent call last)",
      "Cell \u001b[0;32mIn[8], line 1\u001b[0m\n\u001b[0;32m----> 1\u001b[0m \u001b[43mSTOP\u001b[49m\n",
      "\u001b[0;31mNameError\u001b[0m: name 'STOP' is not defined"
     ]
    }
   ],
   "source": [
    "STOP"
   ]
  },
  {
   "cell_type": "markdown",
   "metadata": {},
   "source": [
    "## Playing recorded games:\n",
    "Please finalize your code prior to running the cell below. Once this code executes once successfully your submission will be finalized. Our system will not allow you to rerun any additional games.\n",
    "\n",
    "Please note that it is expected that after you successfully run this block of code that subsequent runs will result in the error message \"Your account has been deactivated\".\n",
    "\n",
    "Once you've run this section of the code your submission is complete. Please send us your source code via email."
   ]
  },
  {
   "cell_type": "code",
   "execution_count": null,
   "metadata": {
    "jupyter": {
     "outputs_hidden": true
    }
   },
   "outputs": [],
   "source": [
    "# for i in range(1000):\n",
    "#     print('Playing ', i, ' th game')\n",
    "#     # Uncomment the following line to execute your final runs. Do not do this until you are satisfied with your submission\n",
    "#     #api.start_game(practice=0,verbose=False)\n",
    "    \n",
    "#     # DO NOT REMOVE as otherwise the server may lock you out for too high frequency of requests\n",
    "#     time.sleep(0.5)"
   ]
  },
  {
   "cell_type": "code",
   "execution_count": null,
   "metadata": {
    "jupyter": {
     "outputs_hidden": true
    }
   },
   "outputs": [],
   "source": []
  },
  {
   "cell_type": "markdown",
   "metadata": {},
   "source": [
    "## To check your game statistics\n",
    "1. Simply use \"my_status\" method.\n",
    "2. Returns your total number of games, and number of wins."
   ]
  },
  {
   "cell_type": "code",
   "execution_count": null,
   "metadata": {
    "jupyter": {
     "outputs_hidden": true
    }
   },
   "outputs": [],
   "source": [
    "# [total_practice_runs,total_recorded_runs,total_recorded_successes,total_practice_successes] = api.my_status() # Get my game stats: (# of tries, # of wins)\n",
    "# success_rate = total_recorded_successes/total_recorded_runs\n",
    "# print('overall success rate = %.3f' % success_rate)"
   ]
  },
  {
   "cell_type": "code",
   "execution_count": null,
   "metadata": {
    "jupyter": {
     "outputs_hidden": true
    }
   },
   "outputs": [],
   "source": []
  }
 ],
 "metadata": {
  "kernelspec": {
   "display_name": "Python 3",
   "language": "python",
   "name": "python3"
  },
  "language_info": {
   "codemirror_mode": {
    "name": "ipython",
    "version": 3
   },
   "file_extension": ".py",
   "mimetype": "text/x-python",
   "name": "python",
   "nbconvert_exporter": "python",
   "pygments_lexer": "ipython3",
   "version": "3.10.13"
  }
 },
 "nbformat": 4,
 "nbformat_minor": 4
}
