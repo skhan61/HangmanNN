{
 "cells": [
  {
   "cell_type": "markdown",
   "metadata": {},
   "source": [
    "##### Imports"
   ]
  },
  {
   "cell_type": "code",
   "execution_count": 1,
   "metadata": {},
   "outputs": [],
   "source": [
    "import sys\n",
    "from pathlib import Path\n",
    "import warnings\n",
    "\n",
    "import warnings\n",
    "import pandas as pd\n",
    "warnings.filterwarnings('ignore')\n",
    "\n",
    "pd.set_option('display.max_columns', 1000)\n",
    "pd.set_option('display.max_rows', 1000)\n",
    "\n",
    "import sys\n",
    "# Custom library paths\n",
    "sys.path.extend(['../', './scr'])\n",
    "\n",
    "from scr.utils import set_seed\n",
    "from scr.utils import read_words\n",
    "from pathlib import Path\n",
    "import random\n",
    "from collections import Counter, defaultdict\n",
    "import pickle\n",
    "from tqdm import tqdm\n",
    "from torch.utils.data import Dataset\n",
    "\n",
    "from scr.utils import read_words, save_words_to_file\n",
    "\n",
    "import pickle\n",
    "from pathlib import Path\n",
    "from scr.dataset import *\n",
    "from scr.utils import *\n",
    "# # For inference\n",
    "from scr.feature_engineering import *\n",
    "\n",
    "import gc\n",
    "\n",
    "set_seed(42)\n",
    "\n",
    "import torch\n",
    "import torch.nn as nn\n",
    "from pathlib import Path\n",
    "import random\n",
    "\n",
    "from scr.utils import print_scenarios\n",
    "torch.set_float32_matmul_precision('medium')\n",
    "from pathlib import Path\n",
    "\n",
    "# Device configuration\n",
    "device = torch.device(\"cuda\" if torch.cuda.is_available() else \"cpu\")\n",
    "\n",
    "# # Read and Shuffle Word List\n",
    "word_list = read_words('data/words_250000_train.txt') # , limit=10000)\n",
    "# word_list = read_words('data/250k.txt', limit=10000)\n",
    "\n",
    "random.shuffle(word_list)\n",
    "\n",
    "# Calculate Frequencies and Max Word Length\n",
    "word_frequencies = calculate_word_frequencies(word_list)\n",
    "char_frequency = calculate_char_frequencies(word_list)\n",
    "max_word_length = max(len(word) for word in word_list)"
   ]
  },
  {
   "cell_type": "markdown",
   "metadata": {},
   "source": [
    "##### Data Dir"
   ]
  },
  {
   "cell_type": "code",
   "execution_count": 2,
   "metadata": {},
   "outputs": [],
   "source": [
    "NUM_STRATIFIED_SAMPLES = 1_000 # This will be overwritten by Papermill\n",
    "\n",
    "NUM_WORD_SAMPLE = 20_000 # words for testing\n",
    "\n",
    "FAST_DEV_RUN = False\n",
    "\n",
    "MAX_EPOCH = 15"
   ]
  },
  {
   "cell_type": "code",
   "execution_count": 3,
   "metadata": {},
   "outputs": [],
   "source": [
    "# Define the base directory and the paths for training and validation parquet files\n",
    "base_dataset_dir = Path(\"/media/sayem/510B93E12554BBD1/dataset/\")\n",
    "stratified_samples_dir = base_dataset_dir / str(NUM_STRATIFIED_SAMPLES)\n",
    "parquet_train_path = stratified_samples_dir / 'train_parquets'\n",
    "parquet_valid_path = stratified_samples_dir / 'valid_parquets'\n",
    "\n",
    "# Define and create the directory for models\n",
    "models_dir = Path(\"/home/sayem/Desktop/Hangman/models\")\n",
    "models_dir.mkdir(parents=True, exist_ok=True)\n",
    "\n",
    "test_data = Path(\"/home/sayem/Desktop/Hangman/data/20k.txt\")\n",
    "\n",
    "testing_word_list = read_words(test_data)"
   ]
  },
  {
   "cell_type": "code",
   "execution_count": 4,
   "metadata": {},
   "outputs": [
    {
     "name": "stdout",
     "output_type": "stream",
     "text": [
      "Sampled 20000 unique words for testing.\n"
     ]
    }
   ],
   "source": [
    "try:\n",
    "    testing_word_list = read_words(test_data)\n",
    "    sampled_test_words = sample_words(testing_word_list, NUM_WORD_SAMPLE)\n",
    "    print(f\"Sampled {len(sampled_test_words)} unique words for testing.\")\n",
    "except FileNotFoundError:\n",
    "    print(f\"File not found: {test_words_file_path}\")"
   ]
  },
  {
   "cell_type": "markdown",
   "metadata": {},
   "source": [
    "##### Model Building"
   ]
  },
  {
   "cell_type": "markdown",
   "metadata": {},
   "source": [
    "##### Dataset Loading and train-test split"
   ]
  },
  {
   "cell_type": "code",
   "execution_count": 5,
   "metadata": {},
   "outputs": [],
   "source": [
    "# Create datasets directly from the saved parquet files\n",
    "train_dataset = HangmanDataset(parquet_train_path)\n",
    "valid_dataset = HangmanDataset(parquet_valid_path)"
   ]
  },
  {
   "cell_type": "code",
   "execution_count": 6,
   "metadata": {},
   "outputs": [
    {
     "name": "stdout",
     "output_type": "stream",
     "text": [
      "36588\n",
      "9150\n"
     ]
    }
   ],
   "source": [
    "print(len(train_dataset))\n",
    "print(len(valid_dataset))\n",
    "\n",
    "assert len(train_dataset) > len(valid_dataset)"
   ]
  },
  {
   "cell_type": "code",
   "execution_count": 7,
   "metadata": {},
   "outputs": [
    {
     "name": "stdout",
     "output_type": "stream",
     "text": [
      "Model saved at /home/sayem/Desktop/Hangman/models/1000_untrained_model.pth\n"
     ]
    }
   ],
   "source": [
    "# Usage\n",
    "from scr.model import *\n",
    "from scr.trainer import *\n",
    "\n",
    "lstm_model = SimpleLSTM(input_dim=145, hidden_dim=256, output_dim=28, \n",
    "                                num_layers=2, missed_char_dim=28)\n",
    "\n",
    "# Save the model's state dictionary\n",
    "model_file = models_dir / f\"{NUM_STRATIFIED_SAMPLES}_untrained_model.pth\"\n",
    "torch.save(lstm_model, model_file)\n",
    "print(f\"Model saved at {model_file}\")"
   ]
  },
  {
   "cell_type": "markdown",
   "metadata": {},
   "source": [
    "##### Data Loaders"
   ]
  },
  {
   "cell_type": "code",
   "execution_count": 8,
   "metadata": {},
   "outputs": [],
   "source": [
    "train_loader = DataLoader(train_dataset, batch_size=512, \n",
    "                          collate_fn=custom_collate_fn, \n",
    "                          shuffle=True, \n",
    "                          num_workers=15,  # Adjust based on your system\n",
    "                          prefetch_factor=2)  # Adjust based on your needs\n",
    "                          \n",
    "val_loader = DataLoader(valid_dataset, batch_size=512, \n",
    "                          collate_fn=custom_collate_fn, \n",
    "                          shuffle=True, \n",
    "                          num_workers=15,  # Adjust based on your system\n",
    "                          prefetch_factor=2)  # Adjust based on your needs"
   ]
  },
  {
   "cell_type": "code",
   "execution_count": 9,
   "metadata": {},
   "outputs": [],
   "source": [
    "learning_rate = 0.01\n",
    "\n",
    "lightning_model = HangmanModel(lstm_model, learning_rate, char_frequency, \n",
    "                               max_word_length, test_words=sampled_test_words)"
   ]
  },
  {
   "cell_type": "markdown",
   "metadata": {},
   "source": [
    "##### Testing on Untrained Model"
   ]
  },
  {
   "cell_type": "code",
   "execution_count": 11,
   "metadata": {},
   "outputs": [
    {
     "name": "stderr",
     "output_type": "stream",
     "text": [
      "GPU available: True (cuda), used: True\n",
      "TPU available: False, using: 0 TPU cores\n",
      "IPU available: False, using: 0 IPUs\n",
      "HPU available: False, using: 0 HPUs\n",
      "LOCAL_RANK: 0 - CUDA_VISIBLE_DEVICES: [0]\n"
     ]
    },
    {
     "data": {
      "application/vnd.jupyter.widget-view+json": {
       "model_id": "544c2fd60a844f17823ea7c0680abe87",
       "version_major": 2,
       "version_minor": 0
      },
      "text/plain": [
       "Validation: |          | 0/? [00:00<?, ?it/s]"
      ]
     },
     "metadata": {},
     "output_type": "display_data"
    },
    {
     "name": "stderr",
     "output_type": "stream",
     "text": [
      "Processing words: 100%|██████████| 20000/20000 [01:25<00:00, 232.77word/s]\n",
      "Processing words: 100%|██████████| 20000/20000 [01:17<00:00, 259.29word/s]\n",
      "Processing words: 100%|██████████| 20000/20000 [01:17<00:00, 257.65word/s]\n",
      "Processing words: 100%|██████████| 20000/20000 [01:17<00:00, 258.57word/s]\n",
      "Processing words: 100%|██████████| 20000/20000 [01:15<00:00, 265.40word/s]\n",
      "Processing words: 100%|██████████| 20000/20000 [01:15<00:00, 263.58word/s]\n",
      "Processing words: 100%|██████████| 20000/20000 [01:15<00:00, 265.23word/s]\n",
      "Processing words: 100%|██████████| 20000/20000 [01:16<00:00, 260.14word/s]\n",
      "Processing words: 100%|██████████| 20000/20000 [01:17<00:00, 256.82word/s]\n",
      "Processing words: 100%|██████████| 20000/20000 [01:18<00:00, 255.38word/s]\n",
      "Processing words: 100%|██████████| 20000/20000 [01:17<00:00, 258.43word/s]\n",
      "Processing words: 100%|██████████| 20000/20000 [01:15<00:00, 265.85word/s]\n",
      "Processing words: 100%|██████████| 20000/20000 [01:15<00:00, 265.52word/s]\n",
      "Processing words: 100%|██████████| 20000/20000 [01:14<00:00, 267.59word/s]\n",
      "Processing words: 100%|██████████| 20000/20000 [01:14<00:00, 268.63word/s]\n",
      "Processing words: 100%|██████████| 20000/20000 [01:15<00:00, 264.15word/s]\n",
      "Processing words: 100%|██████████| 20000/20000 [01:15<00:00, 263.32word/s]\n",
      "Processing words: 100%|██████████| 20000/20000 [01:16<00:00, 262.08word/s]\n",
      "LOCAL_RANK: 0 - CUDA_VISIBLE_DEVICES: [0]\n",
      "\n",
      "  | Name  | Type       | Params\n",
      "-------------------------------------\n",
      "0 | model | SimpleLSTM | 2.4 M \n",
      "-------------------------------------\n",
      "2.4 M     Trainable params\n",
      "0         Non-trainable params\n",
      "2.4 M     Total params\n",
      "9.725     Total estimated model params size (MB)\n"
     ]
    },
    {
     "name": "stdout",
     "output_type": "stream",
     "text": [
      "Epoch 0: Validation Loss: 0.07781682908535004, Miss Penalty: 0.05623424053192139, Win Rate: 0.7250001430511475\n",
      "────────────────────────────────────────────────────────────────────────────────────────────────────────────────────────\n",
      "     Validate metric           DataLoader 0\n",
      "────────────────────────────────────────────────────────────────────────────────────────────────────────────────────────\n",
      "      test_win_rate         0.7250001430511475\n",
      "     val_loss_epoch         0.07781682908535004\n",
      " val_miss_penalty_epoch     0.05623424053192139\n",
      "────────────────────────────────────────────────────────────────────────────────────────────────────────────────────────\n"
     ]
    },
    {
     "data": {
      "application/vnd.jupyter.widget-view+json": {
       "model_id": "998282e2d8434b4ea3ac078083b06bd1",
       "version_major": 2,
       "version_minor": 0
      },
      "text/plain": [
       "Sanity Checking: |          | 0/? [00:00<?, ?it/s]"
      ]
     },
     "metadata": {},
     "output_type": "display_data"
    },
    {
     "name": "stderr",
     "output_type": "stream",
     "text": [
      "Processing words: 100%|██████████| 20000/20000 [01:31<00:00, 219.22word/s]\n",
      "Processing words: 100%|██████████| 20000/20000 [01:24<00:00, 238.00word/s]"
     ]
    },
    {
     "name": "stdout",
     "output_type": "stream",
     "text": [
      "Epoch 0: Validation Loss: 0.07819022983312607, Miss Penalty: 0.05665992200374603, Win Rate: 0.7250000238418579\n"
     ]
    },
    {
     "name": "stderr",
     "output_type": "stream",
     "text": [
      "\n"
     ]
    },
    {
     "data": {
      "application/vnd.jupyter.widget-view+json": {
       "model_id": "7bbc15c5435c4185a63af8f5519aa0b2",
       "version_major": 2,
       "version_minor": 0
      },
      "text/plain": [
       "Training: |          | 0/? [00:00<?, ?it/s]"
      ]
     },
     "metadata": {},
     "output_type": "display_data"
    }
   ],
   "source": [
    "from pytorch_lightning.profilers import SimpleProfiler\n",
    "from pathlib import Path\n",
    "import torch\n",
    "import pytorch_lightning as pl\n",
    "from scr.custom_callbacks import *\n",
    "\n",
    "# Create a PyTorch Lightning trainer and train the model\n",
    "profiler = SimpleProfiler()\n",
    "\n",
    "# # Create the callbacks\n",
    "loss_logging_callback = LossLoggingCallback()\n",
    "\n",
    "callbacks=[early_stop_callback, loss_logging_callback]\n",
    "\n",
    "# Create a PyTorch Lightning trainer with the callbacks\n",
    "profiler = SimpleProfiler()\n",
    "\n",
    "trainer = pl.Trainer(\n",
    "    fast_dev_run=FAST_DEV_RUN, \n",
    "    max_epochs=MAX_EPOCH, \n",
    "    callbacks=callbacks\n",
    ")\n",
    "\n",
    "trainer.validate(model=lightning_model, dataloaders=val_loader)\n",
    "\n",
    "trainer.fit(lightning_model, train_loader, val_loader)\n",
    "# print(profiler.summary())\n",
    "\n",
    "# Save the model's state dictionary \n",
    "trained_model_file = models_dir / f\"{NUM_STRATIFIED_SAMPLES}_trained_model.pth\"\n",
    "torch.save(lstm_model, trained_model_file)\n",
    "print(f\"Model saved at {trained_model_file}\")"
   ]
  },
  {
   "cell_type": "markdown",
   "metadata": {},
   "source": [
    "##### Testing"
   ]
  },
  {
   "cell_type": "code",
   "execution_count": null,
   "metadata": {},
   "outputs": [],
   "source": [
    "# Load the entire LSTM model object\n",
    "trained_model_file_path = models_dir / f\"{NUM_STRATIFIED_SAMPLES}_trained_model.pth\"\n",
    "trained_model = torch.load(trained_model_file_path)\n",
    "\n",
    "# If you want to use the model for inference\n",
    "trained_model.eval()  # Set the model to evaluation mode\n",
    "\n",
    "from scr.game import *\n",
    "\n",
    "word = 'may'\n",
    "\n",
    "play_game_with_a_word(trained_model, \\\n",
    "    word, char_frequency, max_word_length)"
   ]
  },
  {
   "cell_type": "code",
   "execution_count": null,
   "metadata": {},
   "outputs": [],
   "source": [
    "NUM_STRATIFIED_SAMPLES"
   ]
  },
  {
   "cell_type": "code",
   "execution_count": null,
   "metadata": {},
   "outputs": [],
   "source": [
    "# Example usage\n",
    "result = play_games_and_calculate_stats(trained_model, \\\n",
    "    sampled_test_words, char_frequency, max_word_length)\n",
    "\n",
    "print(f\"Overall Win Rate: {result['overall_win_rate']}%, Overall Average Attempts: {result['overall_avg_attempts']}\")\n",
    "\n",
    "for length, data in result[\"length_wise_stats\"].items():\n",
    "    print(f\"Length {length}: Win Rate: {data['win_rate']}%, Average Attempts: {data['average_attempts_used']}\")"
   ]
  }
 ],
 "metadata": {
  "kernelspec": {
   "display_name": "optiver",
   "language": "python",
   "name": "python3"
  },
  "language_info": {
   "codemirror_mode": {
    "name": "ipython",
    "version": 3
   },
   "file_extension": ".py",
   "mimetype": "text/x-python",
   "name": "python",
   "nbconvert_exporter": "python",
   "pygments_lexer": "ipython3",
   "version": "3.10.13"
  }
 },
 "nbformat": 4,
 "nbformat_minor": 2
}
